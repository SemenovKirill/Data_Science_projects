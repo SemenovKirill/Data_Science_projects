{
 "cells": [
  {
   "cell_type": "markdown",
   "metadata": {},
   "source": [
    "# Отток клиентов банка"
   ]
  },
  {
   "cell_type": "markdown",
   "metadata": {
    "toc": true
   },
   "source": [
    "<h1>Содержание<span class=\"tocSkip\"></span></h1>\n",
    "<div class=\"toc\"><ul class=\"toc-item\"><li><span><a href=\"#Первый-взгляд\" data-toc-modified-id=\"Первый-взгляд-1\"><span class=\"toc-item-num\">1&nbsp;&nbsp;</span>Первый взгляд</a></span><ul class=\"toc-item\"><li><span><a href=\"#Вывод\" data-toc-modified-id=\"Вывод-1.1\"><span class=\"toc-item-num\">1.1&nbsp;&nbsp;</span>Вывод</a></span></li></ul></li><li><span><a href=\"#Подготовка-данных\" data-toc-modified-id=\"Подготовка-данных-2\"><span class=\"toc-item-num\">2&nbsp;&nbsp;</span>Подготовка данных</a></span><ul class=\"toc-item\"><li><span><a href=\"#Предобработка\" data-toc-modified-id=\"Предобработка-2.1\"><span class=\"toc-item-num\">2.1&nbsp;&nbsp;</span>Предобработка</a></span></li><li><span><a href=\"#One-Hot-Encoding\" data-toc-modified-id=\"One-Hot-Encoding-2.2\"><span class=\"toc-item-num\">2.2&nbsp;&nbsp;</span>One-Hot Encoding</a></span></li><li><span><a href=\"#Разделение-на-выборки\" data-toc-modified-id=\"Разделение-на-выборки-2.3\"><span class=\"toc-item-num\">2.3&nbsp;&nbsp;</span>Разделение на выборки</a></span></li></ul></li><li><span><a href=\"#Исследование-моделей-(без-учёта-дисбаланса-классов)\" data-toc-modified-id=\"Исследование-моделей-(без-учёта-дисбаланса-классов)-3\"><span class=\"toc-item-num\">3&nbsp;&nbsp;</span>Исследование моделей (без учёта дисбаланса классов)</a></span><ul class=\"toc-item\"><li><span><a href=\"#Решающее-дерево\" data-toc-modified-id=\"Решающее-дерево-3.1\"><span class=\"toc-item-num\">3.1&nbsp;&nbsp;</span>Решающее дерево</a></span></li><li><span><a href=\"#Случайный-лес\" data-toc-modified-id=\"Случайный-лес-3.2\"><span class=\"toc-item-num\">3.2&nbsp;&nbsp;</span>Случайный лес</a></span></li><li><span><a href=\"#Логистическая-регрессия\" data-toc-modified-id=\"Логистическая-регрессия-3.3\"><span class=\"toc-item-num\">3.3&nbsp;&nbsp;</span>Логистическая регрессия</a></span></li><li><span><a href=\"#Вывод\" data-toc-modified-id=\"Вывод-3.4\"><span class=\"toc-item-num\">3.4&nbsp;&nbsp;</span>Вывод</a></span></li></ul></li><li><span><a href=\"#Исследование-моделей-(с-учётом-дисбаланса-классов)\" data-toc-modified-id=\"Исследование-моделей-(с-учётом-дисбаланса-классов)-4\"><span class=\"toc-item-num\">4&nbsp;&nbsp;</span>Исследование моделей (с учётом дисбаланса классов)</a></span><ul class=\"toc-item\"><li><span><a href=\"#Решающее-дерево\" data-toc-modified-id=\"Решающее-дерево-4.1\"><span class=\"toc-item-num\">4.1&nbsp;&nbsp;</span>Решающее дерево</a></span></li><li><span><a href=\"#Случайный-лес\" data-toc-modified-id=\"Случайный-лес-4.2\"><span class=\"toc-item-num\">4.2&nbsp;&nbsp;</span>Случайный лес</a></span></li><li><span><a href=\"#Логистическая-регрессия\" data-toc-modified-id=\"Логистическая-регрессия-4.3\"><span class=\"toc-item-num\">4.3&nbsp;&nbsp;</span>Логистическая регрессия</a></span></li><li><span><a href=\"#Вывод\" data-toc-modified-id=\"Вывод-4.4\"><span class=\"toc-item-num\">4.4&nbsp;&nbsp;</span>Вывод</a></span></li></ul></li><li><span><a href=\"#Upsampling\" data-toc-modified-id=\"Upsampling-5\"><span class=\"toc-item-num\">5&nbsp;&nbsp;</span>Upsampling</a></span><ul class=\"toc-item\"><li><span><a href=\"#Решающее-дерево\" data-toc-modified-id=\"Решающее-дерево-5.1\"><span class=\"toc-item-num\">5.1&nbsp;&nbsp;</span>Решающее дерево</a></span></li><li><span><a href=\"#Случайный-лес\" data-toc-modified-id=\"Случайный-лес-5.2\"><span class=\"toc-item-num\">5.2&nbsp;&nbsp;</span>Случайный лес</a></span></li><li><span><a href=\"#Логистическая-регрессия\" data-toc-modified-id=\"Логистическая-регрессия-5.3\"><span class=\"toc-item-num\">5.3&nbsp;&nbsp;</span>Логистическая регрессия</a></span></li><li><span><a href=\"#Вывод\" data-toc-modified-id=\"Вывод-5.4\"><span class=\"toc-item-num\">5.4&nbsp;&nbsp;</span>Вывод</a></span></li></ul></li><li><span><a href=\"#Downsampling\" data-toc-modified-id=\"Downsampling-6\"><span class=\"toc-item-num\">6&nbsp;&nbsp;</span>Downsampling</a></span><ul class=\"toc-item\"><li><span><a href=\"#Решающее-дерево\" data-toc-modified-id=\"Решающее-дерево-6.1\"><span class=\"toc-item-num\">6.1&nbsp;&nbsp;</span>Решающее дерево</a></span></li><li><span><a href=\"#Случайный-лес\" data-toc-modified-id=\"Случайный-лес-6.2\"><span class=\"toc-item-num\">6.2&nbsp;&nbsp;</span>Случайный лес</a></span></li><li><span><a href=\"#Логистическая-регрессия\" data-toc-modified-id=\"Логистическая-регрессия-6.3\"><span class=\"toc-item-num\">6.3&nbsp;&nbsp;</span>Логистическая регрессия</a></span></li><li><span><a href=\"#Вывод\" data-toc-modified-id=\"Вывод-6.4\"><span class=\"toc-item-num\">6.4&nbsp;&nbsp;</span>Вывод</a></span></li></ul></li><li><span><a href=\"#Проверка-моделей-на-тестовой-выборке\" data-toc-modified-id=\"Проверка-моделей-на-тестовой-выборке-7\"><span class=\"toc-item-num\">7&nbsp;&nbsp;</span>Проверка моделей на тестовой выборке</a></span><ul class=\"toc-item\"><li><span><a href=\"#Решающее-дерево\" data-toc-modified-id=\"Решающее-дерево-7.1\"><span class=\"toc-item-num\">7.1&nbsp;&nbsp;</span>Решающее дерево</a></span></li><li><span><a href=\"#Случайный-лес\" data-toc-modified-id=\"Случайный-лес-7.2\"><span class=\"toc-item-num\">7.2&nbsp;&nbsp;</span>Случайный лес</a></span></li><li><span><a href=\"#Логистическая-регрессия\" data-toc-modified-id=\"Логистическая-регрессия-7.3\"><span class=\"toc-item-num\">7.3&nbsp;&nbsp;</span>Логистическая регрессия</a></span></li><li><span><a href=\"#Вывод\" data-toc-modified-id=\"Вывод-7.4\"><span class=\"toc-item-num\">7.4&nbsp;&nbsp;</span>Вывод</a></span></li></ul></li><li><span><a href=\"#Общий-вывод\" data-toc-modified-id=\"Общий-вывод-8\"><span class=\"toc-item-num\">8&nbsp;&nbsp;</span>Общий вывод</a></span></li></ul></div>"
   ]
  },
  {
   "cell_type": "markdown",
   "metadata": {},
   "source": [
    "## Первый взгляд"
   ]
  },
  {
   "cell_type": "code",
   "execution_count": 1,
   "metadata": {},
   "outputs": [],
   "source": [
    "import pandas as pd\n",
    "import matplotlib.pyplot as plt\n",
    "from sklearn.model_selection import train_test_split\n",
    "from sklearn.metrics import f1_score, roc_auc_score, accuracy_score, recall_score\n",
    "from sklearn.tree import DecisionTreeClassifier\n",
    "from sklearn.ensemble import RandomForestClassifier\n",
    "from sklearn.linear_model import LogisticRegression\n",
    "from sklearn.preprocessing import StandardScaler\n",
    "import warnings\n",
    "from sklearn.utils import shuffle\n",
    "import numpy as np"
   ]
  },
  {
   "cell_type": "code",
   "execution_count": 40,
   "metadata": {
    "scrolled": false
   },
   "outputs": [
    {
     "name": "stdout",
     "output_type": "stream",
     "text": [
      "<class 'pandas.core.frame.DataFrame'>\n",
      "RangeIndex: 10000 entries, 0 to 9999\n",
      "Data columns (total 14 columns):\n",
      "RowNumber          10000 non-null int64\n",
      "CustomerId         10000 non-null int64\n",
      "Surname            10000 non-null object\n",
      "CreditScore        10000 non-null int64\n",
      "Geography          10000 non-null object\n",
      "Gender             10000 non-null object\n",
      "Age                10000 non-null int64\n",
      "Tenure             9091 non-null float64\n",
      "Balance            10000 non-null float64\n",
      "NumOfProducts      10000 non-null int64\n",
      "HasCrCard          10000 non-null int64\n",
      "IsActiveMember     10000 non-null int64\n",
      "EstimatedSalary    10000 non-null float64\n",
      "Exited             10000 non-null int64\n",
      "dtypes: float64(3), int64(8), object(3)\n",
      "memory usage: 1.1+ MB\n"
     ]
    }
   ],
   "source": [
    "df = pd.read_csv('/datasets/Churn.csv')\n",
    "df.info()\n",
    "df.head()\n",
    "warnings.filterwarnings('ignore')"
   ]
  },
  {
   "cell_type": "markdown",
   "metadata": {},
   "source": [
    "- RowNumber — индекс строки в данных\n",
    "- CustomerId — уникальный идентификатор клиента\n",
    "- Surname — фамилия\n",
    "- CreditScore — кредитный рейтинг\n",
    "- Geography — страна проживания\n",
    "- Gender — пол\n",
    "- Age — возраст\n",
    "- Tenure — сколько лет человек является клиентом банка\n",
    "- Balance — баланс на счёте\n",
    "- NumOfProducts — количество продуктов банка, используемых клиентом\n",
    "- HasCrCard — наличие кредитной карты\n",
    "- IsActiveMember — активность клиента\n",
    "- EstimatedSalary — предполагаемая зарплата\n",
    "- Exited — факт ухода клиента (целевой признак)"
   ]
  },
  {
   "cell_type": "code",
   "execution_count": 41,
   "metadata": {},
   "outputs": [
    {
     "data": {
      "image/png": "[encoded data removed]",
      "text/plain": [
       "<Figure size 936x936 with 9 Axes>"
      ]
     },
     "metadata": {
      "needs_background": "light"
     },
     "output_type": "display_data"
    }
   ],
   "source": [
    "list = [['CreditScore', 'Age', 'Tenure'], \n",
    "        ['Balance', 'NumOfProducts', 'HasCrCard'],\n",
    "        ['IsActiveMember', 'EstimatedSalary', 'Exited']]\n",
    "\n",
    "fig, axes = plt.subplots(3, 3, figsize=(13,13))\n",
    "\n",
    "for i in range(3):\n",
    "    for y in range(3):\n",
    "        axes[i][y].hist(df[list[i][y]], bins=30)\n",
    "        axes[i][y].set_xlabel(list[i][y])\n",
    "        \n",
    "plt.show()"
   ]
  },
  {
   "cell_type": "markdown",
   "metadata": {},
   "source": [
    "### Вывод "
   ]
  },
  {
   "cell_type": "markdown",
   "metadata": {},
   "source": [
    "Исходные данные представляют собой одну таблицу на 14 столбцов. Типы данных в столбцах указаны корректно, пропуски есть только в одном столбце - Tenure. Оценка гистограмм показала, что в столбцах CreditScore и Balance есть пики, сильно выбивающиеся из общего распределения: на отметке 850 в столбце CreditScore и на отметке 0 в столбце Balance. Это может быть просто большое количество клиентов, которые не пользуются своим счётом в банке или же заработали высший бал в кредитном рейтинге, а может быть и ошибка в исходных данных. Стоит уточнить этот момент у источника данных.  \n",
    "Также можно заметить сильный дисбаланс в значениях целевого признака (столбец Exited): количество клиентов, проолжающих пользоваться услугами банка, в 4 раза превышает количество ушедших. Это стоит учитывать при обучении модели. Любопытно, что количество активных и неактивных клиентов делится примерно поровну (столбец IsActiveMember) - вполне возможно, что 2000 ушедших человек далеко не предел.\n"
   ]
  },
  {
   "cell_type": "markdown",
   "metadata": {},
   "source": [
    "## Подготовка данных  "
   ]
  },
  {
   "cell_type": "markdown",
   "metadata": {},
   "source": [
    "### Предобработка "
   ]
  },
  {
   "cell_type": "markdown",
   "metadata": {},
   "source": [
    "В первую очередь упростим дальнейшую работу - приведём названия столбцов к одному регистру. К сожалению, делать это придётся вручную, так как необходимо разделить слова с помощью нижних подчёркиваний:"
   ]
  },
  {
   "cell_type": "code",
   "execution_count": 42,
   "metadata": {},
   "outputs": [],
   "source": [
    "df.columns = ['row_number', 'customer_id', 'surname', 'credit_score', 'geography',\n",
    "       'gender', 'age', 'tenure', 'balance', 'num_of_products', 'has_cr_card',\n",
    "       'is_active_member', 'estimated_salary', 'exited']"
   ]
  },
  {
   "cell_type": "markdown",
   "metadata": {},
   "source": [
    "Проведём проверку на дубликаты, прежде чем заниматься пропущенными значениями столбца tenure. Если они есть, то могут повлиять на значение среднего или медианы:"
   ]
  },
  {
   "cell_type": "code",
   "execution_count": 43,
   "metadata": {},
   "outputs": [
    {
     "data": {
      "text/plain": [
       "0"
      ]
     },
     "execution_count": 43,
     "metadata": {},
     "output_type": "execute_result"
    }
   ],
   "source": [
    "df.duplicated().sum()"
   ]
  },
  {
   "cell_type": "code",
   "execution_count": 44,
   "metadata": {},
   "outputs": [
    {
     "data": {
      "text/plain": [
       "count    9091.000000\n",
       "mean        4.997690\n",
       "std         2.894723\n",
       "min         0.000000\n",
       "25%         2.000000\n",
       "50%         5.000000\n",
       "75%         7.000000\n",
       "max        10.000000\n",
       "Name: tenure, dtype: float64"
      ]
     },
     "execution_count": 44,
     "metadata": {},
     "output_type": "execute_result"
    }
   ],
   "source": [
    "df['tenure'].describe()"
   ]
  },
  {
   "cell_type": "code",
   "execution_count": 45,
   "metadata": {},
   "outputs": [
    {
     "data": {
      "image/png": "[encoded data removed]",
      "text/plain": [
       "<Figure size 720x360 with 2 Axes>"
      ]
     },
     "metadata": {
      "needs_background": "light"
     },
     "output_type": "display_data"
    },
    {
     "name": "stdout",
     "output_type": "stream",
     "text": [
      "Пропусков осталось: 0\n"
     ]
    }
   ],
   "source": [
    "fig, ax = plt.subplots(1, 2, figsize=(10,5))\n",
    "ax[0].hist(df['tenure'], bins=30)\n",
    "ax[0].set_xlabel('tenure до заполнения пропусков')\n",
    "#df['tenure'] = df['tenure'].fillna(df['tenure'].median())\n",
    "df.loc[df['tenure'].isna() == True, 'tenure'] = [np.random.randint(0,10) for i in range(df['tenure'].isna().sum())]\n",
    "ax[1].hist(df['tenure'], bins=30)\n",
    "ax[1].set_xlabel('tenure после заполнения пропусков')\n",
    "plt.show()\n",
    "print('Пропусков осталось:', df['tenure'].isna().sum())"
   ]
  },
  {
   "cell_type": "markdown",
   "metadata": {},
   "source": [
    "Для работы моделей необходимо отсутствие пропусков в данных. Выбросить 909 строк было бы некорректно, это достаточно большой объём данных, поэтому заменим их случайными значениями - так мы меньше всего изменим форму распределения."
   ]
  },
  {
   "cell_type": "markdown",
   "metadata": {},
   "source": [
    "### One-Hot Encoding"
   ]
  },
  {
   "cell_type": "markdown",
   "metadata": {},
   "source": [
    "Среди всех исходных данных есть два категориальных признака, которые нам будут полезны - geography и gender. Чтобы стало возможным работать с ними в дальнейшем, необходимо воспользоваться техникой прямого кодирования и заменить текстовые значения на числовые. Для начала проверим, нет ли ошибок в значениях этих столбцов:"
   ]
  },
  {
   "cell_type": "code",
   "execution_count": 46,
   "metadata": {},
   "outputs": [
    {
     "data": {
      "text/plain": [
       "France     5014\n",
       "Germany    2509\n",
       "Spain      2477\n",
       "Name: geography, dtype: int64"
      ]
     },
     "execution_count": 46,
     "metadata": {},
     "output_type": "execute_result"
    }
   ],
   "source": [
    "df['geography'].value_counts()"
   ]
  },
  {
   "cell_type": "code",
   "execution_count": 47,
   "metadata": {},
   "outputs": [
    {
     "data": {
      "text/plain": [
       "Male      5457\n",
       "Female    4543\n",
       "Name: gender, dtype: int64"
      ]
     },
     "execution_count": 47,
     "metadata": {},
     "output_type": "execute_result"
    }
   ],
   "source": [
    "df['gender'].value_counts()"
   ]
  },
  {
   "cell_type": "markdown",
   "metadata": {},
   "source": [
    "Данные корректны, нет повторов или различных форм записи идентичных значений, значит можно приступать к кодированию:"
   ]
  },
  {
   "cell_type": "code",
   "execution_count": 48,
   "metadata": {},
   "outputs": [
    {
     "name": "stdout",
     "output_type": "stream",
     "text": [
      "Index(['row_number', 'customer_id', 'surname', 'credit_score', 'age', 'tenure',\n",
      "       'balance', 'num_of_products', 'has_cr_card', 'is_active_member',\n",
      "       'estimated_salary', 'exited', 'germany', 'spain', 'male'],\n",
      "      dtype='object')\n"
     ]
    },
    {
     "data": {
      "text/html": [
       "<div>\n",
       "<style scoped>\n",
       "    .dataframe tbody tr th:only-of-type {\n",
       "        vertical-align: middle;\n",
       "    }\n",
       "\n",
       "    .dataframe tbody tr th {\n",
       "        vertical-align: top;\n",
       "    }\n",
       "\n",
       "    .dataframe thead th {\n",
       "        text-align: right;\n",
       "    }\n",
       "</style>\n",
       "<table border=\"1\" class=\"dataframe\">\n",
       "  <thead>\n",
       "    <tr style=\"text-align: right;\">\n",
       "      <th></th>\n",
       "      <th>row_number</th>\n",
       "      <th>customer_id</th>\n",
       "      <th>surname</th>\n",
       "      <th>credit_score</th>\n",
       "      <th>age</th>\n",
       "      <th>tenure</th>\n",
       "      <th>balance</th>\n",
       "      <th>num_of_products</th>\n",
       "      <th>has_cr_card</th>\n",
       "      <th>is_active_member</th>\n",
       "      <th>estimated_salary</th>\n",
       "      <th>exited</th>\n",
       "      <th>germany</th>\n",
       "      <th>spain</th>\n",
       "      <th>male</th>\n",
       "    </tr>\n",
       "  </thead>\n",
       "  <tbody>\n",
       "    <tr>\n",
       "      <td>0</td>\n",
       "      <td>1</td>\n",
       "      <td>15634602</td>\n",
       "      <td>Hargrave</td>\n",
       "      <td>619</td>\n",
       "      <td>42</td>\n",
       "      <td>2.0</td>\n",
       "      <td>0.00</td>\n",
       "      <td>1</td>\n",
       "      <td>1</td>\n",
       "      <td>1</td>\n",
       "      <td>101348.88</td>\n",
       "      <td>1</td>\n",
       "      <td>0</td>\n",
       "      <td>0</td>\n",
       "      <td>0</td>\n",
       "    </tr>\n",
       "    <tr>\n",
       "      <td>1</td>\n",
       "      <td>2</td>\n",
       "      <td>15647311</td>\n",
       "      <td>Hill</td>\n",
       "      <td>608</td>\n",
       "      <td>41</td>\n",
       "      <td>1.0</td>\n",
       "      <td>83807.86</td>\n",
       "      <td>1</td>\n",
       "      <td>0</td>\n",
       "      <td>1</td>\n",
       "      <td>112542.58</td>\n",
       "      <td>0</td>\n",
       "      <td>0</td>\n",
       "      <td>1</td>\n",
       "      <td>0</td>\n",
       "    </tr>\n",
       "    <tr>\n",
       "      <td>2</td>\n",
       "      <td>3</td>\n",
       "      <td>15619304</td>\n",
       "      <td>Onio</td>\n",
       "      <td>502</td>\n",
       "      <td>42</td>\n",
       "      <td>8.0</td>\n",
       "      <td>159660.80</td>\n",
       "      <td>3</td>\n",
       "      <td>1</td>\n",
       "      <td>0</td>\n",
       "      <td>113931.57</td>\n",
       "      <td>1</td>\n",
       "      <td>0</td>\n",
       "      <td>0</td>\n",
       "      <td>0</td>\n",
       "    </tr>\n",
       "    <tr>\n",
       "      <td>3</td>\n",
       "      <td>4</td>\n",
       "      <td>15701354</td>\n",
       "      <td>Boni</td>\n",
       "      <td>699</td>\n",
       "      <td>39</td>\n",
       "      <td>1.0</td>\n",
       "      <td>0.00</td>\n",
       "      <td>2</td>\n",
       "      <td>0</td>\n",
       "      <td>0</td>\n",
       "      <td>93826.63</td>\n",
       "      <td>0</td>\n",
       "      <td>0</td>\n",
       "      <td>0</td>\n",
       "      <td>0</td>\n",
       "    </tr>\n",
       "    <tr>\n",
       "      <td>4</td>\n",
       "      <td>5</td>\n",
       "      <td>15737888</td>\n",
       "      <td>Mitchell</td>\n",
       "      <td>850</td>\n",
       "      <td>43</td>\n",
       "      <td>2.0</td>\n",
       "      <td>125510.82</td>\n",
       "      <td>1</td>\n",
       "      <td>1</td>\n",
       "      <td>1</td>\n",
       "      <td>79084.10</td>\n",
       "      <td>0</td>\n",
       "      <td>0</td>\n",
       "      <td>1</td>\n",
       "      <td>0</td>\n",
       "    </tr>\n",
       "  </tbody>\n",
       "</table>\n",
       "</div>"
      ],
      "text/plain": [
       "   row_number  customer_id   surname  credit_score  age  tenure    balance  \\\n",
       "0           1     15634602  Hargrave           619   42     2.0       0.00   \n",
       "1           2     15647311      Hill           608   41     1.0   83807.86   \n",
       "2           3     15619304      Onio           502   42     8.0  159660.80   \n",
       "3           4     15701354      Boni           699   39     1.0       0.00   \n",
       "4           5     15737888  Mitchell           850   43     2.0  125510.82   \n",
       "\n",
       "   num_of_products  has_cr_card  is_active_member  estimated_salary  exited  \\\n",
       "0                1            1                 1         101348.88       1   \n",
       "1                1            0                 1         112542.58       0   \n",
       "2                3            1                 0         113931.57       1   \n",
       "3                2            0                 0          93826.63       0   \n",
       "4                1            1                 1          79084.10       0   \n",
       "\n",
       "   germany  spain  male  \n",
       "0        0      0     0  \n",
       "1        0      1     0  \n",
       "2        0      0     0  \n",
       "3        0      0     0  \n",
       "4        0      1     0  "
      ]
     },
     "execution_count": 48,
     "metadata": {},
     "output_type": "execute_result"
    }
   ],
   "source": [
    "df = pd.concat((df.drop(['geography', 'gender'], axis=1), \n",
    "                     pd.get_dummies(df['geography'], drop_first=True), \n",
    "                     pd.get_dummies(df['gender'], drop_first=True)), axis=1)\n",
    "df.columns = df.columns.str.lower()\n",
    "print(df.columns)\n",
    "df.head()"
   ]
  },
  {
   "cell_type": "markdown",
   "metadata": {},
   "source": [
    "В результате к таблице было добавлено 3 новых столбца: germany, spain и male. В то же время изначалные столбцы, geography и gender, были удалены."
   ]
  },
  {
   "cell_type": "markdown",
   "metadata": {},
   "source": [
    "### Разделение на выборки "
   ]
  },
  {
   "cell_type": "markdown",
   "metadata": {},
   "source": [
    "Помимо целевого признака нам не пригодятся ещё три: row_number, customer_id и surname. В них хранятся значения, уникальные для каждого объекта - они никак не помогут сделать прогноз ухода из банка."
   ]
  },
  {
   "cell_type": "code",
   "execution_count": 49,
   "metadata": {},
   "outputs": [],
   "source": [
    "X = df.drop(['row_number', 'customer_id', 'surname', 'exited'], axis=1)\n",
    "y = df['exited']"
   ]
  },
  {
   "cell_type": "markdown",
   "metadata": {},
   "source": [
    "Теперь можно разделить данные на обучающую(70%), валидационную(15%) и тестовую выборки(15%), после чего вывести их размеры для проверки и заняться масштабированием данных. Оно необходимо, поскольку разница между значениями столбцов очень большая, и модель может направильно расставить приоритеты признаков:"
   ]
  },
  {
   "cell_type": "code",
   "execution_count": 50,
   "metadata": {},
   "outputs": [],
   "source": [
    "X_train, X_check, y_train, y_check = train_test_split(X, y, \n",
    "                                                      test_size=.3, \n",
    "                                                      random_state=123)\n",
    "X_valid, X_test, y_valid, y_test = train_test_split(X_check, y_check, \n",
    "                                                    test_size=.5, \n",
    "                                                    random_state=123)"
   ]
  },
  {
   "cell_type": "code",
   "execution_count": 51,
   "metadata": {},
   "outputs": [
    {
     "name": "stdout",
     "output_type": "stream",
     "text": [
      "Размеры выборок:\n",
      "X_train: (7000, 11)\n",
      "X_valid: (1500, 11)\n",
      "X_test: (1500, 11)\n",
      "y_train: (7000,)\n",
      "y_valid: (1500,)\n",
      "y_test: (1500,)\n"
     ]
    }
   ],
   "source": [
    "list = [[X_train, X_valid, X_test], \n",
    "        [y_train, y_valid, y_test], \n",
    "        ['X_train', 'X_valid', 'X_test'], \n",
    "        ['y_train', 'y_valid', 'y_test']]\n",
    "\n",
    "col = ['credit_score', 'age', 'tenure', 'balance', 'num_of_products', 'estimated_salary']\n",
    "scaler = StandardScaler()\n",
    "\n",
    "print(\"Размеры выборок:\")\n",
    "for i in range(2):\n",
    "    for y in range(3):\n",
    "        print(f\"{list[i+2][y]}: {list[i][y].shape}\")\n",
    "        if not bool(i):\n",
    "            list[i][y][col] = scaler.fit_transform(list[i][y][col])\n",
    "            pd.options.mode.chained_assignment = None"
   ]
  },
  {
   "cell_type": "markdown",
   "metadata": {},
   "source": [
    "Мы выполнили предобработку, закодировали категориальные признаки, произвели масштабирование признаков, разделили данные на обучающую и проверочные выборки. Теперь можно приступить к обучению моделей, для начала без учёта дисбаланса классов."
   ]
  },
  {
   "cell_type": "markdown",
   "metadata": {},
   "source": [
    "## Исследование моделей (без учёта дисбаланса классов)"
   ]
  },
  {
   "cell_type": "markdown",
   "metadata": {},
   "source": [
    "Обучим три модели, после чего проверим их на валидационной выборке и выведем на экран значение метрик F1 и AUC-ROC. Это позволит нам сравнить эффективность моделей, и выбрать ту, которую затем проверим на тестовой выборке. Заодно посмотрим, какая метрика лучше показывает качество модели."
   ]
  },
  {
   "cell_type": "markdown",
   "metadata": {},
   "source": [
    "### Решающее дерево "
   ]
  },
  {
   "cell_type": "code",
   "execution_count": 254,
   "metadata": {},
   "outputs": [],
   "source": [
    "def dtc (features_train, features_valid, target_train, target_valid, class_weight=None):\n",
    "    \n",
    "    best_score = 0\n",
    "    best_depth_dtc = 0\n",
    "    auc_roc = 0\n",
    "\n",
    "    for depth in range(1, 15):\n",
    "        model = DecisionTreeClassifier(max_depth=depth, random_state=123, class_weight=class_weight)\n",
    "        model.fit(features_train, target_train)\n",
    "        predictions = model.predict(features_valid)\n",
    "        f1 = f1_score(target_valid, predictions)\n",
    "        proba_valid = model.predict_proba(features_valid)\n",
    "        proba_one_valid = proba_valid[:, 1]\n",
    "        if f1 > best_score:\n",
    "            best_score = f1\n",
    "            best_depth_dtc = depth\n",
    "            auc_roc = roc_auc_score(target_valid, proba_one_valid)\n",
    "\n",
    "    print('Характеристики лучшей модели:\\n\\nГлубина дерева:', best_depth_dtc, \n",
    "          '\\nF1-score: {:.3f}'.format(best_score), \n",
    "          '\\nAUC-ROC: {: >6.3f}'.format(auc_roc))"
   ]
  },
  {
   "cell_type": "code",
   "execution_count": 257,
   "metadata": {
    "scrolled": true
   },
   "outputs": [
    {
     "name": "stdout",
     "output_type": "stream",
     "text": [
      "Характеристики лучшей модели:\n",
      "\n",
      "Глубина дерева: 7 \n",
      "F1-score: 0.598 \n",
      "AUC-ROC:  0.833\n"
     ]
    }
   ],
   "source": [
    "dtc(X_train, X_valid, y_train, y_valid)"
   ]
  },
  {
   "cell_type": "markdown",
   "metadata": {},
   "source": [
    "В цикле перебирается 15 моделей, с глубиной дерева от 1 до 15. На валидационной выборке лучше всего себя показала глубина дерева 7 - F1 составила 0.60, а AUC-ROC - 0.83."
   ]
  },
  {
   "cell_type": "markdown",
   "metadata": {},
   "source": [
    "### Случайный лес "
   ]
  },
  {
   "cell_type": "code",
   "execution_count": 255,
   "metadata": {},
   "outputs": [],
   "source": [
    "def rfc (features_train, features_valid, target_train, target_valid, class_weight=None):\n",
    "    \n",
    "    best_score = 0\n",
    "    best_depth_dtc = 0\n",
    "    auc_roc = 0\n",
    "    best_est = 0\n",
    "\n",
    "    for est in range(1, 50):\n",
    "        for depth in range(1, 15):\n",
    "            model = RandomForestClassifier(max_depth=depth, n_estimators=est, random_state=123)\n",
    "            model.fit(features_train, target_train)\n",
    "            predictions = model.predict(features_valid)\n",
    "            f1 = f1_score(target_valid, predictions)\n",
    "            proba_valid = model.predict_proba(features_valid)\n",
    "            proba_one_valid = proba_valid[:, 1]\n",
    "            if f1 > best_score:\n",
    "                best_score = f1\n",
    "                best_depth_dtc = depth\n",
    "                auc_roc = roc_auc_score(target_valid, proba_one_valid)\n",
    "                best_est = est\n",
    "\n",
    "    print('Характеристики лучшей модели:\\n\\nГлубина дерева:', best_depth_rfc,\n",
    "          '\\nКоличество деревьев:', best_est, \n",
    "          '\\nF1-score: {:.3f}'.format(best_score), \n",
    "          '\\nAUC-ROC: {: >6.3f}'.format(auc_roc))"
   ]
  },
  {
   "cell_type": "code",
   "execution_count": 199,
   "metadata": {},
   "outputs": [
    {
     "name": "stdout",
     "output_type": "stream",
     "text": [
      "Характеристики лучшей модели:\n",
      "\n",
      "Глубина дерева: 14 \n",
      "Количество деревьев: 39 \n",
      "F1-score: 0.610 \n",
      "AUC-ROC: 0.861\n"
     ]
    }
   ],
   "source": [
    "rfc(X_train, X_valid, y_train, y_valid)"
   ]
  },
  {
   "cell_type": "markdown",
   "metadata": {},
   "source": [
    "В случае со случайным лесом мы перебрали 750 моделей, изменяя только два гиперпараметра: количество деревьев и их глубину. Из этого ассортимента лучший результат на валидационной выборке показала модель из 18 деревьев с глубиной 14 - F1 составила 0.61, а AUC-ROC - 0.84."
   ]
  },
  {
   "cell_type": "markdown",
   "metadata": {},
   "source": [
    "### Логистическая регрессия "
   ]
  },
  {
   "cell_type": "code",
   "execution_count": 256,
   "metadata": {},
   "outputs": [],
   "source": [
    "def lr (features_train, features_valid, target_train, target_valid, class_weight=None):\n",
    "    \n",
    "    best_score = 0\n",
    "    auc_roc = 0\n",
    "    best_solver = ''\n",
    "    solver = ['newton-cg', 'lbfgs', 'liblinear', 'sag', 'saga']\n",
    "\n",
    "    for i in range(5):\n",
    "        model = LogisticRegression(solver=solver[i], random_state=123, class_weight=class_weight)\n",
    "        model.fit(features_train, target_train)\n",
    "        predictions = model.predict(features_valid)\n",
    "        f1 = f1_score(target_valid, predictions)\n",
    "        proba_valid = model.predict_proba(features_valid)\n",
    "        proba_one_valid = proba_valid[:, 1]\n",
    "        if f1 > best_score:\n",
    "            best_score = f1\n",
    "            best_solver = solver[i]\n",
    "            auc_roc = roc_auc_score(target_valid, proba_one_valid)\n",
    "\n",
    "    print('Характеристики лучшей модели:\\n\\nsolver:', best_solver, \n",
    "          '\\nF1-score: {:.3f}'.format(best_score), \n",
    "          '\\nAUC-ROC: {: >6.3f}'.format(auc_roc))"
   ]
  },
  {
   "cell_type": "code",
   "execution_count": 201,
   "metadata": {},
   "outputs": [
    {
     "name": "stdout",
     "output_type": "stream",
     "text": [
      "Характеристики лучшей модели:\n",
      "\n",
      "solver: liblinear \n",
      "F1-score: 0.324 \n",
      "AUC-ROC: 0.773\n"
     ]
    }
   ],
   "source": [
    "lr(X_train, X_valid, y_train, y_valid)"
   ]
  },
  {
   "cell_type": "markdown",
   "metadata": {},
   "source": [
    "Последняя модель, логистическая регрессия, проверялась с изменением гиперпараметра `solver`. Наилучшего результата удалось достичь с алгоритмом `'liblinear'`, значение F1 такой модели на валидационной выборке составило 0.32, что сильно меньше, чем на всех остальных моделях. Однако значение AUC-ROC ушло не так далеко, её лучшее значение - 0.77."
   ]
  },
  {
   "cell_type": "markdown",
   "metadata": {},
   "source": [
    "### Вывод "
   ]
  },
  {
   "cell_type": "markdown",
   "metadata": {},
   "source": [
    "Мы обучили и проверили на валидационной выборке три разных модели: решающее дерево, случайный лес и логистическая регрессия. Для каждой из них перебрали несколько гиперпараметров, чтобы найти наиболее эффективную конфигурацию. В итоге мы получили три модели, которые показали самые лучшие значения F1 на этой выборке. Между результатами двух из них разница не такая уж значительная - от 0.60 до 0.61. Но нельзя забывать, что у нас отрицательный класс в 4 раза больше положительного. Повторим обучение, но теперь сбалансировав веса классов."
   ]
  },
  {
   "cell_type": "markdown",
   "metadata": {},
   "source": [
    "## Исследование моделей (с учётом дисбаланса классов)"
   ]
  },
  {
   "cell_type": "markdown",
   "metadata": {},
   "source": [
    "### Решающее дерево "
   ]
  },
  {
   "cell_type": "code",
   "execution_count": 202,
   "metadata": {},
   "outputs": [
    {
     "name": "stdout",
     "output_type": "stream",
     "text": [
      "Характеристики лучшей модели:\n",
      "\n",
      "Глубина дерева: 8 \n",
      "F1-score: 0.575 \n",
      "AUC-ROC: 0.820\n"
     ]
    }
   ],
   "source": [
    "dtc(X_train, X_valid, y_train, y_valid, class_weight='balanced')"
   ]
  },
  {
   "cell_type": "markdown",
   "metadata": {},
   "source": [
    "В этот раз самая лучшая модель решающего дерева оказалась хуже, чем была до балансирования классов - F1 теперь составляет 0.57 вместо 0.60. Значение AUC-ROC тоже упало, но чуть меньше, 0.82 вместо 0.83."
   ]
  },
  {
   "cell_type": "markdown",
   "metadata": {},
   "source": [
    "### Случайный лес "
   ]
  },
  {
   "cell_type": "code",
   "execution_count": 203,
   "metadata": {},
   "outputs": [
    {
     "name": "stdout",
     "output_type": "stream",
     "text": [
      "Характеристики лучшей модели:\n",
      "\n",
      "Глубина дерева: 14 \n",
      "Количество деревьев: 39 \n",
      "F1-score: 0.610 \n",
      "AUC-ROC: 0.861\n"
     ]
    }
   ],
   "source": [
    "rfc(X_train, X_valid, y_train, y_valid, class_weight='balanced')"
   ]
  },
  {
   "cell_type": "markdown",
   "metadata": {},
   "source": [
    "Случайный лес на сбалансированных весах показал себя лучше, F1 0.64 вместо 0.61. А вот AUC-ROC снова изменился очень слабо - значение выросло с 0.84 до 0.85."
   ]
  },
  {
   "cell_type": "markdown",
   "metadata": {},
   "source": [
    "### Логистическая регрессия "
   ]
  },
  {
   "cell_type": "code",
   "execution_count": 204,
   "metadata": {},
   "outputs": [
    {
     "name": "stdout",
     "output_type": "stream",
     "text": [
      "Характеристики лучшей модели:\n",
      "\n",
      "solver: newton-cg \n",
      "F1-score: 0.497 \n",
      "AUC-ROC: 0.775\n"
     ]
    }
   ],
   "source": [
    "lr(X_train, X_valid, y_train, y_valid, class_weight='balanced')"
   ]
  },
  {
   "cell_type": "markdown",
   "metadata": {},
   "source": [
    "Логистическая регрессия показала наибольший рост значения метрики F1: 0.49 вместо 0.32. При этом AUC-ROC вообще не изменился, как был 0.77 так и остался. Но, даже не смотря на такой большой рост, 0.49 всё ещё сильно меньше, чем у других моделей."
   ]
  },
  {
   "cell_type": "markdown",
   "metadata": {},
   "source": [
    "### Вывод "
   ]
  },
  {
   "cell_type": "markdown",
   "metadata": {},
   "source": [
    "После того, как мы учли дисбаланс классов, и установили для каждой модели значение гиперпараметра `class_weight='balanced'`, значения метрик F1 изменились. Для моделей случайного леса и логистической регрессии значения увеличились, а вот у решающего дерева - наоборот, упало с 0.83 до 0.82. В то же время значения AUC-ROC практически не изменились."
   ]
  },
  {
   "cell_type": "markdown",
   "metadata": {},
   "source": [
    "## Upsampling "
   ]
  },
  {
   "cell_type": "markdown",
   "metadata": {},
   "source": [
    "Для удобства напишем одну функцию, выполняющую роль как повышения, так и понижения размера выборки:"
   ]
  },
  {
   "cell_type": "code",
   "execution_count": 205,
   "metadata": {},
   "outputs": [],
   "source": [
    "def up_and_down (features, target, repeat=None, frac=None):\n",
    "    \n",
    "    features_zeros = features[target == 0]\n",
    "    features_ones = features[target == 1]\n",
    "    target_zeros = target[target == 0]\n",
    "    target_ones = target[target == 1]\n",
    "    \n",
    "    if repeat is not None:\n",
    "        features_new = pd.concat([features_zeros] + [features_ones] * repeat)\n",
    "        target_new = pd.concat([target_zeros] + [target_ones] * repeat)\n",
    "        print('Upsampling done')\n",
    "    \n",
    "    elif frac is not None:\n",
    "        features_new = pd.concat(\n",
    "            [features_zeros.sample(frac=frac, random_state=123)] + [features_ones])\n",
    "        target_new = pd.concat(\n",
    "            [target_zeros.sample(frac=frac, random_state=123)] + [target_ones])\n",
    "        print('Downsampling done')\n",
    "        \n",
    "    else:\n",
    "        print('Недостаточно параметров функции up_and_down.')\n",
    "        \n",
    "    features_new, target_new = shuffle(features_new, target_new, random_state=123)\n",
    "    \n",
    "    return features_new, target_new"
   ]
  },
  {
   "cell_type": "code",
   "execution_count": 206,
   "metadata": {},
   "outputs": [
    {
     "name": "stdout",
     "output_type": "stream",
     "text": [
      "Upsampling done\n"
     ]
    }
   ],
   "source": [
    "X_train_up, y_train_up = up_and_down(X_train, y_train, repeat=4)"
   ]
  },
  {
   "cell_type": "markdown",
   "metadata": {},
   "source": [
    "### Решающее дерево "
   ]
  },
  {
   "cell_type": "code",
   "execution_count": 207,
   "metadata": {},
   "outputs": [
    {
     "name": "stdout",
     "output_type": "stream",
     "text": [
      "Характеристики лучшей модели:\n",
      "\n",
      "Глубина дерева: 5 \n",
      "F1-score: 0.574 \n",
      "AUC-ROC: 0.840\n"
     ]
    }
   ],
   "source": [
    "dtc(X_train_up, X_valid, y_train_up, y_valid)"
   ]
  },
  {
   "cell_type": "markdown",
   "metadata": {},
   "source": [
    "### Случайный лес "
   ]
  },
  {
   "cell_type": "code",
   "execution_count": 208,
   "metadata": {},
   "outputs": [
    {
     "name": "stdout",
     "output_type": "stream",
     "text": [
      "Характеристики лучшей модели:\n",
      "\n",
      "Глубина дерева: 14 \n",
      "Количество деревьев: 14 \n",
      "F1-score: 0.650 \n",
      "AUC-ROC: 0.862\n"
     ]
    }
   ],
   "source": [
    "rfc(X_train_up, X_valid, y_train_up, y_valid)"
   ]
  },
  {
   "cell_type": "markdown",
   "metadata": {},
   "source": [
    "### Логистическая регрессия "
   ]
  },
  {
   "cell_type": "code",
   "execution_count": 209,
   "metadata": {},
   "outputs": [
    {
     "name": "stdout",
     "output_type": "stream",
     "text": [
      "Характеристики лучшей модели:\n",
      "\n",
      "solver: newton-cg \n",
      "F1-score: 0.499 \n",
      "AUC-ROC: 0.775\n"
     ]
    }
   ],
   "source": [
    "lr(X_train_up, X_valid, y_train_up, y_valid)"
   ]
  },
  {
   "cell_type": "markdown",
   "metadata": {},
   "source": [
    "### Вывод "
   ]
  },
  {
   "cell_type": "markdown",
   "metadata": {},
   "source": [
    "Увеличение размера выборки дало смешанные результаты.  \n",
    "- Решающее дерево немного подросло, по сравнению с прошлой попыткой, но обучение без учёта дисбаланса дало несколько большее значение F1. \n",
    "- Случайный лес показал пока наилучший результат.\n",
    "- Логистическая регрессия практически не изменилась с прошлой попытки."
   ]
  },
  {
   "cell_type": "markdown",
   "metadata": {},
   "source": [
    "## Downsampling "
   ]
  },
  {
   "cell_type": "code",
   "execution_count": 210,
   "metadata": {},
   "outputs": [
    {
     "name": "stdout",
     "output_type": "stream",
     "text": [
      "Downsampling done\n"
     ]
    }
   ],
   "source": [
    "X_train_down, y_train_down = up_and_down(X_train, y_train, frac=.1)"
   ]
  },
  {
   "cell_type": "markdown",
   "metadata": {},
   "source": [
    "### Решающее дерево "
   ]
  },
  {
   "cell_type": "code",
   "execution_count": 211,
   "metadata": {},
   "outputs": [
    {
     "name": "stdout",
     "output_type": "stream",
     "text": [
      "Характеристики лучшей модели:\n",
      "\n",
      "Глубина дерева: 5 \n",
      "F1-score: 0.524 \n",
      "AUC-ROC: 0.824\n"
     ]
    }
   ],
   "source": [
    "dtc(X_train_down, X_valid, y_train_down, y_valid)"
   ]
  },
  {
   "cell_type": "markdown",
   "metadata": {},
   "source": [
    "### Случайный лес "
   ]
  },
  {
   "cell_type": "code",
   "execution_count": 212,
   "metadata": {},
   "outputs": [
    {
     "name": "stdout",
     "output_type": "stream",
     "text": [
      "Характеристики лучшей модели:\n",
      "\n",
      "Глубина дерева: 14 \n",
      "Количество деревьев: 2 \n",
      "F1-score: 0.499 \n",
      "AUC-ROC: 0.754\n"
     ]
    }
   ],
   "source": [
    "rfc(X_train_down, X_valid, y_train_down, y_valid)"
   ]
  },
  {
   "cell_type": "markdown",
   "metadata": {},
   "source": [
    "### Логистическая регрессия "
   ]
  },
  {
   "cell_type": "code",
   "execution_count": 213,
   "metadata": {},
   "outputs": [
    {
     "name": "stdout",
     "output_type": "stream",
     "text": [
      "Характеристики лучшей модели:\n",
      "\n",
      "solver: liblinear \n",
      "F1-score: 0.421 \n",
      "AUC-ROC: 0.777\n"
     ]
    }
   ],
   "source": [
    "lr(X_train_down, X_valid, y_train_down, y_valid)"
   ]
  },
  {
   "cell_type": "markdown",
   "metadata": {},
   "source": [
    "### Вывод "
   ]
  },
  {
   "cell_type": "markdown",
   "metadata": {},
   "source": [
    "Уменьшение размера выборки показало более грустный результат, чем увеличение, причём на всех моделях."
   ]
  },
  {
   "cell_type": "markdown",
   "metadata": {},
   "source": [
    "## Проверка моделей на тестовой выборке "
   ]
  },
  {
   "cell_type": "markdown",
   "metadata": {},
   "source": [
    "Разные модели показали наилучшие результаты при разных параметрах. Так, решающее дерево лучше всего работало на несбалансированных данных, в то время как остальным моделям больше всего приглянулась увеличенная выборка. Чтобы немного поднять шансы на успех, для обучения теперь будет использоваться объединённая выборка, из обучающей и валидационной."
   ]
  },
  {
   "cell_type": "markdown",
   "metadata": {},
   "source": [
    "### Решающее дерево "
   ]
  },
  {
   "cell_type": "code",
   "execution_count": 260,
   "metadata": {},
   "outputs": [],
   "source": [
    "X_train_final = pd.concat([X_train, X_valid], axis=0)\n",
    "y_train_final = pd.concat([y_train, y_valid], axis=0)"
   ]
  },
  {
   "cell_type": "code",
   "execution_count": 261,
   "metadata": {},
   "outputs": [
    {
     "name": "stdout",
     "output_type": "stream",
     "text": [
      "Характеристики лучшей модели:\n",
      " \n",
      "F1-score: 0.623 \n",
      "AUC-ROC:  0.854 \n",
      "Accuracy: 0.867 \n",
      "Recall:   0.561\n"
     ]
    }
   ],
   "source": [
    "model = DecisionTreeClassifier(max_depth=7, random_state=123)\n",
    "model.fit(X_train_final, y_train_final)\n",
    "predictions = model.predict(X_test)\n",
    "proba_test = model.predict_proba(X_test)\n",
    "proba_one_test = proba_test[:, 1]\n",
    "\n",
    "print('Характеристики лучшей модели:\\n', \n",
    "      '\\nF1-score: {:.3f}'.format(f1_score(y_test, predictions)), \n",
    "      '\\nAUC-ROC: {: >6.3f}'.format(roc_auc_score(y_test, proba_one_test)), \n",
    "      '\\nAccuracy: {:.3f}'.format(accuracy_score(y_test, predictions)),\n",
    "      '\\nRecall: {: >7.3f}'.format(recall_score(y_test, predictions)))"
   ]
  },
  {
   "cell_type": "markdown",
   "metadata": {},
   "source": [
    "### Случайный лес "
   ]
  },
  {
   "cell_type": "code",
   "execution_count": 247,
   "metadata": {},
   "outputs": [
    {
     "name": "stdout",
     "output_type": "stream",
     "text": [
      "Upsampling done\n"
     ]
    }
   ],
   "source": [
    "X_valid_up, y_valid_up = up_and_down(X_valid, y_valid, repeat=4)\n",
    "X_train_final = pd.concat([X_train_up, X_valid_up], axis=0)\n",
    "y_train_final = pd.concat([y_train_up, y_valid_up], axis=0)"
   ]
  },
  {
   "cell_type": "code",
   "execution_count": 258,
   "metadata": {},
   "outputs": [
    {
     "name": "stdout",
     "output_type": "stream",
     "text": [
      "Характеристики лучшей модели:\n",
      " \n",
      "F1-score: 0.637 \n",
      "AUC-ROC:  0.854 \n",
      "Accuracy: 0.857 \n",
      "Recall:   0.643\n"
     ]
    }
   ],
   "source": [
    "model = RandomForestClassifier(max_depth=14, n_estimators=14, random_state=123)\n",
    "model.fit(X_train_final, y_train_final)\n",
    "predictions = model.predict(X_test)\n",
    "proba_test = model.predict_proba(X_test)\n",
    "proba_one_test = proba_test[:, 1]\n",
    "\n",
    "print('Характеристики лучшей модели:\\n', \n",
    "      '\\nF1-score: {:.3f}'.format(f1_score(y_test, predictions)), \n",
    "      '\\nAUC-ROC: {: >6.3f}'.format(roc_auc_score(y_test, proba_one_test)), \n",
    "      '\\nAccuracy: {:.3f}'.format(accuracy_score(y_test, predictions)),\n",
    "      '\\nRecall: {: >7.3f}'.format(recall_score(y_test, predictions)))"
   ]
  },
  {
   "cell_type": "markdown",
   "metadata": {},
   "source": [
    "### Логистическая регрессия "
   ]
  },
  {
   "cell_type": "code",
   "execution_count": 259,
   "metadata": {},
   "outputs": [
    {
     "name": "stdout",
     "output_type": "stream",
     "text": [
      "Характеристики лучшей модели:\n",
      " \n",
      "F1-score: 0.499 \n",
      "AUC-ROC:  0.789 \n",
      "Accuracy: 0.707 \n",
      "Recall:   0.745\n"
     ]
    }
   ],
   "source": [
    "model = LogisticRegression(solver='newton-cg', random_state=123)\n",
    "model.fit(X_train_final, y_train_final)\n",
    "predictions = model.predict(X_test)\n",
    "proba_test = model.predict_proba(X_test)\n",
    "proba_one_test = proba_test[:, 1]\n",
    "\n",
    "print('Характеристики лучшей модели:\\n', \n",
    "      '\\nF1-score: {:.3f}'.format(f1_score(y_test, predictions)), \n",
    "      '\\nAUC-ROC: {: >6.3f}'.format(roc_auc_score(y_test, proba_one_test)), \n",
    "      '\\nAccuracy: {:.3f}'.format(accuracy_score(y_test, predictions)),\n",
    "      '\\nRecall: {: >7.3f}'.format(recall_score(y_test, predictions)))"
   ]
  },
  {
   "cell_type": "markdown",
   "metadata": {},
   "source": [
    "### Вывод "
   ]
  },
  {
   "cell_type": "markdown",
   "metadata": {},
   "source": [
    "На тестовой выборке модель решающего дерева показала такой же результат, как и на валидационной, зато случайный лес получил более низкую оценку: 0.62 вместо 0.64, что всё равно остаётся лучшим результатом. Значение метрики F1-score для логистической регрессии тоже не изменилось, но оно всё ещё ниже, чем у остальных. "
   ]
  },
  {
   "cell_type": "markdown",
   "metadata": {},
   "source": [
    "## Общий вывод "
   ]
  },
  {
   "cell_type": "markdown",
   "metadata": {},
   "source": [
    "Мы обучили несколько разных моделей с разными наборами гиперпараметров. Самые высокие значения F1, которые удалось получить, составляют 0.64 на валидационной и 0.62 на тестовой выборках, и оба этих значения были получены от модели \"случайный лес\". Также мы измеряли значения метрики AUC-ROC но разных моделях, и убедились, что это не самая подходящая проврека для моделей, обученных на данных с большим дисбалансом классов. Однако во всех случаях значения AUC-ROC были далеки от показаний случайной модели, из чего можно сделать вывод об адекватности наших моделей.  \n",
    "Accuracy лучшей модели составляет 0.83, что, в целом, неплохо, но это означает, что 17% предсказаний ошибочны. Мы ищем клиентов, которые могут уйти из банка, значит нам нужно как можно сильнее увеличивать значение метрики recall. Ничего страшного, если мы спрогнозируем уход клиента, который в итоге останется. В обратном же случае можно упустить момент, в который стоило бы предпринять какие-то действия по удержанию клиента (предложить ему более выгодные условия, например, или хотя бы узнать, что его не устроило). Исходя из этого логичнее выбирать модель именно по параметру recall, и с такой точки зрения более выигрышной кажется модель решающего дерева: да, у неё ниже accuracy, она даст на 4% меньше правильных ответов, но зато значение recall у неё 0.73, вместо 0.63 у случайного леса, значит мы получим меньше FN-ответов. "
   ]
  }
 ],
 "metadata": {
  "ExecuteTimeLog": [
   {
    "duration": 1431,
    "start_time": "2022-01-17T20:03:28.118Z"
   },
   {
    "duration": 113,
    "start_time": "2022-01-17T20:03:29.551Z"
   },
   {
    "duration": 2928,
    "start_time": "2022-01-17T20:03:29.667Z"
   },
   {
    "duration": 4,
    "start_time": "2022-01-17T20:03:32.598Z"
   },
   {
    "duration": 35,
    "start_time": "2022-01-17T20:03:32.604Z"
   },
   {
    "duration": 10,
    "start_time": "2022-01-17T20:03:32.641Z"
   },
   {
    "duration": 7,
    "start_time": "2022-01-17T20:03:32.654Z"
   },
   {
    "duration": 7,
    "start_time": "2022-01-17T20:03:32.667Z"
   },
   {
    "duration": 48,
    "start_time": "2022-01-17T20:03:32.677Z"
   },
   {
    "duration": 32,
    "start_time": "2022-01-17T20:03:32.727Z"
   },
   {
    "duration": 9,
    "start_time": "2022-01-17T20:03:32.761Z"
   },
   {
    "duration": 95,
    "start_time": "2022-01-17T20:03:32.773Z"
   },
   {
    "duration": 11,
    "start_time": "2022-01-17T20:03:32.870Z"
   },
   {
    "duration": 10,
    "start_time": "2022-01-17T20:03:32.884Z"
   },
   {
    "duration": 492,
    "start_time": "2022-01-17T20:03:32.896Z"
   },
   {
    "duration": 128076,
    "start_time": "2022-01-17T20:03:33.391Z"
   },
   {
    "duration": 1157,
    "start_time": "2022-01-17T20:05:41.469Z"
   },
   {
    "duration": 559,
    "start_time": "2022-01-17T20:05:42.629Z"
   },
   {
    "duration": 127547,
    "start_time": "2022-01-17T20:05:43.191Z"
   },
   {
    "duration": 1686,
    "start_time": "2022-01-17T20:07:50.740Z"
   },
   {
    "duration": 131,
    "start_time": "2022-01-17T20:07:52.430Z"
   },
   {
    "duration": 225,
    "start_time": "2022-01-17T20:07:52.563Z"
   },
   {
    "duration": 1131,
    "start_time": "2022-01-17T20:07:52.792Z"
   },
   {
    "duration": 396,
    "start_time": "2022-01-17T20:19:15.311Z"
   },
   {
    "duration": 1404,
    "start_time": "2022-01-18T04:31:56.502Z"
   },
   {
    "duration": 60,
    "start_time": "2022-01-18T04:31:57.909Z"
   },
   {
    "duration": 2898,
    "start_time": "2022-01-18T04:32:48.487Z"
   },
   {
    "duration": 4,
    "start_time": "2022-01-18T04:33:48.848Z"
   },
   {
    "duration": 18,
    "start_time": "2022-01-18T04:33:51.459Z"
   },
   {
    "duration": 12,
    "start_time": "2022-01-18T04:33:51.651Z"
   },
   {
    "duration": 8,
    "start_time": "2022-01-18T04:33:51.868Z"
   },
   {
    "duration": 9,
    "start_time": "2022-01-18T04:35:12.069Z"
   },
   {
    "duration": 9,
    "start_time": "2022-01-18T04:35:12.805Z"
   },
   {
    "duration": 32,
    "start_time": "2022-01-18T04:35:15.051Z"
   },
   {
    "duration": 8,
    "start_time": "2022-01-18T04:40:00.159Z"
   },
   {
    "duration": 54,
    "start_time": "2022-01-18T04:40:07.811Z"
   },
   {
    "duration": 12,
    "start_time": "2022-01-18T04:44:42.768Z"
   },
   {
    "duration": 7,
    "start_time": "2022-01-18T04:44:43.564Z"
   },
   {
    "duration": 473,
    "start_time": "2022-01-18T04:46:37.421Z"
   },
   {
    "duration": 129844,
    "start_time": "2022-01-18T04:47:13.634Z"
   },
   {
    "duration": 1364,
    "start_time": "2022-01-18T04:49:50.308Z"
   },
   {
    "duration": 498,
    "start_time": "2022-01-18T04:50:50.782Z"
   },
   {
    "duration": 129098,
    "start_time": "2022-01-18T04:50:57.521Z"
   },
   {
    "duration": 1449,
    "start_time": "2022-01-18T04:53:06.623Z"
   },
   {
    "duration": 50,
    "start_time": "2022-01-18T04:53:13.757Z"
   },
   {
    "duration": 381,
    "start_time": "2022-01-18T04:53:21.614Z"
   },
   {
    "duration": 301,
    "start_time": "2022-01-18T04:53:25.379Z"
   },
   {
    "duration": 434,
    "start_time": "2022-01-20T15:18:41.319Z"
   },
   {
    "duration": 1289,
    "start_time": "2022-01-20T15:19:26.708Z"
   },
   {
    "duration": 399,
    "start_time": "2022-01-20T15:20:10.839Z"
   },
   {
    "duration": 625,
    "start_time": "2022-01-20T15:27:31.521Z"
   },
   {
    "duration": 57,
    "start_time": "2022-01-20T15:27:32.149Z"
   },
   {
    "duration": 2941,
    "start_time": "2022-01-20T15:27:32.209Z"
   },
   {
    "duration": 8,
    "start_time": "2022-01-20T15:27:35.153Z"
   },
   {
    "duration": 21,
    "start_time": "2022-01-20T15:27:35.164Z"
   },
   {
    "duration": 12,
    "start_time": "2022-01-20T15:27:35.188Z"
   },
   {
    "duration": 8,
    "start_time": "2022-01-20T15:27:35.202Z"
   },
   {
    "duration": 45,
    "start_time": "2022-01-20T15:27:35.214Z"
   },
   {
    "duration": 9,
    "start_time": "2022-01-20T15:27:35.262Z"
   },
   {
    "duration": 31,
    "start_time": "2022-01-20T15:27:35.273Z"
   },
   {
    "duration": 8,
    "start_time": "2022-01-20T15:27:35.307Z"
   },
   {
    "duration": 50,
    "start_time": "2022-01-20T15:27:35.317Z"
   },
   {
    "duration": 556,
    "start_time": "2022-01-20T15:27:35.370Z"
   },
   {
    "duration": 6,
    "start_time": "2022-01-20T15:29:49.524Z"
   },
   {
    "duration": 125,
    "start_time": "2022-01-20T15:30:00.666Z"
   },
   {
    "duration": 6,
    "start_time": "2022-01-20T15:30:17.828Z"
   },
   {
    "duration": 7,
    "start_time": "2022-01-20T15:32:25.709Z"
   },
   {
    "duration": 7,
    "start_time": "2022-01-20T15:32:43.035Z"
   },
   {
    "duration": 7,
    "start_time": "2022-01-20T15:33:16.272Z"
   },
   {
    "duration": 65,
    "start_time": "2022-01-20T15:33:16.283Z"
   },
   {
    "duration": 2804,
    "start_time": "2022-01-20T15:33:16.359Z"
   },
   {
    "duration": 4,
    "start_time": "2022-01-20T15:33:19.166Z"
   },
   {
    "duration": 20,
    "start_time": "2022-01-20T15:33:19.172Z"
   },
   {
    "duration": 14,
    "start_time": "2022-01-20T15:33:19.195Z"
   },
   {
    "duration": 55,
    "start_time": "2022-01-20T15:33:19.212Z"
   },
   {
    "duration": 12,
    "start_time": "2022-01-20T15:33:19.271Z"
   },
   {
    "duration": 11,
    "start_time": "2022-01-20T15:33:19.286Z"
   },
   {
    "duration": 72,
    "start_time": "2022-01-20T15:33:19.299Z"
   },
   {
    "duration": 9,
    "start_time": "2022-01-20T15:33:19.374Z"
   },
   {
    "duration": 11,
    "start_time": "2022-01-20T15:33:19.386Z"
   },
   {
    "duration": 111,
    "start_time": "2022-01-20T15:33:19.399Z"
   },
   {
    "duration": 45,
    "start_time": "2022-01-20T15:40:14.873Z"
   },
   {
    "duration": 5,
    "start_time": "2022-01-20T15:40:32.508Z"
   },
   {
    "duration": 68,
    "start_time": "2022-01-20T15:40:32.515Z"
   },
   {
    "duration": 3286,
    "start_time": "2022-01-20T15:40:32.586Z"
   },
   {
    "duration": 4,
    "start_time": "2022-01-20T15:40:35.875Z"
   },
   {
    "duration": 78,
    "start_time": "2022-01-20T15:40:35.881Z"
   },
   {
    "duration": 11,
    "start_time": "2022-01-20T15:40:35.961Z"
   },
   {
    "duration": 31,
    "start_time": "2022-01-20T15:40:35.974Z"
   },
   {
    "duration": 54,
    "start_time": "2022-01-20T15:40:36.008Z"
   },
   {
    "duration": 11,
    "start_time": "2022-01-20T15:40:36.064Z"
   },
   {
    "duration": 83,
    "start_time": "2022-01-20T15:40:36.078Z"
   },
   {
    "duration": 8,
    "start_time": "2022-01-20T15:40:36.163Z"
   },
   {
    "duration": 12,
    "start_time": "2022-01-20T15:40:36.173Z"
   },
   {
    "duration": 112,
    "start_time": "2022-01-20T15:40:36.188Z"
   },
   {
    "duration": 39,
    "start_time": "2022-01-20T15:40:47.321Z"
   },
   {
    "duration": 905,
    "start_time": "2022-01-20T16:05:13.590Z"
   },
   {
    "duration": 1224,
    "start_time": "2022-01-20T16:05:29.068Z"
   },
   {
    "duration": 1103,
    "start_time": "2022-01-20T16:05:35.052Z"
   },
   {
    "duration": 957,
    "start_time": "2022-01-20T16:08:48.318Z"
   },
   {
    "duration": 1277,
    "start_time": "2022-01-20T16:09:15.620Z"
   },
   {
    "duration": 1126,
    "start_time": "2022-01-20T16:10:14.921Z"
   },
   {
    "duration": 1329,
    "start_time": "2022-01-20T16:12:55.286Z"
   },
   {
    "duration": 4,
    "start_time": "2022-01-20T16:13:14.838Z"
   },
   {
    "duration": 62,
    "start_time": "2022-01-20T16:13:14.845Z"
   },
   {
    "duration": 2809,
    "start_time": "2022-01-20T16:13:14.909Z"
   },
   {
    "duration": 5,
    "start_time": "2022-01-20T16:13:17.720Z"
   },
   {
    "duration": 40,
    "start_time": "2022-01-20T16:13:17.728Z"
   },
   {
    "duration": 13,
    "start_time": "2022-01-20T16:13:17.771Z"
   },
   {
    "duration": 9,
    "start_time": "2022-01-20T16:13:17.788Z"
   },
   {
    "duration": 10,
    "start_time": "2022-01-20T16:13:17.800Z"
   },
   {
    "duration": 55,
    "start_time": "2022-01-20T16:13:17.813Z"
   },
   {
    "duration": 31,
    "start_time": "2022-01-20T16:13:17.870Z"
   },
   {
    "duration": 7,
    "start_time": "2022-01-20T16:13:17.903Z"
   },
   {
    "duration": 47,
    "start_time": "2022-01-20T16:13:17.912Z"
   },
   {
    "duration": 1341,
    "start_time": "2022-01-20T16:13:17.969Z"
   },
   {
    "duration": 55,
    "start_time": "2022-01-20T16:13:19.313Z"
   },
   {
    "duration": 1357,
    "start_time": "2022-01-20T16:13:19.370Z"
   },
   {
    "duration": 356,
    "start_time": "2022-01-20T16:20:29.832Z"
   },
   {
    "duration": 4,
    "start_time": "2022-01-20T16:24:13.968Z"
   },
   {
    "duration": 61,
    "start_time": "2022-01-20T16:24:13.975Z"
   },
   {
    "duration": 2921,
    "start_time": "2022-01-20T16:24:14.039Z"
   },
   {
    "duration": 4,
    "start_time": "2022-01-20T16:24:16.962Z"
   },
   {
    "duration": 28,
    "start_time": "2022-01-20T16:24:16.969Z"
   },
   {
    "duration": 11,
    "start_time": "2022-01-20T16:24:16.999Z"
   },
   {
    "duration": 1177,
    "start_time": "2022-01-20T16:24:17.014Z"
   },
   {
    "duration": 856,
    "start_time": "2022-01-20T16:24:42.140Z"
   },
   {
    "duration": 620,
    "start_time": "2022-01-20T16:25:24.713Z"
   },
   {
    "duration": 5,
    "start_time": "2022-01-20T16:25:31.304Z"
   },
   {
    "duration": 57,
    "start_time": "2022-01-20T16:25:31.312Z"
   },
   {
    "duration": 2873,
    "start_time": "2022-01-20T16:25:31.372Z"
   },
   {
    "duration": 5,
    "start_time": "2022-01-20T16:25:34.259Z"
   },
   {
    "duration": 23,
    "start_time": "2022-01-20T16:25:34.267Z"
   },
   {
    "duration": 22,
    "start_time": "2022-01-20T16:25:34.293Z"
   },
   {
    "duration": 857,
    "start_time": "2022-01-20T16:25:34.318Z"
   },
   {
    "duration": 5,
    "start_time": "2022-01-20T16:26:23.940Z"
   },
   {
    "duration": 72,
    "start_time": "2022-01-20T16:26:23.948Z"
   },
   {
    "duration": 3212,
    "start_time": "2022-01-20T16:26:24.024Z"
   },
   {
    "duration": 4,
    "start_time": "2022-01-20T16:26:27.238Z"
   },
   {
    "duration": 32,
    "start_time": "2022-01-20T16:26:27.245Z"
   },
   {
    "duration": 13,
    "start_time": "2022-01-20T16:26:27.279Z"
   },
   {
    "duration": 864,
    "start_time": "2022-01-20T16:26:27.295Z"
   },
   {
    "duration": 658,
    "start_time": "2022-01-20T16:27:28.224Z"
   },
   {
    "duration": 7,
    "start_time": "2022-01-20T16:28:44.523Z"
   },
   {
    "duration": 5,
    "start_time": "2022-01-20T16:29:58.662Z"
   },
   {
    "duration": 59,
    "start_time": "2022-01-20T16:29:58.670Z"
   },
   {
    "duration": 3288,
    "start_time": "2022-01-20T16:29:58.732Z"
   },
   {
    "duration": 6,
    "start_time": "2022-01-20T16:30:02.023Z"
   },
   {
    "duration": 37,
    "start_time": "2022-01-20T16:30:02.031Z"
   },
   {
    "duration": 13,
    "start_time": "2022-01-20T16:30:02.071Z"
   },
   {
    "duration": 120,
    "start_time": "2022-01-20T16:30:02.088Z"
   },
   {
    "duration": 641,
    "start_time": "2022-01-20T16:30:12.248Z"
   },
   {
    "duration": 5,
    "start_time": "2022-01-20T16:38:18.038Z"
   },
   {
    "duration": 58,
    "start_time": "2022-01-20T16:38:18.046Z"
   },
   {
    "duration": 3270,
    "start_time": "2022-01-20T16:38:18.107Z"
   },
   {
    "duration": 4,
    "start_time": "2022-01-20T16:38:21.381Z"
   },
   {
    "duration": 20,
    "start_time": "2022-01-20T16:38:21.388Z"
   },
   {
    "duration": 12,
    "start_time": "2022-01-20T16:38:21.412Z"
   },
   {
    "duration": 2473,
    "start_time": "2022-01-20T16:38:21.459Z"
   },
   {
    "duration": 2793,
    "start_time": "2022-01-20T16:38:36.302Z"
   },
   {
    "duration": 17379,
    "start_time": "2022-01-20T16:39:58.567Z"
   },
   {
    "duration": 1279,
    "start_time": "2022-01-20T16:44:52.483Z"
   },
   {
    "duration": 5,
    "start_time": "2022-01-20T16:45:00.323Z"
   },
   {
    "duration": 66,
    "start_time": "2022-01-20T16:45:00.331Z"
   },
   {
    "duration": 3467,
    "start_time": "2022-01-20T16:45:00.400Z"
   },
   {
    "duration": 4,
    "start_time": "2022-01-20T16:45:03.870Z"
   },
   {
    "duration": 19,
    "start_time": "2022-01-20T16:45:03.876Z"
   },
   {
    "duration": 11,
    "start_time": "2022-01-20T16:45:03.897Z"
   },
   {
    "duration": 1252,
    "start_time": "2022-01-20T16:45:03.910Z"
   },
   {
    "duration": 4,
    "start_time": "2022-01-20T16:45:17.792Z"
   },
   {
    "duration": 929,
    "start_time": "2022-01-20T16:45:17.967Z"
   },
   {
    "duration": 651,
    "start_time": "2022-01-20T16:45:26.009Z"
   },
   {
    "duration": 687,
    "start_time": "2022-01-20T16:47:35.433Z"
   },
   {
    "duration": 7,
    "start_time": "2022-01-20T16:51:08.969Z"
   },
   {
    "duration": 59,
    "start_time": "2022-01-20T16:51:08.979Z"
   },
   {
    "duration": 3329,
    "start_time": "2022-01-20T16:51:09.042Z"
   },
   {
    "duration": 6,
    "start_time": "2022-01-20T16:51:12.374Z"
   },
   {
    "duration": 28,
    "start_time": "2022-01-20T16:51:12.383Z"
   },
   {
    "duration": 11,
    "start_time": "2022-01-20T16:51:12.413Z"
   },
   {
    "duration": 695,
    "start_time": "2022-01-20T16:51:12.427Z"
   },
   {
    "duration": 5,
    "start_time": "2022-01-20T17:27:39.475Z"
   },
   {
    "duration": 43,
    "start_time": "2022-01-20T17:27:39.483Z"
   },
   {
    "duration": 2981,
    "start_time": "2022-01-20T17:27:39.529Z"
   },
   {
    "duration": 4,
    "start_time": "2022-01-20T17:27:42.512Z"
   },
   {
    "duration": 23,
    "start_time": "2022-01-20T17:27:42.518Z"
   },
   {
    "duration": 10,
    "start_time": "2022-01-20T17:27:42.560Z"
   },
   {
    "duration": 653,
    "start_time": "2022-01-20T17:27:42.573Z"
   },
   {
    "duration": 8,
    "start_time": "2022-01-20T17:27:43.229Z"
   },
   {
    "duration": 8,
    "start_time": "2022-01-20T17:27:43.259Z"
   },
   {
    "duration": 31,
    "start_time": "2022-01-20T17:27:43.269Z"
   },
   {
    "duration": 6,
    "start_time": "2022-01-20T17:27:43.303Z"
   },
   {
    "duration": 11,
    "start_time": "2022-01-20T17:27:43.311Z"
   },
   {
    "duration": 71,
    "start_time": "2022-01-20T17:27:43.324Z"
   },
   {
    "duration": 453,
    "start_time": "2022-01-20T17:29:38.154Z"
   },
   {
    "duration": 445,
    "start_time": "2022-01-20T17:29:41.092Z"
   },
   {
    "duration": 440,
    "start_time": "2022-01-20T17:30:37.204Z"
   },
   {
    "duration": 435,
    "start_time": "2022-01-20T17:30:57.992Z"
   },
   {
    "duration": 7,
    "start_time": "2022-01-20T17:31:30.574Z"
   },
   {
    "duration": 426,
    "start_time": "2022-01-20T17:31:31.705Z"
   },
   {
    "duration": 470,
    "start_time": "2022-01-20T17:32:23.107Z"
   },
   {
    "duration": 481,
    "start_time": "2022-01-20T17:32:40.037Z"
   },
   {
    "duration": 8,
    "start_time": "2022-01-20T17:35:46.789Z"
   },
   {
    "duration": 138669,
    "start_time": "2022-01-20T17:35:47.725Z"
   },
   {
    "duration": 7,
    "start_time": "2022-01-20T17:38:06.397Z"
   },
   {
    "duration": 140658,
    "start_time": "2022-01-20T17:38:06.407Z"
   },
   {
    "duration": 8,
    "start_time": "2022-01-20T17:50:56.909Z"
   },
   {
    "duration": 1143,
    "start_time": "2022-01-20T17:51:11.543Z"
   },
   {
    "duration": 1442,
    "start_time": "2022-01-20T17:51:13.346Z"
   },
   {
    "duration": 8,
    "start_time": "2022-01-20T17:51:43.091Z"
   },
   {
    "duration": 2139,
    "start_time": "2022-01-20T17:51:44.443Z"
   },
   {
    "duration": 149439,
    "start_time": "2022-01-20T17:56:04.576Z"
   },
   {
    "duration": 1141,
    "start_time": "2022-01-20T17:58:34.018Z"
   },
   {
    "duration": 3,
    "start_time": "2022-01-20T18:02:52.988Z"
   },
   {
    "duration": 125,
    "start_time": "2022-01-20T18:03:05.055Z"
   },
   {
    "duration": 383,
    "start_time": "2022-01-20T18:03:09.751Z"
   },
   {
    "duration": 5,
    "start_time": "2022-01-20T18:03:18.550Z"
   },
   {
    "duration": 958,
    "start_time": "2022-01-20T18:04:57.583Z"
   },
   {
    "duration": 373,
    "start_time": "2022-01-20T18:05:25.906Z"
   },
   {
    "duration": 5,
    "start_time": "2022-01-20T18:05:38.932Z"
   },
   {
    "duration": 11,
    "start_time": "2022-01-20T18:12:23.687Z"
   },
   {
    "duration": 708,
    "start_time": "2022-01-20T18:14:24.687Z"
   },
   {
    "duration": 8,
    "start_time": "2022-01-20T18:15:43.478Z"
   },
   {
    "duration": 18,
    "start_time": "2022-01-20T18:15:48.984Z"
   },
   {
    "duration": 8,
    "start_time": "2022-01-20T18:16:11.352Z"
   },
   {
    "duration": 17,
    "start_time": "2022-01-20T18:16:11.537Z"
   },
   {
    "duration": 882,
    "start_time": "2022-01-20T18:20:38.834Z"
   },
   {
    "duration": 730,
    "start_time": "2022-01-20T18:21:13.921Z"
   },
   {
    "duration": 8,
    "start_time": "2022-01-20T18:21:18.950Z"
   },
   {
    "duration": 19,
    "start_time": "2022-01-20T18:21:22.943Z"
   },
   {
    "duration": 5,
    "start_time": "2022-01-20T18:22:37.561Z"
   },
   {
    "duration": 42,
    "start_time": "2022-01-20T18:22:37.569Z"
   },
   {
    "duration": 2858,
    "start_time": "2022-01-20T18:22:37.614Z"
   },
   {
    "duration": 4,
    "start_time": "2022-01-20T18:22:40.475Z"
   },
   {
    "duration": 23,
    "start_time": "2022-01-20T18:22:40.481Z"
   },
   {
    "duration": 11,
    "start_time": "2022-01-20T18:22:40.506Z"
   },
   {
    "duration": 900,
    "start_time": "2022-01-20T18:22:40.520Z"
   },
   {
    "duration": 9,
    "start_time": "2022-01-20T18:22:41.424Z"
   },
   {
    "duration": 35,
    "start_time": "2022-01-20T18:22:41.437Z"
   },
   {
    "duration": 50,
    "start_time": "2022-01-20T18:22:41.475Z"
   },
   {
    "duration": 32,
    "start_time": "2022-01-20T18:22:41.528Z"
   },
   {
    "duration": 15,
    "start_time": "2022-01-20T18:22:41.563Z"
   },
   {
    "duration": 90,
    "start_time": "2022-01-20T18:22:41.582Z"
   },
   {
    "duration": 9,
    "start_time": "2022-01-20T18:22:41.676Z"
   },
   {
    "duration": 664,
    "start_time": "2022-01-20T18:22:41.689Z"
   },
   {
    "duration": 9,
    "start_time": "2022-01-20T18:22:42.355Z"
   },
   {
    "duration": 143231,
    "start_time": "2022-01-20T18:22:42.367Z"
   },
   {
    "duration": 8,
    "start_time": "2022-01-20T18:25:05.601Z"
   },
   {
    "duration": 2851,
    "start_time": "2022-01-20T18:25:05.612Z"
   },
   {
    "duration": 671,
    "start_time": "2022-01-20T18:25:08.467Z"
   },
   {
    "duration": 156094,
    "start_time": "2022-01-20T18:25:09.141Z"
   },
   {
    "duration": 1843,
    "start_time": "2022-01-20T18:27:45.239Z"
   },
   {
    "duration": 96,
    "start_time": "2022-01-20T18:27:47.165Z"
   },
   {
    "duration": 20,
    "start_time": "2022-01-20T18:27:47.264Z"
   },
   {
    "duration": 616,
    "start_time": "2022-01-20T18:27:47.286Z"
   },
   {
    "duration": 203360,
    "start_time": "2022-01-20T18:27:47.905Z"
   },
   {
    "duration": 1896,
    "start_time": "2022-01-20T18:31:11.268Z"
   },
   {
    "duration": 104,
    "start_time": "2022-01-20T18:31:13.171Z"
   },
   {
    "duration": 204,
    "start_time": "2022-01-20T18:31:13.278Z"
   },
   {
    "duration": 70356,
    "start_time": "2022-01-20T18:31:13.484Z"
   },
   {
    "duration": 1028,
    "start_time": "2022-01-20T18:32:23.843Z"
   },
   {
    "duration": 107,
    "start_time": "2022-01-20T18:32:24.962Z"
   },
   {
    "duration": 13,
    "start_time": "2022-01-20T18:37:49.173Z"
   },
   {
    "duration": 494,
    "start_time": "2022-01-20T18:37:49.864Z"
   },
   {
    "duration": 24,
    "start_time": "2022-01-20T18:38:13.833Z"
   },
   {
    "duration": 384,
    "start_time": "2022-01-20T18:38:14.724Z"
   },
   {
    "duration": 9,
    "start_time": "2022-01-20T18:38:58.924Z"
   },
   {
    "duration": 14,
    "start_time": "2022-01-20T18:39:15.651Z"
   },
   {
    "duration": 13,
    "start_time": "2022-01-20T18:39:28.559Z"
   },
   {
    "duration": 9,
    "start_time": "2022-01-20T18:39:35.980Z"
   },
   {
    "duration": 366,
    "start_time": "2022-01-20T18:40:40.175Z"
   },
   {
    "duration": 9,
    "start_time": "2022-01-20T18:41:04.673Z"
   },
   {
    "duration": 11,
    "start_time": "2022-01-20T18:41:06.650Z"
   },
   {
    "duration": 8,
    "start_time": "2022-01-20T18:41:42.149Z"
   },
   {
    "duration": 50,
    "start_time": "2022-01-20T18:41:44.480Z"
   },
   {
    "duration": 49,
    "start_time": "2022-01-20T18:43:27.262Z"
   },
   {
    "duration": 7,
    "start_time": "2022-01-20T18:43:50.142Z"
   },
   {
    "duration": 345,
    "start_time": "2022-01-20T18:43:50.856Z"
   },
   {
    "duration": 9,
    "start_time": "2022-01-20T18:43:54.375Z"
   },
   {
    "duration": 901,
    "start_time": "2022-01-20T18:43:54.859Z"
   },
   {
    "duration": 8,
    "start_time": "2022-01-20T18:44:21.051Z"
   },
   {
    "duration": 212,
    "start_time": "2022-01-20T18:44:23.447Z"
   },
   {
    "duration": 517,
    "start_time": "2022-01-20T18:44:29.543Z"
   },
   {
    "duration": 10,
    "start_time": "2022-01-20T18:44:35.212Z"
   },
   {
    "duration": 511,
    "start_time": "2022-01-20T18:44:36.318Z"
   },
   {
    "duration": 8,
    "start_time": "2022-01-20T18:44:54.072Z"
   },
   {
    "duration": 291,
    "start_time": "2022-01-20T18:44:54.236Z"
   },
   {
    "duration": 282,
    "start_time": "2022-01-20T18:45:02.682Z"
   },
   {
    "duration": 18,
    "start_time": "2022-01-20T18:48:01.924Z"
   },
   {
    "duration": 309,
    "start_time": "2022-01-20T18:48:04.929Z"
   },
   {
    "duration": 306,
    "start_time": "2022-01-20T18:48:14.906Z"
   },
   {
    "duration": 1227,
    "start_time": "2022-01-20T18:48:19.932Z"
   },
   {
    "duration": 8,
    "start_time": "2022-01-20T18:48:41.844Z"
   },
   {
    "duration": 51,
    "start_time": "2022-01-20T18:48:42.239Z"
   },
   {
    "duration": 23,
    "start_time": "2022-01-20T18:48:43.416Z"
   },
   {
    "duration": 310,
    "start_time": "2022-01-20T18:48:44.043Z"
   },
   {
    "duration": 269,
    "start_time": "2022-01-20T18:48:50.906Z"
   },
   {
    "duration": 76,
    "start_time": "2022-01-20T18:54:07.722Z"
   },
   {
    "duration": 68,
    "start_time": "2022-01-20T18:54:44.286Z"
   },
   {
    "duration": 66,
    "start_time": "2022-01-20T18:54:57.235Z"
   },
   {
    "duration": 68,
    "start_time": "2022-01-20T18:55:09.433Z"
   },
   {
    "duration": 8,
    "start_time": "2022-01-20T18:55:39.088Z"
   },
   {
    "duration": 11,
    "start_time": "2022-01-20T18:55:42.355Z"
   },
   {
    "duration": 8,
    "start_time": "2022-01-20T18:55:46.555Z"
   },
   {
    "duration": 480,
    "start_time": "2022-01-20T18:55:53.737Z"
   },
   {
    "duration": 330,
    "start_time": "2022-01-20T18:56:24.879Z"
   },
   {
    "duration": 598,
    "start_time": "2022-01-20T18:56:28.663Z"
   },
   {
    "duration": 8,
    "start_time": "2022-01-20T18:57:00.408Z"
   },
   {
    "duration": 53,
    "start_time": "2022-01-20T18:57:00.804Z"
   },
   {
    "duration": 982,
    "start_time": "2022-01-21T07:58:08.460Z"
   },
   {
    "duration": 33,
    "start_time": "2022-01-21T07:58:09.444Z"
   },
   {
    "duration": 1219,
    "start_time": "2022-01-21T10:54:54.343Z"
   },
   {
    "duration": 35,
    "start_time": "2022-01-21T10:54:55.564Z"
   },
   {
    "duration": 1813,
    "start_time": "2022-01-21T10:54:55.601Z"
   },
   {
    "duration": 3,
    "start_time": "2022-01-21T10:54:57.416Z"
   },
   {
    "duration": 52,
    "start_time": "2022-01-21T10:54:57.421Z"
   },
   {
    "duration": 34,
    "start_time": "2022-01-21T10:54:57.475Z"
   },
   {
    "duration": 427,
    "start_time": "2022-01-21T10:54:57.511Z"
   },
   {
    "duration": 7,
    "start_time": "2022-01-21T10:54:57.940Z"
   },
   {
    "duration": 43,
    "start_time": "2022-01-21T10:54:57.949Z"
   },
   {
    "duration": 81,
    "start_time": "2022-01-21T10:54:57.993Z"
   },
   {
    "duration": 42,
    "start_time": "2022-01-21T10:54:58.076Z"
   },
   {
    "duration": 53,
    "start_time": "2022-01-21T10:54:58.120Z"
   },
   {
    "duration": 82,
    "start_time": "2022-01-21T10:54:58.175Z"
   },
   {
    "duration": 390,
    "start_time": "2022-01-21T10:54:58.259Z"
   },
   {
    "duration": 4,
    "start_time": "2022-01-21T11:01:13.386Z"
   },
   {
    "duration": 78,
    "start_time": "2022-01-21T11:01:13.392Z"
   },
   {
    "duration": 1817,
    "start_time": "2022-01-21T11:01:13.472Z"
   },
   {
    "duration": 4,
    "start_time": "2022-01-21T11:01:15.292Z"
   },
   {
    "duration": 55,
    "start_time": "2022-01-21T11:01:15.298Z"
   },
   {
    "duration": 47,
    "start_time": "2022-01-21T11:01:15.355Z"
   },
   {
    "duration": 759,
    "start_time": "2022-01-21T11:01:15.405Z"
   },
   {
    "duration": 8046,
    "start_time": "2022-01-21T11:01:29.987Z"
   },
   {
    "duration": 975,
    "start_time": "2022-01-21T11:02:02.451Z"
   },
   {
    "duration": 260,
    "start_time": "2022-01-21T11:02:16.410Z"
   },
   {
    "duration": 798,
    "start_time": "2022-01-21T11:02:21.293Z"
   },
   {
    "duration": 672,
    "start_time": "2022-01-21T11:02:30.609Z"
   },
   {
    "duration": 395,
    "start_time": "2022-01-21T11:02:36.494Z"
   },
   {
    "duration": 3,
    "start_time": "2022-01-21T11:02:44.626Z"
   },
   {
    "duration": 60,
    "start_time": "2022-01-21T11:02:44.631Z"
   },
   {
    "duration": 1795,
    "start_time": "2022-01-21T11:02:44.693Z"
   },
   {
    "duration": 3,
    "start_time": "2022-01-21T11:02:46.490Z"
   },
   {
    "duration": 50,
    "start_time": "2022-01-21T11:02:46.495Z"
   },
   {
    "duration": 17,
    "start_time": "2022-01-21T11:02:46.547Z"
   },
   {
    "duration": 518,
    "start_time": "2022-01-21T11:02:46.566Z"
   },
   {
    "duration": 676,
    "start_time": "2022-01-21T11:04:09.620Z"
   },
   {
    "duration": 530,
    "start_time": "2022-01-21T11:04:31.926Z"
   },
   {
    "duration": 400,
    "start_time": "2022-01-21T11:04:45.336Z"
   },
   {
    "duration": 293,
    "start_time": "2022-01-21T11:06:12.170Z"
   },
   {
    "duration": 4,
    "start_time": "2022-01-21T11:06:27.491Z"
   },
   {
    "duration": 67,
    "start_time": "2022-01-21T11:06:27.497Z"
   },
   {
    "duration": 1714,
    "start_time": "2022-01-21T11:06:27.566Z"
   },
   {
    "duration": 3,
    "start_time": "2022-01-21T11:06:29.282Z"
   },
   {
    "duration": 23,
    "start_time": "2022-01-21T11:06:29.286Z"
   },
   {
    "duration": 23,
    "start_time": "2022-01-21T11:06:29.311Z"
   },
   {
    "duration": 653,
    "start_time": "2022-01-21T11:06:29.336Z"
   },
   {
    "duration": 8,
    "start_time": "2022-01-21T11:06:29.991Z"
   },
   {
    "duration": 13,
    "start_time": "2022-01-21T11:06:30.001Z"
   },
   {
    "duration": 34,
    "start_time": "2022-01-21T11:06:30.016Z"
   },
   {
    "duration": 6,
    "start_time": "2022-01-21T11:06:30.060Z"
   },
   {
    "duration": 9,
    "start_time": "2022-01-21T11:06:30.068Z"
   },
   {
    "duration": 29,
    "start_time": "2022-01-21T11:06:30.079Z"
   },
   {
    "duration": 260,
    "start_time": "2022-01-21T11:06:30.110Z"
   },
   {
    "duration": 6,
    "start_time": "2022-01-21T11:06:47.561Z"
   },
   {
    "duration": 1183,
    "start_time": "2022-02-04T16:37:11.398Z"
   }
  ],
  "kernelspec": {
   "display_name": "Python 3",
   "language": "python",
   "name": "python3"
  },
  "language_info": {
   "codemirror_mode": {
    "name": "ipython",
    "version": 3
   },
   "file_extension": ".py",
   "mimetype": "text/x-python",
   "name": "python",
   "nbconvert_exporter": "python",
   "pygments_lexer": "ipython3",
   "version": "3.8.8"
  },
  "toc": {
   "base_numbering": 1,
   "nav_menu": {},
   "number_sections": true,
   "sideBar": true,
   "skip_h1_title": true,
   "title_cell": "Содержание",
   "title_sidebar": "Contents",
   "toc_cell": true,
   "toc_position": {},
   "toc_section_display": true,
   "toc_window_display": true
  }
 },
 "nbformat": 4,
 "nbformat_minor": 2
}
