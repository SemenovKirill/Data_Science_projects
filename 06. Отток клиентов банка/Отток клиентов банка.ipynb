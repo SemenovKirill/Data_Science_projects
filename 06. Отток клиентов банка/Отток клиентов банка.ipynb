version https://git-lfs.github.com/spec/v1
oid sha256:9d612e3f887d7b38cc2a1fd4579b62d9f2083412aeac6e052d893cfb6e16bbdd
size 144876
