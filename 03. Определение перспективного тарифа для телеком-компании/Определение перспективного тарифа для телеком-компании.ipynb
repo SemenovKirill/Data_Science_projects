{
 "cells": [
  {
   "cell_type": "markdown",
   "id": "e130f9e2",
   "metadata": {},
   "source": [
    "# Определение перспективного тарифа для телеком-компании.  "
   ]
  },
  {
   "cell_type": "markdown",
   "id": "62701d19",
   "metadata": {
    "toc": true
   },
   "source": [
    "<h1>Содержание<span class=\"tocSkip\"></span></h1>\n",
    "<div class=\"toc\"><ul class=\"toc-item\"><li><span><a href=\"#Первый-взгляд\" data-toc-modified-id=\"Первый-взгляд-1\"><span class=\"toc-item-num\">1&nbsp;&nbsp;</span>Первый взгляд</a></span><ul class=\"toc-item\"><li><span><a href=\"#Вывод\" data-toc-modified-id=\"Вывод-1.1\"><span class=\"toc-item-num\">1.1&nbsp;&nbsp;</span>Вывод</a></span></li></ul></li><li><span><a href=\"#Подготовка-данных.\" data-toc-modified-id=\"Подготовка-данных.-2\"><span class=\"toc-item-num\">2&nbsp;&nbsp;</span>Подготовка данных.</a></span><ul class=\"toc-item\"><li><span><a href=\"#Изменение-типов-данных\" data-toc-modified-id=\"Изменение-типов-данных-2.1\"><span class=\"toc-item-num\">2.1&nbsp;&nbsp;</span>Изменение типов данных</a></span></li><li><span><a href=\"#Проверка-на-дубликаты\" data-toc-modified-id=\"Проверка-на-дубликаты-2.2\"><span class=\"toc-item-num\">2.2&nbsp;&nbsp;</span>Проверка на дубликаты</a></span></li><li><span><a href=\"#Удаление-лишнего-столбца\" data-toc-modified-id=\"Удаление-лишнего-столбца-2.3\"><span class=\"toc-item-num\">2.3&nbsp;&nbsp;</span>Удаление лишнего столбца</a></span></li><li><span><a href=\"#Сведение-данных\" data-toc-modified-id=\"Сведение-данных-2.4\"><span class=\"toc-item-num\">2.4&nbsp;&nbsp;</span>Сведение данных</a></span><ul class=\"toc-item\"><li><span><a href=\"#Сведение-данных-об-использовании-связи\" data-toc-modified-id=\"Сведение-данных-об-использовании-связи-2.4.1\"><span class=\"toc-item-num\">2.4.1&nbsp;&nbsp;</span>Сведение данных об использовании связи</a></span></li><li><span><a href=\"#Сведение-данных-о-тарифах\" data-toc-modified-id=\"Сведение-данных-о-тарифах-2.4.2\"><span class=\"toc-item-num\">2.4.2&nbsp;&nbsp;</span>Сведение данных о тарифах</a></span></li><li><span><a href=\"#Вычисление-выручки\" data-toc-modified-id=\"Вычисление-выручки-2.4.3\"><span class=\"toc-item-num\">2.4.3&nbsp;&nbsp;</span>Вычисление выручки</a></span></li><li><span><a href=\"#Вывод\" data-toc-modified-id=\"Вывод-2.4.4\"><span class=\"toc-item-num\">2.4.4&nbsp;&nbsp;</span>Вывод</a></span></li></ul></li></ul></li><li><span><a href=\"#Анализ-данных.\" data-toc-modified-id=\"Анализ-данных.-3\"><span class=\"toc-item-num\">3&nbsp;&nbsp;</span>Анализ данных.</a></span><ul class=\"toc-item\"><li><span><a href=\"#Вывод\" data-toc-modified-id=\"Вывод-3.1\"><span class=\"toc-item-num\">3.1&nbsp;&nbsp;</span>Вывод</a></span></li></ul></li><li><span><a href=\"#Проверка-гипотез.\" data-toc-modified-id=\"Проверка-гипотез.-4\"><span class=\"toc-item-num\">4&nbsp;&nbsp;</span>Проверка гипотез.</a></span><ul class=\"toc-item\"><li><span><a href=\"#Средняя-выручка-пользователей-разных-тарифов-отличается.\" data-toc-modified-id=\"Средняя-выручка-пользователей-разных-тарифов-отличается.-4.1\"><span class=\"toc-item-num\">4.1&nbsp;&nbsp;</span>Средняя выручка пользователей разных тарифов отличается.</a></span></li><li><span><a href=\"#Средняя-выручка-отличается-в-зависимости-от-региона.\" data-toc-modified-id=\"Средняя-выручка-отличается-в-зависимости-от-региона.-4.2\"><span class=\"toc-item-num\">4.2&nbsp;&nbsp;</span>Средняя выручка отличается в зависимости от региона.</a></span></li><li><span><a href=\"#Вывод\" data-toc-modified-id=\"Вывод-4.3\"><span class=\"toc-item-num\">4.3&nbsp;&nbsp;</span>Вывод</a></span></li></ul></li><li><span><a href=\"#Общий-вывод.\" data-toc-modified-id=\"Общий-вывод.-5\"><span class=\"toc-item-num\">5&nbsp;&nbsp;</span>Общий вывод.</a></span></li></ul></div>"
   ]
  },
  {
   "cell_type": "markdown",
   "id": "928bb616",
   "metadata": {},
   "source": [
    "## Первый взгляд"
   ]
  },
  {
   "cell_type": "code",
   "execution_count": null,
   "id": "4f6a7c22",
   "metadata": {},
   "outputs": [],
   "source": [
    "import pandas as pd\n",
    "import numpy as np\n",
    "import matplotlib.pyplot as plt\n",
    "import scipy.stats as st"
   ]
  },
  {
   "cell_type": "code",
   "execution_count": 1,
   "id": "a672a461",
   "metadata": {},
   "outputs": [
    {
     "name": "stdout",
     "output_type": "stream",
     "text": [
      "<class 'pandas.core.frame.DataFrame'>\n",
      "RangeIndex: 500 entries, 0 to 499\n",
      "Data columns (total 8 columns):\n",
      "user_id       500 non-null int64\n",
      "age           500 non-null int64\n",
      "churn_date    38 non-null object\n",
      "city          500 non-null object\n",
      "first_name    500 non-null object\n",
      "last_name     500 non-null object\n",
      "reg_date      500 non-null object\n",
      "tariff        500 non-null object\n",
      "dtypes: int64(2), object(6)\n",
      "memory usage: 31.4+ KB\n"
     ]
    },
    {
     "data": {
      "text/html": [
       "<div>\n",
       "<style scoped>\n",
       "    .dataframe tbody tr th:only-of-type {\n",
       "        vertical-align: middle;\n",
       "    }\n",
       "\n",
       "    .dataframe tbody tr th {\n",
       "        vertical-align: top;\n",
       "    }\n",
       "\n",
       "    .dataframe thead th {\n",
       "        text-align: right;\n",
       "    }\n",
       "</style>\n",
       "<table border=\"1\" class=\"dataframe\">\n",
       "  <thead>\n",
       "    <tr style=\"text-align: right;\">\n",
       "      <th></th>\n",
       "      <th>user_id</th>\n",
       "      <th>age</th>\n",
       "      <th>churn_date</th>\n",
       "      <th>city</th>\n",
       "      <th>first_name</th>\n",
       "      <th>last_name</th>\n",
       "      <th>reg_date</th>\n",
       "      <th>tariff</th>\n",
       "    </tr>\n",
       "  </thead>\n",
       "  <tbody>\n",
       "    <tr>\n",
       "      <td>0</td>\n",
       "      <td>1000</td>\n",
       "      <td>52</td>\n",
       "      <td>NaN</td>\n",
       "      <td>Краснодар</td>\n",
       "      <td>Рафаил</td>\n",
       "      <td>Верещагин</td>\n",
       "      <td>2018-05-25</td>\n",
       "      <td>ultra</td>\n",
       "    </tr>\n",
       "    <tr>\n",
       "      <td>1</td>\n",
       "      <td>1001</td>\n",
       "      <td>41</td>\n",
       "      <td>NaN</td>\n",
       "      <td>Москва</td>\n",
       "      <td>Иван</td>\n",
       "      <td>Ежов</td>\n",
       "      <td>2018-11-01</td>\n",
       "      <td>smart</td>\n",
       "    </tr>\n",
       "    <tr>\n",
       "      <td>2</td>\n",
       "      <td>1002</td>\n",
       "      <td>59</td>\n",
       "      <td>NaN</td>\n",
       "      <td>Стерлитамак</td>\n",
       "      <td>Евгений</td>\n",
       "      <td>Абрамович</td>\n",
       "      <td>2018-06-17</td>\n",
       "      <td>smart</td>\n",
       "    </tr>\n",
       "    <tr>\n",
       "      <td>3</td>\n",
       "      <td>1003</td>\n",
       "      <td>23</td>\n",
       "      <td>NaN</td>\n",
       "      <td>Москва</td>\n",
       "      <td>Белла</td>\n",
       "      <td>Белякова</td>\n",
       "      <td>2018-08-17</td>\n",
       "      <td>ultra</td>\n",
       "    </tr>\n",
       "    <tr>\n",
       "      <td>4</td>\n",
       "      <td>1004</td>\n",
       "      <td>68</td>\n",
       "      <td>NaN</td>\n",
       "      <td>Новокузнецк</td>\n",
       "      <td>Татьяна</td>\n",
       "      <td>Авдеенко</td>\n",
       "      <td>2018-05-14</td>\n",
       "      <td>ultra</td>\n",
       "    </tr>\n",
       "    <tr>\n",
       "      <td>...</td>\n",
       "      <td>...</td>\n",
       "      <td>...</td>\n",
       "      <td>...</td>\n",
       "      <td>...</td>\n",
       "      <td>...</td>\n",
       "      <td>...</td>\n",
       "      <td>...</td>\n",
       "      <td>...</td>\n",
       "    </tr>\n",
       "    <tr>\n",
       "      <td>495</td>\n",
       "      <td>1495</td>\n",
       "      <td>65</td>\n",
       "      <td>NaN</td>\n",
       "      <td>Иркутск</td>\n",
       "      <td>Авксентий</td>\n",
       "      <td>Фокин</td>\n",
       "      <td>2018-08-28</td>\n",
       "      <td>ultra</td>\n",
       "    </tr>\n",
       "    <tr>\n",
       "      <td>496</td>\n",
       "      <td>1496</td>\n",
       "      <td>36</td>\n",
       "      <td>NaN</td>\n",
       "      <td>Вологда</td>\n",
       "      <td>Трифон</td>\n",
       "      <td>Блохин</td>\n",
       "      <td>2018-01-27</td>\n",
       "      <td>smart</td>\n",
       "    </tr>\n",
       "    <tr>\n",
       "      <td>497</td>\n",
       "      <td>1497</td>\n",
       "      <td>32</td>\n",
       "      <td>NaN</td>\n",
       "      <td>Челябинск</td>\n",
       "      <td>Каролина</td>\n",
       "      <td>Агеева</td>\n",
       "      <td>2018-10-09</td>\n",
       "      <td>smart</td>\n",
       "    </tr>\n",
       "    <tr>\n",
       "      <td>498</td>\n",
       "      <td>1498</td>\n",
       "      <td>68</td>\n",
       "      <td>2018-10-25</td>\n",
       "      <td>Владикавказ</td>\n",
       "      <td>Всеволод</td>\n",
       "      <td>Акимчин</td>\n",
       "      <td>2018-07-19</td>\n",
       "      <td>smart</td>\n",
       "    </tr>\n",
       "    <tr>\n",
       "      <td>499</td>\n",
       "      <td>1499</td>\n",
       "      <td>35</td>\n",
       "      <td>NaN</td>\n",
       "      <td>Пермь</td>\n",
       "      <td>Гектор</td>\n",
       "      <td>Корнилов</td>\n",
       "      <td>2018-09-27</td>\n",
       "      <td>smart</td>\n",
       "    </tr>\n",
       "  </tbody>\n",
       "</table>\n",
       "<p>500 rows × 8 columns</p>\n",
       "</div>"
      ],
      "text/plain": [
       "     user_id  age  churn_date         city first_name  last_name    reg_date  \\\n",
       "0       1000   52         NaN    Краснодар     Рафаил  Верещагин  2018-05-25   \n",
       "1       1001   41         NaN       Москва       Иван       Ежов  2018-11-01   \n",
       "2       1002   59         NaN  Стерлитамак    Евгений  Абрамович  2018-06-17   \n",
       "3       1003   23         NaN       Москва      Белла   Белякова  2018-08-17   \n",
       "4       1004   68         NaN  Новокузнецк    Татьяна   Авдеенко  2018-05-14   \n",
       "..       ...  ...         ...          ...        ...        ...         ...   \n",
       "495     1495   65         NaN      Иркутск  Авксентий      Фокин  2018-08-28   \n",
       "496     1496   36         NaN      Вологда     Трифон     Блохин  2018-01-27   \n",
       "497     1497   32         NaN    Челябинск   Каролина     Агеева  2018-10-09   \n",
       "498     1498   68  2018-10-25  Владикавказ   Всеволод    Акимчин  2018-07-19   \n",
       "499     1499   35         NaN        Пермь     Гектор   Корнилов  2018-09-27   \n",
       "\n",
       "    tariff  \n",
       "0    ultra  \n",
       "1    smart  \n",
       "2    smart  \n",
       "3    ultra  \n",
       "4    ultra  \n",
       "..     ...  \n",
       "495  ultra  \n",
       "496  smart  \n",
       "497  smart  \n",
       "498  smart  \n",
       "499  smart  \n",
       "\n",
       "[500 rows x 8 columns]"
      ]
     },
     "execution_count": 1,
     "metadata": {},
     "output_type": "execute_result"
    }
   ],
   "source": [
    "df_users = pd.read_csv(\"/datasets/users.csv\")\n",
    "df_calls = pd.read_csv(\"/datasets/calls.csv\")\n",
    "df_messages = pd.read_csv(\"/datasets/messages.csv\")\n",
    "df_internet = pd.read_csv(\"/datasets/internet.csv\")\n",
    "df_tariffs = pd.read_csv(\"/datasets/tariffs.csv\")\n",
    "\n",
    "df_users.info()\n",
    "df_users"
   ]
  },
  {
   "cell_type": "code",
   "execution_count": 2,
   "id": "e17796da",
   "metadata": {},
   "outputs": [
    {
     "name": "stdout",
     "output_type": "stream",
     "text": [
      "<class 'pandas.core.frame.DataFrame'>\n",
      "RangeIndex: 202607 entries, 0 to 202606\n",
      "Data columns (total 4 columns):\n",
      "id           202607 non-null object\n",
      "call_date    202607 non-null object\n",
      "duration     202607 non-null float64\n",
      "user_id      202607 non-null int64\n",
      "dtypes: float64(1), int64(1), object(2)\n",
      "memory usage: 6.2+ MB\n"
     ]
    },
    {
     "data": {
      "text/html": [
       "<div>\n",
       "<style scoped>\n",
       "    .dataframe tbody tr th:only-of-type {\n",
       "        vertical-align: middle;\n",
       "    }\n",
       "\n",
       "    .dataframe tbody tr th {\n",
       "        vertical-align: top;\n",
       "    }\n",
       "\n",
       "    .dataframe thead th {\n",
       "        text-align: right;\n",
       "    }\n",
       "</style>\n",
       "<table border=\"1\" class=\"dataframe\">\n",
       "  <thead>\n",
       "    <tr style=\"text-align: right;\">\n",
       "      <th></th>\n",
       "      <th>id</th>\n",
       "      <th>call_date</th>\n",
       "      <th>duration</th>\n",
       "      <th>user_id</th>\n",
       "    </tr>\n",
       "  </thead>\n",
       "  <tbody>\n",
       "    <tr>\n",
       "      <td>0</td>\n",
       "      <td>1000_0</td>\n",
       "      <td>2018-07-25</td>\n",
       "      <td>0.00</td>\n",
       "      <td>1000</td>\n",
       "    </tr>\n",
       "    <tr>\n",
       "      <td>1</td>\n",
       "      <td>1000_1</td>\n",
       "      <td>2018-08-17</td>\n",
       "      <td>0.00</td>\n",
       "      <td>1000</td>\n",
       "    </tr>\n",
       "    <tr>\n",
       "      <td>2</td>\n",
       "      <td>1000_2</td>\n",
       "      <td>2018-06-11</td>\n",
       "      <td>2.85</td>\n",
       "      <td>1000</td>\n",
       "    </tr>\n",
       "    <tr>\n",
       "      <td>3</td>\n",
       "      <td>1000_3</td>\n",
       "      <td>2018-09-21</td>\n",
       "      <td>13.80</td>\n",
       "      <td>1000</td>\n",
       "    </tr>\n",
       "    <tr>\n",
       "      <td>4</td>\n",
       "      <td>1000_4</td>\n",
       "      <td>2018-12-15</td>\n",
       "      <td>5.18</td>\n",
       "      <td>1000</td>\n",
       "    </tr>\n",
       "    <tr>\n",
       "      <td>...</td>\n",
       "      <td>...</td>\n",
       "      <td>...</td>\n",
       "      <td>...</td>\n",
       "      <td>...</td>\n",
       "    </tr>\n",
       "    <tr>\n",
       "      <td>202602</td>\n",
       "      <td>1499_215</td>\n",
       "      <td>2018-12-26</td>\n",
       "      <td>0.76</td>\n",
       "      <td>1499</td>\n",
       "    </tr>\n",
       "    <tr>\n",
       "      <td>202603</td>\n",
       "      <td>1499_216</td>\n",
       "      <td>2018-10-18</td>\n",
       "      <td>18.83</td>\n",
       "      <td>1499</td>\n",
       "    </tr>\n",
       "    <tr>\n",
       "      <td>202604</td>\n",
       "      <td>1499_217</td>\n",
       "      <td>2018-11-10</td>\n",
       "      <td>10.81</td>\n",
       "      <td>1499</td>\n",
       "    </tr>\n",
       "    <tr>\n",
       "      <td>202605</td>\n",
       "      <td>1499_218</td>\n",
       "      <td>2018-10-06</td>\n",
       "      <td>4.27</td>\n",
       "      <td>1499</td>\n",
       "    </tr>\n",
       "    <tr>\n",
       "      <td>202606</td>\n",
       "      <td>1499_219</td>\n",
       "      <td>2018-12-14</td>\n",
       "      <td>19.62</td>\n",
       "      <td>1499</td>\n",
       "    </tr>\n",
       "  </tbody>\n",
       "</table>\n",
       "<p>202607 rows × 4 columns</p>\n",
       "</div>"
      ],
      "text/plain": [
       "              id   call_date  duration  user_id\n",
       "0         1000_0  2018-07-25      0.00     1000\n",
       "1         1000_1  2018-08-17      0.00     1000\n",
       "2         1000_2  2018-06-11      2.85     1000\n",
       "3         1000_3  2018-09-21     13.80     1000\n",
       "4         1000_4  2018-12-15      5.18     1000\n",
       "...          ...         ...       ...      ...\n",
       "202602  1499_215  2018-12-26      0.76     1499\n",
       "202603  1499_216  2018-10-18     18.83     1499\n",
       "202604  1499_217  2018-11-10     10.81     1499\n",
       "202605  1499_218  2018-10-06      4.27     1499\n",
       "202606  1499_219  2018-12-14     19.62     1499\n",
       "\n",
       "[202607 rows x 4 columns]"
      ]
     },
     "execution_count": 2,
     "metadata": {},
     "output_type": "execute_result"
    }
   ],
   "source": [
    "df_calls.info()\n",
    "df_calls"
   ]
  },
  {
   "cell_type": "code",
   "execution_count": 3,
   "id": "69bcd6ca",
   "metadata": {},
   "outputs": [
    {
     "name": "stdout",
     "output_type": "stream",
     "text": [
      "<class 'pandas.core.frame.DataFrame'>\n",
      "RangeIndex: 123036 entries, 0 to 123035\n",
      "Data columns (total 3 columns):\n",
      "id              123036 non-null object\n",
      "message_date    123036 non-null object\n",
      "user_id         123036 non-null int64\n",
      "dtypes: int64(1), object(2)\n",
      "memory usage: 2.8+ MB\n"
     ]
    },
    {
     "data": {
      "text/html": [
       "<div>\n",
       "<style scoped>\n",
       "    .dataframe tbody tr th:only-of-type {\n",
       "        vertical-align: middle;\n",
       "    }\n",
       "\n",
       "    .dataframe tbody tr th {\n",
       "        vertical-align: top;\n",
       "    }\n",
       "\n",
       "    .dataframe thead th {\n",
       "        text-align: right;\n",
       "    }\n",
       "</style>\n",
       "<table border=\"1\" class=\"dataframe\">\n",
       "  <thead>\n",
       "    <tr style=\"text-align: right;\">\n",
       "      <th></th>\n",
       "      <th>id</th>\n",
       "      <th>message_date</th>\n",
       "      <th>user_id</th>\n",
       "    </tr>\n",
       "  </thead>\n",
       "  <tbody>\n",
       "    <tr>\n",
       "      <td>0</td>\n",
       "      <td>1000_0</td>\n",
       "      <td>2018-06-27</td>\n",
       "      <td>1000</td>\n",
       "    </tr>\n",
       "    <tr>\n",
       "      <td>1</td>\n",
       "      <td>1000_1</td>\n",
       "      <td>2018-10-08</td>\n",
       "      <td>1000</td>\n",
       "    </tr>\n",
       "    <tr>\n",
       "      <td>2</td>\n",
       "      <td>1000_2</td>\n",
       "      <td>2018-08-04</td>\n",
       "      <td>1000</td>\n",
       "    </tr>\n",
       "    <tr>\n",
       "      <td>3</td>\n",
       "      <td>1000_3</td>\n",
       "      <td>2018-06-16</td>\n",
       "      <td>1000</td>\n",
       "    </tr>\n",
       "    <tr>\n",
       "      <td>4</td>\n",
       "      <td>1000_4</td>\n",
       "      <td>2018-12-05</td>\n",
       "      <td>1000</td>\n",
       "    </tr>\n",
       "    <tr>\n",
       "      <td>...</td>\n",
       "      <td>...</td>\n",
       "      <td>...</td>\n",
       "      <td>...</td>\n",
       "    </tr>\n",
       "    <tr>\n",
       "      <td>123031</td>\n",
       "      <td>1499_179</td>\n",
       "      <td>2018-12-12</td>\n",
       "      <td>1499</td>\n",
       "    </tr>\n",
       "    <tr>\n",
       "      <td>123032</td>\n",
       "      <td>1499_180</td>\n",
       "      <td>2018-09-28</td>\n",
       "      <td>1499</td>\n",
       "    </tr>\n",
       "    <tr>\n",
       "      <td>123033</td>\n",
       "      <td>1499_181</td>\n",
       "      <td>2018-09-27</td>\n",
       "      <td>1499</td>\n",
       "    </tr>\n",
       "    <tr>\n",
       "      <td>123034</td>\n",
       "      <td>1499_182</td>\n",
       "      <td>2018-11-15</td>\n",
       "      <td>1499</td>\n",
       "    </tr>\n",
       "    <tr>\n",
       "      <td>123035</td>\n",
       "      <td>1499_183</td>\n",
       "      <td>2018-11-16</td>\n",
       "      <td>1499</td>\n",
       "    </tr>\n",
       "  </tbody>\n",
       "</table>\n",
       "<p>123036 rows × 3 columns</p>\n",
       "</div>"
      ],
      "text/plain": [
       "              id message_date  user_id\n",
       "0         1000_0   2018-06-27     1000\n",
       "1         1000_1   2018-10-08     1000\n",
       "2         1000_2   2018-08-04     1000\n",
       "3         1000_3   2018-06-16     1000\n",
       "4         1000_4   2018-12-05     1000\n",
       "...          ...          ...      ...\n",
       "123031  1499_179   2018-12-12     1499\n",
       "123032  1499_180   2018-09-28     1499\n",
       "123033  1499_181   2018-09-27     1499\n",
       "123034  1499_182   2018-11-15     1499\n",
       "123035  1499_183   2018-11-16     1499\n",
       "\n",
       "[123036 rows x 3 columns]"
      ]
     },
     "execution_count": 3,
     "metadata": {},
     "output_type": "execute_result"
    }
   ],
   "source": [
    "df_messages.info()\n",
    "df_messages"
   ]
  },
  {
   "cell_type": "code",
   "execution_count": 4,
   "id": "985989ae",
   "metadata": {},
   "outputs": [
    {
     "name": "stdout",
     "output_type": "stream",
     "text": [
      "<class 'pandas.core.frame.DataFrame'>\n",
      "RangeIndex: 149396 entries, 0 to 149395\n",
      "Data columns (total 5 columns):\n",
      "Unnamed: 0      149396 non-null int64\n",
      "id              149396 non-null object\n",
      "mb_used         149396 non-null float64\n",
      "session_date    149396 non-null object\n",
      "user_id         149396 non-null int64\n",
      "dtypes: float64(1), int64(2), object(2)\n",
      "memory usage: 5.7+ MB\n"
     ]
    },
    {
     "data": {
      "text/html": [
       "<div>\n",
       "<style scoped>\n",
       "    .dataframe tbody tr th:only-of-type {\n",
       "        vertical-align: middle;\n",
       "    }\n",
       "\n",
       "    .dataframe tbody tr th {\n",
       "        vertical-align: top;\n",
       "    }\n",
       "\n",
       "    .dataframe thead th {\n",
       "        text-align: right;\n",
       "    }\n",
       "</style>\n",
       "<table border=\"1\" class=\"dataframe\">\n",
       "  <thead>\n",
       "    <tr style=\"text-align: right;\">\n",
       "      <th></th>\n",
       "      <th>Unnamed: 0</th>\n",
       "      <th>id</th>\n",
       "      <th>mb_used</th>\n",
       "      <th>session_date</th>\n",
       "      <th>user_id</th>\n",
       "    </tr>\n",
       "  </thead>\n",
       "  <tbody>\n",
       "    <tr>\n",
       "      <td>0</td>\n",
       "      <td>0</td>\n",
       "      <td>1000_0</td>\n",
       "      <td>112.95</td>\n",
       "      <td>2018-11-25</td>\n",
       "      <td>1000</td>\n",
       "    </tr>\n",
       "    <tr>\n",
       "      <td>1</td>\n",
       "      <td>1</td>\n",
       "      <td>1000_1</td>\n",
       "      <td>1052.81</td>\n",
       "      <td>2018-09-07</td>\n",
       "      <td>1000</td>\n",
       "    </tr>\n",
       "    <tr>\n",
       "      <td>2</td>\n",
       "      <td>2</td>\n",
       "      <td>1000_2</td>\n",
       "      <td>1197.26</td>\n",
       "      <td>2018-06-25</td>\n",
       "      <td>1000</td>\n",
       "    </tr>\n",
       "    <tr>\n",
       "      <td>3</td>\n",
       "      <td>3</td>\n",
       "      <td>1000_3</td>\n",
       "      <td>550.27</td>\n",
       "      <td>2018-08-22</td>\n",
       "      <td>1000</td>\n",
       "    </tr>\n",
       "    <tr>\n",
       "      <td>4</td>\n",
       "      <td>4</td>\n",
       "      <td>1000_4</td>\n",
       "      <td>302.56</td>\n",
       "      <td>2018-09-24</td>\n",
       "      <td>1000</td>\n",
       "    </tr>\n",
       "    <tr>\n",
       "      <td>...</td>\n",
       "      <td>...</td>\n",
       "      <td>...</td>\n",
       "      <td>...</td>\n",
       "      <td>...</td>\n",
       "      <td>...</td>\n",
       "    </tr>\n",
       "    <tr>\n",
       "      <td>149391</td>\n",
       "      <td>149391</td>\n",
       "      <td>1499_152</td>\n",
       "      <td>318.90</td>\n",
       "      <td>2018-10-03</td>\n",
       "      <td>1499</td>\n",
       "    </tr>\n",
       "    <tr>\n",
       "      <td>149392</td>\n",
       "      <td>149392</td>\n",
       "      <td>1499_153</td>\n",
       "      <td>490.13</td>\n",
       "      <td>2018-12-14</td>\n",
       "      <td>1499</td>\n",
       "    </tr>\n",
       "    <tr>\n",
       "      <td>149393</td>\n",
       "      <td>149393</td>\n",
       "      <td>1499_154</td>\n",
       "      <td>0.00</td>\n",
       "      <td>2018-10-27</td>\n",
       "      <td>1499</td>\n",
       "    </tr>\n",
       "    <tr>\n",
       "      <td>149394</td>\n",
       "      <td>149394</td>\n",
       "      <td>1499_155</td>\n",
       "      <td>1246.32</td>\n",
       "      <td>2018-11-26</td>\n",
       "      <td>1499</td>\n",
       "    </tr>\n",
       "    <tr>\n",
       "      <td>149395</td>\n",
       "      <td>149395</td>\n",
       "      <td>1499_156</td>\n",
       "      <td>544.37</td>\n",
       "      <td>2018-10-26</td>\n",
       "      <td>1499</td>\n",
       "    </tr>\n",
       "  </tbody>\n",
       "</table>\n",
       "<p>149396 rows × 5 columns</p>\n",
       "</div>"
      ],
      "text/plain": [
       "        Unnamed: 0        id  mb_used session_date  user_id\n",
       "0                0    1000_0   112.95   2018-11-25     1000\n",
       "1                1    1000_1  1052.81   2018-09-07     1000\n",
       "2                2    1000_2  1197.26   2018-06-25     1000\n",
       "3                3    1000_3   550.27   2018-08-22     1000\n",
       "4                4    1000_4   302.56   2018-09-24     1000\n",
       "...            ...       ...      ...          ...      ...\n",
       "149391      149391  1499_152   318.90   2018-10-03     1499\n",
       "149392      149392  1499_153   490.13   2018-12-14     1499\n",
       "149393      149393  1499_154     0.00   2018-10-27     1499\n",
       "149394      149394  1499_155  1246.32   2018-11-26     1499\n",
       "149395      149395  1499_156   544.37   2018-10-26     1499\n",
       "\n",
       "[149396 rows x 5 columns]"
      ]
     },
     "execution_count": 4,
     "metadata": {},
     "output_type": "execute_result"
    }
   ],
   "source": [
    "df_internet.info()\n",
    "df_internet"
   ]
  },
  {
   "cell_type": "code",
   "execution_count": 5,
   "id": "b98bfd0a",
   "metadata": {},
   "outputs": [
    {
     "name": "stdout",
     "output_type": "stream",
     "text": [
      "<class 'pandas.core.frame.DataFrame'>\n",
      "RangeIndex: 2 entries, 0 to 1\n",
      "Data columns (total 8 columns):\n",
      "messages_included        2 non-null int64\n",
      "mb_per_month_included    2 non-null int64\n",
      "minutes_included         2 non-null int64\n",
      "rub_monthly_fee          2 non-null int64\n",
      "rub_per_gb               2 non-null int64\n",
      "rub_per_message          2 non-null int64\n",
      "rub_per_minute           2 non-null int64\n",
      "tariff_name              2 non-null object\n",
      "dtypes: int64(7), object(1)\n",
      "memory usage: 256.0+ bytes\n"
     ]
    },
    {
     "data": {
      "text/html": [
       "<div>\n",
       "<style scoped>\n",
       "    .dataframe tbody tr th:only-of-type {\n",
       "        vertical-align: middle;\n",
       "    }\n",
       "\n",
       "    .dataframe tbody tr th {\n",
       "        vertical-align: top;\n",
       "    }\n",
       "\n",
       "    .dataframe thead th {\n",
       "        text-align: right;\n",
       "    }\n",
       "</style>\n",
       "<table border=\"1\" class=\"dataframe\">\n",
       "  <thead>\n",
       "    <tr style=\"text-align: right;\">\n",
       "      <th></th>\n",
       "      <th>messages_included</th>\n",
       "      <th>mb_per_month_included</th>\n",
       "      <th>minutes_included</th>\n",
       "      <th>rub_monthly_fee</th>\n",
       "      <th>rub_per_gb</th>\n",
       "      <th>rub_per_message</th>\n",
       "      <th>rub_per_minute</th>\n",
       "      <th>tariff_name</th>\n",
       "    </tr>\n",
       "  </thead>\n",
       "  <tbody>\n",
       "    <tr>\n",
       "      <td>0</td>\n",
       "      <td>50</td>\n",
       "      <td>15360</td>\n",
       "      <td>500</td>\n",
       "      <td>550</td>\n",
       "      <td>200</td>\n",
       "      <td>3</td>\n",
       "      <td>3</td>\n",
       "      <td>smart</td>\n",
       "    </tr>\n",
       "    <tr>\n",
       "      <td>1</td>\n",
       "      <td>1000</td>\n",
       "      <td>30720</td>\n",
       "      <td>3000</td>\n",
       "      <td>1950</td>\n",
       "      <td>150</td>\n",
       "      <td>1</td>\n",
       "      <td>1</td>\n",
       "      <td>ultra</td>\n",
       "    </tr>\n",
       "  </tbody>\n",
       "</table>\n",
       "</div>"
      ],
      "text/plain": [
       "   messages_included  mb_per_month_included  minutes_included  \\\n",
       "0                 50                  15360               500   \n",
       "1               1000                  30720              3000   \n",
       "\n",
       "   rub_monthly_fee  rub_per_gb  rub_per_message  rub_per_minute tariff_name  \n",
       "0              550         200                3               3       smart  \n",
       "1             1950         150                1               1       ultra  "
      ]
     },
     "execution_count": 5,
     "metadata": {},
     "output_type": "execute_result"
    }
   ],
   "source": [
    "df_tariffs.info()\n",
    "df_tariffs"
   ]
  },
  {
   "cell_type": "markdown",
   "id": "7e1b394b",
   "metadata": {},
   "source": [
    "### Вывод"
   ]
  },
  {
   "cell_type": "markdown",
   "id": "e4754cf7",
   "metadata": {},
   "source": [
    "В качестве исходных данных мы имеем 5 таблиц: список пользователей, информация о совершённых ими вызовах, отправленных сообщениях и использованном интернете, а так же сведения о тарифах оператора \"Мегалайн\". В большинстве своём, исходные данные имеют вполне приличный вид - нет лишних пропусков или некоректных типов данных. Однако, в таблице df_internet есть некий столбец \"Unnamed: 0\", который, судя по всему, повторяет зачения индексов. Судя по исходным данным, этого столбца быть не должно - видимо, он попал к нам случайно."
   ]
  },
  {
   "cell_type": "markdown",
   "id": "e56bd129",
   "metadata": {},
   "source": [
    "## Подготовка данных."
   ]
  },
  {
   "cell_type": "markdown",
   "id": "1d437fb6",
   "metadata": {},
   "source": [
    "### Изменение типов данных "
   ]
  },
  {
   "cell_type": "markdown",
   "id": "c0c110ff",
   "metadata": {},
   "source": [
    "Хоть в исходных таблицах и нет столбцов с ошибочными типами данных, избежать изменения типов всё равно не удастся - у нас довольно много столбцов с датой и временем. Чтобы с ними можно было спокойно работать в дальнейшем, сейчас потребуется привести их к типу datetime:"
   ]
  },
  {
   "cell_type": "code",
   "execution_count": 6,
   "id": "767058f0",
   "metadata": {},
   "outputs": [
    {
     "name": "stdout",
     "output_type": "stream",
     "text": [
      "<class 'pandas.core.frame.DataFrame'>\n",
      "RangeIndex: 500 entries, 0 to 499\n",
      "Data columns (total 8 columns):\n",
      "user_id       500 non-null int64\n",
      "age           500 non-null int64\n",
      "churn_date    38 non-null datetime64[ns]\n",
      "city          500 non-null object\n",
      "first_name    500 non-null object\n",
      "last_name     500 non-null object\n",
      "reg_date      500 non-null datetime64[ns]\n",
      "tariff        500 non-null object\n",
      "dtypes: datetime64[ns](2), int64(2), object(4)\n",
      "memory usage: 31.4+ KB\n"
     ]
    }
   ],
   "source": [
    "def change_type (column):\n",
    "    val = pd.to_datetime(column, format='%Y-%m-%d')\n",
    "    return val\n",
    "\n",
    "df_users['reg_date'] = change_type(df_users['reg_date'])\n",
    "df_users['churn_date'] = change_type(df_users['churn_date'])\n",
    "df_users.info()"
   ]
  },
  {
   "cell_type": "code",
   "execution_count": 7,
   "id": "30ee75f9",
   "metadata": {},
   "outputs": [
    {
     "name": "stdout",
     "output_type": "stream",
     "text": [
      "<class 'pandas.core.frame.DataFrame'>\n",
      "RangeIndex: 202607 entries, 0 to 202606\n",
      "Data columns (total 4 columns):\n",
      "id           202607 non-null object\n",
      "call_date    202607 non-null datetime64[ns]\n",
      "duration     202607 non-null float64\n",
      "user_id      202607 non-null int64\n",
      "dtypes: datetime64[ns](1), float64(1), int64(1), object(1)\n",
      "memory usage: 6.2+ MB\n"
     ]
    }
   ],
   "source": [
    "df_calls['call_date'] = change_type(df_calls['call_date'])\n",
    "df_calls.info()"
   ]
  },
  {
   "cell_type": "code",
   "execution_count": 8,
   "id": "e363c4b7",
   "metadata": {},
   "outputs": [
    {
     "name": "stdout",
     "output_type": "stream",
     "text": [
      "<class 'pandas.core.frame.DataFrame'>\n",
      "RangeIndex: 123036 entries, 0 to 123035\n",
      "Data columns (total 3 columns):\n",
      "id              123036 non-null object\n",
      "message_date    123036 non-null datetime64[ns]\n",
      "user_id         123036 non-null int64\n",
      "dtypes: datetime64[ns](1), int64(1), object(1)\n",
      "memory usage: 2.8+ MB\n"
     ]
    }
   ],
   "source": [
    "df_messages['message_date'] = change_type(df_messages['message_date'])\n",
    "df_messages.info()"
   ]
  },
  {
   "cell_type": "code",
   "execution_count": 9,
   "id": "45c43c0c",
   "metadata": {},
   "outputs": [
    {
     "name": "stdout",
     "output_type": "stream",
     "text": [
      "<class 'pandas.core.frame.DataFrame'>\n",
      "RangeIndex: 149396 entries, 0 to 149395\n",
      "Data columns (total 5 columns):\n",
      "Unnamed: 0      149396 non-null int64\n",
      "id              149396 non-null object\n",
      "mb_used         149396 non-null float64\n",
      "session_date    149396 non-null datetime64[ns]\n",
      "user_id         149396 non-null int64\n",
      "dtypes: datetime64[ns](1), float64(1), int64(2), object(1)\n",
      "memory usage: 5.7+ MB\n"
     ]
    }
   ],
   "source": [
    "df_internet['session_date'] = change_type(df_internet['session_date'])\n",
    "df_internet.info()"
   ]
  },
  {
   "cell_type": "markdown",
   "id": "95f825b0",
   "metadata": {},
   "source": [
    "В итоге 5 столбцов с датой в разных таблицах приняли тип datetime. В дальнейшем это позволит удобнее работать с этими данными."
   ]
  },
  {
   "cell_type": "markdown",
   "id": "6d3082e1",
   "metadata": {},
   "source": [
    "### Проверка на дубликаты"
   ]
  },
  {
   "cell_type": "code",
   "execution_count": 10,
   "id": "1d627651",
   "metadata": {},
   "outputs": [
    {
     "name": "stdout",
     "output_type": "stream",
     "text": [
      "0\n",
      "0\n",
      "0\n",
      "0\n"
     ]
    }
   ],
   "source": [
    "list = [df_users, df_calls, df_messages, df_internet]\n",
    "for data in list:\n",
    "    print(data.duplicated().sum())"
   ]
  },
  {
   "cell_type": "markdown",
   "id": "569cd816",
   "metadata": {},
   "source": [
    "В исходных данных нет ни одного дубликата, ни в одной из таблиц."
   ]
  },
  {
   "cell_type": "markdown",
   "id": "88d57d89",
   "metadata": {},
   "source": [
    "### Удаление лишнего столбца "
   ]
  },
  {
   "cell_type": "code",
   "execution_count": 11,
   "id": "b4066fb5",
   "metadata": {},
   "outputs": [
    {
     "name": "stdout",
     "output_type": "stream",
     "text": [
      "Значения столбца \"Unnamed: 0\" полностью совпадают с индексами датафрейма.\n"
     ]
    }
   ],
   "source": [
    "df_internet['idx'] = df_internet.index\n",
    "if df_internet['Unnamed: 0'].equals(df_internet['idx']): \n",
    "    print('Значения столбца \"Unnamed: 0\" полностью совпадают с индексами датафрейма.')\n",
    "else: \n",
    "    print('Столбец \"Unnamed: 0\" нельзя удалять')"
   ]
  },
  {
   "cell_type": "code",
   "execution_count": 12,
   "id": "ac83cf48",
   "metadata": {},
   "outputs": [
    {
     "name": "stdout",
     "output_type": "stream",
     "text": [
      "<class 'pandas.core.frame.DataFrame'>\n",
      "RangeIndex: 149396 entries, 0 to 149395\n",
      "Data columns (total 4 columns):\n",
      "id              149396 non-null object\n",
      "mb_used         149396 non-null float64\n",
      "session_date    149396 non-null datetime64[ns]\n",
      "user_id         149396 non-null int64\n",
      "dtypes: datetime64[ns](1), float64(1), int64(1), object(1)\n",
      "memory usage: 4.6+ MB\n"
     ]
    }
   ],
   "source": [
    "df_internet = df_internet.drop(['Unnamed: 0', 'idx'], axis=1)\n",
    "df_internet.info()"
   ]
  },
  {
   "cell_type": "markdown",
   "id": "4a28f2af",
   "metadata": {},
   "source": [
    "В таблице df_internet действительно затесался лишний столбец, значения которого полностью повторяли индексы этой же таблицы. Скорее всего, такая ошибка возникла при выгрузке данных, или при разделении на несколько csv файлов. Как бы то ни было, больше этот столбец нам не помешает. "
   ]
  },
  {
   "cell_type": "markdown",
   "id": "0fdcaf7d",
   "metadata": {},
   "source": [
    "### Сведение данных "
   ]
  },
  {
   "cell_type": "markdown",
   "id": "a73ad862",
   "metadata": {},
   "source": [
    "#### Сведение данных об использовании связи"
   ]
  },
  {
   "cell_type": "code",
   "execution_count": 13,
   "id": "bdaa510a",
   "metadata": {},
   "outputs": [],
   "source": [
    "df_calls['month'] = pd.DatetimeIndex(df_calls['call_date']).month\n",
    "df_messages['month'] = pd.DatetimeIndex(df_messages['message_date']).month\n",
    "df_internet['month'] = pd.DatetimeIndex(df_internet['session_date']).month"
   ]
  },
  {
   "cell_type": "markdown",
   "id": "478c55c5",
   "metadata": {},
   "source": [
    "Для удобства дальнейшей сортировки все номера месяцев были выделены в отдельный столбец 'month', и теперь можно с лёгкостью посчитать, сколько звонков/сообщений/трафика было использовано абонентами. Однако, согласно исходным данным, \"Мегалайн\" округляет продолжительность вызовов до целых минут, а трафик - до целых гигабайт. Поэтому, прежде чем собирать сводную таблицу по звонкам, сначала необходимо округлить значения столбца 'duration'."
   ]
  },
  {
   "cell_type": "code",
   "execution_count": 14,
   "id": "06891bcb",
   "metadata": {},
   "outputs": [
    {
     "data": {
      "text/html": [
       "<div>\n",
       "<style scoped>\n",
       "    .dataframe tbody tr th:only-of-type {\n",
       "        vertical-align: middle;\n",
       "    }\n",
       "\n",
       "    .dataframe tbody tr th {\n",
       "        vertical-align: top;\n",
       "    }\n",
       "\n",
       "    .dataframe thead th {\n",
       "        text-align: right;\n",
       "    }\n",
       "</style>\n",
       "<table border=\"1\" class=\"dataframe\">\n",
       "  <thead>\n",
       "    <tr style=\"text-align: right;\">\n",
       "      <th></th>\n",
       "      <th></th>\n",
       "      <th>calls_count</th>\n",
       "      <th>minutes_sum</th>\n",
       "    </tr>\n",
       "    <tr>\n",
       "      <th>user_id</th>\n",
       "      <th>month</th>\n",
       "      <th></th>\n",
       "      <th></th>\n",
       "    </tr>\n",
       "  </thead>\n",
       "  <tbody>\n",
       "    <tr>\n",
       "      <td rowspan=\"8\" valign=\"top\">1000</td>\n",
       "      <td>5</td>\n",
       "      <td>22</td>\n",
       "      <td>159</td>\n",
       "    </tr>\n",
       "    <tr>\n",
       "      <td>6</td>\n",
       "      <td>43</td>\n",
       "      <td>172</td>\n",
       "    </tr>\n",
       "    <tr>\n",
       "      <td>7</td>\n",
       "      <td>47</td>\n",
       "      <td>340</td>\n",
       "    </tr>\n",
       "    <tr>\n",
       "      <td>8</td>\n",
       "      <td>52</td>\n",
       "      <td>408</td>\n",
       "    </tr>\n",
       "    <tr>\n",
       "      <td>9</td>\n",
       "      <td>58</td>\n",
       "      <td>466</td>\n",
       "    </tr>\n",
       "    <tr>\n",
       "      <td>10</td>\n",
       "      <td>57</td>\n",
       "      <td>350</td>\n",
       "    </tr>\n",
       "    <tr>\n",
       "      <td>11</td>\n",
       "      <td>43</td>\n",
       "      <td>338</td>\n",
       "    </tr>\n",
       "    <tr>\n",
       "      <td>12</td>\n",
       "      <td>46</td>\n",
       "      <td>333</td>\n",
       "    </tr>\n",
       "    <tr>\n",
       "      <td rowspan=\"2\" valign=\"top\">1001</td>\n",
       "      <td>11</td>\n",
       "      <td>59</td>\n",
       "      <td>430</td>\n",
       "    </tr>\n",
       "    <tr>\n",
       "      <td>12</td>\n",
       "      <td>63</td>\n",
       "      <td>414</td>\n",
       "    </tr>\n",
       "  </tbody>\n",
       "</table>\n",
       "</div>"
      ],
      "text/plain": [
       "               calls_count  minutes_sum\n",
       "user_id month                          \n",
       "1000    5               22          159\n",
       "        6               43          172\n",
       "        7               47          340\n",
       "        8               52          408\n",
       "        9               58          466\n",
       "        10              57          350\n",
       "        11              43          338\n",
       "        12              46          333\n",
       "1001    11              59          430\n",
       "        12              63          414"
      ]
     },
     "execution_count": 14,
     "metadata": {},
     "output_type": "execute_result"
    }
   ],
   "source": [
    "def pivot_function (data, values, aggfunc, columns):\n",
    "    pivot = data.pivot_table(index=['user_id', 'month'], values=values, aggfunc=aggfunc)\n",
    "    pivot.columns = columns\n",
    "    return pivot\n",
    "\n",
    "df_calls['duration'] = np.ceil(calls['duration']).astype('int')\n",
    "\n",
    "pivot_calls = pivot_function(df_calls, 'duration', ['count', 'sum'], ['calls_count', 'minutes_sum'])\n",
    "pivot_calls.head(10)"
   ]
  },
  {
   "cell_type": "code",
   "execution_count": 15,
   "id": "32921d56",
   "metadata": {},
   "outputs": [
    {
     "data": {
      "text/html": [
       "<div>\n",
       "<style scoped>\n",
       "    .dataframe tbody tr th:only-of-type {\n",
       "        vertical-align: middle;\n",
       "    }\n",
       "\n",
       "    .dataframe tbody tr th {\n",
       "        vertical-align: top;\n",
       "    }\n",
       "\n",
       "    .dataframe thead th {\n",
       "        text-align: right;\n",
       "    }\n",
       "</style>\n",
       "<table border=\"1\" class=\"dataframe\">\n",
       "  <thead>\n",
       "    <tr style=\"text-align: right;\">\n",
       "      <th></th>\n",
       "      <th></th>\n",
       "      <th>messages_count</th>\n",
       "    </tr>\n",
       "    <tr>\n",
       "      <th>user_id</th>\n",
       "      <th>month</th>\n",
       "      <th></th>\n",
       "    </tr>\n",
       "  </thead>\n",
       "  <tbody>\n",
       "    <tr>\n",
       "      <td rowspan=\"8\" valign=\"top\">1000</td>\n",
       "      <td>5</td>\n",
       "      <td>22</td>\n",
       "    </tr>\n",
       "    <tr>\n",
       "      <td>6</td>\n",
       "      <td>60</td>\n",
       "    </tr>\n",
       "    <tr>\n",
       "      <td>7</td>\n",
       "      <td>75</td>\n",
       "    </tr>\n",
       "    <tr>\n",
       "      <td>8</td>\n",
       "      <td>81</td>\n",
       "    </tr>\n",
       "    <tr>\n",
       "      <td>9</td>\n",
       "      <td>57</td>\n",
       "    </tr>\n",
       "    <tr>\n",
       "      <td>10</td>\n",
       "      <td>73</td>\n",
       "    </tr>\n",
       "    <tr>\n",
       "      <td>11</td>\n",
       "      <td>58</td>\n",
       "    </tr>\n",
       "    <tr>\n",
       "      <td>12</td>\n",
       "      <td>70</td>\n",
       "    </tr>\n",
       "    <tr>\n",
       "      <td rowspan=\"2\" valign=\"top\">1002</td>\n",
       "      <td>6</td>\n",
       "      <td>4</td>\n",
       "    </tr>\n",
       "    <tr>\n",
       "      <td>7</td>\n",
       "      <td>11</td>\n",
       "    </tr>\n",
       "  </tbody>\n",
       "</table>\n",
       "</div>"
      ],
      "text/plain": [
       "               messages_count\n",
       "user_id month                \n",
       "1000    5                  22\n",
       "        6                  60\n",
       "        7                  75\n",
       "        8                  81\n",
       "        9                  57\n",
       "        10                 73\n",
       "        11                 58\n",
       "        12                 70\n",
       "1002    6                   4\n",
       "        7                  11"
      ]
     },
     "execution_count": 15,
     "metadata": {},
     "output_type": "execute_result"
    }
   ],
   "source": [
    "pivot_messages = pivot_function(df_messages, 'id', 'count', ['messages_count'])\n",
    "pivot_messages.head(10)"
   ]
  },
  {
   "cell_type": "markdown",
   "id": "d8a45bbe",
   "metadata": {},
   "source": [
    "Количество использованного интернет-трафика \"Мегалайн\" округляет до целых гигабайт, однако не за каждую сессию, а суммарно за месяц. Поэтому в этот раз мы сначала соберём данные в сводную таблицу, а уже после этого произведём округление."
   ]
  },
  {
   "cell_type": "code",
   "execution_count": 16,
   "id": "2bdc9802",
   "metadata": {},
   "outputs": [
    {
     "data": {
      "text/html": [
       "<div>\n",
       "<style scoped>\n",
       "    .dataframe tbody tr th:only-of-type {\n",
       "        vertical-align: middle;\n",
       "    }\n",
       "\n",
       "    .dataframe tbody tr th {\n",
       "        vertical-align: top;\n",
       "    }\n",
       "\n",
       "    .dataframe thead th {\n",
       "        text-align: right;\n",
       "    }\n",
       "</style>\n",
       "<table border=\"1\" class=\"dataframe\">\n",
       "  <thead>\n",
       "    <tr style=\"text-align: right;\">\n",
       "      <th></th>\n",
       "      <th></th>\n",
       "      <th>sum_gb_used</th>\n",
       "    </tr>\n",
       "    <tr>\n",
       "      <th>user_id</th>\n",
       "      <th>month</th>\n",
       "      <th></th>\n",
       "    </tr>\n",
       "  </thead>\n",
       "  <tbody>\n",
       "    <tr>\n",
       "      <td rowspan=\"8\" valign=\"top\">1000</td>\n",
       "      <td>5</td>\n",
       "      <td>3</td>\n",
       "    </tr>\n",
       "    <tr>\n",
       "      <td>6</td>\n",
       "      <td>23</td>\n",
       "    </tr>\n",
       "    <tr>\n",
       "      <td>7</td>\n",
       "      <td>14</td>\n",
       "    </tr>\n",
       "    <tr>\n",
       "      <td>8</td>\n",
       "      <td>14</td>\n",
       "    </tr>\n",
       "    <tr>\n",
       "      <td>9</td>\n",
       "      <td>15</td>\n",
       "    </tr>\n",
       "    <tr>\n",
       "      <td>10</td>\n",
       "      <td>15</td>\n",
       "    </tr>\n",
       "    <tr>\n",
       "      <td>11</td>\n",
       "      <td>15</td>\n",
       "    </tr>\n",
       "    <tr>\n",
       "      <td>12</td>\n",
       "      <td>10</td>\n",
       "    </tr>\n",
       "    <tr>\n",
       "      <td rowspan=\"2\" valign=\"top\">1001</td>\n",
       "      <td>11</td>\n",
       "      <td>18</td>\n",
       "    </tr>\n",
       "    <tr>\n",
       "      <td>12</td>\n",
       "      <td>14</td>\n",
       "    </tr>\n",
       "  </tbody>\n",
       "</table>\n",
       "</div>"
      ],
      "text/plain": [
       "               sum_gb_used\n",
       "user_id month             \n",
       "1000    5                3\n",
       "        6               23\n",
       "        7               14\n",
       "        8               14\n",
       "        9               15\n",
       "        10              15\n",
       "        11              15\n",
       "        12              10\n",
       "1001    11              18\n",
       "        12              14"
      ]
     },
     "execution_count": 16,
     "metadata": {},
     "output_type": "execute_result"
    }
   ],
   "source": [
    "pivot_internet = pivot_function(df_internet, ['mb_used'], 'sum', ['sum_gb_used'])\n",
    "pivot_internet['sum_gb_used'] = (pivot_internet['sum_gb_used'] / 1024).apply(np.ceil).astype('int')\n",
    "pivot_internet.head(10)"
   ]
  },
  {
   "cell_type": "markdown",
   "id": "afe5c102",
   "metadata": {},
   "source": [
    "Теперь можно собрать в одну таблицу все интересующие нас показатели по каждому клиенту, с разделением по месяцам:"
   ]
  },
  {
   "cell_type": "code",
   "execution_count": 17,
   "id": "1d92642a",
   "metadata": {},
   "outputs": [
    {
     "data": {
      "text/html": [
       "<div>\n",
       "<style scoped>\n",
       "    .dataframe tbody tr th:only-of-type {\n",
       "        vertical-align: middle;\n",
       "    }\n",
       "\n",
       "    .dataframe tbody tr th {\n",
       "        vertical-align: top;\n",
       "    }\n",
       "\n",
       "    .dataframe thead th {\n",
       "        text-align: right;\n",
       "    }\n",
       "</style>\n",
       "<table border=\"1\" class=\"dataframe\">\n",
       "  <thead>\n",
       "    <tr style=\"text-align: right;\">\n",
       "      <th></th>\n",
       "      <th></th>\n",
       "      <th>calls_count</th>\n",
       "      <th>minutes_sum</th>\n",
       "      <th>messages_count</th>\n",
       "      <th>sum_gb_used</th>\n",
       "    </tr>\n",
       "    <tr>\n",
       "      <th>user_id</th>\n",
       "      <th>month</th>\n",
       "      <th></th>\n",
       "      <th></th>\n",
       "      <th></th>\n",
       "      <th></th>\n",
       "    </tr>\n",
       "  </thead>\n",
       "  <tbody>\n",
       "    <tr>\n",
       "      <td rowspan=\"8\" valign=\"top\">1000</td>\n",
       "      <td>5</td>\n",
       "      <td>22.0</td>\n",
       "      <td>159.0</td>\n",
       "      <td>22.0</td>\n",
       "      <td>3.0</td>\n",
       "    </tr>\n",
       "    <tr>\n",
       "      <td>6</td>\n",
       "      <td>43.0</td>\n",
       "      <td>172.0</td>\n",
       "      <td>60.0</td>\n",
       "      <td>23.0</td>\n",
       "    </tr>\n",
       "    <tr>\n",
       "      <td>7</td>\n",
       "      <td>47.0</td>\n",
       "      <td>340.0</td>\n",
       "      <td>75.0</td>\n",
       "      <td>14.0</td>\n",
       "    </tr>\n",
       "    <tr>\n",
       "      <td>8</td>\n",
       "      <td>52.0</td>\n",
       "      <td>408.0</td>\n",
       "      <td>81.0</td>\n",
       "      <td>14.0</td>\n",
       "    </tr>\n",
       "    <tr>\n",
       "      <td>9</td>\n",
       "      <td>58.0</td>\n",
       "      <td>466.0</td>\n",
       "      <td>57.0</td>\n",
       "      <td>15.0</td>\n",
       "    </tr>\n",
       "    <tr>\n",
       "      <td>10</td>\n",
       "      <td>57.0</td>\n",
       "      <td>350.0</td>\n",
       "      <td>73.0</td>\n",
       "      <td>15.0</td>\n",
       "    </tr>\n",
       "    <tr>\n",
       "      <td>11</td>\n",
       "      <td>43.0</td>\n",
       "      <td>338.0</td>\n",
       "      <td>58.0</td>\n",
       "      <td>15.0</td>\n",
       "    </tr>\n",
       "    <tr>\n",
       "      <td>12</td>\n",
       "      <td>46.0</td>\n",
       "      <td>333.0</td>\n",
       "      <td>70.0</td>\n",
       "      <td>10.0</td>\n",
       "    </tr>\n",
       "    <tr>\n",
       "      <td rowspan=\"2\" valign=\"top\">1001</td>\n",
       "      <td>11</td>\n",
       "      <td>59.0</td>\n",
       "      <td>430.0</td>\n",
       "      <td>NaN</td>\n",
       "      <td>18.0</td>\n",
       "    </tr>\n",
       "    <tr>\n",
       "      <td>12</td>\n",
       "      <td>63.0</td>\n",
       "      <td>414.0</td>\n",
       "      <td>NaN</td>\n",
       "      <td>14.0</td>\n",
       "    </tr>\n",
       "  </tbody>\n",
       "</table>\n",
       "</div>"
      ],
      "text/plain": [
       "               calls_count  minutes_sum  messages_count  sum_gb_used\n",
       "user_id month                                                       \n",
       "1000    5             22.0        159.0            22.0          3.0\n",
       "        6             43.0        172.0            60.0         23.0\n",
       "        7             47.0        340.0            75.0         14.0\n",
       "        8             52.0        408.0            81.0         14.0\n",
       "        9             58.0        466.0            57.0         15.0\n",
       "        10            57.0        350.0            73.0         15.0\n",
       "        11            43.0        338.0            58.0         15.0\n",
       "        12            46.0        333.0            70.0         10.0\n",
       "1001    11            59.0        430.0             NaN         18.0\n",
       "        12            63.0        414.0             NaN         14.0"
      ]
     },
     "execution_count": 17,
     "metadata": {},
     "output_type": "execute_result"
    }
   ],
   "source": [
    "pivot_total = pivot_calls.join([pivot_messages, pivot_internet], how='outer')\n",
    "pivot_total.head(10)"
   ]
  },
  {
   "cell_type": "code",
   "execution_count": 18,
   "id": "79ad995e",
   "metadata": {},
   "outputs": [
    {
     "name": "stdout",
     "output_type": "stream",
     "text": [
      "<class 'pandas.core.frame.DataFrame'>\n",
      "MultiIndex: 3214 entries, (1000, 5) to (1499, 12)\n",
      "Data columns (total 4 columns):\n",
      "calls_count       3174 non-null float64\n",
      "minutes_sum       3174 non-null float64\n",
      "messages_count    2717 non-null float64\n",
      "sum_gb_used       3203 non-null float64\n",
      "dtypes: float64(4)\n",
      "memory usage: 113.9 KB\n"
     ]
    }
   ],
   "source": [
    "pivot_total.info()"
   ]
  },
  {
   "cell_type": "markdown",
   "id": "e7248fe4",
   "metadata": {},
   "source": [
    "Мы получили таблицу pivot_total, отображающую, сколько звонков, минут, смс и гигабайт было использовано каждым абонентом в каждый месяц.  \n",
    "  В результате объединения, в столбцах образовались пропущенные значения, поскольку не все клиенты пользуются всеми возможными видами связи. По сути, отсутствие значения в данной ситуации легко можно заменить на 0, ведь \"отсутствие смс\" и \"0 смс\" это одно и то же. Заодно приведём значения к типу int, ведь у нас нет дробных чисел:"
   ]
  },
  {
   "cell_type": "code",
   "execution_count": 19,
   "id": "3b264576",
   "metadata": {},
   "outputs": [
    {
     "name": "stdout",
     "output_type": "stream",
     "text": [
      "<class 'pandas.core.frame.DataFrame'>\n",
      "MultiIndex: 3214 entries, (1000, 5) to (1499, 12)\n",
      "Data columns (total 4 columns):\n",
      "calls_count       3214 non-null int64\n",
      "minutes_sum       3214 non-null int64\n",
      "messages_count    3214 non-null int64\n",
      "sum_gb_used       3214 non-null int64\n",
      "dtypes: int64(4)\n",
      "memory usage: 113.9 KB\n"
     ]
    }
   ],
   "source": [
    "for column in pivot_total.columns:\n",
    "    pivot_total[column] = pivot_total[column].fillna(0).astype(int)\n",
    "    \n",
    "pivot_total.info()"
   ]
  },
  {
   "cell_type": "markdown",
   "id": "d537ea9e",
   "metadata": {},
   "source": [
    "#### Сведение данных о тарифах "
   ]
  },
  {
   "cell_type": "markdown",
   "id": "8fe3c541",
   "metadata": {},
   "source": [
    "Для удобства вычисления требуемых значений, нужна таблица, объединяющая в себе user_id и условия тарифов. Для этого в переменную pivot_user_tariffs сохраним копию таблицы df_user, но оставим в ней только столбцы user_id и tariff:"
   ]
  },
  {
   "cell_type": "code",
   "execution_count": 20,
   "id": "52a49126",
   "metadata": {},
   "outputs": [
    {
     "data": {
      "text/html": [
       "<div>\n",
       "<style scoped>\n",
       "    .dataframe tbody tr th:only-of-type {\n",
       "        vertical-align: middle;\n",
       "    }\n",
       "\n",
       "    .dataframe tbody tr th {\n",
       "        vertical-align: top;\n",
       "    }\n",
       "\n",
       "    .dataframe thead th {\n",
       "        text-align: right;\n",
       "    }\n",
       "</style>\n",
       "<table border=\"1\" class=\"dataframe\">\n",
       "  <thead>\n",
       "    <tr style=\"text-align: right;\">\n",
       "      <th></th>\n",
       "      <th>user_id</th>\n",
       "      <th>tariff</th>\n",
       "    </tr>\n",
       "  </thead>\n",
       "  <tbody>\n",
       "    <tr>\n",
       "      <td>0</td>\n",
       "      <td>1000</td>\n",
       "      <td>ultra</td>\n",
       "    </tr>\n",
       "    <tr>\n",
       "      <td>1</td>\n",
       "      <td>1001</td>\n",
       "      <td>smart</td>\n",
       "    </tr>\n",
       "    <tr>\n",
       "      <td>2</td>\n",
       "      <td>1002</td>\n",
       "      <td>smart</td>\n",
       "    </tr>\n",
       "    <tr>\n",
       "      <td>3</td>\n",
       "      <td>1003</td>\n",
       "      <td>ultra</td>\n",
       "    </tr>\n",
       "    <tr>\n",
       "      <td>4</td>\n",
       "      <td>1004</td>\n",
       "      <td>ultra</td>\n",
       "    </tr>\n",
       "    <tr>\n",
       "      <td>...</td>\n",
       "      <td>...</td>\n",
       "      <td>...</td>\n",
       "    </tr>\n",
       "    <tr>\n",
       "      <td>495</td>\n",
       "      <td>1495</td>\n",
       "      <td>ultra</td>\n",
       "    </tr>\n",
       "    <tr>\n",
       "      <td>496</td>\n",
       "      <td>1496</td>\n",
       "      <td>smart</td>\n",
       "    </tr>\n",
       "    <tr>\n",
       "      <td>497</td>\n",
       "      <td>1497</td>\n",
       "      <td>smart</td>\n",
       "    </tr>\n",
       "    <tr>\n",
       "      <td>498</td>\n",
       "      <td>1498</td>\n",
       "      <td>smart</td>\n",
       "    </tr>\n",
       "    <tr>\n",
       "      <td>499</td>\n",
       "      <td>1499</td>\n",
       "      <td>smart</td>\n",
       "    </tr>\n",
       "  </tbody>\n",
       "</table>\n",
       "<p>500 rows × 2 columns</p>\n",
       "</div>"
      ],
      "text/plain": [
       "     user_id tariff\n",
       "0       1000  ultra\n",
       "1       1001  smart\n",
       "2       1002  smart\n",
       "3       1003  ultra\n",
       "4       1004  ultra\n",
       "..       ...    ...\n",
       "495     1495  ultra\n",
       "496     1496  smart\n",
       "497     1497  smart\n",
       "498     1498  smart\n",
       "499     1499  smart\n",
       "\n",
       "[500 rows x 2 columns]"
      ]
     },
     "execution_count": 20,
     "metadata": {},
     "output_type": "execute_result"
    }
   ],
   "source": [
    "pivot_user_tariffs = df_users.copy().drop(['age', \n",
    "                                           'churn_date', \n",
    "                                           'city', \n",
    "                                           'first_name', \n",
    "                                           'last_name', \n",
    "                                           'reg_date'], \n",
    "                                          axis=1)\n",
    "pivot_user_tariffs"
   ]
  },
  {
   "cell_type": "markdown",
   "id": "ec79f755",
   "metadata": {},
   "source": [
    "Теперь причешем таблицу df_tariffs. В качестве индекса установим название тарифа, что позволит в дальнейшем легко слепить таблицы вместе, а затем переведём мегабайты в гигабайты, не забыв переименовать соответствующий столбец:"
   ]
  },
  {
   "cell_type": "code",
   "execution_count": 21,
   "id": "e63b7ec5",
   "metadata": {},
   "outputs": [
    {
     "data": {
      "text/html": [
       "<div>\n",
       "<style scoped>\n",
       "    .dataframe tbody tr th:only-of-type {\n",
       "        vertical-align: middle;\n",
       "    }\n",
       "\n",
       "    .dataframe tbody tr th {\n",
       "        vertical-align: top;\n",
       "    }\n",
       "\n",
       "    .dataframe thead th {\n",
       "        text-align: right;\n",
       "    }\n",
       "</style>\n",
       "<table border=\"1\" class=\"dataframe\">\n",
       "  <thead>\n",
       "    <tr style=\"text-align: right;\">\n",
       "      <th></th>\n",
       "      <th>messages_included</th>\n",
       "      <th>gb_included</th>\n",
       "      <th>minutes_included</th>\n",
       "      <th>rub_monthly_fee</th>\n",
       "      <th>rub_per_gb</th>\n",
       "      <th>rub_per_message</th>\n",
       "      <th>rub_per_minute</th>\n",
       "    </tr>\n",
       "    <tr>\n",
       "      <th>tariff_name</th>\n",
       "      <th></th>\n",
       "      <th></th>\n",
       "      <th></th>\n",
       "      <th></th>\n",
       "      <th></th>\n",
       "      <th></th>\n",
       "      <th></th>\n",
       "    </tr>\n",
       "  </thead>\n",
       "  <tbody>\n",
       "    <tr>\n",
       "      <td>smart</td>\n",
       "      <td>50</td>\n",
       "      <td>15</td>\n",
       "      <td>500</td>\n",
       "      <td>550</td>\n",
       "      <td>200</td>\n",
       "      <td>3</td>\n",
       "      <td>3</td>\n",
       "    </tr>\n",
       "    <tr>\n",
       "      <td>ultra</td>\n",
       "      <td>1000</td>\n",
       "      <td>30</td>\n",
       "      <td>3000</td>\n",
       "      <td>1950</td>\n",
       "      <td>150</td>\n",
       "      <td>1</td>\n",
       "      <td>1</td>\n",
       "    </tr>\n",
       "  </tbody>\n",
       "</table>\n",
       "</div>"
      ],
      "text/plain": [
       "             messages_included  gb_included  minutes_included  \\\n",
       "tariff_name                                                     \n",
       "smart                       50           15               500   \n",
       "ultra                     1000           30              3000   \n",
       "\n",
       "             rub_monthly_fee  rub_per_gb  rub_per_message  rub_per_minute  \n",
       "tariff_name                                                                \n",
       "smart                    550         200                3               3  \n",
       "ultra                   1950         150                1               1  "
      ]
     },
     "execution_count": 21,
     "metadata": {},
     "output_type": "execute_result"
    }
   ],
   "source": [
    "df_tariffs = df_tariffs.set_index('tariff_name')\n",
    "df_tariffs['mb_per_month_included'] = (df_tariffs['mb_per_month_included'] / 1024).astype(int)\n",
    "df_tariffs = df_tariffs.rename(columns={'mb_per_month_included':'gb_included'})\n",
    "df_tariffs"
   ]
  },
  {
   "cell_type": "markdown",
   "id": "5cd4bce2",
   "metadata": {},
   "source": [
    "Всё готово для объединения таблиц. Соединим таблицы pivot_user_tariffs и df_tariffs, в результате чего на каждого пользователя будет приходиться строка с перечислением условий его тарифа. При этом user_id пользователя сделаем индексом таблицы, что сильно упростит индексацию в дальнейшем:"
   ]
  },
  {
   "cell_type": "code",
   "execution_count": 22,
   "id": "96b870d5",
   "metadata": {},
   "outputs": [
    {
     "data": {
      "text/html": [
       "<div>\n",
       "<style scoped>\n",
       "    .dataframe tbody tr th:only-of-type {\n",
       "        vertical-align: middle;\n",
       "    }\n",
       "\n",
       "    .dataframe tbody tr th {\n",
       "        vertical-align: top;\n",
       "    }\n",
       "\n",
       "    .dataframe thead th {\n",
       "        text-align: right;\n",
       "    }\n",
       "</style>\n",
       "<table border=\"1\" class=\"dataframe\">\n",
       "  <thead>\n",
       "    <tr style=\"text-align: right;\">\n",
       "      <th></th>\n",
       "      <th>tariff</th>\n",
       "      <th>messages_included</th>\n",
       "      <th>gb_included</th>\n",
       "      <th>minutes_included</th>\n",
       "      <th>rub_monthly_fee</th>\n",
       "      <th>rub_per_gb</th>\n",
       "      <th>rub_per_message</th>\n",
       "      <th>rub_per_minute</th>\n",
       "    </tr>\n",
       "    <tr>\n",
       "      <th>user_id</th>\n",
       "      <th></th>\n",
       "      <th></th>\n",
       "      <th></th>\n",
       "      <th></th>\n",
       "      <th></th>\n",
       "      <th></th>\n",
       "      <th></th>\n",
       "      <th></th>\n",
       "    </tr>\n",
       "  </thead>\n",
       "  <tbody>\n",
       "    <tr>\n",
       "      <td>1000</td>\n",
       "      <td>ultra</td>\n",
       "      <td>1000</td>\n",
       "      <td>30</td>\n",
       "      <td>3000</td>\n",
       "      <td>1950</td>\n",
       "      <td>150</td>\n",
       "      <td>1</td>\n",
       "      <td>1</td>\n",
       "    </tr>\n",
       "    <tr>\n",
       "      <td>1001</td>\n",
       "      <td>smart</td>\n",
       "      <td>50</td>\n",
       "      <td>15</td>\n",
       "      <td>500</td>\n",
       "      <td>550</td>\n",
       "      <td>200</td>\n",
       "      <td>3</td>\n",
       "      <td>3</td>\n",
       "    </tr>\n",
       "    <tr>\n",
       "      <td>1002</td>\n",
       "      <td>smart</td>\n",
       "      <td>50</td>\n",
       "      <td>15</td>\n",
       "      <td>500</td>\n",
       "      <td>550</td>\n",
       "      <td>200</td>\n",
       "      <td>3</td>\n",
       "      <td>3</td>\n",
       "    </tr>\n",
       "    <tr>\n",
       "      <td>1003</td>\n",
       "      <td>ultra</td>\n",
       "      <td>1000</td>\n",
       "      <td>30</td>\n",
       "      <td>3000</td>\n",
       "      <td>1950</td>\n",
       "      <td>150</td>\n",
       "      <td>1</td>\n",
       "      <td>1</td>\n",
       "    </tr>\n",
       "    <tr>\n",
       "      <td>1004</td>\n",
       "      <td>ultra</td>\n",
       "      <td>1000</td>\n",
       "      <td>30</td>\n",
       "      <td>3000</td>\n",
       "      <td>1950</td>\n",
       "      <td>150</td>\n",
       "      <td>1</td>\n",
       "      <td>1</td>\n",
       "    </tr>\n",
       "    <tr>\n",
       "      <td>1005</td>\n",
       "      <td>smart</td>\n",
       "      <td>50</td>\n",
       "      <td>15</td>\n",
       "      <td>500</td>\n",
       "      <td>550</td>\n",
       "      <td>200</td>\n",
       "      <td>3</td>\n",
       "      <td>3</td>\n",
       "    </tr>\n",
       "    <tr>\n",
       "      <td>1006</td>\n",
       "      <td>smart</td>\n",
       "      <td>50</td>\n",
       "      <td>15</td>\n",
       "      <td>500</td>\n",
       "      <td>550</td>\n",
       "      <td>200</td>\n",
       "      <td>3</td>\n",
       "      <td>3</td>\n",
       "    </tr>\n",
       "    <tr>\n",
       "      <td>1007</td>\n",
       "      <td>smart</td>\n",
       "      <td>50</td>\n",
       "      <td>15</td>\n",
       "      <td>500</td>\n",
       "      <td>550</td>\n",
       "      <td>200</td>\n",
       "      <td>3</td>\n",
       "      <td>3</td>\n",
       "    </tr>\n",
       "    <tr>\n",
       "      <td>1008</td>\n",
       "      <td>smart</td>\n",
       "      <td>50</td>\n",
       "      <td>15</td>\n",
       "      <td>500</td>\n",
       "      <td>550</td>\n",
       "      <td>200</td>\n",
       "      <td>3</td>\n",
       "      <td>3</td>\n",
       "    </tr>\n",
       "    <tr>\n",
       "      <td>1009</td>\n",
       "      <td>smart</td>\n",
       "      <td>50</td>\n",
       "      <td>15</td>\n",
       "      <td>500</td>\n",
       "      <td>550</td>\n",
       "      <td>200</td>\n",
       "      <td>3</td>\n",
       "      <td>3</td>\n",
       "    </tr>\n",
       "  </tbody>\n",
       "</table>\n",
       "</div>"
      ],
      "text/plain": [
       "        tariff  messages_included  gb_included  minutes_included  \\\n",
       "user_id                                                            \n",
       "1000     ultra               1000           30              3000   \n",
       "1001     smart                 50           15               500   \n",
       "1002     smart                 50           15               500   \n",
       "1003     ultra               1000           30              3000   \n",
       "1004     ultra               1000           30              3000   \n",
       "1005     smart                 50           15               500   \n",
       "1006     smart                 50           15               500   \n",
       "1007     smart                 50           15               500   \n",
       "1008     smart                 50           15               500   \n",
       "1009     smart                 50           15               500   \n",
       "\n",
       "         rub_monthly_fee  rub_per_gb  rub_per_message  rub_per_minute  \n",
       "user_id                                                                \n",
       "1000                1950         150                1               1  \n",
       "1001                 550         200                3               3  \n",
       "1002                 550         200                3               3  \n",
       "1003                1950         150                1               1  \n",
       "1004                1950         150                1               1  \n",
       "1005                 550         200                3               3  \n",
       "1006                 550         200                3               3  \n",
       "1007                 550         200                3               3  \n",
       "1008                 550         200                3               3  \n",
       "1009                 550         200                3               3  "
      ]
     },
     "execution_count": 22,
     "metadata": {},
     "output_type": "execute_result"
    }
   ],
   "source": [
    "pivot_user_tariffs = pivot_user_tariffs.join(df_tariffs, on='tariff', how='outer').sort_values(by='user_id')\n",
    "pivot_user_tariffs = pivot_user_tariffs.set_index('user_id')\n",
    "pivot_user_tariffs.head(10)"
   ]
  },
  {
   "cell_type": "markdown",
   "id": "d1cc9abd",
   "metadata": {},
   "source": [
    "#### Вычисление выручки "
   ]
  },
  {
   "cell_type": "markdown",
   "id": "8c8d74e5",
   "metadata": {},
   "source": [
    "Осталось вычислить, сколько денег принёс компании каждый клиент в каждый месяц. Для каждой строки таблицы рассчитываем три значения: min_overrun, sms_overrun и gb_overrun. Они означают перерасход минут, сообщений и интернет трафика соответственно. В случае, если абонент уложился в лимит, и перерасхода нет, переменная примет значение 0, в противном же случае объём перерасхода сразу умножается на стоимость услуг сверх тарифа. Все три таких значения складываются, затем к ним добавляется абонентская плата, и всё это дружно отправляется в свежий столбец profit, отображающий выручку в рублях за каждого абонента в каждый конкретный месяц. Также в конце допишем, какой клиент к какому тарифу относится, чтобы в дальнейшем проще было получить срез данных по одному из тарифов.  \n",
    "Номера клиентов перебираются по порядку, поэтому, если вдруг какого-то клиента в этой таблице нет совсем, мы сразу это увидим, благодаря конструкции try-except. "
   ]
  },
  {
   "cell_type": "code",
   "execution_count": 23,
   "id": "05aa5d5d",
   "metadata": {},
   "outputs": [
    {
     "name": "stdout",
     "output_type": "stream",
     "text": [
      "Абонент с user_id 1128 не пользовался никаким видом связи.\n",
      "Абонент с user_id 1371 не пользовался никаким видом связи.\n"
     ]
    },
    {
     "data": {
      "text/html": [
       "<div>\n",
       "<style scoped>\n",
       "    .dataframe tbody tr th:only-of-type {\n",
       "        vertical-align: middle;\n",
       "    }\n",
       "\n",
       "    .dataframe tbody tr th {\n",
       "        vertical-align: top;\n",
       "    }\n",
       "\n",
       "    .dataframe thead th {\n",
       "        text-align: right;\n",
       "    }\n",
       "</style>\n",
       "<table border=\"1\" class=\"dataframe\">\n",
       "  <thead>\n",
       "    <tr style=\"text-align: right;\">\n",
       "      <th></th>\n",
       "      <th></th>\n",
       "      <th>calls_count</th>\n",
       "      <th>minutes_sum</th>\n",
       "      <th>messages_count</th>\n",
       "      <th>sum_gb_used</th>\n",
       "      <th>profit</th>\n",
       "      <th>tariff</th>\n",
       "    </tr>\n",
       "    <tr>\n",
       "      <th>user_id</th>\n",
       "      <th>month</th>\n",
       "      <th></th>\n",
       "      <th></th>\n",
       "      <th></th>\n",
       "      <th></th>\n",
       "      <th></th>\n",
       "      <th></th>\n",
       "    </tr>\n",
       "  </thead>\n",
       "  <tbody>\n",
       "    <tr>\n",
       "      <td rowspan=\"8\" valign=\"top\">1000</td>\n",
       "      <td>5</td>\n",
       "      <td>22</td>\n",
       "      <td>159</td>\n",
       "      <td>22</td>\n",
       "      <td>3</td>\n",
       "      <td>1950.0</td>\n",
       "      <td>ultra</td>\n",
       "    </tr>\n",
       "    <tr>\n",
       "      <td>6</td>\n",
       "      <td>43</td>\n",
       "      <td>172</td>\n",
       "      <td>60</td>\n",
       "      <td>23</td>\n",
       "      <td>1950.0</td>\n",
       "      <td>ultra</td>\n",
       "    </tr>\n",
       "    <tr>\n",
       "      <td>7</td>\n",
       "      <td>47</td>\n",
       "      <td>340</td>\n",
       "      <td>75</td>\n",
       "      <td>14</td>\n",
       "      <td>1950.0</td>\n",
       "      <td>ultra</td>\n",
       "    </tr>\n",
       "    <tr>\n",
       "      <td>8</td>\n",
       "      <td>52</td>\n",
       "      <td>408</td>\n",
       "      <td>81</td>\n",
       "      <td>14</td>\n",
       "      <td>1950.0</td>\n",
       "      <td>ultra</td>\n",
       "    </tr>\n",
       "    <tr>\n",
       "      <td>9</td>\n",
       "      <td>58</td>\n",
       "      <td>466</td>\n",
       "      <td>57</td>\n",
       "      <td>15</td>\n",
       "      <td>1950.0</td>\n",
       "      <td>ultra</td>\n",
       "    </tr>\n",
       "    <tr>\n",
       "      <td>10</td>\n",
       "      <td>57</td>\n",
       "      <td>350</td>\n",
       "      <td>73</td>\n",
       "      <td>15</td>\n",
       "      <td>1950.0</td>\n",
       "      <td>ultra</td>\n",
       "    </tr>\n",
       "    <tr>\n",
       "      <td>11</td>\n",
       "      <td>43</td>\n",
       "      <td>338</td>\n",
       "      <td>58</td>\n",
       "      <td>15</td>\n",
       "      <td>1950.0</td>\n",
       "      <td>ultra</td>\n",
       "    </tr>\n",
       "    <tr>\n",
       "      <td>12</td>\n",
       "      <td>46</td>\n",
       "      <td>333</td>\n",
       "      <td>70</td>\n",
       "      <td>10</td>\n",
       "      <td>1950.0</td>\n",
       "      <td>ultra</td>\n",
       "    </tr>\n",
       "    <tr>\n",
       "      <td rowspan=\"2\" valign=\"top\">1001</td>\n",
       "      <td>11</td>\n",
       "      <td>59</td>\n",
       "      <td>430</td>\n",
       "      <td>0</td>\n",
       "      <td>18</td>\n",
       "      <td>1150.0</td>\n",
       "      <td>smart</td>\n",
       "    </tr>\n",
       "    <tr>\n",
       "      <td>12</td>\n",
       "      <td>63</td>\n",
       "      <td>414</td>\n",
       "      <td>0</td>\n",
       "      <td>14</td>\n",
       "      <td>550.0</td>\n",
       "      <td>smart</td>\n",
       "    </tr>\n",
       "    <tr>\n",
       "      <td rowspan=\"5\" valign=\"top\">1002</td>\n",
       "      <td>6</td>\n",
       "      <td>15</td>\n",
       "      <td>117</td>\n",
       "      <td>4</td>\n",
       "      <td>11</td>\n",
       "      <td>550.0</td>\n",
       "      <td>smart</td>\n",
       "    </tr>\n",
       "    <tr>\n",
       "      <td>7</td>\n",
       "      <td>26</td>\n",
       "      <td>214</td>\n",
       "      <td>11</td>\n",
       "      <td>18</td>\n",
       "      <td>1150.0</td>\n",
       "      <td>smart</td>\n",
       "    </tr>\n",
       "    <tr>\n",
       "      <td>8</td>\n",
       "      <td>42</td>\n",
       "      <td>289</td>\n",
       "      <td>13</td>\n",
       "      <td>20</td>\n",
       "      <td>1550.0</td>\n",
       "      <td>smart</td>\n",
       "    </tr>\n",
       "    <tr>\n",
       "      <td>9</td>\n",
       "      <td>36</td>\n",
       "      <td>206</td>\n",
       "      <td>4</td>\n",
       "      <td>17</td>\n",
       "      <td>950.0</td>\n",
       "      <td>smart</td>\n",
       "    </tr>\n",
       "    <tr>\n",
       "      <td>10</td>\n",
       "      <td>33</td>\n",
       "      <td>212</td>\n",
       "      <td>10</td>\n",
       "      <td>14</td>\n",
       "      <td>550.0</td>\n",
       "      <td>smart</td>\n",
       "    </tr>\n",
       "  </tbody>\n",
       "</table>\n",
       "</div>"
      ],
      "text/plain": [
       "               calls_count  minutes_sum  messages_count  sum_gb_used  profit  \\\n",
       "user_id month                                                                  \n",
       "1000    5               22          159              22            3  1950.0   \n",
       "        6               43          172              60           23  1950.0   \n",
       "        7               47          340              75           14  1950.0   \n",
       "        8               52          408              81           14  1950.0   \n",
       "        9               58          466              57           15  1950.0   \n",
       "        10              57          350              73           15  1950.0   \n",
       "        11              43          338              58           15  1950.0   \n",
       "        12              46          333              70           10  1950.0   \n",
       "1001    11              59          430               0           18  1150.0   \n",
       "        12              63          414               0           14   550.0   \n",
       "1002    6               15          117               4           11   550.0   \n",
       "        7               26          214              11           18  1150.0   \n",
       "        8               42          289              13           20  1550.0   \n",
       "        9               36          206               4           17   950.0   \n",
       "        10              33          212              10           14   550.0   \n",
       "\n",
       "              tariff  \n",
       "user_id month         \n",
       "1000    5      ultra  \n",
       "        6      ultra  \n",
       "        7      ultra  \n",
       "        8      ultra  \n",
       "        9      ultra  \n",
       "        10     ultra  \n",
       "        11     ultra  \n",
       "        12     ultra  \n",
       "1001    11     smart  \n",
       "        12     smart  \n",
       "1002    6      smart  \n",
       "        7      smart  \n",
       "        8      smart  \n",
       "        9      smart  \n",
       "        10     smart  "
      ]
     },
     "execution_count": 23,
     "metadata": {},
     "output_type": "execute_result"
    }
   ],
   "source": [
    "for i in range(1000, 1500): \n",
    "    try:\n",
    "        query = pivot_total.loc[i]\n",
    "        month = query.index.get_level_values(0)\n",
    "        for row in month:\n",
    "            min_overrun = pivot_total.loc[(i, row), 'minutes_sum'] - pivot_user_tariffs.loc[i, 'minutes_included']\n",
    "            min_overrun = 0 if min_overrun <= 0 else (min_overrun * pivot_user_tariffs.loc[i, 'rub_per_minute'])\n",
    "    \n",
    "            sms_overrun = pivot_total.loc[(i, row), 'messages_count'] - pivot_user_tariffs.loc[i, 'messages_included']\n",
    "            sms_overrun = 0 if sms_overrun <= 0 else (sms_overrun * pivot_user_tariffs.loc[i, 'rub_per_message'])\n",
    "    \n",
    "            gb_overrun = pivot_total.loc[(i, row), 'sum_gb_used'] - pivot_user_tariffs.loc[i, 'gb_included']\n",
    "            gb_overrun = 0 if gb_overrun <= 0 else (gb_overrun * pivot_user_tariffs.loc[i, 'rub_per_gb'])\n",
    "    \n",
    "            pivot_total.loc[(i, row), 'profit'] = (min_overrun + \n",
    "                                                   sms_overrun + \n",
    "                                                   gb_overrun + \n",
    "                                                   pivot_user_tariffs.loc[i, 'rub_monthly_fee'])            \n",
    "            pivot_total.loc[(i, row), 'tariff']  = pivot_user_tariffs.loc[i, 'tariff']\n",
    "    except:\n",
    "        print('Абонент с user_id', i, 'не пользовался никаким видом связи.')\n",
    "\n",
    "pivot_total.head(15)"
   ]
  },
  {
   "cell_type": "markdown",
   "id": "5eacf498",
   "metadata": {},
   "source": [
    "#### Вывод"
   ]
  },
  {
   "cell_type": "markdown",
   "id": "6db0e870",
   "metadata": {},
   "source": [
    "Исходные данные были приведены к нормальному виду - удалены лишние столбцы, попавшие по ошибке, исправлены типы данных. Собраны две сводные таблицы, pivot_user_tariffs и pivot_total. В первой на каждый user_id приведён соответствующий ему тариф, вместе со всеми условиями. Во второй таблице теперь находится помесячная информация об использованных минутах/смс/гигибайтах, а также выручке с каждого пользователя и названии его тарифа. Данные готовы к дальнейшему анализу."
   ]
  },
  {
   "cell_type": "markdown",
   "id": "d577c9d2",
   "metadata": {},
   "source": [
    "## Анализ данных. "
   ]
  },
  {
   "cell_type": "markdown",
   "id": "06b70b2b",
   "metadata": {},
   "source": [
    "Основная цель этого исследования - определить, какой из тарифов прибыльнее. Значит, полученные в таблице pivot_total данные нужно рассматривать по двум тарифам отдельно друг от друга, и удобнее это будет делать в двух разных таблицах: df_smart и df_ultra. "
   ]
  },
  {
   "cell_type": "code",
   "execution_count": 24,
   "id": "f1369234",
   "metadata": {},
   "outputs": [
    {
     "name": "stdout",
     "output_type": "stream",
     "text": [
      "smart    2229\n",
      "Name: tariff, dtype: int64\n",
      "ultra    985\n",
      "Name: tariff, dtype: int64\n"
     ]
    }
   ],
   "source": [
    "df_smart = pivot_total.query('tariff == \"smart\"')\n",
    "df_ultra = pivot_total.query('tariff == \"ultra\"')\n",
    "print(df_smart['tariff'].value_counts())\n",
    "print(df_ultra['tariff'].value_counts())"
   ]
  },
  {
   "cell_type": "markdown",
   "id": "af27c0a1",
   "metadata": {},
   "source": [
    "Стоит отметить, что в нашей выборке абонентов с тарифом smart примерно в 2.25 раз больше, чем с тарифом ultra.  \n",
    "Теперь можно рассчитать статистики и построить необходимые графики. Создадим для этого отдельную функцию - stat. В качестве аргументов она будет принимает два датасета, целевой и исходный, после чего наполнит первый из них вычисленными значениями среднего, дисперсии и стандартного отклонения для каждого типа связи: "
   ]
  },
  {
   "cell_type": "code",
   "execution_count": 25,
   "id": "a1a91bbd",
   "metadata": {},
   "outputs": [],
   "source": [
    "def stat (data1, data2):\n",
    "    \n",
    "    for column in data1.columns:\n",
    "        \n",
    "        data1.loc['mean', column] = data2[column].mean()\n",
    "        data1.loc['var', column] = np.var(data2[column], ddof=1)\n",
    "        data1.loc['std', column] = np.std(data2[column])\n",
    "        print('{}:'.format(column))\n",
    "        data2[column].hist(range=(0, (data2[column].max() + 1)), bins=30)\n",
    "        plt.show()\n",
    "    \n",
    "    data1.columns = ['minutes', 'messages', 'gb', 'profit']"
   ]
  },
  {
   "cell_type": "code",
   "execution_count": 26,
   "id": "fb7293f5",
   "metadata": {},
   "outputs": [
    {
     "name": "stdout",
     "output_type": "stream",
     "text": [
      "minutes_sum:\n"
     ]
    },
    {
     "data": {
      "image/png": "[encoded data removed]",
      "text/plain": [
       "<Figure size 432x288 with 1 Axes>"
      ]
     },
     "metadata": {
      "needs_background": "light"
     },
     "output_type": "display_data"
    },
    {
     "name": "stdout",
     "output_type": "stream",
     "text": [
      "messages_count:\n"
     ]
    },
    {
     "data": {
      "image/png": "[encoded data removed]",
      "text/plain": [
       "<Figure size 432x288 with 1 Axes>"
      ]
     },
     "metadata": {
      "needs_background": "light"
     },
     "output_type": "display_data"
    },
    {
     "name": "stdout",
     "output_type": "stream",
     "text": [
      "sum_gb_used:\n"
     ]
    },
    {
     "data": {
      "image/png": "[encoded data removed]",
      "text/plain": [
       "<Figure size 432x288 with 1 Axes>"
      ]
     },
     "metadata": {
      "needs_background": "light"
     },
     "output_type": "display_data"
    },
    {
     "name": "stdout",
     "output_type": "stream",
     "text": [
      "profit:\n"
     ]
    },
    {
     "data": {
      "image/png": "[encoded data removed]",
      "text/plain": [
       "<Figure size 432x288 with 1 Axes>"
      ]
     },
     "metadata": {
      "needs_background": "light"
     },
     "output_type": "display_data"
    },
    {
     "data": {
      "text/html": [
       "<div>\n",
       "<style scoped>\n",
       "    .dataframe tbody tr th:only-of-type {\n",
       "        vertical-align: middle;\n",
       "    }\n",
       "\n",
       "    .dataframe tbody tr th {\n",
       "        vertical-align: top;\n",
       "    }\n",
       "\n",
       "    .dataframe thead th {\n",
       "        text-align: right;\n",
       "    }\n",
       "</style>\n",
       "<table border=\"1\" class=\"dataframe\">\n",
       "  <thead>\n",
       "    <tr style=\"text-align: right;\">\n",
       "      <th></th>\n",
       "      <th>minutes</th>\n",
       "      <th>messages</th>\n",
       "      <th>gb</th>\n",
       "      <th>profit</th>\n",
       "    </tr>\n",
       "  </thead>\n",
       "  <tbody>\n",
       "    <tr>\n",
       "      <td>mean</td>\n",
       "      <td>417.935</td>\n",
       "      <td>33.384</td>\n",
       "      <td>16.3288</td>\n",
       "      <td>1289.97</td>\n",
       "    </tr>\n",
       "    <tr>\n",
       "      <td>var</td>\n",
       "      <td>36219.3</td>\n",
       "      <td>796.813</td>\n",
       "      <td>33.0287</td>\n",
       "      <td>669786</td>\n",
       "    </tr>\n",
       "    <tr>\n",
       "      <td>std</td>\n",
       "      <td>190.271</td>\n",
       "      <td>28.2215</td>\n",
       "      <td>5.74577</td>\n",
       "      <td>818.221</td>\n",
       "    </tr>\n",
       "  </tbody>\n",
       "</table>\n",
       "</div>"
      ],
      "text/plain": [
       "      minutes messages       gb   profit\n",
       "mean  417.935   33.384  16.3288  1289.97\n",
       "var   36219.3  796.813  33.0287   669786\n",
       "std   190.271  28.2215  5.74577  818.221"
      ]
     },
     "execution_count": 26,
     "metadata": {},
     "output_type": "execute_result"
    }
   ],
   "source": [
    "statistics_smart = pd.DataFrame(columns=['minutes_sum', 'messages_count', 'sum_gb_used', 'profit'], \n",
    "                                index=['mean', 'var', 'std'])\n",
    "stat(statistics_smart, df_smart)\n",
    "statistics_smart"
   ]
  },
  {
   "cell_type": "markdown",
   "id": "b7ba81f8",
   "metadata": {},
   "source": [
    "В случае с тарифом smart мы получили близкое к нормальному распределение суммарного количества минут и гигабайт, а вот графики количества сообщений и выручки явно положительно скошены. При этом и в случае с выручкой, и в случае с сообщениями видно большое количество значений на минимальном пороге. Это означает, что большое количество людей не пользуется смсками и не вылезает за границы абонентской платы."
   ]
  },
  {
   "cell_type": "code",
   "execution_count": 27,
   "id": "b9828353",
   "metadata": {},
   "outputs": [
    {
     "name": "stdout",
     "output_type": "stream",
     "text": [
      "minutes_sum:\n"
     ]
    },
    {
     "data": {
      "image/png": "[encoded data removed]",
      "text/plain": [
       "<Figure size 432x288 with 1 Axes>"
      ]
     },
     "metadata": {
      "needs_background": "light"
     },
     "output_type": "display_data"
    },
    {
     "name": "stdout",
     "output_type": "stream",
     "text": [
      "messages_count:\n"
     ]
    },
    {
     "data": {
      "image/png": "[encoded data removed]",
      "text/plain": [
       "<Figure size 432x288 with 1 Axes>"
      ]
     },
     "metadata": {
      "needs_background": "light"
     },
     "output_type": "display_data"
    },
    {
     "name": "stdout",
     "output_type": "stream",
     "text": [
      "sum_gb_used:\n"
     ]
    },
    {
     "data": {
      "image/png": "[encoded data removed]",
      "text/plain": [
       "<Figure size 432x288 with 1 Axes>"
      ]
     },
     "metadata": {
      "needs_background": "light"
     },
     "output_type": "display_data"
    },
    {
     "name": "stdout",
     "output_type": "stream",
     "text": [
      "profit:\n"
     ]
    },
    {
     "data": {
      "image/png": "[encoded data removed]",
      "text/plain": [
       "<Figure size 432x288 with 1 Axes>"
      ]
     },
     "metadata": {
      "needs_background": "light"
     },
     "output_type": "display_data"
    },
    {
     "data": {
      "text/html": [
       "<div>\n",
       "<style scoped>\n",
       "    .dataframe tbody tr th:only-of-type {\n",
       "        vertical-align: middle;\n",
       "    }\n",
       "\n",
       "    .dataframe tbody tr th {\n",
       "        vertical-align: top;\n",
       "    }\n",
       "\n",
       "    .dataframe thead th {\n",
       "        text-align: right;\n",
       "    }\n",
       "</style>\n",
       "<table border=\"1\" class=\"dataframe\">\n",
       "  <thead>\n",
       "    <tr style=\"text-align: right;\">\n",
       "      <th></th>\n",
       "      <th>minutes</th>\n",
       "      <th>messages</th>\n",
       "      <th>gb</th>\n",
       "      <th>profit</th>\n",
       "    </tr>\n",
       "  </thead>\n",
       "  <tbody>\n",
       "    <tr>\n",
       "      <td>mean</td>\n",
       "      <td>526.623</td>\n",
       "      <td>49.3635</td>\n",
       "      <td>19.4944</td>\n",
       "      <td>2070.15</td>\n",
       "    </tr>\n",
       "    <tr>\n",
       "      <td>var</td>\n",
       "      <td>100874</td>\n",
       "      <td>2285.27</td>\n",
       "      <td>97.0917</td>\n",
       "      <td>141517</td>\n",
       "    </tr>\n",
       "    <tr>\n",
       "      <td>std</td>\n",
       "      <td>317.445</td>\n",
       "      <td>47.7802</td>\n",
       "      <td>9.84851</td>\n",
       "      <td>375.996</td>\n",
       "    </tr>\n",
       "  </tbody>\n",
       "</table>\n",
       "</div>"
      ],
      "text/plain": [
       "      minutes messages       gb   profit\n",
       "mean  526.623  49.3635  19.4944  2070.15\n",
       "var    100874  2285.27  97.0917   141517\n",
       "std   317.445  47.7802  9.84851  375.996"
      ]
     },
     "execution_count": 27,
     "metadata": {},
     "output_type": "execute_result"
    }
   ],
   "source": [
    "statistics_ultra = pd.DataFrame(columns=['minutes_sum', 'messages_count', 'sum_gb_used', 'profit'], \n",
    "                                index=['mean', 'var', 'std'])\n",
    "\n",
    "stat(statistics_ultra, df_ultra)\n",
    "statistics_ultra"
   ]
  },
  {
   "cell_type": "markdown",
   "id": "8298ff48",
   "metadata": {},
   "source": [
    "### Вывод "
   ]
  },
  {
   "cell_type": "markdown",
   "id": "08ccc423",
   "metadata": {},
   "source": [
    "Статистики тарифа ultra, в целом, похожи на тариф smart, но есть несколько отличий: \n",
    "- Количество минут разговора в месяц всё также стремится к нормальному распределению, но здесь более заметна зона около 0 - количество людей, совсем не разговаривавших по телефону, практически такое же, как и количество людей с суммарной продолжительностью в 500 минут разговора. А 500 минут - это почти среднее значение по всем абонентам этого тарифа, поэтому можно сделать вывод, что действительно много людей не использует телефонную связь.  \n",
    "- График с сообщениями практически польностью повторяет аналогичный для тарифа smart, с поправкой на меньшее количество абонентов.\n",
    "- Распределение интернет-трафика стремится к нормальному, как и у прошлого тарифа. Объяснением \"лохматости\" графика может стать небольшое количество пользователей, при большом диапазоне разброса значений.  \n",
    "- А вот объём выручки практически не отличается от размера абонентской платы, среднее 2070 при абонентской 1950. Видимо, перевалить за включенный в тариф лимит минут/смс/гб довольно сложно.    \n",
    "\n",
    "Отдельно стоит отметить, что абоненты тарифа ultra, в среднем, тратят больше минут, смс и гб в месяц, чем абоненты тарифа smart, хоть и не сильно."
   ]
  },
  {
   "cell_type": "markdown",
   "id": "f94de88d",
   "metadata": {},
   "source": [
    "## Проверка гипотез. "
   ]
  },
  {
   "cell_type": "markdown",
   "id": "68357d20",
   "metadata": {},
   "source": [
    "### Средняя выручка пользователей разных тарифов отличается. "
   ]
  },
  {
   "cell_type": "code",
   "execution_count": 28,
   "id": "5ab213ae",
   "metadata": {},
   "outputs": [
    {
     "name": "stdout",
     "output_type": "stream",
     "text": [
      "p-значение 1.4229814360764067e-160 \n",
      "\n",
      "Отвергаем нулевую гипотезу\n"
     ]
    }
   ],
   "source": [
    "alpha = 0.05\n",
    "\n",
    "results = st.ttest_ind(df_smart['profit'], df_ultra['profit'])\n",
    "\n",
    "print('p-значение', results.pvalue, '\\n')\n",
    "\n",
    "if (results.pvalue < alpha):\n",
    "    print('Отвергаем нулевую гипотезу')\n",
    "else:\n",
    "    print('Не получилось отвергнуть нулевую гипотезу')"
   ]
  },
  {
   "cell_type": "markdown",
   "id": "3cfe93b1",
   "metadata": {},
   "source": [
    "Нулевая гипотеза звучит так: \"Средние выручки пользователей тарифов smart и ultra равны\". Однако, эта гипотеза оказалась совсем неправдоподобной, поскольку p-значение составляет примерно 1.42 * 10^-160. С такой вероятностью различие средних значений в двух выборках произошло случайно - скорее всего, выручка от разных тарифов действительно отличается."
   ]
  },
  {
   "cell_type": "markdown",
   "id": "006ed0af",
   "metadata": {},
   "source": [
    "### Средняя выручка отличается в зависимости от региона."
   ]
  },
  {
   "cell_type": "code",
   "execution_count": 29,
   "id": "cfa7553c",
   "metadata": {},
   "outputs": [],
   "source": [
    "moscow_users = df_users[df_users['city'] == 'Москва']\n",
    "\n",
    "df_smart_moscow = df_smart[df_smart.index.get_level_values(0).isin( moscow_users['user_id'])]\n",
    "df_smart_other = df_smart[~df_smart.index.get_level_values(0).isin( moscow_users['user_id'])]\n",
    "\n",
    "df_ultra_moscow = df_ultra[df_ultra.index.get_level_values(0).isin( moscow_users['user_id'])]\n",
    "df_ultra_other = df_ultra[~df_ultra.index.get_level_values(0).isin( moscow_users['user_id'])]"
   ]
  },
  {
   "cell_type": "markdown",
   "id": "d0a8bb03",
   "metadata": {},
   "source": [
    "Сравнивать выручку в зависимости от региона абонента мы будем отдельно для разных тарифов. Для этого были созданы 4 отдельных среза, сохранённых в переменные df_smart_moscow, df_smart_other, df_ultra_moscow и df_ultra_other."
   ]
  },
  {
   "cell_type": "code",
   "execution_count": 30,
   "id": "51c88753",
   "metadata": {},
   "outputs": [
    {
     "name": "stdout",
     "output_type": "stream",
     "text": [
      "p-значение 0.15468343176376667 \n",
      "\n",
      "Не получилось отвергнуть нулевую гипотезу для тарифа smart\n",
      "\n",
      "Среднее значение для абонентов из Москвы: 1239.3575129533679 \n",
      "Среднее значение для абонентов из других регионов: 1300.5746066196418\n"
     ]
    }
   ],
   "source": [
    "alpha = 0.05\n",
    "\n",
    "results = st.ttest_ind(df_smart_moscow['profit'], df_smart_other['profit'], equal_var=False)\n",
    "\n",
    "print('p-значение', results.pvalue, '\\n')\n",
    "\n",
    "if (results.pvalue < alpha):\n",
    "    print('Отвергаем нулевую гипотезу для тарифа smart')\n",
    "else:\n",
    "    print('Не получилось отвергнуть нулевую гипотезу для тарифа smart')\n",
    "    \n",
    "print('\\nСреднее значение для абонентов из Москвы:', df_smart_moscow['profit'].mean(),\n",
    "     '\\nСреднее значение для абонентов из других регионов:', df_smart_other['profit'].mean())"
   ]
  },
  {
   "cell_type": "code",
   "execution_count": 31,
   "id": "fd9e15e7",
   "metadata": {},
   "outputs": [
    {
     "name": "stdout",
     "output_type": "stream",
     "text": [
      "p-значение 0.8544997530689904 \n",
      "\n",
      "Не получилось отвергнуть нулевую гипотезу для тарифа ultra\n",
      "\n",
      "Среднее значение для абонентов из Москвы: 2074.0 \n",
      "Среднее значение для абонентов из других регионов: 2069.0131578947367\n"
     ]
    }
   ],
   "source": [
    "alpha = 0.05\n",
    "\n",
    "results = st.ttest_ind(df_ultra_moscow['profit'], df_ultra_other['profit'], equal_var=False)\n",
    "\n",
    "print('p-значение', results.pvalue, '\\n')\n",
    "\n",
    "if (results.pvalue < alpha):\n",
    "    print('Отвергаем нулевую гипотезу для тарифа ultra')\n",
    "else:\n",
    "    print('Не получилось отвергнуть нулевую гипотезу для тарифа ultra')\n",
    "    \n",
    "print('\\nСреднее значение для абонентов из Москвы:', df_ultra_moscow['profit'].mean(),\n",
    "     '\\nСреднее значение для абонентов из других регионов:', df_ultra_other['profit'].mean())"
   ]
  },
  {
   "cell_type": "markdown",
   "id": "0f3f9be6",
   "metadata": {},
   "source": [
    "### Вывод "
   ]
  },
  {
   "cell_type": "markdown",
   "id": "1902cd56",
   "metadata": {},
   "source": [
    "Для обоих тарифов нулевая гипотеза говорит о том, что средняя выручка от абонентов из Москвы и из остальных городов одинаковая. \n",
    "В обоих случаях средние значения выручки различаются, но вероятность того, что это произошло случайно, слишком высока, поэтому мы не можем отвергнуть ни одну из нулевых гипотез. Но стоит заметить, что p-значения для каждого из тарифов отличаются довольно сильно: вероятность случайного несовпадения средних значений для тарифа ultra почти в 5.5 раз выше аналогичной для тарифа smart. Получается, что выручка тарифа ultra меньше зависит от региона, чем у тарифа smart."
   ]
  },
  {
   "cell_type": "markdown",
   "id": "60b1ffd7",
   "metadata": {},
   "source": [
    "## Общий вывод. "
   ]
  },
  {
   "cell_type": "markdown",
   "id": "2f607ced",
   "metadata": {},
   "source": [
    "Исходя из предоставленной выборки клиентов компании \"Мегалайн\" можно сделать вывод, что, в среднем, больше денег приносят абоненты тарифа \"Ультра\" - средняя выручка по абонентам этого тарифа в 1.6 раз больше, чем у абонентов тарифа \"Смарт\". Однако, видимо, к такому же выводу приходят и сами клиенты, поскольку тариф \"Смарт\" они выбирают в 2.25 раз чаще. Получается, что, хоть выручка с одного пользователя на тарифе \"Ультра\" и выше, денег компании больше приносят абоненты тарифа \"Смарт\". Скорее всего, причиной выбора младшего тарифа является слишком большая разница в абонентской плате и лимитах. Большинство людей считает, что они всё равно не потратят 1000 смс и 3000 минут, и не видят смысла платить за такой тариф в 4 раза больше. И они правы - в среднем на тарифе \"Ультра\" звонят и пишут не на много больше, чем на тарифе \"Смарт\". Отсюда же вытекает и очень маленькое количество людей, который переплачивают сверх тарифа - не уложиться в такой лимит крайне непросто.  \n",
    "Скорректировать расходы на рекламный бюджет в пользу увеличения маркетинговых мероприятий для тарифа \"Ультра\" можно, и, возможно, это действительно увеличит прибыль компании путём роста количества абонентов дорогого тарифа. Однако, такое решение оправдано только если рассматривать компанию \"Мегалайн\" как монополиста, в отрыве от остального рынка. На практике же имеет место конкуренция, и клиент скорее выберет более удобный для него тариф в другой компании, нежели более дорогой в этой. Возможно, более эффективным решением будет изменить тарифную сетку, добавив больше вариантов. Например, взять тариф \"Смарт\" и увеличить на нём пакет интернета до 20гб, при этом уменьшив количество минут до 400, а абонентскую плату поднять до 750 рублей в месяц. В итоге, бóльшая часть абонентов такого тарифа перестанет вылезать за пределы пакета интернета, но будет переплачивать за минуты разговора, при этом сам тариф может быть достаточно привлекательным за счёт не очень высокой стоимости."
   ]
  }
 ],
 "metadata": {
  "ExecuteTimeLog": [
   {
    "duration": 4323,
    "start_time": "2021-11-21T12:18:27.986Z"
   },
   {
    "duration": -371,
    "start_time": "2021-11-21T12:18:32.684Z"
   },
   {
    "duration": -371,
    "start_time": "2021-11-21T12:18:32.686Z"
   },
   {
    "duration": -373,
    "start_time": "2021-11-21T12:18:32.689Z"
   },
   {
    "duration": -375,
    "start_time": "2021-11-21T12:18:32.692Z"
   },
   {
    "duration": -376,
    "start_time": "2021-11-21T12:18:32.694Z"
   },
   {
    "duration": -376,
    "start_time": "2021-11-21T12:18:32.696Z"
   },
   {
    "duration": -375,
    "start_time": "2021-11-21T12:18:32.698Z"
   },
   {
    "duration": -376,
    "start_time": "2021-11-21T12:18:32.701Z"
   },
   {
    "duration": -377,
    "start_time": "2021-11-21T12:18:32.704Z"
   },
   {
    "duration": -377,
    "start_time": "2021-11-21T12:18:32.706Z"
   },
   {
    "duration": -377,
    "start_time": "2021-11-21T12:18:32.708Z"
   },
   {
    "duration": -379,
    "start_time": "2021-11-21T12:18:32.712Z"
   },
   {
    "duration": -387,
    "start_time": "2021-11-21T12:18:32.722Z"
   },
   {
    "duration": -395,
    "start_time": "2021-11-21T12:18:32.732Z"
   },
   {
    "duration": -394,
    "start_time": "2021-11-21T12:18:32.734Z"
   },
   {
    "duration": -395,
    "start_time": "2021-11-21T12:18:32.737Z"
   },
   {
    "duration": -395,
    "start_time": "2021-11-21T12:18:32.739Z"
   },
   {
    "duration": -396,
    "start_time": "2021-11-21T12:18:32.742Z"
   },
   {
    "duration": -396,
    "start_time": "2021-11-21T12:18:32.744Z"
   },
   {
    "duration": -397,
    "start_time": "2021-11-21T12:18:32.747Z"
   },
   {
    "duration": -398,
    "start_time": "2021-11-21T12:18:32.750Z"
   },
   {
    "duration": -396,
    "start_time": "2021-11-21T12:18:32.755Z"
   },
   {
    "duration": -396,
    "start_time": "2021-11-21T12:18:32.757Z"
   },
   {
    "duration": -396,
    "start_time": "2021-11-21T12:18:32.759Z"
   },
   {
    "duration": -395,
    "start_time": "2021-11-21T12:18:32.761Z"
   },
   {
    "duration": -402,
    "start_time": "2021-11-21T12:18:32.770Z"
   },
   {
    "duration": -403,
    "start_time": "2021-11-21T12:18:32.773Z"
   },
   {
    "duration": -404,
    "start_time": "2021-11-21T12:18:32.776Z"
   },
   {
    "duration": -404,
    "start_time": "2021-11-21T12:18:32.778Z"
   },
   {
    "duration": -406,
    "start_time": "2021-11-21T12:18:32.782Z"
   },
   {
    "duration": 534,
    "start_time": "2021-11-21T12:19:06.116Z"
   },
   {
    "duration": 523,
    "start_time": "2021-11-21T12:19:10.344Z"
   },
   {
    "duration": 47,
    "start_time": "2021-11-21T12:19:10.869Z"
   },
   {
    "duration": 54,
    "start_time": "2021-11-21T12:19:10.919Z"
   },
   {
    "duration": 55,
    "start_time": "2021-11-21T12:19:10.977Z"
   },
   {
    "duration": 46,
    "start_time": "2021-11-21T12:19:11.035Z"
   },
   {
    "duration": 16,
    "start_time": "2021-11-21T12:19:11.083Z"
   },
   {
    "duration": 90,
    "start_time": "2021-11-21T12:19:11.102Z"
   },
   {
    "duration": 36,
    "start_time": "2021-11-21T12:19:11.194Z"
   },
   {
    "duration": 62,
    "start_time": "2021-11-21T12:19:11.233Z"
   },
   {
    "duration": 261,
    "start_time": "2021-11-21T12:19:11.298Z"
   },
   {
    "duration": 22,
    "start_time": "2021-11-21T12:19:11.561Z"
   },
   {
    "duration": 30,
    "start_time": "2021-11-21T12:19:11.586Z"
   },
   {
    "duration": 101,
    "start_time": "2021-11-21T12:19:11.619Z"
   },
   {
    "duration": 85,
    "start_time": "2021-11-21T12:19:11.723Z"
   },
   {
    "duration": 56,
    "start_time": "2021-11-21T12:19:11.811Z"
   },
   {
    "duration": 44,
    "start_time": "2021-11-21T12:19:11.870Z"
   },
   {
    "duration": 67,
    "start_time": "2021-11-21T12:19:11.916Z"
   },
   {
    "duration": 10,
    "start_time": "2021-11-21T12:19:11.985Z"
   },
   {
    "duration": 13,
    "start_time": "2021-11-21T12:19:11.997Z"
   },
   {
    "duration": 51,
    "start_time": "2021-11-21T12:19:12.013Z"
   },
   {
    "duration": 24,
    "start_time": "2021-11-21T12:19:12.066Z"
   },
   {
    "duration": 37,
    "start_time": "2021-11-21T12:19:12.092Z"
   },
   {
    "duration": 14199,
    "start_time": "2021-11-21T12:19:12.132Z"
   },
   {
    "duration": 27,
    "start_time": "2021-11-21T12:19:26.334Z"
   },
   {
    "duration": 6,
    "start_time": "2021-11-21T12:19:26.363Z"
   },
   {
    "duration": 1146,
    "start_time": "2021-11-21T12:19:26.371Z"
   },
   {
    "duration": -321,
    "start_time": "2021-11-21T12:19:27.841Z"
   },
   {
    "duration": -329,
    "start_time": "2021-11-21T12:19:27.850Z"
   },
   {
    "duration": -330,
    "start_time": "2021-11-21T12:19:27.853Z"
   },
   {
    "duration": -331,
    "start_time": "2021-11-21T12:19:27.855Z"
   },
   {
    "duration": -332,
    "start_time": "2021-11-21T12:19:27.858Z"
   },
   {
    "duration": 1102,
    "start_time": "2021-11-21T12:25:35.697Z"
   },
   {
    "duration": 6,
    "start_time": "2021-11-21T12:26:37.563Z"
   },
   {
    "duration": 1103,
    "start_time": "2021-11-21T12:26:38.185Z"
   },
   {
    "duration": 6,
    "start_time": "2021-11-21T12:27:14.511Z"
   },
   {
    "duration": 1090,
    "start_time": "2021-11-21T12:27:14.719Z"
   },
   {
    "duration": 6,
    "start_time": "2021-11-21T12:27:25.196Z"
   },
   {
    "duration": 1473,
    "start_time": "2021-11-21T12:27:27.090Z"
   },
   {
    "duration": 6,
    "start_time": "2021-11-21T12:29:13.849Z"
   },
   {
    "duration": 1656,
    "start_time": "2021-11-21T12:29:15.631Z"
   },
   {
    "duration": 8,
    "start_time": "2021-11-21T12:29:31.762Z"
   },
   {
    "duration": 1726,
    "start_time": "2021-11-21T12:29:33.217Z"
   },
   {
    "duration": 7,
    "start_time": "2021-11-21T12:30:17.254Z"
   },
   {
    "duration": 1697,
    "start_time": "2021-11-21T12:30:17.404Z"
   },
   {
    "duration": 2067,
    "start_time": "2021-11-21T12:30:43.151Z"
   },
   {
    "duration": 67,
    "start_time": "2021-11-21T12:30:45.222Z"
   },
   {
    "duration": 30,
    "start_time": "2021-11-21T12:30:45.292Z"
   },
   {
    "duration": 81,
    "start_time": "2021-11-21T12:30:45.326Z"
   },
   {
    "duration": 18,
    "start_time": "2021-11-21T12:30:45.410Z"
   },
   {
    "duration": 47,
    "start_time": "2021-11-21T12:30:45.430Z"
   },
   {
    "duration": 63,
    "start_time": "2021-11-21T12:30:45.480Z"
   },
   {
    "duration": 45,
    "start_time": "2021-11-21T12:30:45.559Z"
   },
   {
    "duration": 75,
    "start_time": "2021-11-21T12:30:45.608Z"
   },
   {
    "duration": 302,
    "start_time": "2021-11-21T12:30:45.687Z"
   },
   {
    "duration": 22,
    "start_time": "2021-11-21T12:30:45.991Z"
   },
   {
    "duration": 38,
    "start_time": "2021-11-21T12:30:46.016Z"
   },
   {
    "duration": 76,
    "start_time": "2021-11-21T12:30:46.065Z"
   },
   {
    "duration": 105,
    "start_time": "2021-11-21T12:30:46.143Z"
   },
   {
    "duration": 51,
    "start_time": "2021-11-21T12:30:46.259Z"
   },
   {
    "duration": 79,
    "start_time": "2021-11-21T12:30:46.312Z"
   },
   {
    "duration": 42,
    "start_time": "2021-11-21T12:30:46.394Z"
   },
   {
    "duration": 36,
    "start_time": "2021-11-21T12:30:46.439Z"
   },
   {
    "duration": 17,
    "start_time": "2021-11-21T12:30:46.478Z"
   },
   {
    "duration": 41,
    "start_time": "2021-11-21T12:30:46.498Z"
   },
   {
    "duration": 46,
    "start_time": "2021-11-21T12:30:46.542Z"
   },
   {
    "duration": 23,
    "start_time": "2021-11-21T12:30:46.590Z"
   },
   {
    "duration": 11204,
    "start_time": "2021-11-21T12:30:46.616Z"
   },
   {
    "duration": 15,
    "start_time": "2021-11-21T12:30:57.822Z"
   },
   {
    "duration": 28,
    "start_time": "2021-11-21T12:30:57.840Z"
   },
   {
    "duration": 1553,
    "start_time": "2021-11-21T12:30:57.870Z"
   },
   {
    "duration": 1593,
    "start_time": "2021-11-21T12:30:59.427Z"
   },
   {
    "duration": 8,
    "start_time": "2021-11-21T12:31:01.023Z"
   },
   {
    "duration": 50,
    "start_time": "2021-11-21T12:31:01.034Z"
   },
   {
    "duration": 11,
    "start_time": "2021-11-21T12:31:01.087Z"
   },
   {
    "duration": 27,
    "start_time": "2021-11-21T12:31:01.101Z"
   },
   {
    "duration": 1307,
    "start_time": "2021-11-22T08:05:21.716Z"
   },
   {
    "duration": 25,
    "start_time": "2021-11-22T08:05:23.025Z"
   },
   {
    "duration": 18,
    "start_time": "2021-11-22T08:05:23.052Z"
   },
   {
    "duration": 32,
    "start_time": "2021-11-22T08:05:23.071Z"
   },
   {
    "duration": 9,
    "start_time": "2021-11-22T08:05:23.104Z"
   },
   {
    "duration": 8,
    "start_time": "2021-11-22T08:05:23.115Z"
   },
   {
    "duration": 40,
    "start_time": "2021-11-22T08:05:23.125Z"
   },
   {
    "duration": 43,
    "start_time": "2021-11-22T08:05:23.166Z"
   },
   {
    "duration": 28,
    "start_time": "2021-11-22T08:05:23.210Z"
   },
   {
    "duration": 183,
    "start_time": "2021-11-22T08:05:23.239Z"
   },
   {
    "duration": 14,
    "start_time": "2021-11-22T08:05:23.424Z"
   },
   {
    "duration": 18,
    "start_time": "2021-11-22T08:05:23.440Z"
   },
   {
    "duration": 69,
    "start_time": "2021-11-22T08:05:23.460Z"
   },
   {
    "duration": 58,
    "start_time": "2021-11-22T08:05:23.530Z"
   },
   {
    "duration": 24,
    "start_time": "2021-11-22T08:05:23.590Z"
   },
   {
    "duration": 27,
    "start_time": "2021-11-22T08:05:23.615Z"
   },
   {
    "duration": 25,
    "start_time": "2021-11-22T08:05:23.643Z"
   },
   {
    "duration": 7,
    "start_time": "2021-11-22T08:05:23.687Z"
   },
   {
    "duration": 12,
    "start_time": "2021-11-22T08:05:23.695Z"
   },
   {
    "duration": 8,
    "start_time": "2021-11-22T08:05:23.708Z"
   },
   {
    "duration": 9,
    "start_time": "2021-11-22T08:05:23.717Z"
   },
   {
    "duration": 11,
    "start_time": "2021-11-22T08:05:23.728Z"
   },
   {
    "duration": 5824,
    "start_time": "2021-11-22T08:05:23.741Z"
   },
   {
    "duration": 10,
    "start_time": "2021-11-22T08:05:29.566Z"
   },
   {
    "duration": 5,
    "start_time": "2021-11-22T08:05:29.587Z"
   },
   {
    "duration": 833,
    "start_time": "2021-11-22T08:05:29.594Z"
   },
   {
    "duration": 963,
    "start_time": "2021-11-22T08:05:30.428Z"
   },
   {
    "duration": 5,
    "start_time": "2021-11-22T08:05:31.392Z"
   },
   {
    "duration": 18,
    "start_time": "2021-11-22T08:05:31.398Z"
   },
   {
    "duration": 11,
    "start_time": "2021-11-22T08:05:31.417Z"
   },
   {
    "duration": 12,
    "start_time": "2021-11-22T08:05:31.430Z"
   },
   {
    "duration": 8121,
    "start_time": "2021-11-22T08:20:27.307Z"
   },
   {
    "duration": 12,
    "start_time": "2021-11-22T08:21:09.854Z"
   },
   {
    "duration": 4,
    "start_time": "2021-11-22T08:21:16.230Z"
   },
   {
    "duration": 10,
    "start_time": "2021-11-22T08:21:26.008Z"
   }
  ],
  "kernelspec": {
   "display_name": "Python 3",
   "language": "python",
   "name": "python3"
  },
  "language_info": {
   "codemirror_mode": {
    "name": "ipython",
    "version": 3
   },
   "file_extension": ".py",
   "mimetype": "text/x-python",
   "name": "python",
   "nbconvert_exporter": "python",
   "pygments_lexer": "ipython3",
   "version": "3.8.8"
  },
  "toc": {
   "base_numbering": 1,
   "nav_menu": {},
   "number_sections": true,
   "sideBar": true,
   "skip_h1_title": true,
   "title_cell": "Содержание",
   "title_sidebar": "Contents",
   "toc_cell": true,
   "toc_position": {},
   "toc_section_display": true,
   "toc_window_display": false
  }
 },
 "nbformat": 4,
 "nbformat_minor": 5
}
