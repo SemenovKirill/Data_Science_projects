version https://git-lfs.github.com/spec/v1
oid sha256:f969aa6bce10ec1713e9f74fd38f5c39245d072699d3f0b5e6dfe8b49de0ebd1
size 183564
