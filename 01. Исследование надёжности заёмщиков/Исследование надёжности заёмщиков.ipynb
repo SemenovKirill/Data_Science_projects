version https://git-lfs.github.com/spec/v1
oid sha256:cb4ae9f6ade9b940ce2583005749dff2ebd203b0ce4edf96746641662143215e
size 258676
