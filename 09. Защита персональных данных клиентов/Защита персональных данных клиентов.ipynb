{
 "cells": [
  {
   "cell_type": "markdown",
   "metadata": {},
   "source": [
    "# Защита персональных данных клиентов"
   ]
  },
  {
   "cell_type": "markdown",
   "metadata": {
    "toc": true
   },
   "source": [
    "<h1>Содержание<span class=\"tocSkip\"></span></h1>\n",
    "<div class=\"toc\"><ul class=\"toc-item\"><li><span><a href=\"#Первый-взгляд\" data-toc-modified-id=\"Первый-взгляд-1\"><span class=\"toc-item-num\">1&nbsp;&nbsp;</span>Первый взгляд</a></span><ul class=\"toc-item\"><li><span><a href=\"#Вывод\" data-toc-modified-id=\"Вывод-1.1\"><span class=\"toc-item-num\">1.1&nbsp;&nbsp;</span>Вывод</a></span></li></ul></li><li><span><a href=\"#Предобработка\" data-toc-modified-id=\"Предобработка-2\"><span class=\"toc-item-num\">2&nbsp;&nbsp;</span>Предобработка</a></span><ul class=\"toc-item\"><li><span><a href=\"#Вывод\" data-toc-modified-id=\"Вывод-2.1\"><span class=\"toc-item-num\">2.1&nbsp;&nbsp;</span>Вывод</a></span></li></ul></li><li><span><a href=\"#Умножение-матриц\" data-toc-modified-id=\"Умножение-матриц-3\"><span class=\"toc-item-num\">3&nbsp;&nbsp;</span>Умножение матриц</a></span><ul class=\"toc-item\"><li><span><a href=\"#Вывод\" data-toc-modified-id=\"Вывод-3.1\"><span class=\"toc-item-num\">3.1&nbsp;&nbsp;</span>Вывод</a></span></li></ul></li><li><span><a href=\"#Алгоритм-преобразования\" data-toc-modified-id=\"Алгоритм-преобразования-4\"><span class=\"toc-item-num\">4&nbsp;&nbsp;</span>Алгоритм преобразования</a></span><ul class=\"toc-item\"><li><span><a href=\"#Вывод\" data-toc-modified-id=\"Вывод-4.1\"><span class=\"toc-item-num\">4.1&nbsp;&nbsp;</span>Вывод</a></span></li></ul></li><li><span><a href=\"#Проверка-алгоритма\" data-toc-modified-id=\"Проверка-алгоритма-5\"><span class=\"toc-item-num\">5&nbsp;&nbsp;</span>Проверка алгоритма</a></span><ul class=\"toc-item\"><li><span><a href=\"#Вывод\" data-toc-modified-id=\"Вывод-5.1\"><span class=\"toc-item-num\">5.1&nbsp;&nbsp;</span>Вывод</a></span></li></ul></li><li><span><a href=\"#Общий-вывод\" data-toc-modified-id=\"Общий-вывод-6\"><span class=\"toc-item-num\">6&nbsp;&nbsp;</span>Общий вывод</a></span></li></ul></div>"
   ]
  },
  {
   "cell_type": "markdown",
   "metadata": {},
   "source": [
    "## Первый взгляд"
   ]
  },
  {
   "cell_type": "code",
   "execution_count": 1,
   "metadata": {},
   "outputs": [],
   "source": [
    "import warnings\n",
    "import numpy as np\n",
    "import pandas as pd\n",
    "import matplotlib.pyplot as plt \n",
    "from sklearn.metrics import r2_score\n",
    "from sklearn.linear_model import LinearRegression\n",
    "from sklearn.model_selection import train_test_split\n",
    "from IPython.core.display import display, HTML"
   ]
  },
  {
   "cell_type": "code",
   "execution_count": 2,
   "metadata": {},
   "outputs": [
    {
     "name": "stdout",
     "output_type": "stream",
     "text": [
      "<class 'pandas.core.frame.DataFrame'>\n",
      "RangeIndex: 5000 entries, 0 to 4999\n",
      "Data columns (total 5 columns):\n",
      "Пол                  5000 non-null int64\n",
      "Возраст              5000 non-null float64\n",
      "Зарплата             5000 non-null float64\n",
      "Члены семьи          5000 non-null int64\n",
      "Страховые выплаты    5000 non-null int64\n",
      "dtypes: float64(2), int64(3)\n",
      "memory usage: 195.4 KB\n"
     ]
    },
    {
     "data": {
      "text/html": [
       "<div>\n",
       "<style scoped>\n",
       "    .dataframe tbody tr th:only-of-type {\n",
       "        vertical-align: middle;\n",
       "    }\n",
       "\n",
       "    .dataframe tbody tr th {\n",
       "        vertical-align: top;\n",
       "    }\n",
       "\n",
       "    .dataframe thead th {\n",
       "        text-align: right;\n",
       "    }\n",
       "</style>\n",
       "<table border=\"1\" class=\"dataframe\">\n",
       "  <thead>\n",
       "    <tr style=\"text-align: right;\">\n",
       "      <th></th>\n",
       "      <th>Пол</th>\n",
       "      <th>Возраст</th>\n",
       "      <th>Зарплата</th>\n",
       "      <th>Члены семьи</th>\n",
       "      <th>Страховые выплаты</th>\n",
       "    </tr>\n",
       "  </thead>\n",
       "  <tbody>\n",
       "    <tr>\n",
       "      <td>878</td>\n",
       "      <td>1</td>\n",
       "      <td>32.0</td>\n",
       "      <td>17800.0</td>\n",
       "      <td>2</td>\n",
       "      <td>0</td>\n",
       "    </tr>\n",
       "    <tr>\n",
       "      <td>1107</td>\n",
       "      <td>1</td>\n",
       "      <td>19.0</td>\n",
       "      <td>31500.0</td>\n",
       "      <td>1</td>\n",
       "      <td>0</td>\n",
       "    </tr>\n",
       "    <tr>\n",
       "      <td>1695</td>\n",
       "      <td>0</td>\n",
       "      <td>27.0</td>\n",
       "      <td>47400.0</td>\n",
       "      <td>1</td>\n",
       "      <td>0</td>\n",
       "    </tr>\n",
       "    <tr>\n",
       "      <td>4441</td>\n",
       "      <td>0</td>\n",
       "      <td>24.0</td>\n",
       "      <td>29000.0</td>\n",
       "      <td>1</td>\n",
       "      <td>0</td>\n",
       "    </tr>\n",
       "    <tr>\n",
       "      <td>2700</td>\n",
       "      <td>1</td>\n",
       "      <td>26.0</td>\n",
       "      <td>46800.0</td>\n",
       "      <td>2</td>\n",
       "      <td>0</td>\n",
       "    </tr>\n",
       "    <tr>\n",
       "      <td>3189</td>\n",
       "      <td>1</td>\n",
       "      <td>28.0</td>\n",
       "      <td>54000.0</td>\n",
       "      <td>1</td>\n",
       "      <td>0</td>\n",
       "    </tr>\n",
       "    <tr>\n",
       "      <td>3690</td>\n",
       "      <td>0</td>\n",
       "      <td>24.0</td>\n",
       "      <td>60500.0</td>\n",
       "      <td>0</td>\n",
       "      <td>0</td>\n",
       "    </tr>\n",
       "    <tr>\n",
       "      <td>1254</td>\n",
       "      <td>1</td>\n",
       "      <td>23.0</td>\n",
       "      <td>32500.0</td>\n",
       "      <td>1</td>\n",
       "      <td>0</td>\n",
       "    </tr>\n",
       "    <tr>\n",
       "      <td>3013</td>\n",
       "      <td>0</td>\n",
       "      <td>19.0</td>\n",
       "      <td>53500.0</td>\n",
       "      <td>2</td>\n",
       "      <td>0</td>\n",
       "    </tr>\n",
       "    <tr>\n",
       "      <td>1380</td>\n",
       "      <td>1</td>\n",
       "      <td>34.0</td>\n",
       "      <td>46000.0</td>\n",
       "      <td>0</td>\n",
       "      <td>0</td>\n",
       "    </tr>\n",
       "  </tbody>\n",
       "</table>\n",
       "</div>"
      ],
      "text/plain": [
       "      Пол  Возраст  Зарплата  Члены семьи  Страховые выплаты\n",
       "878     1     32.0   17800.0            2                  0\n",
       "1107    1     19.0   31500.0            1                  0\n",
       "1695    0     27.0   47400.0            1                  0\n",
       "4441    0     24.0   29000.0            1                  0\n",
       "2700    1     26.0   46800.0            2                  0\n",
       "3189    1     28.0   54000.0            1                  0\n",
       "3690    0     24.0   60500.0            0                  0\n",
       "1254    1     23.0   32500.0            1                  0\n",
       "3013    0     19.0   53500.0            2                  0\n",
       "1380    1     34.0   46000.0            0                  0"
      ]
     },
     "execution_count": 2,
     "metadata": {},
     "output_type": "execute_result"
    }
   ],
   "source": [
    "warnings.filterwarnings('ignore')\n",
    "df = pd.read_csv('/datasets/insurance.csv')\n",
    "df.info()\n",
    "df.sample(10)"
   ]
  },
  {
   "cell_type": "code",
   "execution_count": 3,
   "metadata": {},
   "outputs": [
    {
     "data": {
      "image/png": "[encoded data removed]",
      "text/plain": [
       "<Figure size 1080x504 with 6 Axes>"
      ]
     },
     "metadata": {
      "needs_background": "light"
     },
     "output_type": "display_data"
    }
   ],
   "source": [
    "fig, axes = plt.subplots(2, 3, figsize=(15,7))\n",
    "\n",
    "for i in range(len(df.columns)):\n",
    "    axes[i // 3][i % 3].hist(df[list(df.columns)[i]], bins = 50)\n",
    "    axes[i // 3][i % 3].set_xlabel(list(df.columns)[i])"
   ]
  },
  {
   "cell_type": "markdown",
   "metadata": {},
   "source": [
    "### Вывод "
   ]
  },
  {
   "cell_type": "markdown",
   "metadata": {},
   "source": [
    "Исходные данные представляют собой таблицу из 5 стобцов и 5000 строк. Пропусков в них нет, на гистограммах явных аномалий не замечено, разве что выглядит необычным равное количесвто мужчин и женщин в выборке. Типы данных тоже указаны корректно, однако столбцы стоит переименовать."
   ]
  },
  {
   "cell_type": "markdown",
   "metadata": {},
   "source": [
    "## Предобработка "
   ]
  },
  {
   "cell_type": "code",
   "execution_count": 4,
   "metadata": {},
   "outputs": [],
   "source": [
    "df.columns = ['sex', 'age', 'salary', 'family_size', 'payments']"
   ]
  },
  {
   "cell_type": "code",
   "execution_count": 5,
   "metadata": {},
   "outputs": [
    {
     "data": {
      "text/plain": [
       "153"
      ]
     },
     "execution_count": 5,
     "metadata": {},
     "output_type": "execute_result"
    }
   ],
   "source": [
    "df.duplicated().sum()"
   ]
  },
  {
   "cell_type": "code",
   "execution_count": 6,
   "metadata": {},
   "outputs": [],
   "source": [
    "df = df.drop_duplicates().reset_index(drop=True)"
   ]
  },
  {
   "cell_type": "markdown",
   "metadata": {},
   "source": [
    "### Вывод "
   ]
  },
  {
   "cell_type": "markdown",
   "metadata": {},
   "source": [
    "Названия столбцов были заменены на корректные. Также были обнаружены 153 дубликата в таблице, которые были незамедлительно удалены."
   ]
  },
  {
   "cell_type": "markdown",
   "metadata": {},
   "source": [
    "## Умножение матриц"
   ]
  },
  {
   "cell_type": "markdown",
   "metadata": {},
   "source": [
    "Наша задача - сравнить предсказания модели, обученной на исходных данных, с предсказаниями модели, для обучения которой данные были домножены на случайную обратимую матрицу. Так как исходные данные различны, формулы обучения тоже будут отличаться:\n",
    "\n",
    "$$ w_1 = (X^T X)^{-1} X^T y \\\\w_2 = ((XP)^T (XP))^{-1} (XP)^T y \\;, где: $$\n",
    "\n",
    "- $w$ — вектор весов линейной регрессии (нулевой элемент равен сдвигу);\n",
    "\n",
    "- $X$ — матрица признаков (нулевой столбец состоит из единиц);\n",
    "\n",
    "- $y$ — вектор целевого признака;\n",
    "\n",
    "- $P$ — матрица, на которую умножаются признаки;\n",
    "\n",
    "\n",
    "В таком случае, формулы для обоих предсказаний будут выглядеть следующим образом:\n",
    "\n",
    "$$ a_1=Xw_1 \\\\a_2 = (XP)w_2 $$\n",
    "\n",
    "Тогда:\n",
    "\n",
    "$$\n",
    "a_2 = XP((XP)^T XP)^{-1}(XP)^T y \\\\\\;\\\\\n",
    "a_2 = XP(X^T X)^{-1}(P^T P)^{-1}X^T P^T y \\\\\\;\\\\\n",
    "a_2 = X(X^T X)^{-1}X^T y PP^{-1}P^T(P^T)^{-1}\\\\\\;\\\\\n",
    "a_2 = X(X^T X)^{-1}X^T yE\\\\\\;\\\\\n",
    "a_2 = a_1\\\\\n",
    "$$\n",
    "\n",
    "Как можно заметить, равенство справедливо, значит предсказания обеих моделей идентичны, не смотря на то, что признаки одной из них были домножены на случайную обратимую матрицу."
   ]
  },
  {
   "cell_type": "markdown",
   "metadata": {},
   "source": [
    "### Вывод"
   ]
  },
  {
   "cell_type": "markdown",
   "metadata": {},
   "source": [
    "Путём нехитрых математических вычислений мы выяснили, что домножение матрицы признаков на любую случайную обратимую матрицу не должно исказить точность работы модели. Это означает, что мы вполне можем использовать такой способ шифрования данных пользователей."
   ]
  },
  {
   "cell_type": "markdown",
   "metadata": {},
   "source": [
    "## Алгоритм преобразования"
   ]
  },
  {
   "cell_type": "markdown",
   "metadata": {},
   "source": [
    "Упакуем функционал шифрования в отдельую функцию `encryption`. На вход она примет датафрейм с признаками для обучения, сгенерирует случайную обратимую матрицу, умножит её на матрицу признаков и вернёт нам результат. Вероятность создать случайно необратимую матрицу мала, но такое возможно. Если это произойдёт, функция повторит попытку ещё раз, а затем и снова, если на этот раз опять не получится. Всего будет 10 попыток найти случайную обратимую матрицу, и, если этого количества не хватит, то мы увидим сообщение об ошибке."
   ]
  },
  {
   "cell_type": "code",
   "execution_count": 7,
   "metadata": {},
   "outputs": [],
   "source": [
    "def encryption (features):\n",
    "    X = features.values\n",
    "    for i in range(10):\n",
    "        try:\n",
    "            P = np.random.random((X.shape[1], X.shape[1]))\n",
    "            np.linalg.inv(P)\n",
    "            return X @ P\n",
    "        except:\n",
    "            continue\n",
    "    else:\n",
    "        print('Не удалось найти случайную обратимую матрицу.')  "
   ]
  },
  {
   "cell_type": "markdown",
   "metadata": {},
   "source": [
    "### Вывод "
   ]
  },
  {
   "cell_type": "markdown",
   "metadata": {},
   "source": [
    "Мы использовали результаты наших вычислений, чтобы создать несложный алгоритм шифрования данных клиентов, для чего создали отдельную функцию. Теперь можно проверить её на практике, обучив две модели на двух разных наборах данных."
   ]
  },
  {
   "cell_type": "markdown",
   "metadata": {},
   "source": [
    "## Проверка алгоритма"
   ]
  },
  {
   "cell_type": "markdown",
   "metadata": {},
   "source": [
    "Разделим данные на три группы: признаки для обучения, признаки для обучения прошедшие наше шифрование, и целевой признак."
   ]
  },
  {
   "cell_type": "code",
   "execution_count": 8,
   "metadata": {},
   "outputs": [],
   "source": [
    "X = df.drop('payments', axis=1)\n",
    "X_crypt = encryption(X)\n",
    "y = df['payments']"
   ]
  },
  {
   "cell_type": "markdown",
   "metadata": {},
   "source": [
    "Поскольку мы хотим обучить две модели, нам потребуется два комплекта X_train и X_test - для оригинальных данных и для зашифрованных. Поскольку мы не изменяли значения целевого признака, его можно разделить только один раз. Размер тестовой выборки нас сейчас не особо интересует, поскольку наша цель - проверить работу алгоритма, а не добиться высокого качества предсказания."
   ]
  },
  {
   "cell_type": "code",
   "execution_count": 9,
   "metadata": {},
   "outputs": [],
   "source": [
    "X_train, X_test, y_train, y_test = train_test_split(X, y, random_state=123)"
   ]
  },
  {
   "cell_type": "code",
   "execution_count": 10,
   "metadata": {},
   "outputs": [],
   "source": [
    "X_train_crypt, X_test_crypt= train_test_split(X_crypt, random_state=123)"
   ]
  },
  {
   "cell_type": "markdown",
   "metadata": {},
   "source": [
    "Теперь обучим две модели линейной регресии, каждую на своём наборе данных. Для каждой измерим значение метрики R2, после чего выведем их на экран, для сравнения."
   ]
  },
  {
   "cell_type": "code",
   "execution_count": 11,
   "metadata": {},
   "outputs": [
    {
     "data": {
      "text/html": [
       "<font size=3><p><br><b>Значение метрики R2</b></p>"
      ],
      "text/plain": [
       "<IPython.core.display.HTML object>"
      ]
     },
     "metadata": {},
     "output_type": "display_data"
    },
    {
     "name": "stdout",
     "output_type": "stream",
     "text": [
      "- для модели, обученной на исходных данных:       0.40979 \n",
      "- для модели, обученной на зашифрованных данных:  0.40979\n"
     ]
    }
   ],
   "source": [
    "model_1 = LinearRegression()\n",
    "model_1.fit(X_train, y_train)\n",
    "predictions_1 = model_1.predict(X_test)\n",
    "score_1 = r2_score(y_test, predictions_1)\n",
    "\n",
    "model_2 = LinearRegression()\n",
    "model_2.fit(X_train_crypt, y_train)\n",
    "predictions_2 = model_2.predict(X_test_crypt)\n",
    "score_2 = r2_score(y_test, predictions_2)\n",
    "\n",
    "display(HTML(\"<font size=3><p><br><b>Значение метрики R2</b></p>\"))\n",
    "print('- для модели, обученной на исходных данных: {: >13.5f}'.format(score_1), \n",
    "      '\\n- для модели, обученной на зашифрованных данных: {: >8.5f}'.format(score_2))"
   ]
  },
  {
   "cell_type": "markdown",
   "metadata": {},
   "source": [
    "### Вывод "
   ]
  },
  {
   "cell_type": "markdown",
   "metadata": {},
   "source": [
    "Как и ожидалось, качество модели не изменилось, не смотря на то, что исходные данные были домножены на случайную матрицу. "
   ]
  },
  {
   "cell_type": "markdown",
   "metadata": {},
   "source": [
    "## Общий вывод"
   ]
  },
  {
   "cell_type": "markdown",
   "metadata": {},
   "source": [
    "Мы выяснили, что для шифрования данных, которые в дальнейшем будут использоваться, можно применять метод домножения этих данных на случайную обратимую матрицу. Такое изменение никак не повлияет на качество работы модели, и, в то же время, изменит исходные данные до неузнаваемости. С другой стороны, если речь идёт о действительно конфиденциальной информации, то такая мера защиты выглядит несколько примитивной, ведь мы использовали всего один ключ. Ведь сколько бы раз мы не повтряли операцию домножения на случайную матрицу, в результате мы всё равно получим такое же предсказание, что и на исходных данных. В то же время, многократное умножение может усложнить процесс получения конфиденциальных данных. "
   ]
  }
 ],
 "metadata": {
  "ExecuteTimeLog": [
   {
    "duration": 1279,
    "start_time": "2022-02-21T16:04:08.885Z"
   },
   {
    "duration": 50,
    "start_time": "2022-02-21T16:04:10.167Z"
   },
   {
    "duration": 1354,
    "start_time": "2022-02-21T16:04:10.219Z"
   },
   {
    "duration": 3,
    "start_time": "2022-02-21T16:04:11.576Z"
   },
   {
    "duration": 12,
    "start_time": "2022-02-21T16:04:11.581Z"
   },
   {
    "duration": 18,
    "start_time": "2022-02-21T16:04:11.595Z"
   },
   {
    "duration": 5,
    "start_time": "2022-02-21T16:04:11.616Z"
   },
   {
    "duration": 12,
    "start_time": "2022-02-21T16:04:11.623Z"
   },
   {
    "duration": 72,
    "start_time": "2022-02-21T16:04:11.638Z"
   },
   {
    "duration": 4,
    "start_time": "2022-02-21T16:04:11.712Z"
   },
   {
    "duration": 171,
    "start_time": "2022-02-21T16:04:11.718Z"
   },
   {
    "duration": 127,
    "start_time": "2022-02-21T16:33:42.732Z"
   },
   {
    "duration": 214,
    "start_time": "2022-02-21T19:14:28.984Z"
   },
   {
    "duration": 3,
    "start_time": "2022-02-21T19:14:30.143Z"
   },
   {
    "duration": 9,
    "start_time": "2022-02-21T19:14:30.517Z"
   },
   {
    "duration": 134,
    "start_time": "2022-02-21T21:21:47.666Z"
   },
   {
    "duration": 133,
    "start_time": "2022-02-21T21:30:39.092Z"
   }
  ],
  "kernelspec": {
   "display_name": "Python 3",
   "language": "python",
   "name": "python3"
  },
  "language_info": {
   "codemirror_mode": {
    "name": "ipython",
    "version": 3
   },
   "file_extension": ".py",
   "mimetype": "text/x-python",
   "name": "python",
   "nbconvert_exporter": "python",
   "pygments_lexer": "ipython3",
   "version": "3.8.8"
  },
  "toc": {
   "base_numbering": 1,
   "nav_menu": {},
   "number_sections": true,
   "sideBar": true,
   "skip_h1_title": true,
   "title_cell": "Содержание",
   "title_sidebar": "Contents",
   "toc_cell": true,
   "toc_position": {},
   "toc_section_display": true,
   "toc_window_display": true
  }
 },
 "nbformat": 4,
 "nbformat_minor": 2
}
