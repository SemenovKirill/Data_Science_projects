{
 "cells": [
  {
   "cell_type": "markdown",
   "metadata": {},
   "source": [
    "# Восстановление золота из руды"
   ]
  },
  {
   "cell_type": "markdown",
   "metadata": {
    "toc": true
   },
   "source": [
    "<h1>Содержание<span class=\"tocSkip\"></span></h1>\n",
    "<div class=\"toc\"><ul class=\"toc-item\"><li><span><a href=\"#Первый-взгляд\" data-toc-modified-id=\"Первый-взгляд-1\"><span class=\"toc-item-num\">1&nbsp;&nbsp;</span>Первый взгляд</a></span><ul class=\"toc-item\"><li><span><a href=\"#Вывод\" data-toc-modified-id=\"Вывод-1.1\"><span class=\"toc-item-num\">1.1&nbsp;&nbsp;</span>Вывод</a></span></li></ul></li><li><span><a href=\"#Подготовка-данных\" data-toc-modified-id=\"Подготовка-данных-2\"><span class=\"toc-item-num\">2&nbsp;&nbsp;</span>Подготовка данных</a></span><ul class=\"toc-item\"><li><span><a href=\"#Предобработка\" data-toc-modified-id=\"Предобработка-2.1\"><span class=\"toc-item-num\">2.1&nbsp;&nbsp;</span>Предобработка</a></span></li><li><span><a href=\"#Проверка-эффективности-обогащения\" data-toc-modified-id=\"Проверка-эффективности-обогащения-2.2\"><span class=\"toc-item-num\">2.2&nbsp;&nbsp;</span>Проверка эффективности обогащения</a></span></li><li><span><a href=\"#Вывод\" data-toc-modified-id=\"Вывод-2.3\"><span class=\"toc-item-num\">2.3&nbsp;&nbsp;</span>Вывод</a></span></li></ul></li><li><span><a href=\"#Анализ-данных\" data-toc-modified-id=\"Анализ-данных-3\"><span class=\"toc-item-num\">3&nbsp;&nbsp;</span>Анализ данных</a></span><ul class=\"toc-item\"><li><span><a href=\"#Оценка-концентрации-металлов\" data-toc-modified-id=\"Оценка-концентрации-металлов-3.1\"><span class=\"toc-item-num\">3.1&nbsp;&nbsp;</span>Оценка концентрации металлов</a></span></li><li><span><a href=\"#Сравнение-размера-гранул-сырья-в-разных-выборках\" data-toc-modified-id=\"Сравнение-размера-гранул-сырья-в-разных-выборках-3.2\"><span class=\"toc-item-num\">3.2&nbsp;&nbsp;</span>Сравнение размера гранул сырья в разных выборках</a></span></li><li><span><a href=\"#Вывод\" data-toc-modified-id=\"Вывод-3.3\"><span class=\"toc-item-num\">3.3&nbsp;&nbsp;</span>Вывод</a></span></li></ul></li><li><span><a href=\"#Обучение-моделей\" data-toc-modified-id=\"Обучение-моделей-4\"><span class=\"toc-item-num\">4&nbsp;&nbsp;</span>Обучение моделей</a></span><ul class=\"toc-item\"><li><span><a href=\"#Подготовка-выборок\" data-toc-modified-id=\"Подготовка-выборок-4.1\"><span class=\"toc-item-num\">4.1&nbsp;&nbsp;</span>Подготовка выборок</a></span></li><li><span><a href=\"#Функция-для-рассчёта-метрики-sMAPE\" data-toc-modified-id=\"Функция-для-рассчёта-метрики-sMAPE-4.2\"><span class=\"toc-item-num\">4.2&nbsp;&nbsp;</span>Функция для рассчёта метрики sMAPE</a></span></li><li><span><a href=\"#Обучение-моделей\" data-toc-modified-id=\"Обучение-моделей-4.3\"><span class=\"toc-item-num\">4.3&nbsp;&nbsp;</span>Обучение моделей</a></span></li><li><span><a href=\"#Проверка-лучших-моделей-на-тестовой-выборке\" data-toc-modified-id=\"Проверка-лучших-моделей-на-тестовой-выборке-4.4\"><span class=\"toc-item-num\">4.4&nbsp;&nbsp;</span>Проверка лучших моделей на тестовой выборке</a></span></li><li><span><a href=\"#Константная-модель\" data-toc-modified-id=\"Константная-модель-4.5\"><span class=\"toc-item-num\">4.5&nbsp;&nbsp;</span>Константная модель</a></span></li><li><span><a href=\"#Вывод\" data-toc-modified-id=\"Вывод-4.6\"><span class=\"toc-item-num\">4.6&nbsp;&nbsp;</span>Вывод</a></span></li></ul></li><li><span><a href=\"#Общий-вывод\" data-toc-modified-id=\"Общий-вывод-5\"><span class=\"toc-item-num\">5&nbsp;&nbsp;</span>Общий вывод</a></span></li></ul></div>"
   ]
  },
  {
   "cell_type": "markdown",
   "metadata": {},
   "source": [
    "## Первый взгляд "
   ]
  },
  {
   "cell_type": "code",
   "execution_count": 1,
   "metadata": {},
   "outputs": [],
   "source": [
    "import warnings\n",
    "import numpy as np\n",
    "import pandas as pd\n",
    "import seaborn as sns\n",
    "import matplotlib.pyplot as plt\n",
    "from IPython.core.display import display, HTML\n",
    "from catboost import CatBoostRegressor\n",
    "from sklearn.tree import DecisionTreeRegressor\n",
    "from sklearn.metrics import make_scorer, mean_absolute_error\n",
    "from sklearn.linear_model import LinearRegression\n",
    "from sklearn.preprocessing import StandardScaler\n",
    "from sklearn.model_selection import cross_val_score"
   ]
  },
  {
   "cell_type": "code",
   "execution_count": 3,
   "metadata": {},
   "outputs": [],
   "source": [
    "warnings.filterwarnings('ignore')\n",
    "full_data = pd.read_csv('/datasets/gold_recovery_full_new.csv')\n",
    "test_data = pd.read_csv('/datasets/gold_recovery_test_new.csv')\n",
    "train_data = pd.read_csv('/datasets/gold_recovery_train_new.csv')"
   ]
  },
  {
   "cell_type": "code",
   "execution_count": 4,
   "metadata": {
    "scrolled": true
   },
   "outputs": [
    {
     "name": "stdout",
     "output_type": "stream",
     "text": [
      "<class 'pandas.core.frame.DataFrame'>\n",
      "RangeIndex: 19439 entries, 0 to 19438\n",
      "Data columns (total 87 columns):\n",
      "date                                                  19439 non-null object\n",
      "final.output.concentrate_ag                           19438 non-null float64\n",
      "final.output.concentrate_pb                           19438 non-null float64\n",
      "final.output.concentrate_sol                          19228 non-null float64\n",
      "final.output.concentrate_au                           19439 non-null float64\n",
      "final.output.recovery                                 19439 non-null float64\n",
      "final.output.tail_ag                                  19438 non-null float64\n",
      "final.output.tail_pb                                  19338 non-null float64\n",
      "final.output.tail_sol                                 19433 non-null float64\n",
      "final.output.tail_au                                  19439 non-null float64\n",
      "primary_cleaner.input.sulfate                         19415 non-null float64\n",
      "primary_cleaner.input.depressant                      19402 non-null float64\n",
      "primary_cleaner.input.feed_size                       19439 non-null float64\n",
      "primary_cleaner.input.xanthate                        19335 non-null float64\n",
      "primary_cleaner.output.concentrate_ag                 19439 non-null float64\n",
      "primary_cleaner.output.concentrate_pb                 19323 non-null float64\n",
      "primary_cleaner.output.concentrate_sol                19069 non-null float64\n",
      "primary_cleaner.output.concentrate_au                 19439 non-null float64\n",
      "primary_cleaner.output.tail_ag                        19435 non-null float64\n",
      "primary_cleaner.output.tail_pb                        19418 non-null float64\n",
      "primary_cleaner.output.tail_sol                       19377 non-null float64\n",
      "primary_cleaner.output.tail_au                        19439 non-null float64\n",
      "primary_cleaner.state.floatbank8_a_air                19435 non-null float64\n",
      "primary_cleaner.state.floatbank8_a_level              19438 non-null float64\n",
      "primary_cleaner.state.floatbank8_b_air                19435 non-null float64\n",
      "primary_cleaner.state.floatbank8_b_level              19438 non-null float64\n",
      "primary_cleaner.state.floatbank8_c_air                19437 non-null float64\n",
      "primary_cleaner.state.floatbank8_c_level              19438 non-null float64\n",
      "primary_cleaner.state.floatbank8_d_air                19436 non-null float64\n",
      "primary_cleaner.state.floatbank8_d_level              19438 non-null float64\n",
      "rougher.calculation.sulfate_to_au_concentrate         19437 non-null float64\n",
      "rougher.calculation.floatbank10_sulfate_to_au_feed    19437 non-null float64\n",
      "rougher.calculation.floatbank11_sulfate_to_au_feed    19437 non-null float64\n",
      "rougher.calculation.au_pb_ratio                       19439 non-null float64\n",
      "rougher.input.feed_ag                                 19439 non-null float64\n",
      "rougher.input.feed_pb                                 19339 non-null float64\n",
      "rougher.input.feed_rate                               19428 non-null float64\n",
      "rougher.input.feed_size                               19294 non-null float64\n",
      "rougher.input.feed_sol                                19340 non-null float64\n",
      "rougher.input.feed_au                                 19439 non-null float64\n",
      "rougher.input.floatbank10_sulfate                     19405 non-null float64\n",
      "rougher.input.floatbank10_xanthate                    19431 non-null float64\n",
      "rougher.input.floatbank11_sulfate                     19395 non-null float64\n",
      "rougher.input.floatbank11_xanthate                    18986 non-null float64\n",
      "rougher.output.concentrate_ag                         19439 non-null float64\n",
      "rougher.output.concentrate_pb                         19439 non-null float64\n",
      "rougher.output.concentrate_sol                        19416 non-null float64\n",
      "rougher.output.concentrate_au                         19439 non-null float64\n",
      "rougher.output.recovery                               19439 non-null float64\n",
      "rougher.output.tail_ag                                19438 non-null float64\n",
      "rougher.output.tail_pb                                19439 non-null float64\n",
      "rougher.output.tail_sol                               19439 non-null float64\n",
      "rougher.output.tail_au                                19439 non-null float64\n",
      "rougher.state.floatbank10_a_air                       19438 non-null float64\n",
      "rougher.state.floatbank10_a_level                     19438 non-null float64\n",
      "rougher.state.floatbank10_b_air                       19438 non-null float64\n",
      "rougher.state.floatbank10_b_level                     19438 non-null float64\n",
      "rougher.state.floatbank10_c_air                       19438 non-null float64\n",
      "rougher.state.floatbank10_c_level                     19438 non-null float64\n",
      "rougher.state.floatbank10_d_air                       19439 non-null float64\n",
      "rougher.state.floatbank10_d_level                     19439 non-null float64\n",
      "rougher.state.floatbank10_e_air                       19003 non-null float64\n",
      "rougher.state.floatbank10_e_level                     19439 non-null float64\n",
      "rougher.state.floatbank10_f_air                       19439 non-null float64\n",
      "rougher.state.floatbank10_f_level                     19439 non-null float64\n",
      "secondary_cleaner.output.tail_ag                      19437 non-null float64\n",
      "secondary_cleaner.output.tail_pb                      19427 non-null float64\n",
      "secondary_cleaner.output.tail_sol                     17691 non-null float64\n",
      "secondary_cleaner.output.tail_au                      19439 non-null float64\n",
      "secondary_cleaner.state.floatbank2_a_air              19219 non-null float64\n",
      "secondary_cleaner.state.floatbank2_a_level            19438 non-null float64\n",
      "secondary_cleaner.state.floatbank2_b_air              19416 non-null float64\n",
      "secondary_cleaner.state.floatbank2_b_level            19438 non-null float64\n",
      "secondary_cleaner.state.floatbank3_a_air              19426 non-null float64\n",
      "secondary_cleaner.state.floatbank3_a_level            19438 non-null float64\n",
      "secondary_cleaner.state.floatbank3_b_air              19438 non-null float64\n",
      "secondary_cleaner.state.floatbank3_b_level            19438 non-null float64\n",
      "secondary_cleaner.state.floatbank4_a_air              19433 non-null float64\n",
      "secondary_cleaner.state.floatbank4_a_level            19438 non-null float64\n",
      "secondary_cleaner.state.floatbank4_b_air              19438 non-null float64\n",
      "secondary_cleaner.state.floatbank4_b_level            19438 non-null float64\n",
      "secondary_cleaner.state.floatbank5_a_air              19438 non-null float64\n",
      "secondary_cleaner.state.floatbank5_a_level            19438 non-null float64\n",
      "secondary_cleaner.state.floatbank5_b_air              19438 non-null float64\n",
      "secondary_cleaner.state.floatbank5_b_level            19438 non-null float64\n",
      "secondary_cleaner.state.floatbank6_a_air              19437 non-null float64\n",
      "secondary_cleaner.state.floatbank6_a_level            19438 non-null float64\n",
      "dtypes: float64(86), object(1)\n",
      "memory usage: 12.9+ MB\n"
     ]
    },
    {
     "data": {
      "text/html": [
       "<div>\n",
       "<style scoped>\n",
       "    .dataframe tbody tr th:only-of-type {\n",
       "        vertical-align: middle;\n",
       "    }\n",
       "\n",
       "    .dataframe tbody tr th {\n",
       "        vertical-align: top;\n",
       "    }\n",
       "\n",
       "    .dataframe thead th {\n",
       "        text-align: right;\n",
       "    }\n",
       "</style>\n",
       "<table border=\"1\" class=\"dataframe\">\n",
       "  <thead>\n",
       "    <tr style=\"text-align: right;\">\n",
       "      <th></th>\n",
       "      <th>date</th>\n",
       "      <th>final.output.concentrate_ag</th>\n",
       "      <th>final.output.concentrate_pb</th>\n",
       "      <th>final.output.concentrate_sol</th>\n",
       "      <th>final.output.concentrate_au</th>\n",
       "      <th>final.output.recovery</th>\n",
       "      <th>final.output.tail_ag</th>\n",
       "      <th>final.output.tail_pb</th>\n",
       "      <th>final.output.tail_sol</th>\n",
       "      <th>final.output.tail_au</th>\n",
       "      <th>...</th>\n",
       "      <th>secondary_cleaner.state.floatbank4_a_air</th>\n",
       "      <th>secondary_cleaner.state.floatbank4_a_level</th>\n",
       "      <th>secondary_cleaner.state.floatbank4_b_air</th>\n",
       "      <th>secondary_cleaner.state.floatbank4_b_level</th>\n",
       "      <th>secondary_cleaner.state.floatbank5_a_air</th>\n",
       "      <th>secondary_cleaner.state.floatbank5_a_level</th>\n",
       "      <th>secondary_cleaner.state.floatbank5_b_air</th>\n",
       "      <th>secondary_cleaner.state.floatbank5_b_level</th>\n",
       "      <th>secondary_cleaner.state.floatbank6_a_air</th>\n",
       "      <th>secondary_cleaner.state.floatbank6_a_level</th>\n",
       "    </tr>\n",
       "  </thead>\n",
       "  <tbody>\n",
       "    <tr>\n",
       "      <td>14279</td>\n",
       "      <td>2017-11-26 15:59:59</td>\n",
       "      <td>6.476724</td>\n",
       "      <td>10.490578</td>\n",
       "      <td>10.350736</td>\n",
       "      <td>43.584880</td>\n",
       "      <td>76.022789</td>\n",
       "      <td>9.594409</td>\n",
       "      <td>1.978373</td>\n",
       "      <td>14.192372</td>\n",
       "      <td>2.629108</td>\n",
       "      <td>...</td>\n",
       "      <td>16.981738</td>\n",
       "      <td>-501.610601</td>\n",
       "      <td>15.029862</td>\n",
       "      <td>-500.271262</td>\n",
       "      <td>10.925815</td>\n",
       "      <td>-498.897797</td>\n",
       "      <td>8.989850</td>\n",
       "      <td>-499.523942</td>\n",
       "      <td>15.994169</td>\n",
       "      <td>-499.725307</td>\n",
       "    </tr>\n",
       "    <tr>\n",
       "      <td>13087</td>\n",
       "      <td>2017-10-04 15:59:59</td>\n",
       "      <td>4.468843</td>\n",
       "      <td>12.070772</td>\n",
       "      <td>6.562945</td>\n",
       "      <td>45.437746</td>\n",
       "      <td>69.684760</td>\n",
       "      <td>6.627131</td>\n",
       "      <td>2.907338</td>\n",
       "      <td>10.904360</td>\n",
       "      <td>2.449840</td>\n",
       "      <td>...</td>\n",
       "      <td>13.984409</td>\n",
       "      <td>-500.202445</td>\n",
       "      <td>11.979024</td>\n",
       "      <td>-399.562515</td>\n",
       "      <td>12.908435</td>\n",
       "      <td>-500.693720</td>\n",
       "      <td>11.034275</td>\n",
       "      <td>-500.151919</td>\n",
       "      <td>14.987436</td>\n",
       "      <td>-500.621765</td>\n",
       "    </tr>\n",
       "    <tr>\n",
       "      <td>2009</td>\n",
       "      <td>2016-04-30 17:59:59</td>\n",
       "      <td>5.697589</td>\n",
       "      <td>9.161096</td>\n",
       "      <td>11.205417</td>\n",
       "      <td>45.813908</td>\n",
       "      <td>69.008936</td>\n",
       "      <td>11.122525</td>\n",
       "      <td>2.175739</td>\n",
       "      <td>11.694241</td>\n",
       "      <td>3.879780</td>\n",
       "      <td>...</td>\n",
       "      <td>14.988840</td>\n",
       "      <td>-499.744409</td>\n",
       "      <td>13.027877</td>\n",
       "      <td>-499.666090</td>\n",
       "      <td>8.949519</td>\n",
       "      <td>-498.189002</td>\n",
       "      <td>9.093768</td>\n",
       "      <td>-500.151533</td>\n",
       "      <td>15.997918</td>\n",
       "      <td>-497.971113</td>\n",
       "    </tr>\n",
       "    <tr>\n",
       "      <td>11048</td>\n",
       "      <td>2017-07-03 20:59:59</td>\n",
       "      <td>6.227835</td>\n",
       "      <td>10.616779</td>\n",
       "      <td>7.861548</td>\n",
       "      <td>42.392939</td>\n",
       "      <td>61.861494</td>\n",
       "      <td>7.450692</td>\n",
       "      <td>2.439688</td>\n",
       "      <td>10.178986</td>\n",
       "      <td>2.654614</td>\n",
       "      <td>...</td>\n",
       "      <td>17.931362</td>\n",
       "      <td>-500.310828</td>\n",
       "      <td>13.054197</td>\n",
       "      <td>-380.339126</td>\n",
       "      <td>17.995794</td>\n",
       "      <td>-499.705707</td>\n",
       "      <td>13.019189</td>\n",
       "      <td>-500.228160</td>\n",
       "      <td>14.985739</td>\n",
       "      <td>-499.873043</td>\n",
       "    </tr>\n",
       "    <tr>\n",
       "      <td>11110</td>\n",
       "      <td>2017-07-06 13:59:59</td>\n",
       "      <td>4.083666</td>\n",
       "      <td>9.509495</td>\n",
       "      <td>10.383549</td>\n",
       "      <td>46.884916</td>\n",
       "      <td>66.156364</td>\n",
       "      <td>8.087328</td>\n",
       "      <td>3.237007</td>\n",
       "      <td>8.906751</td>\n",
       "      <td>2.689607</td>\n",
       "      <td>...</td>\n",
       "      <td>22.039342</td>\n",
       "      <td>-499.505964</td>\n",
       "      <td>15.052963</td>\n",
       "      <td>-378.761916</td>\n",
       "      <td>18.029556</td>\n",
       "      <td>-499.692063</td>\n",
       "      <td>12.987683</td>\n",
       "      <td>-499.921293</td>\n",
       "      <td>15.027158</td>\n",
       "      <td>-499.634623</td>\n",
       "    </tr>\n",
       "  </tbody>\n",
       "</table>\n",
       "<p>5 rows × 87 columns</p>\n",
       "</div>"
      ],
      "text/plain": [
       "                      date  final.output.concentrate_ag  \\\n",
       "14279  2017-11-26 15:59:59                     6.476724   \n",
       "13087  2017-10-04 15:59:59                     4.468843   \n",
       "2009   2016-04-30 17:59:59                     5.697589   \n",
       "11048  2017-07-03 20:59:59                     6.227835   \n",
       "11110  2017-07-06 13:59:59                     4.083666   \n",
       "\n",
       "       final.output.concentrate_pb  final.output.concentrate_sol  \\\n",
       "14279                    10.490578                     10.350736   \n",
       "13087                    12.070772                      6.562945   \n",
       "2009                      9.161096                     11.205417   \n",
       "11048                    10.616779                      7.861548   \n",
       "11110                     9.509495                     10.383549   \n",
       "\n",
       "       final.output.concentrate_au  final.output.recovery  \\\n",
       "14279                    43.584880              76.022789   \n",
       "13087                    45.437746              69.684760   \n",
       "2009                     45.813908              69.008936   \n",
       "11048                    42.392939              61.861494   \n",
       "11110                    46.884916              66.156364   \n",
       "\n",
       "       final.output.tail_ag  final.output.tail_pb  final.output.tail_sol  \\\n",
       "14279              9.594409              1.978373              14.192372   \n",
       "13087              6.627131              2.907338              10.904360   \n",
       "2009              11.122525              2.175739              11.694241   \n",
       "11048              7.450692              2.439688              10.178986   \n",
       "11110              8.087328              3.237007               8.906751   \n",
       "\n",
       "       final.output.tail_au  ...  secondary_cleaner.state.floatbank4_a_air  \\\n",
       "14279              2.629108  ...                                 16.981738   \n",
       "13087              2.449840  ...                                 13.984409   \n",
       "2009               3.879780  ...                                 14.988840   \n",
       "11048              2.654614  ...                                 17.931362   \n",
       "11110              2.689607  ...                                 22.039342   \n",
       "\n",
       "       secondary_cleaner.state.floatbank4_a_level  \\\n",
       "14279                                 -501.610601   \n",
       "13087                                 -500.202445   \n",
       "2009                                  -499.744409   \n",
       "11048                                 -500.310828   \n",
       "11110                                 -499.505964   \n",
       "\n",
       "       secondary_cleaner.state.floatbank4_b_air  \\\n",
       "14279                                 15.029862   \n",
       "13087                                 11.979024   \n",
       "2009                                  13.027877   \n",
       "11048                                 13.054197   \n",
       "11110                                 15.052963   \n",
       "\n",
       "       secondary_cleaner.state.floatbank4_b_level  \\\n",
       "14279                                 -500.271262   \n",
       "13087                                 -399.562515   \n",
       "2009                                  -499.666090   \n",
       "11048                                 -380.339126   \n",
       "11110                                 -378.761916   \n",
       "\n",
       "       secondary_cleaner.state.floatbank5_a_air  \\\n",
       "14279                                 10.925815   \n",
       "13087                                 12.908435   \n",
       "2009                                   8.949519   \n",
       "11048                                 17.995794   \n",
       "11110                                 18.029556   \n",
       "\n",
       "       secondary_cleaner.state.floatbank5_a_level  \\\n",
       "14279                                 -498.897797   \n",
       "13087                                 -500.693720   \n",
       "2009                                  -498.189002   \n",
       "11048                                 -499.705707   \n",
       "11110                                 -499.692063   \n",
       "\n",
       "       secondary_cleaner.state.floatbank5_b_air  \\\n",
       "14279                                  8.989850   \n",
       "13087                                 11.034275   \n",
       "2009                                   9.093768   \n",
       "11048                                 13.019189   \n",
       "11110                                 12.987683   \n",
       "\n",
       "       secondary_cleaner.state.floatbank5_b_level  \\\n",
       "14279                                 -499.523942   \n",
       "13087                                 -500.151919   \n",
       "2009                                  -500.151533   \n",
       "11048                                 -500.228160   \n",
       "11110                                 -499.921293   \n",
       "\n",
       "       secondary_cleaner.state.floatbank6_a_air  \\\n",
       "14279                                 15.994169   \n",
       "13087                                 14.987436   \n",
       "2009                                  15.997918   \n",
       "11048                                 14.985739   \n",
       "11110                                 15.027158   \n",
       "\n",
       "       secondary_cleaner.state.floatbank6_a_level  \n",
       "14279                                 -499.725307  \n",
       "13087                                 -500.621765  \n",
       "2009                                  -497.971113  \n",
       "11048                                 -499.873043  \n",
       "11110                                 -499.634623  \n",
       "\n",
       "[5 rows x 87 columns]"
      ]
     },
     "execution_count": 4,
     "metadata": {},
     "output_type": "execute_result"
    }
   ],
   "source": [
    "full_data.info()\n",
    "full_data.sample(5)"
   ]
  },
  {
   "cell_type": "code",
   "execution_count": 5,
   "metadata": {
    "scrolled": true
   },
   "outputs": [
    {
     "name": "stdout",
     "output_type": "stream",
     "text": [
      "<class 'pandas.core.frame.DataFrame'>\n",
      "RangeIndex: 5290 entries, 0 to 5289\n",
      "Data columns (total 53 columns):\n",
      "date                                          5290 non-null object\n",
      "primary_cleaner.input.sulfate                 5286 non-null float64\n",
      "primary_cleaner.input.depressant              5285 non-null float64\n",
      "primary_cleaner.input.feed_size               5290 non-null float64\n",
      "primary_cleaner.input.xanthate                5286 non-null float64\n",
      "primary_cleaner.state.floatbank8_a_air        5290 non-null float64\n",
      "primary_cleaner.state.floatbank8_a_level      5290 non-null float64\n",
      "primary_cleaner.state.floatbank8_b_air        5290 non-null float64\n",
      "primary_cleaner.state.floatbank8_b_level      5290 non-null float64\n",
      "primary_cleaner.state.floatbank8_c_air        5290 non-null float64\n",
      "primary_cleaner.state.floatbank8_c_level      5290 non-null float64\n",
      "primary_cleaner.state.floatbank8_d_air        5290 non-null float64\n",
      "primary_cleaner.state.floatbank8_d_level      5290 non-null float64\n",
      "rougher.input.feed_ag                         5290 non-null float64\n",
      "rougher.input.feed_pb                         5290 non-null float64\n",
      "rougher.input.feed_rate                       5287 non-null float64\n",
      "rougher.input.feed_size                       5289 non-null float64\n",
      "rougher.input.feed_sol                        5269 non-null float64\n",
      "rougher.input.feed_au                         5290 non-null float64\n",
      "rougher.input.floatbank10_sulfate             5285 non-null float64\n",
      "rougher.input.floatbank10_xanthate            5290 non-null float64\n",
      "rougher.input.floatbank11_sulfate             5282 non-null float64\n",
      "rougher.input.floatbank11_xanthate            5265 non-null float64\n",
      "rougher.state.floatbank10_a_air               5290 non-null float64\n",
      "rougher.state.floatbank10_a_level             5290 non-null float64\n",
      "rougher.state.floatbank10_b_air               5290 non-null float64\n",
      "rougher.state.floatbank10_b_level             5290 non-null float64\n",
      "rougher.state.floatbank10_c_air               5290 non-null float64\n",
      "rougher.state.floatbank10_c_level             5290 non-null float64\n",
      "rougher.state.floatbank10_d_air               5290 non-null float64\n",
      "rougher.state.floatbank10_d_level             5290 non-null float64\n",
      "rougher.state.floatbank10_e_air               5290 non-null float64\n",
      "rougher.state.floatbank10_e_level             5290 non-null float64\n",
      "rougher.state.floatbank10_f_air               5290 non-null float64\n",
      "rougher.state.floatbank10_f_level             5290 non-null float64\n",
      "secondary_cleaner.state.floatbank2_a_air      5287 non-null float64\n",
      "secondary_cleaner.state.floatbank2_a_level    5290 non-null float64\n",
      "secondary_cleaner.state.floatbank2_b_air      5288 non-null float64\n",
      "secondary_cleaner.state.floatbank2_b_level    5290 non-null float64\n",
      "secondary_cleaner.state.floatbank3_a_air      5281 non-null float64\n",
      "secondary_cleaner.state.floatbank3_a_level    5290 non-null float64\n",
      "secondary_cleaner.state.floatbank3_b_air      5290 non-null float64\n",
      "secondary_cleaner.state.floatbank3_b_level    5290 non-null float64\n",
      "secondary_cleaner.state.floatbank4_a_air      5290 non-null float64\n",
      "secondary_cleaner.state.floatbank4_a_level    5290 non-null float64\n",
      "secondary_cleaner.state.floatbank4_b_air      5290 non-null float64\n",
      "secondary_cleaner.state.floatbank4_b_level    5290 non-null float64\n",
      "secondary_cleaner.state.floatbank5_a_air      5290 non-null float64\n",
      "secondary_cleaner.state.floatbank5_a_level    5290 non-null float64\n",
      "secondary_cleaner.state.floatbank5_b_air      5290 non-null float64\n",
      "secondary_cleaner.state.floatbank5_b_level    5290 non-null float64\n",
      "secondary_cleaner.state.floatbank6_a_air      5290 non-null float64\n",
      "secondary_cleaner.state.floatbank6_a_level    5290 non-null float64\n",
      "dtypes: float64(52), object(1)\n",
      "memory usage: 2.1+ MB\n"
     ]
    },
    {
     "data": {
      "text/html": [
       "<div>\n",
       "<style scoped>\n",
       "    .dataframe tbody tr th:only-of-type {\n",
       "        vertical-align: middle;\n",
       "    }\n",
       "\n",
       "    .dataframe tbody tr th {\n",
       "        vertical-align: top;\n",
       "    }\n",
       "\n",
       "    .dataframe thead th {\n",
       "        text-align: right;\n",
       "    }\n",
       "</style>\n",
       "<table border=\"1\" class=\"dataframe\">\n",
       "  <thead>\n",
       "    <tr style=\"text-align: right;\">\n",
       "      <th></th>\n",
       "      <th>date</th>\n",
       "      <th>primary_cleaner.input.sulfate</th>\n",
       "      <th>primary_cleaner.input.depressant</th>\n",
       "      <th>primary_cleaner.input.feed_size</th>\n",
       "      <th>primary_cleaner.input.xanthate</th>\n",
       "      <th>primary_cleaner.state.floatbank8_a_air</th>\n",
       "      <th>primary_cleaner.state.floatbank8_a_level</th>\n",
       "      <th>primary_cleaner.state.floatbank8_b_air</th>\n",
       "      <th>primary_cleaner.state.floatbank8_b_level</th>\n",
       "      <th>primary_cleaner.state.floatbank8_c_air</th>\n",
       "      <th>...</th>\n",
       "      <th>secondary_cleaner.state.floatbank4_a_air</th>\n",
       "      <th>secondary_cleaner.state.floatbank4_a_level</th>\n",
       "      <th>secondary_cleaner.state.floatbank4_b_air</th>\n",
       "      <th>secondary_cleaner.state.floatbank4_b_level</th>\n",
       "      <th>secondary_cleaner.state.floatbank5_a_air</th>\n",
       "      <th>secondary_cleaner.state.floatbank5_a_level</th>\n",
       "      <th>secondary_cleaner.state.floatbank5_b_air</th>\n",
       "      <th>secondary_cleaner.state.floatbank5_b_level</th>\n",
       "      <th>secondary_cleaner.state.floatbank6_a_air</th>\n",
       "      <th>secondary_cleaner.state.floatbank6_a_level</th>\n",
       "    </tr>\n",
       "  </thead>\n",
       "  <tbody>\n",
       "    <tr>\n",
       "      <td>1405</td>\n",
       "      <td>2016-11-09 06:59:59</td>\n",
       "      <td>221.523315</td>\n",
       "      <td>4.999643</td>\n",
       "      <td>7.72</td>\n",
       "      <td>0.819842</td>\n",
       "      <td>1598.775519</td>\n",
       "      <td>-499.277042</td>\n",
       "      <td>1597.337822</td>\n",
       "      <td>-500.785543</td>\n",
       "      <td>1603.615967</td>\n",
       "      <td>...</td>\n",
       "      <td>16.037829</td>\n",
       "      <td>-500.671866</td>\n",
       "      <td>13.968983</td>\n",
       "      <td>-501.456598</td>\n",
       "      <td>16.782327</td>\n",
       "      <td>-499.366828</td>\n",
       "      <td>14.001735</td>\n",
       "      <td>-499.634819</td>\n",
       "      <td>21.985514</td>\n",
       "      <td>-499.040233</td>\n",
       "    </tr>\n",
       "    <tr>\n",
       "      <td>1765</td>\n",
       "      <td>2016-11-24 15:59:59</td>\n",
       "      <td>186.621709</td>\n",
       "      <td>5.967895</td>\n",
       "      <td>7.02</td>\n",
       "      <td>1.898964</td>\n",
       "      <td>1602.469490</td>\n",
       "      <td>-500.482206</td>\n",
       "      <td>1601.569363</td>\n",
       "      <td>-500.045603</td>\n",
       "      <td>1600.620382</td>\n",
       "      <td>...</td>\n",
       "      <td>18.008413</td>\n",
       "      <td>-499.679304</td>\n",
       "      <td>15.935715</td>\n",
       "      <td>-500.144835</td>\n",
       "      <td>17.533833</td>\n",
       "      <td>-499.916311</td>\n",
       "      <td>11.981683</td>\n",
       "      <td>-499.915389</td>\n",
       "      <td>22.010074</td>\n",
       "      <td>-499.742516</td>\n",
       "    </tr>\n",
       "    <tr>\n",
       "      <td>4430</td>\n",
       "      <td>2017-11-23 08:59:59</td>\n",
       "      <td>232.262770</td>\n",
       "      <td>12.032368</td>\n",
       "      <td>7.38</td>\n",
       "      <td>2.285546</td>\n",
       "      <td>1652.497400</td>\n",
       "      <td>-500.679615</td>\n",
       "      <td>1653.368774</td>\n",
       "      <td>-501.768535</td>\n",
       "      <td>1653.395582</td>\n",
       "      <td>...</td>\n",
       "      <td>16.987566</td>\n",
       "      <td>-496.949937</td>\n",
       "      <td>15.105601</td>\n",
       "      <td>-499.248868</td>\n",
       "      <td>10.967524</td>\n",
       "      <td>-498.367979</td>\n",
       "      <td>8.985130</td>\n",
       "      <td>-499.539649</td>\n",
       "      <td>15.994454</td>\n",
       "      <td>-499.259880</td>\n",
       "    </tr>\n",
       "    <tr>\n",
       "      <td>4547</td>\n",
       "      <td>2017-11-28 05:59:59</td>\n",
       "      <td>232.549874</td>\n",
       "      <td>12.010009</td>\n",
       "      <td>9.63</td>\n",
       "      <td>1.403445</td>\n",
       "      <td>1601.263126</td>\n",
       "      <td>-495.862507</td>\n",
       "      <td>1598.272486</td>\n",
       "      <td>-511.299178</td>\n",
       "      <td>1600.130631</td>\n",
       "      <td>...</td>\n",
       "      <td>17.012365</td>\n",
       "      <td>-499.923983</td>\n",
       "      <td>15.003986</td>\n",
       "      <td>-500.150221</td>\n",
       "      <td>11.090965</td>\n",
       "      <td>-498.860562</td>\n",
       "      <td>8.999980</td>\n",
       "      <td>-500.013345</td>\n",
       "      <td>15.987182</td>\n",
       "      <td>-497.468121</td>\n",
       "    </tr>\n",
       "    <tr>\n",
       "      <td>719</td>\n",
       "      <td>2016-10-10 23:59:59</td>\n",
       "      <td>204.206929</td>\n",
       "      <td>11.012963</td>\n",
       "      <td>7.57</td>\n",
       "      <td>0.997330</td>\n",
       "      <td>1500.204629</td>\n",
       "      <td>-501.694243</td>\n",
       "      <td>1500.444095</td>\n",
       "      <td>-499.230033</td>\n",
       "      <td>1499.635138</td>\n",
       "      <td>...</td>\n",
       "      <td>11.982767</td>\n",
       "      <td>-501.586092</td>\n",
       "      <td>12.001037</td>\n",
       "      <td>-501.697556</td>\n",
       "      <td>9.999177</td>\n",
       "      <td>-506.255092</td>\n",
       "      <td>6.959882</td>\n",
       "      <td>-500.647234</td>\n",
       "      <td>17.030784</td>\n",
       "      <td>-504.222696</td>\n",
       "    </tr>\n",
       "  </tbody>\n",
       "</table>\n",
       "<p>5 rows × 53 columns</p>\n",
       "</div>"
      ],
      "text/plain": [
       "                     date  primary_cleaner.input.sulfate  \\\n",
       "1405  2016-11-09 06:59:59                     221.523315   \n",
       "1765  2016-11-24 15:59:59                     186.621709   \n",
       "4430  2017-11-23 08:59:59                     232.262770   \n",
       "4547  2017-11-28 05:59:59                     232.549874   \n",
       "719   2016-10-10 23:59:59                     204.206929   \n",
       "\n",
       "      primary_cleaner.input.depressant  primary_cleaner.input.feed_size  \\\n",
       "1405                          4.999643                             7.72   \n",
       "1765                          5.967895                             7.02   \n",
       "4430                         12.032368                             7.38   \n",
       "4547                         12.010009                             9.63   \n",
       "719                          11.012963                             7.57   \n",
       "\n",
       "      primary_cleaner.input.xanthate  primary_cleaner.state.floatbank8_a_air  \\\n",
       "1405                        0.819842                             1598.775519   \n",
       "1765                        1.898964                             1602.469490   \n",
       "4430                        2.285546                             1652.497400   \n",
       "4547                        1.403445                             1601.263126   \n",
       "719                         0.997330                             1500.204629   \n",
       "\n",
       "      primary_cleaner.state.floatbank8_a_level  \\\n",
       "1405                               -499.277042   \n",
       "1765                               -500.482206   \n",
       "4430                               -500.679615   \n",
       "4547                               -495.862507   \n",
       "719                                -501.694243   \n",
       "\n",
       "      primary_cleaner.state.floatbank8_b_air  \\\n",
       "1405                             1597.337822   \n",
       "1765                             1601.569363   \n",
       "4430                             1653.368774   \n",
       "4547                             1598.272486   \n",
       "719                              1500.444095   \n",
       "\n",
       "      primary_cleaner.state.floatbank8_b_level  \\\n",
       "1405                               -500.785543   \n",
       "1765                               -500.045603   \n",
       "4430                               -501.768535   \n",
       "4547                               -511.299178   \n",
       "719                                -499.230033   \n",
       "\n",
       "      primary_cleaner.state.floatbank8_c_air  ...  \\\n",
       "1405                             1603.615967  ...   \n",
       "1765                             1600.620382  ...   \n",
       "4430                             1653.395582  ...   \n",
       "4547                             1600.130631  ...   \n",
       "719                              1499.635138  ...   \n",
       "\n",
       "      secondary_cleaner.state.floatbank4_a_air  \\\n",
       "1405                                 16.037829   \n",
       "1765                                 18.008413   \n",
       "4430                                 16.987566   \n",
       "4547                                 17.012365   \n",
       "719                                  11.982767   \n",
       "\n",
       "      secondary_cleaner.state.floatbank4_a_level  \\\n",
       "1405                                 -500.671866   \n",
       "1765                                 -499.679304   \n",
       "4430                                 -496.949937   \n",
       "4547                                 -499.923983   \n",
       "719                                  -501.586092   \n",
       "\n",
       "      secondary_cleaner.state.floatbank4_b_air  \\\n",
       "1405                                 13.968983   \n",
       "1765                                 15.935715   \n",
       "4430                                 15.105601   \n",
       "4547                                 15.003986   \n",
       "719                                  12.001037   \n",
       "\n",
       "      secondary_cleaner.state.floatbank4_b_level  \\\n",
       "1405                                 -501.456598   \n",
       "1765                                 -500.144835   \n",
       "4430                                 -499.248868   \n",
       "4547                                 -500.150221   \n",
       "719                                  -501.697556   \n",
       "\n",
       "      secondary_cleaner.state.floatbank5_a_air  \\\n",
       "1405                                 16.782327   \n",
       "1765                                 17.533833   \n",
       "4430                                 10.967524   \n",
       "4547                                 11.090965   \n",
       "719                                   9.999177   \n",
       "\n",
       "      secondary_cleaner.state.floatbank5_a_level  \\\n",
       "1405                                 -499.366828   \n",
       "1765                                 -499.916311   \n",
       "4430                                 -498.367979   \n",
       "4547                                 -498.860562   \n",
       "719                                  -506.255092   \n",
       "\n",
       "      secondary_cleaner.state.floatbank5_b_air  \\\n",
       "1405                                 14.001735   \n",
       "1765                                 11.981683   \n",
       "4430                                  8.985130   \n",
       "4547                                  8.999980   \n",
       "719                                   6.959882   \n",
       "\n",
       "      secondary_cleaner.state.floatbank5_b_level  \\\n",
       "1405                                 -499.634819   \n",
       "1765                                 -499.915389   \n",
       "4430                                 -499.539649   \n",
       "4547                                 -500.013345   \n",
       "719                                  -500.647234   \n",
       "\n",
       "      secondary_cleaner.state.floatbank6_a_air  \\\n",
       "1405                                 21.985514   \n",
       "1765                                 22.010074   \n",
       "4430                                 15.994454   \n",
       "4547                                 15.987182   \n",
       "719                                  17.030784   \n",
       "\n",
       "      secondary_cleaner.state.floatbank6_a_level  \n",
       "1405                                 -499.040233  \n",
       "1765                                 -499.742516  \n",
       "4430                                 -499.259880  \n",
       "4547                                 -497.468121  \n",
       "719                                  -504.222696  \n",
       "\n",
       "[5 rows x 53 columns]"
      ]
     },
     "execution_count": 5,
     "metadata": {},
     "output_type": "execute_result"
    }
   ],
   "source": [
    "test_data.info()\n",
    "test_data.sample(5)"
   ]
  },
  {
   "cell_type": "code",
   "execution_count": 6,
   "metadata": {
    "scrolled": true
   },
   "outputs": [
    {
     "name": "stdout",
     "output_type": "stream",
     "text": [
      "<class 'pandas.core.frame.DataFrame'>\n",
      "RangeIndex: 14149 entries, 0 to 14148\n",
      "Data columns (total 87 columns):\n",
      "date                                                  14149 non-null object\n",
      "final.output.concentrate_ag                           14148 non-null float64\n",
      "final.output.concentrate_pb                           14148 non-null float64\n",
      "final.output.concentrate_sol                          13938 non-null float64\n",
      "final.output.concentrate_au                           14149 non-null float64\n",
      "final.output.recovery                                 14149 non-null float64\n",
      "final.output.tail_ag                                  14149 non-null float64\n",
      "final.output.tail_pb                                  14049 non-null float64\n",
      "final.output.tail_sol                                 14144 non-null float64\n",
      "final.output.tail_au                                  14149 non-null float64\n",
      "primary_cleaner.input.sulfate                         14129 non-null float64\n",
      "primary_cleaner.input.depressant                      14117 non-null float64\n",
      "primary_cleaner.input.feed_size                       14149 non-null float64\n",
      "primary_cleaner.input.xanthate                        14049 non-null float64\n",
      "primary_cleaner.output.concentrate_ag                 14149 non-null float64\n",
      "primary_cleaner.output.concentrate_pb                 14063 non-null float64\n",
      "primary_cleaner.output.concentrate_sol                13863 non-null float64\n",
      "primary_cleaner.output.concentrate_au                 14149 non-null float64\n",
      "primary_cleaner.output.tail_ag                        14148 non-null float64\n",
      "primary_cleaner.output.tail_pb                        14134 non-null float64\n",
      "primary_cleaner.output.tail_sol                       14103 non-null float64\n",
      "primary_cleaner.output.tail_au                        14149 non-null float64\n",
      "primary_cleaner.state.floatbank8_a_air                14145 non-null float64\n",
      "primary_cleaner.state.floatbank8_a_level              14148 non-null float64\n",
      "primary_cleaner.state.floatbank8_b_air                14145 non-null float64\n",
      "primary_cleaner.state.floatbank8_b_level              14148 non-null float64\n",
      "primary_cleaner.state.floatbank8_c_air                14147 non-null float64\n",
      "primary_cleaner.state.floatbank8_c_level              14148 non-null float64\n",
      "primary_cleaner.state.floatbank8_d_air                14146 non-null float64\n",
      "primary_cleaner.state.floatbank8_d_level              14148 non-null float64\n",
      "rougher.calculation.sulfate_to_au_concentrate         14148 non-null float64\n",
      "rougher.calculation.floatbank10_sulfate_to_au_feed    14148 non-null float64\n",
      "rougher.calculation.floatbank11_sulfate_to_au_feed    14148 non-null float64\n",
      "rougher.calculation.au_pb_ratio                       14149 non-null float64\n",
      "rougher.input.feed_ag                                 14149 non-null float64\n",
      "rougher.input.feed_pb                                 14049 non-null float64\n",
      "rougher.input.feed_rate                               14141 non-null float64\n",
      "rougher.input.feed_size                               14005 non-null float64\n",
      "rougher.input.feed_sol                                14071 non-null float64\n",
      "rougher.input.feed_au                                 14149 non-null float64\n",
      "rougher.input.floatbank10_sulfate                     14120 non-null float64\n",
      "rougher.input.floatbank10_xanthate                    14141 non-null float64\n",
      "rougher.input.floatbank11_sulfate                     14113 non-null float64\n",
      "rougher.input.floatbank11_xanthate                    13721 non-null float64\n",
      "rougher.output.concentrate_ag                         14149 non-null float64\n",
      "rougher.output.concentrate_pb                         14149 non-null float64\n",
      "rougher.output.concentrate_sol                        14127 non-null float64\n",
      "rougher.output.concentrate_au                         14149 non-null float64\n",
      "rougher.output.recovery                               14149 non-null float64\n",
      "rougher.output.tail_ag                                14148 non-null float64\n",
      "rougher.output.tail_pb                                14149 non-null float64\n",
      "rougher.output.tail_sol                               14149 non-null float64\n",
      "rougher.output.tail_au                                14149 non-null float64\n",
      "rougher.state.floatbank10_a_air                       14148 non-null float64\n",
      "rougher.state.floatbank10_a_level                     14148 non-null float64\n",
      "rougher.state.floatbank10_b_air                       14148 non-null float64\n",
      "rougher.state.floatbank10_b_level                     14148 non-null float64\n",
      "rougher.state.floatbank10_c_air                       14148 non-null float64\n",
      "rougher.state.floatbank10_c_level                     14148 non-null float64\n",
      "rougher.state.floatbank10_d_air                       14149 non-null float64\n",
      "rougher.state.floatbank10_d_level                     14149 non-null float64\n",
      "rougher.state.floatbank10_e_air                       13713 non-null float64\n",
      "rougher.state.floatbank10_e_level                     14149 non-null float64\n",
      "rougher.state.floatbank10_f_air                       14149 non-null float64\n",
      "rougher.state.floatbank10_f_level                     14149 non-null float64\n",
      "secondary_cleaner.output.tail_ag                      14147 non-null float64\n",
      "secondary_cleaner.output.tail_pb                      14139 non-null float64\n",
      "secondary_cleaner.output.tail_sol                     12544 non-null float64\n",
      "secondary_cleaner.output.tail_au                      14149 non-null float64\n",
      "secondary_cleaner.state.floatbank2_a_air              13932 non-null float64\n",
      "secondary_cleaner.state.floatbank2_a_level            14148 non-null float64\n",
      "secondary_cleaner.state.floatbank2_b_air              14128 non-null float64\n",
      "secondary_cleaner.state.floatbank2_b_level            14148 non-null float64\n",
      "secondary_cleaner.state.floatbank3_a_air              14145 non-null float64\n",
      "secondary_cleaner.state.floatbank3_a_level            14148 non-null float64\n",
      "secondary_cleaner.state.floatbank3_b_air              14148 non-null float64\n",
      "secondary_cleaner.state.floatbank3_b_level            14148 non-null float64\n",
      "secondary_cleaner.state.floatbank4_a_air              14143 non-null float64\n",
      "secondary_cleaner.state.floatbank4_a_level            14148 non-null float64\n",
      "secondary_cleaner.state.floatbank4_b_air              14148 non-null float64\n",
      "secondary_cleaner.state.floatbank4_b_level            14148 non-null float64\n",
      "secondary_cleaner.state.floatbank5_a_air              14148 non-null float64\n",
      "secondary_cleaner.state.floatbank5_a_level            14148 non-null float64\n",
      "secondary_cleaner.state.floatbank5_b_air              14148 non-null float64\n",
      "secondary_cleaner.state.floatbank5_b_level            14148 non-null float64\n",
      "secondary_cleaner.state.floatbank6_a_air              14147 non-null float64\n",
      "secondary_cleaner.state.floatbank6_a_level            14148 non-null float64\n",
      "dtypes: float64(86), object(1)\n",
      "memory usage: 9.4+ MB\n"
     ]
    },
    {
     "data": {
      "text/html": [
       "<div>\n",
       "<style scoped>\n",
       "    .dataframe tbody tr th:only-of-type {\n",
       "        vertical-align: middle;\n",
       "    }\n",
       "\n",
       "    .dataframe tbody tr th {\n",
       "        vertical-align: top;\n",
       "    }\n",
       "\n",
       "    .dataframe thead th {\n",
       "        text-align: right;\n",
       "    }\n",
       "</style>\n",
       "<table border=\"1\" class=\"dataframe\">\n",
       "  <thead>\n",
       "    <tr style=\"text-align: right;\">\n",
       "      <th></th>\n",
       "      <th>date</th>\n",
       "      <th>final.output.concentrate_ag</th>\n",
       "      <th>final.output.concentrate_pb</th>\n",
       "      <th>final.output.concentrate_sol</th>\n",
       "      <th>final.output.concentrate_au</th>\n",
       "      <th>final.output.recovery</th>\n",
       "      <th>final.output.tail_ag</th>\n",
       "      <th>final.output.tail_pb</th>\n",
       "      <th>final.output.tail_sol</th>\n",
       "      <th>final.output.tail_au</th>\n",
       "      <th>...</th>\n",
       "      <th>secondary_cleaner.state.floatbank4_a_air</th>\n",
       "      <th>secondary_cleaner.state.floatbank4_a_level</th>\n",
       "      <th>secondary_cleaner.state.floatbank4_b_air</th>\n",
       "      <th>secondary_cleaner.state.floatbank4_b_level</th>\n",
       "      <th>secondary_cleaner.state.floatbank5_a_air</th>\n",
       "      <th>secondary_cleaner.state.floatbank5_a_level</th>\n",
       "      <th>secondary_cleaner.state.floatbank5_b_air</th>\n",
       "      <th>secondary_cleaner.state.floatbank5_b_level</th>\n",
       "      <th>secondary_cleaner.state.floatbank6_a_air</th>\n",
       "      <th>secondary_cleaner.state.floatbank6_a_level</th>\n",
       "    </tr>\n",
       "  </thead>\n",
       "  <tbody>\n",
       "    <tr>\n",
       "      <td>1567</td>\n",
       "      <td>2016-03-27 00:00:00</td>\n",
       "      <td>5.409051</td>\n",
       "      <td>9.663175</td>\n",
       "      <td>4.952813</td>\n",
       "      <td>45.917377</td>\n",
       "      <td>64.634046</td>\n",
       "      <td>10.348958</td>\n",
       "      <td>1.191962</td>\n",
       "      <td>17.271394</td>\n",
       "      <td>2.672293</td>\n",
       "      <td>...</td>\n",
       "      <td>11.998790</td>\n",
       "      <td>-500.616752</td>\n",
       "      <td>11.979479</td>\n",
       "      <td>-499.795556</td>\n",
       "      <td>11.894548</td>\n",
       "      <td>-500.381577</td>\n",
       "      <td>10.048451</td>\n",
       "      <td>-499.571982</td>\n",
       "      <td>19.991917</td>\n",
       "      <td>-499.482405</td>\n",
       "    </tr>\n",
       "    <tr>\n",
       "      <td>4233</td>\n",
       "      <td>2016-08-12 14:59:59</td>\n",
       "      <td>4.386377</td>\n",
       "      <td>9.312525</td>\n",
       "      <td>10.765171</td>\n",
       "      <td>46.859571</td>\n",
       "      <td>65.030441</td>\n",
       "      <td>11.329349</td>\n",
       "      <td>3.443720</td>\n",
       "      <td>11.457802</td>\n",
       "      <td>4.571810</td>\n",
       "      <td>...</td>\n",
       "      <td>20.005163</td>\n",
       "      <td>-401.066656</td>\n",
       "      <td>10.067472</td>\n",
       "      <td>-400.420215</td>\n",
       "      <td>8.522052</td>\n",
       "      <td>-406.777898</td>\n",
       "      <td>4.995831</td>\n",
       "      <td>-400.316023</td>\n",
       "      <td>23.003415</td>\n",
       "      <td>-501.499384</td>\n",
       "    </tr>\n",
       "    <tr>\n",
       "      <td>8270</td>\n",
       "      <td>2017-06-27 06:59:59</td>\n",
       "      <td>3.763080</td>\n",
       "      <td>11.450415</td>\n",
       "      <td>9.706376</td>\n",
       "      <td>45.428377</td>\n",
       "      <td>65.741356</td>\n",
       "      <td>7.841007</td>\n",
       "      <td>2.644968</td>\n",
       "      <td>10.359535</td>\n",
       "      <td>2.384850</td>\n",
       "      <td>...</td>\n",
       "      <td>18.050473</td>\n",
       "      <td>-500.665703</td>\n",
       "      <td>12.988711</td>\n",
       "      <td>-384.416043</td>\n",
       "      <td>17.981511</td>\n",
       "      <td>-499.957381</td>\n",
       "      <td>13.020730</td>\n",
       "      <td>-500.270119</td>\n",
       "      <td>14.976578</td>\n",
       "      <td>-499.267165</td>\n",
       "    </tr>\n",
       "    <tr>\n",
       "      <td>2562</td>\n",
       "      <td>2016-05-26 14:59:59</td>\n",
       "      <td>4.438060</td>\n",
       "      <td>11.560180</td>\n",
       "      <td>8.124366</td>\n",
       "      <td>43.351628</td>\n",
       "      <td>59.698325</td>\n",
       "      <td>7.753796</td>\n",
       "      <td>2.345011</td>\n",
       "      <td>11.510795</td>\n",
       "      <td>2.889587</td>\n",
       "      <td>...</td>\n",
       "      <td>10.068126</td>\n",
       "      <td>-500.472171</td>\n",
       "      <td>8.115232</td>\n",
       "      <td>-499.896660</td>\n",
       "      <td>7.991648</td>\n",
       "      <td>-500.854400</td>\n",
       "      <td>6.010006</td>\n",
       "      <td>-499.961590</td>\n",
       "      <td>17.985727</td>\n",
       "      <td>-501.119344</td>\n",
       "    </tr>\n",
       "    <tr>\n",
       "      <td>7093</td>\n",
       "      <td>2017-04-25 11:59:59</td>\n",
       "      <td>4.350684</td>\n",
       "      <td>11.539729</td>\n",
       "      <td>10.138898</td>\n",
       "      <td>44.581476</td>\n",
       "      <td>67.458414</td>\n",
       "      <td>7.934731</td>\n",
       "      <td>2.755725</td>\n",
       "      <td>11.318149</td>\n",
       "      <td>2.635918</td>\n",
       "      <td>...</td>\n",
       "      <td>24.999431</td>\n",
       "      <td>-398.749730</td>\n",
       "      <td>22.983787</td>\n",
       "      <td>-398.733894</td>\n",
       "      <td>25.995962</td>\n",
       "      <td>-450.052763</td>\n",
       "      <td>24.010015</td>\n",
       "      <td>-450.086510</td>\n",
       "      <td>30.010300</td>\n",
       "      <td>-499.764880</td>\n",
       "    </tr>\n",
       "  </tbody>\n",
       "</table>\n",
       "<p>5 rows × 87 columns</p>\n",
       "</div>"
      ],
      "text/plain": [
       "                     date  final.output.concentrate_ag  \\\n",
       "1567  2016-03-27 00:00:00                     5.409051   \n",
       "4233  2016-08-12 14:59:59                     4.386377   \n",
       "8270  2017-06-27 06:59:59                     3.763080   \n",
       "2562  2016-05-26 14:59:59                     4.438060   \n",
       "7093  2017-04-25 11:59:59                     4.350684   \n",
       "\n",
       "      final.output.concentrate_pb  final.output.concentrate_sol  \\\n",
       "1567                     9.663175                      4.952813   \n",
       "4233                     9.312525                     10.765171   \n",
       "8270                    11.450415                      9.706376   \n",
       "2562                    11.560180                      8.124366   \n",
       "7093                    11.539729                     10.138898   \n",
       "\n",
       "      final.output.concentrate_au  final.output.recovery  \\\n",
       "1567                    45.917377              64.634046   \n",
       "4233                    46.859571              65.030441   \n",
       "8270                    45.428377              65.741356   \n",
       "2562                    43.351628              59.698325   \n",
       "7093                    44.581476              67.458414   \n",
       "\n",
       "      final.output.tail_ag  final.output.tail_pb  final.output.tail_sol  \\\n",
       "1567             10.348958              1.191962              17.271394   \n",
       "4233             11.329349              3.443720              11.457802   \n",
       "8270              7.841007              2.644968              10.359535   \n",
       "2562              7.753796              2.345011              11.510795   \n",
       "7093              7.934731              2.755725              11.318149   \n",
       "\n",
       "      final.output.tail_au  ...  secondary_cleaner.state.floatbank4_a_air  \\\n",
       "1567              2.672293  ...                                 11.998790   \n",
       "4233              4.571810  ...                                 20.005163   \n",
       "8270              2.384850  ...                                 18.050473   \n",
       "2562              2.889587  ...                                 10.068126   \n",
       "7093              2.635918  ...                                 24.999431   \n",
       "\n",
       "      secondary_cleaner.state.floatbank4_a_level  \\\n",
       "1567                                 -500.616752   \n",
       "4233                                 -401.066656   \n",
       "8270                                 -500.665703   \n",
       "2562                                 -500.472171   \n",
       "7093                                 -398.749730   \n",
       "\n",
       "      secondary_cleaner.state.floatbank4_b_air  \\\n",
       "1567                                 11.979479   \n",
       "4233                                 10.067472   \n",
       "8270                                 12.988711   \n",
       "2562                                  8.115232   \n",
       "7093                                 22.983787   \n",
       "\n",
       "      secondary_cleaner.state.floatbank4_b_level  \\\n",
       "1567                                 -499.795556   \n",
       "4233                                 -400.420215   \n",
       "8270                                 -384.416043   \n",
       "2562                                 -499.896660   \n",
       "7093                                 -398.733894   \n",
       "\n",
       "      secondary_cleaner.state.floatbank5_a_air  \\\n",
       "1567                                 11.894548   \n",
       "4233                                  8.522052   \n",
       "8270                                 17.981511   \n",
       "2562                                  7.991648   \n",
       "7093                                 25.995962   \n",
       "\n",
       "      secondary_cleaner.state.floatbank5_a_level  \\\n",
       "1567                                 -500.381577   \n",
       "4233                                 -406.777898   \n",
       "8270                                 -499.957381   \n",
       "2562                                 -500.854400   \n",
       "7093                                 -450.052763   \n",
       "\n",
       "      secondary_cleaner.state.floatbank5_b_air  \\\n",
       "1567                                 10.048451   \n",
       "4233                                  4.995831   \n",
       "8270                                 13.020730   \n",
       "2562                                  6.010006   \n",
       "7093                                 24.010015   \n",
       "\n",
       "      secondary_cleaner.state.floatbank5_b_level  \\\n",
       "1567                                 -499.571982   \n",
       "4233                                 -400.316023   \n",
       "8270                                 -500.270119   \n",
       "2562                                 -499.961590   \n",
       "7093                                 -450.086510   \n",
       "\n",
       "      secondary_cleaner.state.floatbank6_a_air  \\\n",
       "1567                                 19.991917   \n",
       "4233                                 23.003415   \n",
       "8270                                 14.976578   \n",
       "2562                                 17.985727   \n",
       "7093                                 30.010300   \n",
       "\n",
       "      secondary_cleaner.state.floatbank6_a_level  \n",
       "1567                                 -499.482405  \n",
       "4233                                 -501.499384  \n",
       "8270                                 -499.267165  \n",
       "2562                                 -501.119344  \n",
       "7093                                 -499.764880  \n",
       "\n",
       "[5 rows x 87 columns]"
      ]
     },
     "execution_count": 6,
     "metadata": {},
     "output_type": "execute_result"
    }
   ],
   "source": [
    "train_data.info()\n",
    "train_data.sample(5)"
   ]
  },
  {
   "cell_type": "code",
   "execution_count": 7,
   "metadata": {},
   "outputs": [
    {
     "data": {
      "text/plain": [
       "['final.output.concentrate_ag',\n",
       " 'final.output.concentrate_au',\n",
       " 'final.output.concentrate_pb',\n",
       " 'final.output.concentrate_sol',\n",
       " 'final.output.recovery',\n",
       " 'final.output.tail_ag',\n",
       " 'final.output.tail_au',\n",
       " 'final.output.tail_pb',\n",
       " 'final.output.tail_sol',\n",
       " 'primary_cleaner.output.concentrate_ag',\n",
       " 'primary_cleaner.output.concentrate_au',\n",
       " 'primary_cleaner.output.concentrate_pb',\n",
       " 'primary_cleaner.output.concentrate_sol',\n",
       " 'primary_cleaner.output.tail_ag',\n",
       " 'primary_cleaner.output.tail_au',\n",
       " 'primary_cleaner.output.tail_pb',\n",
       " 'primary_cleaner.output.tail_sol',\n",
       " 'rougher.calculation.au_pb_ratio',\n",
       " 'rougher.calculation.floatbank10_sulfate_to_au_feed',\n",
       " 'rougher.calculation.floatbank11_sulfate_to_au_feed',\n",
       " 'rougher.calculation.sulfate_to_au_concentrate',\n",
       " 'rougher.output.concentrate_ag',\n",
       " 'rougher.output.concentrate_au',\n",
       " 'rougher.output.concentrate_pb',\n",
       " 'rougher.output.concentrate_sol',\n",
       " 'rougher.output.recovery',\n",
       " 'rougher.output.tail_ag',\n",
       " 'rougher.output.tail_au',\n",
       " 'rougher.output.tail_pb',\n",
       " 'rougher.output.tail_sol',\n",
       " 'secondary_cleaner.output.tail_ag',\n",
       " 'secondary_cleaner.output.tail_au',\n",
       " 'secondary_cleaner.output.tail_pb',\n",
       " 'secondary_cleaner.output.tail_sol']"
      ]
     },
     "execution_count": 7,
     "metadata": {},
     "output_type": "execute_result"
    }
   ],
   "source": [
    "missing_columns = list(train_data.columns.difference(test_data.columns))\n",
    "missing_columns"
   ]
  },
  {
   "cell_type": "markdown",
   "metadata": {},
   "source": [
    "### Вывод "
   ]
  },
  {
   "cell_type": "markdown",
   "metadata": {},
   "source": [
    "Исходные данные представляют собой три таблицы, две из которых(`train_data` и `test_data`) являются выборками из третьей (`full_data`). При этом, в таблицах `train_data` и `full_data` по 87 столбцов, а в таблице `test_data` - всего 53. Чтобы оценить различия, недостающие 34 столбца были выведены отдельным списком. Можно сделать вывод, что все эти недостающие столбцы хранят в себе данные, которые вычисляются сильно позже, уже по завершению техпроцесса. Таким образом, в таблице `test_data` находятся только те данные, которые мы можем получить в реальном времени, поэтому имеет смысл обучать модель именно на этих признаках.  \n",
    "Также стоит отметить, что в большинстве столбцов есть пропуски, но их везде довольно мало. Типы данных везде указаны корректно, за исключением столбца с датой и временем."
   ]
  },
  {
   "cell_type": "markdown",
   "metadata": {},
   "source": [
    "## Подготовка данных"
   ]
  },
  {
   "cell_type": "markdown",
   "metadata": {},
   "source": [
    "### Предобработка "
   ]
  },
  {
   "cell_type": "code",
   "execution_count": 8,
   "metadata": {
    "scrolled": true
   },
   "outputs": [
    {
     "name": "stdout",
     "output_type": "stream",
     "text": [
      "Таблица full_data \n",
      "Было пропусков 4481, стало 0 \n",
      "Тип данных столбца date: datetime64[ns] \n",
      "\n",
      "Таблица train_data \n",
      "Было пропусков 4100, стало 0 \n",
      "Тип данных столбца date: datetime64[ns] \n",
      "\n",
      "Таблица test_data \n",
      "Было пропусков 90, стало 0 \n",
      "Тип данных столбца date: datetime64[ns] \n",
      "\n"
     ]
    }
   ],
   "source": [
    "data_names = ['full_data', 'train_data', 'test_data']\n",
    "\n",
    "for name in data_names:\n",
    "    nan = locals()[name].isna().sum().sum()\n",
    "    locals()[name].dropna(inplace=True)\n",
    "    locals()[name]['date'] = pd.to_datetime(locals()[name]['date'], format='%Y-%m-%dT%H:%M:%S')\n",
    "    print('Таблица', name, \n",
    "          '\\nБыло пропусков {}, стало {}'.format(nan, locals()[name].isna().sum().sum()), \n",
    "          '\\nТип данных столбца date:', locals()[name]['date'].dtypes, '\\n')"
   ]
  },
  {
   "cell_type": "markdown",
   "metadata": {},
   "source": [
    "Не смотря на то, что в условии задачи сказано, что близкие по времени значения очень похожи, наилучшие результаты от модели удалось получить именно при удалении пропущенных значений. Возможно, слишком часто встречается несколько пропусков подряд, и заполнение соседним значением становится некорректно. Или, возможно, много строк, в которых большое количество пропущенных значений.  \n",
    "Помимо удаления строк с пропусками был изменён тип столбца `date` на datetime64."
   ]
  },
  {
   "cell_type": "markdown",
   "metadata": {},
   "source": [
    "### Проверка эффективности обогащения "
   ]
  },
  {
   "cell_type": "code",
   "execution_count": 9,
   "metadata": {},
   "outputs": [],
   "source": [
    "F = train_data['rougher.input.feed_au']\n",
    "C = train_data['rougher.output.concentrate_au']\n",
    "T = train_data['rougher.output.tail_au']"
   ]
  },
  {
   "cell_type": "code",
   "execution_count": 10,
   "metadata": {},
   "outputs": [
    {
     "data": {
      "text/plain": [
       "9.739730529255835e-15"
      ]
     },
     "execution_count": 10,
     "metadata": {},
     "output_type": "execute_result"
    }
   ],
   "source": [
    "rougher_output_recovery = ((C * (F - T)) / (F * (C - T))) * 100\n",
    "mae = mean_absolute_error(rougher_output_recovery, train_data['rougher.output.recovery'])\n",
    "mae"
   ]
  },
  {
   "cell_type": "markdown",
   "metadata": {},
   "source": [
    "Чтобы убедиться в корректности исходных данных, мы вручную посчитали значение одного из целевых признаков, и измерили среднее абсолютное отклонение. Полученное значение оказалось в достаточной степени маленьким, чтобы можно было утверждать о правильности исходных данных."
   ]
  },
  {
   "cell_type": "markdown",
   "metadata": {},
   "source": [
    "### Вывод "
   ]
  },
  {
   "cell_type": "markdown",
   "metadata": {},
   "source": [
    "В результате предобработки мы решили вопрос с пропусками (радикально, но эффективно), а также установили корректные типы данных. Заодно проверили один из целевых признаков по формуле, предоставленной заказчиком - оказалось, что данные были посчитаны правильно."
   ]
  },
  {
   "cell_type": "markdown",
   "metadata": {},
   "source": [
    "## Анализ данных "
   ]
  },
  {
   "cell_type": "markdown",
   "metadata": {},
   "source": [
    "### Оценка концентрации металлов "
   ]
  },
  {
   "cell_type": "markdown",
   "metadata": {},
   "source": [
    "Основная цель при восстановлении золота из золотосодержащей руды - получение золота, и эфективность зависит от количества полученного продукта. Сложность в том, что золотосодержащая руда содержит в себе не только золото, а, например, ряд других металлов, таких как серебро или свинец. Попробуем оценить эффективность всего цикла восстановления, построив графики изменения концентрации веществ на каждом из этапов:"
   ]
  },
  {
   "cell_type": "code",
   "execution_count": 11,
   "metadata": {
    "scrolled": false
   },
   "outputs": [
    {
     "data": {
      "text/html": [
       "<font size=3><p><br><br><b>Изменение концентрации au:</b></p>"
      ],
      "text/plain": [
       "<IPython.core.display.HTML object>"
      ]
     },
     "metadata": {},
     "output_type": "display_data"
    },
    {
     "data": {
      "image/png": "[encoded data removed]",
      "text/plain": [
       "<Figure size 1224x432 with 4 Axes>"
      ]
     },
     "metadata": {},
     "output_type": "display_data"
    },
    {
     "data": {
      "text/html": [
       "<font size=3><p><br><br><b>Изменение концентрации ag:</b></p>"
      ],
      "text/plain": [
       "<IPython.core.display.HTML object>"
      ]
     },
     "metadata": {},
     "output_type": "display_data"
    },
    {
     "data": {
      "image/png": "[encoded data removed]",
      "text/plain": [
       "<Figure size 1224x432 with 4 Axes>"
      ]
     },
     "metadata": {},
     "output_type": "display_data"
    },
    {
     "data": {
      "text/html": [
       "<font size=3><p><br><br><b>Изменение концентрации pb:</b></p>"
      ],
      "text/plain": [
       "<IPython.core.display.HTML object>"
      ]
     },
     "metadata": {},
     "output_type": "display_data"
    },
    {
     "data": {
      "image/png": "[encoded data removed]",
      "text/plain": [
       "<Figure size 1224x432 with 4 Axes>"
      ]
     },
     "metadata": {},
     "output_type": "display_data"
    },
    {
     "data": {
      "text/html": [
       "<font size=3><p><br><br><b>Изменение концентрации au + ag + pb:</b></p>"
      ],
      "text/plain": [
       "<IPython.core.display.HTML object>"
      ]
     },
     "metadata": {},
     "output_type": "display_data"
    },
    {
     "data": {
      "image/png": "[encoded data removed]",
      "text/plain": [
       "<Figure size 1224x432 with 4 Axes>"
      ]
     },
     "metadata": {},
     "output_type": "display_data"
    }
   ],
   "source": [
    "metals = ['au', 'ag', 'pb', 'au + ag + pb']\n",
    "features = ['rougher.input.feed_', 'rougher.output.concentrate_', \n",
    "            'primary_cleaner.output.concentrate_', 'final.output.concentrate_']\n",
    "titles = ['Исходное сырьё', 'После флотации', 'После первой очистки', 'После второй очистки']\n",
    "\n",
    "sns.set(style=\"whitegrid\", palette=\"Set2\", font_scale=1.1)\n",
    "\n",
    "for metal in metals:  \n",
    "    display(HTML(\"<font size=3><p><br><br><b>Изменение концентрации {}:</b></p>\".format(metal)))\n",
    "    fig, ax = plt.subplots(1, 4, sharey=True, sharex=True, figsize=(17, 6))\n",
    "    \n",
    "    for i in range(4):\n",
    "        ax[i].title.set_text(titles[i])\n",
    "        ax[i].set_xlabel('Концентрация {}, %'.format(metal))\n",
    "        \n",
    "        if metal == 'au + ag + pb':\n",
    "            concetrate_sum = 0\n",
    "            for y in range(3):\n",
    "                concetrate_sum += full_data[features[i]+metals[y]]\n",
    "            ax[i].hist(concetrate_sum, bins=30)\n",
    "            \n",
    "        else:\n",
    "            ax[i].hist(full_data[features[i]+metal], bins=30)           \n",
    "        \n",
    "    plt.show()"
   ]
  },
  {
   "cell_type": "markdown",
   "metadata": {},
   "source": [
    "- Концентрация золота, как и ожидалось, очень сильно растёт к концу процесса. Примечательно, что разница в концентрации до первой очистки и после неё незначительная, в то время как после второй очистки концентрация золота кратно увеличивается.  \n",
    "- Концентрация серебра изменяется обратно пропорционально золоту. При этом, опять же, после первой очистки изменения не большие, а после второй концентрация серебра сильно уменьшается.  \n",
    "- Зато свинец чувствует себя совершенно замечательно на нашем производстве - его концентарция растёт вместе с золотом, хоть и слабо. Возможно, это связано с особенностями техпроцесса и свойствами самих металлов - между ними может быть больше общего, чем кажется на первый взгляд.  \n",
    "- Суммарная концентрация всех металлов стабильно растёт, что вполне ожидаемо, учитывая сильный рост золота и, хоть и слабый, но всё же рост свинца. Исходя из графиков можно сделать предположение, что, в среднем, финальный продукт состоит на 60% из трёх исследованных металлов, где около 45% золота, 10% свинца и 5% серебра. "
   ]
  },
  {
   "cell_type": "markdown",
   "metadata": {},
   "source": [
    "Отдельного внимания заслуживают аномальные значения около 0% - это либо выбросы, либо ошибка оборудования. Свинец и серебро нас не особо интересуют, а вот погрешности в концентрации золота могут быть критичны для модели. Попробуем оценить, какая доля от всего объёма данных попадает под эту категорию:"
   ]
  },
  {
   "cell_type": "code",
   "execution_count": 12,
   "metadata": {},
   "outputs": [
    {
     "data": {
      "text/html": [
       "<p><br><b>Выбросы в таблице full_data:<br></b></p>"
      ],
      "text/plain": [
       "<IPython.core.display.HTML object>"
      ]
     },
     "metadata": {},
     "output_type": "display_data"
    },
    {
     "name": "stdout",
     "output_type": "stream",
     "text": [
      "rougher.output.concentrate_au:          1.93% \n",
      "primary_cleaner.output.concentrate_au:  1.24% \n",
      "final.output.concentrate_au:            0.57%\n"
     ]
    },
    {
     "data": {
      "text/html": [
       "<p><br><b>Выбросы в таблице train_data:<br></b></p>"
      ],
      "text/plain": [
       "<IPython.core.display.HTML object>"
      ]
     },
     "metadata": {},
     "output_type": "display_data"
    },
    {
     "name": "stdout",
     "output_type": "stream",
     "text": [
      "rougher.output.concentrate_au:          1.94% \n",
      "primary_cleaner.output.concentrate_au:  1.35% \n",
      "final.output.concentrate_au:            0.59%\n"
     ]
    }
   ],
   "source": [
    "for i in range(2):\n",
    "    df = locals()[data_names[i]]\n",
    "    display(HTML(\"<p><br><b>Выбросы в таблице {}:<br></b></p>\".format(data_names[i])))\n",
    "    print(\n",
    "    'rougher.output.concentrate_au: {: >14.2%}'.format(\n",
    "        len(df[df['rougher.output.concentrate_au'] < 5]) / len(df['rougher.output.concentrate_au'])), \n",
    "    '\\nprimary_cleaner.output.concentrate_au: {: >6.2%}'.format(\n",
    "        len(df[df['primary_cleaner.output.concentrate_au'] < 10]) / len(df['primary_cleaner.output.concentrate_au'])), \n",
    "    '\\nfinal.output.concentrate_au: {: >16.2%}'.format(\n",
    "        len(df[df['final.output.concentrate_au'] < 20]) / len(df['final.output.concentrate_au'])))\n"
   ]
  },
  {
   "cell_type": "markdown",
   "metadata": {},
   "source": [
    "Судя по всему, выбросов у нас довольно мало. Их отсутствие хуже не сделает, в то время как их наличие запросто может испортить нам обучение модели, так что удаляем:"
   ]
  },
  {
   "cell_type": "code",
   "execution_count": 13,
   "metadata": {},
   "outputs": [],
   "source": [
    "for i in range(2):\n",
    "    df = locals()[data_names[i]]\n",
    "    df = df[(df['rougher.output.concentrate_au'] >  5) & \n",
    "            (df['primary_cleaner.output.concentrate_au'] > 10) & \n",
    "            (df['final.output.concentrate_au'] > 20)]\n",
    "    locals()[data_names[i]] = df"
   ]
  },
  {
   "cell_type": "markdown",
   "metadata": {},
   "source": [
    "### Сравнение размера гранул сырья в разных выборках "
   ]
  },
  {
   "cell_type": "markdown",
   "metadata": {},
   "source": [
    "По условию задачи, нам нужно учитывать не только концентрацию золота, но и размер гранул сырья. Чтобы модель умела грамотно предсказывать значения на разных исходных данных, нам нужно убедиться, что распределения размера гранул в тестовой и обучающей выборке либо совпадают, либо незначительно отличаются. Для этого построим соответствующие графики и посчитаем разницу средних, для гранул до флотации и после:"
   ]
  },
  {
   "cell_type": "code",
   "execution_count": 14,
   "metadata": {},
   "outputs": [
    {
     "data": {
      "text/html": [
       "<font size=3><p><br><br><b>Размер гранул сырья до флотации:</b></p>"
      ],
      "text/plain": [
       "<IPython.core.display.HTML object>"
      ]
     },
     "metadata": {},
     "output_type": "display_data"
    },
    {
     "data": {
      "image/png": "[encoded data removed]",
      "text/plain": [
       "<Figure size 1152x432 with 1 Axes>"
      ]
     },
     "metadata": {},
     "output_type": "display_data"
    },
    {
     "name": "stdout",
     "output_type": "stream",
     "text": [
      "Средний размер гранул сырья в выборках отличается на 2.40%.\n",
      "\n"
     ]
    },
    {
     "data": {
      "text/html": [
       "<font size=3><p><br><br><b>Размер гранул сырья после флотации:</b></p>"
      ],
      "text/plain": [
       "<IPython.core.display.HTML object>"
      ]
     },
     "metadata": {},
     "output_type": "display_data"
    },
    {
     "data": {
      "image/png": "[encoded data removed]",
      "text/plain": [
       "<Figure size 1152x432 with 1 Axes>"
      ]
     },
     "metadata": {},
     "output_type": "display_data"
    },
    {
     "name": "stdout",
     "output_type": "stream",
     "text": [
      "Средний размер гранул сырья в выборках отличается на 1.78%.\n",
      "\n"
     ]
    }
   ],
   "source": [
    "columns = ['rougher.input.feed_size', 'primary_cleaner.input.feed_size']\n",
    "process = ['до флотации', 'после флотации']\n",
    "\n",
    "for i in range(2):\n",
    "    display(HTML(\"<font size=3><p><br><br><b>Размер гранул сырья {}:</b></p>\".format(process[i])))\n",
    "    fig, ax = plt.subplots(figsize=(16, 6))\n",
    "    means = []\n",
    "    for y in range(2):\n",
    "        ax = sns.kdeplot(locals()[data_names[y+1]][columns[i]], \n",
    "                         shade=True, \n",
    "                         gridsize=700,\n",
    "                         alpha=.5, \n",
    "                         linewidth=1, \n",
    "                         label=data_names[y+1])\n",
    "        means.append(locals()[data_names[y+1]][columns[i]].mean())\n",
    "        ax.legend()\n",
    "    plt.show()\n",
    "    print('Средний размер гранул сырья в выборках отличается на {:.2%}.\\n'.format(abs((means[0] - means[1]) / means[0])))  "
   ]
  },
  {
   "cell_type": "markdown",
   "metadata": {},
   "source": [
    "### Вывод "
   ]
  },
  {
   "cell_type": "markdown",
   "metadata": {},
   "source": [
    "Как можно заметить, распределения отличаются, но очень незначительно. Различия между средними значениями составляют 2.4% до флотации и 1.78% после. Скорее всего это не критично, но лучше уточнить этот момент у заказчика, или у кого-то, кто более тесно знаком с этим техпроцессом. Мы же посчитаем эту разницу несущественной, и перейдём к обучению моделей."
   ]
  },
  {
   "cell_type": "markdown",
   "metadata": {},
   "source": [
    "## Обучение моделей "
   ]
  },
  {
   "cell_type": "markdown",
   "metadata": {},
   "source": [
    "### Подготовка выборок "
   ]
  },
  {
   "cell_type": "markdown",
   "metadata": {},
   "source": [
    "Прежде чем начать обучать модели, нам сперва требуется подготовить соответсвующие выборки. Целевых признака у нас два - `rougher.output.recovery` и `final.output.recovery`, значит нам нужно обучать два разных комплекта моделей, и для каждого из них нужны разные выборки. Начнём с того, что подготовим `test_data` и `train_data`:"
   ]
  },
  {
   "cell_type": "code",
   "execution_count": 15,
   "metadata": {},
   "outputs": [],
   "source": [
    "test_data = test_data.merge(full_data[['date', 'rougher.output.recovery', 'final.output.recovery']], \n",
    "                            how = 'left', on = 'date')\n",
    "test_data.dropna(inplace=True)\n",
    "train_data = train_data[test_data.columns]"
   ]
  },
  {
   "cell_type": "markdown",
   "metadata": {},
   "source": [
    "В переменную `test_data` мы добавили целевые признаки, взяв недостающие значения из таблицы `full_data`. Найти нужные строки нам помог столбец с датой и временем, значения которого по условию не повторяются, однако в результате соединения в целевых признаках образовалось несколько пропусков, которые мы безжалостно удалили.  \n",
    "Как мы поминим, в таблице `test_data` находятся только те признаки, значения которых можно получить в реальном времени, в то время как в остальных таблицах есть значения, вычисляемые позже. Так как предсказывать мы будем на основе данных из таблицы `test_data`, то и обучать модель будет логично на том же комплекте признаков, так что в `train_data` мы оставили только нужные столбцы."
   ]
  },
  {
   "cell_type": "code",
   "execution_count": 16,
   "metadata": {},
   "outputs": [],
   "source": [
    "rougher_columns = list(test_data.loc[:, test_data.columns.str.contains('rougher')].columns)\n",
    "\n",
    "train_r = train_data[rougher_columns]\n",
    "test_r = test_data[rougher_columns]\n",
    "train_f = train_data.drop('date', axis=1)\n",
    "test_f = test_data.drop('date', axis=1)"
   ]
  },
  {
   "cell_type": "markdown",
   "metadata": {},
   "source": [
    "Наши целевые признаки в реальных условиях рассчитываются в разных местах техпроцесса. Так, например, `rougher.output.recovery` вычисляется только на основе данных в процессе/до/после флотации, в то время как `final.output.recovery` отображает концентрацию в самом конце процесса восстановления. Исходя из этого, мы создали 4 переменных: `train_r`, `test_r`, `train_f` и `test_f`. В первых двух находятся версии таблиц `train_data` и `test_data`c признаками, в названии которых есть слово \"rougher\", то есть все признаки, имеющие отношение к этапу флотации. Во вторых двух переменных меньше изменений - там мы отказались только от столбца с датой, сохранив все остальные признаки."
   ]
  },
  {
   "cell_type": "code",
   "execution_count": 17,
   "metadata": {},
   "outputs": [],
   "source": [
    "X_train_r = train_r.drop('rougher.output.recovery', axis=1)\n",
    "X_test_r = test_r.drop('rougher.output.recovery', axis=1)\n",
    "y_train_r = train_r['rougher.output.recovery']\n",
    "y_test_r = test_r['rougher.output.recovery']\n",
    "\n",
    "X_train_f = train_f.drop('final.output.recovery', axis=1)\n",
    "X_test_f = test_f.drop('final.output.recovery', axis=1)\n",
    "y_train_f = train_f['final.output.recovery']\n",
    "y_test_f = test_f['final.output.recovery']"
   ]
  },
  {
   "cell_type": "markdown",
   "metadata": {},
   "source": [
    "Каждый набор данных мы поделили ещё на две выборки: в одной целевые признаки, в другой все остальные. В результате получили 8 переменных, которые будут в дальнейшем использоваться для обучения моделей."
   ]
  },
  {
   "cell_type": "code",
   "execution_count": 18,
   "metadata": {
    "scrolled": false
   },
   "outputs": [
    {
     "name": "stdout",
     "output_type": "stream",
     "text": [
      "Размеры выборок:\n",
      "\n",
      "Выборка X_train_r: (10603, 22)\n",
      "Выборка X_test_r: (4906, 22)\n",
      "Выборка y_train_r: (10603,)\n",
      "Выборка y_test_r: (4906,)\n",
      "Выборка X_train_f: (10603, 53)\n",
      "Выборка X_test_f: (4906, 53)\n",
      "Выборка y_train_f: (10603,)\n",
      "Выборка y_test_f: (4906,)\n"
     ]
    }
   ],
   "source": [
    "sample_names = ['X_train_r', 'X_test_r', 'y_train_r', 'y_test_r', \n",
    "                'X_train_f', 'X_test_f', 'y_train_f', 'y_test_f']\n",
    "\n",
    "scaler = StandardScaler()\n",
    "\n",
    "print('Размеры выборок:\\n')\n",
    "for name in sample_names:\n",
    "    if 'X' in name:\n",
    "        columns = locals()[name].columns\n",
    "        locals()[name][columns] = scaler.fit_transform(locals()[name][columns])\n",
    "    print('Выборка {}:'.format(name), locals()[name].shape)"
   ]
  },
  {
   "cell_type": "markdown",
   "metadata": {},
   "source": [
    "Для проверки выводим итоговые размеры всех получившихся выборок, чтобы убедиться, что всё поделено верно. Параллельно с этим проводим масштабирование, поскольку разница между объектами в разных признаках была слишком большой. "
   ]
  },
  {
   "cell_type": "markdown",
   "metadata": {},
   "source": [
    "### Функция для рассчёта метрики sMAPE"
   ]
  },
  {
   "cell_type": "markdown",
   "metadata": {},
   "source": [
    "По условию задачи, оценивать качество моделей нам необходимо с помощью метрики sMAPE. Для дальнейшего удобства и уменьшения вероятности ошибки упакуем формулы рассчёта базовой и итоговой метрики в две формулы - `smape` и `total_smape` соответственно:"
   ]
  },
  {
   "cell_type": "markdown",
   "metadata": {},
   "source": [
    "$$\\mathit{sMAPE} = \\frac{1}{N} \\sum_{i=1}^{N} \\frac{\\left| y_i - \\hat{y}_i \\right|}{\\left( \\left| y_i \\right| + \\left|\\hat{y}_i \\right| \\right) / 2} \\times 100\\%$$"
   ]
  },
  {
   "cell_type": "code",
   "execution_count": 38,
   "metadata": {},
   "outputs": [],
   "source": [
    "def smape(target, predict):   \n",
    "    return 1 / len(target) * sum( abs(target - predict) / ( (abs(target) + abs(predict)) * 0.5) ) * 100"
   ]
  },
  {
   "cell_type": "markdown",
   "metadata": {},
   "source": [
    "$$\\mathit{Total\\ sMAPE} = 25\\% \\times \\mathit{sMAPE}\\left( \\mathit{rougher} \\right) + 75\\% \\times \\mathit{sMAPE} \\left( \\mathit{final} \\right)$$"
   ]
  },
  {
   "cell_type": "code",
   "execution_count": 20,
   "metadata": {},
   "outputs": [],
   "source": [
    "def total_smape(smape_rougher, smape_final):\n",
    "    return 0.25 * smape_rougher + 0.75 * smape_final"
   ]
  },
  {
   "cell_type": "markdown",
   "metadata": {},
   "source": [
    "### Обучение моделей "
   ]
  },
  {
   "cell_type": "markdown",
   "metadata": {},
   "source": [
    "Для этой задачи мы используем три разных модели: CatBoost, DecisionTree и LinearRegressor. Поскольку ключевой метрикой для нас является total sMAPE, объединяющая в себе отклонения в обоих предсказаниях, мы будем не только обучать разные модели для каждого признака, но и проверять их сочетания. В конечном счёте, комбинация, которая позволит получить наименьшее значение отклонения, и станет победителем:"
   ]
  },
  {
   "cell_type": "code",
   "execution_count": 39,
   "metadata": {},
   "outputs": [
    {
     "name": "stdout",
     "output_type": "stream",
     "text": [
      "Лучшее значение total sMAPE: 7.53% у моделей ('CatBoostRegressor', 'CatBoostRegressor')\n"
     ]
    }
   ],
   "source": [
    "models = [CatBoostRegressor(iterations=23, depth=10, learning_rate=0.15, random_state=123, silent=True),\n",
    "          DecisionTreeRegressor(max_depth=1, random_state = 123), \n",
    "          LinearRegression()]\n",
    "\n",
    "best_score = 100\n",
    "best_models = 0\n",
    "\n",
    "for model_r in models:\n",
    "    for model_f in models:\n",
    "        \n",
    "        smape_rougher = cross_val_score(model_r, \n",
    "                                        X_train_r, \n",
    "                                        y_train_r, \n",
    "                                        scoring = make_scorer(smape), \n",
    "                                        n_jobs = -1).mean()\n",
    "        smape_final = cross_val_score(model_f, \n",
    "                                      X_train_f, \n",
    "                                      y_train_f, \n",
    "                                      scoring = make_scorer(smape), \n",
    "                                      n_jobs = -1).mean()\n",
    "        smape_total = total_smape(smape_rougher, smape_final)\n",
    "        \n",
    "        if smape_total < best_score:\n",
    "            best_score = smape_total\n",
    "            best_models = (model_r.__class__.__name__, model_f.__class__.__name__)  \n",
    "\n",
    "print('Лучшее значение total sMAPE: {:.2f}% у моделей {}'.format(best_score, best_models))          "
   ]
  },
  {
   "cell_type": "markdown",
   "metadata": {},
   "source": [
    "На обучающей выборке наименьшее значение sMAPE, которое удалось получить, составляет 7.53%. Достичь его удалось при использовании модели CatBoost для обоих предсказаний."
   ]
  },
  {
   "cell_type": "markdown",
   "metadata": {},
   "source": [
    "### Проверка лучших моделей на тестовой выборке "
   ]
  },
  {
   "cell_type": "markdown",
   "metadata": {},
   "source": [
    "Теперь, когда мы знаем, какие модели лучше всего себя показывают на обучающей выборке, мы можем проверить их на тестовой:"
   ]
  },
  {
   "cell_type": "code",
   "execution_count": 22,
   "metadata": {},
   "outputs": [
    {
     "name": "stdout",
     "output_type": "stream",
     "text": [
      "Total sMAPE на тестовой выборке:6.36%\n"
     ]
    }
   ],
   "source": [
    "model_r = CatBoostRegressor(iterations=23, depth=10, learning_rate=0.15, random_state=123, silent=True)\n",
    "model_r.fit(X_train_r, y_train_r)\n",
    "predictions_r = model_r.predict(X_test_r)\n",
    "smape_rougher = smape(y_test_r, predictions_r)                                       \n",
    "\n",
    "model_f = CatBoostRegressor(iterations=23, depth=10, learning_rate=0.15, random_state=123, silent=True)\n",
    "model_f.fit(X_train_f, y_train_f)\n",
    "predictions_f = model_f.predict(X_test_f)\n",
    "smape_final = smape(y_test_f, predictions_f)                                       \n",
    "\n",
    "smape_total = total_smape(smape_rougher, smape_final)\n",
    "    \n",
    "print('Total sMAPE на тестовой выборке:{:.2f}%'.format(smape_total))"
   ]
  },
  {
   "cell_type": "markdown",
   "metadata": {},
   "source": [
    "В результате мы получаем значение симметричного среднего абсолютного процентного отклонения 6.36%, что, в целом, выглядит довольно неплохо."
   ]
  },
  {
   "cell_type": "markdown",
   "metadata": {},
   "source": [
    "### Константная модель"
   ]
  },
  {
   "cell_type": "markdown",
   "metadata": {},
   "source": [
    "Чтобы убедиться, что мы весь этот путь проделали не зря, сравним наши значения с аналогичными, но полученными от константной модели - она стабильно предсказывает средние значения:"
   ]
  },
  {
   "cell_type": "code",
   "execution_count": 23,
   "metadata": {},
   "outputs": [
    {
     "name": "stdout",
     "output_type": "stream",
     "text": [
      "Total sMAPE константной модели:8.43%\n"
     ]
    }
   ],
   "source": [
    "dummy_pred_r = np.array([y_train_r.mean() for i in range(len(y_train_r))])\n",
    "dummy_pred_f = np.array([y_train_f.mean() for i in range(len(y_train_f))])\n",
    "\n",
    "dummy_smape_r = smape(y_train_r, dummy_pred_r)\n",
    "dummy_smape_f = smape(y_train_f, dummy_pred_f)\n",
    "dummy_total = total_smape(dummy_smape_r, dummy_smape_f)\n",
    "print('Total sMAPE константной модели:{:.2f}%'.format(dummy_total))"
   ]
  },
  {
   "cell_type": "markdown",
   "metadata": {},
   "source": [
    "Как можно заметить, хоть отклонение нашей модели и получилось меньше, чем у константной, но разница не так уж и велика. "
   ]
  },
  {
   "cell_type": "markdown",
   "metadata": {},
   "source": [
    "### Вывод "
   ]
  },
  {
   "cell_type": "markdown",
   "metadata": {},
   "source": [
    "Мы обучили несколько разных моделей, проверили их на кросс-валидации, и обнаружили, что наилучший результат удаётся получить, если использовать для обоих предсказаний модель CatBoost. Такая комбинация дала значение sMAPE 7.53% на валидационной и 6.36% на тестовой выборке. В то же время, константная модель предсказала с отклонением в 8.43%."
   ]
  },
  {
   "cell_type": "markdown",
   "metadata": {},
   "source": [
    "## Общий вывод "
   ]
  },
  {
   "cell_type": "markdown",
   "metadata": {},
   "source": [
    "Наша задача была создать модель, которая сможет предсказать значение финальной концентрации сырья, чтобы в дальнейшем компания смогла применить её для оптимизации производства. Мы провели анализ и предобработку данных, обучили несколько разных моделей и получили в итоге предсказания по тестовой выборке с отклонением в 6.36%. Само по себе значение 6.36% оценить затруднительно, поскольку нет конкретных инструкций от заказчика на тему необходимой точности предсказаний. Однако, константная модель, которая всегда \"предсказывает\" одинаковые средние значения, ошибается примерно на 2% больше, чем наша модель. Дальнейшие действия зависят от решения заказчика, поскольку для рассчёта прибыли у нас недостаточно данных.  \n",
    "Стоит отметить, что анализ изменения концентрации металлов показал достаточно эффективное увеличение концентрации золота по мере прохождения разных этапов производства - в итоговом продукте золото составляет 45-50%, при исходном уровне около 10%. Концентрация серебра по мере очистки уменьшается, а вот свинца, наоборот, увеличивается. В конечном продукте свинец составляет около 10%, и, возможно, на это стоит обратить внимание, учитывая токсичность этого металла. Помимо вышеописанных металлов, конечный продукт где-то на 40% состоит из прочих примесей, что тоже сказывается на эффективности производства. Повторюсь, у нас недостаточно данных для рассчёта прибыли и расходов, но, возможно, стоит посмотреть в сторону усложнения процесса очистки, с целью увеличить концентрацию золота в конечном продкуте. Более подробные рассчёты смогут показать, эффективна ли будет такая оптимизация, и насколько."
   ]
  }
 ],
 "metadata": {
  "ExecuteTimeLog": [
   {
    "duration": 1121,
    "start_time": "2022-02-05T15:18:18.805Z"
   },
   {
    "duration": 1656,
    "start_time": "2022-02-05T15:18:19.928Z"
   },
   {
    "duration": -11,
    "start_time": "2022-02-05T15:18:21.597Z"
   },
   {
    "duration": -12,
    "start_time": "2022-02-05T15:18:21.599Z"
   },
   {
    "duration": -14,
    "start_time": "2022-02-05T15:18:21.602Z"
   },
   {
    "duration": -15,
    "start_time": "2022-02-05T15:18:21.604Z"
   },
   {
    "duration": -16,
    "start_time": "2022-02-05T15:18:21.606Z"
   },
   {
    "duration": -16,
    "start_time": "2022-02-05T15:18:21.607Z"
   },
   {
    "duration": -17,
    "start_time": "2022-02-05T15:18:21.609Z"
   },
   {
    "duration": -18,
    "start_time": "2022-02-05T15:18:21.611Z"
   },
   {
    "duration": -20,
    "start_time": "2022-02-05T15:18:21.613Z"
   },
   {
    "duration": -21,
    "start_time": "2022-02-05T15:18:21.615Z"
   },
   {
    "duration": -28,
    "start_time": "2022-02-05T15:18:21.623Z"
   },
   {
    "duration": -29,
    "start_time": "2022-02-05T15:18:21.625Z"
   },
   {
    "duration": -30,
    "start_time": "2022-02-05T15:18:21.627Z"
   },
   {
    "duration": -30,
    "start_time": "2022-02-05T15:18:21.628Z"
   },
   {
    "duration": -32,
    "start_time": "2022-02-05T15:18:21.631Z"
   },
   {
    "duration": -32,
    "start_time": "2022-02-05T15:18:21.632Z"
   },
   {
    "duration": -33,
    "start_time": "2022-02-05T15:18:21.634Z"
   },
   {
    "duration": -34,
    "start_time": "2022-02-05T15:18:21.636Z"
   },
   {
    "duration": -35,
    "start_time": "2022-02-05T15:18:21.638Z"
   },
   {
    "duration": -36,
    "start_time": "2022-02-05T15:18:21.640Z"
   },
   {
    "duration": 1927,
    "start_time": "2022-02-05T15:19:40.715Z"
   },
   {
    "duration": 672,
    "start_time": "2022-02-05T15:19:55.087Z"
   },
   {
    "duration": 1153,
    "start_time": "2022-02-05T15:20:02.085Z"
   },
   {
    "duration": 674,
    "start_time": "2022-02-05T15:20:03.240Z"
   },
   {
    "duration": 43,
    "start_time": "2022-02-05T15:20:03.916Z"
   },
   {
    "duration": 26,
    "start_time": "2022-02-05T15:20:03.961Z"
   },
   {
    "duration": 30,
    "start_time": "2022-02-05T15:20:03.988Z"
   },
   {
    "duration": 5,
    "start_time": "2022-02-05T15:20:04.020Z"
   },
   {
    "duration": 83,
    "start_time": "2022-02-05T15:20:04.026Z"
   },
   {
    "duration": 2,
    "start_time": "2022-02-05T15:20:04.112Z"
   },
   {
    "duration": 12,
    "start_time": "2022-02-05T15:20:04.116Z"
   },
   {
    "duration": 4262,
    "start_time": "2022-02-05T15:20:04.129Z"
   },
   {
    "duration": 129,
    "start_time": "2022-02-05T15:20:08.392Z"
   },
   {
    "duration": 17,
    "start_time": "2022-02-05T15:20:08.523Z"
   },
   {
    "duration": 701,
    "start_time": "2022-02-05T15:20:08.542Z"
   },
   {
    "duration": -5,
    "start_time": "2022-02-05T15:20:09.250Z"
   },
   {
    "duration": -6,
    "start_time": "2022-02-05T15:20:09.252Z"
   },
   {
    "duration": -8,
    "start_time": "2022-02-05T15:20:09.255Z"
   },
   {
    "duration": 2,
    "start_time": "2022-02-05T15:20:09.256Z"
   },
   {
    "duration": 1,
    "start_time": "2022-02-05T15:20:09.258Z"
   },
   {
    "duration": 1,
    "start_time": "2022-02-05T15:20:09.259Z"
   },
   {
    "duration": 1,
    "start_time": "2022-02-05T15:20:09.260Z"
   },
   {
    "duration": 0,
    "start_time": "2022-02-05T15:20:09.262Z"
   },
   {
    "duration": 0,
    "start_time": "2022-02-05T15:20:09.263Z"
   },
   {
    "duration": 514,
    "start_time": "2022-02-05T15:21:58.984Z"
   },
   {
    "duration": 546,
    "start_time": "2022-02-05T15:22:13.309Z"
   },
   {
    "duration": 541,
    "start_time": "2022-02-05T15:22:26.385Z"
   },
   {
    "duration": 518,
    "start_time": "2022-02-05T15:22:50.608Z"
   },
   {
    "duration": 781,
    "start_time": "2022-02-05T15:22:58.463Z"
   },
   {
    "duration": 4,
    "start_time": "2022-02-05T15:23:30.605Z"
   },
   {
    "duration": 698,
    "start_time": "2022-02-05T15:23:30.611Z"
   },
   {
    "duration": 33,
    "start_time": "2022-02-05T15:23:31.311Z"
   },
   {
    "duration": 37,
    "start_time": "2022-02-05T15:23:31.346Z"
   },
   {
    "duration": 29,
    "start_time": "2022-02-05T15:23:31.384Z"
   },
   {
    "duration": 4,
    "start_time": "2022-02-05T15:23:31.414Z"
   },
   {
    "duration": 81,
    "start_time": "2022-02-05T15:23:31.420Z"
   },
   {
    "duration": 3,
    "start_time": "2022-02-05T15:23:31.503Z"
   },
   {
    "duration": 10,
    "start_time": "2022-02-05T15:23:31.507Z"
   },
   {
    "duration": 4397,
    "start_time": "2022-02-05T15:23:31.518Z"
   },
   {
    "duration": 122,
    "start_time": "2022-02-05T15:23:35.917Z"
   },
   {
    "duration": 13,
    "start_time": "2022-02-05T15:23:36.040Z"
   },
   {
    "duration": 804,
    "start_time": "2022-02-05T15:23:36.054Z"
   },
   {
    "duration": 15,
    "start_time": "2022-02-05T15:23:36.860Z"
   },
   {
    "duration": 8,
    "start_time": "2022-02-05T15:23:36.877Z"
   },
   {
    "duration": 12,
    "start_time": "2022-02-05T15:23:36.887Z"
   },
   {
    "duration": 62,
    "start_time": "2022-02-05T15:23:36.901Z"
   },
   {
    "duration": 3,
    "start_time": "2022-02-05T15:23:36.965Z"
   },
   {
    "duration": 7,
    "start_time": "2022-02-05T15:23:36.970Z"
   },
   {
    "duration": 13975,
    "start_time": "2022-02-05T15:25:24.363Z"
   },
   {
    "duration": 1769,
    "start_time": "2022-02-05T15:25:38.340Z"
   },
   {
    "duration": 108947,
    "start_time": "2022-02-05T15:25:40.112Z"
   },
   {
    "duration": 3,
    "start_time": "2022-02-05T15:28:49.853Z"
   },
   {
    "duration": 2,
    "start_time": "2022-02-05T15:28:53.780Z"
   },
   {
    "duration": 105429,
    "start_time": "2022-02-05T15:29:13.530Z"
   },
   {
    "duration": 68,
    "start_time": "2022-02-05T15:31:50.089Z"
   },
   {
    "duration": 59,
    "start_time": "2022-02-05T15:31:59.939Z"
   },
   {
    "duration": 58,
    "start_time": "2022-02-05T15:32:07.195Z"
   },
   {
    "duration": 1790,
    "start_time": "2022-02-05T15:32:14.316Z"
   },
   {
    "duration": 61,
    "start_time": "2022-02-05T16:04:51.150Z"
   },
   {
    "duration": 39,
    "start_time": "2022-02-05T16:05:05.533Z"
   },
   {
    "duration": 42,
    "start_time": "2022-02-05T16:05:24.622Z"
   },
   {
    "duration": 693,
    "start_time": "2022-02-05T17:35:45.372Z"
   },
   {
    "duration": 1860,
    "start_time": "2022-02-05T17:35:57.491Z"
   },
   {
    "duration": 2268,
    "start_time": "2022-02-05T17:40:13.777Z"
   },
   {
    "duration": 1781,
    "start_time": "2022-02-05T17:40:28.604Z"
   },
   {
    "duration": 60,
    "start_time": "2022-02-05T18:04:21.788Z"
   },
   {
    "duration": 4514,
    "start_time": "2022-02-05T18:04:40.622Z"
   },
   {
    "duration": 1137,
    "start_time": "2022-02-05T18:18:24.533Z"
   },
   {
    "duration": 3,
    "start_time": "2022-02-05T18:18:25.672Z"
   },
   {
    "duration": 676,
    "start_time": "2022-02-05T18:18:25.679Z"
   },
   {
    "duration": 34,
    "start_time": "2022-02-05T18:18:26.358Z"
   },
   {
    "duration": 24,
    "start_time": "2022-02-05T18:18:26.393Z"
   },
   {
    "duration": 52,
    "start_time": "2022-02-05T18:18:26.419Z"
   },
   {
    "duration": 5,
    "start_time": "2022-02-05T18:18:26.472Z"
   },
   {
    "duration": 53,
    "start_time": "2022-02-05T18:18:26.480Z"
   },
   {
    "duration": 24,
    "start_time": "2022-02-05T18:18:26.535Z"
   },
   {
    "duration": 9,
    "start_time": "2022-02-05T18:18:26.561Z"
   },
   {
    "duration": 4314,
    "start_time": "2022-02-05T18:18:26.571Z"
   },
   {
    "duration": 131,
    "start_time": "2022-02-05T18:18:30.887Z"
   },
   {
    "duration": 18,
    "start_time": "2022-02-05T18:18:31.020Z"
   },
   {
    "duration": 895,
    "start_time": "2022-02-05T18:18:31.040Z"
   },
   {
    "duration": 28,
    "start_time": "2022-02-05T18:18:31.937Z"
   },
   {
    "duration": 11,
    "start_time": "2022-02-05T18:18:31.968Z"
   },
   {
    "duration": 26,
    "start_time": "2022-02-05T18:18:31.981Z"
   },
   {
    "duration": 57,
    "start_time": "2022-02-05T18:18:32.009Z"
   },
   {
    "duration": 2,
    "start_time": "2022-02-05T18:18:32.068Z"
   },
   {
    "duration": 11,
    "start_time": "2022-02-05T18:18:32.072Z"
   },
   {
    "duration": 105577,
    "start_time": "2022-02-05T18:18:32.085Z"
   },
   {
    "duration": 11879,
    "start_time": "2022-02-05T18:20:17.665Z"
   },
   {
    "duration": 1883,
    "start_time": "2022-02-05T18:20:29.545Z"
   },
   {
    "duration": 404,
    "start_time": "2022-02-06T09:31:13.951Z"
   },
   {
    "duration": 1573,
    "start_time": "2022-02-06T09:31:29.457Z"
   },
   {
    "duration": 4,
    "start_time": "2022-02-06T09:31:31.033Z"
   },
   {
    "duration": 866,
    "start_time": "2022-02-06T09:31:31.040Z"
   },
   {
    "duration": 63,
    "start_time": "2022-02-06T09:31:31.908Z"
   },
   {
    "duration": 40,
    "start_time": "2022-02-06T09:31:31.974Z"
   },
   {
    "duration": 76,
    "start_time": "2022-02-06T09:31:32.016Z"
   },
   {
    "duration": 8,
    "start_time": "2022-02-06T09:31:32.095Z"
   },
   {
    "duration": 106,
    "start_time": "2022-02-06T09:31:32.106Z"
   },
   {
    "duration": 4,
    "start_time": "2022-02-06T09:31:32.215Z"
   },
   {
    "duration": 15,
    "start_time": "2022-02-06T09:31:32.221Z"
   },
   {
    "duration": 7626,
    "start_time": "2022-02-06T09:31:32.238Z"
   },
   {
    "duration": 297,
    "start_time": "2022-02-06T09:31:39.866Z"
   },
   {
    "duration": 23,
    "start_time": "2022-02-06T09:31:40.165Z"
   },
   {
    "duration": 7338,
    "start_time": "2022-02-06T09:32:49.735Z"
   },
   {
    "duration": 6,
    "start_time": "2022-02-06T09:42:28.930Z"
   },
   {
    "duration": 5,
    "start_time": "2022-02-06T09:42:28.939Z"
   },
   {
    "duration": 833,
    "start_time": "2022-02-06T09:42:28.950Z"
   },
   {
    "duration": 51,
    "start_time": "2022-02-06T09:42:29.786Z"
   },
   {
    "duration": 64,
    "start_time": "2022-02-06T09:42:29.839Z"
   },
   {
    "duration": 71,
    "start_time": "2022-02-06T09:42:29.905Z"
   },
   {
    "duration": 8,
    "start_time": "2022-02-06T09:42:29.979Z"
   },
   {
    "duration": 112,
    "start_time": "2022-02-06T09:42:29.989Z"
   },
   {
    "duration": 4,
    "start_time": "2022-02-06T09:42:30.103Z"
   },
   {
    "duration": 20,
    "start_time": "2022-02-06T09:42:30.109Z"
   },
   {
    "duration": 7255,
    "start_time": "2022-02-06T09:42:30.133Z"
   },
   {
    "duration": 251,
    "start_time": "2022-02-06T09:42:37.390Z"
   },
   {
    "duration": 4,
    "start_time": "2022-02-06T09:42:37.643Z"
   },
   {
    "duration": 17,
    "start_time": "2022-02-06T09:42:37.650Z"
   },
   {
    "duration": 5,
    "start_time": "2022-02-06T09:42:37.669Z"
   },
   {
    "duration": 1587,
    "start_time": "2022-02-07T11:41:45.433Z"
   },
   {
    "duration": 4,
    "start_time": "2022-02-07T11:41:47.022Z"
   },
   {
    "duration": 1802,
    "start_time": "2022-02-07T11:41:47.029Z"
   },
   {
    "duration": 81,
    "start_time": "2022-02-07T11:41:48.834Z"
   },
   {
    "duration": 80,
    "start_time": "2022-02-07T11:41:48.918Z"
   },
   {
    "duration": 60,
    "start_time": "2022-02-07T11:41:49.001Z"
   },
   {
    "duration": 7,
    "start_time": "2022-02-07T11:41:49.063Z"
   },
   {
    "duration": 108,
    "start_time": "2022-02-07T11:41:49.072Z"
   },
   {
    "duration": 4,
    "start_time": "2022-02-07T11:41:49.184Z"
   },
   {
    "duration": 17,
    "start_time": "2022-02-07T11:41:49.190Z"
   },
   {
    "duration": 7068,
    "start_time": "2022-02-07T11:41:49.209Z"
   },
   {
    "duration": 215,
    "start_time": "2022-02-07T11:41:56.280Z"
   },
   {
    "duration": 22,
    "start_time": "2022-02-07T11:41:56.498Z"
   },
   {
    "duration": 1426,
    "start_time": "2022-02-07T11:41:56.522Z"
   },
   {
    "duration": 26,
    "start_time": "2022-02-07T11:41:57.951Z"
   },
   {
    "duration": 16,
    "start_time": "2022-02-07T11:41:57.979Z"
   },
   {
    "duration": 21,
    "start_time": "2022-02-07T11:41:57.997Z"
   },
   {
    "duration": 87,
    "start_time": "2022-02-07T11:41:58.020Z"
   },
   {
    "duration": 4,
    "start_time": "2022-02-07T11:41:58.109Z"
   },
   {
    "duration": 6,
    "start_time": "2022-02-07T11:41:58.116Z"
   },
   {
    "duration": 8899,
    "start_time": "2022-02-07T11:41:58.149Z"
   },
   {
    "duration": 116,
    "start_time": "2022-02-07T11:44:17.139Z"
   },
   {
    "duration": 4,
    "start_time": "2022-02-07T11:44:24.921Z"
   },
   {
    "duration": 10325,
    "start_time": "2022-02-07T11:44:31.701Z"
   },
   {
    "duration": 4,
    "start_time": "2022-02-07T11:48:44.279Z"
   },
   {
    "duration": 5,
    "start_time": "2022-02-07T11:50:50.176Z"
   },
   {
    "duration": 5836,
    "start_time": "2022-02-07T11:50:51.998Z"
   },
   {
    "duration": 4,
    "start_time": "2022-02-07T11:51:57.827Z"
   },
   {
    "duration": 10757,
    "start_time": "2022-02-07T11:52:07.397Z"
   },
   {
    "duration": 5,
    "start_time": "2022-02-07T11:54:41.954Z"
   },
   {
    "duration": 5932,
    "start_time": "2022-02-07T11:54:44.417Z"
   },
   {
    "duration": 5,
    "start_time": "2022-02-07T11:55:26.760Z"
   },
   {
    "duration": 6282,
    "start_time": "2022-02-07T11:55:30.967Z"
   },
   {
    "duration": 4,
    "start_time": "2022-02-07T11:56:17.952Z"
   },
   {
    "duration": 6061,
    "start_time": "2022-02-07T11:56:20.625Z"
   },
   {
    "duration": 4,
    "start_time": "2022-02-07T11:57:55.842Z"
   },
   {
    "duration": 5,
    "start_time": "2022-02-07T12:00:28.453Z"
   },
   {
    "duration": 147187,
    "start_time": "2022-02-07T12:00:28.462Z"
   }
  ],
  "kernelspec": {
   "display_name": "Python 3",
   "language": "python",
   "name": "python3"
  },
  "language_info": {
   "codemirror_mode": {
    "name": "ipython",
    "version": 3
   },
   "file_extension": ".py",
   "mimetype": "text/x-python",
   "name": "python",
   "nbconvert_exporter": "python",
   "pygments_lexer": "ipython3",
   "version": "3.8.8"
  },
  "toc": {
   "base_numbering": 1,
   "nav_menu": {},
   "number_sections": true,
   "sideBar": true,
   "skip_h1_title": true,
   "title_cell": "Содержание",
   "title_sidebar": "Contents",
   "toc_cell": true,
   "toc_position": {
    "height": "calc(100% - 180px)",
    "left": "10px",
    "top": "150px",
    "width": "343.391px"
   },
   "toc_section_display": true,
   "toc_window_display": true
  }
 },
 "nbformat": 4,
 "nbformat_minor": 2
}
