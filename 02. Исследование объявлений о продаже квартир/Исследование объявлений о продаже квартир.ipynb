version https://git-lfs.github.com/spec/v1
oid sha256:a5bac8b60920028be3843234ed9357615f5be24f3aaf96459b83961a5c3996fd
size 1321523
