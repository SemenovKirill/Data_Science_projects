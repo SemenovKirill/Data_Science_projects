{
 "cells": [
  {
   "cell_type": "markdown",
   "id": "4ae3dee1",
   "metadata": {
    "id": "4ae3dee1"
   },
   "source": [
    "# Анализ исторических данных о продажах игр  "
   ]
  },
  {
   "cell_type": "markdown",
   "id": "851c884e",
   "metadata": {
    "id": "851c884e",
    "toc": true
   },
   "source": [
    "<h1>Содержание<span class=\"tocSkip\"></span></h1>\n",
    "<div class=\"toc\"><ul class=\"toc-item\"><li><span><a href=\"#Первый-взгляд\" data-toc-modified-id=\"Первый-взгляд-1\"><span class=\"toc-item-num\">1&nbsp;&nbsp;</span>Первый взгляд</a></span></li><li><span><a href=\"#Предобработка-данных\" data-toc-modified-id=\"Предобработка-данных-2\"><span class=\"toc-item-num\">2&nbsp;&nbsp;</span>Предобработка данных</a></span><ul class=\"toc-item\"><li><span><a href=\"#Приведение-к-одному-регистру\" data-toc-modified-id=\"Приведение-к-одному-регистру-2.1\"><span class=\"toc-item-num\">2.1&nbsp;&nbsp;</span>Приведение к одному регистру</a></span></li><li><span><a href=\"#Обработка-пропусков\" data-toc-modified-id=\"Обработка-пропусков-2.2\"><span class=\"toc-item-num\">2.2&nbsp;&nbsp;</span>Обработка пропусков</a></span></li><li><span><a href=\"#Суммарные-продажи-по-регионам\" data-toc-modified-id=\"Суммарные-продажи-по-регионам-2.3\"><span class=\"toc-item-num\">2.3&nbsp;&nbsp;</span>Суммарные продажи по регионам</a></span></li></ul></li><li><span><a href=\"#Исследовательский-анализ-данных\" data-toc-modified-id=\"Исследовательский-анализ-данных-3\"><span class=\"toc-item-num\">3&nbsp;&nbsp;</span>Исследовательский анализ данных</a></span><ul class=\"toc-item\"><li><span><a href=\"#Сколько-игр-выпускалось-в-разные-годы\" data-toc-modified-id=\"Сколько-игр-выпускалось-в-разные-годы-3.1\"><span class=\"toc-item-num\">3.1&nbsp;&nbsp;</span>Сколько игр выпускалось в разные годы</a></span><ul class=\"toc-item\"><li><span><a href=\"#Стационарные-консоли-PlayStation\" data-toc-modified-id=\"Стационарные-консоли-PlayStation-3.1.1\"><span class=\"toc-item-num\">3.1.1&nbsp;&nbsp;</span>Стационарные консоли PlayStation</a></span></li><li><span><a href=\"#Портативные-консоли-PlayStation\" data-toc-modified-id=\"Портативные-консоли-PlayStation-3.1.2\"><span class=\"toc-item-num\">3.1.2&nbsp;&nbsp;</span>Портативные консоли PlayStation</a></span></li><li><span><a href=\"#Консоли-Xbox\" data-toc-modified-id=\"Консоли-Xbox-3.1.3\"><span class=\"toc-item-num\">3.1.3&nbsp;&nbsp;</span>Консоли Xbox</a></span></li><li><span><a href=\"#Стационарные-консоли-Nintendo\" data-toc-modified-id=\"Стационарные-консоли-Nintendo-3.1.4\"><span class=\"toc-item-num\">3.1.4&nbsp;&nbsp;</span>Стационарные консоли Nintendo</a></span></li><li><span><a href=\"#Портативные-консоли-Nintendo\" data-toc-modified-id=\"Портативные-консоли-Nintendo-3.1.5\"><span class=\"toc-item-num\">3.1.5&nbsp;&nbsp;</span>Портативные консоли Nintendo</a></span></li><li><span><a href=\"#Вывод\" data-toc-modified-id=\"Вывод-3.1.6\"><span class=\"toc-item-num\">3.1.6&nbsp;&nbsp;</span>Вывод</a></span></li></ul></li><li><span><a href=\"#Определение-актуальных-платформ\" data-toc-modified-id=\"Определение-актуальных-платформ-3.2\"><span class=\"toc-item-num\">3.2&nbsp;&nbsp;</span>Определение актуальных платформ</a></span></li><li><span><a href=\"#Анализ-зависимости-количества-продаж-от-оценок-пользователей-и-критиков\" data-toc-modified-id=\"Анализ-зависимости-количества-продаж-от-оценок-пользователей-и-критиков-3.3\"><span class=\"toc-item-num\">3.3&nbsp;&nbsp;</span>Анализ зависимости количества продаж от оценок пользователей и критиков</a></span><ul class=\"toc-item\"><li><span><a href=\"#PS4\" data-toc-modified-id=\"PS4-3.3.1\"><span class=\"toc-item-num\">3.3.1&nbsp;&nbsp;</span>PS4</a></span></li><li><span><a href=\"#XOne\" data-toc-modified-id=\"XOne-3.3.2\"><span class=\"toc-item-num\">3.3.2&nbsp;&nbsp;</span>XOne</a></span></li><li><span><a href=\"#PC\" data-toc-modified-id=\"PC-3.3.3\"><span class=\"toc-item-num\">3.3.3&nbsp;&nbsp;</span>PC</a></span></li><li><span><a href=\"#Вывод\" data-toc-modified-id=\"Вывод-3.3.4\"><span class=\"toc-item-num\">3.3.4&nbsp;&nbsp;</span>Вывод</a></span></li></ul></li><li><span><a href=\"#Анализ-зависимости-продаж-от-жанра\" data-toc-modified-id=\"Анализ-зависимости-продаж-от-жанра-3.4\"><span class=\"toc-item-num\">3.4&nbsp;&nbsp;</span>Анализ зависимости продаж от жанра</a></span><ul class=\"toc-item\"><li><span><a href=\"#PS4\" data-toc-modified-id=\"PS4-3.4.1\"><span class=\"toc-item-num\">3.4.1&nbsp;&nbsp;</span>PS4</a></span></li><li><span><a href=\"#PC\" data-toc-modified-id=\"PC-3.4.2\"><span class=\"toc-item-num\">3.4.2&nbsp;&nbsp;</span>PC</a></span></li><li><span><a href=\"#XOne\" data-toc-modified-id=\"XOne-3.4.3\"><span class=\"toc-item-num\">3.4.3&nbsp;&nbsp;</span>XOne</a></span></li><li><span><a href=\"#Вывод\" data-toc-modified-id=\"Вывод-3.4.4\"><span class=\"toc-item-num\">3.4.4&nbsp;&nbsp;</span>Вывод</a></span></li></ul></li></ul></li><li><span><a href=\"#Различия-пользователей-из-разных-регионов\" data-toc-modified-id=\"Различия-пользователей-из-разных-регионов-4\"><span class=\"toc-item-num\">4&nbsp;&nbsp;</span>Различия пользователей из разных регионов</a></span><ul class=\"toc-item\"><li><span><a href=\"#Популярные-платформы\" data-toc-modified-id=\"Популярные-платформы-4.1\"><span class=\"toc-item-num\">4.1&nbsp;&nbsp;</span>Популярные платформы</a></span></li><li><span><a href=\"#Популярные-жанры\" data-toc-modified-id=\"Популярные-жанры-4.2\"><span class=\"toc-item-num\">4.2&nbsp;&nbsp;</span>Популярные жанры</a></span></li><li><span><a href=\"#Влияние-рейтинга-ESRB-на-продажи\" data-toc-modified-id=\"Влияние-рейтинга-ESRB-на-продажи-4.3\"><span class=\"toc-item-num\">4.3&nbsp;&nbsp;</span>Влияние рейтинга ESRB на продажи</a></span></li><li><span><a href=\"#Вывод\" data-toc-modified-id=\"Вывод-4.4\"><span class=\"toc-item-num\">4.4&nbsp;&nbsp;</span>Вывод</a></span></li></ul></li><li><span><a href=\"#Проверка-гипотез\" data-toc-modified-id=\"Проверка-гипотез-5\"><span class=\"toc-item-num\">5&nbsp;&nbsp;</span>Проверка гипотез</a></span><ul class=\"toc-item\"><li><span><a href=\"#Средние-пользовательские-рейтинги-платформ-XOne-и-PC-одинаковые\" data-toc-modified-id=\"Средние-пользовательские-рейтинги-платформ-XOne-и-PC-одинаковые-5.1\"><span class=\"toc-item-num\">5.1&nbsp;&nbsp;</span>Средние пользовательские рейтинги платформ XOne и PC одинаковые</a></span></li><li><span><a href=\"#Средние-пользовательские-рейтинги-жанров-Action-и-Sports-одинаковые.\" data-toc-modified-id=\"Средние-пользовательские-рейтинги-жанров-Action-и-Sports-одинаковые.-5.2\"><span class=\"toc-item-num\">5.2&nbsp;&nbsp;</span>Средние пользовательские рейтинги жанров Action и Sports одинаковые.</a></span></li></ul></li><li><span><a href=\"#Общий-вывод\" data-toc-modified-id=\"Общий-вывод-6\"><span class=\"toc-item-num\">6&nbsp;&nbsp;</span>Общий вывод</a></span></li></ul></div>"
   ]
  },
  {
   "cell_type": "markdown",
   "id": "8bc8ce51",
   "metadata": {
    "id": "8bc8ce51"
   },
   "source": [
    "## Первый взгляд "
   ]
  },
  {
   "cell_type": "code",
   "execution_count": 1,
   "id": "xOUjPuzwrH5e",
   "metadata": {
    "id": "xOUjPuzwrH5e"
   },
   "outputs": [],
   "source": [
    "import pandas as pd\n",
    "import matplotlib.pyplot as plt\n",
    "import numpy as np\n",
    "import scipy.stats as st"
   ]
  },
  {
   "cell_type": "code",
   "execution_count": 2,
   "id": "2a3f30b8",
   "metadata": {
    "colab": {
     "base_uri": "https://localhost:8080/",
     "height": 736
    },
    "id": "2a3f30b8",
    "outputId": "8dfe5a7c-24e9-40d4-8fda-d5e443f40a2a",
    "scrolled": false
   },
   "outputs": [
    {
     "name": "stdout",
     "output_type": "stream",
     "text": [
      "<class 'pandas.core.frame.DataFrame'>\n",
      "RangeIndex: 16715 entries, 0 to 16714\n",
      "Data columns (total 11 columns):\n",
      " #   Column           Non-Null Count  Dtype  \n",
      "---  ------           --------------  -----  \n",
      " 0   Name             16713 non-null  object \n",
      " 1   Platform         16715 non-null  object \n",
      " 2   Year_of_Release  16446 non-null  float64\n",
      " 3   Genre            16713 non-null  object \n",
      " 4   NA_sales         16715 non-null  float64\n",
      " 5   EU_sales         16715 non-null  float64\n",
      " 6   JP_sales         16715 non-null  float64\n",
      " 7   Other_sales      16715 non-null  float64\n",
      " 8   Critic_Score     8137 non-null   float64\n",
      " 9   User_Score       10014 non-null  object \n",
      " 10  Rating           9949 non-null   object \n",
      "dtypes: float64(6), object(5)\n",
      "memory usage: 1.4+ MB\n"
     ]
    },
    {
     "data": {
      "text/html": [
       "\n",
       "  <div id=\"df-b76abe3e-18b2-4660-a03d-74fc2567e6db\">\n",
       "    <div class=\"colab-df-container\">\n",
       "      <div>\n",
       "<style scoped>\n",
       "    .dataframe tbody tr th:only-of-type {\n",
       "        vertical-align: middle;\n",
       "    }\n",
       "\n",
       "    .dataframe tbody tr th {\n",
       "        vertical-align: top;\n",
       "    }\n",
       "\n",
       "    .dataframe thead th {\n",
       "        text-align: right;\n",
       "    }\n",
       "</style>\n",
       "<table border=\"1\" class=\"dataframe\">\n",
       "  <thead>\n",
       "    <tr style=\"text-align: right;\">\n",
       "      <th></th>\n",
       "      <th>Name</th>\n",
       "      <th>Platform</th>\n",
       "      <th>Year_of_Release</th>\n",
       "      <th>Genre</th>\n",
       "      <th>NA_sales</th>\n",
       "      <th>EU_sales</th>\n",
       "      <th>JP_sales</th>\n",
       "      <th>Other_sales</th>\n",
       "      <th>Critic_Score</th>\n",
       "      <th>User_Score</th>\n",
       "      <th>Rating</th>\n",
       "    </tr>\n",
       "  </thead>\n",
       "  <tbody>\n",
       "    <tr>\n",
       "      <th>0</th>\n",
       "      <td>Wii Sports</td>\n",
       "      <td>Wii</td>\n",
       "      <td>2006.0</td>\n",
       "      <td>Sports</td>\n",
       "      <td>41.36</td>\n",
       "      <td>28.96</td>\n",
       "      <td>3.77</td>\n",
       "      <td>8.45</td>\n",
       "      <td>76.0</td>\n",
       "      <td>8</td>\n",
       "      <td>E</td>\n",
       "    </tr>\n",
       "    <tr>\n",
       "      <th>1</th>\n",
       "      <td>Super Mario Bros.</td>\n",
       "      <td>NES</td>\n",
       "      <td>1985.0</td>\n",
       "      <td>Platform</td>\n",
       "      <td>29.08</td>\n",
       "      <td>3.58</td>\n",
       "      <td>6.81</td>\n",
       "      <td>0.77</td>\n",
       "      <td>NaN</td>\n",
       "      <td>NaN</td>\n",
       "      <td>NaN</td>\n",
       "    </tr>\n",
       "    <tr>\n",
       "      <th>2</th>\n",
       "      <td>Mario Kart Wii</td>\n",
       "      <td>Wii</td>\n",
       "      <td>2008.0</td>\n",
       "      <td>Racing</td>\n",
       "      <td>15.68</td>\n",
       "      <td>12.76</td>\n",
       "      <td>3.79</td>\n",
       "      <td>3.29</td>\n",
       "      <td>82.0</td>\n",
       "      <td>8.3</td>\n",
       "      <td>E</td>\n",
       "    </tr>\n",
       "    <tr>\n",
       "      <th>3</th>\n",
       "      <td>Wii Sports Resort</td>\n",
       "      <td>Wii</td>\n",
       "      <td>2009.0</td>\n",
       "      <td>Sports</td>\n",
       "      <td>15.61</td>\n",
       "      <td>10.93</td>\n",
       "      <td>3.28</td>\n",
       "      <td>2.95</td>\n",
       "      <td>80.0</td>\n",
       "      <td>8</td>\n",
       "      <td>E</td>\n",
       "    </tr>\n",
       "    <tr>\n",
       "      <th>4</th>\n",
       "      <td>Pokemon Red/Pokemon Blue</td>\n",
       "      <td>GB</td>\n",
       "      <td>1996.0</td>\n",
       "      <td>Role-Playing</td>\n",
       "      <td>11.27</td>\n",
       "      <td>8.89</td>\n",
       "      <td>10.22</td>\n",
       "      <td>1.00</td>\n",
       "      <td>NaN</td>\n",
       "      <td>NaN</td>\n",
       "      <td>NaN</td>\n",
       "    </tr>\n",
       "    <tr>\n",
       "      <th>...</th>\n",
       "      <td>...</td>\n",
       "      <td>...</td>\n",
       "      <td>...</td>\n",
       "      <td>...</td>\n",
       "      <td>...</td>\n",
       "      <td>...</td>\n",
       "      <td>...</td>\n",
       "      <td>...</td>\n",
       "      <td>...</td>\n",
       "      <td>...</td>\n",
       "      <td>...</td>\n",
       "    </tr>\n",
       "    <tr>\n",
       "      <th>16710</th>\n",
       "      <td>Samurai Warriors: Sanada Maru</td>\n",
       "      <td>PS3</td>\n",
       "      <td>2016.0</td>\n",
       "      <td>Action</td>\n",
       "      <td>0.00</td>\n",
       "      <td>0.00</td>\n",
       "      <td>0.01</td>\n",
       "      <td>0.00</td>\n",
       "      <td>NaN</td>\n",
       "      <td>NaN</td>\n",
       "      <td>NaN</td>\n",
       "    </tr>\n",
       "    <tr>\n",
       "      <th>16711</th>\n",
       "      <td>LMA Manager 2007</td>\n",
       "      <td>X360</td>\n",
       "      <td>2006.0</td>\n",
       "      <td>Sports</td>\n",
       "      <td>0.00</td>\n",
       "      <td>0.01</td>\n",
       "      <td>0.00</td>\n",
       "      <td>0.00</td>\n",
       "      <td>NaN</td>\n",
       "      <td>NaN</td>\n",
       "      <td>NaN</td>\n",
       "    </tr>\n",
       "    <tr>\n",
       "      <th>16712</th>\n",
       "      <td>Haitaka no Psychedelica</td>\n",
       "      <td>PSV</td>\n",
       "      <td>2016.0</td>\n",
       "      <td>Adventure</td>\n",
       "      <td>0.00</td>\n",
       "      <td>0.00</td>\n",
       "      <td>0.01</td>\n",
       "      <td>0.00</td>\n",
       "      <td>NaN</td>\n",
       "      <td>NaN</td>\n",
       "      <td>NaN</td>\n",
       "    </tr>\n",
       "    <tr>\n",
       "      <th>16713</th>\n",
       "      <td>Spirits &amp; Spells</td>\n",
       "      <td>GBA</td>\n",
       "      <td>2003.0</td>\n",
       "      <td>Platform</td>\n",
       "      <td>0.01</td>\n",
       "      <td>0.00</td>\n",
       "      <td>0.00</td>\n",
       "      <td>0.00</td>\n",
       "      <td>NaN</td>\n",
       "      <td>NaN</td>\n",
       "      <td>NaN</td>\n",
       "    </tr>\n",
       "    <tr>\n",
       "      <th>16714</th>\n",
       "      <td>Winning Post 8 2016</td>\n",
       "      <td>PSV</td>\n",
       "      <td>2016.0</td>\n",
       "      <td>Simulation</td>\n",
       "      <td>0.00</td>\n",
       "      <td>0.00</td>\n",
       "      <td>0.01</td>\n",
       "      <td>0.00</td>\n",
       "      <td>NaN</td>\n",
       "      <td>NaN</td>\n",
       "      <td>NaN</td>\n",
       "    </tr>\n",
       "  </tbody>\n",
       "</table>\n",
       "<p>16715 rows × 11 columns</p>\n",
       "</div>\n",
       "      <button class=\"colab-df-convert\" onclick=\"convertToInteractive('df-b76abe3e-18b2-4660-a03d-74fc2567e6db')\"\n",
       "              title=\"Convert this dataframe to an interactive table.\"\n",
       "              style=\"display:none;\">\n",
       "        \n",
       "  <svg xmlns=\"http://www.w3.org/2000/svg\" height=\"24px\"viewBox=\"0 0 24 24\"\n",
       "       width=\"24px\">\n",
       "    <path d=\"M0 0h24v24H0V0z\" fill=\"none\"/>\n",
       "    <path d=\"M18.56 5.44l.94 2.06.94-2.06 2.06-.94-2.06-.94-.94-2.06-.94 2.06-2.06.94zm-11 1L8.5 8.5l.94-2.06 2.06-.94-2.06-.94L8.5 2.5l-.94 2.06-2.06.94zm10 10l.94 2.06.94-2.06 2.06-.94-2.06-.94-.94-2.06-.94 2.06-2.06.94z\"/><path d=\"M17.41 7.96l-1.37-1.37c-.4-.4-.92-.59-1.43-.59-.52 0-1.04.2-1.43.59L10.3 9.45l-7.72 7.72c-.78.78-.78 2.05 0 2.83L4 21.41c.39.39.9.59 1.41.59.51 0 1.02-.2 1.41-.59l7.78-7.78 2.81-2.81c.8-.78.8-2.07 0-2.86zM5.41 20L4 18.59l7.72-7.72 1.47 1.35L5.41 20z\"/>\n",
       "  </svg>\n",
       "      </button>\n",
       "      \n",
       "  <style>\n",
       "    .colab-df-container {\n",
       "      display:flex;\n",
       "      flex-wrap:wrap;\n",
       "      gap: 12px;\n",
       "    }\n",
       "\n",
       "    .colab-df-convert {\n",
       "      background-color: #E8F0FE;\n",
       "      border: none;\n",
       "      border-radius: 50%;\n",
       "      cursor: pointer;\n",
       "      display: none;\n",
       "      fill: #1967D2;\n",
       "      height: 32px;\n",
       "      padding: 0 0 0 0;\n",
       "      width: 32px;\n",
       "    }\n",
       "\n",
       "    .colab-df-convert:hover {\n",
       "      background-color: #E2EBFA;\n",
       "      box-shadow: 0px 1px 2px rgba(60, 64, 67, 0.3), 0px 1px 3px 1px rgba(60, 64, 67, 0.15);\n",
       "      fill: #174EA6;\n",
       "    }\n",
       "\n",
       "    [theme=dark] .colab-df-convert {\n",
       "      background-color: #3B4455;\n",
       "      fill: #D2E3FC;\n",
       "    }\n",
       "\n",
       "    [theme=dark] .colab-df-convert:hover {\n",
       "      background-color: #434B5C;\n",
       "      box-shadow: 0px 1px 3px 1px rgba(0, 0, 0, 0.15);\n",
       "      filter: drop-shadow(0px 1px 2px rgba(0, 0, 0, 0.3));\n",
       "      fill: #FFFFFF;\n",
       "    }\n",
       "  </style>\n",
       "\n",
       "      <script>\n",
       "        const buttonEl =\n",
       "          document.querySelector('#df-b76abe3e-18b2-4660-a03d-74fc2567e6db button.colab-df-convert');\n",
       "        buttonEl.style.display =\n",
       "          google.colab.kernel.accessAllowed ? 'block' : 'none';\n",
       "\n",
       "        async function convertToInteractive(key) {\n",
       "          const element = document.querySelector('#df-b76abe3e-18b2-4660-a03d-74fc2567e6db');\n",
       "          const dataTable =\n",
       "            await google.colab.kernel.invokeFunction('convertToInteractive',\n",
       "                                                     [key], {});\n",
       "          if (!dataTable) return;\n",
       "\n",
       "          const docLinkHtml = 'Like what you see? Visit the ' +\n",
       "            '<a target=\"_blank\" href=https://colab.research.google.com/notebooks/data_table.ipynb>data table notebook</a>'\n",
       "            + ' to learn more about interactive tables.';\n",
       "          element.innerHTML = '';\n",
       "          dataTable['output_type'] = 'display_data';\n",
       "          await google.colab.output.renderOutput(dataTable, element);\n",
       "          const docLink = document.createElement('div');\n",
       "          docLink.innerHTML = docLinkHtml;\n",
       "          element.appendChild(docLink);\n",
       "        }\n",
       "      </script>\n",
       "    </div>\n",
       "  </div>\n",
       "  "
      ],
      "text/plain": [
       "                                Name Platform  Year_of_Release         Genre  \\\n",
       "0                         Wii Sports      Wii           2006.0        Sports   \n",
       "1                  Super Mario Bros.      NES           1985.0      Platform   \n",
       "2                     Mario Kart Wii      Wii           2008.0        Racing   \n",
       "3                  Wii Sports Resort      Wii           2009.0        Sports   \n",
       "4           Pokemon Red/Pokemon Blue       GB           1996.0  Role-Playing   \n",
       "...                              ...      ...              ...           ...   \n",
       "16710  Samurai Warriors: Sanada Maru      PS3           2016.0        Action   \n",
       "16711               LMA Manager 2007     X360           2006.0        Sports   \n",
       "16712        Haitaka no Psychedelica      PSV           2016.0     Adventure   \n",
       "16713               Spirits & Spells      GBA           2003.0      Platform   \n",
       "16714            Winning Post 8 2016      PSV           2016.0    Simulation   \n",
       "\n",
       "       NA_sales  EU_sales  JP_sales  Other_sales  Critic_Score User_Score  \\\n",
       "0         41.36     28.96      3.77         8.45          76.0          8   \n",
       "1         29.08      3.58      6.81         0.77           NaN        NaN   \n",
       "2         15.68     12.76      3.79         3.29          82.0        8.3   \n",
       "3         15.61     10.93      3.28         2.95          80.0          8   \n",
       "4         11.27      8.89     10.22         1.00           NaN        NaN   \n",
       "...         ...       ...       ...          ...           ...        ...   \n",
       "16710      0.00      0.00      0.01         0.00           NaN        NaN   \n",
       "16711      0.00      0.01      0.00         0.00           NaN        NaN   \n",
       "16712      0.00      0.00      0.01         0.00           NaN        NaN   \n",
       "16713      0.01      0.00      0.00         0.00           NaN        NaN   \n",
       "16714      0.00      0.00      0.01         0.00           NaN        NaN   \n",
       "\n",
       "      Rating  \n",
       "0          E  \n",
       "1        NaN  \n",
       "2          E  \n",
       "3          E  \n",
       "4        NaN  \n",
       "...      ...  \n",
       "16710    NaN  \n",
       "16711    NaN  \n",
       "16712    NaN  \n",
       "16713    NaN  \n",
       "16714    NaN  \n",
       "\n",
       "[16715 rows x 11 columns]"
      ]
     },
     "execution_count": 2,
     "metadata": {},
     "output_type": "execute_result"
    }
   ],
   "source": [
    "df = pd.read_csv('./games.csv')\n",
    "df.info()\n",
    "df"
   ]
  },
  {
   "cell_type": "markdown",
   "id": "ca3f0207",
   "metadata": {
    "id": "ca3f0207"
   },
   "source": [
    "- name — название игры\n",
    "- platform — платформа\n",
    "- year_of_release — год выпуска\n",
    "- genre — жанр игры\n",
    "- na_sales — продажи в Северной Америке (миллионы проданных копий)\n",
    "- eu_sales — продажи в Европе (миллионы проданных копий)\n",
    "- jp_sales — продажи в Японии (миллионы проданных копий)\n",
    "- other_sales — продажи в других странах (миллионы проданных копий)\n",
    "- critic_score — оценка критиков (максимум 100)\n",
    "- user_score — оценка пользователей (максимум 10)\n",
    "- rating — рейтинг от организации ESRB (англ. Entertainment Software Rating Board). Эта ассоциация определяет рейтинг компьютерных игр и присваивает им подходящую возрастную категорию."
   ]
  },
  {
   "cell_type": "markdown",
   "id": "63001e91",
   "metadata": {
    "id": "63001e91"
   },
   "source": [
    "Исходные данные представляют из себя одну таблицу, состоящую из 11 столбцов. В некоторых из них есть пропуски, но далеко не от всех получится избавиться - пропуски в столбцах с оценками и рейтингом не получится заменить или удалить без потери важных данных. Зато, например, в столбцах name и genre отсутствует всего по 2 значения. Возможно, эти значения отсутствуют в одних и тех же строках. У нескольких столбцов некорректный тип данных, например у year_of_release тип float вместо int, а у user_score - object вместо float. Сами названия столбцов написаны с большой буквы - нужно будет привести всё к одному регистру."
   ]
  },
  {
   "cell_type": "markdown",
   "id": "8b08b2d4",
   "metadata": {
    "id": "8b08b2d4"
   },
   "source": [
    "## Предобработка данных"
   ]
  },
  {
   "cell_type": "markdown",
   "id": "a3bf3f01",
   "metadata": {
    "id": "a3bf3f01"
   },
   "source": [
    "### Приведение к одному регистру "
   ]
  },
  {
   "cell_type": "markdown",
   "id": "88c8ee0c",
   "metadata": {
    "id": "88c8ee0c"
   },
   "source": [
    "Подготовку данных начнём с того, что приведём все названия столбцов к нижнему регистру:"
   ]
  },
  {
   "cell_type": "code",
   "execution_count": 3,
   "id": "4413cc10",
   "metadata": {
    "colab": {
     "base_uri": "https://localhost:8080/",
     "height": 143
    },
    "id": "4413cc10",
    "outputId": "09a3c962-307b-4738-90d2-3074904604e2",
    "scrolled": true
   },
   "outputs": [
    {
     "data": {
      "text/html": [
       "\n",
       "  <div id=\"df-8561f8df-d488-4f98-b316-5204a10b5a0e\">\n",
       "    <div class=\"colab-df-container\">\n",
       "      <div>\n",
       "<style scoped>\n",
       "    .dataframe tbody tr th:only-of-type {\n",
       "        vertical-align: middle;\n",
       "    }\n",
       "\n",
       "    .dataframe tbody tr th {\n",
       "        vertical-align: top;\n",
       "    }\n",
       "\n",
       "    .dataframe thead th {\n",
       "        text-align: right;\n",
       "    }\n",
       "</style>\n",
       "<table border=\"1\" class=\"dataframe\">\n",
       "  <thead>\n",
       "    <tr style=\"text-align: right;\">\n",
       "      <th></th>\n",
       "      <th>name</th>\n",
       "      <th>platform</th>\n",
       "      <th>year_of_release</th>\n",
       "      <th>genre</th>\n",
       "      <th>na_sales</th>\n",
       "      <th>eu_sales</th>\n",
       "      <th>jp_sales</th>\n",
       "      <th>other_sales</th>\n",
       "      <th>critic_score</th>\n",
       "      <th>user_score</th>\n",
       "      <th>rating</th>\n",
       "    </tr>\n",
       "  </thead>\n",
       "  <tbody>\n",
       "    <tr>\n",
       "      <th>0</th>\n",
       "      <td>Wii Sports</td>\n",
       "      <td>Wii</td>\n",
       "      <td>2006.0</td>\n",
       "      <td>Sports</td>\n",
       "      <td>41.36</td>\n",
       "      <td>28.96</td>\n",
       "      <td>3.77</td>\n",
       "      <td>8.45</td>\n",
       "      <td>76.0</td>\n",
       "      <td>8</td>\n",
       "      <td>E</td>\n",
       "    </tr>\n",
       "    <tr>\n",
       "      <th>1</th>\n",
       "      <td>Super Mario Bros.</td>\n",
       "      <td>NES</td>\n",
       "      <td>1985.0</td>\n",
       "      <td>Platform</td>\n",
       "      <td>29.08</td>\n",
       "      <td>3.58</td>\n",
       "      <td>6.81</td>\n",
       "      <td>0.77</td>\n",
       "      <td>NaN</td>\n",
       "      <td>NaN</td>\n",
       "      <td>NaN</td>\n",
       "    </tr>\n",
       "    <tr>\n",
       "      <th>2</th>\n",
       "      <td>Mario Kart Wii</td>\n",
       "      <td>Wii</td>\n",
       "      <td>2008.0</td>\n",
       "      <td>Racing</td>\n",
       "      <td>15.68</td>\n",
       "      <td>12.76</td>\n",
       "      <td>3.79</td>\n",
       "      <td>3.29</td>\n",
       "      <td>82.0</td>\n",
       "      <td>8.3</td>\n",
       "      <td>E</td>\n",
       "    </tr>\n",
       "  </tbody>\n",
       "</table>\n",
       "</div>\n",
       "      <button class=\"colab-df-convert\" onclick=\"convertToInteractive('df-8561f8df-d488-4f98-b316-5204a10b5a0e')\"\n",
       "              title=\"Convert this dataframe to an interactive table.\"\n",
       "              style=\"display:none;\">\n",
       "        \n",
       "  <svg xmlns=\"http://www.w3.org/2000/svg\" height=\"24px\"viewBox=\"0 0 24 24\"\n",
       "       width=\"24px\">\n",
       "    <path d=\"M0 0h24v24H0V0z\" fill=\"none\"/>\n",
       "    <path d=\"M18.56 5.44l.94 2.06.94-2.06 2.06-.94-2.06-.94-.94-2.06-.94 2.06-2.06.94zm-11 1L8.5 8.5l.94-2.06 2.06-.94-2.06-.94L8.5 2.5l-.94 2.06-2.06.94zm10 10l.94 2.06.94-2.06 2.06-.94-2.06-.94-.94-2.06-.94 2.06-2.06.94z\"/><path d=\"M17.41 7.96l-1.37-1.37c-.4-.4-.92-.59-1.43-.59-.52 0-1.04.2-1.43.59L10.3 9.45l-7.72 7.72c-.78.78-.78 2.05 0 2.83L4 21.41c.39.39.9.59 1.41.59.51 0 1.02-.2 1.41-.59l7.78-7.78 2.81-2.81c.8-.78.8-2.07 0-2.86zM5.41 20L4 18.59l7.72-7.72 1.47 1.35L5.41 20z\"/>\n",
       "  </svg>\n",
       "      </button>\n",
       "      \n",
       "  <style>\n",
       "    .colab-df-container {\n",
       "      display:flex;\n",
       "      flex-wrap:wrap;\n",
       "      gap: 12px;\n",
       "    }\n",
       "\n",
       "    .colab-df-convert {\n",
       "      background-color: #E8F0FE;\n",
       "      border: none;\n",
       "      border-radius: 50%;\n",
       "      cursor: pointer;\n",
       "      display: none;\n",
       "      fill: #1967D2;\n",
       "      height: 32px;\n",
       "      padding: 0 0 0 0;\n",
       "      width: 32px;\n",
       "    }\n",
       "\n",
       "    .colab-df-convert:hover {\n",
       "      background-color: #E2EBFA;\n",
       "      box-shadow: 0px 1px 2px rgba(60, 64, 67, 0.3), 0px 1px 3px 1px rgba(60, 64, 67, 0.15);\n",
       "      fill: #174EA6;\n",
       "    }\n",
       "\n",
       "    [theme=dark] .colab-df-convert {\n",
       "      background-color: #3B4455;\n",
       "      fill: #D2E3FC;\n",
       "    }\n",
       "\n",
       "    [theme=dark] .colab-df-convert:hover {\n",
       "      background-color: #434B5C;\n",
       "      box-shadow: 0px 1px 3px 1px rgba(0, 0, 0, 0.15);\n",
       "      filter: drop-shadow(0px 1px 2px rgba(0, 0, 0, 0.3));\n",
       "      fill: #FFFFFF;\n",
       "    }\n",
       "  </style>\n",
       "\n",
       "      <script>\n",
       "        const buttonEl =\n",
       "          document.querySelector('#df-8561f8df-d488-4f98-b316-5204a10b5a0e button.colab-df-convert');\n",
       "        buttonEl.style.display =\n",
       "          google.colab.kernel.accessAllowed ? 'block' : 'none';\n",
       "\n",
       "        async function convertToInteractive(key) {\n",
       "          const element = document.querySelector('#df-8561f8df-d488-4f98-b316-5204a10b5a0e');\n",
       "          const dataTable =\n",
       "            await google.colab.kernel.invokeFunction('convertToInteractive',\n",
       "                                                     [key], {});\n",
       "          if (!dataTable) return;\n",
       "\n",
       "          const docLinkHtml = 'Like what you see? Visit the ' +\n",
       "            '<a target=\"_blank\" href=https://colab.research.google.com/notebooks/data_table.ipynb>data table notebook</a>'\n",
       "            + ' to learn more about interactive tables.';\n",
       "          element.innerHTML = '';\n",
       "          dataTable['output_type'] = 'display_data';\n",
       "          await google.colab.output.renderOutput(dataTable, element);\n",
       "          const docLink = document.createElement('div');\n",
       "          docLink.innerHTML = docLinkHtml;\n",
       "          element.appendChild(docLink);\n",
       "        }\n",
       "      </script>\n",
       "    </div>\n",
       "  </div>\n",
       "  "
      ],
      "text/plain": [
       "                name platform  year_of_release     genre  na_sales  eu_sales  \\\n",
       "0         Wii Sports      Wii           2006.0    Sports     41.36     28.96   \n",
       "1  Super Mario Bros.      NES           1985.0  Platform     29.08      3.58   \n",
       "2     Mario Kart Wii      Wii           2008.0    Racing     15.68     12.76   \n",
       "\n",
       "   jp_sales  other_sales  critic_score user_score rating  \n",
       "0      3.77         8.45          76.0          8      E  \n",
       "1      6.81         0.77           NaN        NaN    NaN  \n",
       "2      3.79         3.29          82.0        8.3      E  "
      ]
     },
     "execution_count": 3,
     "metadata": {},
     "output_type": "execute_result"
    }
   ],
   "source": [
    "df.columns = df.columns.str.lower()\n",
    "df.head(3)"
   ]
  },
  {
   "cell_type": "markdown",
   "id": "79b7453c",
   "metadata": {
    "id": "79b7453c"
   },
   "source": [
    "### Обработка пропусков "
   ]
  },
  {
   "cell_type": "markdown",
   "id": "6c87e8c8",
   "metadata": {
    "id": "6c87e8c8"
   },
   "source": [
    "В первом взгляде на предоставленные данные мы говорили, что в столбцах name и genre отсутствует по два значения. Вполне может быть, что это одни и те же строки. Проверим:"
   ]
  },
  {
   "cell_type": "code",
   "execution_count": 4,
   "id": "6cc7e041",
   "metadata": {
    "colab": {
     "base_uri": "https://localhost:8080/",
     "height": 112
    },
    "id": "6cc7e041",
    "outputId": "55454dbb-c4e9-49ed-cbd5-7785d4ba8662"
   },
   "outputs": [
    {
     "data": {
      "text/html": [
       "\n",
       "  <div id=\"df-de9743e1-f025-4290-b280-36e0e2fca549\">\n",
       "    <div class=\"colab-df-container\">\n",
       "      <div>\n",
       "<style scoped>\n",
       "    .dataframe tbody tr th:only-of-type {\n",
       "        vertical-align: middle;\n",
       "    }\n",
       "\n",
       "    .dataframe tbody tr th {\n",
       "        vertical-align: top;\n",
       "    }\n",
       "\n",
       "    .dataframe thead th {\n",
       "        text-align: right;\n",
       "    }\n",
       "</style>\n",
       "<table border=\"1\" class=\"dataframe\">\n",
       "  <thead>\n",
       "    <tr style=\"text-align: right;\">\n",
       "      <th></th>\n",
       "      <th>name</th>\n",
       "      <th>platform</th>\n",
       "      <th>year_of_release</th>\n",
       "      <th>genre</th>\n",
       "      <th>na_sales</th>\n",
       "      <th>eu_sales</th>\n",
       "      <th>jp_sales</th>\n",
       "      <th>other_sales</th>\n",
       "      <th>critic_score</th>\n",
       "      <th>user_score</th>\n",
       "      <th>rating</th>\n",
       "    </tr>\n",
       "  </thead>\n",
       "  <tbody>\n",
       "    <tr>\n",
       "      <th>659</th>\n",
       "      <td>NaN</td>\n",
       "      <td>GEN</td>\n",
       "      <td>1993.0</td>\n",
       "      <td>NaN</td>\n",
       "      <td>1.78</td>\n",
       "      <td>0.53</td>\n",
       "      <td>0.00</td>\n",
       "      <td>0.08</td>\n",
       "      <td>NaN</td>\n",
       "      <td>NaN</td>\n",
       "      <td>NaN</td>\n",
       "    </tr>\n",
       "    <tr>\n",
       "      <th>14244</th>\n",
       "      <td>NaN</td>\n",
       "      <td>GEN</td>\n",
       "      <td>1993.0</td>\n",
       "      <td>NaN</td>\n",
       "      <td>0.00</td>\n",
       "      <td>0.00</td>\n",
       "      <td>0.03</td>\n",
       "      <td>0.00</td>\n",
       "      <td>NaN</td>\n",
       "      <td>NaN</td>\n",
       "      <td>NaN</td>\n",
       "    </tr>\n",
       "  </tbody>\n",
       "</table>\n",
       "</div>\n",
       "      <button class=\"colab-df-convert\" onclick=\"convertToInteractive('df-de9743e1-f025-4290-b280-36e0e2fca549')\"\n",
       "              title=\"Convert this dataframe to an interactive table.\"\n",
       "              style=\"display:none;\">\n",
       "        \n",
       "  <svg xmlns=\"http://www.w3.org/2000/svg\" height=\"24px\"viewBox=\"0 0 24 24\"\n",
       "       width=\"24px\">\n",
       "    <path d=\"M0 0h24v24H0V0z\" fill=\"none\"/>\n",
       "    <path d=\"M18.56 5.44l.94 2.06.94-2.06 2.06-.94-2.06-.94-.94-2.06-.94 2.06-2.06.94zm-11 1L8.5 8.5l.94-2.06 2.06-.94-2.06-.94L8.5 2.5l-.94 2.06-2.06.94zm10 10l.94 2.06.94-2.06 2.06-.94-2.06-.94-.94-2.06-.94 2.06-2.06.94z\"/><path d=\"M17.41 7.96l-1.37-1.37c-.4-.4-.92-.59-1.43-.59-.52 0-1.04.2-1.43.59L10.3 9.45l-7.72 7.72c-.78.78-.78 2.05 0 2.83L4 21.41c.39.39.9.59 1.41.59.51 0 1.02-.2 1.41-.59l7.78-7.78 2.81-2.81c.8-.78.8-2.07 0-2.86zM5.41 20L4 18.59l7.72-7.72 1.47 1.35L5.41 20z\"/>\n",
       "  </svg>\n",
       "      </button>\n",
       "      \n",
       "  <style>\n",
       "    .colab-df-container {\n",
       "      display:flex;\n",
       "      flex-wrap:wrap;\n",
       "      gap: 12px;\n",
       "    }\n",
       "\n",
       "    .colab-df-convert {\n",
       "      background-color: #E8F0FE;\n",
       "      border: none;\n",
       "      border-radius: 50%;\n",
       "      cursor: pointer;\n",
       "      display: none;\n",
       "      fill: #1967D2;\n",
       "      height: 32px;\n",
       "      padding: 0 0 0 0;\n",
       "      width: 32px;\n",
       "    }\n",
       "\n",
       "    .colab-df-convert:hover {\n",
       "      background-color: #E2EBFA;\n",
       "      box-shadow: 0px 1px 2px rgba(60, 64, 67, 0.3), 0px 1px 3px 1px rgba(60, 64, 67, 0.15);\n",
       "      fill: #174EA6;\n",
       "    }\n",
       "\n",
       "    [theme=dark] .colab-df-convert {\n",
       "      background-color: #3B4455;\n",
       "      fill: #D2E3FC;\n",
       "    }\n",
       "\n",
       "    [theme=dark] .colab-df-convert:hover {\n",
       "      background-color: #434B5C;\n",
       "      box-shadow: 0px 1px 3px 1px rgba(0, 0, 0, 0.15);\n",
       "      filter: drop-shadow(0px 1px 2px rgba(0, 0, 0, 0.3));\n",
       "      fill: #FFFFFF;\n",
       "    }\n",
       "  </style>\n",
       "\n",
       "      <script>\n",
       "        const buttonEl =\n",
       "          document.querySelector('#df-de9743e1-f025-4290-b280-36e0e2fca549 button.colab-df-convert');\n",
       "        buttonEl.style.display =\n",
       "          google.colab.kernel.accessAllowed ? 'block' : 'none';\n",
       "\n",
       "        async function convertToInteractive(key) {\n",
       "          const element = document.querySelector('#df-de9743e1-f025-4290-b280-36e0e2fca549');\n",
       "          const dataTable =\n",
       "            await google.colab.kernel.invokeFunction('convertToInteractive',\n",
       "                                                     [key], {});\n",
       "          if (!dataTable) return;\n",
       "\n",
       "          const docLinkHtml = 'Like what you see? Visit the ' +\n",
       "            '<a target=\"_blank\" href=https://colab.research.google.com/notebooks/data_table.ipynb>data table notebook</a>'\n",
       "            + ' to learn more about interactive tables.';\n",
       "          element.innerHTML = '';\n",
       "          dataTable['output_type'] = 'display_data';\n",
       "          await google.colab.output.renderOutput(dataTable, element);\n",
       "          const docLink = document.createElement('div');\n",
       "          docLink.innerHTML = docLinkHtml;\n",
       "          element.appendChild(docLink);\n",
       "        }\n",
       "      </script>\n",
       "    </div>\n",
       "  </div>\n",
       "  "
      ],
      "text/plain": [
       "      name platform  year_of_release genre  na_sales  eu_sales  jp_sales  \\\n",
       "659    NaN      GEN           1993.0   NaN      1.78      0.53      0.00   \n",
       "14244  NaN      GEN           1993.0   NaN      0.00      0.00      0.03   \n",
       "\n",
       "       other_sales  critic_score user_score rating  \n",
       "659           0.08           NaN        NaN    NaN  \n",
       "14244         0.00           NaN        NaN    NaN  "
      ]
     },
     "execution_count": 4,
     "metadata": {},
     "output_type": "execute_result"
    }
   ],
   "source": [
    "df[df['name'].isna()]"
   ]
  },
  {
   "cell_type": "markdown",
   "id": "071b3495",
   "metadata": {
    "id": "071b3495"
   },
   "source": [
    "Предположение оказалось верным, название и жанр игр действительно пропущены в одних и тех же строках. Поскольку таких строк всего две, и это не единственные пропущенные в них значения, мы можем смело от них избавиться:"
   ]
  },
  {
   "cell_type": "code",
   "execution_count": 5,
   "id": "507a4e61",
   "metadata": {
    "colab": {
     "base_uri": "https://localhost:8080/"
    },
    "id": "507a4e61",
    "outputId": "caf5834a-cfd9-414a-ed78-ddb47da2a29f"
   },
   "outputs": [
    {
     "name": "stdout",
     "output_type": "stream",
     "text": [
      "<class 'pandas.core.frame.DataFrame'>\n",
      "Int64Index: 16713 entries, 0 to 16714\n",
      "Data columns (total 11 columns):\n",
      " #   Column           Non-Null Count  Dtype  \n",
      "---  ------           --------------  -----  \n",
      " 0   name             16713 non-null  object \n",
      " 1   platform         16713 non-null  object \n",
      " 2   year_of_release  16444 non-null  float64\n",
      " 3   genre            16713 non-null  object \n",
      " 4   na_sales         16713 non-null  float64\n",
      " 5   eu_sales         16713 non-null  float64\n",
      " 6   jp_sales         16713 non-null  float64\n",
      " 7   other_sales      16713 non-null  float64\n",
      " 8   critic_score     8137 non-null   float64\n",
      " 9   user_score       10014 non-null  object \n",
      " 10  rating           9949 non-null   object \n",
      "dtypes: float64(6), object(5)\n",
      "memory usage: 1.5+ MB\n"
     ]
    }
   ],
   "source": [
    "df.dropna(subset=['name'], inplace=True)\n",
    "df.info()"
   ]
  },
  {
   "cell_type": "markdown",
   "id": "33248a71",
   "metadata": {
    "id": "33248a71"
   },
   "source": [
    "Следующий по порядку столбец с пропущенными значениями - year_of_release, в нём осталось 269 пропусков. Год релиза игры - важный параметр для нашего исследования, без него не получится определить актуальность игры. Так что от этих строк нам тоже придётся отказаться, а заодно переведём тип столбца в целочисленный:"
   ]
  },
  {
   "cell_type": "code",
   "execution_count": 6,
   "id": "6696dbf9",
   "metadata": {
    "colab": {
     "base_uri": "https://localhost:8080/"
    },
    "id": "6696dbf9",
    "outputId": "ce9dae5d-fb0f-4916-baee-4e19d6163a23"
   },
   "outputs": [
    {
     "name": "stdout",
     "output_type": "stream",
     "text": [
      "<class 'pandas.core.frame.DataFrame'>\n",
      "RangeIndex: 16444 entries, 0 to 16443\n",
      "Data columns (total 11 columns):\n",
      " #   Column           Non-Null Count  Dtype  \n",
      "---  ------           --------------  -----  \n",
      " 0   name             16444 non-null  object \n",
      " 1   platform         16444 non-null  object \n",
      " 2   year_of_release  16444 non-null  int64  \n",
      " 3   genre            16444 non-null  object \n",
      " 4   na_sales         16444 non-null  float64\n",
      " 5   eu_sales         16444 non-null  float64\n",
      " 6   jp_sales         16444 non-null  float64\n",
      " 7   other_sales      16444 non-null  float64\n",
      " 8   critic_score     7983 non-null   float64\n",
      " 9   user_score       9839 non-null   object \n",
      " 10  rating           9768 non-null   object \n",
      "dtypes: float64(5), int64(1), object(5)\n",
      "memory usage: 1.4+ MB\n"
     ]
    }
   ],
   "source": [
    "df.dropna(subset=['year_of_release'], inplace=True)\n",
    "df = df.reset_index(drop=True)\n",
    "df['year_of_release'] = df['year_of_release'].astype('int64')\n",
    "df.info()"
   ]
  },
  {
   "cell_type": "markdown",
   "id": "73a97388",
   "metadata": {
    "id": "73a97388"
   },
   "source": [
    "На этом пропущенные значения в таблице не закончились, ещё довольно много пропусков в столбцах с различными видами рейтингов. Рейтинг, конечно, тоже важен, но терять все остальные значения ради него одного мы не можем. Прежде чем оставить эти столбцы без изменений, сначала посмотрим, что в них."
   ]
  },
  {
   "cell_type": "code",
   "execution_count": 7,
   "id": "9c5ecbcc",
   "metadata": {
    "colab": {
     "base_uri": "https://localhost:8080/",
     "height": 281
    },
    "id": "9c5ecbcc",
    "outputId": "72987868-870f-463b-dc3f-634caac912ba"
   },
   "outputs": [
    {
     "data": {
      "image/png": "[encoded data removed]",
      "text/plain": [
       "<Figure size 432x288 with 1 Axes>"
      ]
     },
     "metadata": {
      "needs_background": "light"
     },
     "output_type": "display_data"
    }
   ],
   "source": [
    "df['critic_score'].plot(kind='hist', bins=30, title='Гистограмма по оценкам критиков')\n",
    "plt.show()"
   ]
  },
  {
   "cell_type": "markdown",
   "id": "ace7dbf0",
   "metadata": {
    "id": "ace7dbf0"
   },
   "source": [
    "Значения столбца с оценками критиков вполне адекватные, много значений выше половины, однако сильных аномалий не наблюдается."
   ]
  },
  {
   "cell_type": "markdown",
   "id": "e31a373b",
   "metadata": {
    "id": "e31a373b"
   },
   "source": [
    "Теперь оценки от пользователей. Мы уже обращали раньше внимание на то, что значения стобца user_score имеют тип данных object, хотя должен быть float. Это либо ошибка, либо в столбце есть не совсем подходящие значения. Давайте посмотрим на уникальные значения столбца: "
   ]
  },
  {
   "cell_type": "code",
   "execution_count": 8,
   "id": "ed978e9a",
   "metadata": {
    "colab": {
     "base_uri": "https://localhost:8080/"
    },
    "id": "ed978e9a",
    "outputId": "38430f20-7368-47eb-8776-6dbf8ed76059"
   },
   "outputs": [
    {
     "data": {
      "text/plain": [
       "tbd    2376\n",
       "7.8     322\n",
       "8       285\n",
       "8.2     276\n",
       "8.3     252\n",
       "       ... \n",
       "1.1       2\n",
       "1.9       2\n",
       "9.6       2\n",
       "0         1\n",
       "9.7       1\n",
       "Name: user_score, Length: 96, dtype: int64"
      ]
     },
     "execution_count": 8,
     "metadata": {},
     "output_type": "execute_result"
    }
   ],
   "source": [
    "df['user_score'].value_counts()"
   ]
  },
  {
   "cell_type": "markdown",
   "id": "f5598bfd",
   "metadata": {
    "id": "f5598bfd"
   },
   "source": [
    "Наиболее часто встречаемое значение оказалось вовсе не оценкой пользователей, а аббревиатурой tbd, что, скорее всего, расшифровывается как \"To Be Determined\". Это означает, что оценка игры появится чуть позже. Поскольку нам нужно работать с теми данными, которые есть на данный момент, для нас tbd означает отсутствие значения. Заменим эту аббревиатуру на более привычный nan, чтобы не было ограничений в работе со столбцом:"
   ]
  },
  {
   "cell_type": "code",
   "execution_count": 9,
   "id": "d21dba33",
   "metadata": {
    "colab": {
     "base_uri": "https://localhost:8080/"
    },
    "id": "d21dba33",
    "outputId": "d12d71a0-7bde-44a3-cf10-bf826fe7d3eb",
    "scrolled": true
   },
   "outputs": [
    {
     "data": {
      "text/plain": [
       "7.8    322\n",
       "8      285\n",
       "8.2    276\n",
       "8.3    252\n",
       "7.5    249\n",
       "      ... \n",
       "1.5      2\n",
       "0.3      2\n",
       "1.1      2\n",
       "0        1\n",
       "9.7      1\n",
       "Name: user_score, Length: 95, dtype: int64"
      ]
     },
     "execution_count": 9,
     "metadata": {},
     "output_type": "execute_result"
    }
   ],
   "source": [
    "df = df.where(df != 'tbd', np.NaN)\n",
    "df['user_score'].value_counts()"
   ]
  },
  {
   "cell_type": "code",
   "execution_count": 10,
   "id": "726bfa80",
   "metadata": {
    "colab": {
     "base_uri": "https://localhost:8080/"
    },
    "id": "726bfa80",
    "outputId": "bc443ba6-b4d8-4c7d-a010-db27e7ea4b33"
   },
   "outputs": [
    {
     "name": "stdout",
     "output_type": "stream",
     "text": [
      "<class 'pandas.core.frame.DataFrame'>\n",
      "RangeIndex: 16444 entries, 0 to 16443\n",
      "Data columns (total 11 columns):\n",
      " #   Column           Non-Null Count  Dtype  \n",
      "---  ------           --------------  -----  \n",
      " 0   name             16444 non-null  object \n",
      " 1   platform         16444 non-null  object \n",
      " 2   year_of_release  16444 non-null  int64  \n",
      " 3   genre            16444 non-null  object \n",
      " 4   na_sales         16444 non-null  float64\n",
      " 5   eu_sales         16444 non-null  float64\n",
      " 6   jp_sales         16444 non-null  float64\n",
      " 7   other_sales      16444 non-null  float64\n",
      " 8   critic_score     7983 non-null   float64\n",
      " 9   user_score       7463 non-null   object \n",
      " 10  rating           9768 non-null   object \n",
      "dtypes: float64(5), int64(1), object(5)\n",
      "memory usage: 1.4+ MB\n"
     ]
    }
   ],
   "source": [
    "df.info()"
   ]
  },
  {
   "cell_type": "markdown",
   "id": "980937e3",
   "metadata": {
    "id": "980937e3"
   },
   "source": [
    "Всё в порядке, в столбце стало на 2376 nan больше. Теперь можно повторно построить график значений столбца с оценками пользователей, дабы убедиться, что в нём нет аномалий. Но прежде чем построить гистограмму по оценкам от пользователей, сначала переведём тип данных во float, а также домножим все значения на 10. Таким образом мы из десятибалльной шкалы получим стобалльную, как у оценок от критиков."
   ]
  },
  {
   "cell_type": "code",
   "execution_count": 11,
   "id": "2ebc68a1",
   "metadata": {
    "colab": {
     "base_uri": "https://localhost:8080/",
     "height": 281
    },
    "id": "2ebc68a1",
    "outputId": "3fe1a102-d1ed-4812-e244-80f5f55dfe50"
   },
   "outputs": [
    {
     "data": {
      "image/png": "[encoded data removed]",
      "text/plain": [
       "<Figure size 432x288 with 1 Axes>"
      ]
     },
     "metadata": {
      "needs_background": "light"
     },
     "output_type": "display_data"
    }
   ],
   "source": [
    "df['user_score'] = df['user_score'].astype('float64') * 10\n",
    "df['user_score'].plot(kind='hist', bins=40, title='Гистограмма встречаемых оценок пользователей')\n",
    "plt.show()"
   ]
  },
  {
   "cell_type": "code",
   "execution_count": 12,
   "id": "SJbzysQCrgdA",
   "metadata": {
    "colab": {
     "base_uri": "https://localhost:8080/",
     "height": 265
    },
    "id": "SJbzysQCrgdA",
    "outputId": "9d0617c0-edab-43e2-9db8-fb9b249c3c0d"
   },
   "outputs": [
    {
     "data": {
      "image/png": "[encoded data removed]",
      "text/plain": [
       "<Figure size 432x288 with 1 Axes>"
      ]
     },
     "metadata": {
      "needs_background": "light"
     },
     "output_type": "display_data"
    }
   ],
   "source": [
    "df['rating'].hist(bins=30)\n",
    "plt.show()"
   ]
  },
  {
   "cell_type": "markdown",
   "id": "e7b1dbf3",
   "metadata": {
    "id": "e7b1dbf3"
   },
   "source": [
    "Последний столбец, rating, содержит в себе рейтинг, присвоенный этой игре организацией ESRB. Этот рейтинг определяет возрастную категорию лиц, на которую рассчитан цифровой контент. Судя по гистограмме, в нашем столбце 8 различных значений, половина из которых практически не встречается:"
   ]
  },
  {
   "cell_type": "code",
   "execution_count": 13,
   "id": "6750fad6",
   "metadata": {
    "colab": {
     "base_uri": "https://localhost:8080/"
    },
    "id": "6750fad6",
    "outputId": "79fe9264-fe7c-45fc-be26-bd43b6ee7b73"
   },
   "outputs": [
    {
     "data": {
      "text/plain": [
       "E       3921\n",
       "T       2905\n",
       "M       1536\n",
       "E10+    1393\n",
       "EC         8\n",
       "K-A        3\n",
       "AO         1\n",
       "RP         1\n",
       "Name: rating, dtype: int64"
      ]
     },
     "execution_count": 13,
     "metadata": {},
     "output_type": "execute_result"
    }
   ],
   "source": [
    "df['rating'].value_counts()"
   ]
  },
  {
   "cell_type": "markdown",
   "id": "ba8deaa3",
   "metadata": {
    "id": "ba8deaa3"
   },
   "source": [
    "4 категории встречаются сильно реже остальных: EC, K-A, AO и RP. Начнём с конца, с рейтинга RP. Если верить Википедии (https://clck.ru/Z4cpX), RP расшифровывается как \"Rating Pending\", или \"рейтинг ожидается\". Другими словами, это тоже самое, что и tpd, с которым мы разбирались только что. Не будем нарушать традицию, и заменим RP на nan:"
   ]
  },
  {
   "cell_type": "code",
   "execution_count": 14,
   "id": "cb5f2889",
   "metadata": {
    "colab": {
     "base_uri": "https://localhost:8080/",
     "height": 81
    },
    "id": "cb5f2889",
    "outputId": "259e14ab-2ce3-401a-f986-baac39be9bdd"
   },
   "outputs": [
    {
     "data": {
      "text/html": [
       "\n",
       "  <div id=\"df-7557c647-cc19-4231-9355-fafe4522f5e6\">\n",
       "    <div class=\"colab-df-container\">\n",
       "      <div>\n",
       "<style scoped>\n",
       "    .dataframe tbody tr th:only-of-type {\n",
       "        vertical-align: middle;\n",
       "    }\n",
       "\n",
       "    .dataframe tbody tr th {\n",
       "        vertical-align: top;\n",
       "    }\n",
       "\n",
       "    .dataframe thead th {\n",
       "        text-align: right;\n",
       "    }\n",
       "</style>\n",
       "<table border=\"1\" class=\"dataframe\">\n",
       "  <thead>\n",
       "    <tr style=\"text-align: right;\">\n",
       "      <th></th>\n",
       "      <th>name</th>\n",
       "      <th>platform</th>\n",
       "      <th>year_of_release</th>\n",
       "      <th>genre</th>\n",
       "      <th>na_sales</th>\n",
       "      <th>eu_sales</th>\n",
       "      <th>jp_sales</th>\n",
       "      <th>other_sales</th>\n",
       "      <th>critic_score</th>\n",
       "      <th>user_score</th>\n",
       "      <th>rating</th>\n",
       "    </tr>\n",
       "  </thead>\n",
       "  <tbody>\n",
       "    <tr>\n",
       "      <th>14045</th>\n",
       "      <td>Supreme Ruler: Cold War</td>\n",
       "      <td>PC</td>\n",
       "      <td>2011</td>\n",
       "      <td>Strategy</td>\n",
       "      <td>0.0</td>\n",
       "      <td>0.03</td>\n",
       "      <td>0.0</td>\n",
       "      <td>0.01</td>\n",
       "      <td>63.0</td>\n",
       "      <td>68.0</td>\n",
       "      <td>RP</td>\n",
       "    </tr>\n",
       "  </tbody>\n",
       "</table>\n",
       "</div>\n",
       "      <button class=\"colab-df-convert\" onclick=\"convertToInteractive('df-7557c647-cc19-4231-9355-fafe4522f5e6')\"\n",
       "              title=\"Convert this dataframe to an interactive table.\"\n",
       "              style=\"display:none;\">\n",
       "        \n",
       "  <svg xmlns=\"http://www.w3.org/2000/svg\" height=\"24px\"viewBox=\"0 0 24 24\"\n",
       "       width=\"24px\">\n",
       "    <path d=\"M0 0h24v24H0V0z\" fill=\"none\"/>\n",
       "    <path d=\"M18.56 5.44l.94 2.06.94-2.06 2.06-.94-2.06-.94-.94-2.06-.94 2.06-2.06.94zm-11 1L8.5 8.5l.94-2.06 2.06-.94-2.06-.94L8.5 2.5l-.94 2.06-2.06.94zm10 10l.94 2.06.94-2.06 2.06-.94-2.06-.94-.94-2.06-.94 2.06-2.06.94z\"/><path d=\"M17.41 7.96l-1.37-1.37c-.4-.4-.92-.59-1.43-.59-.52 0-1.04.2-1.43.59L10.3 9.45l-7.72 7.72c-.78.78-.78 2.05 0 2.83L4 21.41c.39.39.9.59 1.41.59.51 0 1.02-.2 1.41-.59l7.78-7.78 2.81-2.81c.8-.78.8-2.07 0-2.86zM5.41 20L4 18.59l7.72-7.72 1.47 1.35L5.41 20z\"/>\n",
       "  </svg>\n",
       "      </button>\n",
       "      \n",
       "  <style>\n",
       "    .colab-df-container {\n",
       "      display:flex;\n",
       "      flex-wrap:wrap;\n",
       "      gap: 12px;\n",
       "    }\n",
       "\n",
       "    .colab-df-convert {\n",
       "      background-color: #E8F0FE;\n",
       "      border: none;\n",
       "      border-radius: 50%;\n",
       "      cursor: pointer;\n",
       "      display: none;\n",
       "      fill: #1967D2;\n",
       "      height: 32px;\n",
       "      padding: 0 0 0 0;\n",
       "      width: 32px;\n",
       "    }\n",
       "\n",
       "    .colab-df-convert:hover {\n",
       "      background-color: #E2EBFA;\n",
       "      box-shadow: 0px 1px 2px rgba(60, 64, 67, 0.3), 0px 1px 3px 1px rgba(60, 64, 67, 0.15);\n",
       "      fill: #174EA6;\n",
       "    }\n",
       "\n",
       "    [theme=dark] .colab-df-convert {\n",
       "      background-color: #3B4455;\n",
       "      fill: #D2E3FC;\n",
       "    }\n",
       "\n",
       "    [theme=dark] .colab-df-convert:hover {\n",
       "      background-color: #434B5C;\n",
       "      box-shadow: 0px 1px 3px 1px rgba(0, 0, 0, 0.15);\n",
       "      filter: drop-shadow(0px 1px 2px rgba(0, 0, 0, 0.3));\n",
       "      fill: #FFFFFF;\n",
       "    }\n",
       "  </style>\n",
       "\n",
       "      <script>\n",
       "        const buttonEl =\n",
       "          document.querySelector('#df-7557c647-cc19-4231-9355-fafe4522f5e6 button.colab-df-convert');\n",
       "        buttonEl.style.display =\n",
       "          google.colab.kernel.accessAllowed ? 'block' : 'none';\n",
       "\n",
       "        async function convertToInteractive(key) {\n",
       "          const element = document.querySelector('#df-7557c647-cc19-4231-9355-fafe4522f5e6');\n",
       "          const dataTable =\n",
       "            await google.colab.kernel.invokeFunction('convertToInteractive',\n",
       "                                                     [key], {});\n",
       "          if (!dataTable) return;\n",
       "\n",
       "          const docLinkHtml = 'Like what you see? Visit the ' +\n",
       "            '<a target=\"_blank\" href=https://colab.research.google.com/notebooks/data_table.ipynb>data table notebook</a>'\n",
       "            + ' to learn more about interactive tables.';\n",
       "          element.innerHTML = '';\n",
       "          dataTable['output_type'] = 'display_data';\n",
       "          await google.colab.output.renderOutput(dataTable, element);\n",
       "          const docLink = document.createElement('div');\n",
       "          docLink.innerHTML = docLinkHtml;\n",
       "          element.appendChild(docLink);\n",
       "        }\n",
       "      </script>\n",
       "    </div>\n",
       "  </div>\n",
       "  "
      ],
      "text/plain": [
       "                          name platform  year_of_release     genre  na_sales  \\\n",
       "14045  Supreme Ruler: Cold War       PC             2011  Strategy       0.0   \n",
       "\n",
       "       eu_sales  jp_sales  other_sales  critic_score  user_score rating  \n",
       "14045      0.03       0.0         0.01          63.0        68.0     RP  "
      ]
     },
     "execution_count": 14,
     "metadata": {},
     "output_type": "execute_result"
    }
   ],
   "source": [
    "df[df['rating'] == \"RP\"]"
   ]
  },
  {
   "cell_type": "code",
   "execution_count": 15,
   "id": "3e6d4aa7",
   "metadata": {
    "colab": {
     "base_uri": "https://localhost:8080/"
    },
    "id": "3e6d4aa7",
    "outputId": "26125906-25d1-4d63-eac0-3f7d9803ba6d"
   },
   "outputs": [
    {
     "data": {
      "text/plain": [
       "0"
      ]
     },
     "execution_count": 15,
     "metadata": {},
     "output_type": "execute_result"
    }
   ],
   "source": [
    "df = df.where(df != 'RP', np.NaN)\n",
    "len(df[df['rating'] == 'RP'])"
   ]
  },
  {
   "cell_type": "markdown",
   "id": "df81bd98",
   "metadata": {
    "id": "df81bd98"
   },
   "source": [
    "Следующй редкий рейтинг - АО, или Adults Only, обозначает контент, разрешённый только для взрослых (18+). Посмотрим, какая игра отмечена таким рейтингом:"
   ]
  },
  {
   "cell_type": "code",
   "execution_count": 16,
   "id": "d20e2745",
   "metadata": {
    "colab": {
     "base_uri": "https://localhost:8080/"
    },
    "id": "d20e2745",
    "outputId": "60a21cf3-6f30-42b7-a835-36c2bc03fd33"
   },
   "outputs": [
    {
     "name": "stdout",
     "output_type": "stream",
     "text": [
      "<class 'pandas.core.frame.DataFrame'>\n",
      "RangeIndex: 16444 entries, 0 to 16443\n",
      "Data columns (total 11 columns):\n",
      " #   Column           Non-Null Count  Dtype  \n",
      "---  ------           --------------  -----  \n",
      " 0   name             16444 non-null  object \n",
      " 1   platform         16444 non-null  object \n",
      " 2   year_of_release  16444 non-null  int64  \n",
      " 3   genre            16444 non-null  object \n",
      " 4   na_sales         16444 non-null  float64\n",
      " 5   eu_sales         16444 non-null  float64\n",
      " 6   jp_sales         16444 non-null  float64\n",
      " 7   other_sales      16444 non-null  float64\n",
      " 8   critic_score     7983 non-null   float64\n",
      " 9   user_score       7463 non-null   float64\n",
      " 10  rating           9767 non-null   object \n",
      "dtypes: float64(6), int64(1), object(4)\n",
      "memory usage: 1.4+ MB\n"
     ]
    }
   ],
   "source": [
    "df.info()"
   ]
  },
  {
   "cell_type": "code",
   "execution_count": 17,
   "id": "eedad9c3",
   "metadata": {
    "colab": {
     "base_uri": "https://localhost:8080/",
     "height": 81
    },
    "id": "eedad9c3",
    "outputId": "2d9491e9-b90e-4d0f-fab9-10083900c685"
   },
   "outputs": [
    {
     "data": {
      "text/html": [
       "\n",
       "  <div id=\"df-ce4b2aca-4f86-4879-9b18-17f07dbc149a\">\n",
       "    <div class=\"colab-df-container\">\n",
       "      <div>\n",
       "<style scoped>\n",
       "    .dataframe tbody tr th:only-of-type {\n",
       "        vertical-align: middle;\n",
       "    }\n",
       "\n",
       "    .dataframe tbody tr th {\n",
       "        vertical-align: top;\n",
       "    }\n",
       "\n",
       "    .dataframe thead th {\n",
       "        text-align: right;\n",
       "    }\n",
       "</style>\n",
       "<table border=\"1\" class=\"dataframe\">\n",
       "  <thead>\n",
       "    <tr style=\"text-align: right;\">\n",
       "      <th></th>\n",
       "      <th>name</th>\n",
       "      <th>platform</th>\n",
       "      <th>year_of_release</th>\n",
       "      <th>genre</th>\n",
       "      <th>na_sales</th>\n",
       "      <th>eu_sales</th>\n",
       "      <th>jp_sales</th>\n",
       "      <th>other_sales</th>\n",
       "      <th>critic_score</th>\n",
       "      <th>user_score</th>\n",
       "      <th>rating</th>\n",
       "    </tr>\n",
       "  </thead>\n",
       "  <tbody>\n",
       "    <tr>\n",
       "      <th>864</th>\n",
       "      <td>Grand Theft Auto: San Andreas</td>\n",
       "      <td>XB</td>\n",
       "      <td>2005</td>\n",
       "      <td>Action</td>\n",
       "      <td>1.26</td>\n",
       "      <td>0.61</td>\n",
       "      <td>0.0</td>\n",
       "      <td>0.09</td>\n",
       "      <td>93.0</td>\n",
       "      <td>86.0</td>\n",
       "      <td>AO</td>\n",
       "    </tr>\n",
       "  </tbody>\n",
       "</table>\n",
       "</div>\n",
       "      <button class=\"colab-df-convert\" onclick=\"convertToInteractive('df-ce4b2aca-4f86-4879-9b18-17f07dbc149a')\"\n",
       "              title=\"Convert this dataframe to an interactive table.\"\n",
       "              style=\"display:none;\">\n",
       "        \n",
       "  <svg xmlns=\"http://www.w3.org/2000/svg\" height=\"24px\"viewBox=\"0 0 24 24\"\n",
       "       width=\"24px\">\n",
       "    <path d=\"M0 0h24v24H0V0z\" fill=\"none\"/>\n",
       "    <path d=\"M18.56 5.44l.94 2.06.94-2.06 2.06-.94-2.06-.94-.94-2.06-.94 2.06-2.06.94zm-11 1L8.5 8.5l.94-2.06 2.06-.94-2.06-.94L8.5 2.5l-.94 2.06-2.06.94zm10 10l.94 2.06.94-2.06 2.06-.94-2.06-.94-.94-2.06-.94 2.06-2.06.94z\"/><path d=\"M17.41 7.96l-1.37-1.37c-.4-.4-.92-.59-1.43-.59-.52 0-1.04.2-1.43.59L10.3 9.45l-7.72 7.72c-.78.78-.78 2.05 0 2.83L4 21.41c.39.39.9.59 1.41.59.51 0 1.02-.2 1.41-.59l7.78-7.78 2.81-2.81c.8-.78.8-2.07 0-2.86zM5.41 20L4 18.59l7.72-7.72 1.47 1.35L5.41 20z\"/>\n",
       "  </svg>\n",
       "      </button>\n",
       "      \n",
       "  <style>\n",
       "    .colab-df-container {\n",
       "      display:flex;\n",
       "      flex-wrap:wrap;\n",
       "      gap: 12px;\n",
       "    }\n",
       "\n",
       "    .colab-df-convert {\n",
       "      background-color: #E8F0FE;\n",
       "      border: none;\n",
       "      border-radius: 50%;\n",
       "      cursor: pointer;\n",
       "      display: none;\n",
       "      fill: #1967D2;\n",
       "      height: 32px;\n",
       "      padding: 0 0 0 0;\n",
       "      width: 32px;\n",
       "    }\n",
       "\n",
       "    .colab-df-convert:hover {\n",
       "      background-color: #E2EBFA;\n",
       "      box-shadow: 0px 1px 2px rgba(60, 64, 67, 0.3), 0px 1px 3px 1px rgba(60, 64, 67, 0.15);\n",
       "      fill: #174EA6;\n",
       "    }\n",
       "\n",
       "    [theme=dark] .colab-df-convert {\n",
       "      background-color: #3B4455;\n",
       "      fill: #D2E3FC;\n",
       "    }\n",
       "\n",
       "    [theme=dark] .colab-df-convert:hover {\n",
       "      background-color: #434B5C;\n",
       "      box-shadow: 0px 1px 3px 1px rgba(0, 0, 0, 0.15);\n",
       "      filter: drop-shadow(0px 1px 2px rgba(0, 0, 0, 0.3));\n",
       "      fill: #FFFFFF;\n",
       "    }\n",
       "  </style>\n",
       "\n",
       "      <script>\n",
       "        const buttonEl =\n",
       "          document.querySelector('#df-ce4b2aca-4f86-4879-9b18-17f07dbc149a button.colab-df-convert');\n",
       "        buttonEl.style.display =\n",
       "          google.colab.kernel.accessAllowed ? 'block' : 'none';\n",
       "\n",
       "        async function convertToInteractive(key) {\n",
       "          const element = document.querySelector('#df-ce4b2aca-4f86-4879-9b18-17f07dbc149a');\n",
       "          const dataTable =\n",
       "            await google.colab.kernel.invokeFunction('convertToInteractive',\n",
       "                                                     [key], {});\n",
       "          if (!dataTable) return;\n",
       "\n",
       "          const docLinkHtml = 'Like what you see? Visit the ' +\n",
       "            '<a target=\"_blank\" href=https://colab.research.google.com/notebooks/data_table.ipynb>data table notebook</a>'\n",
       "            + ' to learn more about interactive tables.';\n",
       "          element.innerHTML = '';\n",
       "          dataTable['output_type'] = 'display_data';\n",
       "          await google.colab.output.renderOutput(dataTable, element);\n",
       "          const docLink = document.createElement('div');\n",
       "          docLink.innerHTML = docLinkHtml;\n",
       "          element.appendChild(docLink);\n",
       "        }\n",
       "      </script>\n",
       "    </div>\n",
       "  </div>\n",
       "  "
      ],
      "text/plain": [
       "                              name platform  year_of_release   genre  \\\n",
       "864  Grand Theft Auto: San Andreas       XB             2005  Action   \n",
       "\n",
       "     na_sales  eu_sales  jp_sales  other_sales  critic_score  user_score  \\\n",
       "864      1.26      0.61       0.0         0.09          93.0        86.0   \n",
       "\n",
       "    rating  \n",
       "864     AO  "
      ]
     },
     "execution_count": 17,
     "metadata": {},
     "output_type": "execute_result"
    }
   ],
   "source": [
    "df[df['rating'] == \"AO\"]"
   ]
  },
  {
   "cell_type": "markdown",
   "id": "334f2bbf",
   "metadata": {
    "id": "334f2bbf"
   },
   "source": [
    "В целом тут никаких вопросов, \"Grand Theft Auto: San Andreas\" выглядит вполне подходящим представителем рейтинга Adults Only. Но GTA - достаточно крупная серия, и выходила она далеко не на одну платформу. Имеет смысл посмотреть, какой рейтинг присвоен другим играм этой серии:"
   ]
  },
  {
   "cell_type": "code",
   "execution_count": 18,
   "id": "1e1c7814",
   "metadata": {
    "colab": {
     "base_uri": "https://localhost:8080/",
     "height": 927
    },
    "id": "1e1c7814",
    "outputId": "48930cd8-9dba-4862-970f-689322a97b92",
    "scrolled": false
   },
   "outputs": [
    {
     "data": {
      "text/html": [
       "\n",
       "  <div id=\"df-3e919e68-c0b1-4d77-9386-565000983388\">\n",
       "    <div class=\"colab-df-container\">\n",
       "      <div>\n",
       "<style scoped>\n",
       "    .dataframe tbody tr th:only-of-type {\n",
       "        vertical-align: middle;\n",
       "    }\n",
       "\n",
       "    .dataframe tbody tr th {\n",
       "        vertical-align: top;\n",
       "    }\n",
       "\n",
       "    .dataframe thead th {\n",
       "        text-align: right;\n",
       "    }\n",
       "</style>\n",
       "<table border=\"1\" class=\"dataframe\">\n",
       "  <thead>\n",
       "    <tr style=\"text-align: right;\">\n",
       "      <th></th>\n",
       "      <th>name</th>\n",
       "      <th>platform</th>\n",
       "      <th>year_of_release</th>\n",
       "      <th>genre</th>\n",
       "      <th>na_sales</th>\n",
       "      <th>eu_sales</th>\n",
       "      <th>jp_sales</th>\n",
       "      <th>other_sales</th>\n",
       "      <th>critic_score</th>\n",
       "      <th>user_score</th>\n",
       "      <th>rating</th>\n",
       "    </tr>\n",
       "  </thead>\n",
       "  <tbody>\n",
       "    <tr>\n",
       "      <th>16</th>\n",
       "      <td>Grand Theft Auto V</td>\n",
       "      <td>PS3</td>\n",
       "      <td>2013</td>\n",
       "      <td>Action</td>\n",
       "      <td>7.02</td>\n",
       "      <td>9.09</td>\n",
       "      <td>0.98</td>\n",
       "      <td>3.96</td>\n",
       "      <td>97.0</td>\n",
       "      <td>82.0</td>\n",
       "      <td>M</td>\n",
       "    </tr>\n",
       "    <tr>\n",
       "      <th>17</th>\n",
       "      <td>Grand Theft Auto: San Andreas</td>\n",
       "      <td>PS2</td>\n",
       "      <td>2004</td>\n",
       "      <td>Action</td>\n",
       "      <td>9.43</td>\n",
       "      <td>0.40</td>\n",
       "      <td>0.41</td>\n",
       "      <td>10.57</td>\n",
       "      <td>95.0</td>\n",
       "      <td>90.0</td>\n",
       "      <td>M</td>\n",
       "    </tr>\n",
       "    <tr>\n",
       "      <th>23</th>\n",
       "      <td>Grand Theft Auto V</td>\n",
       "      <td>X360</td>\n",
       "      <td>2013</td>\n",
       "      <td>Action</td>\n",
       "      <td>9.66</td>\n",
       "      <td>5.14</td>\n",
       "      <td>0.06</td>\n",
       "      <td>1.41</td>\n",
       "      <td>97.0</td>\n",
       "      <td>81.0</td>\n",
       "      <td>M</td>\n",
       "    </tr>\n",
       "    <tr>\n",
       "      <th>24</th>\n",
       "      <td>Grand Theft Auto: Vice City</td>\n",
       "      <td>PS2</td>\n",
       "      <td>2002</td>\n",
       "      <td>Action</td>\n",
       "      <td>8.41</td>\n",
       "      <td>5.49</td>\n",
       "      <td>0.47</td>\n",
       "      <td>1.78</td>\n",
       "      <td>95.0</td>\n",
       "      <td>87.0</td>\n",
       "      <td>M</td>\n",
       "    </tr>\n",
       "    <tr>\n",
       "      <th>38</th>\n",
       "      <td>Grand Theft Auto III</td>\n",
       "      <td>PS2</td>\n",
       "      <td>2001</td>\n",
       "      <td>Action</td>\n",
       "      <td>6.99</td>\n",
       "      <td>4.51</td>\n",
       "      <td>0.30</td>\n",
       "      <td>1.30</td>\n",
       "      <td>97.0</td>\n",
       "      <td>85.0</td>\n",
       "      <td>M</td>\n",
       "    </tr>\n",
       "    <tr>\n",
       "      <th>42</th>\n",
       "      <td>Grand Theft Auto V</td>\n",
       "      <td>PS4</td>\n",
       "      <td>2014</td>\n",
       "      <td>Action</td>\n",
       "      <td>3.96</td>\n",
       "      <td>6.31</td>\n",
       "      <td>0.38</td>\n",
       "      <td>1.97</td>\n",
       "      <td>97.0</td>\n",
       "      <td>83.0</td>\n",
       "      <td>M</td>\n",
       "    </tr>\n",
       "    <tr>\n",
       "      <th>51</th>\n",
       "      <td>Grand Theft Auto IV</td>\n",
       "      <td>X360</td>\n",
       "      <td>2008</td>\n",
       "      <td>Action</td>\n",
       "      <td>6.76</td>\n",
       "      <td>3.07</td>\n",
       "      <td>0.14</td>\n",
       "      <td>1.03</td>\n",
       "      <td>98.0</td>\n",
       "      <td>79.0</td>\n",
       "      <td>M</td>\n",
       "    </tr>\n",
       "    <tr>\n",
       "      <th>57</th>\n",
       "      <td>Grand Theft Auto IV</td>\n",
       "      <td>PS3</td>\n",
       "      <td>2008</td>\n",
       "      <td>Action</td>\n",
       "      <td>4.76</td>\n",
       "      <td>3.69</td>\n",
       "      <td>0.44</td>\n",
       "      <td>1.61</td>\n",
       "      <td>98.0</td>\n",
       "      <td>75.0</td>\n",
       "      <td>M</td>\n",
       "    </tr>\n",
       "    <tr>\n",
       "      <th>91</th>\n",
       "      <td>Grand Theft Auto: Liberty City Stories</td>\n",
       "      <td>PSP</td>\n",
       "      <td>2005</td>\n",
       "      <td>Action</td>\n",
       "      <td>2.90</td>\n",
       "      <td>2.81</td>\n",
       "      <td>0.24</td>\n",
       "      <td>1.73</td>\n",
       "      <td>88.0</td>\n",
       "      <td>76.0</td>\n",
       "      <td>M</td>\n",
       "    </tr>\n",
       "    <tr>\n",
       "      <th>165</th>\n",
       "      <td>Grand Theft Auto V</td>\n",
       "      <td>XOne</td>\n",
       "      <td>2014</td>\n",
       "      <td>Action</td>\n",
       "      <td>2.81</td>\n",
       "      <td>2.19</td>\n",
       "      <td>0.00</td>\n",
       "      <td>0.47</td>\n",
       "      <td>97.0</td>\n",
       "      <td>79.0</td>\n",
       "      <td>M</td>\n",
       "    </tr>\n",
       "    <tr>\n",
       "      <th>203</th>\n",
       "      <td>Grand Theft Auto: Vice City Stories</td>\n",
       "      <td>PSP</td>\n",
       "      <td>2006</td>\n",
       "      <td>Action</td>\n",
       "      <td>1.70</td>\n",
       "      <td>1.99</td>\n",
       "      <td>0.16</td>\n",
       "      <td>1.18</td>\n",
       "      <td>86.0</td>\n",
       "      <td>80.0</td>\n",
       "      <td>M</td>\n",
       "    </tr>\n",
       "    <tr>\n",
       "      <th>362</th>\n",
       "      <td>Grand Theft Auto: Liberty City Stories</td>\n",
       "      <td>PS2</td>\n",
       "      <td>2006</td>\n",
       "      <td>Action</td>\n",
       "      <td>1.56</td>\n",
       "      <td>1.40</td>\n",
       "      <td>0.07</td>\n",
       "      <td>0.50</td>\n",
       "      <td>78.0</td>\n",
       "      <td>78.0</td>\n",
       "      <td>M</td>\n",
       "    </tr>\n",
       "    <tr>\n",
       "      <th>387</th>\n",
       "      <td>Grand Theft Auto 2</td>\n",
       "      <td>PS</td>\n",
       "      <td>1998</td>\n",
       "      <td>Action</td>\n",
       "      <td>1.13</td>\n",
       "      <td>2.07</td>\n",
       "      <td>0.00</td>\n",
       "      <td>0.22</td>\n",
       "      <td>70.0</td>\n",
       "      <td>80.0</td>\n",
       "      <td>T</td>\n",
       "    </tr>\n",
       "    <tr>\n",
       "      <th>615</th>\n",
       "      <td>Rockstar Games Double Pack: Grand Theft Auto I...</td>\n",
       "      <td>XB</td>\n",
       "      <td>2003</td>\n",
       "      <td>Action</td>\n",
       "      <td>1.84</td>\n",
       "      <td>0.56</td>\n",
       "      <td>0.00</td>\n",
       "      <td>0.09</td>\n",
       "      <td>NaN</td>\n",
       "      <td>NaN</td>\n",
       "      <td>NaN</td>\n",
       "    </tr>\n",
       "    <tr>\n",
       "      <th>675</th>\n",
       "      <td>Grand Theft Auto</td>\n",
       "      <td>PS</td>\n",
       "      <td>1997</td>\n",
       "      <td>Action</td>\n",
       "      <td>0.79</td>\n",
       "      <td>1.35</td>\n",
       "      <td>0.04</td>\n",
       "      <td>0.14</td>\n",
       "      <td>NaN</td>\n",
       "      <td>NaN</td>\n",
       "      <td>NaN</td>\n",
       "    </tr>\n",
       "    <tr>\n",
       "      <th>864</th>\n",
       "      <td>Grand Theft Auto: San Andreas</td>\n",
       "      <td>XB</td>\n",
       "      <td>2005</td>\n",
       "      <td>Action</td>\n",
       "      <td>1.26</td>\n",
       "      <td>0.61</td>\n",
       "      <td>0.00</td>\n",
       "      <td>0.09</td>\n",
       "      <td>93.0</td>\n",
       "      <td>86.0</td>\n",
       "      <td>AO</td>\n",
       "    </tr>\n",
       "    <tr>\n",
       "      <th>1023</th>\n",
       "      <td>Rockstar Games Double Pack: Grand Theft Auto I...</td>\n",
       "      <td>PS2</td>\n",
       "      <td>2003</td>\n",
       "      <td>Action</td>\n",
       "      <td>0.85</td>\n",
       "      <td>0.66</td>\n",
       "      <td>0.00</td>\n",
       "      <td>0.22</td>\n",
       "      <td>NaN</td>\n",
       "      <td>NaN</td>\n",
       "      <td>NaN</td>\n",
       "    </tr>\n",
       "    <tr>\n",
       "      <th>1465</th>\n",
       "      <td>Grand Theft Auto: Chinatown Wars</td>\n",
       "      <td>DS</td>\n",
       "      <td>2009</td>\n",
       "      <td>Action</td>\n",
       "      <td>0.58</td>\n",
       "      <td>0.56</td>\n",
       "      <td>0.05</td>\n",
       "      <td>0.14</td>\n",
       "      <td>93.0</td>\n",
       "      <td>83.0</td>\n",
       "      <td>M</td>\n",
       "    </tr>\n",
       "    <tr>\n",
       "      <th>1710</th>\n",
       "      <td>Grand Theft Auto V</td>\n",
       "      <td>PC</td>\n",
       "      <td>2015</td>\n",
       "      <td>Action</td>\n",
       "      <td>0.39</td>\n",
       "      <td>0.69</td>\n",
       "      <td>0.00</td>\n",
       "      <td>0.09</td>\n",
       "      <td>96.0</td>\n",
       "      <td>79.0</td>\n",
       "      <td>M</td>\n",
       "    </tr>\n",
       "    <tr>\n",
       "      <th>1918</th>\n",
       "      <td>Grand Theft Auto: Chinatown Wars</td>\n",
       "      <td>PSP</td>\n",
       "      <td>2009</td>\n",
       "      <td>Action</td>\n",
       "      <td>0.28</td>\n",
       "      <td>0.49</td>\n",
       "      <td>0.03</td>\n",
       "      <td>0.27</td>\n",
       "      <td>90.0</td>\n",
       "      <td>73.0</td>\n",
       "      <td>M</td>\n",
       "    </tr>\n",
       "    <tr>\n",
       "      <th>2090</th>\n",
       "      <td>Grand Theft Auto: San Andreas</td>\n",
       "      <td>PC</td>\n",
       "      <td>2005</td>\n",
       "      <td>Action</td>\n",
       "      <td>0.00</td>\n",
       "      <td>0.93</td>\n",
       "      <td>0.00</td>\n",
       "      <td>0.04</td>\n",
       "      <td>93.0</td>\n",
       "      <td>89.0</td>\n",
       "      <td>M</td>\n",
       "    </tr>\n",
       "    <tr>\n",
       "      <th>2097</th>\n",
       "      <td>Grand Theft Auto: Vice City Stories</td>\n",
       "      <td>PS2</td>\n",
       "      <td>2007</td>\n",
       "      <td>Action</td>\n",
       "      <td>0.78</td>\n",
       "      <td>0.03</td>\n",
       "      <td>0.03</td>\n",
       "      <td>0.13</td>\n",
       "      <td>75.0</td>\n",
       "      <td>79.0</td>\n",
       "      <td>M</td>\n",
       "    </tr>\n",
       "    <tr>\n",
       "      <th>2340</th>\n",
       "      <td>Grand Theft Auto IV</td>\n",
       "      <td>PC</td>\n",
       "      <td>2008</td>\n",
       "      <td>Action</td>\n",
       "      <td>0.01</td>\n",
       "      <td>0.79</td>\n",
       "      <td>0.00</td>\n",
       "      <td>0.07</td>\n",
       "      <td>90.0</td>\n",
       "      <td>66.0</td>\n",
       "      <td>M</td>\n",
       "    </tr>\n",
       "    <tr>\n",
       "      <th>6779</th>\n",
       "      <td>Grand Theft Auto</td>\n",
       "      <td>GBA</td>\n",
       "      <td>2004</td>\n",
       "      <td>Action</td>\n",
       "      <td>0.17</td>\n",
       "      <td>0.06</td>\n",
       "      <td>0.00</td>\n",
       "      <td>0.00</td>\n",
       "      <td>68.0</td>\n",
       "      <td>71.0</td>\n",
       "      <td>M</td>\n",
       "    </tr>\n",
       "    <tr>\n",
       "      <th>10150</th>\n",
       "      <td>Grand Theft Auto: San Andreas</td>\n",
       "      <td>X360</td>\n",
       "      <td>2008</td>\n",
       "      <td>Action</td>\n",
       "      <td>0.08</td>\n",
       "      <td>0.02</td>\n",
       "      <td>0.00</td>\n",
       "      <td>0.01</td>\n",
       "      <td>NaN</td>\n",
       "      <td>75.0</td>\n",
       "      <td>M</td>\n",
       "    </tr>\n",
       "    <tr>\n",
       "      <th>10212</th>\n",
       "      <td>Grand Theft Auto: Mission Pack #1, London 1969</td>\n",
       "      <td>PS</td>\n",
       "      <td>1998</td>\n",
       "      <td>Adventure</td>\n",
       "      <td>0.06</td>\n",
       "      <td>0.04</td>\n",
       "      <td>0.00</td>\n",
       "      <td>0.01</td>\n",
       "      <td>NaN</td>\n",
       "      <td>NaN</td>\n",
       "      <td>NaN</td>\n",
       "    </tr>\n",
       "    <tr>\n",
       "      <th>13657</th>\n",
       "      <td>Grand Theft Auto: Vice City</td>\n",
       "      <td>PC</td>\n",
       "      <td>2003</td>\n",
       "      <td>Action</td>\n",
       "      <td>0.00</td>\n",
       "      <td>0.03</td>\n",
       "      <td>0.00</td>\n",
       "      <td>0.01</td>\n",
       "      <td>94.0</td>\n",
       "      <td>88.0</td>\n",
       "      <td>M</td>\n",
       "    </tr>\n",
       "    <tr>\n",
       "      <th>15930</th>\n",
       "      <td>Grand Theft Auto III</td>\n",
       "      <td>PC</td>\n",
       "      <td>2002</td>\n",
       "      <td>Action</td>\n",
       "      <td>0.00</td>\n",
       "      <td>0.01</td>\n",
       "      <td>0.00</td>\n",
       "      <td>0.00</td>\n",
       "      <td>93.0</td>\n",
       "      <td>84.0</td>\n",
       "      <td>M</td>\n",
       "    </tr>\n",
       "  </tbody>\n",
       "</table>\n",
       "</div>\n",
       "      <button class=\"colab-df-convert\" onclick=\"convertToInteractive('df-3e919e68-c0b1-4d77-9386-565000983388')\"\n",
       "              title=\"Convert this dataframe to an interactive table.\"\n",
       "              style=\"display:none;\">\n",
       "        \n",
       "  <svg xmlns=\"http://www.w3.org/2000/svg\" height=\"24px\"viewBox=\"0 0 24 24\"\n",
       "       width=\"24px\">\n",
       "    <path d=\"M0 0h24v24H0V0z\" fill=\"none\"/>\n",
       "    <path d=\"M18.56 5.44l.94 2.06.94-2.06 2.06-.94-2.06-.94-.94-2.06-.94 2.06-2.06.94zm-11 1L8.5 8.5l.94-2.06 2.06-.94-2.06-.94L8.5 2.5l-.94 2.06-2.06.94zm10 10l.94 2.06.94-2.06 2.06-.94-2.06-.94-.94-2.06-.94 2.06-2.06.94z\"/><path d=\"M17.41 7.96l-1.37-1.37c-.4-.4-.92-.59-1.43-.59-.52 0-1.04.2-1.43.59L10.3 9.45l-7.72 7.72c-.78.78-.78 2.05 0 2.83L4 21.41c.39.39.9.59 1.41.59.51 0 1.02-.2 1.41-.59l7.78-7.78 2.81-2.81c.8-.78.8-2.07 0-2.86zM5.41 20L4 18.59l7.72-7.72 1.47 1.35L5.41 20z\"/>\n",
       "  </svg>\n",
       "      </button>\n",
       "      \n",
       "  <style>\n",
       "    .colab-df-container {\n",
       "      display:flex;\n",
       "      flex-wrap:wrap;\n",
       "      gap: 12px;\n",
       "    }\n",
       "\n",
       "    .colab-df-convert {\n",
       "      background-color: #E8F0FE;\n",
       "      border: none;\n",
       "      border-radius: 50%;\n",
       "      cursor: pointer;\n",
       "      display: none;\n",
       "      fill: #1967D2;\n",
       "      height: 32px;\n",
       "      padding: 0 0 0 0;\n",
       "      width: 32px;\n",
       "    }\n",
       "\n",
       "    .colab-df-convert:hover {\n",
       "      background-color: #E2EBFA;\n",
       "      box-shadow: 0px 1px 2px rgba(60, 64, 67, 0.3), 0px 1px 3px 1px rgba(60, 64, 67, 0.15);\n",
       "      fill: #174EA6;\n",
       "    }\n",
       "\n",
       "    [theme=dark] .colab-df-convert {\n",
       "      background-color: #3B4455;\n",
       "      fill: #D2E3FC;\n",
       "    }\n",
       "\n",
       "    [theme=dark] .colab-df-convert:hover {\n",
       "      background-color: #434B5C;\n",
       "      box-shadow: 0px 1px 3px 1px rgba(0, 0, 0, 0.15);\n",
       "      filter: drop-shadow(0px 1px 2px rgba(0, 0, 0, 0.3));\n",
       "      fill: #FFFFFF;\n",
       "    }\n",
       "  </style>\n",
       "\n",
       "      <script>\n",
       "        const buttonEl =\n",
       "          document.querySelector('#df-3e919e68-c0b1-4d77-9386-565000983388 button.colab-df-convert');\n",
       "        buttonEl.style.display =\n",
       "          google.colab.kernel.accessAllowed ? 'block' : 'none';\n",
       "\n",
       "        async function convertToInteractive(key) {\n",
       "          const element = document.querySelector('#df-3e919e68-c0b1-4d77-9386-565000983388');\n",
       "          const dataTable =\n",
       "            await google.colab.kernel.invokeFunction('convertToInteractive',\n",
       "                                                     [key], {});\n",
       "          if (!dataTable) return;\n",
       "\n",
       "          const docLinkHtml = 'Like what you see? Visit the ' +\n",
       "            '<a target=\"_blank\" href=https://colab.research.google.com/notebooks/data_table.ipynb>data table notebook</a>'\n",
       "            + ' to learn more about interactive tables.';\n",
       "          element.innerHTML = '';\n",
       "          dataTable['output_type'] = 'display_data';\n",
       "          await google.colab.output.renderOutput(dataTable, element);\n",
       "          const docLink = document.createElement('div');\n",
       "          docLink.innerHTML = docLinkHtml;\n",
       "          element.appendChild(docLink);\n",
       "        }\n",
       "      </script>\n",
       "    </div>\n",
       "  </div>\n",
       "  "
      ],
      "text/plain": [
       "                                                    name platform  \\\n",
       "16                                    Grand Theft Auto V      PS3   \n",
       "17                         Grand Theft Auto: San Andreas      PS2   \n",
       "23                                    Grand Theft Auto V     X360   \n",
       "24                           Grand Theft Auto: Vice City      PS2   \n",
       "38                                  Grand Theft Auto III      PS2   \n",
       "42                                    Grand Theft Auto V      PS4   \n",
       "51                                   Grand Theft Auto IV     X360   \n",
       "57                                   Grand Theft Auto IV      PS3   \n",
       "91                Grand Theft Auto: Liberty City Stories      PSP   \n",
       "165                                   Grand Theft Auto V     XOne   \n",
       "203                  Grand Theft Auto: Vice City Stories      PSP   \n",
       "362               Grand Theft Auto: Liberty City Stories      PS2   \n",
       "387                                   Grand Theft Auto 2       PS   \n",
       "615    Rockstar Games Double Pack: Grand Theft Auto I...       XB   \n",
       "675                                     Grand Theft Auto       PS   \n",
       "864                        Grand Theft Auto: San Andreas       XB   \n",
       "1023   Rockstar Games Double Pack: Grand Theft Auto I...      PS2   \n",
       "1465                    Grand Theft Auto: Chinatown Wars       DS   \n",
       "1710                                  Grand Theft Auto V       PC   \n",
       "1918                    Grand Theft Auto: Chinatown Wars      PSP   \n",
       "2090                       Grand Theft Auto: San Andreas       PC   \n",
       "2097                 Grand Theft Auto: Vice City Stories      PS2   \n",
       "2340                                 Grand Theft Auto IV       PC   \n",
       "6779                                    Grand Theft Auto      GBA   \n",
       "10150                      Grand Theft Auto: San Andreas     X360   \n",
       "10212     Grand Theft Auto: Mission Pack #1, London 1969       PS   \n",
       "13657                        Grand Theft Auto: Vice City       PC   \n",
       "15930                               Grand Theft Auto III       PC   \n",
       "\n",
       "       year_of_release      genre  na_sales  eu_sales  jp_sales  other_sales  \\\n",
       "16                2013     Action      7.02      9.09      0.98         3.96   \n",
       "17                2004     Action      9.43      0.40      0.41        10.57   \n",
       "23                2013     Action      9.66      5.14      0.06         1.41   \n",
       "24                2002     Action      8.41      5.49      0.47         1.78   \n",
       "38                2001     Action      6.99      4.51      0.30         1.30   \n",
       "42                2014     Action      3.96      6.31      0.38         1.97   \n",
       "51                2008     Action      6.76      3.07      0.14         1.03   \n",
       "57                2008     Action      4.76      3.69      0.44         1.61   \n",
       "91                2005     Action      2.90      2.81      0.24         1.73   \n",
       "165               2014     Action      2.81      2.19      0.00         0.47   \n",
       "203               2006     Action      1.70      1.99      0.16         1.18   \n",
       "362               2006     Action      1.56      1.40      0.07         0.50   \n",
       "387               1998     Action      1.13      2.07      0.00         0.22   \n",
       "615               2003     Action      1.84      0.56      0.00         0.09   \n",
       "675               1997     Action      0.79      1.35      0.04         0.14   \n",
       "864               2005     Action      1.26      0.61      0.00         0.09   \n",
       "1023              2003     Action      0.85      0.66      0.00         0.22   \n",
       "1465              2009     Action      0.58      0.56      0.05         0.14   \n",
       "1710              2015     Action      0.39      0.69      0.00         0.09   \n",
       "1918              2009     Action      0.28      0.49      0.03         0.27   \n",
       "2090              2005     Action      0.00      0.93      0.00         0.04   \n",
       "2097              2007     Action      0.78      0.03      0.03         0.13   \n",
       "2340              2008     Action      0.01      0.79      0.00         0.07   \n",
       "6779              2004     Action      0.17      0.06      0.00         0.00   \n",
       "10150             2008     Action      0.08      0.02      0.00         0.01   \n",
       "10212             1998  Adventure      0.06      0.04      0.00         0.01   \n",
       "13657             2003     Action      0.00      0.03      0.00         0.01   \n",
       "15930             2002     Action      0.00      0.01      0.00         0.00   \n",
       "\n",
       "       critic_score  user_score rating  \n",
       "16             97.0        82.0      M  \n",
       "17             95.0        90.0      M  \n",
       "23             97.0        81.0      M  \n",
       "24             95.0        87.0      M  \n",
       "38             97.0        85.0      M  \n",
       "42             97.0        83.0      M  \n",
       "51             98.0        79.0      M  \n",
       "57             98.0        75.0      M  \n",
       "91             88.0        76.0      M  \n",
       "165            97.0        79.0      M  \n",
       "203            86.0        80.0      M  \n",
       "362            78.0        78.0      M  \n",
       "387            70.0        80.0      T  \n",
       "615             NaN         NaN    NaN  \n",
       "675             NaN         NaN    NaN  \n",
       "864            93.0        86.0     AO  \n",
       "1023            NaN         NaN    NaN  \n",
       "1465           93.0        83.0      M  \n",
       "1710           96.0        79.0      M  \n",
       "1918           90.0        73.0      M  \n",
       "2090           93.0        89.0      M  \n",
       "2097           75.0        79.0      M  \n",
       "2340           90.0        66.0      M  \n",
       "6779           68.0        71.0      M  \n",
       "10150           NaN        75.0      M  \n",
       "10212           NaN         NaN    NaN  \n",
       "13657          94.0        88.0      M  \n",
       "15930          93.0        84.0      M  "
      ]
     },
     "execution_count": 18,
     "metadata": {},
     "output_type": "execute_result"
    }
   ],
   "source": [
    "idx = []\n",
    "for i in range(0, len(df)):\n",
    "    if 'Grand Theft Auto' in df.loc[i, 'name']:\n",
    "        idx.append(i)\n",
    "\n",
    "df[df.index.isin(idx)]"
   ]
  },
  {
   "cell_type": "markdown",
   "id": "82876a76",
   "metadata": {
    "id": "82876a76"
   },
   "source": [
    "Как и ожидалось, в нашем списке присутствует несколко игр этой серии, разных годов и на разных платформах. И практически у всех игр серии имеется рейтинг М, ограничивающий возраст игрока до 17 лет. Больше того, игра \"Grand Theft Auto: San Andreas\" выпущенная для платформ PC, PS2 и X360 тоже имеет рейтинг М, а не АО, как для платформы XB. Помимо АО есть одна игра с рейтингом Т и 4 с неуказанным значением. Будет оправдано назначить всем играм этой серии рейтинг М:"
   ]
  },
  {
   "cell_type": "code",
   "execution_count": 19,
   "id": "d3c11bf9",
   "metadata": {
    "colab": {
     "base_uri": "https://localhost:8080/"
    },
    "id": "d3c11bf9",
    "outputId": "ab368bde-5f86-4a08-c69b-7c2d8a645ee0"
   },
   "outputs": [
    {
     "data": {
      "text/plain": [
       "M    28\n",
       "Name: rating, dtype: int64"
      ]
     },
     "execution_count": 19,
     "metadata": {},
     "output_type": "execute_result"
    }
   ],
   "source": [
    "for i in range(0, len(df)):\n",
    "    if ('Grand Theft Auto' in df.loc[i, 'name']) and (df.loc[i, 'rating'] != 'M'):\n",
    "        df.loc[i, 'rating'] = 'M'\n",
    "        \n",
    "df[df.index.isin(idx)]['rating'].value_counts()"
   ]
  },
  {
   "cell_type": "markdown",
   "id": "fa33517f",
   "metadata": {
    "id": "fa33517f"
   },
   "source": [
    "Следующий на очереди рейтинг - K-A. Согласно всё той же статье на Википедии(https://clck.ru/Z4cpX), это название расшифровывается как \"Kids to Adults\", и является устаревшим названием рейтинга Е(Everyone). Оба этих рейтинга допускают для использования контента абсолютно всех людей, без каких-либо ограничений. Это значит, мы вполне можем заменить старое название рейтинга на новое:"
   ]
  },
  {
   "cell_type": "code",
   "execution_count": 20,
   "id": "f99bcf8d",
   "metadata": {
    "colab": {
     "base_uri": "https://localhost:8080/",
     "height": 143
    },
    "id": "f99bcf8d",
    "outputId": "a8876a9e-05f3-4f97-9d81-85d45c7d98ec"
   },
   "outputs": [
    {
     "data": {
      "text/html": [
       "\n",
       "  <div id=\"df-fc7581e6-4a27-4bf8-9b61-34c39c4750fc\">\n",
       "    <div class=\"colab-df-container\">\n",
       "      <div>\n",
       "<style scoped>\n",
       "    .dataframe tbody tr th:only-of-type {\n",
       "        vertical-align: middle;\n",
       "    }\n",
       "\n",
       "    .dataframe tbody tr th {\n",
       "        vertical-align: top;\n",
       "    }\n",
       "\n",
       "    .dataframe thead th {\n",
       "        text-align: right;\n",
       "    }\n",
       "</style>\n",
       "<table border=\"1\" class=\"dataframe\">\n",
       "  <thead>\n",
       "    <tr style=\"text-align: right;\">\n",
       "      <th></th>\n",
       "      <th>name</th>\n",
       "      <th>platform</th>\n",
       "      <th>year_of_release</th>\n",
       "      <th>genre</th>\n",
       "      <th>na_sales</th>\n",
       "      <th>eu_sales</th>\n",
       "      <th>jp_sales</th>\n",
       "      <th>other_sales</th>\n",
       "      <th>critic_score</th>\n",
       "      <th>user_score</th>\n",
       "      <th>rating</th>\n",
       "    </tr>\n",
       "  </thead>\n",
       "  <tbody>\n",
       "    <tr>\n",
       "      <th>650</th>\n",
       "      <td>Theme Hospital</td>\n",
       "      <td>PC</td>\n",
       "      <td>1997</td>\n",
       "      <td>Strategy</td>\n",
       "      <td>2.30</td>\n",
       "      <td>0.10</td>\n",
       "      <td>0.00</td>\n",
       "      <td>0.00</td>\n",
       "      <td>NaN</td>\n",
       "      <td>90.0</td>\n",
       "      <td>K-A</td>\n",
       "    </tr>\n",
       "    <tr>\n",
       "      <th>892</th>\n",
       "      <td>PaRappa The Rapper</td>\n",
       "      <td>PS</td>\n",
       "      <td>1996</td>\n",
       "      <td>Misc</td>\n",
       "      <td>0.26</td>\n",
       "      <td>0.16</td>\n",
       "      <td>1.46</td>\n",
       "      <td>0.03</td>\n",
       "      <td>92.0</td>\n",
       "      <td>74.0</td>\n",
       "      <td>K-A</td>\n",
       "    </tr>\n",
       "    <tr>\n",
       "      <th>16410</th>\n",
       "      <td>Worms 2</td>\n",
       "      <td>PC</td>\n",
       "      <td>1997</td>\n",
       "      <td>Strategy</td>\n",
       "      <td>0.00</td>\n",
       "      <td>0.01</td>\n",
       "      <td>0.00</td>\n",
       "      <td>0.00</td>\n",
       "      <td>NaN</td>\n",
       "      <td>81.0</td>\n",
       "      <td>K-A</td>\n",
       "    </tr>\n",
       "  </tbody>\n",
       "</table>\n",
       "</div>\n",
       "      <button class=\"colab-df-convert\" onclick=\"convertToInteractive('df-fc7581e6-4a27-4bf8-9b61-34c39c4750fc')\"\n",
       "              title=\"Convert this dataframe to an interactive table.\"\n",
       "              style=\"display:none;\">\n",
       "        \n",
       "  <svg xmlns=\"http://www.w3.org/2000/svg\" height=\"24px\"viewBox=\"0 0 24 24\"\n",
       "       width=\"24px\">\n",
       "    <path d=\"M0 0h24v24H0V0z\" fill=\"none\"/>\n",
       "    <path d=\"M18.56 5.44l.94 2.06.94-2.06 2.06-.94-2.06-.94-.94-2.06-.94 2.06-2.06.94zm-11 1L8.5 8.5l.94-2.06 2.06-.94-2.06-.94L8.5 2.5l-.94 2.06-2.06.94zm10 10l.94 2.06.94-2.06 2.06-.94-2.06-.94-.94-2.06-.94 2.06-2.06.94z\"/><path d=\"M17.41 7.96l-1.37-1.37c-.4-.4-.92-.59-1.43-.59-.52 0-1.04.2-1.43.59L10.3 9.45l-7.72 7.72c-.78.78-.78 2.05 0 2.83L4 21.41c.39.39.9.59 1.41.59.51 0 1.02-.2 1.41-.59l7.78-7.78 2.81-2.81c.8-.78.8-2.07 0-2.86zM5.41 20L4 18.59l7.72-7.72 1.47 1.35L5.41 20z\"/>\n",
       "  </svg>\n",
       "      </button>\n",
       "      \n",
       "  <style>\n",
       "    .colab-df-container {\n",
       "      display:flex;\n",
       "      flex-wrap:wrap;\n",
       "      gap: 12px;\n",
       "    }\n",
       "\n",
       "    .colab-df-convert {\n",
       "      background-color: #E8F0FE;\n",
       "      border: none;\n",
       "      border-radius: 50%;\n",
       "      cursor: pointer;\n",
       "      display: none;\n",
       "      fill: #1967D2;\n",
       "      height: 32px;\n",
       "      padding: 0 0 0 0;\n",
       "      width: 32px;\n",
       "    }\n",
       "\n",
       "    .colab-df-convert:hover {\n",
       "      background-color: #E2EBFA;\n",
       "      box-shadow: 0px 1px 2px rgba(60, 64, 67, 0.3), 0px 1px 3px 1px rgba(60, 64, 67, 0.15);\n",
       "      fill: #174EA6;\n",
       "    }\n",
       "\n",
       "    [theme=dark] .colab-df-convert {\n",
       "      background-color: #3B4455;\n",
       "      fill: #D2E3FC;\n",
       "    }\n",
       "\n",
       "    [theme=dark] .colab-df-convert:hover {\n",
       "      background-color: #434B5C;\n",
       "      box-shadow: 0px 1px 3px 1px rgba(0, 0, 0, 0.15);\n",
       "      filter: drop-shadow(0px 1px 2px rgba(0, 0, 0, 0.3));\n",
       "      fill: #FFFFFF;\n",
       "    }\n",
       "  </style>\n",
       "\n",
       "      <script>\n",
       "        const buttonEl =\n",
       "          document.querySelector('#df-fc7581e6-4a27-4bf8-9b61-34c39c4750fc button.colab-df-convert');\n",
       "        buttonEl.style.display =\n",
       "          google.colab.kernel.accessAllowed ? 'block' : 'none';\n",
       "\n",
       "        async function convertToInteractive(key) {\n",
       "          const element = document.querySelector('#df-fc7581e6-4a27-4bf8-9b61-34c39c4750fc');\n",
       "          const dataTable =\n",
       "            await google.colab.kernel.invokeFunction('convertToInteractive',\n",
       "                                                     [key], {});\n",
       "          if (!dataTable) return;\n",
       "\n",
       "          const docLinkHtml = 'Like what you see? Visit the ' +\n",
       "            '<a target=\"_blank\" href=https://colab.research.google.com/notebooks/data_table.ipynb>data table notebook</a>'\n",
       "            + ' to learn more about interactive tables.';\n",
       "          element.innerHTML = '';\n",
       "          dataTable['output_type'] = 'display_data';\n",
       "          await google.colab.output.renderOutput(dataTable, element);\n",
       "          const docLink = document.createElement('div');\n",
       "          docLink.innerHTML = docLinkHtml;\n",
       "          element.appendChild(docLink);\n",
       "        }\n",
       "      </script>\n",
       "    </div>\n",
       "  </div>\n",
       "  "
      ],
      "text/plain": [
       "                     name platform  year_of_release     genre  na_sales  \\\n",
       "650        Theme Hospital       PC             1997  Strategy      2.30   \n",
       "892    PaRappa The Rapper       PS             1996      Misc      0.26   \n",
       "16410             Worms 2       PC             1997  Strategy      0.00   \n",
       "\n",
       "       eu_sales  jp_sales  other_sales  critic_score  user_score rating  \n",
       "650        0.10      0.00         0.00           NaN        90.0    K-A  \n",
       "892        0.16      1.46         0.03          92.0        74.0    K-A  \n",
       "16410      0.01      0.00         0.00           NaN        81.0    K-A  "
      ]
     },
     "execution_count": 20,
     "metadata": {},
     "output_type": "execute_result"
    }
   ],
   "source": [
    "df[df['rating'] == \"K-A\"]"
   ]
  },
  {
   "cell_type": "code",
   "execution_count": 21,
   "id": "c6a2fdec",
   "metadata": {
    "colab": {
     "base_uri": "https://localhost:8080/"
    },
    "id": "c6a2fdec",
    "outputId": "b0276773-4c36-488f-81fc-81bc8bd5d028"
   },
   "outputs": [
    {
     "data": {
      "text/plain": [
       "0"
      ]
     },
     "execution_count": 21,
     "metadata": {},
     "output_type": "execute_result"
    }
   ],
   "source": [
    "df = df.where(df != 'K-A', 'E')\n",
    "len(df[df['rating'] == 'K-A'])"
   ]
  },
  {
   "cell_type": "markdown",
   "id": "fa458507",
   "metadata": {
    "id": "fa458507"
   },
   "source": [
    "Остался последний редкий рейтинг, ЕС (Early Childhood). Раньше таким рейтингом обозначали игры, подходящие для детей от 3 лет, но теперь он тоже относится к вымершим категориям. Согласно всё той же статье (https://clck.ru/Z4cpX), от него отказались, поскольку очень мало игр имело этот рейтинг. В настоящий момент игры, подходящие для детей дошкольного возраста, получают категорю Е, подразумевающую использование для всех возрастов. Возможно, даже в нашей выборке есть игры похожего содержания, но с категорией Е, поэтому было бы некорректно оставлять ЕС для 8 строк."
   ]
  },
  {
   "cell_type": "code",
   "execution_count": 22,
   "id": "624c527e",
   "metadata": {
    "colab": {
     "base_uri": "https://localhost:8080/"
    },
    "id": "624c527e",
    "outputId": "8f7f849d-fad5-4a3b-af5e-eb06da8668d3"
   },
   "outputs": [
    {
     "data": {
      "text/plain": [
       "0"
      ]
     },
     "execution_count": 22,
     "metadata": {},
     "output_type": "execute_result"
    }
   ],
   "source": [
    "df = df.where(df != 'EC', 'E')\n",
    "len(df[df['rating'] == 'EC'])"
   ]
  },
  {
   "cell_type": "code",
   "execution_count": 23,
   "id": "jNYiPrWSrrva",
   "metadata": {
    "colab": {
     "base_uri": "https://localhost:8080/",
     "height": 577
    },
    "id": "jNYiPrWSrrva",
    "outputId": "0d7f05cb-1ef1-498b-f0aa-1210f8be8927"
   },
   "outputs": [
    {
     "name": "stdout",
     "output_type": "stream",
     "text": [
      "<class 'pandas.core.frame.DataFrame'>\n",
      "RangeIndex: 16444 entries, 0 to 16443\n",
      "Data columns (total 11 columns):\n",
      " #   Column           Non-Null Count  Dtype  \n",
      "---  ------           --------------  -----  \n",
      " 0   name             16444 non-null  object \n",
      " 1   platform         16444 non-null  object \n",
      " 2   year_of_release  16444 non-null  int64  \n",
      " 3   genre            16444 non-null  object \n",
      " 4   na_sales         16444 non-null  float64\n",
      " 5   eu_sales         16444 non-null  float64\n",
      " 6   jp_sales         16444 non-null  float64\n",
      " 7   other_sales      16444 non-null  float64\n",
      " 8   critic_score     7983 non-null   float64\n",
      " 9   user_score       7463 non-null   float64\n",
      " 10  rating           9771 non-null   object \n",
      "dtypes: float64(6), int64(1), object(4)\n",
      "memory usage: 1.4+ MB\n"
     ]
    },
    {
     "data": {
      "image/png": "[encoded data removed]",
      "text/plain": [
       "<Figure size 432x288 with 1 Axes>"
      ]
     },
     "metadata": {
      "needs_background": "light"
     },
     "output_type": "display_data"
    }
   ],
   "source": [
    "df['rating'].hist(bins=30)\n",
    "df.info()"
   ]
  },
  {
   "cell_type": "markdown",
   "id": "a48a5caa",
   "metadata": {
    "id": "a48a5caa"
   },
   "source": [
    "### Суммарные продажи по регионам"
   ]
  },
  {
   "cell_type": "code",
   "execution_count": 24,
   "id": "decf5f2b",
   "metadata": {
    "colab": {
     "base_uri": "https://localhost:8080/",
     "height": 206
    },
    "id": "decf5f2b",
    "outputId": "951daffd-06c1-49b9-f43a-5f7f43534c55"
   },
   "outputs": [
    {
     "data": {
      "text/html": [
       "\n",
       "  <div id=\"df-f9f88e04-23ca-4b9c-84a2-f38d62aa45aa\">\n",
       "    <div class=\"colab-df-container\">\n",
       "      <div>\n",
       "<style scoped>\n",
       "    .dataframe tbody tr th:only-of-type {\n",
       "        vertical-align: middle;\n",
       "    }\n",
       "\n",
       "    .dataframe tbody tr th {\n",
       "        vertical-align: top;\n",
       "    }\n",
       "\n",
       "    .dataframe thead th {\n",
       "        text-align: right;\n",
       "    }\n",
       "</style>\n",
       "<table border=\"1\" class=\"dataframe\">\n",
       "  <thead>\n",
       "    <tr style=\"text-align: right;\">\n",
       "      <th></th>\n",
       "      <th>name</th>\n",
       "      <th>platform</th>\n",
       "      <th>year_of_release</th>\n",
       "      <th>genre</th>\n",
       "      <th>na_sales</th>\n",
       "      <th>eu_sales</th>\n",
       "      <th>jp_sales</th>\n",
       "      <th>other_sales</th>\n",
       "      <th>critic_score</th>\n",
       "      <th>user_score</th>\n",
       "      <th>rating</th>\n",
       "      <th>all_sales</th>\n",
       "    </tr>\n",
       "  </thead>\n",
       "  <tbody>\n",
       "    <tr>\n",
       "      <th>0</th>\n",
       "      <td>Wii Sports</td>\n",
       "      <td>Wii</td>\n",
       "      <td>2006</td>\n",
       "      <td>Sports</td>\n",
       "      <td>41.36</td>\n",
       "      <td>28.96</td>\n",
       "      <td>3.77</td>\n",
       "      <td>8.45</td>\n",
       "      <td>76.0</td>\n",
       "      <td>80.0</td>\n",
       "      <td>E</td>\n",
       "      <td>82.54</td>\n",
       "    </tr>\n",
       "    <tr>\n",
       "      <th>1</th>\n",
       "      <td>Super Mario Bros.</td>\n",
       "      <td>NES</td>\n",
       "      <td>1985</td>\n",
       "      <td>Platform</td>\n",
       "      <td>29.08</td>\n",
       "      <td>3.58</td>\n",
       "      <td>6.81</td>\n",
       "      <td>0.77</td>\n",
       "      <td>NaN</td>\n",
       "      <td>NaN</td>\n",
       "      <td>NaN</td>\n",
       "      <td>40.24</td>\n",
       "    </tr>\n",
       "    <tr>\n",
       "      <th>2</th>\n",
       "      <td>Mario Kart Wii</td>\n",
       "      <td>Wii</td>\n",
       "      <td>2008</td>\n",
       "      <td>Racing</td>\n",
       "      <td>15.68</td>\n",
       "      <td>12.76</td>\n",
       "      <td>3.79</td>\n",
       "      <td>3.29</td>\n",
       "      <td>82.0</td>\n",
       "      <td>83.0</td>\n",
       "      <td>E</td>\n",
       "      <td>35.52</td>\n",
       "    </tr>\n",
       "    <tr>\n",
       "      <th>3</th>\n",
       "      <td>Wii Sports Resort</td>\n",
       "      <td>Wii</td>\n",
       "      <td>2009</td>\n",
       "      <td>Sports</td>\n",
       "      <td>15.61</td>\n",
       "      <td>10.93</td>\n",
       "      <td>3.28</td>\n",
       "      <td>2.95</td>\n",
       "      <td>80.0</td>\n",
       "      <td>80.0</td>\n",
       "      <td>E</td>\n",
       "      <td>32.77</td>\n",
       "    </tr>\n",
       "    <tr>\n",
       "      <th>4</th>\n",
       "      <td>Pokemon Red/Pokemon Blue</td>\n",
       "      <td>GB</td>\n",
       "      <td>1996</td>\n",
       "      <td>Role-Playing</td>\n",
       "      <td>11.27</td>\n",
       "      <td>8.89</td>\n",
       "      <td>10.22</td>\n",
       "      <td>1.00</td>\n",
       "      <td>NaN</td>\n",
       "      <td>NaN</td>\n",
       "      <td>NaN</td>\n",
       "      <td>31.38</td>\n",
       "    </tr>\n",
       "  </tbody>\n",
       "</table>\n",
       "</div>\n",
       "      <button class=\"colab-df-convert\" onclick=\"convertToInteractive('df-f9f88e04-23ca-4b9c-84a2-f38d62aa45aa')\"\n",
       "              title=\"Convert this dataframe to an interactive table.\"\n",
       "              style=\"display:none;\">\n",
       "        \n",
       "  <svg xmlns=\"http://www.w3.org/2000/svg\" height=\"24px\"viewBox=\"0 0 24 24\"\n",
       "       width=\"24px\">\n",
       "    <path d=\"M0 0h24v24H0V0z\" fill=\"none\"/>\n",
       "    <path d=\"M18.56 5.44l.94 2.06.94-2.06 2.06-.94-2.06-.94-.94-2.06-.94 2.06-2.06.94zm-11 1L8.5 8.5l.94-2.06 2.06-.94-2.06-.94L8.5 2.5l-.94 2.06-2.06.94zm10 10l.94 2.06.94-2.06 2.06-.94-2.06-.94-.94-2.06-.94 2.06-2.06.94z\"/><path d=\"M17.41 7.96l-1.37-1.37c-.4-.4-.92-.59-1.43-.59-.52 0-1.04.2-1.43.59L10.3 9.45l-7.72 7.72c-.78.78-.78 2.05 0 2.83L4 21.41c.39.39.9.59 1.41.59.51 0 1.02-.2 1.41-.59l7.78-7.78 2.81-2.81c.8-.78.8-2.07 0-2.86zM5.41 20L4 18.59l7.72-7.72 1.47 1.35L5.41 20z\"/>\n",
       "  </svg>\n",
       "      </button>\n",
       "      \n",
       "  <style>\n",
       "    .colab-df-container {\n",
       "      display:flex;\n",
       "      flex-wrap:wrap;\n",
       "      gap: 12px;\n",
       "    }\n",
       "\n",
       "    .colab-df-convert {\n",
       "      background-color: #E8F0FE;\n",
       "      border: none;\n",
       "      border-radius: 50%;\n",
       "      cursor: pointer;\n",
       "      display: none;\n",
       "      fill: #1967D2;\n",
       "      height: 32px;\n",
       "      padding: 0 0 0 0;\n",
       "      width: 32px;\n",
       "    }\n",
       "\n",
       "    .colab-df-convert:hover {\n",
       "      background-color: #E2EBFA;\n",
       "      box-shadow: 0px 1px 2px rgba(60, 64, 67, 0.3), 0px 1px 3px 1px rgba(60, 64, 67, 0.15);\n",
       "      fill: #174EA6;\n",
       "    }\n",
       "\n",
       "    [theme=dark] .colab-df-convert {\n",
       "      background-color: #3B4455;\n",
       "      fill: #D2E3FC;\n",
       "    }\n",
       "\n",
       "    [theme=dark] .colab-df-convert:hover {\n",
       "      background-color: #434B5C;\n",
       "      box-shadow: 0px 1px 3px 1px rgba(0, 0, 0, 0.15);\n",
       "      filter: drop-shadow(0px 1px 2px rgba(0, 0, 0, 0.3));\n",
       "      fill: #FFFFFF;\n",
       "    }\n",
       "  </style>\n",
       "\n",
       "      <script>\n",
       "        const buttonEl =\n",
       "          document.querySelector('#df-f9f88e04-23ca-4b9c-84a2-f38d62aa45aa button.colab-df-convert');\n",
       "        buttonEl.style.display =\n",
       "          google.colab.kernel.accessAllowed ? 'block' : 'none';\n",
       "\n",
       "        async function convertToInteractive(key) {\n",
       "          const element = document.querySelector('#df-f9f88e04-23ca-4b9c-84a2-f38d62aa45aa');\n",
       "          const dataTable =\n",
       "            await google.colab.kernel.invokeFunction('convertToInteractive',\n",
       "                                                     [key], {});\n",
       "          if (!dataTable) return;\n",
       "\n",
       "          const docLinkHtml = 'Like what you see? Visit the ' +\n",
       "            '<a target=\"_blank\" href=https://colab.research.google.com/notebooks/data_table.ipynb>data table notebook</a>'\n",
       "            + ' to learn more about interactive tables.';\n",
       "          element.innerHTML = '';\n",
       "          dataTable['output_type'] = 'display_data';\n",
       "          await google.colab.output.renderOutput(dataTable, element);\n",
       "          const docLink = document.createElement('div');\n",
       "          docLink.innerHTML = docLinkHtml;\n",
       "          element.appendChild(docLink);\n",
       "        }\n",
       "      </script>\n",
       "    </div>\n",
       "  </div>\n",
       "  "
      ],
      "text/plain": [
       "                       name platform  year_of_release         genre  na_sales  \\\n",
       "0                Wii Sports      Wii             2006        Sports     41.36   \n",
       "1         Super Mario Bros.      NES             1985      Platform     29.08   \n",
       "2            Mario Kart Wii      Wii             2008        Racing     15.68   \n",
       "3         Wii Sports Resort      Wii             2009        Sports     15.61   \n",
       "4  Pokemon Red/Pokemon Blue       GB             1996  Role-Playing     11.27   \n",
       "\n",
       "   eu_sales  jp_sales  other_sales  critic_score  user_score rating  all_sales  \n",
       "0     28.96      3.77         8.45          76.0        80.0      E      82.54  \n",
       "1      3.58      6.81         0.77           NaN         NaN    NaN      40.24  \n",
       "2     12.76      3.79         3.29          82.0        83.0      E      35.52  \n",
       "3     10.93      3.28         2.95          80.0        80.0      E      32.77  \n",
       "4      8.89     10.22         1.00           NaN         NaN    NaN      31.38  "
      ]
     },
     "execution_count": 24,
     "metadata": {},
     "output_type": "execute_result"
    }
   ],
   "source": [
    "df['all_sales'] = df['na_sales'] + df['eu_sales'] + df['jp_sales'] + df['other_sales']\n",
    "df.head(5)"
   ]
  },
  {
   "cell_type": "markdown",
   "id": "6ee2d58e",
   "metadata": {
    "id": "6ee2d58e"
   },
   "source": [
    "В таблице появился ещё один столбец, all_sales, в котором содержатся значения общих продаж каждой игры, по всем миру."
   ]
  },
  {
   "cell_type": "markdown",
   "id": "5ba7ac9c",
   "metadata": {
    "id": "5ba7ac9c"
   },
   "source": [
    "## Исследовательский анализ данных"
   ]
  },
  {
   "cell_type": "markdown",
   "id": "ddedf3ff",
   "metadata": {
    "id": "ddedf3ff"
   },
   "source": [
    "### Сколько игр выпускалось в разные годы"
   ]
  },
  {
   "cell_type": "code",
   "execution_count": 25,
   "id": "5cc26f7e",
   "metadata": {
    "colab": {
     "base_uri": "https://localhost:8080/",
     "height": 334
    },
    "id": "5cc26f7e",
    "outputId": "cc16e769-6528-4316-a8c0-9f4b6a9ac4b4"
   },
   "outputs": [
    {
     "data": {
      "image/png": "[encoded data removed]",
      "text/plain": [
       "<Figure size 1152x360 with 2 Axes>"
      ]
     },
     "metadata": {
      "needs_background": "light"
     },
     "output_type": "display_data"
    }
   ],
   "source": [
    "fig, axes = plt.subplots(1, 2, sharey=True, figsize=(16,5))\n",
    "axes[0].hist(df['year_of_release'], bins=30, orientation='horizontal')\n",
    "axes[0].set_xlabel('Количество игр')\n",
    "axes[0].set_ylabel('Год выпуска')\n",
    "axes[1].boxplot(df['year_of_release'])\n",
    "plt.show()"
   ]
  },
  {
   "cell_type": "markdown",
   "id": "5a2d6b6e",
   "metadata": {
    "id": "5a2d6b6e"
   },
   "source": [
    "Как можно заметить, в нашей выборке практически нет данных о продажах игр ранее 1990 года. Ввиду малого количества таких данных использовать их для анализа будет некорректно, поэтому мы откажемся от них."
   ]
  },
  {
   "cell_type": "code",
   "execution_count": 26,
   "id": "126c7554",
   "metadata": {
    "id": "126c7554"
   },
   "outputs": [],
   "source": [
    "df = df[df['year_of_release'] > 1990]"
   ]
  },
  {
   "cell_type": "markdown",
   "id": "a79a54a5",
   "metadata": {
    "id": "a79a54a5"
   },
   "source": [
    "Чтобы определить наиболее перспективные для продажи игр платформы, сперва стоит понять, на каких из них самые большие продажи. Для это построим сводную таблицу, оставив только названия платформ и суммарное количество продаж игр для них по всему миру:"
   ]
  },
  {
   "cell_type": "code",
   "execution_count": 27,
   "id": "4a5547da",
   "metadata": {
    "colab": {
     "base_uri": "https://localhost:8080/",
     "height": 394
    },
    "id": "4a5547da",
    "outputId": "be23a6ac-5c74-41aa-8cb2-3ef9b549e262",
    "scrolled": true
   },
   "outputs": [
    {
     "data": {
      "text/html": [
       "\n",
       "  <div id=\"df-58e2dba5-e9b7-4394-b702-6ff92f233b37\">\n",
       "    <div class=\"colab-df-container\">\n",
       "      <div>\n",
       "<style scoped>\n",
       "    .dataframe tbody tr th:only-of-type {\n",
       "        vertical-align: middle;\n",
       "    }\n",
       "\n",
       "    .dataframe tbody tr th {\n",
       "        vertical-align: top;\n",
       "    }\n",
       "\n",
       "    .dataframe thead th {\n",
       "        text-align: right;\n",
       "    }\n",
       "</style>\n",
       "<table border=\"1\" class=\"dataframe\">\n",
       "  <thead>\n",
       "    <tr style=\"text-align: right;\">\n",
       "      <th></th>\n",
       "      <th>all_sales</th>\n",
       "    </tr>\n",
       "    <tr>\n",
       "      <th>platform</th>\n",
       "      <th></th>\n",
       "    </tr>\n",
       "  </thead>\n",
       "  <tbody>\n",
       "    <tr>\n",
       "      <th>PS2</th>\n",
       "      <td>1233.56</td>\n",
       "    </tr>\n",
       "    <tr>\n",
       "      <th>X360</th>\n",
       "      <td>961.24</td>\n",
       "    </tr>\n",
       "    <tr>\n",
       "      <th>PS3</th>\n",
       "      <td>931.34</td>\n",
       "    </tr>\n",
       "    <tr>\n",
       "      <th>Wii</th>\n",
       "      <td>891.18</td>\n",
       "    </tr>\n",
       "    <tr>\n",
       "      <th>DS</th>\n",
       "      <td>802.76</td>\n",
       "    </tr>\n",
       "    <tr>\n",
       "      <th>PS</th>\n",
       "      <td>727.58</td>\n",
       "    </tr>\n",
       "    <tr>\n",
       "      <th>PS4</th>\n",
       "      <td>314.14</td>\n",
       "    </tr>\n",
       "    <tr>\n",
       "      <th>GBA</th>\n",
       "      <td>312.88</td>\n",
       "    </tr>\n",
       "    <tr>\n",
       "      <th>PSP</th>\n",
       "      <td>289.53</td>\n",
       "    </tr>\n",
       "    <tr>\n",
       "      <th>3DS</th>\n",
       "      <td>257.81</td>\n",
       "    </tr>\n",
       "  </tbody>\n",
       "</table>\n",
       "</div>\n",
       "      <button class=\"colab-df-convert\" onclick=\"convertToInteractive('df-58e2dba5-e9b7-4394-b702-6ff92f233b37')\"\n",
       "              title=\"Convert this dataframe to an interactive table.\"\n",
       "              style=\"display:none;\">\n",
       "        \n",
       "  <svg xmlns=\"http://www.w3.org/2000/svg\" height=\"24px\"viewBox=\"0 0 24 24\"\n",
       "       width=\"24px\">\n",
       "    <path d=\"M0 0h24v24H0V0z\" fill=\"none\"/>\n",
       "    <path d=\"M18.56 5.44l.94 2.06.94-2.06 2.06-.94-2.06-.94-.94-2.06-.94 2.06-2.06.94zm-11 1L8.5 8.5l.94-2.06 2.06-.94-2.06-.94L8.5 2.5l-.94 2.06-2.06.94zm10 10l.94 2.06.94-2.06 2.06-.94-2.06-.94-.94-2.06-.94 2.06-2.06.94z\"/><path d=\"M17.41 7.96l-1.37-1.37c-.4-.4-.92-.59-1.43-.59-.52 0-1.04.2-1.43.59L10.3 9.45l-7.72 7.72c-.78.78-.78 2.05 0 2.83L4 21.41c.39.39.9.59 1.41.59.51 0 1.02-.2 1.41-.59l7.78-7.78 2.81-2.81c.8-.78.8-2.07 0-2.86zM5.41 20L4 18.59l7.72-7.72 1.47 1.35L5.41 20z\"/>\n",
       "  </svg>\n",
       "      </button>\n",
       "      \n",
       "  <style>\n",
       "    .colab-df-container {\n",
       "      display:flex;\n",
       "      flex-wrap:wrap;\n",
       "      gap: 12px;\n",
       "    }\n",
       "\n",
       "    .colab-df-convert {\n",
       "      background-color: #E8F0FE;\n",
       "      border: none;\n",
       "      border-radius: 50%;\n",
       "      cursor: pointer;\n",
       "      display: none;\n",
       "      fill: #1967D2;\n",
       "      height: 32px;\n",
       "      padding: 0 0 0 0;\n",
       "      width: 32px;\n",
       "    }\n",
       "\n",
       "    .colab-df-convert:hover {\n",
       "      background-color: #E2EBFA;\n",
       "      box-shadow: 0px 1px 2px rgba(60, 64, 67, 0.3), 0px 1px 3px 1px rgba(60, 64, 67, 0.15);\n",
       "      fill: #174EA6;\n",
       "    }\n",
       "\n",
       "    [theme=dark] .colab-df-convert {\n",
       "      background-color: #3B4455;\n",
       "      fill: #D2E3FC;\n",
       "    }\n",
       "\n",
       "    [theme=dark] .colab-df-convert:hover {\n",
       "      background-color: #434B5C;\n",
       "      box-shadow: 0px 1px 3px 1px rgba(0, 0, 0, 0.15);\n",
       "      filter: drop-shadow(0px 1px 2px rgba(0, 0, 0, 0.3));\n",
       "      fill: #FFFFFF;\n",
       "    }\n",
       "  </style>\n",
       "\n",
       "      <script>\n",
       "        const buttonEl =\n",
       "          document.querySelector('#df-58e2dba5-e9b7-4394-b702-6ff92f233b37 button.colab-df-convert');\n",
       "        buttonEl.style.display =\n",
       "          google.colab.kernel.accessAllowed ? 'block' : 'none';\n",
       "\n",
       "        async function convertToInteractive(key) {\n",
       "          const element = document.querySelector('#df-58e2dba5-e9b7-4394-b702-6ff92f233b37');\n",
       "          const dataTable =\n",
       "            await google.colab.kernel.invokeFunction('convertToInteractive',\n",
       "                                                     [key], {});\n",
       "          if (!dataTable) return;\n",
       "\n",
       "          const docLinkHtml = 'Like what you see? Visit the ' +\n",
       "            '<a target=\"_blank\" href=https://colab.research.google.com/notebooks/data_table.ipynb>data table notebook</a>'\n",
       "            + ' to learn more about interactive tables.';\n",
       "          element.innerHTML = '';\n",
       "          dataTable['output_type'] = 'display_data';\n",
       "          await google.colab.output.renderOutput(dataTable, element);\n",
       "          const docLink = document.createElement('div');\n",
       "          docLink.innerHTML = docLinkHtml;\n",
       "          element.appendChild(docLink);\n",
       "        }\n",
       "      </script>\n",
       "    </div>\n",
       "  </div>\n",
       "  "
      ],
      "text/plain": [
       "          all_sales\n",
       "platform           \n",
       "PS2         1233.56\n",
       "X360         961.24\n",
       "PS3          931.34\n",
       "Wii          891.18\n",
       "DS           802.76\n",
       "PS           727.58\n",
       "PS4          314.14\n",
       "GBA          312.88\n",
       "PSP          289.53\n",
       "3DS          257.81"
      ]
     },
     "execution_count": 27,
     "metadata": {},
     "output_type": "execute_result"
    }
   ],
   "source": [
    "platform_pivot = pd.pivot_table(df, index='platform', values='all_sales', aggfunc='sum')\n",
    "platform_pivot.sort_values(by='all_sales', ascending=False).head(10)"
   ]
  },
  {
   "cell_type": "markdown",
   "id": "a7adb39d",
   "metadata": {
    "id": "a7adb39d"
   },
   "source": [
    "Больше всего игр продано для плафторм семейств PlayStation и Xbox. Но, хоть это и крупнейшие серии, сбрасывать со счетов остальных тоже не стоит. В топ-10 по продажам попали также консоли от Nintendo, при том и портативные, и обычные. Также в заметном количестве продаются игры для портативных консолей PlayStation. Итого получается 5 категорий платформ, в каждой из которых есть несколько поколений. Рассмотрим их все по годам выхода игр, чтобы определить, какое поколение считать актуальным, и по каким годам брать срез для дальнейшего анализа.  \n",
    "Для начала соберём срезы для каждой категории платформ:"
   ]
  },
  {
   "cell_type": "code",
   "execution_count": 28,
   "id": "675c1f08",
   "metadata": {
    "id": "675c1f08"
   },
   "outputs": [],
   "source": [
    "ps_models = ['PS', 'PS2', 'PS3', 'PS4']\n",
    "ps_query = df[df['platform'].isin(ps_models)]\n",
    "\n",
    "psp_models = ['PSP', 'PSV']\n",
    "psp_query = df[df['platform'].isin(psp_models)]\n",
    "\n",
    "xb_models = ['XB', 'X360', 'XOne']\n",
    "xb_query = df[df['platform'].isin(xb_models)]\n",
    "\n",
    "nintendo_models = ['SNES', 'N64', 'GC', 'Wii', 'WiiU']\n",
    "nintendo_query = df[df['platform'].isin(nintendo_models)]\n",
    "\n",
    "nintendo_port_models = ['GBA', 'DS', '3DS']\n",
    "nintendo_port_query = df[df['platform'].isin(nintendo_port_models)]"
   ]
  },
  {
   "cell_type": "markdown",
   "id": "7a2eaae3",
   "metadata": {
    "id": "7a2eaae3"
   },
   "source": [
    "Данные о названиях и порядке выхода платформ взяты из следующих источников:\n",
    "- PS и PSP: https://clck.ru/Z4coW\n",
    "- XB: https://clck.ru/Z4cot\n",
    "- Nintendo: https://clck.ru/Z4cmg\n",
    "- Nintendo portable: https://clck.ru/Z4ckB"
   ]
  },
  {
   "cell_type": "markdown",
   "id": "0b5603b7",
   "metadata": {
    "id": "0b5603b7"
   },
   "source": [
    "Теперь построим гистограммы для каждого из полученных срезов. Для удобства автоматизируем весь процесс, упаковав построение графиков в отдельную функцию plotter. В качестве параметров она будет принимать срез по серии платформ и список всех моделей, а на выходе построит гистограммы для каждой платформы по отдельности. Так мы наглядно увидим, игры для каких платформ в какие года выпускались наиболее активно."
   ]
  },
  {
   "cell_type": "code",
   "execution_count": 29,
   "id": "d2f2b818",
   "metadata": {
    "id": "d2f2b818"
   },
   "outputs": [],
   "source": [
    "def plotter (data_query, data_models, show_delta=False):\n",
    "    \n",
    "    fig, axes = plt.subplots(1, len(data_models), sharey=True, sharex=True, figsize=(16,5))\n",
    "\n",
    "    for i in range(0, len(axes)):\n",
    "        axes[i].hist(data_query[data_query['platform'] == data_models[i]]['year_of_release'], \n",
    "                     bins=30, \n",
    "                     orientation='horizontal')\n",
    "        axes[i].set_xlabel('Количество игр')\n",
    "        axes[i].set_title(data_models[i])\n",
    "        axes[i].grid(axis='y')\n",
    "    \n",
    "    axes[0].set_ylabel('Год выпуска')\n",
    "    plt.show()\n",
    "    \n",
    "    if show_delta:\n",
    "        delta_list = []\n",
    "        for i in range(0, len(data_models)):\n",
    "            try:\n",
    "                delta_list.append(data_query[data_query['platform'] == data_models[i + 1]]['year_of_release'].min() - \n",
    "                                  data_query[data_query['platform'] == data_models[i]]['year_of_release'].min())\n",
    "            except:\n",
    "                print('Среднее время жизни одного поколения: {:.2f} лет'.format(np.mean(delta_list)))"
   ]
  },
  {
   "cell_type": "markdown",
   "id": "3cf4aa55",
   "metadata": {
    "id": "3cf4aa55"
   },
   "source": [
    "#### Стационарные консоли PlayStation"
   ]
  },
  {
   "cell_type": "code",
   "execution_count": 30,
   "id": "41707f3e",
   "metadata": {
    "colab": {
     "base_uri": "https://localhost:8080/",
     "height": 367
    },
    "id": "41707f3e",
    "outputId": "c5bb7718-1156-4557-847c-afc44e8182e0"
   },
   "outputs": [
    {
     "data": {
      "image/png": "[encoded data removed]",
      "text/plain": [
       "<Figure size 1152x360 with 4 Axes>"
      ]
     },
     "metadata": {
      "needs_background": "light"
     },
     "output_type": "display_data"
    },
    {
     "name": "stdout",
     "output_type": "stream",
     "text": [
      "Среднее время жизни одного поколения: 6.33 лет\n"
     ]
    }
   ],
   "source": [
    "plotter(ps_query, ps_models, show_delta=True)"
   ]
  },
  {
   "cell_type": "markdown",
   "id": "a1192a78",
   "metadata": {
    "id": "a1192a78"
   },
   "source": [
    "###### Вывод "
   ]
  },
  {
   "cell_type": "markdown",
   "id": "033fe07c",
   "metadata": {
    "id": "033fe07c"
   },
   "source": [
    "Судя по этим гистограммам, смена поколений консолей Play Station происходит каждые 6-7 лет. Если исходить из того, что сейчас идёт 2016 год, то актуальной платформой на данный момент является PS4, игры на которую начали продаваться с 2013 года"
   ]
  },
  {
   "cell_type": "markdown",
   "id": "5a77d0db",
   "metadata": {
    "id": "5a77d0db"
   },
   "source": [
    "#### Портативные консоли PlayStation"
   ]
  },
  {
   "cell_type": "code",
   "execution_count": 31,
   "id": "72c40a08",
   "metadata": {
    "colab": {
     "base_uri": "https://localhost:8080/",
     "height": 367
    },
    "id": "72c40a08",
    "outputId": "d31d2408-201c-4ab1-8ee9-b4ff1509239e"
   },
   "outputs": [
    {
     "data": {
      "image/png": "[encoded data removed]",
      "text/plain": [
       "<Figure size 1152x360 with 2 Axes>"
      ]
     },
     "metadata": {
      "needs_background": "light"
     },
     "output_type": "display_data"
    },
    {
     "name": "stdout",
     "output_type": "stream",
     "text": [
      "Среднее время жизни одного поколения: 7.00 лет\n"
     ]
    }
   ],
   "source": [
    "plotter(psp_query, psp_models, show_delta=True)"
   ]
  },
  {
   "cell_type": "markdown",
   "id": "a51fd197",
   "metadata": {
    "id": "a51fd197"
   },
   "source": [
    "###### Вывод "
   ]
  },
  {
   "cell_type": "markdown",
   "id": "66834ba2",
   "metadata": {
    "id": "66834ba2"
   },
   "source": [
    "С портативными консолями от Sony ситуция несколько иная, так как таких платформ всего две. Тем не менее, актуальная на данный момент платформа - PSV, игры на которую продаются с 2011 года."
   ]
  },
  {
   "cell_type": "markdown",
   "id": "c0c0c376",
   "metadata": {
    "id": "c0c0c376"
   },
   "source": [
    "#### Консоли Xbox "
   ]
  },
  {
   "cell_type": "code",
   "execution_count": 32,
   "id": "fcc6847d",
   "metadata": {
    "colab": {
     "base_uri": "https://localhost:8080/",
     "height": 367
    },
    "id": "fcc6847d",
    "outputId": "a123fb13-88be-4b93-83be-86732f631563"
   },
   "outputs": [
    {
     "data": {
      "image/png": "[encoded data removed]",
      "text/plain": [
       "<Figure size 1152x360 with 3 Axes>"
      ]
     },
     "metadata": {
      "needs_background": "light"
     },
     "output_type": "display_data"
    },
    {
     "name": "stdout",
     "output_type": "stream",
     "text": [
      "Среднее время жизни одного поколения: 6.50 лет\n"
     ]
    }
   ],
   "source": [
    "plotter(xb_query, xb_models, show_delta=True)"
   ]
  },
  {
   "cell_type": "markdown",
   "id": "7071b70b",
   "metadata": {
    "id": "7071b70b"
   },
   "source": [
    "###### Вывод "
   ]
  },
  {
   "cell_type": "markdown",
   "id": "915d9495",
   "metadata": {
    "id": "915d9495"
   },
   "source": [
    "У консолей Xbox было три версии. Между первым и вторым поколением перерыв составил 4 года, а между вторым и третьим - 8 лет. Актуальная на 2016 год платформа - XOne, игры на которую продаются начиная с 2013 года."
   ]
  },
  {
   "cell_type": "markdown",
   "id": "d8f97470",
   "metadata": {
    "id": "d8f97470"
   },
   "source": [
    "#### Стационарные консоли Nintendo "
   ]
  },
  {
   "cell_type": "code",
   "execution_count": 33,
   "id": "69f628e5",
   "metadata": {
    "colab": {
     "base_uri": "https://localhost:8080/",
     "height": 367
    },
    "id": "69f628e5",
    "outputId": "f7c94b09-a480-4ee3-b085-735776c86853"
   },
   "outputs": [
    {
     "data": {
      "image/png": "[encoded data removed]",
      "text/plain": [
       "<Figure size 1152x360 with 5 Axes>"
      ]
     },
     "metadata": {
      "needs_background": "light"
     },
     "output_type": "display_data"
    },
    {
     "name": "stdout",
     "output_type": "stream",
     "text": [
      "Среднее время жизни одного поколения: 5.25 лет\n"
     ]
    }
   ],
   "source": [
    "plotter(nintendo_query, nintendo_models, show_delta=True)"
   ]
  },
  {
   "cell_type": "markdown",
   "id": "6ce2f612",
   "metadata": {
    "id": "6ce2f612"
   },
   "source": [
    "###### Вывод "
   ]
  },
  {
   "cell_type": "markdown",
   "id": "af2064bc",
   "metadata": {
    "id": "af2064bc"
   },
   "source": [
    "У Nintendo больше всего платформ из всего нашего списка, и все они появлялись с шагом в 5 лет. Актуальная платформа - WiiU, игры на неё продают с 2012 года, но количество выпущенных игр меньше чем у конкурентов."
   ]
  },
  {
   "cell_type": "markdown",
   "id": "1a0d31cb",
   "metadata": {
    "id": "1a0d31cb"
   },
   "source": [
    "#### Портативные консоли Nintendo "
   ]
  },
  {
   "cell_type": "code",
   "execution_count": 34,
   "id": "2191abde",
   "metadata": {
    "colab": {
     "base_uri": "https://localhost:8080/",
     "height": 367
    },
    "id": "2191abde",
    "outputId": "0af65015-4cef-4322-fcd2-e298e49a6e95"
   },
   "outputs": [
    {
     "data": {
      "image/png": "[encoded data removed]",
      "text/plain": [
       "<Figure size 1152x360 with 3 Axes>"
      ]
     },
     "metadata": {
      "needs_background": "light"
     },
     "output_type": "display_data"
    },
    {
     "name": "stdout",
     "output_type": "stream",
     "text": [
      "Среднее время жизни одного поколения: 5.50 лет\n"
     ]
    }
   ],
   "source": [
    "plotter(nintendo_port_query, nintendo_port_models, show_delta=True)"
   ]
  },
  {
   "cell_type": "markdown",
   "id": "78b66642",
   "metadata": {
    "id": "78b66642"
   },
   "source": [
    "###### Вывод "
   ]
  },
  {
   "cell_type": "markdown",
   "id": "ff91adce",
   "metadata": {
    "id": "ff91adce"
   },
   "source": [
    "Для портативных консолей Nintendo сложно назвать однозначный промежуток времени между выходами платформ, чёткой зависимости нет. Актуальная платформа - 3DS, игры на неё покупают с 2011 года. Правда, начиная со старта продаж количество новых игр на эту платформу стабильно падает."
   ]
  },
  {
   "cell_type": "markdown",
   "id": "c9a9978d",
   "metadata": {
    "id": "c9a9978d"
   },
   "source": [
    "#### Вывод "
   ]
  },
  {
   "cell_type": "markdown",
   "id": "0fcb5959",
   "metadata": {
    "id": "0fcb5959"
   },
   "source": [
    "С помощью гистограмм мы смогли определить, какие именно платформы являются актуальными на данный момент, а также проанализировать выход новых игр на них.  \n",
    "- Платформа PS4 на данный момент продаётся уже 4 года, а все предыдущие поколения обновлялись спустя 6-7 лет. На всех платформах, вне зависимости от производителя, выпуск новых игр растёт ровно до тех пор, пока не появится новое поколение консоли, после чего количество игр для старой платформы начинает снижаться. Исходя из этого можно сказать, что, скорее всего, количество игр на PS4 будет расти ещё ближайшие 2-3 года, до обновления платформы.  \n",
    "- С портативными консолями от Sony сложнее построить прогноз, поскольку они выпускались всего в двух поколениях. Однако, между ними была разница в 7 лет, а текущая платформа, PSV, держится на рынке уже 6 лет. Можно предположить, что не за горами обновление, если оно вообще будет. Но, как бы то ни было, портативные консоли получают меньше игр, а, значит, пользуются меньшим спросом, нежели чем PS4.  \n",
    "- У Xbox было выпущено меньше поколений платформы, чем у PS, и с разными промежутками во времени: 4 года между XB и X360 и 8 лет между X360 и XOne. При этом на последнюю игры выпускают уже 4 года, как и на PS4. Нужно изучить официальные заявления производителя, чтобы выяснить, не собирается ли он обновлять поколение в следующем году - обычно о таком известно заранее. Если такой информации нет, то, скорее всего, XOne продержится на рынке ещё пару лет, после чего обновится вместе с PS4.  \n",
    "- Nintendo обновляет все свои стационарные консоли с шагом в 5 лет. Такая процедура повторялась 5 раз, и пока нет оснований предполагать, что в этот раз ситуация изменится. Текущий 2016 год для платформы WiiU является, как раз, пятым. Это, вкупе с самым маленьким количеством игр среди конкурентов, говорит нам о том, что рассчитывать на большой спрос на игры для этой платформы в следующем году не стоит.  \n",
    "- Игры на портативные консоли Nintendo выпускаются активнее, чем на PSV. Как и у конкурента от Sony, здесь сложно спрогнозировать выход новой консоли, ориентируясь на даты выхода предыдущих поколений. Можно лишь заметить, что актуальная платформа, 3DS, на рынке уже 6 лет, что немалый срок для отрасли - многие платформы обновляются примерно с такой периодичностью. Существует заметная вероятность, что вот-вот выйдет обновление, если оно вообще выйдет. Хотя суммарные продажи игр для 3DS ощутимо превышают продажи WiiU, так что есть шансы на появление новой портативной консоли в ближайшее время. В любом случае, в 2017 году не стоит ожидать большой спрос на игры для 3DS, как и для PSV."
   ]
  },
  {
   "cell_type": "markdown",
   "id": "0e76e2a6",
   "metadata": {
    "id": "0e76e2a6"
   },
   "source": [
    "### Определение актуальных платформ"
   ]
  },
  {
   "cell_type": "markdown",
   "id": "3c0f12ae",
   "metadata": {
    "id": "3c0f12ae"
   },
   "source": [
    "Соберём срез данных, оставив в нём платформы с наибольшим потенциальным спросом на игры в 2017 году. Чтобы убедиться, что мы никого не потеряли на предыдущих итерациях, условие для среза мы составим в виде исключения неподходящих платформ. Как мы знаем, все актуальные и перспективные платформы были выпущены начиная с 2013 года, значит всё, что выпускалось раньше, можно не рассматривать. Также мы откажемся от тех консолей, которые признали бесперспективными на 2017 год по результатам предыдущего анализа - список с ними будет в переменной hopeless_platform. Всё, что останется после такого среза, будет помещено в переменной actual_platforms:"
   ]
  },
  {
   "cell_type": "code",
   "execution_count": 35,
   "id": "91c12041",
   "metadata": {
    "colab": {
     "base_uri": "https://localhost:8080/",
     "height": 237
    },
    "id": "91c12041",
    "outputId": "7b5aeb76-ccd7-4a48-9dd3-512f29bdb9ed"
   },
   "outputs": [
    {
     "data": {
      "text/html": [
       "\n",
       "  <div id=\"df-ce70477f-80cf-4a1f-999c-85c906d585b3\">\n",
       "    <div class=\"colab-df-container\">\n",
       "      <div>\n",
       "<style scoped>\n",
       "    .dataframe tbody tr th:only-of-type {\n",
       "        vertical-align: middle;\n",
       "    }\n",
       "\n",
       "    .dataframe tbody tr th {\n",
       "        vertical-align: top;\n",
       "    }\n",
       "\n",
       "    .dataframe thead th {\n",
       "        text-align: right;\n",
       "    }\n",
       "</style>\n",
       "<table border=\"1\" class=\"dataframe\">\n",
       "  <thead>\n",
       "    <tr style=\"text-align: right;\">\n",
       "      <th></th>\n",
       "      <th>all_sales</th>\n",
       "    </tr>\n",
       "    <tr>\n",
       "      <th>platform</th>\n",
       "      <th></th>\n",
       "    </tr>\n",
       "  </thead>\n",
       "  <tbody>\n",
       "    <tr>\n",
       "      <th>PS4</th>\n",
       "      <td>314.14</td>\n",
       "    </tr>\n",
       "    <tr>\n",
       "      <th>PS3</th>\n",
       "      <td>181.43</td>\n",
       "    </tr>\n",
       "    <tr>\n",
       "      <th>XOne</th>\n",
       "      <td>159.32</td>\n",
       "    </tr>\n",
       "    <tr>\n",
       "      <th>X360</th>\n",
       "      <td>136.80</td>\n",
       "    </tr>\n",
       "    <tr>\n",
       "      <th>PC</th>\n",
       "      <td>39.43</td>\n",
       "    </tr>\n",
       "  </tbody>\n",
       "</table>\n",
       "</div>\n",
       "      <button class=\"colab-df-convert\" onclick=\"convertToInteractive('df-ce70477f-80cf-4a1f-999c-85c906d585b3')\"\n",
       "              title=\"Convert this dataframe to an interactive table.\"\n",
       "              style=\"display:none;\">\n",
       "        \n",
       "  <svg xmlns=\"http://www.w3.org/2000/svg\" height=\"24px\"viewBox=\"0 0 24 24\"\n",
       "       width=\"24px\">\n",
       "    <path d=\"M0 0h24v24H0V0z\" fill=\"none\"/>\n",
       "    <path d=\"M18.56 5.44l.94 2.06.94-2.06 2.06-.94-2.06-.94-.94-2.06-.94 2.06-2.06.94zm-11 1L8.5 8.5l.94-2.06 2.06-.94-2.06-.94L8.5 2.5l-.94 2.06-2.06.94zm10 10l.94 2.06.94-2.06 2.06-.94-2.06-.94-.94-2.06-.94 2.06-2.06.94z\"/><path d=\"M17.41 7.96l-1.37-1.37c-.4-.4-.92-.59-1.43-.59-.52 0-1.04.2-1.43.59L10.3 9.45l-7.72 7.72c-.78.78-.78 2.05 0 2.83L4 21.41c.39.39.9.59 1.41.59.51 0 1.02-.2 1.41-.59l7.78-7.78 2.81-2.81c.8-.78.8-2.07 0-2.86zM5.41 20L4 18.59l7.72-7.72 1.47 1.35L5.41 20z\"/>\n",
       "  </svg>\n",
       "      </button>\n",
       "      \n",
       "  <style>\n",
       "    .colab-df-container {\n",
       "      display:flex;\n",
       "      flex-wrap:wrap;\n",
       "      gap: 12px;\n",
       "    }\n",
       "\n",
       "    .colab-df-convert {\n",
       "      background-color: #E8F0FE;\n",
       "      border: none;\n",
       "      border-radius: 50%;\n",
       "      cursor: pointer;\n",
       "      display: none;\n",
       "      fill: #1967D2;\n",
       "      height: 32px;\n",
       "      padding: 0 0 0 0;\n",
       "      width: 32px;\n",
       "    }\n",
       "\n",
       "    .colab-df-convert:hover {\n",
       "      background-color: #E2EBFA;\n",
       "      box-shadow: 0px 1px 2px rgba(60, 64, 67, 0.3), 0px 1px 3px 1px rgba(60, 64, 67, 0.15);\n",
       "      fill: #174EA6;\n",
       "    }\n",
       "\n",
       "    [theme=dark] .colab-df-convert {\n",
       "      background-color: #3B4455;\n",
       "      fill: #D2E3FC;\n",
       "    }\n",
       "\n",
       "    [theme=dark] .colab-df-convert:hover {\n",
       "      background-color: #434B5C;\n",
       "      box-shadow: 0px 1px 3px 1px rgba(0, 0, 0, 0.15);\n",
       "      filter: drop-shadow(0px 1px 2px rgba(0, 0, 0, 0.3));\n",
       "      fill: #FFFFFF;\n",
       "    }\n",
       "  </style>\n",
       "\n",
       "      <script>\n",
       "        const buttonEl =\n",
       "          document.querySelector('#df-ce70477f-80cf-4a1f-999c-85c906d585b3 button.colab-df-convert');\n",
       "        buttonEl.style.display =\n",
       "          google.colab.kernel.accessAllowed ? 'block' : 'none';\n",
       "\n",
       "        async function convertToInteractive(key) {\n",
       "          const element = document.querySelector('#df-ce70477f-80cf-4a1f-999c-85c906d585b3');\n",
       "          const dataTable =\n",
       "            await google.colab.kernel.invokeFunction('convertToInteractive',\n",
       "                                                     [key], {});\n",
       "          if (!dataTable) return;\n",
       "\n",
       "          const docLinkHtml = 'Like what you see? Visit the ' +\n",
       "            '<a target=\"_blank\" href=https://colab.research.google.com/notebooks/data_table.ipynb>data table notebook</a>'\n",
       "            + ' to learn more about interactive tables.';\n",
       "          element.innerHTML = '';\n",
       "          dataTable['output_type'] = 'display_data';\n",
       "          await google.colab.output.renderOutput(dataTable, element);\n",
       "          const docLink = document.createElement('div');\n",
       "          docLink.innerHTML = docLinkHtml;\n",
       "          element.appendChild(docLink);\n",
       "        }\n",
       "      </script>\n",
       "    </div>\n",
       "  </div>\n",
       "  "
      ],
      "text/plain": [
       "          all_sales\n",
       "platform           \n",
       "PS4          314.14\n",
       "PS3          181.43\n",
       "XOne         159.32\n",
       "X360         136.80\n",
       "PC            39.43"
      ]
     },
     "execution_count": 35,
     "metadata": {},
     "output_type": "execute_result"
    }
   ],
   "source": [
    "hopeless_platforms = ['3DS', 'DS', 'WiiU', 'Wii', 'PSV', 'PSP']\n",
    "\n",
    "actual_platforms = df[ (df['year_of_release'] >= 2013) \n",
    "         & ~(df['platform'].isin(hopeless_platforms))]\n",
    "\n",
    "actual_platform_pivot = pd.pivot_table(actual_platforms, \n",
    "                                index='platform', \n",
    "                                values='all_sales', \n",
    "                                aggfunc='sum')\n",
    "\n",
    "actual_platform_pivot = actual_platform_pivot.sort_values(by='all_sales', ascending=False)\n",
    "actual_platform_pivot"
   ]
  },
  {
   "cell_type": "markdown",
   "id": "71cbbfd9",
   "metadata": {
    "id": "71cbbfd9"
   },
   "source": [
    "Под наши условия попали как новые поколения, так и старые. Однако, суммарные продажи игр на PS4 и XOne превышают таковые для более старых консолей, PS3 и X360. Это означает, что актуальное поколение достаточно уверенно обгоняет предшественника, и эта разница будет только увеличиваться. Рассчитывать на рост продаж игр для старых консолей точно не стоит, так что и рассматривать их мы больше не будем. "
   ]
  },
  {
   "cell_type": "code",
   "execution_count": 36,
   "id": "3f2af81e",
   "metadata": {
    "id": "3f2af81e"
   },
   "outputs": [],
   "source": [
    "actual_platforms = actual_platforms[actual_platforms['platform'].isin(['PS4', 'XOne', 'PC'])]"
   ]
  },
  {
   "cell_type": "markdown",
   "id": "79a6127f",
   "metadata": {
    "id": "79a6127f"
   },
   "source": [
    "Осталось всего три платформы - PS4, XOne и PC. Первые две из них мы уже видели на графиках, и делали вывод, что, скорее всего, ближайшие пару лет спрос на игры для этих платформ будет расти. Последняя платформа, PC, ранее рассмотрена не была, поскольку она не попала в топ-10 по продажам игр, однако она всплыла сейчас. Для начала стоит взглянуть, как обстоят дела с выпуском новых игр на этой платформе:"
   ]
  },
  {
   "cell_type": "code",
   "execution_count": 37,
   "id": "ae65eb69",
   "metadata": {
    "colab": {
     "base_uri": "https://localhost:8080/",
     "height": 428
    },
    "id": "ae65eb69",
    "outputId": "b49a968b-a962-4944-b6e5-e5a19e15b99f"
   },
   "outputs": [
    {
     "data": {
      "image/png": "[encoded data removed]",
      "text/plain": [
       "<Figure size 504x504 with 1 Axes>"
      ]
     },
     "metadata": {
      "needs_background": "light"
     },
     "output_type": "display_data"
    }
   ],
   "source": [
    "pc_models = ['PC']\n",
    "pc_query = df[df['platform'].isin(pc_models)]\n",
    "\n",
    "pc_query.plot(y='year_of_release', \n",
    "              kind='hist', \n",
    "              bins=50, \n",
    "              figsize=(7,7), \n",
    "              grid=True)\n",
    "plt.show()"
   ]
  },
  {
   "cell_type": "markdown",
   "id": "16373f1a",
   "metadata": {
    "id": "16373f1a"
   },
   "source": [
    "Вплоть до 2011 года количество новых игр на компьютеры росло, и росло весьма уверенно. Но после 2011 за пару лет этот показатель упал практически в 3.5 раза, после чего снова наблюдается небольшой рост. Как мы помним, примерно в это время появились актуальные на данный момент платформы, PS4 и XOne. Посмотрим на все эти платформы вместе:"
   ]
  },
  {
   "cell_type": "code",
   "execution_count": 38,
   "id": "6c6c17ff",
   "metadata": {
    "colab": {
     "base_uri": "https://localhost:8080/",
     "height": 350
    },
    "id": "6c6c17ff",
    "outputId": "59d9a9de-ea3b-46cc-be9a-d8675329aa10"
   },
   "outputs": [
    {
     "data": {
      "image/png": "[encoded data removed]",
      "text/plain": [
       "<Figure size 1152x360 with 3 Axes>"
      ]
     },
     "metadata": {
      "needs_background": "light"
     },
     "output_type": "display_data"
    }
   ],
   "source": [
    "plotter(actual_platforms, actual_platforms['platform'].unique())"
   ]
  },
  {
   "cell_type": "markdown",
   "id": "5927553c",
   "metadata": {
    "id": "5927553c"
   },
   "source": [
    "Уменьшение количества новых игр на PC произошло примерно в то же время, в которое появились PS4 и XOne. Возможно, новые платформы оказались более привлекательными для пользователей, нежели чем предыдущие поколения, или предлагали более интересные условия для разработчиков. Однако нельзя однозначно утверждать, что 2/3 игроков взяли и пересели с персональных компьютеров на консоли, это могут быть несвязанные события. Также как и нельзя однозначно спрогнозировать рост или падение спроса на игры для PC. Но, в отличие от WiiU, 3DS и PSV, которые мы ранее признали бесперспективными, в пользу PC говорит отсутствие поколений: спрос на игры для консолей жёстко привязан к выходу новых версий платформы, в то время как на PC игры выходят и покупаются более равномерно, а пользователи обновляют компьютеры самостоятельно, по необходимости и своему усмотрению. Вдобавок к этому, последние 4 года объём новых игр на PC показывают стабильный рост, хоть и слабенький. Из всего этого можно сделать предположение, что в 2017 году количество новых игр для этой платформы будет как минимум на уровне 2016 года, или даже немного выше."
   ]
  },
  {
   "cell_type": "markdown",
   "id": "1bf3230a",
   "metadata": {
    "id": "1bf3230a"
   },
   "source": [
    "### Анализ зависимости количества продаж от оценок пользователей и критиков"
   ]
  },
  {
   "cell_type": "markdown",
   "id": "e2af0699",
   "metadata": {
    "id": "e2af0699"
   },
   "source": [
    "Изучим продажи игр на каждую из трёх выбранных платформ. Для начала построим диаграммы размаха, чтобы определить диапазон основных значений:"
   ]
  },
  {
   "cell_type": "code",
   "execution_count": 39,
   "id": "04a0cdb1",
   "metadata": {
    "colab": {
     "base_uri": "https://localhost:8080/",
     "height": 909
    },
    "id": "04a0cdb1",
    "outputId": "3b5a0ab6-30da-4709-add8-eaeb42ca042f"
   },
   "outputs": [
    {
     "name": "stdout",
     "output_type": "stream",
     "text": [
      "\n",
      " PS4 :\n",
      " count    392.000000\n",
      "mean       0.801378\n",
      "std        1.609456\n",
      "min        0.010000\n",
      "25%        0.060000\n",
      "50%        0.200000\n",
      "75%        0.730000\n",
      "max       14.630000\n",
      "Name: all_sales, dtype: float64\n",
      "\n",
      " XOne :\n",
      " count    247.000000\n",
      "mean       0.645020\n",
      "std        1.036139\n",
      "min        0.010000\n",
      "25%        0.060000\n",
      "50%        0.220000\n",
      "75%        0.685000\n",
      "max        7.390000\n",
      "Name: all_sales, dtype: float64\n",
      "\n",
      " PC :\n",
      " count    189.000000\n",
      "mean       0.208624\n",
      "std        0.352304\n",
      "min        0.010000\n",
      "25%        0.030000\n",
      "50%        0.080000\n",
      "75%        0.230000\n",
      "max        3.050000\n",
      "Name: all_sales, dtype: float64\n"
     ]
    },
    {
     "data": {
      "image/png": "[encoded data removed]",
      "text/plain": [
       "<Figure size 1152x360 with 3 Axes>"
      ]
     },
     "metadata": {
      "needs_background": "light"
     },
     "output_type": "display_data"
    }
   ],
   "source": [
    "fig, axes = plt.subplots(1, 3, sharey=True, figsize=(16,5))\n",
    "\n",
    "for i in range(0, 3):\n",
    "    \n",
    "    data = actual_platforms[actual_platforms['platform'] == actual_platforms['platform'].unique()[i]]\n",
    "    \n",
    "    axes[i].boxplot(data['all_sales'])\n",
    "    axes[i].set_title(actual_platforms['platform'].unique()[i])\n",
    "    axes[i].grid(axis='y')    \n",
    "    plt.ylim(0, 1.75)\n",
    "    \n",
    "    print('\\n', actual_platforms['platform'].unique()[i], ':\\n', data['all_sales'].describe())\n",
    "    \n",
    "axes[0].set_ylabel('Количество продаж игры, млн')\n",
    "plt.show()"
   ]
  },
  {
   "cell_type": "markdown",
   "id": "054b1a6a",
   "metadata": {
    "id": "054b1a6a"
   },
   "source": [
    "Для корректного дальнейшего анализа будет нелишним избавиться от выбросов. Они есть у каждой платформы, в бóльшей или меньшей степени. Вполне нормально, что какие-то отдельные игры по каким-то своим причинам получили огромную популярность, но по ним нельзя судить о поведении всей остальной индустрии. В переменные ps4_clean, xone_clean и pc_clean сохраним очищенные от выбросов срезы, для платформ PS4, XOne и PC соответственно:"
   ]
  },
  {
   "cell_type": "code",
   "execution_count": 40,
   "id": "dff2ad9c",
   "metadata": {
    "id": "dff2ad9c"
   },
   "outputs": [],
   "source": [
    "ps4_clean = actual_platforms.query('(platform == \"PS4\") & (all_sales <= 1.74)')\n",
    "xone_clean = actual_platforms.query('(platform == \"XOne\") & (all_sales <= 1.59)')\n",
    "pc_clean = actual_platforms.query('(platform == \"PC\") & (all_sales <= 0.56)')"
   ]
  },
  {
   "cell_type": "markdown",
   "id": "ede752f6",
   "metadata": {
    "id": "ede752f6"
   },
   "source": [
    "Проанализируем зависимость продаж от отзывов критиков и обычных пользователей. Для этого построим диаграммы рассеяния и рассчитаем коэффициент корреляции, для каждой платформы по отдельности."
   ]
  },
  {
   "cell_type": "code",
   "execution_count": 41,
   "id": "10e60dc4",
   "metadata": {
    "id": "10e60dc4"
   },
   "outputs": [],
   "source": [
    "def corr (data):\n",
    "    \n",
    "    columns = ['user_score', 'critic_score']\n",
    "    string = ['пользователей', 'критиков']\n",
    "    \n",
    "    fig, axes = plt.subplots(1, 2, sharey=True, figsize=(16,5))\n",
    "    \n",
    "    for i in range(0, 2):  \n",
    "        \n",
    "        axes[i].scatter(y=data['all_sales'], x=data[columns[i]])\n",
    "        axes[i].set_ylabel('Количество продаж, млн')\n",
    "        axes[i].set_xlabel('Оценки ' + string[i])\n",
    "        \n",
    "        print('Корреляция оценок {} к количеству продаж: {}'.format(string[i], data[columns[i]].corr(data['all_sales'])))"
   ]
  },
  {
   "cell_type": "markdown",
   "id": "7f8d86af",
   "metadata": {
    "id": "7f8d86af"
   },
   "source": [
    "#### PS4"
   ]
  },
  {
   "cell_type": "code",
   "execution_count": 42,
   "id": "275ae344",
   "metadata": {
    "colab": {
     "base_uri": "https://localhost:8080/",
     "height": 369
    },
    "id": "275ae344",
    "outputId": "cdb408f0-edae-41b3-ae61-41e45676f27f"
   },
   "outputs": [
    {
     "name": "stdout",
     "output_type": "stream",
     "text": [
      "Корреляция оценок пользователей к количеству продаж: 0.011444030542239062\n",
      "Корреляция оценок критиков к количеству продаж: 0.272623894525229\n"
     ]
    },
    {
     "data": {
      "image/png": "[encoded data removed]",
      "text/plain": [
       "<Figure size 1152x360 with 2 Axes>"
      ]
     },
     "metadata": {
      "needs_background": "light"
     },
     "output_type": "display_data"
    }
   ],
   "source": [
    "corr(ps4_clean)"
   ]
  },
  {
   "cell_type": "markdown",
   "id": "7e7b1c8c",
   "metadata": {
    "id": "7e7b1c8c"
   },
   "source": [
    "###### Вывод"
   ]
  },
  {
   "cell_type": "markdown",
   "id": "fe00842c",
   "metadata": {
    "id": "fe00842c"
   },
   "source": [
    "Судя по графикам, большинство критиков и пользователей дают играм оценку выше 60/100. Скопление оценок у правого края графика, там, где поселились игры с наименьшим количеством продаж, может быть обусловлено большим количеством таких игр, ведь далеко не каждая расходится многомиллионными тиражами. При этом, среди игр с большим количеством продаж нет почти ни одной, у которой оценка критиков была бы ниже 60, в то время как пользователи ставят тем же играм совершенно разнообразные оценки.  \n",
    "Коеффициент корреляции оценок пользователей достаточно близок к 0, то есть при покупке игры новые покупатели практически не обращают внимания на оценки от других игроков. Критикам же доверяют несколько больше, коэффициент корреляции составляет 0.27. Это значение тоже небольшое, так что большинство людей покупает игры на PS4 не опираясь на оценки критиков, и тем более на оценки пользователей."
   ]
  },
  {
   "cell_type": "markdown",
   "id": "3b034807",
   "metadata": {
    "id": "3b034807"
   },
   "source": [
    "#### XOne "
   ]
  },
  {
   "cell_type": "code",
   "execution_count": 43,
   "id": "fac6464a",
   "metadata": {
    "colab": {
     "base_uri": "https://localhost:8080/",
     "height": 369
    },
    "id": "fac6464a",
    "outputId": "783561fc-6ff0-463f-ad2a-8b0256c33701"
   },
   "outputs": [
    {
     "name": "stdout",
     "output_type": "stream",
     "text": [
      "Корреляция оценок пользователей к количеству продаж: 0.05990079044888021\n",
      "Корреляция оценок критиков к количеству продаж: 0.42013386879815484\n"
     ]
    },
    {
     "data": {
      "image/png": "[encoded data removed]",
      "text/plain": [
       "<Figure size 1152x360 with 2 Axes>"
      ]
     },
     "metadata": {
      "needs_background": "light"
     },
     "output_type": "display_data"
    }
   ],
   "source": [
    "corr(xone_clean)"
   ]
  },
  {
   "cell_type": "markdown",
   "id": "38ec9a35",
   "metadata": {
    "id": "38ec9a35"
   },
   "source": [
    "###### Вывод "
   ]
  },
  {
   "cell_type": "markdown",
   "id": "24cbc229",
   "metadata": {
    "id": "24cbc229"
   },
   "source": [
    "На XOne ситуация, в целом, похожа на предыдущую платформу. Популярные игры всё также не имеют плохих оценок от критиков, обычные пользователи всё также могут поставить оценку пониже. Зато есть разница в коэффециентах корреляции - они оба больше, чем были у PS4. Правда, оценкам пользователей всё ещё не верят - корреляция всего лишь 0.05. Это, конечно, почти в 5 раз больше, чем было в прошлом случае, но всё ещё очень мало. А вот к критикам игроки на Xbox прислушиваются немного более внимательно - корреляция составила 0.4, что, в общем-то, тоже не так уж много."
   ]
  },
  {
   "cell_type": "markdown",
   "id": "1ff0e43e",
   "metadata": {
    "id": "1ff0e43e"
   },
   "source": [
    "#### PC "
   ]
  },
  {
   "cell_type": "code",
   "execution_count": 44,
   "id": "92a17b2e",
   "metadata": {
    "colab": {
     "base_uri": "https://localhost:8080/",
     "height": 369
    },
    "id": "92a17b2e",
    "outputId": "6129d64d-6b27-4089-8962-65ac79990a9e"
   },
   "outputs": [
    {
     "name": "stdout",
     "output_type": "stream",
     "text": [
      "Корреляция оценок пользователей к количеству продаж: -0.08092879135150631\n",
      "Корреляция оценок критиков к количеству продаж: 0.3329547228745267\n"
     ]
    },
    {
     "data": {
      "image/png": "[encoded data removed]",
      "text/plain": [
       "<Figure size 1152x360 with 2 Axes>"
      ]
     },
     "metadata": {
      "needs_background": "light"
     },
     "output_type": "display_data"
    }
   ],
   "source": [
    "corr(pc_clean)"
   ]
  },
  {
   "cell_type": "markdown",
   "id": "599266ff",
   "metadata": {
    "id": "599266ff"
   },
   "source": [
    "###### Вывод "
   ]
  },
  {
   "cell_type": "markdown",
   "id": "b3e9c5d7",
   "metadata": {
    "id": "b3e9c5d7"
   },
   "source": [
    "Игроки, выбравшие в качестве платформы PC, практически никак не отличаются от своих коллег на PS4 или XOne. Успешные проекты продолжают получать высокие оценки критиков и хаотичные оценки пользователей, а корреляция всё ещё слишком мала, чтобы говорить о прямой зависимости количества продаж к оценке."
   ]
  },
  {
   "cell_type": "markdown",
   "id": "36558b29",
   "metadata": {
    "id": "36558b29"
   },
   "source": [
    "#### Вывод "
   ]
  },
  {
   "cell_type": "markdown",
   "id": "e086e7fe",
   "metadata": {
    "id": "e086e7fe"
   },
   "source": [
    "Как выяснилось, на всех платформах оценки и их влияние на продажи приблизительно одинаковые. Критики редко ставят плохие оценки, и почти никогда они не ставят плохие оценки тем играм, которые продаются большими тиражами. Обычные пользователи, напротив, могут поставить абсолютно любую оценку любому проекту. Скорее всего это говорит лишь о том, что критики более объективны, чем простые пользователи, решение которых может быть недостаточно обдуманно. Отсюда же можно сделать вывод, что у свежей игры, получившей низкие оценки от критиков, маловато шансов стать бестселлером.  \n",
    "Коэффициент корреляции во всех случаях достаточно низкий, чтобы говорить про практически полное отсутствие линейной зависимости между оценками и покупками игр. Мнение простых игроков новые покупатели обычно игнорируют, а к критикам изредка прислушиваются. Правда, нет никаких гарантий, что рост продаж хорошей игры как-то связан с её оценками - это вполне может быть совпадением.  \n",
    "Стоит заметить, что на платформе PC объём продаж игр сильно меньше, чем на консолях, в то время как между PS4 и XOne разницы практически нет. Это может быть связано с несколькими причинами, например с более низкой стоимостью консолей - бóльшее количество людей сможет позволить себе поиграть на такой платформе. Также не стит забывать, что на PC распространено использование нелицензионнного контента, в то время как производители консолей не допускают подобных вольностей."
   ]
  },
  {
   "cell_type": "markdown",
   "id": "4560e798",
   "metadata": {
    "id": "4560e798"
   },
   "source": [
    "### Анализ зависимости продаж от жанра "
   ]
  },
  {
   "cell_type": "markdown",
   "id": "8da7ff7d",
   "metadata": {
    "id": "8da7ff7d"
   },
   "source": [
    "Теперь попробуем выяснить, игр какого жанра выпускается больше всего, а также какие жанры пользуются наибольшим спросом. Функция second_plotter заботливо построит нам гистограммы по жанрам и график рассеяния по количеству продаж, отдельно для каждой платформы:"
   ]
  },
  {
   "cell_type": "code",
   "execution_count": 45,
   "id": "97b55a3c",
   "metadata": {
    "id": "97b55a3c"
   },
   "outputs": [],
   "source": [
    "def second_plotter (data):\n",
    "    \n",
    "    data = data.sort_values(by='genre')\n",
    "\n",
    "    fig, axes = plt.subplots(2, 1, sharex=True, figsize=(16, 8))\n",
    "    axes[0].hist(data['genre'], bins=50)\n",
    "    axes[0].set_title(data['platform'].unique())\n",
    "    axes[1].scatter(x=data['genre'], y=data['all_sales'])\n",
    "    plt.show()"
   ]
  },
  {
   "cell_type": "markdown",
   "id": "ee41c26e",
   "metadata": {
    "id": "ee41c26e"
   },
   "source": [
    "#### PS4 "
   ]
  },
  {
   "cell_type": "code",
   "execution_count": 46,
   "id": "1d4805a3",
   "metadata": {
    "colab": {
     "base_uri": "https://localhost:8080/",
     "height": 499
    },
    "id": "1d4805a3",
    "outputId": "9357d559-8ca0-4cb2-af54-b2fc9b900b63"
   },
   "outputs": [
    {
     "data": {
      "image/png": "[encoded data removed]",
      "text/plain": [
       "<Figure size 1152x576 with 2 Axes>"
      ]
     },
     "metadata": {
      "needs_background": "light"
     },
     "output_type": "display_data"
    }
   ],
   "source": [
    "second_plotter(ps4_clean)"
   ]
  },
  {
   "cell_type": "markdown",
   "id": "4513005b",
   "metadata": {
    "id": "4513005b"
   },
   "source": [
    "###### Вывод "
   ]
  },
  {
   "cell_type": "markdown",
   "id": "eac930be",
   "metadata": {
    "id": "eac930be"
   },
   "source": [
    "На PS4 самый распространённый жанр - \"Action\", количество таких игр сильно превышает представителей остальных жанров. За ним идут жанры \"Role-Playing\" и \"Sports\", а в отстающих оказались \"Strategy\", \"Simulation\" и \"Puzzle\".  \n",
    "По количеству продаж больше всего выделяются жанры \"Sports\" и \"Shooter\" - игры этих жанров покупают достаточно активно, хотя самих игр не так много. Лидером продаж остаётся жанр \"Action\"."
   ]
  },
  {
   "cell_type": "markdown",
   "id": "cab2c59b",
   "metadata": {
    "id": "cab2c59b"
   },
   "source": [
    "#### PC "
   ]
  },
  {
   "cell_type": "code",
   "execution_count": 47,
   "id": "81be8abe",
   "metadata": {
    "colab": {
     "base_uri": "https://localhost:8080/",
     "height": 499
    },
    "id": "81be8abe",
    "outputId": "4e369754-e7ff-4db7-96db-b4c6eaef552f"
   },
   "outputs": [
    {
     "data": {
      "image/png": "[encoded data removed]",
      "text/plain": [
       "<Figure size 1152x576 with 2 Axes>"
      ]
     },
     "metadata": {
      "needs_background": "light"
     },
     "output_type": "display_data"
    }
   ],
   "source": [
    "second_plotter(pc_clean)"
   ]
  },
  {
   "cell_type": "code",
   "execution_count": 48,
   "id": "98871b00",
   "metadata": {
    "colab": {
     "base_uri": "https://localhost:8080/"
    },
    "id": "98871b00",
    "outputId": "60a6ec1b-b1ba-41ac-8823-96ff4a606b54"
   },
   "outputs": [
    {
     "name": "stdout",
     "output_type": "stream",
     "text": [
      "Всего продаж игр жанра Action: 5.44\n",
      "Всего продаж игр жанра Shooter: 5.87\n",
      "\n",
      "Количество игр с тиражом больше 0.35 млн копий:\n",
      "Shooter    7\n",
      "Action     4\n",
      "Name: genre, dtype: int64\n"
     ]
    }
   ],
   "source": [
    "print('Всего продаж игр жанра Action:', \n",
    "      pc_clean[pc_clean['genre'] == \"Action\"]['all_sales'].sum())\n",
    "print('Всего продаж игр жанра Shooter:',\n",
    "      pc_clean[pc_clean['genre'] == \"Shooter\"]['all_sales'].sum())\n",
    "\n",
    "val = pc_clean.query('(genre == [\"Action\", \"Shooter\"]) & (all_sales >= 0.35)')\n",
    "\n",
    "print('\\nКоличество игр с тиражом больше 0.35 млн копий:\\n{}'\n",
    "      .format(val['genre'].value_counts()))\n"
   ]
  },
  {
   "cell_type": "markdown",
   "id": "0e856d8b",
   "metadata": {
    "id": "0e856d8b"
   },
   "source": [
    "###### Вывод "
   ]
  },
  {
   "cell_type": "markdown",
   "id": "de3560b8",
   "metadata": {
    "id": "de3560b8"
   },
   "source": [
    "На PC больше всего игр в жанре \"Action\", но отрыв от остальных жанров не такой значительный, как на предыдущей платформе. Следующие по популярности жанры - \"Shooter\" и \"Strategy\", которые были довольно слабо представлены на PS4. А вот игры жанров \"Fighting\" и \"Misc\" на PC не нашли свою аудиторию, и их количество сильно сократилось.  \n",
    "По количеству продаж на первое место выбился жанр \"Shooter\", обогнав жанр \"Action\" и по количеству игр-бестселлеров, и по суммарным продажам. И это при том, что игр жанра \"Action\" на PC почти в полтора раза больше, чем жанра \"Shooter\". Также стоит ещё раз отметить, что объём продаж игр на PC сильно меньше, чем на PS4."
   ]
  },
  {
   "cell_type": "markdown",
   "id": "8b7f6972",
   "metadata": {
    "id": "8b7f6972"
   },
   "source": [
    "#### XOne "
   ]
  },
  {
   "cell_type": "code",
   "execution_count": 49,
   "id": "0fd0a094",
   "metadata": {
    "colab": {
     "base_uri": "https://localhost:8080/",
     "height": 499
    },
    "id": "0fd0a094",
    "outputId": "7d6f297d-134f-4a48-ef1c-45b7fb2ac231"
   },
   "outputs": [
    {
     "data": {
      "image/png": "[encoded data removed]",
      "text/plain": [
       "<Figure size 1152x576 with 2 Axes>"
      ]
     },
     "metadata": {
      "needs_background": "light"
     },
     "output_type": "display_data"
    }
   ],
   "source": [
    "second_plotter(xone_clean)"
   ]
  },
  {
   "cell_type": "markdown",
   "id": "bf88ccf1",
   "metadata": {
    "id": "bf88ccf1"
   },
   "source": [
    "###### Вывод "
   ]
  },
  {
   "cell_type": "markdown",
   "id": "a6bc821d",
   "metadata": {
    "id": "a6bc821d"
   },
   "source": [
    "На XOne самый популярный жанр снова \"Action\", и снова с большим отрывом от остальных. За ним следуют \"Sports\" и \"Shooter\", а меньше всего игр в жанрах \"Strategy\" и \"Simulation\". Хуже всего жанру \"Puzzle\" - на этой платформе его нет вообще.  \n",
    "По количеству продаж на первом месте \"Action\", за ними \"Sports\" и \"Shooter\", в точности как и на PS4."
   ]
  },
  {
   "cell_type": "markdown",
   "id": "0cd069bd",
   "metadata": {
    "id": "0cd069bd"
   },
   "source": [
    "#### Вывод "
   ]
  },
  {
   "cell_type": "markdown",
   "id": "b6d9baa8",
   "metadata": {
    "id": "b6d9baa8"
   },
   "source": [
    "На всех трёх популярных платформах безоговорочный лидер по количесву игр - жанр \"Action\". В нём больше всего игр, и многие из них продаются большими тиражами. Этот же жанр безоговорочно лидирует и по продажам, везде, кроме платформы РС, на которой первое место по продажам занял жанр \"Shooter\".  \n",
    "Если не брать во внимание жанр \"Action\", то в остальном у каждой платформы есть свои фавориты. Так, на XOne и PS4 горячо любят игры жанра \"Sport\", и не особо уважают представителей \"Strategy\", \"Simulation\" и \"Puzzle\". По количеству продаж на третьем месте на обоих платформах оказывается жанр \"Shooter\", а вот по количеству игр есть небольшое различие: у PS4 третье место занимает \"Role_Playing\". PC ощутимо отличается от обеих консолей - на этой платформе в центре внимания \"Shooter\" и \"Strategy\", и по количеству игр, и по количеству продаж.  \n",
    "Можно сделать вывод, что есть некоторые жанры-фавориты, которым игроки отдают предпочтение вне зависимости от платформы: \"Action\" и \"Shooter\". В эти игры готовы играть все и всегда. Дальше начинается разделение, причём не столько на платформы, сколько на консоли и персональные компьютеры. На последних игроки чаще выбирают игры жанра \"Strategy\", а на PS4 и XOne - \"Sports\". Скорее всего такое разделение связано с особенностями самих платформ - у них разные способы управления, которые удобны для разных видов игры. Однако сложно назвать жанр \"Strategy\" популярным, поскольку объём продаж игр на РС кратно меньше других платформ."
   ]
  },
  {
   "cell_type": "markdown",
   "id": "0d9852c8",
   "metadata": {
    "id": "0d9852c8"
   },
   "source": [
    "## Различия пользователей из разных регионов"
   ]
  },
  {
   "cell_type": "markdown",
   "id": "7910b4d3",
   "metadata": {
    "id": "7910b4d3"
   },
   "source": [
    "Чтобы проанализировать продажи игр в разных регионах, возьмем срез данных по играм, выпущенным после 2013 года - как мы выяснили раньше, именно в это время начали появляться актуальные платформы. Но на этот раз мы не будем отказываться от устаревших платформ, а просто рассмотрим все игры с этого года. Правда, нам будет нужна не вся таблица, так что лишние столбцы мы удалим. Полученный датафрейм сохраним в переменной df_region:"
   ]
  },
  {
   "cell_type": "code",
   "execution_count": 50,
   "id": "eeb6a91a",
   "metadata": {
    "colab": {
     "base_uri": "https://localhost:8080/",
     "height": 206
    },
    "id": "eeb6a91a",
    "outputId": "4f3b762c-1447-4da0-b33d-f3af2169e647"
   },
   "outputs": [
    {
     "data": {
      "text/html": [
       "\n",
       "  <div id=\"df-7e633f15-f306-40b5-a93c-8ec175a5ef0c\">\n",
       "    <div class=\"colab-df-container\">\n",
       "      <div>\n",
       "<style scoped>\n",
       "    .dataframe tbody tr th:only-of-type {\n",
       "        vertical-align: middle;\n",
       "    }\n",
       "\n",
       "    .dataframe tbody tr th {\n",
       "        vertical-align: top;\n",
       "    }\n",
       "\n",
       "    .dataframe thead th {\n",
       "        text-align: right;\n",
       "    }\n",
       "</style>\n",
       "<table border=\"1\" class=\"dataframe\">\n",
       "  <thead>\n",
       "    <tr style=\"text-align: right;\">\n",
       "      <th></th>\n",
       "      <th>platform</th>\n",
       "      <th>genre</th>\n",
       "      <th>na_sales</th>\n",
       "      <th>eu_sales</th>\n",
       "      <th>jp_sales</th>\n",
       "      <th>user_score</th>\n",
       "      <th>rating</th>\n",
       "    </tr>\n",
       "  </thead>\n",
       "  <tbody>\n",
       "    <tr>\n",
       "      <th>16</th>\n",
       "      <td>PS3</td>\n",
       "      <td>Action</td>\n",
       "      <td>7.02</td>\n",
       "      <td>9.09</td>\n",
       "      <td>0.98</td>\n",
       "      <td>82.0</td>\n",
       "      <td>M</td>\n",
       "    </tr>\n",
       "    <tr>\n",
       "      <th>23</th>\n",
       "      <td>X360</td>\n",
       "      <td>Action</td>\n",
       "      <td>9.66</td>\n",
       "      <td>5.14</td>\n",
       "      <td>0.06</td>\n",
       "      <td>81.0</td>\n",
       "      <td>M</td>\n",
       "    </tr>\n",
       "    <tr>\n",
       "      <th>31</th>\n",
       "      <td>PS4</td>\n",
       "      <td>Shooter</td>\n",
       "      <td>6.03</td>\n",
       "      <td>5.86</td>\n",
       "      <td>0.36</td>\n",
       "      <td>NaN</td>\n",
       "      <td>NaN</td>\n",
       "    </tr>\n",
       "    <tr>\n",
       "      <th>33</th>\n",
       "      <td>3DS</td>\n",
       "      <td>Role-Playing</td>\n",
       "      <td>5.28</td>\n",
       "      <td>4.19</td>\n",
       "      <td>4.35</td>\n",
       "      <td>NaN</td>\n",
       "      <td>NaN</td>\n",
       "    </tr>\n",
       "    <tr>\n",
       "      <th>42</th>\n",
       "      <td>PS4</td>\n",
       "      <td>Action</td>\n",
       "      <td>3.96</td>\n",
       "      <td>6.31</td>\n",
       "      <td>0.38</td>\n",
       "      <td>83.0</td>\n",
       "      <td>M</td>\n",
       "    </tr>\n",
       "  </tbody>\n",
       "</table>\n",
       "</div>\n",
       "      <button class=\"colab-df-convert\" onclick=\"convertToInteractive('df-7e633f15-f306-40b5-a93c-8ec175a5ef0c')\"\n",
       "              title=\"Convert this dataframe to an interactive table.\"\n",
       "              style=\"display:none;\">\n",
       "        \n",
       "  <svg xmlns=\"http://www.w3.org/2000/svg\" height=\"24px\"viewBox=\"0 0 24 24\"\n",
       "       width=\"24px\">\n",
       "    <path d=\"M0 0h24v24H0V0z\" fill=\"none\"/>\n",
       "    <path d=\"M18.56 5.44l.94 2.06.94-2.06 2.06-.94-2.06-.94-.94-2.06-.94 2.06-2.06.94zm-11 1L8.5 8.5l.94-2.06 2.06-.94-2.06-.94L8.5 2.5l-.94 2.06-2.06.94zm10 10l.94 2.06.94-2.06 2.06-.94-2.06-.94-.94-2.06-.94 2.06-2.06.94z\"/><path d=\"M17.41 7.96l-1.37-1.37c-.4-.4-.92-.59-1.43-.59-.52 0-1.04.2-1.43.59L10.3 9.45l-7.72 7.72c-.78.78-.78 2.05 0 2.83L4 21.41c.39.39.9.59 1.41.59.51 0 1.02-.2 1.41-.59l7.78-7.78 2.81-2.81c.8-.78.8-2.07 0-2.86zM5.41 20L4 18.59l7.72-7.72 1.47 1.35L5.41 20z\"/>\n",
       "  </svg>\n",
       "      </button>\n",
       "      \n",
       "  <style>\n",
       "    .colab-df-container {\n",
       "      display:flex;\n",
       "      flex-wrap:wrap;\n",
       "      gap: 12px;\n",
       "    }\n",
       "\n",
       "    .colab-df-convert {\n",
       "      background-color: #E8F0FE;\n",
       "      border: none;\n",
       "      border-radius: 50%;\n",
       "      cursor: pointer;\n",
       "      display: none;\n",
       "      fill: #1967D2;\n",
       "      height: 32px;\n",
       "      padding: 0 0 0 0;\n",
       "      width: 32px;\n",
       "    }\n",
       "\n",
       "    .colab-df-convert:hover {\n",
       "      background-color: #E2EBFA;\n",
       "      box-shadow: 0px 1px 2px rgba(60, 64, 67, 0.3), 0px 1px 3px 1px rgba(60, 64, 67, 0.15);\n",
       "      fill: #174EA6;\n",
       "    }\n",
       "\n",
       "    [theme=dark] .colab-df-convert {\n",
       "      background-color: #3B4455;\n",
       "      fill: #D2E3FC;\n",
       "    }\n",
       "\n",
       "    [theme=dark] .colab-df-convert:hover {\n",
       "      background-color: #434B5C;\n",
       "      box-shadow: 0px 1px 3px 1px rgba(0, 0, 0, 0.15);\n",
       "      filter: drop-shadow(0px 1px 2px rgba(0, 0, 0, 0.3));\n",
       "      fill: #FFFFFF;\n",
       "    }\n",
       "  </style>\n",
       "\n",
       "      <script>\n",
       "        const buttonEl =\n",
       "          document.querySelector('#df-7e633f15-f306-40b5-a93c-8ec175a5ef0c button.colab-df-convert');\n",
       "        buttonEl.style.display =\n",
       "          google.colab.kernel.accessAllowed ? 'block' : 'none';\n",
       "\n",
       "        async function convertToInteractive(key) {\n",
       "          const element = document.querySelector('#df-7e633f15-f306-40b5-a93c-8ec175a5ef0c');\n",
       "          const dataTable =\n",
       "            await google.colab.kernel.invokeFunction('convertToInteractive',\n",
       "                                                     [key], {});\n",
       "          if (!dataTable) return;\n",
       "\n",
       "          const docLinkHtml = 'Like what you see? Visit the ' +\n",
       "            '<a target=\"_blank\" href=https://colab.research.google.com/notebooks/data_table.ipynb>data table notebook</a>'\n",
       "            + ' to learn more about interactive tables.';\n",
       "          element.innerHTML = '';\n",
       "          dataTable['output_type'] = 'display_data';\n",
       "          await google.colab.output.renderOutput(dataTable, element);\n",
       "          const docLink = document.createElement('div');\n",
       "          docLink.innerHTML = docLinkHtml;\n",
       "          element.appendChild(docLink);\n",
       "        }\n",
       "      </script>\n",
       "    </div>\n",
       "  </div>\n",
       "  "
      ],
      "text/plain": [
       "   platform         genre  na_sales  eu_sales  jp_sales  user_score rating\n",
       "16      PS3        Action      7.02      9.09      0.98        82.0      M\n",
       "23     X360        Action      9.66      5.14      0.06        81.0      M\n",
       "31      PS4       Shooter      6.03      5.86      0.36         NaN    NaN\n",
       "33      3DS  Role-Playing      5.28      4.19      4.35         NaN    NaN\n",
       "42      PS4        Action      3.96      6.31      0.38        83.0      M"
      ]
     },
     "execution_count": 50,
     "metadata": {},
     "output_type": "execute_result"
    }
   ],
   "source": [
    "df_region = df[df['year_of_release'] >= 2013].drop(['name',\n",
    "                                                    'year_of_release',\n",
    "                                                    'other_sales',\n",
    "                                                    'critic_score',\n",
    "                                                    'all_sales'], \n",
    "                                                   axis=1)\n",
    "df_region.head(5)"
   ]
  },
  {
   "cell_type": "markdown",
   "id": "2c3e28a1",
   "metadata": {
    "id": "2c3e28a1"
   },
   "source": [
    "Проанализируем, игры каких жанров и на какие платформы чаще всего покупают в каждом регионе. Также посмотрим, как влияет на продажи рейтинг игры по классификации ESRB. Создадим функцию last_plotter, которая построит диаграммы для каждого региона, отобразив количество продаж 5 самых популярных платформ/жанров:"
   ]
  },
  {
   "cell_type": "code",
   "execution_count": 51,
   "id": "e53dcf38",
   "metadata": {
    "id": "e53dcf38"
   },
   "outputs": [],
   "source": [
    "def last_plotter (x):\n",
    "    \n",
    "    y_list = ['na_sales','eu_sales', 'jp_sales']\n",
    "    fig, axes = plt.subplots(1, len(y_list), sharey=True, figsize=(16, 5))\n",
    "    \n",
    "    for i in range(0, len(y_list)):\n",
    "        \n",
    "        data = pd.pivot_table(df_region, index=x, values=y_list[i], aggfunc='sum')\n",
    "        data = data.sort_values(by=y_list[i], ascending=False).head(5)\n",
    "        \n",
    "        axes[i].bar(x=data.index, height=data[y_list[i]])\n",
    "        axes[i].set_title(y_list[i])\n",
    "        axes[i].grid(axis='y')\n",
    "        \n",
    "    plt.show()"
   ]
  },
  {
   "cell_type": "markdown",
   "id": "364a343d",
   "metadata": {
    "id": "364a343d"
   },
   "source": [
    "### Популярные платформы "
   ]
  },
  {
   "cell_type": "code",
   "execution_count": 52,
   "id": "05e8f60a",
   "metadata": {
    "colab": {
     "base_uri": "https://localhost:8080/",
     "height": 336
    },
    "id": "05e8f60a",
    "outputId": "6ddc8225-730c-4d6f-ae9f-c9f655a5286d"
   },
   "outputs": [
    {
     "data": {
      "image/png": "[encoded data removed]",
      "text/plain": [
       "<Figure size 1152x360 with 3 Axes>"
      ]
     },
     "metadata": {
      "needs_background": "light"
     },
     "output_type": "display_data"
    }
   ],
   "source": [
    "last_plotter('platform')"
   ]
  },
  {
   "cell_type": "markdown",
   "id": "8334882d",
   "metadata": {
    "id": "8334882d"
   },
   "source": [
    "###### Вывод "
   ]
  },
  {
   "cell_type": "markdown",
   "id": "fb62e0c2",
   "metadata": {
    "id": "fb62e0c2"
   },
   "source": [
    "- В Северной Америке лидер продаж - игры для платформы PS4. На втором месте XOne, затем устаревшие на текущий момент X360 и PS3. Замыкает топ платформа 3DS.\n",
    "- В Европе первые два места топа занимают платформы PS4 и PS3, затем XOne, X360 и 3DS. Тот же набор платформ, что и в Северной Америке, но в несколько другом порядке. \n",
    "- В Японии покупают игры только на японские же платформы - в топе только консоли от Nintendo и Sony. Причём 40% из этих платформ портативные, и одна из них лидирует в топе с очень большим отрывом. Получается, что предпочтения игроков в Японии сильно отличаются от Европы и Северной Америки."
   ]
  },
  {
   "cell_type": "markdown",
   "id": "199550de",
   "metadata": {
    "id": "199550de"
   },
   "source": [
    "### Популярные жанры "
   ]
  },
  {
   "cell_type": "code",
   "execution_count": 53,
   "id": "1a21c7a2",
   "metadata": {
    "colab": {
     "base_uri": "https://localhost:8080/",
     "height": 336
    },
    "id": "1a21c7a2",
    "outputId": "ee15f020-2459-4e1a-d63a-47d396bae0c3"
   },
   "outputs": [
    {
     "data": {
      "image/png": "[encoded data removed]",
      "text/plain": [
       "<Figure size 1152x360 with 3 Axes>"
      ]
     },
     "metadata": {
      "needs_background": "light"
     },
     "output_type": "display_data"
    }
   ],
   "source": [
    "last_plotter('genre')"
   ]
  },
  {
   "cell_type": "markdown",
   "id": "1a8142fe",
   "metadata": {
    "id": "1a8142fe"
   },
   "source": [
    "###### Вывод"
   ]
  },
  {
   "cell_type": "markdown",
   "id": "fef748a5",
   "metadata": {
    "id": "fef748a5"
   },
   "source": [
    "- В Северной Америке и Европе ситуация с жанрами практически одинаковая, отличие появляется только на 5 месте топа. В целом можно сказать, что предпочтения игроков в этих регионах идентичны.\n",
    "- В Японии снова всё наоборот, только жанр Action там любят почти также сильно, как в остальных регионах. Прочие же жанры изменились: в топ попал Fighting, а Pole-Playing занял первое место. "
   ]
  },
  {
   "cell_type": "markdown",
   "id": "ff4d4a15",
   "metadata": {
    "id": "ff4d4a15"
   },
   "source": [
    "### Влияние рейтинга ESRB на продажи "
   ]
  },
  {
   "cell_type": "code",
   "execution_count": 54,
   "id": "8e3d26d1",
   "metadata": {
    "colab": {
     "base_uri": "https://localhost:8080/",
     "height": 336
    },
    "id": "8e3d26d1",
    "outputId": "2c7dcebf-7d99-4fb6-9c91-c10608a34a8c"
   },
   "outputs": [
    {
     "data": {
      "image/png": "[encoded data removed]",
      "text/plain": [
       "<Figure size 1152x360 with 3 Axes>"
      ]
     },
     "metadata": {
      "needs_background": "light"
     },
     "output_type": "display_data"
    }
   ],
   "source": [
    "df_region['rating'] = df_region['rating'].fillna('Без рейтинга')\n",
    "last_plotter('rating')"
   ]
  },
  {
   "cell_type": "code",
   "execution_count": 55,
   "id": "4259636d",
   "metadata": {
    "colab": {
     "base_uri": "https://localhost:8080/",
     "height": 383
    },
    "id": "4259636d",
    "outputId": "33482dd9-cec9-45cd-8f0e-6b7f16bd3f27"
   },
   "outputs": [
    {
     "name": "stderr",
     "output_type": "stream",
     "text": [
      "/usr/local/lib/python3.7/dist-packages/ipykernel_launcher.py:2: SettingWithCopyWarning: \n",
      "A value is trying to be set on a copy of a slice from a DataFrame.\n",
      "Try using .loc[row_indexer,col_indexer] = value instead\n",
      "\n",
      "See the caveats in the documentation: https://pandas.pydata.org/pandas-docs/stable/user_guide/indexing.html#returning-a-view-versus-a-copy\n",
      "  \n"
     ]
    },
    {
     "data": {
      "image/png": "[encoded data removed]",
      "text/plain": [
       "<Figure size 720x288 with 2 Axes>"
      ]
     },
     "metadata": {
      "needs_background": "light"
     },
     "output_type": "display_data"
    }
   ],
   "source": [
    "data = df[df['year_of_release'] >= 2013]\n",
    "data['rating'] = data['rating'].fillna('Без рейтинга')\n",
    "val = pd.pivot_table(data, index='rating', values='all_sales', aggfunc='sum')\n",
    "fig, axes = plt.subplots(1, 2, figsize=(10, 4))\n",
    "axes[0].hist(df_region['rating'], bins=30)\n",
    "axes[0].set_xlabel('Общее количество игр')\n",
    "axes[1].bar(x=val.index, height=val['all_sales'])\n",
    "axes[1].set_xlabel('Общее количество продаж')\n",
    "plt.show()"
   ]
  },
  {
   "cell_type": "markdown",
   "id": "b69a47ef",
   "metadata": {
    "id": "b69a47ef"
   },
   "source": [
    "###### Вывод "
   ]
  },
  {
   "cell_type": "markdown",
   "id": "ecfdde50",
   "metadata": {
    "id": "ecfdde50"
   },
   "source": [
    "- В Северной Америке и Европе снова очень похожие предпочтения: большинство покупателей выбирают игры с рейтингом М (ограничение 17+), почти вдвое реже - с рейтингом Е (без ограничений), и примерно поровну оставшиеся Е10+ (ограничение 10+) и Т (ограничение 13+). Любопытно, что общее количество игр с рейтингами М, Е и Т практически одинаковое, но в продажах лидируют игры, ориентированные на наиболее взрослую аудиторию.\n",
    "- По рынку Японии сложно сделать однозначные выводы, поскольку разница между категориями незначительная, да и в целом данных не так много. Видимо, система ESRB не особо распространена в этом регионе."
   ]
  },
  {
   "cell_type": "markdown",
   "id": "13942939",
   "metadata": {
    "id": "13942939"
   },
   "source": [
    "### Вывод "
   ]
  },
  {
   "cell_type": "markdown",
   "id": "7d6e5390",
   "metadata": {
    "id": "7d6e5390"
   },
   "source": [
    "В разных регионах пользователи предпочитают разные платформы, разных поколений. Северная Америка и Европа отличаются только парой моделей, а вот в Японии ситуация совсем иная. Там лучше всего покупают игры на платфомы собственного, японского производства, и очень любят портативные консоли. Собственно говоря, рынок Японии достаточно сильно отличается от всех остальных и по остальным двум параметрам. Жанры в Японии любят другие, а в Северной Америке и Европе - практически одинаковые. А вот с рейтингом ESRB ситуация неоднозначная, по региону Японии очень мало данных. Скорее всего, там не очень распространена эта рейтинговая система.  \n",
    "В целом данные по Японии вызывают некоторые сомнения. Их рынок очень большой, и при этом достаточно закрытый, а по нашим данным там наименьшие продажи. Складывается ощущение, что данные не полные, и есть какое-то количество игр, которые выпускаются и продаются внутри региона, не попадая в нашу статистику. Если исходить из тех данных, что у нас есть, то можно сказать, что в этом регионе предпочтения игроков сильно отличаются от всех других. Если магазин \"Стримчик\" планирует продавать игры в том числе в Японии, то это надо учитывать."
   ]
  },
  {
   "cell_type": "markdown",
   "id": "7b8f5578",
   "metadata": {
    "id": "7b8f5578"
   },
   "source": [
    "## Проверка гипотез"
   ]
  },
  {
   "cell_type": "markdown",
   "id": "e8f5865f",
   "metadata": {
    "id": "e8f5865f"
   },
   "source": [
    "Прежде чем проверять гипотезы, сначала необходимо избавить данные от пропусков. Заменить их какими-то значениями без влияния на результаты исследования не получится, поэтому мы просто их удалим:"
   ]
  },
  {
   "cell_type": "code",
   "execution_count": 56,
   "id": "f2e8834a",
   "metadata": {
    "id": "f2e8834a"
   },
   "outputs": [],
   "source": [
    "xone_clean_dropna = xone_clean.dropna()\n",
    "pc_clean_dropna = pc_clean.dropna()\n",
    "df_region_dropna = df_region.dropna()"
   ]
  },
  {
   "cell_type": "markdown",
   "id": "629ff7d0",
   "metadata": {
    "id": "629ff7d0"
   },
   "source": [
    "### Средние пользовательские рейтинги платформ XOne и PC одинаковые "
   ]
  },
  {
   "cell_type": "markdown",
   "id": "27abc6e0",
   "metadata": {
    "id": "27abc6e0"
   },
   "source": [
    "Нулевая гипотеза Н0 звучит так:  \n",
    "\"Средние пользовательские рейтинги платформ XОne и PC одинаковые\".  \n",
    "Альтернативная гипотеза Н1 звучит так:  \n",
    "\"Средние пользовательские рейтинги платформ XOne и PC различаются\""
   ]
  },
  {
   "cell_type": "code",
   "execution_count": 57,
   "id": "f7297463",
   "metadata": {
    "colab": {
     "base_uri": "https://localhost:8080/"
    },
    "id": "f7297463",
    "outputId": "5ea6636a-f183-4969-868a-a90933dd2feb"
   },
   "outputs": [
    {
     "data": {
      "text/plain": [
       "LeveneResult(statistic=8.911813027553155, pvalue=0.003113256426292883)"
      ]
     },
     "execution_count": 57,
     "metadata": {},
     "output_type": "execute_result"
    }
   ],
   "source": [
    "st.levene(xone_clean_dropna['user_score'], pc_clean_dropna['user_score'])"
   ]
  },
  {
   "cell_type": "markdown",
   "id": "631af347",
   "metadata": {
    "id": "631af347"
   },
   "source": [
    "В результате теста Левена мы получили р-значение равное 0.003, что довольно мало. Следовательно можно сделать вывод, что две исследуемые выборки нельзя считать схожими, и для функции ttest_ind требуется задать значение параметра equal_var как False:"
   ]
  },
  {
   "cell_type": "code",
   "execution_count": 58,
   "id": "691ce383",
   "metadata": {
    "colab": {
     "base_uri": "https://localhost:8080/"
    },
    "id": "691ce383",
    "outputId": "e55dcb7c-c897-407f-db76-735ad2dd6e47"
   },
   "outputs": [
    {
     "name": "stdout",
     "output_type": "stream",
     "text": [
      "p-значение 0.07734888337760581 \n",
      "\n",
      "Не получилось отвергнуть нулевую гипотезу\n"
     ]
    }
   ],
   "source": [
    "alpha = 0.05\n",
    "\n",
    "results = st.ttest_ind(xone_clean_dropna['user_score'], \n",
    "                       pc_clean_dropna['user_score'], \n",
    "                       equal_var=False)\n",
    "\n",
    "print('p-значение', results.pvalue, '\\n')\n",
    "\n",
    "if (results.pvalue < alpha):\n",
    "    print('Отвергаем нулевую гипотезу')\n",
    "else:\n",
    "    print('Не получилось отвергнуть нулевую гипотезу')"
   ]
  },
  {
   "cell_type": "markdown",
   "id": "9359abd3",
   "metadata": {
    "id": "9359abd3"
   },
   "source": [
    "###### Вывод "
   ]
  },
  {
   "cell_type": "markdown",
   "id": "4c6d550d",
   "metadata": {
    "id": "4c6d550d"
   },
   "source": [
    "В результате теста мы получили р-значение, примерно равное 0.07. Это означает, что с вероятностью почти 7% разные средние значения получились случайно, и мы не можем отвергнуть нулевую гипотезу. Так что да, возможно средние пользовательские рейтинги на платформах XOne и PC одинаковые, но 7% - довольно слабенькая вероятность."
   ]
  },
  {
   "cell_type": "markdown",
   "id": "f547ba93",
   "metadata": {
    "id": "f547ba93"
   },
   "source": [
    "###  Средние пользовательские рейтинги жанров Action и Sports одинаковые."
   ]
  },
  {
   "cell_type": "markdown",
   "id": "037f2039",
   "metadata": {
    "id": "037f2039"
   },
   "source": [
    "Нулевая гипотеза Н0 звучит так:  \n",
    "\"Средние пользовательские рейтинги жанров Action и Sports одинаковые\".  \n",
    "Альтернативная гипотеза Н1 звучит так:  \n",
    "\"Средние пользовательские рейтинги жанров Action и Sports разные\"."
   ]
  },
  {
   "cell_type": "code",
   "execution_count": 59,
   "id": "7057f623",
   "metadata": {
    "colab": {
     "base_uri": "https://localhost:8080/"
    },
    "id": "7057f623",
    "outputId": "1c733da8-6053-4fc6-9ffd-168a33570936"
   },
   "outputs": [
    {
     "data": {
      "text/plain": [
       "LeveneResult(statistic=26.206007189476033, pvalue=4.2566688218274047e-07)"
      ]
     },
     "execution_count": 59,
     "metadata": {},
     "output_type": "execute_result"
    }
   ],
   "source": [
    "st.levene(df_region_dropna.query('genre == \"Action\"')['user_score'], \n",
    "          df_region_dropna.query('genre == \"Sports\"')['user_score'])"
   ]
  },
  {
   "cell_type": "markdown",
   "id": "fbee24ae",
   "metadata": {
    "id": "fbee24ae"
   },
   "source": [
    "На этот раз тест Левена показал ещё меньшее р-значение, чем в прошлый раз, так что параметр equal_var снова принимает значение False."
   ]
  },
  {
   "cell_type": "code",
   "execution_count": 60,
   "id": "6bfbc738",
   "metadata": {
    "colab": {
     "base_uri": "https://localhost:8080/"
    },
    "id": "6bfbc738",
    "outputId": "fe27a6d4-949c-4ce4-e936-1b34c21933d0"
   },
   "outputs": [
    {
     "name": "stdout",
     "output_type": "stream",
     "text": [
      "p-значение 1.4460039700704734e-20 \n",
      "\n",
      "Отвергаем нулевую гипотезу\n"
     ]
    }
   ],
   "source": [
    "alpha = 0.05\n",
    "\n",
    "results = st.ttest_ind(df_region_dropna.query('genre == \"Action\"')['user_score'], \n",
    "                       df_region_dropna.query('genre == \"Sports\"')['user_score'],\n",
    "                       equal_var=False)\n",
    "\n",
    "print('p-значение', results.pvalue, '\\n')\n",
    "\n",
    "if (results.pvalue < alpha):\n",
    "    print('Отвергаем нулевую гипотезу')\n",
    "else:\n",
    "    print('Не получилось отвергнуть нулевую гипотезу')"
   ]
  },
  {
   "cell_type": "markdown",
   "id": "e48c7446",
   "metadata": {
    "id": "e48c7446"
   },
   "source": [
    "###### Вывод"
   ]
  },
  {
   "cell_type": "markdown",
   "id": "52d3ef3c",
   "metadata": {
    "id": "52d3ef3c"
   },
   "source": [
    "Полученное р-значение оказалось очень маленьким, в достаточной степени, чтобы отказаться от нулевой гипотезы. Очень большая вероятность того, что разные средние получились у нас не случайно, а, значит, скорее всего средние пользовательские рейтинги жанров Action и Sports отличаются."
   ]
  },
  {
   "cell_type": "markdown",
   "id": "66a58567",
   "metadata": {
    "id": "66a58567"
   },
   "source": [
    "## Общий вывод "
   ]
  },
  {
   "cell_type": "markdown",
   "id": "61a820c2",
   "metadata": {
    "id": "61a820c2"
   },
   "source": [
    "Проанализировав исторические данные о продажах игр, взятые из открытых источников, мы пришли к нескольким выводам:  \n",
    "1. Были определены актуальные платформы: PS4, PSV, XOne, WiiU, 3DS и PC. Платформа PS обновляется раз в 6-7 лет, а текущее поколение выпускается уже 4 года. Это означает, что, скорее всего, ближайшие пару лет обновления быть не должно, и количество игр будет расти. Похожая ситуация и с XOne - она тоже на рынке уже 4 года, и, скорее всего, она будет обновляться вместе с PS4, поскольку это её основной конкурент. Платформа Wii обновляется раз в 5 лет, и актуальному поколению как раз 5 лет и есть. Скорее всего в ближайшее время выйдет обновление, так что рассчитывать на большие продажи игр на эту платформу не стоит. Аналогичная ситуация с PSV и 3DS - они тоже уже давно на рынке, и не за горами должна выйти следующая версия, если она вообще будет. Ну а PC вообще не имеют поколений, и, хоть игры на них и продаются в меньшем объёме, чем на консоли, сбрасывать их со счетов не стоит. Получается, что в 2017 году стоит сосредоточить внимание на трёх платформах: PS4, XOne и PC.\n",
    "2. Проанализирована зависимость количества продаж от оценок критиков и других пользователей. Прямой зависимости обнаружено не было, хотя некоторое количество покупателей обращает внимание на мнение критиков. Но интересно, что не существует ни одного бестселлера с низкой оценкой от критиков. Это не означает, что игра с высокими оценками станет популярной, скорее наоборот - если игра получила низкий балл, то вряд ли мы увидим её в топе продаж. Значит, нужно больше внимания уделить играм, которые критики оценили на 60/100 и выше.\n",
    "3. Анализ предпочитаемых пользователями жанров показал, что лучше всего покупают игры жанров Action и Shooter, причём для любых платформ. За ними следует жанр Sports, но только на PS4 и XOne, а игроки на PC вместо него предпочитают Strategy. Но объём продаж игр на компьютеры меньше, чем на обе консоли вместе взятые, так что особо рассчитывать на Strategy не стоит. Основное направление - Action, Shooter и Sports, но только для регионов Северной Америки и Европы. В Японии куда больше любят Role-Playing, который в остальных регионах на 4 месте, так что если нас интересует азиатский рынок, то этому жанру тоже нужно уделить внимание.\n",
    "4. Было изучено влияние рейтинга ESRB на продажи. В Северной Америке и Европе на первом месте продаж игры с рейтингом М, за ним Е, Е10+ и Т. При этом разница по количеству продаж между рейтингами М и Е практически в два раза. Общее количество игр с рейтингами М, Е и Т отличается не так значительно, поэтому можно сделать предположение, что игры, ориентированные на взрослую аудиторию, продаются лучше.\n",
    "5. Были проверены гипотезы о равенстве средних оценок пользователей на игры для платформ XOne и PC и на игры жанров Action и Sports. По итогу можно сказать, что оценки пользователей для разных платформ скорее всего идентичны, а вот разные жанры пользователи оценивают по-разному.  \n",
    "\n",
    "Подводя итог, можно сказать, что в 2017 году магазину \"Стримчик\" стоит ориентироваться на продажи игр для PS4, XOne и PC, в жанрах Action, Shooter, Sports(на консоли), Role-Playing и Strategy(на PC), желательно с высокими оценками критиков и возрастным рейтингом 17+. Но стоит заметить, что было бы неплохо провести дополнительное исследование, чтобы определить объём продаж игр на физических носителях, для каждой из платформ. Может оказаться, что значительная часть пользователей приобретает игры в цифровом формате, а не на диске, или наоборот. Эти данные могут оказаться не менее полезными для магазина, чем выбор платформы или жанра."
   ]
  }
 ],
 "metadata": {
  "ExecuteTimeLog": [
   {
    "duration": 3144,
    "start_time": "2021-12-03T12:57:36.952Z"
   },
   {
    "duration": -773,
    "start_time": "2021-12-03T12:57:40.872Z"
   },
   {
    "duration": -778,
    "start_time": "2021-12-03T12:57:40.878Z"
   },
   {
    "duration": -780,
    "start_time": "2021-12-03T12:57:40.881Z"
   },
   {
    "duration": -783,
    "start_time": "2021-12-03T12:57:40.885Z"
   },
   {
    "duration": -785,
    "start_time": "2021-12-03T12:57:40.888Z"
   },
   {
    "duration": -789,
    "start_time": "2021-12-03T12:57:40.893Z"
   },
   {
    "duration": -792,
    "start_time": "2021-12-03T12:57:40.897Z"
   },
   {
    "duration": -796,
    "start_time": "2021-12-03T12:57:40.902Z"
   },
   {
    "duration": -801,
    "start_time": "2021-12-03T12:57:40.908Z"
   },
   {
    "duration": -806,
    "start_time": "2021-12-03T12:57:40.914Z"
   },
   {
    "duration": -809,
    "start_time": "2021-12-03T12:57:40.918Z"
   },
   {
    "duration": -813,
    "start_time": "2021-12-03T12:57:40.923Z"
   },
   {
    "duration": -816,
    "start_time": "2021-12-03T12:57:40.927Z"
   },
   {
    "duration": -818,
    "start_time": "2021-12-03T12:57:40.930Z"
   },
   {
    "duration": -821,
    "start_time": "2021-12-03T12:57:40.933Z"
   },
   {
    "duration": -823,
    "start_time": "2021-12-03T12:57:40.936Z"
   },
   {
    "duration": -825,
    "start_time": "2021-12-03T12:57:40.939Z"
   },
   {
    "duration": -835,
    "start_time": "2021-12-03T12:57:40.950Z"
   },
   {
    "duration": -838,
    "start_time": "2021-12-03T12:57:40.954Z"
   },
   {
    "duration": -838,
    "start_time": "2021-12-03T12:57:40.956Z"
   },
   {
    "duration": -842,
    "start_time": "2021-12-03T12:57:40.961Z"
   },
   {
    "duration": -844,
    "start_time": "2021-12-03T12:57:40.964Z"
   },
   {
    "duration": -846,
    "start_time": "2021-12-03T12:57:40.967Z"
   },
   {
    "duration": -847,
    "start_time": "2021-12-03T12:57:40.969Z"
   },
   {
    "duration": -849,
    "start_time": "2021-12-03T12:57:40.972Z"
   },
   {
    "duration": -850,
    "start_time": "2021-12-03T12:57:40.974Z"
   },
   {
    "duration": -852,
    "start_time": "2021-12-03T12:57:40.977Z"
   },
   {
    "duration": -853,
    "start_time": "2021-12-03T12:57:40.979Z"
   },
   {
    "duration": -855,
    "start_time": "2021-12-03T12:57:40.982Z"
   },
   {
    "duration": -856,
    "start_time": "2021-12-03T12:57:40.984Z"
   },
   {
    "duration": -858,
    "start_time": "2021-12-03T12:57:40.987Z"
   },
   {
    "duration": -859,
    "start_time": "2021-12-03T12:57:40.989Z"
   },
   {
    "duration": -861,
    "start_time": "2021-12-03T12:57:40.992Z"
   },
   {
    "duration": -863,
    "start_time": "2021-12-03T12:57:40.994Z"
   },
   {
    "duration": -865,
    "start_time": "2021-12-03T12:57:40.997Z"
   },
   {
    "duration": -866,
    "start_time": "2021-12-03T12:57:40.999Z"
   },
   {
    "duration": -868,
    "start_time": "2021-12-03T12:57:41.002Z"
   },
   {
    "duration": -869,
    "start_time": "2021-12-03T12:57:41.005Z"
   },
   {
    "duration": -870,
    "start_time": "2021-12-03T12:57:41.007Z"
   },
   {
    "duration": -872,
    "start_time": "2021-12-03T12:57:41.010Z"
   },
   {
    "duration": -875,
    "start_time": "2021-12-03T12:57:41.013Z"
   },
   {
    "duration": -877,
    "start_time": "2021-12-03T12:57:41.016Z"
   },
   {
    "duration": -878,
    "start_time": "2021-12-03T12:57:41.018Z"
   },
   {
    "duration": -881,
    "start_time": "2021-12-03T12:57:41.021Z"
   },
   {
    "duration": -882,
    "start_time": "2021-12-03T12:57:41.023Z"
   },
   {
    "duration": -884,
    "start_time": "2021-12-03T12:57:41.026Z"
   },
   {
    "duration": -865,
    "start_time": "2021-12-03T12:57:41.028Z"
   },
   {
    "duration": -867,
    "start_time": "2021-12-03T12:57:41.031Z"
   },
   {
    "duration": -868,
    "start_time": "2021-12-03T12:57:41.033Z"
   },
   {
    "duration": -870,
    "start_time": "2021-12-03T12:57:41.036Z"
   },
   {
    "duration": -871,
    "start_time": "2021-12-03T12:57:41.038Z"
   },
   {
    "duration": -873,
    "start_time": "2021-12-03T12:57:41.041Z"
   },
   {
    "duration": -874,
    "start_time": "2021-12-03T12:57:41.043Z"
   },
   {
    "duration": -876,
    "start_time": "2021-12-03T12:57:41.046Z"
   },
   {
    "duration": -877,
    "start_time": "2021-12-03T12:57:41.048Z"
   },
   {
    "duration": -889,
    "start_time": "2021-12-03T12:57:41.060Z"
   },
   {
    "duration": -891,
    "start_time": "2021-12-03T12:57:41.063Z"
   },
   {
    "duration": -893,
    "start_time": "2021-12-03T12:57:41.066Z"
   },
   {
    "duration": -894,
    "start_time": "2021-12-03T12:57:41.068Z"
   },
   {
    "duration": -896,
    "start_time": "2021-12-03T12:57:41.071Z"
   },
   {
    "duration": 65,
    "start_time": "2021-12-03T12:57:54.014Z"
   },
   {
    "duration": 64,
    "start_time": "2021-12-03T12:57:57.518Z"
   },
   {
    "duration": 15,
    "start_time": "2021-12-03T12:57:57.585Z"
   },
   {
    "duration": 16,
    "start_time": "2021-12-03T12:57:57.602Z"
   },
   {
    "duration": 53,
    "start_time": "2021-12-03T12:57:57.621Z"
   },
   {
    "duration": 13,
    "start_time": "2021-12-03T12:57:57.676Z"
   },
   {
    "duration": 230,
    "start_time": "2021-12-03T12:57:57.691Z"
   },
   {
    "duration": 8,
    "start_time": "2021-12-03T12:57:57.922Z"
   },
   {
    "duration": 33,
    "start_time": "2021-12-03T12:57:57.932Z"
   },
   {
    "duration": 9,
    "start_time": "2021-12-03T12:57:57.967Z"
   },
   {
    "duration": 265,
    "start_time": "2021-12-03T12:57:57.977Z"
   },
   {
    "duration": 1191,
    "start_time": "2021-12-03T13:02:52.531Z"
   },
   {
    "duration": 11,
    "start_time": "2021-12-03T13:02:53.724Z"
   },
   {
    "duration": 30,
    "start_time": "2021-12-03T13:02:53.737Z"
   },
   {
    "duration": 15,
    "start_time": "2021-12-03T13:02:53.769Z"
   },
   {
    "duration": 17,
    "start_time": "2021-12-03T13:02:53.786Z"
   },
   {
    "duration": 241,
    "start_time": "2021-12-03T13:02:53.804Z"
   },
   {
    "duration": 17,
    "start_time": "2021-12-03T13:02:54.047Z"
   },
   {
    "duration": 30,
    "start_time": "2021-12-03T13:03:05.471Z"
   },
   {
    "duration": 12,
    "start_time": "2021-12-03T13:03:05.503Z"
   },
   {
    "duration": 286,
    "start_time": "2021-12-03T13:03:05.518Z"
   },
   {
    "duration": 1201,
    "start_time": "2021-12-03T13:04:07.536Z"
   },
   {
    "duration": 13,
    "start_time": "2021-12-03T13:04:08.739Z"
   },
   {
    "duration": 19,
    "start_time": "2021-12-03T13:04:08.755Z"
   },
   {
    "duration": 17,
    "start_time": "2021-12-03T13:04:08.777Z"
   },
   {
    "duration": 19,
    "start_time": "2021-12-03T13:04:08.797Z"
   },
   {
    "duration": 247,
    "start_time": "2021-12-03T13:04:08.818Z"
   },
   {
    "duration": 8,
    "start_time": "2021-12-03T13:04:09.067Z"
   },
   {
    "duration": 10,
    "start_time": "2021-12-03T13:04:14.684Z"
   },
   {
    "duration": 346,
    "start_time": "2021-12-03T13:04:14.696Z"
   },
   {
    "duration": -784,
    "start_time": "2021-12-03T13:04:15.830Z"
   },
   {
    "duration": -787,
    "start_time": "2021-12-03T13:04:15.834Z"
   },
   {
    "duration": -789,
    "start_time": "2021-12-03T13:04:15.837Z"
   },
   {
    "duration": -791,
    "start_time": "2021-12-03T13:04:15.840Z"
   },
   {
    "duration": -793,
    "start_time": "2021-12-03T13:04:15.843Z"
   },
   {
    "duration": -796,
    "start_time": "2021-12-03T13:04:15.847Z"
   },
   {
    "duration": -797,
    "start_time": "2021-12-03T13:04:15.849Z"
   },
   {
    "duration": -799,
    "start_time": "2021-12-03T13:04:15.852Z"
   },
   {
    "duration": -802,
    "start_time": "2021-12-03T13:04:15.856Z"
   },
   {
    "duration": -805,
    "start_time": "2021-12-03T13:04:15.860Z"
   },
   {
    "duration": -807,
    "start_time": "2021-12-03T13:04:15.863Z"
   },
   {
    "duration": -809,
    "start_time": "2021-12-03T13:04:15.866Z"
   },
   {
    "duration": -810,
    "start_time": "2021-12-03T13:04:15.868Z"
   },
   {
    "duration": -811,
    "start_time": "2021-12-03T13:04:15.870Z"
   },
   {
    "duration": -814,
    "start_time": "2021-12-03T13:04:15.873Z"
   },
   {
    "duration": -816,
    "start_time": "2021-12-03T13:04:15.876Z"
   },
   {
    "duration": -819,
    "start_time": "2021-12-03T13:04:15.880Z"
   },
   {
    "duration": -821,
    "start_time": "2021-12-03T13:04:15.883Z"
   },
   {
    "duration": -822,
    "start_time": "2021-12-03T13:04:15.885Z"
   },
   {
    "duration": -824,
    "start_time": "2021-12-03T13:04:15.888Z"
   },
   {
    "duration": -826,
    "start_time": "2021-12-03T13:04:15.891Z"
   },
   {
    "duration": -828,
    "start_time": "2021-12-03T13:04:15.894Z"
   },
   {
    "duration": -829,
    "start_time": "2021-12-03T13:04:15.896Z"
   },
   {
    "duration": -831,
    "start_time": "2021-12-03T13:04:15.899Z"
   },
   {
    "duration": -832,
    "start_time": "2021-12-03T13:04:15.901Z"
   },
   {
    "duration": -834,
    "start_time": "2021-12-03T13:04:15.904Z"
   },
   {
    "duration": -835,
    "start_time": "2021-12-03T13:04:15.906Z"
   },
   {
    "duration": -837,
    "start_time": "2021-12-03T13:04:15.909Z"
   },
   {
    "duration": -839,
    "start_time": "2021-12-03T13:04:15.912Z"
   },
   {
    "duration": -850,
    "start_time": "2021-12-03T13:04:15.924Z"
   },
   {
    "duration": -853,
    "start_time": "2021-12-03T13:04:15.928Z"
   },
   {
    "duration": -855,
    "start_time": "2021-12-03T13:04:15.931Z"
   },
   {
    "duration": -856,
    "start_time": "2021-12-03T13:04:15.933Z"
   },
   {
    "duration": -858,
    "start_time": "2021-12-03T13:04:15.936Z"
   },
   {
    "duration": -859,
    "start_time": "2021-12-03T13:04:15.939Z"
   },
   {
    "duration": -861,
    "start_time": "2021-12-03T13:04:15.942Z"
   },
   {
    "duration": -863,
    "start_time": "2021-12-03T13:04:15.944Z"
   },
   {
    "duration": -863,
    "start_time": "2021-12-03T13:04:15.946Z"
   },
   {
    "duration": -865,
    "start_time": "2021-12-03T13:04:15.949Z"
   },
   {
    "duration": -865,
    "start_time": "2021-12-03T13:04:15.951Z"
   },
   {
    "duration": -867,
    "start_time": "2021-12-03T13:04:15.954Z"
   },
   {
    "duration": -868,
    "start_time": "2021-12-03T13:04:15.956Z"
   },
   {
    "duration": -869,
    "start_time": "2021-12-03T13:04:15.958Z"
   },
   {
    "duration": -871,
    "start_time": "2021-12-03T13:04:15.961Z"
   },
   {
    "duration": -872,
    "start_time": "2021-12-03T13:04:15.963Z"
   },
   {
    "duration": -873,
    "start_time": "2021-12-03T13:04:15.965Z"
   },
   {
    "duration": -874,
    "start_time": "2021-12-03T13:04:15.967Z"
   },
   {
    "duration": -876,
    "start_time": "2021-12-03T13:04:15.970Z"
   },
   {
    "duration": -878,
    "start_time": "2021-12-03T13:04:15.973Z"
   },
   {
    "duration": -879,
    "start_time": "2021-12-03T13:04:15.975Z"
   },
   {
    "duration": -880,
    "start_time": "2021-12-03T13:04:15.977Z"
   },
   {
    "duration": 1156,
    "start_time": "2021-12-03T13:14:38.662Z"
   },
   {
    "duration": 12,
    "start_time": "2021-12-03T13:14:39.820Z"
   },
   {
    "duration": 23,
    "start_time": "2021-12-03T13:14:39.834Z"
   },
   {
    "duration": 18,
    "start_time": "2021-12-03T13:14:39.859Z"
   },
   {
    "duration": 18,
    "start_time": "2021-12-03T13:14:39.878Z"
   },
   {
    "duration": 236,
    "start_time": "2021-12-03T13:14:39.898Z"
   },
   {
    "duration": 10,
    "start_time": "2021-12-03T13:14:40.136Z"
   },
   {
    "duration": 40,
    "start_time": "2021-12-03T13:14:40.149Z"
   },
   {
    "duration": 10,
    "start_time": "2021-12-03T13:14:40.192Z"
   },
   {
    "duration": 263,
    "start_time": "2021-12-03T13:14:40.204Z"
   },
   {
    "duration": 1216,
    "start_time": "2021-12-03T13:18:54.822Z"
   },
   {
    "duration": 13,
    "start_time": "2021-12-03T13:18:56.040Z"
   },
   {
    "duration": 14,
    "start_time": "2021-12-03T13:18:56.055Z"
   },
   {
    "duration": 20,
    "start_time": "2021-12-03T13:18:56.070Z"
   },
   {
    "duration": 16,
    "start_time": "2021-12-03T13:18:56.091Z"
   },
   {
    "duration": 230,
    "start_time": "2021-12-03T13:18:56.109Z"
   },
   {
    "duration": 8,
    "start_time": "2021-12-03T13:18:56.341Z"
   },
   {
    "duration": 27,
    "start_time": "2021-12-03T13:18:56.363Z"
   },
   {
    "duration": 11,
    "start_time": "2021-12-03T13:18:56.393Z"
   },
   {
    "duration": 265,
    "start_time": "2021-12-03T13:18:56.406Z"
   },
   {
    "duration": 1130,
    "start_time": "2021-12-03T14:22:14.987Z"
   },
   {
    "duration": 7396,
    "start_time": "2021-12-03T14:22:21.882Z"
   },
   {
    "duration": 61,
    "start_time": "2021-12-03T14:22:41.351Z"
   },
   {
    "duration": 12,
    "start_time": "2021-12-03T14:22:46.153Z"
   },
   {
    "duration": 308,
    "start_time": "2021-12-03T14:25:37.333Z"
   },
   {
    "duration": 1186,
    "start_time": "2021-12-03T14:25:54.222Z"
   },
   {
    "duration": 12,
    "start_time": "2021-12-03T14:26:03.834Z"
   },
   {
    "duration": 24,
    "start_time": "2021-12-03T14:26:09.675Z"
   },
   {
    "duration": 14,
    "start_time": "2021-12-03T14:26:16.234Z"
   },
   {
    "duration": 19,
    "start_time": "2021-12-03T14:26:27.170Z"
   },
   {
    "duration": 146816,
    "start_time": "2021-12-03T14:27:20.934Z"
   },
   {
    "duration": -756,
    "start_time": "2021-12-03T14:29:48.522Z"
   },
   {
    "duration": 1196,
    "start_time": "2021-12-03T15:20:22.362Z"
   },
   {
    "duration": 15,
    "start_time": "2021-12-03T15:20:23.560Z"
   },
   {
    "duration": 31,
    "start_time": "2021-12-03T15:20:23.577Z"
   },
   {
    "duration": 33,
    "start_time": "2021-12-03T15:20:23.611Z"
   },
   {
    "duration": 17,
    "start_time": "2021-12-03T15:20:23.646Z"
   },
   {
    "duration": 220,
    "start_time": "2021-12-03T15:20:23.665Z"
   },
   {
    "duration": 8,
    "start_time": "2021-12-03T15:20:23.887Z"
   },
   {
    "duration": 29,
    "start_time": "2021-12-03T15:20:23.898Z"
   },
   {
    "duration": 10,
    "start_time": "2021-12-03T15:20:23.930Z"
   },
   {
    "duration": 238,
    "start_time": "2021-12-03T15:20:23.963Z"
   },
   {
    "duration": 1510,
    "start_time": "2021-12-04T08:06:34.078Z"
   },
   {
    "duration": 17,
    "start_time": "2021-12-04T08:06:35.591Z"
   },
   {
    "duration": 33,
    "start_time": "2021-12-04T08:06:35.611Z"
   },
   {
    "duration": 21,
    "start_time": "2021-12-04T08:06:35.646Z"
   },
   {
    "duration": 27,
    "start_time": "2021-12-04T08:06:35.669Z"
   },
   {
    "duration": 401,
    "start_time": "2021-12-04T08:06:35.698Z"
   },
   {
    "duration": 10,
    "start_time": "2021-12-04T08:06:36.102Z"
   },
   {
    "duration": 40,
    "start_time": "2021-12-04T08:06:36.129Z"
   },
   {
    "duration": 15,
    "start_time": "2021-12-04T08:06:36.174Z"
   },
   {
    "duration": 411,
    "start_time": "2021-12-04T08:06:36.192Z"
   },
   {
    "duration": 1547,
    "start_time": "2021-12-04T08:14:32.521Z"
   },
   {
    "duration": 19,
    "start_time": "2021-12-04T08:14:34.072Z"
   },
   {
    "duration": 43,
    "start_time": "2021-12-04T08:14:34.095Z"
   },
   {
    "duration": 22,
    "start_time": "2021-12-04T08:14:34.142Z"
   },
   {
    "duration": 26,
    "start_time": "2021-12-04T08:14:34.167Z"
   },
   {
    "duration": 396,
    "start_time": "2021-12-04T08:14:34.229Z"
   },
   {
    "duration": 12,
    "start_time": "2021-12-04T08:14:34.629Z"
   },
   {
    "duration": 42,
    "start_time": "2021-12-04T08:14:34.647Z"
   },
   {
    "duration": 46,
    "start_time": "2021-12-04T08:14:34.693Z"
   },
   {
    "duration": 392,
    "start_time": "2021-12-04T08:14:34.742Z"
   },
   {
    "duration": 10,
    "start_time": "2021-12-04T08:14:35.138Z"
   },
   {
    "duration": 21,
    "start_time": "2021-12-04T08:14:35.151Z"
   },
   {
    "duration": 60,
    "start_time": "2021-12-04T08:14:35.175Z"
   },
   {
    "duration": 13,
    "start_time": "2021-12-04T08:14:35.237Z"
   },
   {
    "duration": 20,
    "start_time": "2021-12-04T08:14:35.252Z"
   },
   {
    "duration": 231,
    "start_time": "2021-12-04T08:14:35.274Z"
   },
   {
    "duration": 202,
    "start_time": "2021-12-04T08:14:35.507Z"
   },
   {
    "duration": 28,
    "start_time": "2021-12-04T08:14:35.712Z"
   },
   {
    "duration": 28,
    "start_time": "2021-12-04T08:14:35.742Z"
   },
   {
    "duration": 25,
    "start_time": "2021-12-04T08:14:35.772Z"
   },
   {
    "duration": 1656,
    "start_time": "2021-12-04T08:24:48.130Z"
   },
   {
    "duration": 19,
    "start_time": "2021-12-04T08:24:49.789Z"
   },
   {
    "duration": 33,
    "start_time": "2021-12-04T08:24:49.812Z"
   },
   {
    "duration": 28,
    "start_time": "2021-12-04T08:24:49.848Z"
   },
   {
    "duration": 23,
    "start_time": "2021-12-04T08:24:49.879Z"
   },
   {
    "duration": 382,
    "start_time": "2021-12-04T08:24:49.930Z"
   },
   {
    "duration": 24,
    "start_time": "2021-12-04T08:24:50.314Z"
   },
   {
    "duration": 40,
    "start_time": "2021-12-04T08:24:50.341Z"
   },
   {
    "duration": 14,
    "start_time": "2021-12-04T08:24:50.385Z"
   },
   {
    "duration": 400,
    "start_time": "2021-12-04T08:24:50.430Z"
   },
   {
    "duration": 10,
    "start_time": "2021-12-04T08:24:50.833Z"
   },
   {
    "duration": 23,
    "start_time": "2021-12-04T08:24:50.845Z"
   },
   {
    "duration": 27,
    "start_time": "2021-12-04T08:24:50.871Z"
   },
   {
    "duration": 16,
    "start_time": "2021-12-04T08:24:50.930Z"
   },
   {
    "duration": 18,
    "start_time": "2021-12-04T08:24:50.949Z"
   },
   {
    "duration": 241,
    "start_time": "2021-12-04T08:24:50.969Z"
   },
   {
    "duration": 210,
    "start_time": "2021-12-04T08:24:51.213Z"
   },
   {
    "duration": 19,
    "start_time": "2021-12-04T08:24:51.426Z"
   },
   {
    "duration": 33,
    "start_time": "2021-12-04T08:24:51.448Z"
   },
   {
    "duration": 46,
    "start_time": "2021-12-04T08:24:51.484Z"
   },
   {
    "duration": 23,
    "start_time": "2021-12-04T08:24:51.533Z"
   },
   {
    "duration": 592,
    "start_time": "2021-12-04T08:24:51.559Z"
   },
   {
    "duration": 9,
    "start_time": "2021-12-04T08:24:52.159Z"
   },
   {
    "duration": 24,
    "start_time": "2021-12-04T08:24:52.173Z"
   },
   {
    "duration": 20,
    "start_time": "2021-12-04T08:24:52.231Z"
   },
   {
    "duration": 6,
    "start_time": "2021-12-04T08:24:52.254Z"
   },
   {
    "duration": 1400,
    "start_time": "2021-12-04T08:24:52.262Z"
   },
   {
    "duration": 946,
    "start_time": "2021-12-04T08:24:53.665Z"
   },
   {
    "duration": 1106,
    "start_time": "2021-12-04T08:24:54.613Z"
   },
   {
    "duration": 1827,
    "start_time": "2021-12-04T08:24:55.721Z"
   },
   {
    "duration": 1563,
    "start_time": "2021-12-04T08:24:57.550Z"
   },
   {
    "duration": 37,
    "start_time": "2021-12-04T08:24:59.115Z"
   },
   {
    "duration": 6,
    "start_time": "2021-12-04T08:24:59.154Z"
   },
   {
    "duration": 645,
    "start_time": "2021-12-04T08:24:59.163Z"
   },
   {
    "duration": 997,
    "start_time": "2021-12-04T08:24:59.810Z"
   },
   {
    "duration": 648,
    "start_time": "2021-12-04T08:25:00.810Z"
   },
   {
    "duration": 17,
    "start_time": "2021-12-04T08:25:01.461Z"
   },
   {
    "duration": 45,
    "start_time": "2021-12-04T08:25:01.481Z"
   },
   {
    "duration": 776,
    "start_time": "2021-12-04T08:25:01.528Z"
   },
   {
    "duration": 747,
    "start_time": "2021-12-04T08:25:02.307Z"
   },
   {
    "duration": 855,
    "start_time": "2021-12-04T08:25:03.056Z"
   },
   {
    "duration": 16,
    "start_time": "2021-12-04T08:25:03.913Z"
   },
   {
    "duration": 53378,
    "start_time": "2021-12-04T08:25:03.931Z"
   },
   {
    "duration": 29918,
    "start_time": "2021-12-04T08:25:57.311Z"
   },
   {
    "duration": 17,
    "start_time": "2021-12-04T08:26:27.232Z"
   },
   {
    "duration": 40592,
    "start_time": "2021-12-04T08:26:27.251Z"
   },
   {
    "duration": 22,
    "start_time": "2021-12-04T08:27:07.846Z"
   },
   {
    "duration": 6,
    "start_time": "2021-12-04T08:27:07.870Z"
   },
   {
    "duration": 679,
    "start_time": "2021-12-04T08:27:07.879Z"
   },
   {
    "duration": 663,
    "start_time": "2021-12-04T08:27:08.560Z"
   },
   {
    "duration": 636,
    "start_time": "2021-12-04T08:27:09.229Z"
   },
   {
    "duration": 118249,
    "start_time": "2021-12-04T08:27:09.868Z"
   },
   {
    "duration": 22,
    "start_time": "2021-12-04T08:29:08.119Z"
   },
   {
    "duration": 7,
    "start_time": "2021-12-04T08:29:08.143Z"
   },
   {
    "duration": 8,
    "start_time": "2021-12-04T08:29:08.153Z"
   },
   {
    "duration": 12,
    "start_time": "2021-12-04T08:29:08.164Z"
   },
   {
    "duration": 62,
    "start_time": "2021-12-04T08:29:08.179Z"
   },
   {
    "duration": 2181,
    "start_time": "2021-12-04T13:09:38.517Z"
   },
   {
    "duration": 19,
    "start_time": "2021-12-04T13:09:40.701Z"
   },
   {
    "duration": 41,
    "start_time": "2021-12-04T13:09:40.723Z"
   },
   {
    "duration": 32,
    "start_time": "2021-12-04T13:09:40.768Z"
   },
   {
    "duration": 27,
    "start_time": "2021-12-04T13:09:40.803Z"
   },
   {
    "duration": 379,
    "start_time": "2021-12-04T13:09:40.860Z"
   },
   {
    "duration": 23,
    "start_time": "2021-12-04T13:09:41.242Z"
   },
   {
    "duration": 55,
    "start_time": "2021-12-04T13:09:41.271Z"
   },
   {
    "duration": 37,
    "start_time": "2021-12-04T13:09:41.330Z"
   },
   {
    "duration": 391,
    "start_time": "2021-12-04T13:09:41.371Z"
   },
   {
    "duration": 11,
    "start_time": "2021-12-04T13:09:41.766Z"
   },
   {
    "duration": 24,
    "start_time": "2021-12-04T13:09:41.780Z"
   },
   {
    "duration": 67,
    "start_time": "2021-12-04T13:09:41.806Z"
   },
   {
    "duration": 13,
    "start_time": "2021-12-04T13:09:41.875Z"
   },
   {
    "duration": 19,
    "start_time": "2021-12-04T13:09:41.890Z"
   },
   {
    "duration": 240,
    "start_time": "2021-12-04T13:09:41.911Z"
   },
   {
    "duration": 197,
    "start_time": "2021-12-04T13:09:42.154Z"
   },
   {
    "duration": 21,
    "start_time": "2021-12-04T13:09:42.358Z"
   },
   {
    "duration": 27,
    "start_time": "2021-12-04T13:09:42.381Z"
   },
   {
    "duration": 55,
    "start_time": "2021-12-04T13:09:42.411Z"
   },
   {
    "duration": 23,
    "start_time": "2021-12-04T13:09:42.468Z"
   },
   {
    "duration": 824,
    "start_time": "2021-12-04T13:09:42.493Z"
   },
   {
    "duration": 17,
    "start_time": "2021-12-04T13:09:43.325Z"
   },
   {
    "duration": 131,
    "start_time": "2021-12-04T13:09:43.347Z"
   },
   {
    "duration": 85,
    "start_time": "2021-12-04T13:09:43.481Z"
   },
   {
    "duration": 81,
    "start_time": "2021-12-04T13:09:43.569Z"
   },
   {
    "duration": 1315,
    "start_time": "2021-12-04T13:09:43.653Z"
   },
   {
    "duration": 743,
    "start_time": "2021-12-04T13:09:44.970Z"
   },
   {
    "duration": 1221,
    "start_time": "2021-12-04T13:09:45.715Z"
   },
   {
    "duration": 2806,
    "start_time": "2021-12-04T13:09:46.940Z"
   },
   {
    "duration": 1558,
    "start_time": "2021-12-04T13:09:49.749Z"
   },
   {
    "duration": 27,
    "start_time": "2021-12-04T13:09:51.310Z"
   },
   {
    "duration": 23,
    "start_time": "2021-12-04T13:09:51.340Z"
   },
   {
    "duration": 757,
    "start_time": "2021-12-04T13:09:51.366Z"
   },
   {
    "duration": 1098,
    "start_time": "2021-12-04T13:09:52.126Z"
   },
   {
    "duration": 658,
    "start_time": "2021-12-04T13:09:53.226Z"
   },
   {
    "duration": 18,
    "start_time": "2021-12-04T13:09:53.886Z"
   },
   {
    "duration": 10,
    "start_time": "2021-12-04T13:09:53.908Z"
   },
   {
    "duration": 757,
    "start_time": "2021-12-04T13:09:53.921Z"
   },
   {
    "duration": 810,
    "start_time": "2021-12-04T13:09:54.680Z"
   },
   {
    "duration": 944,
    "start_time": "2021-12-04T13:09:55.493Z"
   },
   {
    "duration": 5,
    "start_time": "2021-12-04T13:09:56.439Z"
   },
   {
    "duration": 57120,
    "start_time": "2021-12-04T13:09:56.446Z"
   },
   {
    "duration": 27216,
    "start_time": "2021-12-04T13:10:53.569Z"
   },
   {
    "duration": 22,
    "start_time": "2021-12-04T13:11:20.788Z"
   },
   {
    "duration": 35627,
    "start_time": "2021-12-04T13:11:20.813Z"
   },
   {
    "duration": 30,
    "start_time": "2021-12-04T13:11:56.442Z"
   },
   {
    "duration": 7,
    "start_time": "2021-12-04T13:11:56.474Z"
   },
   {
    "duration": 667,
    "start_time": "2021-12-04T13:11:56.484Z"
   },
   {
    "duration": 671,
    "start_time": "2021-12-04T13:11:57.158Z"
   },
   {
    "duration": 664,
    "start_time": "2021-12-04T13:11:57.832Z"
   },
   {
    "duration": 119133,
    "start_time": "2021-12-04T13:11:58.498Z"
   },
   {
    "duration": 28,
    "start_time": "2021-12-04T13:13:57.635Z"
   },
   {
    "duration": 9,
    "start_time": "2021-12-04T13:13:57.666Z"
   },
   {
    "duration": 12,
    "start_time": "2021-12-04T13:13:57.678Z"
   },
   {
    "duration": 15,
    "start_time": "2021-12-04T13:13:57.692Z"
   },
   {
    "duration": 55,
    "start_time": "2021-12-04T13:13:57.712Z"
   },
   {
    "duration": 343,
    "start_time": "2021-12-04T14:03:49.612Z"
   },
   {
    "duration": 349,
    "start_time": "2021-12-04T14:07:45.368Z"
   },
   {
    "duration": 353,
    "start_time": "2021-12-04T14:07:54.644Z"
   },
   {
    "duration": 861,
    "start_time": "2021-12-04T14:11:46.407Z"
   },
   {
    "duration": 345,
    "start_time": "2021-12-04T14:12:34.087Z"
   },
   {
    "duration": 385,
    "start_time": "2021-12-04T14:18:35.805Z"
   },
   {
    "duration": 396,
    "start_time": "2021-12-04T14:55:41.877Z"
   },
   {
    "duration": 397,
    "start_time": "2021-12-04T14:56:11.800Z"
   },
   {
    "duration": 368,
    "start_time": "2021-12-04T14:56:49.546Z"
   },
   {
    "duration": 382,
    "start_time": "2021-12-04T14:57:06.746Z"
   },
   {
    "duration": 14,
    "start_time": "2021-12-04T14:57:32.889Z"
   },
   {
    "duration": 30,
    "start_time": "2021-12-04T15:08:19.204Z"
   },
   {
    "duration": 20,
    "start_time": "2021-12-04T15:08:41.699Z"
   },
   {
    "duration": 991,
    "start_time": "2021-12-04T15:09:18.715Z"
   },
   {
    "duration": 20,
    "start_time": "2021-12-04T15:11:51.366Z"
   },
   {
    "duration": 19,
    "start_time": "2021-12-04T15:13:30.027Z"
   },
   {
    "duration": 19,
    "start_time": "2021-12-04T15:13:42.905Z"
   },
   {
    "duration": 10,
    "start_time": "2021-12-04T15:16:53.274Z"
   },
   {
    "duration": 2908,
    "start_time": "2021-12-04T15:16:59.388Z"
   },
   {
    "duration": 1298,
    "start_time": "2021-12-04T15:17:18.242Z"
   },
   {
    "duration": 9,
    "start_time": "2021-12-04T15:17:39.753Z"
   },
   {
    "duration": 1209,
    "start_time": "2021-12-04T15:17:41.452Z"
   },
   {
    "duration": 736,
    "start_time": "2021-12-04T15:17:48.157Z"
   },
   {
    "duration": 719,
    "start_time": "2021-12-04T15:17:59.158Z"
   },
   {
    "duration": 950,
    "start_time": "2021-12-04T15:18:18.512Z"
   },
   {
    "duration": 1817,
    "start_time": "2021-12-04T15:18:47.704Z"
   },
   {
    "duration": 1383,
    "start_time": "2021-12-04T15:19:51.317Z"
   },
   {
    "duration": 194,
    "start_time": "2021-12-04T15:22:08.867Z"
   },
   {
    "duration": 18,
    "start_time": "2021-12-04T15:22:15.151Z"
   },
   {
    "duration": 9,
    "start_time": "2021-12-04T15:22:17.454Z"
   },
   {
    "duration": 1603,
    "start_time": "2021-12-04T15:22:22.111Z"
   },
   {
    "duration": 19,
    "start_time": "2021-12-04T15:23:29.157Z"
   },
   {
    "duration": 9,
    "start_time": "2021-12-04T15:23:32.876Z"
   },
   {
    "duration": 1073,
    "start_time": "2021-12-04T15:23:37.047Z"
   },
   {
    "duration": 933,
    "start_time": "2021-12-04T15:24:53.114Z"
   },
   {
    "duration": 118,
    "start_time": "2021-12-04T15:29:18.382Z"
   },
   {
    "duration": 6,
    "start_time": "2021-12-04T15:33:17.513Z"
   },
   {
    "duration": 679,
    "start_time": "2021-12-04T15:33:18.583Z"
   },
   {
    "duration": 688,
    "start_time": "2021-12-04T15:33:28.089Z"
   },
   {
    "duration": 665,
    "start_time": "2021-12-04T15:33:33.529Z"
   },
   {
    "duration": 623,
    "start_time": "2021-12-04T15:52:49.179Z"
   },
   {
    "duration": 212146,
    "start_time": "2021-12-04T15:53:06.473Z"
   },
   {
    "duration": 4116,
    "start_time": "2021-12-04T15:59:20.797Z"
   },
   {
    "duration": 7072,
    "start_time": "2021-12-04T15:59:54.729Z"
   },
   {
    "duration": 6771,
    "start_time": "2021-12-04T16:00:09.945Z"
   },
   {
    "duration": 6798,
    "start_time": "2021-12-04T16:00:36.720Z"
   },
   {
    "duration": -13,
    "start_time": "2021-12-04T16:07:02.601Z"
   },
   {
    "duration": 401,
    "start_time": "2021-12-04T16:08:49.277Z"
   },
   {
    "duration": 793,
    "start_time": "2021-12-04T16:09:01.527Z"
   },
   {
    "duration": 225069,
    "start_time": "2021-12-04T16:11:14.132Z"
   },
   {
    "duration": 823,
    "start_time": "2021-12-04T16:24:20.010Z"
   },
   {
    "duration": 351,
    "start_time": "2021-12-04T16:24:27.552Z"
   },
   {
    "duration": 361,
    "start_time": "2021-12-04T16:24:34.759Z"
   },
   {
    "duration": 339,
    "start_time": "2021-12-04T16:26:10.945Z"
   },
   {
    "duration": 338,
    "start_time": "2021-12-04T16:26:19.953Z"
   },
   {
    "duration": 350,
    "start_time": "2021-12-04T16:26:47.311Z"
   },
   {
    "duration": 379,
    "start_time": "2021-12-04T16:30:01.671Z"
   },
   {
    "duration": 817,
    "start_time": "2021-12-04T16:30:06.891Z"
   },
   {
    "duration": 450,
    "start_time": "2021-12-04T16:30:10.718Z"
   },
   {
    "duration": 468,
    "start_time": "2021-12-04T16:30:28.744Z"
   },
   {
    "duration": 3243,
    "start_time": "2021-12-04T16:30:52.216Z"
   }
  ],
  "colab": {
   "provenance": []
  },
  "kernelspec": {
   "display_name": "Python 3",
   "language": "python",
   "name": "python3"
  },
  "language_info": {
   "codemirror_mode": {
    "name": "ipython",
    "version": 3
   },
   "file_extension": ".py",
   "mimetype": "text/x-python",
   "name": "python",
   "nbconvert_exporter": "python",
   "pygments_lexer": "ipython3",
   "version": "3.8.8"
  },
  "toc": {
   "base_numbering": 1,
   "nav_menu": {},
   "number_sections": true,
   "sideBar": true,
   "skip_h1_title": true,
   "title_cell": "Содержание",
   "title_sidebar": "Contents",
   "toc_cell": true,
   "toc_position": {},
   "toc_section_display": true,
   "toc_window_display": true
  }
 },
 "nbformat": 4,
 "nbformat_minor": 5
}
