version https://git-lfs.github.com/spec/v1
oid sha256:6e1aca87d40a4330d2fd317a760bc0d4a17852a4f1bcb7288989155239304dfa
size 32165
