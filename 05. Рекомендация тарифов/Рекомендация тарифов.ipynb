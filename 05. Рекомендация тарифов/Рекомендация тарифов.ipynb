{
 "cells": [
  {
   "cell_type": "markdown",
   "metadata": {},
   "source": [
    "# Рекомендация тарифов телеком компании"
   ]
  },
  {
   "cell_type": "markdown",
   "metadata": {
    "toc": true
   },
   "source": [
    "<h1>Содержание<span class=\"tocSkip\"></span></h1>\n",
    "<div class=\"toc\"><ul class=\"toc-item\"><li><span><a href=\"#Первый-взгляд\" data-toc-modified-id=\"Первый-взгляд-1\"><span class=\"toc-item-num\">1&nbsp;&nbsp;</span>Первый взгляд</a></span></li><li><span><a href=\"#Разделение-данных-на-выборки\" data-toc-modified-id=\"Разделение-данных-на-выборки-2\"><span class=\"toc-item-num\">2&nbsp;&nbsp;</span>Разделение данных на выборки</a></span></li><li><span><a href=\"#Исследование-моделей\" data-toc-modified-id=\"Исследование-моделей-3\"><span class=\"toc-item-num\">3&nbsp;&nbsp;</span>Исследование моделей</a></span><ul class=\"toc-item\"><li><span><a href=\"#Решающее-дерево\" data-toc-modified-id=\"Решающее-дерево-3.1\"><span class=\"toc-item-num\">3.1&nbsp;&nbsp;</span>Решающее дерево</a></span></li><li><span><a href=\"#Случайный-лес\" data-toc-modified-id=\"Случайный-лес-3.2\"><span class=\"toc-item-num\">3.2&nbsp;&nbsp;</span>Случайный лес</a></span></li><li><span><a href=\"#Логистическая-регрессия\" data-toc-modified-id=\"Логистическая-регрессия-3.3\"><span class=\"toc-item-num\">3.3&nbsp;&nbsp;</span>Логистическая регрессия</a></span></li><li><span><a href=\"#Вывод\" data-toc-modified-id=\"Вывод-3.4\"><span class=\"toc-item-num\">3.4&nbsp;&nbsp;</span>Вывод</a></span></li></ul></li><li><span><a href=\"#Проверка-модели-на-тестовой-выборке\" data-toc-modified-id=\"Проверка-модели-на-тестовой-выборке-4\"><span class=\"toc-item-num\">4&nbsp;&nbsp;</span>Проверка модели на тестовой выборке</a></span><ul class=\"toc-item\"><li><span><a href=\"#Решающее-дерево\" data-toc-modified-id=\"Решающее-дерево-4.1\"><span class=\"toc-item-num\">4.1&nbsp;&nbsp;</span>Решающее дерево</a></span></li><li><span><a href=\"#Случайный-лес\" data-toc-modified-id=\"Случайный-лес-4.2\"><span class=\"toc-item-num\">4.2&nbsp;&nbsp;</span>Случайный лес</a></span></li><li><span><a href=\"#Логистическая-регрессия\" data-toc-modified-id=\"Логистическая-регрессия-4.3\"><span class=\"toc-item-num\">4.3&nbsp;&nbsp;</span>Логистическая регрессия</a></span></li><li><span><a href=\"#Вывод\" data-toc-modified-id=\"Вывод-4.4\"><span class=\"toc-item-num\">4.4&nbsp;&nbsp;</span>Вывод</a></span></li></ul></li><li><span><a href=\"#Проверка-модели-на-адекватность\" data-toc-modified-id=\"Проверка-модели-на-адекватность-5\"><span class=\"toc-item-num\">5&nbsp;&nbsp;</span>Проверка модели на адекватность</a></span></li><li><span><a href=\"#Общий-вывод\" data-toc-modified-id=\"Общий-вывод-6\"><span class=\"toc-item-num\">6&nbsp;&nbsp;</span>Общий вывод</a></span></li></ul></div>"
   ]
  },
  {
   "cell_type": "markdown",
   "metadata": {},
   "source": [
    "## Первый взгляд"
   ]
  },
  {
   "cell_type": "code",
   "execution_count": null,
   "metadata": {},
   "outputs": [],
   "source": [
    "import pandas as pd\n",
    "from sklearn.model_selection import train_test_split\n",
    "from sklearn.tree import DecisionTreeClassifier\n",
    "from sklearn.ensemble import RandomForestClassifier\n",
    "from sklearn.linear_model import LogisticRegression\n",
    "from sklearn.dummy import DummyClassifier"
   ]
  },
  {
   "cell_type": "code",
   "execution_count": 2,
   "metadata": {},
   "outputs": [
    {
     "name": "stdout",
     "output_type": "stream",
     "text": [
      "<class 'pandas.core.frame.DataFrame'>\n",
      "RangeIndex: 3214 entries, 0 to 3213\n",
      "Data columns (total 5 columns):\n",
      "calls       3214 non-null float64\n",
      "minutes     3214 non-null float64\n",
      "messages    3214 non-null float64\n",
      "mb_used     3214 non-null float64\n",
      "is_ultra    3214 non-null int64\n",
      "dtypes: float64(4), int64(1)\n",
      "memory usage: 125.7 KB\n"
     ]
    },
    {
     "data": {
      "text/html": [
       "<div>\n",
       "<style scoped>\n",
       "    .dataframe tbody tr th:only-of-type {\n",
       "        vertical-align: middle;\n",
       "    }\n",
       "\n",
       "    .dataframe tbody tr th {\n",
       "        vertical-align: top;\n",
       "    }\n",
       "\n",
       "    .dataframe thead th {\n",
       "        text-align: right;\n",
       "    }\n",
       "</style>\n",
       "<table border=\"1\" class=\"dataframe\">\n",
       "  <thead>\n",
       "    <tr style=\"text-align: right;\">\n",
       "      <th></th>\n",
       "      <th>calls</th>\n",
       "      <th>minutes</th>\n",
       "      <th>messages</th>\n",
       "      <th>mb_used</th>\n",
       "      <th>is_ultra</th>\n",
       "    </tr>\n",
       "  </thead>\n",
       "  <tbody>\n",
       "    <tr>\n",
       "      <td>0</td>\n",
       "      <td>40.0</td>\n",
       "      <td>311.90</td>\n",
       "      <td>83.0</td>\n",
       "      <td>19915.42</td>\n",
       "      <td>0</td>\n",
       "    </tr>\n",
       "    <tr>\n",
       "      <td>1</td>\n",
       "      <td>85.0</td>\n",
       "      <td>516.75</td>\n",
       "      <td>56.0</td>\n",
       "      <td>22696.96</td>\n",
       "      <td>0</td>\n",
       "    </tr>\n",
       "    <tr>\n",
       "      <td>2</td>\n",
       "      <td>77.0</td>\n",
       "      <td>467.66</td>\n",
       "      <td>86.0</td>\n",
       "      <td>21060.45</td>\n",
       "      <td>0</td>\n",
       "    </tr>\n",
       "    <tr>\n",
       "      <td>3</td>\n",
       "      <td>106.0</td>\n",
       "      <td>745.53</td>\n",
       "      <td>81.0</td>\n",
       "      <td>8437.39</td>\n",
       "      <td>1</td>\n",
       "    </tr>\n",
       "    <tr>\n",
       "      <td>4</td>\n",
       "      <td>66.0</td>\n",
       "      <td>418.74</td>\n",
       "      <td>1.0</td>\n",
       "      <td>14502.75</td>\n",
       "      <td>0</td>\n",
       "    </tr>\n",
       "  </tbody>\n",
       "</table>\n",
       "</div>"
      ],
      "text/plain": [
       "   calls  minutes  messages   mb_used  is_ultra\n",
       "0   40.0   311.90      83.0  19915.42         0\n",
       "1   85.0   516.75      56.0  22696.96         0\n",
       "2   77.0   467.66      86.0  21060.45         0\n",
       "3  106.0   745.53      81.0   8437.39         1\n",
       "4   66.0   418.74       1.0  14502.75         0"
      ]
     },
     "execution_count": 2,
     "metadata": {},
     "output_type": "execute_result"
    }
   ],
   "source": [
    "df = pd.read_csv('/datasets/users_behavior.csv')\n",
    "df.info()\n",
    "df.head()"
   ]
  },
  {
   "cell_type": "markdown",
   "metadata": {},
   "source": [
    "- сalls — количество звонков,\n",
    "- minutes — суммарная длительность звонков в минутах,\n",
    "- messages — количество sms-сообщений,\n",
    "- mb_used — израсходованный интернет-трафик в Мб,\n",
    "- is_ultra — каким тарифом пользовался в течение месяца («Ультра» — 1, «Смарт» — 0)."
   ]
  },
  {
   "cell_type": "markdown",
   "metadata": {},
   "source": [
    "Исходные данные представляют собой таблицу на 5 столбцов и 3214 строк. Среди них нет ни одного пропуска, а типы данных по большей части соответствуют ожидаемым. Исключение составляют столбцы `calls` и `messages`, содержащие количество звонков и сообщений - у них тип данных float, хотя в них явно должны быть целочисленные значения. Впрочем, нам это никак не мешает. Если верить условиям задачи, то предобработка уже выполнена, и не стоит ожидать встретить в данных выбросы и неадекватные значения."
   ]
  },
  {
   "cell_type": "markdown",
   "metadata": {},
   "source": [
    "## Разделение данных на выборки"
   ]
  },
  {
   "cell_type": "markdown",
   "metadata": {},
   "source": [
    "Прежде всего выделим целевой признак, отделив столбец `is_ultra` от всей остальной таблицы:"
   ]
  },
  {
   "cell_type": "code",
   "execution_count": 3,
   "metadata": {},
   "outputs": [],
   "source": [
    "X = df.drop('is_ultra', axis=1)\n",
    "y = df['is_ultra']"
   ]
  },
  {
   "cell_type": "markdown",
   "metadata": {},
   "source": [
    "Теперь разделим данные на обучающую, валидационную и тестовую выборки. В нашем распоряжении всего 3214 объектов, поэтому для обучения модели выделим 70% всех данных, а оставшиеся 30% поделим поровну на валидационную и тестовую выборки:"
   ]
  },
  {
   "cell_type": "code",
   "execution_count": 4,
   "metadata": {},
   "outputs": [],
   "source": [
    "X_train, X_check, y_train, y_check = train_test_split(X, y, \n",
    "                                                      test_size=.3, \n",
    "                                                      random_state=123, \n",
    "                                                      stratify=y)\n",
    "X_valid, X_test, y_valid, y_test = train_test_split(X_check, y_check, \n",
    "                                                    test_size=.5, \n",
    "                                                    random_state=123, \n",
    "                                                    stratify=y_check)"
   ]
  },
  {
   "cell_type": "code",
   "execution_count": 12,
   "metadata": {},
   "outputs": [
    {
     "name": "stdout",
     "output_type": "stream",
     "text": [
      "Размер выборки X_train: 2249\n",
      "Размер выборки X_valid: 482\n",
      "Размер выборки X_test: 483\n",
      "Размер выборки y_train: 2249\n",
      "Размер выборки y_valid: 482\n",
      "Размер выборки y_test: 483\n"
     ]
    }
   ],
   "source": [
    "list = [[X_train, X_valid, X_test], \n",
    "        [y_train, y_valid, y_test], \n",
    "        ['X_train', 'X_valid', 'X_test'], \n",
    "        ['y_train', 'y_valid', 'y_test']]\n",
    "\n",
    "for i in range(2):\n",
    "    for y in range(3):\n",
    "        print(f\"Размер выборки {list[i+2][y]}: {len(list[i][y])}\")"
   ]
  },
  {
   "cell_type": "markdown",
   "metadata": {},
   "source": [
    "Мы получили три выборки - обучающую(`X_train`, `y_train`), валидационную(`X_valid`, `y_valid`) и тестовую(`X_test`, `y_test`), разделяющие исходные данные в соотношении 70/15/15.\n",
    "Чтобы соотношение классов целевого признака в выборках сохранилось таким же, каким было в исходных данных, был использован параметр `stratify` со значениями `y` и `y_check`."
   ]
  },
  {
   "cell_type": "markdown",
   "metadata": {},
   "source": [
    "## Исследование моделей"
   ]
  },
  {
   "cell_type": "markdown",
   "metadata": {},
   "source": [
    "Обучим три модели, после чего проверим их на валидационной выборке и выведем на экран значение метрики accuracy. Это позволит нам сравнить эффективность моделей, и выбрать ту, которую затем проверим на тестовой выборке."
   ]
  },
  {
   "cell_type": "markdown",
   "metadata": {},
   "source": [
    "### Решающее дерево "
   ]
  },
  {
   "cell_type": "code",
   "execution_count": 5,
   "metadata": {},
   "outputs": [
    {
     "name": "stdout",
     "output_type": "stream",
     "text": [
      "Наивысшая точность: 0.7842323651452282 при глубине дерева 9\n"
     ]
    }
   ],
   "source": [
    "best_accuracy = 0\n",
    "best_depth_train_dtc = 0\n",
    "\n",
    "for depth in range(1, 15):\n",
    "    model = DecisionTreeClassifier(max_depth=depth, random_state=123)\n",
    "    model.fit(X_train, y_train)\n",
    "    accuracy = model.score(X_valid, y_valid)\n",
    "    if accuracy > best_accuracy:\n",
    "        best_accuracy = accuracy\n",
    "        best_depth_train_dtc = depth\n",
    "\n",
    "print('Наивысшая точность:', best_accuracy, 'при глубине дерева', best_depth_train_dtc)"
   ]
  },
  {
   "cell_type": "markdown",
   "metadata": {},
   "source": [
    "В цикле перебирается 15 моделей, с глубиной дерева от 1 до 15. На валидационной выборке лучше всего себя показала глубина дерева 9 - точность составила 0.78."
   ]
  },
  {
   "cell_type": "markdown",
   "metadata": {},
   "source": [
    "### Случайный лес "
   ]
  },
  {
   "cell_type": "code",
   "execution_count": 6,
   "metadata": {},
   "outputs": [
    {
     "name": "stdout",
     "output_type": "stream",
     "text": [
      "Наивысшая точность: 0.8008298755186722 при глубине дерева 11 и количестве деревьев 6\n"
     ]
    }
   ],
   "source": [
    "best_accuracy = 0\n",
    "best_depth_train_rfc = 0\n",
    "best_est_train_rfc = 0\n",
    "\n",
    "for est in range(1, 50):\n",
    "    for depth in range(1, 15):\n",
    "        model = RandomForestClassifier(max_depth=depth, n_estimators=est, random_state=123)\n",
    "        model.fit(X_train, y_train)\n",
    "        accuracy = model.score(X_valid, y_valid)\n",
    "        if accuracy > best_accuracy:\n",
    "            best_accuracy = accuracy\n",
    "            best_depth_train_rfc = depth\n",
    "            best_est_train_rfc = est\n",
    "\n",
    "print('Наивысшая точность:', best_accuracy, \n",
    "      'при глубине дерева', best_depth_train_rfc, \n",
    "      'и количестве деревьев', best_est_train_rfc)"
   ]
  },
  {
   "cell_type": "markdown",
   "metadata": {},
   "source": [
    "В случае со случайным лесом мы перебрали 750 моделей, изменяя только два гиперпараметра: количество деревьев и их глубину. Из этого ассортимента лучший результат на валидационной выборке показала модель из 6 деревьев с глубиной 11 - accuracy составила 0.80."
   ]
  },
  {
   "cell_type": "markdown",
   "metadata": {},
   "source": [
    "### Логистическая регрессия "
   ]
  },
  {
   "cell_type": "code",
   "execution_count": 7,
   "metadata": {},
   "outputs": [
    {
     "name": "stdout",
     "output_type": "stream",
     "text": [
      "Наивысшая точность: 0.7634854771784232 при значении solver = newton-cg\n"
     ]
    },
    {
     "name": "stderr",
     "output_type": "stream",
     "text": [
      "/opt/conda/lib/python3.7/site-packages/scipy/optimize/linesearch.py:466: LineSearchWarning: The line search algorithm did not converge\n",
      "  warn('The line search algorithm did not converge', LineSearchWarning)\n",
      "/opt/conda/lib/python3.7/site-packages/scipy/optimize/linesearch.py:314: LineSearchWarning: The line search algorithm did not converge\n",
      "  warn('The line search algorithm did not converge', LineSearchWarning)\n"
     ]
    }
   ],
   "source": [
    "best_accuracy = 0\n",
    "best_solver = ''\n",
    "\n",
    "solver =['newton-cg', 'lbfgs', 'liblinear']\n",
    "for i in range(3):\n",
    "    model = LogisticRegression(solver=solver[i], random_state=123)\n",
    "    model.fit(X_train, y_train)\n",
    "    accuracy = model.score(X_valid, y_valid)\n",
    "    if accuracy > best_accuracy:\n",
    "        best_accuracy = accuracy\n",
    "        best_solver = solver[i]\n",
    "print('Наивысшая точность:', best_accuracy, 'при значении solver =', best_solver)"
   ]
  },
  {
   "cell_type": "markdown",
   "metadata": {},
   "source": [
    "Последняя модель, логистическая регрессия, проверялась с изменением гиперпараметра `solver`. Наилучшего результата удалось достичь с алгоритмом `'newton-cg'`, точность предсказаний такой модели на валидационной выборке составила 0.76, что меньше, чем на всех остальных моделях."
   ]
  },
  {
   "cell_type": "markdown",
   "metadata": {},
   "source": [
    "### Вывод "
   ]
  },
  {
   "cell_type": "markdown",
   "metadata": {},
   "source": [
    "Мы обучили и проверили на валидационной выборке три разных модели: решающее дерево, случайный лес и логистическая регрессия. Для каждой из них перебрали несколько гиперпараметров, чтобы найти наиболее эффективную конфигурацию. В итоге мы получили три модели, которые показали самое лучшее значение accuracy на этой выборке. Однако, разница между этими результатами не такая уж значительная - от 0.76 до 0.80."
   ]
  },
  {
   "cell_type": "markdown",
   "metadata": {},
   "source": [
    "## Проверка модели на тестовой выборке"
   ]
  },
  {
   "cell_type": "markdown",
   "metadata": {},
   "source": [
    "Точность предсказания на валидационной выборке у всех моделей отличается довольно слабо, поэтому проверим на тестовой выборке их все. "
   ]
  },
  {
   "cell_type": "markdown",
   "metadata": {},
   "source": [
    "### Решающее дерево "
   ]
  },
  {
   "cell_type": "code",
   "execution_count": 15,
   "metadata": {},
   "outputs": [
    {
     "name": "stdout",
     "output_type": "stream",
     "text": [
      "Точность предсказаний решающего дерева на тестовой выборке: 0.8095238095238095\n"
     ]
    }
   ],
   "source": [
    "model = DecisionTreeClassifier(max_depth=9, random_state=123)\n",
    "model.fit(X_train, y_train)\n",
    "accuracy = model.score(X_test, y_test)\n",
    "\n",
    "print('Точность предсказаний решающего дерева на тестовой выборке:', accuracy)"
   ]
  },
  {
   "cell_type": "markdown",
   "metadata": {},
   "source": [
    "Для глубины решающего дерева мы взяли лучшее значение из прошлой проверки. На тестовой выборке модель показала результат получше, чем на валидационной: точность составила 0.80 против 0.78."
   ]
  },
  {
   "cell_type": "markdown",
   "metadata": {},
   "source": [
    "### Случайный лес"
   ]
  },
  {
   "cell_type": "code",
   "execution_count": 17,
   "metadata": {},
   "outputs": [
    {
     "name": "stdout",
     "output_type": "stream",
     "text": [
      "Точность предсказаний случайного леса на тестовой выборке: 0.8178053830227743\n"
     ]
    }
   ],
   "source": [
    "model = RandomForestClassifier(max_depth=11, n_estimators=6, random_state=123)\n",
    "model.fit(X_train, y_train)\n",
    "accuracy = model.score(X_test, y_test)\n",
    "print('Точность предсказаний случайного леса на тестовой выборке:', accuracy)"
   ]
  },
  {
   "cell_type": "markdown",
   "metadata": {},
   "source": [
    "Как можно заметить, эта модель тоже неплохо справилась. Точность снова оказалась выше, чем на валидационной выборке. Можно сказать, что эта модель достаточно стабильна, и пока это лучший показатель."
   ]
  },
  {
   "cell_type": "markdown",
   "metadata": {},
   "source": [
    "### Логистическая регрессия"
   ]
  },
  {
   "cell_type": "code",
   "execution_count": 18,
   "metadata": {
    "scrolled": true
   },
   "outputs": [
    {
     "name": "stdout",
     "output_type": "stream",
     "text": [
      "Точность предсказаний логистической регрессии на тестовой выборке: 0.7577639751552795\n"
     ]
    },
    {
     "name": "stderr",
     "output_type": "stream",
     "text": [
      "/opt/conda/lib/python3.7/site-packages/scipy/optimize/linesearch.py:466: LineSearchWarning: The line search algorithm did not converge\n",
      "  warn('The line search algorithm did not converge', LineSearchWarning)\n",
      "/opt/conda/lib/python3.7/site-packages/scipy/optimize/linesearch.py:314: LineSearchWarning: The line search algorithm did not converge\n",
      "  warn('The line search algorithm did not converge', LineSearchWarning)\n"
     ]
    }
   ],
   "source": [
    "model = LogisticRegression(solver='newton-cg', random_state=123)\n",
    "model.fit(X_train, y_train)\n",
    "accuracy = model.score(X_test, y_test)\n",
    "print('Точность предсказаний логистической регрессии на тестовой выборке:', accuracy)"
   ]
  },
  {
   "cell_type": "markdown",
   "metadata": {},
   "source": [
    "У логистической регрессии на тестовой выборке точность предсказаний составила всего 0.75, и это самый грустный результат. Он даже хуже, чем значение на валидационной выборке."
   ]
  },
  {
   "cell_type": "markdown",
   "metadata": {},
   "source": [
    "### Вывод\n"
   ]
  },
  {
   "cell_type": "markdown",
   "metadata": {},
   "source": [
    "Из всех изученных вариантов наилучшие результаты удалось получить от моделей случайного леса, как и на валидационной выборке.  \n",
    "Гиперпараметры модели -  6 деревьев с максимальной глубиной 11, эта конфигурация стабильно дала точность более 0.80 на всех выборках."
   ]
  },
  {
   "cell_type": "markdown",
   "metadata": {},
   "source": [
    "## Проверка модели на адекватность"
   ]
  },
  {
   "cell_type": "markdown",
   "metadata": {},
   "source": [
    "Для проверки того, насколько адекватно полученные модели выполняют свою задачу, и не выдают ли они просто набор псевдослучайных чисел, сравним их значения точности с аналогичным от простейшей фиктивной модели, предсказывающей наиболее часто встречающийся класс."
   ]
  },
  {
   "cell_type": "code",
   "execution_count": 12,
   "metadata": {},
   "outputs": [
    {
     "name": "stdout",
     "output_type": "stream",
     "text": [
      "Валидационная выборка: 0.6929460580912863\n",
      "Тестовая выборка: 0.6935817805383023\n"
     ]
    }
   ],
   "source": [
    "dummy_clf = DummyClassifier(strategy=\"most_frequent\", random_state=123)\n",
    "dummy_clf.fit(X_train, y_train)\n",
    "print('Валидационная выборка:', dummy_clf.score(X_valid, y_valid))\n",
    "print('Тестовая выборка:', dummy_clf.score(X_test, y_test))"
   ]
  },
  {
   "cell_type": "markdown",
   "metadata": {},
   "source": [
    "Полученное значение ниже, чем точность любой из использованных ранее моделей, из чего можно сделать вывод, что модели, которые мы отобрали, в достаточной степени адекватны."
   ]
  },
  {
   "cell_type": "markdown",
   "metadata": {},
   "source": [
    "##  Общий вывод"
   ]
  },
  {
   "cell_type": "markdown",
   "metadata": {},
   "source": [
    "Мы обучили несколько разных моделей с разными наборами гиперпараметров. Самые высокие значения accuracy, которые удалось получить, составляют 0.80 на валидационной и 0.81 на тестовой выборках, и оба этих значения были получены от модели \"случайный лес\".   \n",
    "Однако, возможно, стоит несколько изменить подход к решению задачи, поскольку предлагать пользователям тариф, который им подойдёт с вероятностью 80% как-то не очень корректно, точность прогноза стоит увеличить. Возможно, имеет смысл попробовать другие модели, взять бóльшую исходную выборку, обучить несколько моделей и взять среднее значение, или же разным моделям раздать разные наборы признаков. "
   ]
  }
 ],
 "metadata": {
  "ExecuteTimeLog": [
   {
    "duration": 1110,
    "start_time": "2021-12-17T17:34:21.265Z"
   },
   {
    "duration": 35,
    "start_time": "2021-12-17T17:34:29.449Z"
   },
   {
    "duration": 4,
    "start_time": "2021-12-17T17:34:29.487Z"
   },
   {
    "duration": 14,
    "start_time": "2021-12-17T17:34:29.493Z"
   },
   {
    "duration": 140,
    "start_time": "2021-12-17T17:34:29.509Z"
   },
   {
    "duration": 46688,
    "start_time": "2021-12-17T17:34:29.651Z"
   },
   {
    "duration": 114,
    "start_time": "2021-12-17T17:35:16.340Z"
   },
   {
    "duration": 51,
    "start_time": "2021-12-17T17:35:16.456Z"
   },
   {
    "duration": 2317,
    "start_time": "2021-12-17T17:35:16.509Z"
   },
   {
    "duration": 24,
    "start_time": "2021-12-17T17:35:18.828Z"
   },
   {
    "duration": 105,
    "start_time": "2021-12-17T17:35:18.853Z"
   },
   {
    "duration": 7,
    "start_time": "2021-12-17T17:35:18.960Z"
   },
   {
    "duration": 3599,
    "start_time": "2021-12-17T17:50:06.489Z"
   },
   {
    "duration": 1524,
    "start_time": "2021-12-18T09:29:31.575Z"
   },
   {
    "duration": 7,
    "start_time": "2021-12-18T09:29:37.196Z"
   },
   {
    "duration": 17,
    "start_time": "2021-12-18T09:29:38.505Z"
   },
   {
    "duration": 536,
    "start_time": "2021-12-18T09:30:31.036Z"
   },
   {
    "duration": 291,
    "start_time": "2021-12-18T09:30:54.030Z"
   },
   {
    "duration": 7,
    "start_time": "2021-12-18T09:31:03.019Z"
   },
   {
    "duration": 12,
    "start_time": "2021-12-18T09:31:55.851Z"
   },
   {
    "duration": 419,
    "start_time": "2021-12-18T09:37:10.261Z"
   },
   {
    "duration": 327,
    "start_time": "2021-12-18T19:19:19.977Z"
   },
   {
    "duration": 1232,
    "start_time": "2021-12-18T19:19:28.189Z"
   },
   {
    "duration": 3,
    "start_time": "2021-12-18T19:19:29.423Z"
   },
   {
    "duration": 11,
    "start_time": "2021-12-18T19:19:30.219Z"
   },
   {
    "duration": 7,
    "start_time": "2021-12-18T19:19:31.059Z"
   },
   {
    "duration": 21,
    "start_time": "2021-12-18T19:20:08.565Z"
   },
   {
    "duration": 4,
    "start_time": "2021-12-18T19:21:18.907Z"
   },
   {
    "duration": 4,
    "start_time": "2021-12-18T19:22:01.047Z"
   },
   {
    "duration": 15,
    "start_time": "2021-12-18T19:27:26.698Z"
   },
   {
    "duration": 4,
    "start_time": "2021-12-18T19:27:37.425Z"
   },
   {
    "duration": 318,
    "start_time": "2021-12-18T19:45:03.623Z"
   },
   {
    "duration": 4,
    "start_time": "2021-12-18T19:45:25.403Z"
   },
   {
    "duration": 281,
    "start_time": "2021-12-18T19:49:33.866Z"
   },
   {
    "duration": 13,
    "start_time": "2021-12-18T19:49:51.156Z"
   },
   {
    "duration": 12,
    "start_time": "2021-12-18T19:50:05.514Z"
   },
   {
    "duration": 27,
    "start_time": "2021-12-18T19:51:11.394Z"
   },
   {
    "duration": 27,
    "start_time": "2021-12-18T19:51:18.196Z"
   },
   {
    "duration": 156,
    "start_time": "2021-12-18T19:51:50.806Z"
   }
  ],
  "kernelspec": {
   "display_name": "Python 3",
   "language": "python",
   "name": "python3"
  },
  "language_info": {
   "codemirror_mode": {
    "name": "ipython",
    "version": 3
   },
   "file_extension": ".py",
   "mimetype": "text/x-python",
   "name": "python",
   "nbconvert_exporter": "python",
   "pygments_lexer": "ipython3",
   "version": "3.8.8"
  },
  "toc": {
   "base_numbering": 1,
   "nav_menu": {},
   "number_sections": true,
   "sideBar": true,
   "skip_h1_title": true,
   "title_cell": "Содержание",
   "title_sidebar": "Contents",
   "toc_cell": true,
   "toc_position": {
    "height": "calc(100% - 180px)",
    "left": "10px",
    "top": "150px",
    "width": "272.391px"
   },
   "toc_section_display": true,
   "toc_window_display": true
  }
 },
 "nbformat": 4,
 "nbformat_minor": 2
}
