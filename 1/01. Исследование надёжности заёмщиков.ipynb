{
 "cells": [
  {
   "cell_type": "markdown",
   "metadata": {},
   "source": [
    "# Исследование надёжности заёмщиков"
   ]
  },
  {
   "cell_type": "markdown",
   "metadata": {
    "toc": true
   },
   "source": [
    "<h1>Содержание<span class=\"tocSkip\"></span></h1>\n",
    "<div class=\"toc\"><ul class=\"toc-item\"><li><span><a href=\"#Первый-взгляд\" data-toc-modified-id=\"Первый-взгляд-1\"><span class=\"toc-item-num\">1&nbsp;&nbsp;</span>Первый взгляд</a></span></li><li><span><a href=\"#Подготовка-данных\" data-toc-modified-id=\"Подготовка-данных-2\"><span class=\"toc-item-num\">2&nbsp;&nbsp;</span>Подготовка данных</a></span><ul class=\"toc-item\"><li><span><a href=\"#Обработка-пропусков\" data-toc-modified-id=\"Обработка-пропусков-2.1\"><span class=\"toc-item-num\">2.1&nbsp;&nbsp;</span>Обработка пропусков</a></span></li><li><span><a href=\"#Замена-типа-данных\" data-toc-modified-id=\"Замена-типа-данных-2.2\"><span class=\"toc-item-num\">2.2&nbsp;&nbsp;</span>Замена типа данных</a></span></li><li><span><a href=\"#Обработка-дубликатов\" data-toc-modified-id=\"Обработка-дубликатов-2.3\"><span class=\"toc-item-num\">2.3&nbsp;&nbsp;</span>Обработка дубликатов</a></span></li><li><span><a href=\"#Лемматизация\" data-toc-modified-id=\"Лемматизация-2.4\"><span class=\"toc-item-num\">2.4&nbsp;&nbsp;</span>Лемматизация</a></span></li><li><span><a href=\"#Категоризация-данных\" data-toc-modified-id=\"Категоризация-данных-2.5\"><span class=\"toc-item-num\">2.5&nbsp;&nbsp;</span>Категоризация данных</a></span></li></ul></li><li><span><a href=\"#Ответы-на-поставленные-вопросы\" data-toc-modified-id=\"Ответы-на-поставленные-вопросы-3\"><span class=\"toc-item-num\">3&nbsp;&nbsp;</span>Ответы на поставленные вопросы</a></span><ul class=\"toc-item\"><li><span><a href=\"#Есть-ли-зависимость-между-наличием-детей-и-возвратом-кредита-в-срок?\" data-toc-modified-id=\"Есть-ли-зависимость-между-наличием-детей-и-возвратом-кредита-в-срок?-3.1\"><span class=\"toc-item-num\">3.1&nbsp;&nbsp;</span>Есть ли зависимость между наличием детей и возвратом кредита в срок?</a></span></li><li><span><a href=\"#Есть-ли-зависимость-между-семейным-положением-и-возвратом-кредита-в-срок?\" data-toc-modified-id=\"Есть-ли-зависимость-между-семейным-положением-и-возвратом-кредита-в-срок?-3.2\"><span class=\"toc-item-num\">3.2&nbsp;&nbsp;</span>Есть ли зависимость между семейным положением и возвратом кредита в срок?</a></span></li><li><span><a href=\"#Есть-ли-зависимость-между-уровнем-дохода-и-возвратом-кредита-в-срок?\" data-toc-modified-id=\"Есть-ли-зависимость-между-уровнем-дохода-и-возвратом-кредита-в-срок?-3.3\"><span class=\"toc-item-num\">3.3&nbsp;&nbsp;</span>Есть ли зависимость между уровнем дохода и возвратом кредита в срок?</a></span></li><li><span><a href=\"#Как-разные-цели-кредита-влияют-на-его-возврат-в-срок?\" data-toc-modified-id=\"Как-разные-цели-кредита-влияют-на-его-возврат-в-срок?-3.4\"><span class=\"toc-item-num\">3.4&nbsp;&nbsp;</span>Как разные цели кредита влияют на его возврат в срок?</a></span></li></ul></li><li><span><a href=\"#Общий-вывод\" data-toc-modified-id=\"Общий-вывод-4\"><span class=\"toc-item-num\">4&nbsp;&nbsp;</span>Общий вывод</a></span></li></ul></div>"
   ]
  },
  {
   "cell_type": "markdown",
   "metadata": {},
   "source": [
    "## Первый взгляд"
   ]
  },
  {
   "cell_type": "code",
   "execution_count": null,
   "metadata": {},
   "outputs": [],
   "source": [
    "import pandas as pd\n",
    "from pymystem3 import Mystem"
   ]
  },
  {
   "cell_type": "code",
   "execution_count": 1,
   "metadata": {},
   "outputs": [
    {
     "name": "stdout",
     "output_type": "stream",
     "text": [
      "<class 'pandas.core.frame.DataFrame'>\n",
      "RangeIndex: 21525 entries, 0 to 21524\n",
      "Data columns (total 12 columns):\n",
      "children            21525 non-null int64\n",
      "days_employed       19351 non-null float64\n",
      "dob_years           21525 non-null int64\n",
      "education           21525 non-null object\n",
      "education_id        21525 non-null int64\n",
      "family_status       21525 non-null object\n",
      "family_status_id    21525 non-null int64\n",
      "gender              21525 non-null object\n",
      "income_type         21525 non-null object\n",
      "debt                21525 non-null int64\n",
      "total_income        19351 non-null float64\n",
      "purpose             21525 non-null object\n",
      "dtypes: float64(2), int64(5), object(5)\n",
      "memory usage: 2.0+ MB\n"
     ]
    },
    {
     "data": {
      "text/html": [
       "<div>\n",
       "<style scoped>\n",
       "    .dataframe tbody tr th:only-of-type {\n",
       "        vertical-align: middle;\n",
       "    }\n",
       "\n",
       "    .dataframe tbody tr th {\n",
       "        vertical-align: top;\n",
       "    }\n",
       "\n",
       "    .dataframe thead th {\n",
       "        text-align: right;\n",
       "    }\n",
       "</style>\n",
       "<table border=\"1\" class=\"dataframe\">\n",
       "  <thead>\n",
       "    <tr style=\"text-align: right;\">\n",
       "      <th></th>\n",
       "      <th>children</th>\n",
       "      <th>days_employed</th>\n",
       "      <th>dob_years</th>\n",
       "      <th>education</th>\n",
       "      <th>education_id</th>\n",
       "      <th>family_status</th>\n",
       "      <th>family_status_id</th>\n",
       "      <th>gender</th>\n",
       "      <th>income_type</th>\n",
       "      <th>debt</th>\n",
       "      <th>total_income</th>\n",
       "      <th>purpose</th>\n",
       "    </tr>\n",
       "  </thead>\n",
       "  <tbody>\n",
       "    <tr>\n",
       "      <td>0</td>\n",
       "      <td>1</td>\n",
       "      <td>-8437.673028</td>\n",
       "      <td>42</td>\n",
       "      <td>высшее</td>\n",
       "      <td>0</td>\n",
       "      <td>женат / замужем</td>\n",
       "      <td>0</td>\n",
       "      <td>F</td>\n",
       "      <td>сотрудник</td>\n",
       "      <td>0</td>\n",
       "      <td>253875.639453</td>\n",
       "      <td>покупка жилья</td>\n",
       "    </tr>\n",
       "    <tr>\n",
       "      <td>1</td>\n",
       "      <td>1</td>\n",
       "      <td>-4024.803754</td>\n",
       "      <td>36</td>\n",
       "      <td>среднее</td>\n",
       "      <td>1</td>\n",
       "      <td>женат / замужем</td>\n",
       "      <td>0</td>\n",
       "      <td>F</td>\n",
       "      <td>сотрудник</td>\n",
       "      <td>0</td>\n",
       "      <td>112080.014102</td>\n",
       "      <td>приобретение автомобиля</td>\n",
       "    </tr>\n",
       "    <tr>\n",
       "      <td>2</td>\n",
       "      <td>0</td>\n",
       "      <td>-5623.422610</td>\n",
       "      <td>33</td>\n",
       "      <td>Среднее</td>\n",
       "      <td>1</td>\n",
       "      <td>женат / замужем</td>\n",
       "      <td>0</td>\n",
       "      <td>M</td>\n",
       "      <td>сотрудник</td>\n",
       "      <td>0</td>\n",
       "      <td>145885.952297</td>\n",
       "      <td>покупка жилья</td>\n",
       "    </tr>\n",
       "    <tr>\n",
       "      <td>3</td>\n",
       "      <td>3</td>\n",
       "      <td>-4124.747207</td>\n",
       "      <td>32</td>\n",
       "      <td>среднее</td>\n",
       "      <td>1</td>\n",
       "      <td>женат / замужем</td>\n",
       "      <td>0</td>\n",
       "      <td>M</td>\n",
       "      <td>сотрудник</td>\n",
       "      <td>0</td>\n",
       "      <td>267628.550329</td>\n",
       "      <td>дополнительное образование</td>\n",
       "    </tr>\n",
       "    <tr>\n",
       "      <td>4</td>\n",
       "      <td>0</td>\n",
       "      <td>340266.072047</td>\n",
       "      <td>53</td>\n",
       "      <td>среднее</td>\n",
       "      <td>1</td>\n",
       "      <td>гражданский брак</td>\n",
       "      <td>1</td>\n",
       "      <td>F</td>\n",
       "      <td>пенсионер</td>\n",
       "      <td>0</td>\n",
       "      <td>158616.077870</td>\n",
       "      <td>сыграть свадьбу</td>\n",
       "    </tr>\n",
       "    <tr>\n",
       "      <td>5</td>\n",
       "      <td>0</td>\n",
       "      <td>-926.185831</td>\n",
       "      <td>27</td>\n",
       "      <td>высшее</td>\n",
       "      <td>0</td>\n",
       "      <td>гражданский брак</td>\n",
       "      <td>1</td>\n",
       "      <td>M</td>\n",
       "      <td>компаньон</td>\n",
       "      <td>0</td>\n",
       "      <td>255763.565419</td>\n",
       "      <td>покупка жилья</td>\n",
       "    </tr>\n",
       "    <tr>\n",
       "      <td>6</td>\n",
       "      <td>0</td>\n",
       "      <td>-2879.202052</td>\n",
       "      <td>43</td>\n",
       "      <td>высшее</td>\n",
       "      <td>0</td>\n",
       "      <td>женат / замужем</td>\n",
       "      <td>0</td>\n",
       "      <td>F</td>\n",
       "      <td>компаньон</td>\n",
       "      <td>0</td>\n",
       "      <td>240525.971920</td>\n",
       "      <td>операции с жильем</td>\n",
       "    </tr>\n",
       "    <tr>\n",
       "      <td>7</td>\n",
       "      <td>0</td>\n",
       "      <td>-152.779569</td>\n",
       "      <td>50</td>\n",
       "      <td>СРЕДНЕЕ</td>\n",
       "      <td>1</td>\n",
       "      <td>женат / замужем</td>\n",
       "      <td>0</td>\n",
       "      <td>M</td>\n",
       "      <td>сотрудник</td>\n",
       "      <td>0</td>\n",
       "      <td>135823.934197</td>\n",
       "      <td>образование</td>\n",
       "    </tr>\n",
       "    <tr>\n",
       "      <td>8</td>\n",
       "      <td>2</td>\n",
       "      <td>-6929.865299</td>\n",
       "      <td>35</td>\n",
       "      <td>ВЫСШЕЕ</td>\n",
       "      <td>0</td>\n",
       "      <td>гражданский брак</td>\n",
       "      <td>1</td>\n",
       "      <td>F</td>\n",
       "      <td>сотрудник</td>\n",
       "      <td>0</td>\n",
       "      <td>95856.832424</td>\n",
       "      <td>на проведение свадьбы</td>\n",
       "    </tr>\n",
       "    <tr>\n",
       "      <td>9</td>\n",
       "      <td>0</td>\n",
       "      <td>-2188.756445</td>\n",
       "      <td>41</td>\n",
       "      <td>среднее</td>\n",
       "      <td>1</td>\n",
       "      <td>женат / замужем</td>\n",
       "      <td>0</td>\n",
       "      <td>M</td>\n",
       "      <td>сотрудник</td>\n",
       "      <td>0</td>\n",
       "      <td>144425.938277</td>\n",
       "      <td>покупка жилья для семьи</td>\n",
       "    </tr>\n",
       "  </tbody>\n",
       "</table>\n",
       "</div>"
      ],
      "text/plain": [
       "   children  days_employed  dob_years education  education_id  \\\n",
       "0         1   -8437.673028         42    высшее             0   \n",
       "1         1   -4024.803754         36   среднее             1   \n",
       "2         0   -5623.422610         33   Среднее             1   \n",
       "3         3   -4124.747207         32   среднее             1   \n",
       "4         0  340266.072047         53   среднее             1   \n",
       "5         0    -926.185831         27    высшее             0   \n",
       "6         0   -2879.202052         43    высшее             0   \n",
       "7         0    -152.779569         50   СРЕДНЕЕ             1   \n",
       "8         2   -6929.865299         35    ВЫСШЕЕ             0   \n",
       "9         0   -2188.756445         41   среднее             1   \n",
       "\n",
       "      family_status  family_status_id gender income_type  debt   total_income  \\\n",
       "0   женат / замужем                 0      F   сотрудник     0  253875.639453   \n",
       "1   женат / замужем                 0      F   сотрудник     0  112080.014102   \n",
       "2   женат / замужем                 0      M   сотрудник     0  145885.952297   \n",
       "3   женат / замужем                 0      M   сотрудник     0  267628.550329   \n",
       "4  гражданский брак                 1      F   пенсионер     0  158616.077870   \n",
       "5  гражданский брак                 1      M   компаньон     0  255763.565419   \n",
       "6   женат / замужем                 0      F   компаньон     0  240525.971920   \n",
       "7   женат / замужем                 0      M   сотрудник     0  135823.934197   \n",
       "8  гражданский брак                 1      F   сотрудник     0   95856.832424   \n",
       "9   женат / замужем                 0      M   сотрудник     0  144425.938277   \n",
       "\n",
       "                      purpose  \n",
       "0               покупка жилья  \n",
       "1     приобретение автомобиля  \n",
       "2               покупка жилья  \n",
       "3  дополнительное образование  \n",
       "4             сыграть свадьбу  \n",
       "5               покупка жилья  \n",
       "6           операции с жильем  \n",
       "7                 образование  \n",
       "8       на проведение свадьбы  \n",
       "9     покупка жилья для семьи  "
      ]
     },
     "execution_count": 1,
     "metadata": {},
     "output_type": "execute_result"
    }
   ],
   "source": [
    "df = pd.read_csv('/datasets/data.csv')\n",
    "df.info()\n",
    "df.head(10)"
   ]
  },
  {
   "cell_type": "markdown",
   "metadata": {},
   "source": [
    "**Вывод**"
   ]
  },
  {
   "cell_type": "markdown",
   "metadata": {},
   "source": [
    "В исходной таблице 12 столбцов, из которых наиболее интересных для исследования три - 'children', 'family_status_id' и 'debt'. Также, в данных присутствуют пропуски, однако только в двух столбцах, хранящих в себе данные о трудовом стаже и размере зарплаты. Причём количество пропусков в этих столбцах совпадает, из чего можно сделать предположение, что нехватает данных в одних и тех же строках. В этих же столбцах данные требуют дополнительной обработки - значения должны быть положительными и целочисленными.\n",
    "Каждая строка таблицы содержит данные об одном клиенте банка, описывая его семейное положение, наличие детей, данные о работе и образовании. Практически в половине столбцов тип данных object, что может означать высокий риск ошибки в следствие человеческого фактора - необходимо проверить данные на опечатки. Первых пяти строк таблицы достаточно, чтобы заметить некорректный регистр в некоторых ячейках. "
   ]
  },
  {
   "cell_type": "markdown",
   "metadata": {},
   "source": [
    "## Подготовка данных"
   ]
  },
  {
   "cell_type": "markdown",
   "metadata": {},
   "source": [
    "### Обработка пропусков"
   ]
  },
  {
   "cell_type": "code",
   "execution_count": 2,
   "metadata": {},
   "outputs": [
    {
     "data": {
      "text/plain": [
       "children               0\n",
       "days_employed       2174\n",
       "dob_years              0\n",
       "education              0\n",
       "education_id           0\n",
       "family_status          0\n",
       "family_status_id       0\n",
       "gender                 0\n",
       "income_type            0\n",
       "debt                   0\n",
       "total_income        2174\n",
       "purpose                0\n",
       "dtype: int64"
      ]
     },
     "execution_count": 2,
     "metadata": {},
     "output_type": "execute_result"
    }
   ],
   "source": [
    "df.isna().sum()"
   ]
  },
  {
   "cell_type": "markdown",
   "metadata": {},
   "source": [
    "Суммарное количество пропусков в столбцах 'days_employed' и 'total_income' одинаковое - 2174. Теперь можно проверить, в разных они строках или нет."
   ]
  },
  {
   "cell_type": "code",
   "execution_count": 3,
   "metadata": {},
   "outputs": [
    {
     "name": "stdout",
     "output_type": "stream",
     "text": [
      "2174\n"
     ]
    }
   ],
   "source": [
    "print(len(df) - len(df.dropna(subset=['days_employed', 'total_income'], inplace=False)))"
   ]
  },
  {
   "cell_type": "markdown",
   "metadata": {},
   "source": [
    "Разница в количестве строк между изначальной таблицей и таблицей без строк с пропусками - 2174. Это означает, что информации о трудовом стаже и размере зарплаты нет у одних и тех же людей. "
   ]
  },
  {
   "cell_type": "code",
   "execution_count": 5,
   "metadata": {},
   "outputs": [
    {
     "name": "stdout",
     "output_type": "stream",
     "text": [
      "Людей, у которых 0 дней трудового стажа: 0\n",
      "Людей, у которых месячная зарплата равна 0: 0\n"
     ]
    }
   ],
   "source": [
    "print('Людей, у которых 0 дней трудового стажа:', df[df['days_employed'] == 0]['days_employed'].count())\n",
    "print('Людей, у которых месячная зарплата равна 0:', df[df['total_income'] == 0]['total_income'].count())"
   ]
  },
  {
   "cell_type": "markdown",
   "metadata": {},
   "source": [
    "В таблице нет людей, у которых в столбцах 'days_employed' или 'total_income' стояло бы значение 0. Скорее всего, в данных оказались пропуски либо в случае отсутствия у человека работы (официально), либо если он отказался предоставить данные. Удалить строки нельзя - будут потеряны важные данные. Поэтому, чтобы избежать проблем с анализом, заменим пропуски на медианное значение."
   ]
  },
  {
   "cell_type": "code",
   "execution_count": 6,
   "metadata": {},
   "outputs": [
    {
     "name": "stdout",
     "output_type": "stream",
     "text": [
      "Медианный трудовой стаж: -1203.369528770489\n",
      "Медианная месячная зарплата: 145017.93753253992\n"
     ]
    }
   ],
   "source": [
    "print('Медианный трудовой стаж:', df['days_employed'].median())\n",
    "print('Медианная месячная зарплата:', df['total_income'].median())"
   ]
  },
  {
   "cell_type": "code",
   "execution_count": 7,
   "metadata": {},
   "outputs": [
    {
     "name": "stdout",
     "output_type": "stream",
     "text": [
      "<class 'pandas.core.frame.DataFrame'>\n",
      "RangeIndex: 21525 entries, 0 to 21524\n",
      "Data columns (total 12 columns):\n",
      "children            21525 non-null int64\n",
      "days_employed       21525 non-null float64\n",
      "dob_years           21525 non-null int64\n",
      "education           21525 non-null object\n",
      "education_id        21525 non-null int64\n",
      "family_status       21525 non-null object\n",
      "family_status_id    21525 non-null int64\n",
      "gender              21525 non-null object\n",
      "income_type         21525 non-null object\n",
      "debt                21525 non-null int64\n",
      "total_income        21525 non-null float64\n",
      "purpose             21525 non-null object\n",
      "dtypes: float64(2), int64(5), object(5)\n",
      "memory usage: 2.0+ MB\n"
     ]
    }
   ],
   "source": [
    "df['days_employed'] = df['days_employed'].fillna(df['days_employed'].median())\n",
    "df['total_income'] = df['total_income'].fillna(df['total_income'].median())\n",
    "df.info()"
   ]
  },
  {
   "cell_type": "markdown",
   "metadata": {},
   "source": [
    "**Вывод**"
   ]
  },
  {
   "cell_type": "markdown",
   "metadata": {},
   "source": [
    "Все пропуски в таблице касались работы клиентов - общий трудовой стаж и ежемесячный доход. Пропуски могли возникнуть по причине отсутствия официальной работы у клиента, или же он отказался предоставить необходимую информацию. Однако, остальные столбцы в этих строках несут в себе полезную информацию, и, чтобы её не потерять, пропущенные данные были заполнены медианными значениями."
   ]
  },
  {
   "cell_type": "markdown",
   "metadata": {},
   "source": [
    "### Замена типа данных"
   ]
  },
  {
   "cell_type": "code",
   "execution_count": 8,
   "metadata": {
    "scrolled": false
   },
   "outputs": [
    {
     "name": "stdout",
     "output_type": "stream",
     "text": [
      "<class 'pandas.core.frame.DataFrame'>\n",
      "RangeIndex: 21525 entries, 0 to 21524\n",
      "Data columns (total 12 columns):\n",
      "children            21525 non-null int64\n",
      "days_employed       21525 non-null int64\n",
      "dob_years           21525 non-null int64\n",
      "education           21525 non-null object\n",
      "education_id        21525 non-null int64\n",
      "family_status       21525 non-null object\n",
      "family_status_id    21525 non-null int64\n",
      "gender              21525 non-null object\n",
      "income_type         21525 non-null object\n",
      "debt                21525 non-null int64\n",
      "total_income        21525 non-null int64\n",
      "purpose             21525 non-null object\n",
      "dtypes: int64(7), object(5)\n",
      "memory usage: 2.0+ MB\n"
     ]
    }
   ],
   "source": [
    "df['days_employed'] = df['days_employed'].astype(int)\n",
    "df['total_income'] = df['total_income'].astype(int)\n",
    "df.info()"
   ]
  },
  {
   "cell_type": "code",
   "execution_count": 9,
   "metadata": {},
   "outputs": [
    {
     "name": "stdout",
     "output_type": "stream",
     "text": [
      "Количество отрицательных значений трудового стажа: 18080 из 21525\n"
     ]
    }
   ],
   "source": [
    "print('Количество отрицательных значений трудового стажа:', df[df['days_employed'] < 0]['days_employed'].count(), 'из', len(df))"
   ]
  },
  {
   "cell_type": "code",
   "execution_count": 10,
   "metadata": {},
   "outputs": [
    {
     "data": {
      "text/html": [
       "<div>\n",
       "<style scoped>\n",
       "    .dataframe tbody tr th:only-of-type {\n",
       "        vertical-align: middle;\n",
       "    }\n",
       "\n",
       "    .dataframe tbody tr th {\n",
       "        vertical-align: top;\n",
       "    }\n",
       "\n",
       "    .dataframe thead th {\n",
       "        text-align: right;\n",
       "    }\n",
       "</style>\n",
       "<table border=\"1\" class=\"dataframe\">\n",
       "  <thead>\n",
       "    <tr style=\"text-align: right;\">\n",
       "      <th></th>\n",
       "      <th>children</th>\n",
       "      <th>days_employed</th>\n",
       "      <th>dob_years</th>\n",
       "      <th>education</th>\n",
       "      <th>education_id</th>\n",
       "      <th>family_status</th>\n",
       "      <th>family_status_id</th>\n",
       "      <th>gender</th>\n",
       "      <th>income_type</th>\n",
       "      <th>debt</th>\n",
       "      <th>total_income</th>\n",
       "      <th>purpose</th>\n",
       "    </tr>\n",
       "  </thead>\n",
       "  <tbody>\n",
       "    <tr>\n",
       "      <td>16335</td>\n",
       "      <td>1</td>\n",
       "      <td>-18388</td>\n",
       "      <td>61</td>\n",
       "      <td>среднее</td>\n",
       "      <td>1</td>\n",
       "      <td>женат / замужем</td>\n",
       "      <td>0</td>\n",
       "      <td>F</td>\n",
       "      <td>сотрудник</td>\n",
       "      <td>0</td>\n",
       "      <td>186178</td>\n",
       "      <td>операции с недвижимостью</td>\n",
       "    </tr>\n",
       "    <tr>\n",
       "      <td>4299</td>\n",
       "      <td>0</td>\n",
       "      <td>-17615</td>\n",
       "      <td>61</td>\n",
       "      <td>среднее</td>\n",
       "      <td>1</td>\n",
       "      <td>женат / замужем</td>\n",
       "      <td>0</td>\n",
       "      <td>F</td>\n",
       "      <td>компаньон</td>\n",
       "      <td>0</td>\n",
       "      <td>122560</td>\n",
       "      <td>покупка жилья</td>\n",
       "    </tr>\n",
       "    <tr>\n",
       "      <td>7329</td>\n",
       "      <td>0</td>\n",
       "      <td>-16593</td>\n",
       "      <td>60</td>\n",
       "      <td>высшее</td>\n",
       "      <td>0</td>\n",
       "      <td>женат / замужем</td>\n",
       "      <td>0</td>\n",
       "      <td>F</td>\n",
       "      <td>сотрудник</td>\n",
       "      <td>0</td>\n",
       "      <td>124697</td>\n",
       "      <td>заняться высшим образованием</td>\n",
       "    </tr>\n",
       "    <tr>\n",
       "      <td>17838</td>\n",
       "      <td>0</td>\n",
       "      <td>-16264</td>\n",
       "      <td>59</td>\n",
       "      <td>среднее</td>\n",
       "      <td>1</td>\n",
       "      <td>женат / замужем</td>\n",
       "      <td>0</td>\n",
       "      <td>F</td>\n",
       "      <td>сотрудник</td>\n",
       "      <td>0</td>\n",
       "      <td>51238</td>\n",
       "      <td>на покупку автомобиля</td>\n",
       "    </tr>\n",
       "    <tr>\n",
       "      <td>16825</td>\n",
       "      <td>0</td>\n",
       "      <td>-16119</td>\n",
       "      <td>64</td>\n",
       "      <td>среднее</td>\n",
       "      <td>1</td>\n",
       "      <td>женат / замужем</td>\n",
       "      <td>0</td>\n",
       "      <td>F</td>\n",
       "      <td>сотрудник</td>\n",
       "      <td>0</td>\n",
       "      <td>91527</td>\n",
       "      <td>покупка жилой недвижимости</td>\n",
       "    </tr>\n",
       "  </tbody>\n",
       "</table>\n",
       "</div>"
      ],
      "text/plain": [
       "       children  days_employed  dob_years education  education_id  \\\n",
       "16335         1         -18388         61   среднее             1   \n",
       "4299          0         -17615         61   среднее             1   \n",
       "7329          0         -16593         60    высшее             0   \n",
       "17838         0         -16264         59   среднее             1   \n",
       "16825         0         -16119         64   среднее             1   \n",
       "\n",
       "         family_status  family_status_id gender income_type  debt  \\\n",
       "16335  женат / замужем                 0      F   сотрудник     0   \n",
       "4299   женат / замужем                 0      F   компаньон     0   \n",
       "7329   женат / замужем                 0      F   сотрудник     0   \n",
       "17838  женат / замужем                 0      F   сотрудник     0   \n",
       "16825  женат / замужем                 0      F   сотрудник     0   \n",
       "\n",
       "       total_income                       purpose  \n",
       "16335        186178      операции с недвижимостью  \n",
       "4299         122560                 покупка жилья  \n",
       "7329         124697  заняться высшим образованием  \n",
       "17838         51238         на покупку автомобиля  \n",
       "16825         91527    покупка жилой недвижимости  "
      ]
     },
     "execution_count": 10,
     "metadata": {},
     "output_type": "execute_result"
    }
   ],
   "source": [
    "df.sort_values(by='days_employed').head()"
   ]
  },
  {
   "cell_type": "code",
   "execution_count": 11,
   "metadata": {},
   "outputs": [
    {
     "data": {
      "text/html": [
       "<div>\n",
       "<style scoped>\n",
       "    .dataframe tbody tr th:only-of-type {\n",
       "        vertical-align: middle;\n",
       "    }\n",
       "\n",
       "    .dataframe tbody tr th {\n",
       "        vertical-align: top;\n",
       "    }\n",
       "\n",
       "    .dataframe thead th {\n",
       "        text-align: right;\n",
       "    }\n",
       "</style>\n",
       "<table border=\"1\" class=\"dataframe\">\n",
       "  <thead>\n",
       "    <tr style=\"text-align: right;\">\n",
       "      <th></th>\n",
       "      <th>children</th>\n",
       "      <th>days_employed</th>\n",
       "      <th>dob_years</th>\n",
       "      <th>education</th>\n",
       "      <th>education_id</th>\n",
       "      <th>family_status</th>\n",
       "      <th>family_status_id</th>\n",
       "      <th>gender</th>\n",
       "      <th>income_type</th>\n",
       "      <th>debt</th>\n",
       "      <th>total_income</th>\n",
       "      <th>purpose</th>\n",
       "    </tr>\n",
       "  </thead>\n",
       "  <tbody>\n",
       "    <tr>\n",
       "      <td>7794</td>\n",
       "      <td>0</td>\n",
       "      <td>401663</td>\n",
       "      <td>61</td>\n",
       "      <td>среднее</td>\n",
       "      <td>1</td>\n",
       "      <td>гражданский брак</td>\n",
       "      <td>1</td>\n",
       "      <td>F</td>\n",
       "      <td>пенсионер</td>\n",
       "      <td>0</td>\n",
       "      <td>48286</td>\n",
       "      <td>свадьба</td>\n",
       "    </tr>\n",
       "    <tr>\n",
       "      <td>2156</td>\n",
       "      <td>0</td>\n",
       "      <td>401674</td>\n",
       "      <td>60</td>\n",
       "      <td>среднее</td>\n",
       "      <td>1</td>\n",
       "      <td>женат / замужем</td>\n",
       "      <td>0</td>\n",
       "      <td>M</td>\n",
       "      <td>пенсионер</td>\n",
       "      <td>0</td>\n",
       "      <td>325395</td>\n",
       "      <td>автомобили</td>\n",
       "    </tr>\n",
       "    <tr>\n",
       "      <td>7664</td>\n",
       "      <td>1</td>\n",
       "      <td>401675</td>\n",
       "      <td>61</td>\n",
       "      <td>среднее</td>\n",
       "      <td>1</td>\n",
       "      <td>женат / замужем</td>\n",
       "      <td>0</td>\n",
       "      <td>F</td>\n",
       "      <td>пенсионер</td>\n",
       "      <td>0</td>\n",
       "      <td>126214</td>\n",
       "      <td>операции с жильем</td>\n",
       "    </tr>\n",
       "    <tr>\n",
       "      <td>10006</td>\n",
       "      <td>0</td>\n",
       "      <td>401715</td>\n",
       "      <td>69</td>\n",
       "      <td>высшее</td>\n",
       "      <td>0</td>\n",
       "      <td>Не женат / не замужем</td>\n",
       "      <td>4</td>\n",
       "      <td>F</td>\n",
       "      <td>пенсионер</td>\n",
       "      <td>0</td>\n",
       "      <td>57390</td>\n",
       "      <td>получение образования</td>\n",
       "    </tr>\n",
       "    <tr>\n",
       "      <td>6954</td>\n",
       "      <td>0</td>\n",
       "      <td>401755</td>\n",
       "      <td>56</td>\n",
       "      <td>среднее</td>\n",
       "      <td>1</td>\n",
       "      <td>вдовец / вдова</td>\n",
       "      <td>2</td>\n",
       "      <td>F</td>\n",
       "      <td>пенсионер</td>\n",
       "      <td>0</td>\n",
       "      <td>176278</td>\n",
       "      <td>ремонт жилью</td>\n",
       "    </tr>\n",
       "  </tbody>\n",
       "</table>\n",
       "</div>"
      ],
      "text/plain": [
       "       children  days_employed  dob_years education  education_id  \\\n",
       "7794          0         401663         61   среднее             1   \n",
       "2156          0         401674         60   среднее             1   \n",
       "7664          1         401675         61   среднее             1   \n",
       "10006         0         401715         69    высшее             0   \n",
       "6954          0         401755         56   среднее             1   \n",
       "\n",
       "               family_status  family_status_id gender income_type  debt  \\\n",
       "7794        гражданский брак                 1      F   пенсионер     0   \n",
       "2156         женат / замужем                 0      M   пенсионер     0   \n",
       "7664         женат / замужем                 0      F   пенсионер     0   \n",
       "10006  Не женат / не замужем                 4      F   пенсионер     0   \n",
       "6954          вдовец / вдова                 2      F   пенсионер     0   \n",
       "\n",
       "       total_income                purpose  \n",
       "7794          48286                свадьба  \n",
       "2156         325395             автомобили  \n",
       "7664         126214      операции с жильем  \n",
       "10006         57390  получение образования  \n",
       "6954         176278           ремонт жилью  "
      ]
     },
     "execution_count": 11,
     "metadata": {},
     "output_type": "execute_result"
    }
   ],
   "source": [
    "df.sort_values(by='days_employed').tail()"
   ]
  },
  {
   "cell_type": "markdown",
   "metadata": {},
   "source": [
    "**Вывод**"
   ]
  },
  {
   "cell_type": "markdown",
   "metadata": {},
   "source": [
    "Все столбцы с числовыми значениями приведены к целочисленному типу методом astype(), поскольку дробной частью числа в данном случае можно пренебречь. Также проведено сравнение максимальных и минимальных значений столбца 'days_employed'. Можно сделать вывод, что наличие отрицательных значений - не случайная ошибка, и просто отбросить знак нельзя, поскольку разница крайних значений по модулю слишком велика. Напрашивается желание уточнить природу артефакта у того, кто эти данные предоставил. Возможно, такие значения получились из-за различий в системах подсчёта стажа. Если разные работодатели указывают значения в разном формате, то при подведении итога могли возникнуть отрицательные знчения. "
   ]
  },
  {
   "cell_type": "markdown",
   "metadata": {},
   "source": [
    "### Обработка дубликатов"
   ]
  },
  {
   "cell_type": "code",
   "execution_count": 12,
   "metadata": {},
   "outputs": [
    {
     "data": {
      "text/plain": [
       "54"
      ]
     },
     "execution_count": 12,
     "metadata": {},
     "output_type": "execute_result"
    }
   ],
   "source": [
    "df.duplicated().sum()"
   ]
  },
  {
   "cell_type": "code",
   "execution_count": 13,
   "metadata": {},
   "outputs": [
    {
     "data": {
      "text/plain": [
       "среднее                13750\n",
       "высшее                  4718\n",
       "СРЕДНЕЕ                  772\n",
       "Среднее                  711\n",
       "неоконченное высшее      668\n",
       "ВЫСШЕЕ                   274\n",
       "Высшее                   268\n",
       "начальное                250\n",
       "Неоконченное высшее       47\n",
       "НЕОКОНЧЕННОЕ ВЫСШЕЕ       29\n",
       "НАЧАЛЬНОЕ                 17\n",
       "Начальное                 15\n",
       "ученая степень             4\n",
       "УЧЕНАЯ СТЕПЕНЬ             1\n",
       "Ученая степень             1\n",
       "Name: education, dtype: int64"
      ]
     },
     "execution_count": 13,
     "metadata": {},
     "output_type": "execute_result"
    }
   ],
   "source": [
    "df['education'].value_counts()"
   ]
  },
  {
   "cell_type": "code",
   "execution_count": 14,
   "metadata": {},
   "outputs": [
    {
     "data": {
      "text/plain": [
       "среднее                15233\n",
       "высшее                  5260\n",
       "неоконченное высшее      744\n",
       "начальное                282\n",
       "ученая степень             6\n",
       "Name: education, dtype: int64"
      ]
     },
     "execution_count": 14,
     "metadata": {},
     "output_type": "execute_result"
    }
   ],
   "source": [
    "df['education'] = df['education'].str.lower()\n",
    "df['education'].value_counts()"
   ]
  },
  {
   "cell_type": "code",
   "execution_count": 15,
   "metadata": {},
   "outputs": [
    {
     "data": {
      "text/plain": [
       "71"
      ]
     },
     "execution_count": 15,
     "metadata": {},
     "output_type": "execute_result"
    }
   ],
   "source": [
    "df.duplicated().sum()"
   ]
  },
  {
   "cell_type": "code",
   "execution_count": 16,
   "metadata": {},
   "outputs": [
    {
     "data": {
      "text/plain": [
       "женат / замужем          12380\n",
       "гражданский брак          4177\n",
       "Не женат / не замужем     2813\n",
       "в разводе                 1195\n",
       "вдовец / вдова             960\n",
       "Name: family_status, dtype: int64"
      ]
     },
     "execution_count": 16,
     "metadata": {},
     "output_type": "execute_result"
    }
   ],
   "source": [
    "df['family_status'].value_counts()"
   ]
  },
  {
   "cell_type": "code",
   "execution_count": 17,
   "metadata": {},
   "outputs": [
    {
     "data": {
      "text/plain": [
       "сотрудник          11119\n",
       "компаньон           5085\n",
       "пенсионер           3856\n",
       "госслужащий         1459\n",
       "безработный            2\n",
       "предприниматель        2\n",
       "в декрете              1\n",
       "студент                1\n",
       "Name: income_type, dtype: int64"
      ]
     },
     "execution_count": 17,
     "metadata": {},
     "output_type": "execute_result"
    }
   ],
   "source": [
    "df['family_status'] = df['family_status'].str.lower()\n",
    "df['income_type'].value_counts()"
   ]
  },
  {
   "cell_type": "code",
   "execution_count": 18,
   "metadata": {
    "scrolled": false
   },
   "outputs": [
    {
     "data": {
      "text/plain": [
       "свадьба                                   797\n",
       "на проведение свадьбы                     777\n",
       "сыграть свадьбу                           774\n",
       "операции с недвижимостью                  676\n",
       "покупка коммерческой недвижимости         664\n",
       "покупка жилья для сдачи                   653\n",
       "операции с жильем                         653\n",
       "операции с коммерческой недвижимостью     651\n",
       "жилье                                     647\n",
       "покупка жилья                             647\n",
       "покупка жилья для семьи                   641\n",
       "строительство собственной недвижимости    635\n",
       "недвижимость                              634\n",
       "операции со своей недвижимостью           630\n",
       "строительство жилой недвижимости          626\n",
       "покупка недвижимости                      624\n",
       "покупка своего жилья                      620\n",
       "строительство недвижимости                620\n",
       "ремонт жилью                              612\n",
       "покупка жилой недвижимости                607\n",
       "на покупку своего автомобиля              505\n",
       "заняться высшим образованием              496\n",
       "автомобиль                                495\n",
       "сделка с подержанным автомобилем          489\n",
       "свой автомобиль                           480\n",
       "на покупку подержанного автомобиля        479\n",
       "автомобили                                478\n",
       "на покупку автомобиля                     472\n",
       "дополнительное образование                462\n",
       "приобретение автомобиля                   462\n",
       "сделка с автомобилем                      455\n",
       "высшее образование                        453\n",
       "получение дополнительного образования     447\n",
       "образование                               447\n",
       "получение образования                     443\n",
       "профильное образование                    436\n",
       "получение высшего образования             426\n",
       "заняться образованием                     412\n",
       "Name: purpose, dtype: int64"
      ]
     },
     "execution_count": 18,
     "metadata": {},
     "output_type": "execute_result"
    }
   ],
   "source": [
    "df['purpose'].value_counts()"
   ]
  },
  {
   "cell_type": "code",
   "execution_count": 19,
   "metadata": {},
   "outputs": [
    {
     "data": {
      "text/plain": [
       "0"
      ]
     },
     "execution_count": 19,
     "metadata": {},
     "output_type": "execute_result"
    }
   ],
   "source": [
    "df = df.drop_duplicates().reset_index(drop=True)\n",
    "df.duplicated().sum()"
   ]
  },
  {
   "cell_type": "markdown",
   "metadata": {},
   "source": [
    "**Вывод**"
   ]
  },
  {
   "cell_type": "markdown",
   "metadata": {},
   "source": [
    "Изначальное количество дубликатов в таблице - 54. Однако проверка показала, что в столбце 'education' много повторов с изменением регистра. После приведения всех значений столбца к одному виду количество дубликатов в таблице увеличилось до 71. В столбце 'family_status' тоже были значения с некорректным регистром, однако это не влияет на поиск дубликатов. Последний столбец, 'purpose', содержит в себе много повторяющихся по смыслу значений, которые необходимо разделить на группы. Возможная причина возникновения дубликатов: клиент мог подать заявление повторно, не дождавшись ответа или получив отказ. Например, заявка может составляться не напрямую в банке, а у партнёра, например в каком-то магазине или дилерском центре. В таком случае клиент мог подать несколько заявок в нескольких магазинах. Также, некоторое количество дубликатов могло возникнуть после того, как был изменён тип данных. Мы отбросили дробную часть, в которой могли быть различия."
   ]
  },
  {
   "cell_type": "markdown",
   "metadata": {},
   "source": [
    "### Лемматизация"
   ]
  },
  {
   "cell_type": "code",
   "execution_count": 20,
   "metadata": {},
   "outputs": [
    {
     "data": {
      "text/plain": [
       "[автомобиль, \\n]                                          972\n",
       "[свадьба, \\n]                                             791\n",
       "[на,  , проведение,  , свадьба, \\n]                       768\n",
       "[сыграть,  , свадьба, \\n]                                 765\n",
       "[операция,  , с,  , недвижимость, \\n]                     675\n",
       "[покупка,  , коммерческий,  , недвижимость, \\n]           661\n",
       "[операция,  , с,  , жилье, \\n]                            652\n",
       "[покупка,  , жилье,  , для,  , сдача, \\n]                 651\n",
       "[операция,  , с,  , коммерческий,  , недвижимость, \\n]    650\n",
       "[покупка,  , жилье, \\n]                                   646\n",
       "[жилье, \\n]                                               646\n",
       "[покупка,  , жилье,  , для,  , семья, \\n]                 638\n",
       "[строительство,  , собственный,  , недвижимость, \\n]      635\n",
       "[недвижимость, \\n]                                        633\n",
       "[операция,  , со,  , свой,  , недвижимость, \\n]           627\n",
       "[строительство,  , жилой,  , недвижимость, \\n]            624\n",
       "[покупка,  , недвижимость, \\n]                            621\n",
       "[покупка,  , свой,  , жилье, \\n]                          620\n",
       "[строительство,  , недвижимость, \\n]                      619\n",
       "[ремонт,  , жилье, \\n]                                    607\n",
       "[покупка,  , жилой,  , недвижимость, \\n]                  606\n",
       "[на,  , покупка,  , свой,  , автомобиль, \\n]              505\n",
       "[заниматься,  , высокий,  , образование, \\n]              496\n",
       "[сделка,  , с,  , подержанный,  , автомобиль, \\n]         486\n",
       "[свой,  , автомобиль, \\n]                                 478\n",
       "[на,  , покупка,  , подержать,  , автомобиль, \\n]         478\n",
       "[на,  , покупка,  , автомобиль, \\n]                       471\n",
       "[приобретение,  , автомобиль, \\n]                         461\n",
       "[дополнительный,  , образование, \\n]                      460\n",
       "[сделка,  , с,  , автомобиль, \\n]                         455\n",
       "[высокий,  , образование, \\n]                             452\n",
       "[образование, \\n]                                         447\n",
       "[получение,  , дополнительный,  , образование, \\n]        446\n",
       "[получение,  , образование, \\n]                           442\n",
       "[профильный,  , образование, \\n]                          436\n",
       "[получение,  , высокий,  , образование, \\n]               426\n",
       "[заниматься,  , образование, \\n]                          408\n",
       "Name: purpose_lem, dtype: int64"
      ]
     },
     "execution_count": 20,
     "metadata": {},
     "output_type": "execute_result"
    }
   ],
   "source": [
    "df_clean = df\n",
    "m = Mystem()\n",
    "def f_lem(row):\n",
    "    lem = m.lemmatize(row['purpose'])\n",
    "    return lem\n",
    "\n",
    "df_clean['purpose_lem'] = df.apply(f_lem, axis=1)\n",
    "df_clean['purpose_lem'].value_counts()"
   ]
  },
  {
   "cell_type": "markdown",
   "metadata": {},
   "source": [
    "**Вывод**"
   ]
  },
  {
   "cell_type": "markdown",
   "metadata": {},
   "source": [
    "Чтобы не изменять исходную таблицу, была создана её копия. Таким образом, любые дальнейшие действия не повредят изначальные данные. Результаты лемматизации сформированы в списки, которые составляют новый столбец таблицы: 'purpose_lem'. "
   ]
  },
  {
   "cell_type": "markdown",
   "metadata": {},
   "source": [
    "### Категоризация данных"
   ]
  },
  {
   "cell_type": "code",
   "execution_count": 28,
   "metadata": {},
   "outputs": [
    {
     "data": {
      "text/plain": [
       "жилая недвижимость           9500\n",
       "автомобиль                   4306\n",
       "образование                  4013\n",
       "свадьба                      2324\n",
       "коммерческая недвижимость    1311\n",
       "Name: purpose_category, dtype: int64"
      ]
     },
     "execution_count": 28,
     "metadata": {},
     "output_type": "execute_result"
    }
   ],
   "source": [
    "def f_category(row):\n",
    "    val = row['purpose_lem']\n",
    "    \n",
    "    for i in range(len(val)):\n",
    "        \n",
    "        if (val[i] == 'коммерческий'):\n",
    "            return 'коммерческая недвижимость'\n",
    "        \n",
    "        if (val[i] == 'жилье') | (val[i] == 'недвижимость') :\n",
    "            return 'жилая недвижимость'\n",
    "        \n",
    "        if val[i] == 'образование':\n",
    "            return 'образование'\n",
    "        \n",
    "        if val[i] == 'автомобиль':\n",
    "            return 'автомобиль'\n",
    "        \n",
    "        if val[i] == 'свадьба':\n",
    "            return 'свадьба'\n",
    "        \n",
    "    return 'без категории'\n",
    "        \n",
    "df_clean['purpose_category'] = df.apply(f_category, axis=1)\n",
    "df_clean = df_clean.drop(['purpose', 'purpose_lem'], axis=1)\n",
    "df_clean['purpose_category'].value_counts()"
   ]
  },
  {
   "cell_type": "markdown",
   "metadata": {},
   "source": [
    "После анализа лемм было принято решение разделить все цели кредитов на 5 категорий: жилая недвижимость, коммерческая недвижимость, образование, автомобиль и свадьба. Недвижимость разделена на коммерческую и жилую, потому что есть предположение, что эти различия могут повлиять на возврат кредита. Возможно, если клиент берёт кредит на коммерческую недвижимость, то он более ответственен и серьёзнее настроен, и поэтому с бóльшей вероятностью вернёт долг вовремя. Также были удалены лишние столбцы, 'purpose' и 'purpose_lem'."
   ]
  },
  {
   "cell_type": "code",
   "execution_count": 29,
   "metadata": {},
   "outputs": [
    {
     "data": {
      "text/plain": [
       "298"
      ]
     },
     "execution_count": 29,
     "metadata": {},
     "output_type": "execute_result"
    }
   ],
   "source": [
    "df_clean.duplicated().sum()"
   ]
  },
  {
   "cell_type": "markdown",
   "metadata": {},
   "source": [
    "После лемматизации выяснилось, что в таблице есть ещё некоторое количество дубликатов. Возможные причиы те же - ошибка при указании цели кредита и подача завявки в разных местах."
   ]
  },
  {
   "cell_type": "code",
   "execution_count": 30,
   "metadata": {},
   "outputs": [
    {
     "data": {
      "text/plain": [
       "0"
      ]
     },
     "execution_count": 30,
     "metadata": {},
     "output_type": "execute_result"
    }
   ],
   "source": [
    "df_clean = df_clean.drop_duplicates().reset_index(drop=True)\n",
    "df_clean.duplicated().sum()"
   ]
  },
  {
   "cell_type": "code",
   "execution_count": 31,
   "metadata": {},
   "outputs": [
    {
     "data": {
      "text/html": [
       "<div>\n",
       "<style scoped>\n",
       "    .dataframe tbody tr th:only-of-type {\n",
       "        vertical-align: middle;\n",
       "    }\n",
       "\n",
       "    .dataframe tbody tr th {\n",
       "        vertical-align: top;\n",
       "    }\n",
       "\n",
       "    .dataframe thead th {\n",
       "        text-align: right;\n",
       "    }\n",
       "</style>\n",
       "<table border=\"1\" class=\"dataframe\">\n",
       "  <thead>\n",
       "    <tr style=\"text-align: right;\">\n",
       "      <th></th>\n",
       "      <th>children</th>\n",
       "      <th>days_employed</th>\n",
       "      <th>dob_years</th>\n",
       "      <th>education</th>\n",
       "      <th>education_id</th>\n",
       "      <th>family_status</th>\n",
       "      <th>family_status_id</th>\n",
       "      <th>gender</th>\n",
       "      <th>income_type</th>\n",
       "      <th>debt</th>\n",
       "      <th>total_income</th>\n",
       "      <th>purpose_category</th>\n",
       "    </tr>\n",
       "  </thead>\n",
       "  <tbody>\n",
       "    <tr>\n",
       "      <td>0</td>\n",
       "      <td>1</td>\n",
       "      <td>-8437</td>\n",
       "      <td>42</td>\n",
       "      <td>высшее</td>\n",
       "      <td>0</td>\n",
       "      <td>женат / замужем</td>\n",
       "      <td>0</td>\n",
       "      <td>F</td>\n",
       "      <td>сотрудник</td>\n",
       "      <td>0</td>\n",
       "      <td>253875</td>\n",
       "      <td>жилая недвижимость</td>\n",
       "    </tr>\n",
       "    <tr>\n",
       "      <td>1</td>\n",
       "      <td>1</td>\n",
       "      <td>-4024</td>\n",
       "      <td>36</td>\n",
       "      <td>среднее</td>\n",
       "      <td>1</td>\n",
       "      <td>женат / замужем</td>\n",
       "      <td>0</td>\n",
       "      <td>F</td>\n",
       "      <td>сотрудник</td>\n",
       "      <td>0</td>\n",
       "      <td>112080</td>\n",
       "      <td>автомобиль</td>\n",
       "    </tr>\n",
       "    <tr>\n",
       "      <td>2</td>\n",
       "      <td>0</td>\n",
       "      <td>-5623</td>\n",
       "      <td>33</td>\n",
       "      <td>среднее</td>\n",
       "      <td>1</td>\n",
       "      <td>женат / замужем</td>\n",
       "      <td>0</td>\n",
       "      <td>M</td>\n",
       "      <td>сотрудник</td>\n",
       "      <td>0</td>\n",
       "      <td>145885</td>\n",
       "      <td>жилая недвижимость</td>\n",
       "    </tr>\n",
       "    <tr>\n",
       "      <td>3</td>\n",
       "      <td>3</td>\n",
       "      <td>-4124</td>\n",
       "      <td>32</td>\n",
       "      <td>среднее</td>\n",
       "      <td>1</td>\n",
       "      <td>женат / замужем</td>\n",
       "      <td>0</td>\n",
       "      <td>M</td>\n",
       "      <td>сотрудник</td>\n",
       "      <td>0</td>\n",
       "      <td>267628</td>\n",
       "      <td>образование</td>\n",
       "    </tr>\n",
       "    <tr>\n",
       "      <td>4</td>\n",
       "      <td>0</td>\n",
       "      <td>340266</td>\n",
       "      <td>53</td>\n",
       "      <td>среднее</td>\n",
       "      <td>1</td>\n",
       "      <td>гражданский брак</td>\n",
       "      <td>1</td>\n",
       "      <td>F</td>\n",
       "      <td>пенсионер</td>\n",
       "      <td>0</td>\n",
       "      <td>158616</td>\n",
       "      <td>свадьба</td>\n",
       "    </tr>\n",
       "    <tr>\n",
       "      <td>5</td>\n",
       "      <td>0</td>\n",
       "      <td>-926</td>\n",
       "      <td>27</td>\n",
       "      <td>высшее</td>\n",
       "      <td>0</td>\n",
       "      <td>гражданский брак</td>\n",
       "      <td>1</td>\n",
       "      <td>M</td>\n",
       "      <td>компаньон</td>\n",
       "      <td>0</td>\n",
       "      <td>255763</td>\n",
       "      <td>жилая недвижимость</td>\n",
       "    </tr>\n",
       "    <tr>\n",
       "      <td>6</td>\n",
       "      <td>0</td>\n",
       "      <td>-2879</td>\n",
       "      <td>43</td>\n",
       "      <td>высшее</td>\n",
       "      <td>0</td>\n",
       "      <td>женат / замужем</td>\n",
       "      <td>0</td>\n",
       "      <td>F</td>\n",
       "      <td>компаньон</td>\n",
       "      <td>0</td>\n",
       "      <td>240525</td>\n",
       "      <td>жилая недвижимость</td>\n",
       "    </tr>\n",
       "    <tr>\n",
       "      <td>7</td>\n",
       "      <td>0</td>\n",
       "      <td>-152</td>\n",
       "      <td>50</td>\n",
       "      <td>среднее</td>\n",
       "      <td>1</td>\n",
       "      <td>женат / замужем</td>\n",
       "      <td>0</td>\n",
       "      <td>M</td>\n",
       "      <td>сотрудник</td>\n",
       "      <td>0</td>\n",
       "      <td>135823</td>\n",
       "      <td>образование</td>\n",
       "    </tr>\n",
       "    <tr>\n",
       "      <td>8</td>\n",
       "      <td>2</td>\n",
       "      <td>-6929</td>\n",
       "      <td>35</td>\n",
       "      <td>высшее</td>\n",
       "      <td>0</td>\n",
       "      <td>гражданский брак</td>\n",
       "      <td>1</td>\n",
       "      <td>F</td>\n",
       "      <td>сотрудник</td>\n",
       "      <td>0</td>\n",
       "      <td>95856</td>\n",
       "      <td>свадьба</td>\n",
       "    </tr>\n",
       "    <tr>\n",
       "      <td>9</td>\n",
       "      <td>0</td>\n",
       "      <td>-2188</td>\n",
       "      <td>41</td>\n",
       "      <td>среднее</td>\n",
       "      <td>1</td>\n",
       "      <td>женат / замужем</td>\n",
       "      <td>0</td>\n",
       "      <td>M</td>\n",
       "      <td>сотрудник</td>\n",
       "      <td>0</td>\n",
       "      <td>144425</td>\n",
       "      <td>жилая недвижимость</td>\n",
       "    </tr>\n",
       "  </tbody>\n",
       "</table>\n",
       "</div>"
      ],
      "text/plain": [
       "   children  days_employed  dob_years education  education_id  \\\n",
       "0         1          -8437         42    высшее             0   \n",
       "1         1          -4024         36   среднее             1   \n",
       "2         0          -5623         33   среднее             1   \n",
       "3         3          -4124         32   среднее             1   \n",
       "4         0         340266         53   среднее             1   \n",
       "5         0           -926         27    высшее             0   \n",
       "6         0          -2879         43    высшее             0   \n",
       "7         0           -152         50   среднее             1   \n",
       "8         2          -6929         35    высшее             0   \n",
       "9         0          -2188         41   среднее             1   \n",
       "\n",
       "      family_status  family_status_id gender income_type  debt  total_income  \\\n",
       "0   женат / замужем                 0      F   сотрудник     0        253875   \n",
       "1   женат / замужем                 0      F   сотрудник     0        112080   \n",
       "2   женат / замужем                 0      M   сотрудник     0        145885   \n",
       "3   женат / замужем                 0      M   сотрудник     0        267628   \n",
       "4  гражданский брак                 1      F   пенсионер     0        158616   \n",
       "5  гражданский брак                 1      M   компаньон     0        255763   \n",
       "6   женат / замужем                 0      F   компаньон     0        240525   \n",
       "7   женат / замужем                 0      M   сотрудник     0        135823   \n",
       "8  гражданский брак                 1      F   сотрудник     0         95856   \n",
       "9   женат / замужем                 0      M   сотрудник     0        144425   \n",
       "\n",
       "     purpose_category  \n",
       "0  жилая недвижимость  \n",
       "1          автомобиль  \n",
       "2  жилая недвижимость  \n",
       "3         образование  \n",
       "4             свадьба  \n",
       "5  жилая недвижимость  \n",
       "6  жилая недвижимость  \n",
       "7         образование  \n",
       "8             свадьба  \n",
       "9  жилая недвижимость  "
      ]
     },
     "execution_count": 31,
     "metadata": {},
     "output_type": "execute_result"
    }
   ],
   "source": [
    "df_clean.head(10)"
   ]
  },
  {
   "cell_type": "code",
   "execution_count": 32,
   "metadata": {},
   "outputs": [],
   "source": [
    "df_clean = df_clean.sort_values(by='total_income', ascending=False).reset_index(drop=True)\n",
    "\n",
    "for i in range(len(df_clean)):\n",
    "    val = (len(df_clean)) / 5\n",
    "    if i <= val:\n",
    "        df_clean.loc[i, 'total_income_category'] = 'высокий'\n",
    "        \n",
    "    if val < i < (2 * val):\n",
    "        df_clean.loc[i, 'total_income_category'] = 'выше среднего'\n",
    "        \n",
    "    if (2 * val) <= i <= (3 * val):\n",
    "        df_clean.loc[i, 'total_income_category'] = 'средний'\n",
    "        \n",
    "    if (3 * val) <= i <= (4 * val):\n",
    "        df_clean.loc[i, 'total_income_category'] = 'ниже среднего'\n",
    "        \n",
    "    if (4 * val) <= i:\n",
    "        df_clean.loc[i, 'total_income_category'] = 'низкий'\n",
    "        "
   ]
  },
  {
   "cell_type": "code",
   "execution_count": 33,
   "metadata": {},
   "outputs": [
    {
     "data": {
      "text/plain": [
       "высокий          4232\n",
       "низкий           4231\n",
       "средний          4231\n",
       "ниже среднего    4231\n",
       "выше среднего    4231\n",
       "Name: total_income_category, dtype: int64"
      ]
     },
     "execution_count": 33,
     "metadata": {},
     "output_type": "execute_result"
    }
   ],
   "source": [
    "df_clean['total_income_category'].value_counts()"
   ]
  },
  {
   "cell_type": "markdown",
   "metadata": {},
   "source": [
    "Помимо категоризации значений столбца с целью кредита, нужно что-то делать со значениями ежемесячного дохода. Слишком много разных чисел, хотя по сути они отличаются незначительно. Было принято решение разделить все значения на пять категорий дохода: высокий, выше среднего, средний, ниже среднего и низкий. Для этого таблица отсортирована по столбцу 'total_inome' по убыванию, а затем разбита на 5 равных частей. Каждой части присваивается нужное значение. Результат можно проверить, выведя пограничные строки:"
   ]
  },
  {
   "cell_type": "code",
   "execution_count": 36,
   "metadata": {},
   "outputs": [
    {
     "data": {
      "text/html": [
       "<div>\n",
       "<style scoped>\n",
       "    .dataframe tbody tr th:only-of-type {\n",
       "        vertical-align: middle;\n",
       "    }\n",
       "\n",
       "    .dataframe tbody tr th {\n",
       "        vertical-align: top;\n",
       "    }\n",
       "\n",
       "    .dataframe thead th {\n",
       "        text-align: right;\n",
       "    }\n",
       "</style>\n",
       "<table border=\"1\" class=\"dataframe\">\n",
       "  <thead>\n",
       "    <tr style=\"text-align: right;\">\n",
       "      <th></th>\n",
       "      <th>children</th>\n",
       "      <th>days_employed</th>\n",
       "      <th>dob_years</th>\n",
       "      <th>education</th>\n",
       "      <th>education_id</th>\n",
       "      <th>family_status</th>\n",
       "      <th>family_status_id</th>\n",
       "      <th>gender</th>\n",
       "      <th>income_type</th>\n",
       "      <th>debt</th>\n",
       "      <th>total_income</th>\n",
       "      <th>purpose_category</th>\n",
       "      <th>total_income_category</th>\n",
       "    </tr>\n",
       "  </thead>\n",
       "  <tbody>\n",
       "    <tr>\n",
       "      <td>4231</td>\n",
       "      <td>0</td>\n",
       "      <td>-7076</td>\n",
       "      <td>52</td>\n",
       "      <td>среднее</td>\n",
       "      <td>1</td>\n",
       "      <td>женат / замужем</td>\n",
       "      <td>0</td>\n",
       "      <td>M</td>\n",
       "      <td>компаньон</td>\n",
       "      <td>0</td>\n",
       "      <td>215608</td>\n",
       "      <td>жилая недвижимость</td>\n",
       "      <td>высокий</td>\n",
       "    </tr>\n",
       "    <tr>\n",
       "      <td>4232</td>\n",
       "      <td>0</td>\n",
       "      <td>-3472</td>\n",
       "      <td>57</td>\n",
       "      <td>среднее</td>\n",
       "      <td>1</td>\n",
       "      <td>женат / замужем</td>\n",
       "      <td>0</td>\n",
       "      <td>M</td>\n",
       "      <td>сотрудник</td>\n",
       "      <td>0</td>\n",
       "      <td>215599</td>\n",
       "      <td>автомобиль</td>\n",
       "      <td>выше среднего</td>\n",
       "    </tr>\n",
       "  </tbody>\n",
       "</table>\n",
       "</div>"
      ],
      "text/plain": [
       "      children  days_employed  dob_years education  education_id  \\\n",
       "4231         0          -7076         52   среднее             1   \n",
       "4232         0          -3472         57   среднее             1   \n",
       "\n",
       "        family_status  family_status_id gender income_type  debt  \\\n",
       "4231  женат / замужем                 0      M   компаньон     0   \n",
       "4232  женат / замужем                 0      M   сотрудник     0   \n",
       "\n",
       "      total_income    purpose_category total_income_category  \n",
       "4231        215608  жилая недвижимость               высокий  \n",
       "4232        215599          автомобиль         выше среднего  "
      ]
     },
     "execution_count": 36,
     "metadata": {},
     "output_type": "execute_result"
    }
   ],
   "source": [
    "df_clean.loc[4231:4232]"
   ]
  },
  {
   "cell_type": "code",
   "execution_count": 37,
   "metadata": {},
   "outputs": [
    {
     "data": {
      "text/html": [
       "<div>\n",
       "<style scoped>\n",
       "    .dataframe tbody tr th:only-of-type {\n",
       "        vertical-align: middle;\n",
       "    }\n",
       "\n",
       "    .dataframe tbody tr th {\n",
       "        vertical-align: top;\n",
       "    }\n",
       "\n",
       "    .dataframe thead th {\n",
       "        text-align: right;\n",
       "    }\n",
       "</style>\n",
       "<table border=\"1\" class=\"dataframe\">\n",
       "  <thead>\n",
       "    <tr style=\"text-align: right;\">\n",
       "      <th></th>\n",
       "      <th>children</th>\n",
       "      <th>days_employed</th>\n",
       "      <th>dob_years</th>\n",
       "      <th>education</th>\n",
       "      <th>education_id</th>\n",
       "      <th>family_status</th>\n",
       "      <th>family_status_id</th>\n",
       "      <th>gender</th>\n",
       "      <th>income_type</th>\n",
       "      <th>debt</th>\n",
       "      <th>total_income</th>\n",
       "      <th>purpose_category</th>\n",
       "      <th>total_income_category</th>\n",
       "    </tr>\n",
       "  </thead>\n",
       "  <tbody>\n",
       "    <tr>\n",
       "      <td>8462</td>\n",
       "      <td>0</td>\n",
       "      <td>-211</td>\n",
       "      <td>30</td>\n",
       "      <td>высшее</td>\n",
       "      <td>0</td>\n",
       "      <td>не женат / не замужем</td>\n",
       "      <td>4</td>\n",
       "      <td>F</td>\n",
       "      <td>сотрудник</td>\n",
       "      <td>0</td>\n",
       "      <td>157648</td>\n",
       "      <td>автомобиль</td>\n",
       "      <td>выше среднего</td>\n",
       "    </tr>\n",
       "    <tr>\n",
       "      <td>8463</td>\n",
       "      <td>2</td>\n",
       "      <td>-973</td>\n",
       "      <td>45</td>\n",
       "      <td>среднее</td>\n",
       "      <td>1</td>\n",
       "      <td>гражданский брак</td>\n",
       "      <td>1</td>\n",
       "      <td>M</td>\n",
       "      <td>сотрудник</td>\n",
       "      <td>0</td>\n",
       "      <td>157646</td>\n",
       "      <td>жилая недвижимость</td>\n",
       "      <td>средний</td>\n",
       "    </tr>\n",
       "  </tbody>\n",
       "</table>\n",
       "</div>"
      ],
      "text/plain": [
       "      children  days_employed  dob_years education  education_id  \\\n",
       "8462         0           -211         30    высшее             0   \n",
       "8463         2           -973         45   среднее             1   \n",
       "\n",
       "              family_status  family_status_id gender income_type  debt  \\\n",
       "8462  не женат / не замужем                 4      F   сотрудник     0   \n",
       "8463       гражданский брак                 1      M   сотрудник     0   \n",
       "\n",
       "      total_income    purpose_category total_income_category  \n",
       "8462        157648          автомобиль         выше среднего  \n",
       "8463        157646  жилая недвижимость               средний  "
      ]
     },
     "execution_count": 37,
     "metadata": {},
     "output_type": "execute_result"
    }
   ],
   "source": [
    "df_clean.loc[8462:8463]"
   ]
  },
  {
   "cell_type": "code",
   "execution_count": 38,
   "metadata": {},
   "outputs": [
    {
     "data": {
      "text/html": [
       "<div>\n",
       "<style scoped>\n",
       "    .dataframe tbody tr th:only-of-type {\n",
       "        vertical-align: middle;\n",
       "    }\n",
       "\n",
       "    .dataframe tbody tr th {\n",
       "        vertical-align: top;\n",
       "    }\n",
       "\n",
       "    .dataframe thead th {\n",
       "        text-align: right;\n",
       "    }\n",
       "</style>\n",
       "<table border=\"1\" class=\"dataframe\">\n",
       "  <thead>\n",
       "    <tr style=\"text-align: right;\">\n",
       "      <th></th>\n",
       "      <th>children</th>\n",
       "      <th>days_employed</th>\n",
       "      <th>dob_years</th>\n",
       "      <th>education</th>\n",
       "      <th>education_id</th>\n",
       "      <th>family_status</th>\n",
       "      <th>family_status_id</th>\n",
       "      <th>gender</th>\n",
       "      <th>income_type</th>\n",
       "      <th>debt</th>\n",
       "      <th>total_income</th>\n",
       "      <th>purpose_category</th>\n",
       "      <th>total_income_category</th>\n",
       "    </tr>\n",
       "  </thead>\n",
       "  <tbody>\n",
       "    <tr>\n",
       "      <td>12693</td>\n",
       "      <td>0</td>\n",
       "      <td>-1601</td>\n",
       "      <td>38</td>\n",
       "      <td>среднее</td>\n",
       "      <td>1</td>\n",
       "      <td>женат / замужем</td>\n",
       "      <td>0</td>\n",
       "      <td>M</td>\n",
       "      <td>сотрудник</td>\n",
       "      <td>0</td>\n",
       "      <td>134335</td>\n",
       "      <td>жилая недвижимость</td>\n",
       "      <td>средний</td>\n",
       "    </tr>\n",
       "    <tr>\n",
       "      <td>12694</td>\n",
       "      <td>0</td>\n",
       "      <td>368375</td>\n",
       "      <td>66</td>\n",
       "      <td>среднее</td>\n",
       "      <td>1</td>\n",
       "      <td>не женат / не замужем</td>\n",
       "      <td>4</td>\n",
       "      <td>F</td>\n",
       "      <td>пенсионер</td>\n",
       "      <td>0</td>\n",
       "      <td>134334</td>\n",
       "      <td>автомобиль</td>\n",
       "      <td>ниже среднего</td>\n",
       "    </tr>\n",
       "  </tbody>\n",
       "</table>\n",
       "</div>"
      ],
      "text/plain": [
       "       children  days_employed  dob_years education  education_id  \\\n",
       "12693         0          -1601         38   среднее             1   \n",
       "12694         0         368375         66   среднее             1   \n",
       "\n",
       "               family_status  family_status_id gender income_type  debt  \\\n",
       "12693        женат / замужем                 0      M   сотрудник     0   \n",
       "12694  не женат / не замужем                 4      F   пенсионер     0   \n",
       "\n",
       "       total_income    purpose_category total_income_category  \n",
       "12693        134335  жилая недвижимость               средний  \n",
       "12694        134334          автомобиль         ниже среднего  "
      ]
     },
     "execution_count": 38,
     "metadata": {},
     "output_type": "execute_result"
    }
   ],
   "source": [
    "df_clean.loc[12693:12694]"
   ]
  },
  {
   "cell_type": "code",
   "execution_count": 39,
   "metadata": {},
   "outputs": [
    {
     "data": {
      "text/html": [
       "<div>\n",
       "<style scoped>\n",
       "    .dataframe tbody tr th:only-of-type {\n",
       "        vertical-align: middle;\n",
       "    }\n",
       "\n",
       "    .dataframe tbody tr th {\n",
       "        vertical-align: top;\n",
       "    }\n",
       "\n",
       "    .dataframe thead th {\n",
       "        text-align: right;\n",
       "    }\n",
       "</style>\n",
       "<table border=\"1\" class=\"dataframe\">\n",
       "  <thead>\n",
       "    <tr style=\"text-align: right;\">\n",
       "      <th></th>\n",
       "      <th>children</th>\n",
       "      <th>days_employed</th>\n",
       "      <th>dob_years</th>\n",
       "      <th>education</th>\n",
       "      <th>education_id</th>\n",
       "      <th>family_status</th>\n",
       "      <th>family_status_id</th>\n",
       "      <th>gender</th>\n",
       "      <th>income_type</th>\n",
       "      <th>debt</th>\n",
       "      <th>total_income</th>\n",
       "      <th>purpose_category</th>\n",
       "      <th>total_income_category</th>\n",
       "    </tr>\n",
       "  </thead>\n",
       "  <tbody>\n",
       "    <tr>\n",
       "      <td>16924</td>\n",
       "      <td>0</td>\n",
       "      <td>-2644</td>\n",
       "      <td>38</td>\n",
       "      <td>высшее</td>\n",
       "      <td>0</td>\n",
       "      <td>женат / замужем</td>\n",
       "      <td>0</td>\n",
       "      <td>F</td>\n",
       "      <td>компаньон</td>\n",
       "      <td>0</td>\n",
       "      <td>98028</td>\n",
       "      <td>автомобиль</td>\n",
       "      <td>ниже среднего</td>\n",
       "    </tr>\n",
       "    <tr>\n",
       "      <td>16925</td>\n",
       "      <td>1</td>\n",
       "      <td>-3428</td>\n",
       "      <td>28</td>\n",
       "      <td>среднее</td>\n",
       "      <td>1</td>\n",
       "      <td>гражданский брак</td>\n",
       "      <td>1</td>\n",
       "      <td>F</td>\n",
       "      <td>сотрудник</td>\n",
       "      <td>0</td>\n",
       "      <td>98018</td>\n",
       "      <td>свадьба</td>\n",
       "      <td>низкий</td>\n",
       "    </tr>\n",
       "  </tbody>\n",
       "</table>\n",
       "</div>"
      ],
      "text/plain": [
       "       children  days_employed  dob_years education  education_id  \\\n",
       "16924         0          -2644         38    высшее             0   \n",
       "16925         1          -3428         28   среднее             1   \n",
       "\n",
       "          family_status  family_status_id gender income_type  debt  \\\n",
       "16924   женат / замужем                 0      F   компаньон     0   \n",
       "16925  гражданский брак                 1      F   сотрудник     0   \n",
       "\n",
       "       total_income purpose_category total_income_category  \n",
       "16924         98028       автомобиль         ниже среднего  \n",
       "16925         98018          свадьба                низкий  "
      ]
     },
     "execution_count": 39,
     "metadata": {},
     "output_type": "execute_result"
    }
   ],
   "source": [
    "df_clean.loc[16924:16925]"
   ]
  },
  {
   "cell_type": "markdown",
   "metadata": {},
   "source": [
    "**Вывод**"
   ]
  },
  {
   "cell_type": "markdown",
   "metadata": {},
   "source": [
    "Лемматизация дала возможность разделить значения столбца 'purpose' на группы по смыслу. По итогу категоризации были выявлены дополнительные дубликаты, незамеченные ранее. Также на группы был разбит столбец 'total_income' - будет куда проще искать взаимосвязи с уровнем дохода, если этих уровней всего 5. "
   ]
  },
  {
   "cell_type": "markdown",
   "metadata": {},
   "source": [
    "## Ответы на поставленные вопросы"
   ]
  },
  {
   "cell_type": "markdown",
   "metadata": {},
   "source": [
    "### Есть ли зависимость между наличием детей и возвратом кредита в срок?"
   ]
  },
  {
   "cell_type": "code",
   "execution_count": 40,
   "metadata": {},
   "outputs": [
    {
     "data": {
      "text/html": [
       "<div>\n",
       "<style scoped>\n",
       "    .dataframe tbody tr th:only-of-type {\n",
       "        vertical-align: middle;\n",
       "    }\n",
       "\n",
       "    .dataframe tbody tr th {\n",
       "        vertical-align: top;\n",
       "    }\n",
       "\n",
       "    .dataframe thead th {\n",
       "        text-align: right;\n",
       "    }\n",
       "</style>\n",
       "<table border=\"1\" class=\"dataframe\">\n",
       "  <thead>\n",
       "    <tr style=\"text-align: right;\">\n",
       "      <th></th>\n",
       "      <th>clients_without_debt</th>\n",
       "      <th>clients_with_debt</th>\n",
       "      <th>conversion</th>\n",
       "    </tr>\n",
       "    <tr>\n",
       "      <th>children</th>\n",
       "      <th></th>\n",
       "      <th></th>\n",
       "      <th></th>\n",
       "    </tr>\n",
       "  </thead>\n",
       "  <tbody>\n",
       "    <tr>\n",
       "      <td>5</td>\n",
       "      <td>9.0</td>\n",
       "      <td>NaN</td>\n",
       "      <td>100</td>\n",
       "    </tr>\n",
       "    <tr>\n",
       "      <td>-1</td>\n",
       "      <td>46.0</td>\n",
       "      <td>1.0</td>\n",
       "      <td>97</td>\n",
       "    </tr>\n",
       "    <tr>\n",
       "      <td>0</td>\n",
       "      <td>12792.0</td>\n",
       "      <td>1061.0</td>\n",
       "      <td>92</td>\n",
       "    </tr>\n",
       "    <tr>\n",
       "      <td>3</td>\n",
       "      <td>302.0</td>\n",
       "      <td>27.0</td>\n",
       "      <td>91</td>\n",
       "    </tr>\n",
       "    <tr>\n",
       "      <td>1</td>\n",
       "      <td>4318.0</td>\n",
       "      <td>444.0</td>\n",
       "      <td>90</td>\n",
       "    </tr>\n",
       "    <tr>\n",
       "      <td>2</td>\n",
       "      <td>1846.0</td>\n",
       "      <td>194.0</td>\n",
       "      <td>90</td>\n",
       "    </tr>\n",
       "    <tr>\n",
       "      <td>4</td>\n",
       "      <td>36.0</td>\n",
       "      <td>4.0</td>\n",
       "      <td>90</td>\n",
       "    </tr>\n",
       "    <tr>\n",
       "      <td>20</td>\n",
       "      <td>68.0</td>\n",
       "      <td>8.0</td>\n",
       "      <td>89</td>\n",
       "    </tr>\n",
       "  </tbody>\n",
       "</table>\n",
       "</div>"
      ],
      "text/plain": [
       "          clients_without_debt  clients_with_debt  conversion\n",
       "children                                                     \n",
       " 5                         9.0                NaN         100\n",
       "-1                        46.0                1.0          97\n",
       " 0                     12792.0             1061.0          92\n",
       " 3                       302.0               27.0          91\n",
       " 1                      4318.0              444.0          90\n",
       " 2                      1846.0              194.0          90\n",
       " 4                        36.0                4.0          90\n",
       " 20                       68.0                8.0          89"
      ]
     },
     "execution_count": 40,
     "metadata": {},
     "output_type": "execute_result"
    }
   ],
   "source": [
    "def pivot(data, index, columns, values):\n",
    "    data_pivot = data.pivot_table(index=[index], columns=[columns], values=[values], aggfunc='count')\n",
    "    data_pivot.set_axis(['clients_without_debt', 'clients_with_debt'], axis='columns', inplace=True)\n",
    "    data_pivot['conversion'] = (data_pivot['clients_without_debt']) / (data_pivot.apply('sum', axis=1)) * 100\n",
    "    data_pivot['conversion'] = data_pivot['conversion'].astype(int)\n",
    "    return data_pivot.sort_values(by='conversion', ascending=False)\n",
    "\n",
    "pivot_children = pivot(df_clean, 'children', 'debt', 'education')\n",
    "pivot_children "
   ]
  },
  {
   "cell_type": "code",
   "execution_count": 41,
   "metadata": {},
   "outputs": [
    {
     "data": {
      "text/html": [
       "<div>\n",
       "<style scoped>\n",
       "    .dataframe tbody tr th:only-of-type {\n",
       "        vertical-align: middle;\n",
       "    }\n",
       "\n",
       "    .dataframe tbody tr th {\n",
       "        vertical-align: top;\n",
       "    }\n",
       "\n",
       "    .dataframe thead th {\n",
       "        text-align: right;\n",
       "    }\n",
       "</style>\n",
       "<table border=\"1\" class=\"dataframe\">\n",
       "  <thead>\n",
       "    <tr style=\"text-align: right;\">\n",
       "      <th></th>\n",
       "      <th>clients_without_debt</th>\n",
       "      <th>clients_with_debt</th>\n",
       "      <th>conversion</th>\n",
       "    </tr>\n",
       "    <tr>\n",
       "      <th>children</th>\n",
       "      <th></th>\n",
       "      <th></th>\n",
       "      <th></th>\n",
       "    </tr>\n",
       "  </thead>\n",
       "  <tbody>\n",
       "    <tr>\n",
       "      <td>5</td>\n",
       "      <td>9.0</td>\n",
       "      <td>0.0</td>\n",
       "      <td>100</td>\n",
       "    </tr>\n",
       "    <tr>\n",
       "      <td>0</td>\n",
       "      <td>12792.0</td>\n",
       "      <td>1061.0</td>\n",
       "      <td>92</td>\n",
       "    </tr>\n",
       "    <tr>\n",
       "      <td>3</td>\n",
       "      <td>302.0</td>\n",
       "      <td>27.0</td>\n",
       "      <td>91</td>\n",
       "    </tr>\n",
       "    <tr>\n",
       "      <td>1</td>\n",
       "      <td>4318.0</td>\n",
       "      <td>444.0</td>\n",
       "      <td>90</td>\n",
       "    </tr>\n",
       "    <tr>\n",
       "      <td>2</td>\n",
       "      <td>1846.0</td>\n",
       "      <td>194.0</td>\n",
       "      <td>90</td>\n",
       "    </tr>\n",
       "    <tr>\n",
       "      <td>4</td>\n",
       "      <td>36.0</td>\n",
       "      <td>4.0</td>\n",
       "      <td>90</td>\n",
       "    </tr>\n",
       "  </tbody>\n",
       "</table>\n",
       "</div>"
      ],
      "text/plain": [
       "          clients_without_debt  clients_with_debt  conversion\n",
       "children                                                     \n",
       "5                          9.0                0.0         100\n",
       "0                      12792.0             1061.0          92\n",
       "3                        302.0               27.0          91\n",
       "1                       4318.0              444.0          90\n",
       "2                       1846.0              194.0          90\n",
       "4                         36.0                4.0          90"
      ]
     },
     "execution_count": 41,
     "metadata": {},
     "output_type": "execute_result"
    }
   ],
   "source": [
    "pivot_children = pivot_children.drop([-1, 20], axis=0)\n",
    "pivot_children['clients_with_debt'] = pivot_children['clients_with_debt'].fillna(0)\n",
    "pivot_children"
   ]
  },
  {
   "cell_type": "code",
   "execution_count": 42,
   "metadata": {},
   "outputs": [
    {
     "data": {
      "text/html": [
       "<div>\n",
       "<style scoped>\n",
       "    .dataframe tbody tr th:only-of-type {\n",
       "        vertical-align: middle;\n",
       "    }\n",
       "\n",
       "    .dataframe tbody tr th {\n",
       "        vertical-align: top;\n",
       "    }\n",
       "\n",
       "    .dataframe thead th {\n",
       "        text-align: right;\n",
       "    }\n",
       "</style>\n",
       "<table border=\"1\" class=\"dataframe\">\n",
       "  <thead>\n",
       "    <tr style=\"text-align: right;\">\n",
       "      <th></th>\n",
       "      <th>total_clients_count</th>\n",
       "    </tr>\n",
       "    <tr>\n",
       "      <th>children</th>\n",
       "      <th></th>\n",
       "    </tr>\n",
       "  </thead>\n",
       "  <tbody>\n",
       "    <tr>\n",
       "      <td>0</td>\n",
       "      <td>65.863167</td>\n",
       "    </tr>\n",
       "    <tr>\n",
       "      <td>1</td>\n",
       "      <td>22.640612</td>\n",
       "    </tr>\n",
       "    <tr>\n",
       "      <td>2</td>\n",
       "      <td>9.699044</td>\n",
       "    </tr>\n",
       "    <tr>\n",
       "      <td>3</td>\n",
       "      <td>1.564209</td>\n",
       "    </tr>\n",
       "    <tr>\n",
       "      <td>4</td>\n",
       "      <td>0.190177</td>\n",
       "    </tr>\n",
       "    <tr>\n",
       "      <td>5</td>\n",
       "      <td>0.042790</td>\n",
       "    </tr>\n",
       "  </tbody>\n",
       "</table>\n",
       "</div>"
      ],
      "text/plain": [
       "          total_clients_count\n",
       "children                     \n",
       "0                   65.863167\n",
       "1                   22.640612\n",
       "2                    9.699044\n",
       "3                    1.564209\n",
       "4                    0.190177\n",
       "5                    0.042790"
      ]
     },
     "execution_count": 42,
     "metadata": {},
     "output_type": "execute_result"
    }
   ],
   "source": [
    "pivot_children_percent = pivot_children.sort_values(by='clients_with_debt', ascending=False)\n",
    "total_clients = pivot_children['clients_without_debt'].sum() + pivot_children['clients_with_debt'].sum() \n",
    "pivot_children_percent['total_clients_count'] = ((pivot_children['clients_without_debt'] + pivot_children['clients_with_debt']) * 100) / total_clients\n",
    "pivot_children_percent = pivot_children_percent.drop(['clients_without_debt', 'clients_with_debt', 'conversion'], axis=1)\n",
    "pivot_children_percent"
   ]
  },
  {
   "cell_type": "markdown",
   "metadata": {},
   "source": [
    "**Вывод**"
   ]
  },
  {
   "cell_type": "markdown",
   "metadata": {},
   "source": [
    "Разница в количестве вовремя возвращённых кредитов между клиентами с детьми и без несущественна - клиенты без детей всего на 2% более ответственны. Информацию про -1 или 20 детей можно считать ошибочной и игнорировать, поскольку таких клиентов очень мало. На показатели клиентов с 5 детьми также можно не ориентироваться, поскольку таких клиентов практически нет. Разница между клиентами с детьми и без несущественна, в среднем 90% людей возвращает долг вовремя. Однако, здесь есть другая закономерность - в количестве клиентов с детьми. Чем больше детей в семье, тем с меньшей вероятностью клиент возьмёт кредит. 65% всех клинентов не имеют детей, 1 ребёнок всего у 22%, 2 - у 9%, и так далее. Даже если принимать во внимание, что семьи с большим количеством детей встречаются сильно реже, чем семьи с одим ребёнком, и сравнивать только клиентов без детей и клиентов с 1 ребёнком, то зависимость сохраняется - клиентов без детей в 3 раза больше. Возможно, далеко не все клиенты могут выдержать кредитную нагрузку в совокупности с содержанием ребёнка. Это можно проверить отдельно, используя данные о клиентах банка, которые вообще не взяли кредит."
   ]
  },
  {
   "cell_type": "markdown",
   "metadata": {},
   "source": [
    "### Есть ли зависимость между семейным положением и возвратом кредита в срок?"
   ]
  },
  {
   "cell_type": "code",
   "execution_count": 43,
   "metadata": {},
   "outputs": [
    {
     "data": {
      "text/html": [
       "<div>\n",
       "<style scoped>\n",
       "    .dataframe tbody tr th:only-of-type {\n",
       "        vertical-align: middle;\n",
       "    }\n",
       "\n",
       "    .dataframe tbody tr th {\n",
       "        vertical-align: top;\n",
       "    }\n",
       "\n",
       "    .dataframe thead th {\n",
       "        text-align: right;\n",
       "    }\n",
       "</style>\n",
       "<table border=\"1\" class=\"dataframe\">\n",
       "  <thead>\n",
       "    <tr style=\"text-align: right;\">\n",
       "      <th></th>\n",
       "      <th>clients_without_debt</th>\n",
       "      <th>clients_with_debt</th>\n",
       "      <th>conversion</th>\n",
       "    </tr>\n",
       "    <tr>\n",
       "      <th>family_status</th>\n",
       "      <th></th>\n",
       "      <th></th>\n",
       "      <th></th>\n",
       "    </tr>\n",
       "  </thead>\n",
       "  <tbody>\n",
       "    <tr>\n",
       "      <td>вдовец / вдова</td>\n",
       "      <td>881</td>\n",
       "      <td>63</td>\n",
       "      <td>93</td>\n",
       "    </tr>\n",
       "    <tr>\n",
       "      <td>в разводе</td>\n",
       "      <td>1108</td>\n",
       "      <td>85</td>\n",
       "      <td>92</td>\n",
       "    </tr>\n",
       "    <tr>\n",
       "      <td>женат / замужем</td>\n",
       "      <td>11177</td>\n",
       "      <td>929</td>\n",
       "      <td>92</td>\n",
       "    </tr>\n",
       "    <tr>\n",
       "      <td>гражданский брак</td>\n",
       "      <td>3737</td>\n",
       "      <td>388</td>\n",
       "      <td>90</td>\n",
       "    </tr>\n",
       "    <tr>\n",
       "      <td>не женат / не замужем</td>\n",
       "      <td>2514</td>\n",
       "      <td>274</td>\n",
       "      <td>90</td>\n",
       "    </tr>\n",
       "  </tbody>\n",
       "</table>\n",
       "</div>"
      ],
      "text/plain": [
       "                       clients_without_debt  clients_with_debt  conversion\n",
       "family_status                                                             \n",
       "вдовец / вдова                          881                 63          93\n",
       "в разводе                              1108                 85          92\n",
       "женат / замужем                       11177                929          92\n",
       "гражданский брак                       3737                388          90\n",
       "не женат / не замужем                  2514                274          90"
      ]
     },
     "execution_count": 43,
     "metadata": {},
     "output_type": "execute_result"
    }
   ],
   "source": [
    "pivot_family_status = pivot(df_clean, 'family_status', 'debt', 'education')\n",
    "pivot_family_status "
   ]
  },
  {
   "cell_type": "code",
   "execution_count": 44,
   "metadata": {},
   "outputs": [
    {
     "data": {
      "text/html": [
       "<div>\n",
       "<style scoped>\n",
       "    .dataframe tbody tr th:only-of-type {\n",
       "        vertical-align: middle;\n",
       "    }\n",
       "\n",
       "    .dataframe tbody tr th {\n",
       "        vertical-align: top;\n",
       "    }\n",
       "\n",
       "    .dataframe thead th {\n",
       "        text-align: right;\n",
       "    }\n",
       "</style>\n",
       "<table border=\"1\" class=\"dataframe\">\n",
       "  <thead>\n",
       "    <tr style=\"text-align: right;\">\n",
       "      <th></th>\n",
       "      <th>clients_without_debt</th>\n",
       "      <th>clients_with_debt</th>\n",
       "      <th>conversion</th>\n",
       "    </tr>\n",
       "    <tr>\n",
       "      <th>family_status</th>\n",
       "      <th></th>\n",
       "      <th></th>\n",
       "      <th></th>\n",
       "    </tr>\n",
       "  </thead>\n",
       "  <tbody>\n",
       "    <tr>\n",
       "      <td>женат / замужем</td>\n",
       "      <td>11177</td>\n",
       "      <td>929</td>\n",
       "      <td>92</td>\n",
       "    </tr>\n",
       "    <tr>\n",
       "      <td>не женат / не замужем</td>\n",
       "      <td>8240</td>\n",
       "      <td>810</td>\n",
       "      <td>91</td>\n",
       "    </tr>\n",
       "  </tbody>\n",
       "</table>\n",
       "</div>"
      ],
      "text/plain": [
       "                       clients_without_debt  clients_with_debt  conversion\n",
       "family_status                                                             \n",
       "женат / замужем                       11177                929          92\n",
       "не женат / не замужем                  8240                810          91"
      ]
     },
     "execution_count": 44,
     "metadata": {},
     "output_type": "execute_result"
    }
   ],
   "source": [
    " def f_family_cat (row):\n",
    "        if row['family_status'] != 'женат / замужем':\n",
    "            return 'не женат / не замужем'\n",
    "        return 'женат / замужем'\n",
    "    \n",
    "df_clean['family_status'] = df_clean.apply(f_family_cat, axis=1)\n",
    "pivot_family_status_low = pivot(df_clean, 'family_status', 'debt', 'education')\n",
    "pivot_family_status_low"
   ]
  },
  {
   "cell_type": "markdown",
   "metadata": {},
   "source": [
    "**Вывод**"
   ]
  },
  {
   "cell_type": "markdown",
   "metadata": {},
   "source": [
    "Ситуация аналогична предыдущей - разница крайне несущественна, 2-3%. Даже если предположить, что существует только две категории, женат/замужем и не женат/не замужем, то разница между группами всего 1%. Более интересно другое - как мы уже знаем, подавляющее число клиентов с кредитами не имеют детей. Но также мы видим, что подавляющее большинство состоит в браке. Получается, что выплачивать кредит людям проще вдвоём, и целевая аудитория банка - семьи, которые ещё не завели ребёнка."
   ]
  },
  {
   "cell_type": "markdown",
   "metadata": {},
   "source": [
    "### Есть ли зависимость между уровнем дохода и возвратом кредита в срок?"
   ]
  },
  {
   "cell_type": "code",
   "execution_count": 45,
   "metadata": {},
   "outputs": [
    {
     "data": {
      "text/html": [
       "<div>\n",
       "<style scoped>\n",
       "    .dataframe tbody tr th:only-of-type {\n",
       "        vertical-align: middle;\n",
       "    }\n",
       "\n",
       "    .dataframe tbody tr th {\n",
       "        vertical-align: top;\n",
       "    }\n",
       "\n",
       "    .dataframe thead th {\n",
       "        text-align: right;\n",
       "    }\n",
       "</style>\n",
       "<table border=\"1\" class=\"dataframe\">\n",
       "  <thead>\n",
       "    <tr style=\"text-align: right;\">\n",
       "      <th></th>\n",
       "      <th>clients_without_debt</th>\n",
       "      <th>clients_with_debt</th>\n",
       "      <th>conversion</th>\n",
       "    </tr>\n",
       "    <tr>\n",
       "      <th>total_income_category</th>\n",
       "      <th></th>\n",
       "      <th></th>\n",
       "      <th></th>\n",
       "    </tr>\n",
       "  </thead>\n",
       "  <tbody>\n",
       "    <tr>\n",
       "      <td>высокий</td>\n",
       "      <td>3935</td>\n",
       "      <td>297</td>\n",
       "      <td>92</td>\n",
       "    </tr>\n",
       "    <tr>\n",
       "      <td>выше среднего</td>\n",
       "      <td>3868</td>\n",
       "      <td>363</td>\n",
       "      <td>91</td>\n",
       "    </tr>\n",
       "    <tr>\n",
       "      <td>ниже среднего</td>\n",
       "      <td>3885</td>\n",
       "      <td>346</td>\n",
       "      <td>91</td>\n",
       "    </tr>\n",
       "    <tr>\n",
       "      <td>низкий</td>\n",
       "      <td>3890</td>\n",
       "      <td>341</td>\n",
       "      <td>91</td>\n",
       "    </tr>\n",
       "    <tr>\n",
       "      <td>средний</td>\n",
       "      <td>3839</td>\n",
       "      <td>392</td>\n",
       "      <td>90</td>\n",
       "    </tr>\n",
       "  </tbody>\n",
       "</table>\n",
       "</div>"
      ],
      "text/plain": [
       "                       clients_without_debt  clients_with_debt  conversion\n",
       "total_income_category                                                     \n",
       "высокий                                3935                297          92\n",
       "выше среднего                          3868                363          91\n",
       "ниже среднего                          3885                346          91\n",
       "низкий                                 3890                341          91\n",
       "средний                                3839                392          90"
      ]
     },
     "execution_count": 45,
     "metadata": {},
     "output_type": "execute_result"
    }
   ],
   "source": [
    "pivot_total_income = pivot(df_clean, 'total_income_category', 'debt', 'education')\n",
    "pivot_total_income"
   ]
  },
  {
   "cell_type": "markdown",
   "metadata": {},
   "source": [
    "**Вывод**"
   ]
  },
  {
   "cell_type": "markdown",
   "metadata": {},
   "source": [
    "Как и раньше, разница между клиентами с высоким уровнем дохода и низким минимальна, всё те же 1-2%, закономерности нет. Ориентироваться по этим данным на количество клиентов с тем или иным уровнем дохода нельзя, поскольку мы сами разделили их всех на 5 равных категорий."
   ]
  },
  {
   "cell_type": "markdown",
   "metadata": {},
   "source": [
    "### Как разные цели кредита влияют на его возврат в срок?"
   ]
  },
  {
   "cell_type": "code",
   "execution_count": 46,
   "metadata": {
    "scrolled": false
   },
   "outputs": [
    {
     "data": {
      "text/html": [
       "<div>\n",
       "<style scoped>\n",
       "    .dataframe tbody tr th:only-of-type {\n",
       "        vertical-align: middle;\n",
       "    }\n",
       "\n",
       "    .dataframe tbody tr th {\n",
       "        vertical-align: top;\n",
       "    }\n",
       "\n",
       "    .dataframe thead th {\n",
       "        text-align: right;\n",
       "    }\n",
       "</style>\n",
       "<table border=\"1\" class=\"dataframe\">\n",
       "  <thead>\n",
       "    <tr style=\"text-align: right;\">\n",
       "      <th></th>\n",
       "      <th>clients_without_debt</th>\n",
       "      <th>clients_with_debt</th>\n",
       "      <th>conversion</th>\n",
       "    </tr>\n",
       "    <tr>\n",
       "      <th>purpose_category</th>\n",
       "      <th></th>\n",
       "      <th></th>\n",
       "      <th></th>\n",
       "    </tr>\n",
       "  </thead>\n",
       "  <tbody>\n",
       "    <tr>\n",
       "      <td>жилая недвижимость</td>\n",
       "      <td>8621</td>\n",
       "      <td>682</td>\n",
       "      <td>92</td>\n",
       "    </tr>\n",
       "    <tr>\n",
       "      <td>коммерческая недвижимость</td>\n",
       "      <td>1212</td>\n",
       "      <td>99</td>\n",
       "      <td>92</td>\n",
       "    </tr>\n",
       "    <tr>\n",
       "      <td>свадьба</td>\n",
       "      <td>2120</td>\n",
       "      <td>186</td>\n",
       "      <td>91</td>\n",
       "    </tr>\n",
       "    <tr>\n",
       "      <td>автомобиль</td>\n",
       "      <td>3870</td>\n",
       "      <td>402</td>\n",
       "      <td>90</td>\n",
       "    </tr>\n",
       "    <tr>\n",
       "      <td>образование</td>\n",
       "      <td>3594</td>\n",
       "      <td>370</td>\n",
       "      <td>90</td>\n",
       "    </tr>\n",
       "  </tbody>\n",
       "</table>\n",
       "</div>"
      ],
      "text/plain": [
       "                           clients_without_debt  clients_with_debt  conversion\n",
       "purpose_category                                                              \n",
       "жилая недвижимость                         8621                682          92\n",
       "коммерческая недвижимость                  1212                 99          92\n",
       "свадьба                                    2120                186          91\n",
       "автомобиль                                 3870                402          90\n",
       "образование                                3594                370          90"
      ]
     },
     "execution_count": 46,
     "metadata": {},
     "output_type": "execute_result"
    }
   ],
   "source": [
    "pivot_purpose_category = pivot(df_clean, 'purpose_category', 'debt', 'education')\n",
    "pivot_purpose_category"
   ]
  },
  {
   "cell_type": "markdown",
   "metadata": {},
   "source": [
    "**Вывод**"
   ]
  },
  {
   "cell_type": "markdown",
   "metadata": {},
   "source": [
    "Как и раньше, различия практически отсутствуют, клиенты возвращают кредит вне зависимости от цели, на которую он был взят. Гипотеза о том, что люди, взявшие кредит на коммерческую недвижимость более ответственны и вернут долг раньше не подтвердилась, конверсия этой категориии такая же, как и у жилой недвижимости. Самая малочисленная цель - свадьба, но при этом её конверсия не самая худшая. "
   ]
  },
  {
   "cell_type": "markdown",
   "metadata": {},
   "source": [
    "## Общий вывод"
   ]
  },
  {
   "cell_type": "markdown",
   "metadata": {},
   "source": [
    "Ни одна первоначальная гипотеза не подтвердилась. Количество должников не зависит ни от количества детей, ни от семейного положения, ни от дохода, ни от цели кредита. Их всегда около 10%, в каждой категории. Использовать эти данные для постройки модели кредитного скоринга не получится, они не несут в себе чётких закономерностей. Возможно, для этого будут более полезны данные о доходах и расходах клиента, о кредитной истории, о попытках взять кредит в других банках. Однако, анализ полученных данных показал, что количество клиентов без детей сильно превышает количество клиентов с детьми. И это при том, что подавляющее большинство клиентов состоит в браке. Соответственно, когда в этом браке родится ребёнок, а людям потребуется кредит, то с большой вероятностью они выберут другой банк. Возможно, стоит пересмотреть условия и предложить более выгодные программы, подходящие для этой категории людей. "
   ]
  }
 ],
 "metadata": {
  "ExecuteTimeLog": [
   {
    "duration": 864,
    "start_time": "2021-09-09T08:30:56.317Z"
   },
   {
    "duration": 86,
    "start_time": "2021-09-09T08:31:13.215Z"
   },
   {
    "duration": 72,
    "start_time": "2021-09-09T08:40:55.160Z"
   },
   {
    "duration": 88,
    "start_time": "2021-09-09T08:41:10.191Z"
   },
   {
    "duration": 14,
    "start_time": "2021-09-09T09:12:54.626Z"
   },
   {
    "duration": 11,
    "start_time": "2021-09-09T09:16:57.894Z"
   },
   {
    "duration": 29,
    "start_time": "2021-09-09T09:17:17.579Z"
   },
   {
    "duration": 453,
    "start_time": "2021-09-09T09:21:39.440Z"
   },
   {
    "duration": 335,
    "start_time": "2021-09-09T09:22:39.474Z"
   },
   {
    "duration": 301,
    "start_time": "2021-09-09T09:22:52.632Z"
   },
   {
    "duration": 6146,
    "start_time": "2021-09-09T09:22:59.945Z"
   },
   {
    "duration": 6062,
    "start_time": "2021-09-09T09:23:28.407Z"
   },
   {
    "duration": 6,
    "start_time": "2021-09-09T09:25:38.994Z"
   },
   {
    "duration": 11,
    "start_time": "2021-09-09T09:28:20.883Z"
   },
   {
    "duration": 6,
    "start_time": "2021-09-09T10:11:49.069Z"
   },
   {
    "duration": 165,
    "start_time": "2021-09-09T10:11:58.796Z"
   },
   {
    "duration": 4,
    "start_time": "2021-09-09T10:12:20.366Z"
   },
   {
    "duration": 8,
    "start_time": "2021-09-09T10:28:48.909Z"
   },
   {
    "duration": 29,
    "start_time": "2021-09-09T10:29:08.991Z"
   },
   {
    "duration": 10,
    "start_time": "2021-09-09T10:29:28.130Z"
   },
   {
    "duration": 8,
    "start_time": "2021-09-09T10:29:37.453Z"
   },
   {
    "duration": 8,
    "start_time": "2021-09-09T10:29:45.375Z"
   },
   {
    "duration": 7,
    "start_time": "2021-09-09T10:30:23.058Z"
   },
   {
    "duration": 380,
    "start_time": "2021-09-09T10:50:30.389Z"
   },
   {
    "duration": 654,
    "start_time": "2021-09-09T10:51:45.220Z"
   },
   {
    "duration": 10,
    "start_time": "2021-09-09T10:51:45.876Z"
   },
   {
    "duration": 8,
    "start_time": "2021-09-09T10:51:45.888Z"
   },
   {
    "duration": 13,
    "start_time": "2021-09-09T10:51:45.898Z"
   },
   {
    "duration": 991,
    "start_time": "2021-09-09T11:17:47.057Z"
   },
   {
    "duration": 645,
    "start_time": "2021-09-09T11:18:08.303Z"
   },
   {
    "duration": 9,
    "start_time": "2021-09-09T11:18:08.949Z"
   },
   {
    "duration": 9,
    "start_time": "2021-09-09T11:18:08.960Z"
   },
   {
    "duration": 17,
    "start_time": "2021-09-09T11:18:08.971Z"
   },
   {
    "duration": 24,
    "start_time": "2021-09-09T11:18:08.990Z"
   },
   {
    "duration": 23,
    "start_time": "2021-09-09T11:18:52.814Z"
   },
   {
    "duration": 24,
    "start_time": "2021-09-09T11:19:00.077Z"
   },
   {
    "duration": 23,
    "start_time": "2021-09-09T11:19:32.382Z"
   },
   {
    "duration": 2916,
    "start_time": "2021-09-09T11:20:48.489Z"
   },
   {
    "duration": 5,
    "start_time": "2021-09-09T11:21:04.493Z"
   },
   {
    "duration": 4,
    "start_time": "2021-09-09T11:21:06.807Z"
   },
   {
    "duration": 8,
    "start_time": "2021-09-09T11:21:13.493Z"
   },
   {
    "duration": 8,
    "start_time": "2021-09-09T11:21:17.928Z"
   },
   {
    "duration": 8,
    "start_time": "2021-09-09T11:21:27.856Z"
   },
   {
    "duration": 25,
    "start_time": "2021-09-09T12:02:13.202Z"
   },
   {
    "duration": 24,
    "start_time": "2021-09-09T12:02:21.024Z"
   },
   {
    "duration": 25,
    "start_time": "2021-09-09T12:02:36.344Z"
   },
   {
    "duration": 25,
    "start_time": "2021-09-09T12:02:44.169Z"
   },
   {
    "duration": 20,
    "start_time": "2021-09-09T12:06:18.443Z"
   },
   {
    "duration": 29,
    "start_time": "2021-09-09T12:08:10.853Z"
   },
   {
    "duration": 13,
    "start_time": "2021-09-09T12:23:38.158Z"
   },
   {
    "duration": 630,
    "start_time": "2021-09-09T12:23:52.996Z"
   },
   {
    "duration": 9,
    "start_time": "2021-09-09T12:23:53.628Z"
   },
   {
    "duration": 12,
    "start_time": "2021-09-09T12:23:53.638Z"
   },
   {
    "duration": 5,
    "start_time": "2021-09-09T12:23:53.651Z"
   },
   {
    "duration": 45,
    "start_time": "2021-09-09T12:23:53.658Z"
   },
   {
    "duration": 12,
    "start_time": "2021-09-09T12:40:57.888Z"
   },
   {
    "duration": 25,
    "start_time": "2021-09-09T12:41:11.039Z"
   },
   {
    "duration": 653,
    "start_time": "2021-09-09T12:43:23.836Z"
   },
   {
    "duration": 11,
    "start_time": "2021-09-09T12:43:24.491Z"
   },
   {
    "duration": 9,
    "start_time": "2021-09-09T12:43:24.504Z"
   },
   {
    "duration": 7,
    "start_time": "2021-09-09T12:43:24.515Z"
   },
   {
    "duration": 28,
    "start_time": "2021-09-09T12:43:24.523Z"
   },
   {
    "duration": 70,
    "start_time": "2021-09-09T12:43:57.231Z"
   },
   {
    "duration": 11,
    "start_time": "2021-09-09T12:43:57.303Z"
   },
   {
    "duration": 9,
    "start_time": "2021-09-09T12:43:57.316Z"
   },
   {
    "duration": 5,
    "start_time": "2021-09-09T12:43:57.327Z"
   },
   {
    "duration": 56,
    "start_time": "2021-09-09T12:43:57.334Z"
   },
   {
    "duration": 61,
    "start_time": "2021-09-09T12:44:43.423Z"
   },
   {
    "duration": 12,
    "start_time": "2021-09-09T12:44:51.745Z"
   },
   {
    "duration": 63,
    "start_time": "2021-09-09T12:55:19.040Z"
   },
   {
    "duration": 342,
    "start_time": "2021-09-09T12:57:43.038Z"
   },
   {
    "duration": 67,
    "start_time": "2021-09-09T12:59:02.283Z"
   },
   {
    "duration": 9,
    "start_time": "2021-09-09T12:59:02.352Z"
   },
   {
    "duration": 9,
    "start_time": "2021-09-09T12:59:02.363Z"
   },
   {
    "duration": 7,
    "start_time": "2021-09-09T12:59:02.384Z"
   },
   {
    "duration": 15,
    "start_time": "2021-09-09T12:59:02.392Z"
   },
   {
    "duration": 12,
    "start_time": "2021-09-09T12:59:02.409Z"
   },
   {
    "duration": 13,
    "start_time": "2021-09-09T12:59:55.180Z"
   },
   {
    "duration": 8,
    "start_time": "2021-09-09T13:01:03.723Z"
   },
   {
    "duration": 7,
    "start_time": "2021-09-09T13:01:11.932Z"
   },
   {
    "duration": 6,
    "start_time": "2021-09-09T13:01:28.409Z"
   },
   {
    "duration": 6,
    "start_time": "2021-09-09T13:02:51.804Z"
   },
   {
    "duration": 19,
    "start_time": "2021-09-10T15:29:02.496Z"
   },
   {
    "duration": 19,
    "start_time": "2021-09-10T15:29:15.443Z"
   },
   {
    "duration": 9,
    "start_time": "2021-09-10T15:30:13.067Z"
   },
   {
    "duration": 23,
    "start_time": "2021-09-10T15:34:05.468Z"
   },
   {
    "duration": 18,
    "start_time": "2021-09-10T15:43:10.137Z"
   },
   {
    "duration": 18,
    "start_time": "2021-09-10T15:43:20.978Z"
   },
   {
    "duration": 18,
    "start_time": "2021-09-10T15:43:30.129Z"
   },
   {
    "duration": 17,
    "start_time": "2021-09-10T15:48:09.907Z"
   },
   {
    "duration": 8,
    "start_time": "2021-09-10T15:48:54.789Z"
   },
   {
    "duration": 8,
    "start_time": "2021-09-10T15:50:00.272Z"
   },
   {
    "duration": 9,
    "start_time": "2021-09-10T15:51:35.249Z"
   },
   {
    "duration": 8,
    "start_time": "2021-09-10T15:51:52.192Z"
   },
   {
    "duration": 384,
    "start_time": "2021-09-10T15:55:10.703Z"
   },
   {
    "duration": 15,
    "start_time": "2021-09-10T15:55:27.997Z"
   },
   {
    "duration": 26,
    "start_time": "2021-09-10T15:56:00.620Z"
   },
   {
    "duration": 26,
    "start_time": "2021-09-10T15:56:06.530Z"
   },
   {
    "duration": 26,
    "start_time": "2021-09-10T15:56:21.056Z"
   },
   {
    "duration": 374,
    "start_time": "2021-09-10T15:56:41.642Z"
   },
   {
    "duration": 20,
    "start_time": "2021-09-10T15:56:46.651Z"
   },
   {
    "duration": 358,
    "start_time": "2021-09-10T15:57:08.396Z"
   },
   {
    "duration": 124,
    "start_time": "2021-09-10T15:57:28.016Z"
   },
   {
    "duration": 23,
    "start_time": "2021-09-10T15:57:30.905Z"
   },
   {
    "duration": 18,
    "start_time": "2021-09-10T15:58:48.927Z"
   },
   {
    "duration": 19,
    "start_time": "2021-09-10T15:58:55.710Z"
   },
   {
    "duration": 9,
    "start_time": "2021-09-10T15:58:57.363Z"
   },
   {
    "duration": 21,
    "start_time": "2021-09-10T15:59:11.432Z"
   },
   {
    "duration": 21,
    "start_time": "2021-09-10T15:59:17.487Z"
   },
   {
    "duration": 19,
    "start_time": "2021-09-10T15:59:23.274Z"
   },
   {
    "duration": 414,
    "start_time": "2021-09-10T16:05:57.087Z"
   },
   {
    "duration": 365,
    "start_time": "2021-09-10T16:06:13.601Z"
   },
   {
    "duration": 1000,
    "start_time": "2021-09-10T16:06:49.076Z"
   },
   {
    "duration": 72,
    "start_time": "2021-09-10T16:07:02.816Z"
   },
   {
    "duration": 70,
    "start_time": "2021-09-10T16:07:09.050Z"
   },
   {
    "duration": 10,
    "start_time": "2021-09-10T16:07:09.122Z"
   },
   {
    "duration": 14,
    "start_time": "2021-09-10T16:07:09.134Z"
   },
   {
    "duration": 6,
    "start_time": "2021-09-10T16:07:09.150Z"
   },
   {
    "duration": 26,
    "start_time": "2021-09-10T16:07:09.158Z"
   },
   {
    "duration": 13,
    "start_time": "2021-09-10T16:07:09.186Z"
   },
   {
    "duration": 6,
    "start_time": "2021-09-10T16:07:09.201Z"
   },
   {
    "duration": 18,
    "start_time": "2021-09-10T16:07:09.209Z"
   },
   {
    "duration": 55,
    "start_time": "2021-09-10T16:07:09.230Z"
   },
   {
    "duration": 18,
    "start_time": "2021-09-10T16:07:09.288Z"
   },
   {
    "duration": 8,
    "start_time": "2021-09-10T16:07:09.309Z"
   },
   {
    "duration": 21,
    "start_time": "2021-09-10T16:07:09.320Z"
   },
   {
    "duration": 49,
    "start_time": "2021-09-10T16:07:09.343Z"
   },
   {
    "duration": 48,
    "start_time": "2021-09-10T16:07:09.394Z"
   },
   {
    "duration": 28,
    "start_time": "2021-09-10T16:07:09.444Z"
   },
   {
    "duration": 9,
    "start_time": "2021-09-10T16:07:09.474Z"
   },
   {
    "duration": 6,
    "start_time": "2021-09-10T16:10:15.983Z"
   },
   {
    "duration": 5030,
    "start_time": "2021-09-10T16:12:11.275Z"
   },
   {
    "duration": 364,
    "start_time": "2021-09-10T16:12:36.282Z"
   },
   {
    "duration": 421,
    "start_time": "2021-09-10T16:18:32.984Z"
   },
   {
    "duration": 361,
    "start_time": "2021-09-10T16:19:41.063Z"
   },
   {
    "duration": 401,
    "start_time": "2021-09-10T16:19:56.186Z"
   },
   {
    "duration": 4,
    "start_time": "2021-09-10T16:20:22.376Z"
   },
   {
    "duration": 4,
    "start_time": "2021-09-10T16:20:28.730Z"
   },
   {
    "duration": 3,
    "start_time": "2021-09-10T16:20:49.467Z"
   },
   {
    "duration": 516,
    "start_time": "2021-09-10T16:21:08.308Z"
   },
   {
    "duration": -70,
    "start_time": "2021-09-10T16:22:22.643Z"
   },
   {
    "duration": -66,
    "start_time": "2021-09-10T16:22:38.954Z"
   },
   {
    "duration": -72,
    "start_time": "2021-09-10T16:22:38.961Z"
   },
   {
    "duration": -84,
    "start_time": "2021-09-10T16:22:38.975Z"
   },
   {
    "duration": -85,
    "start_time": "2021-09-10T16:22:38.977Z"
   },
   {
    "duration": -86,
    "start_time": "2021-09-10T16:22:38.979Z"
   },
   {
    "duration": -87,
    "start_time": "2021-09-10T16:22:38.981Z"
   },
   {
    "duration": -88,
    "start_time": "2021-09-10T16:22:38.983Z"
   },
   {
    "duration": -88,
    "start_time": "2021-09-10T16:22:38.984Z"
   },
   {
    "duration": -89,
    "start_time": "2021-09-10T16:22:38.986Z"
   },
   {
    "duration": -89,
    "start_time": "2021-09-10T16:22:38.987Z"
   },
   {
    "duration": -90,
    "start_time": "2021-09-10T16:22:38.989Z"
   },
   {
    "duration": -90,
    "start_time": "2021-09-10T16:22:38.990Z"
   },
   {
    "duration": -98,
    "start_time": "2021-09-10T16:22:38.999Z"
   },
   {
    "duration": -102,
    "start_time": "2021-09-10T16:22:39.004Z"
   },
   {
    "duration": -103,
    "start_time": "2021-09-10T16:22:39.006Z"
   },
   {
    "duration": -104,
    "start_time": "2021-09-10T16:22:39.008Z"
   },
   {
    "duration": -105,
    "start_time": "2021-09-10T16:22:39.010Z"
   },
   {
    "duration": 1404,
    "start_time": "2021-09-10T16:23:09.948Z"
   },
   {
    "duration": 10,
    "start_time": "2021-09-10T16:23:11.354Z"
   },
   {
    "duration": 16,
    "start_time": "2021-09-10T16:23:11.366Z"
   },
   {
    "duration": 7,
    "start_time": "2021-09-10T16:23:11.384Z"
   },
   {
    "duration": 13,
    "start_time": "2021-09-10T16:23:11.393Z"
   },
   {
    "duration": 14,
    "start_time": "2021-09-10T16:23:11.408Z"
   },
   {
    "duration": 6,
    "start_time": "2021-09-10T16:23:11.424Z"
   },
   {
    "duration": 58,
    "start_time": "2021-09-10T16:23:11.431Z"
   },
   {
    "duration": 17,
    "start_time": "2021-09-10T16:23:11.491Z"
   },
   {
    "duration": 18,
    "start_time": "2021-09-10T16:23:11.509Z"
   },
   {
    "duration": 9,
    "start_time": "2021-09-10T16:23:11.528Z"
   },
   {
    "duration": 54,
    "start_time": "2021-09-10T16:23:11.538Z"
   },
   {
    "duration": 19,
    "start_time": "2021-09-10T16:23:11.594Z"
   },
   {
    "duration": 20,
    "start_time": "2021-09-10T16:23:11.614Z"
   },
   {
    "duration": 7,
    "start_time": "2021-09-10T16:23:11.636Z"
   },
   {
    "duration": 38,
    "start_time": "2021-09-10T16:23:11.645Z"
   },
   {
    "duration": 4688,
    "start_time": "2021-09-10T16:23:11.685Z"
   },
   {
    "duration": 4521,
    "start_time": "2021-09-10T16:24:21.621Z"
   },
   {
    "duration": 345,
    "start_time": "2021-09-10T16:24:35.135Z"
   },
   {
    "duration": 334,
    "start_time": "2021-09-10T16:24:50.525Z"
   },
   {
    "duration": 141,
    "start_time": "2021-09-10T16:24:57.606Z"
   },
   {
    "duration": 3064,
    "start_time": "2021-09-10T16:25:04.774Z"
   },
   {
    "duration": 375,
    "start_time": "2021-09-10T16:25:32.938Z"
   },
   {
    "duration": 29966,
    "start_time": "2021-09-10T16:26:18.391Z"
   },
   {
    "duration": 19,
    "start_time": "2021-09-10T16:27:11.047Z"
   },
   {
    "duration": 29765,
    "start_time": "2021-09-10T16:30:49.670Z"
   },
   {
    "duration": 17,
    "start_time": "2021-09-10T16:31:40.235Z"
   },
   {
    "duration": 6656,
    "start_time": "2021-09-10T16:33:59.886Z"
   },
   {
    "duration": 7654,
    "start_time": "2021-09-10T16:34:39.073Z"
   },
   {
    "duration": 649,
    "start_time": "2021-09-10T16:35:12.714Z"
   },
   {
    "duration": 446,
    "start_time": "2021-09-10T16:37:06.148Z"
   },
   {
    "duration": 356,
    "start_time": "2021-09-10T16:37:34.625Z"
   },
   {
    "duration": 26460,
    "start_time": "2021-09-10T16:38:46.595Z"
   },
   {
    "duration": 17,
    "start_time": "2021-09-10T16:39:15.713Z"
   },
   {
    "duration": 68,
    "start_time": "2021-09-10T16:39:55.447Z"
   },
   {
    "duration": 14,
    "start_time": "2021-09-10T16:39:55.517Z"
   },
   {
    "duration": 9,
    "start_time": "2021-09-10T16:39:55.533Z"
   },
   {
    "duration": 34,
    "start_time": "2021-09-10T16:39:55.544Z"
   },
   {
    "duration": 19,
    "start_time": "2021-09-10T16:39:55.580Z"
   },
   {
    "duration": 17,
    "start_time": "2021-09-10T16:39:55.601Z"
   },
   {
    "duration": 7,
    "start_time": "2021-09-10T16:39:55.620Z"
   },
   {
    "duration": 48,
    "start_time": "2021-09-10T16:39:55.630Z"
   },
   {
    "duration": 21,
    "start_time": "2021-09-10T16:39:55.680Z"
   },
   {
    "duration": 21,
    "start_time": "2021-09-10T16:39:55.703Z"
   },
   {
    "duration": 10,
    "start_time": "2021-09-10T16:39:55.726Z"
   },
   {
    "duration": 53,
    "start_time": "2021-09-10T16:39:55.738Z"
   },
   {
    "duration": 26,
    "start_time": "2021-09-10T16:39:55.793Z"
   },
   {
    "duration": 27,
    "start_time": "2021-09-10T16:39:55.821Z"
   },
   {
    "duration": 28,
    "start_time": "2021-09-10T16:39:55.850Z"
   },
   {
    "duration": 17,
    "start_time": "2021-09-10T16:39:55.880Z"
   },
   {
    "duration": 29377,
    "start_time": "2021-09-10T16:39:55.899Z"
   },
   {
    "duration": 17,
    "start_time": "2021-09-10T16:40:25.278Z"
   },
   {
    "duration": 22,
    "start_time": "2021-09-10T16:58:47.140Z"
   },
   {
    "duration": 42,
    "start_time": "2021-09-10T17:01:53.719Z"
   },
   {
    "duration": 71,
    "start_time": "2021-09-10T17:19:25.855Z"
   },
   {
    "duration": 642,
    "start_time": "2021-09-10T17:24:42.758Z"
   },
   {
    "duration": 854,
    "start_time": "2021-09-10T17:24:48.500Z"
   },
   {
    "duration": 381,
    "start_time": "2021-09-10T17:31:28.157Z"
   },
   {
    "duration": 12769,
    "start_time": "2021-09-10T17:35:17.570Z"
   },
   {
    "duration": 574,
    "start_time": "2021-09-10T17:40:10.030Z"
   },
   {
    "duration": 9045,
    "start_time": "2021-09-10T17:40:53.251Z"
   },
   {
    "duration": 699,
    "start_time": "2021-09-10T17:41:12.390Z"
   },
   {
    "duration": 650,
    "start_time": "2021-09-10T17:41:20.467Z"
   },
   {
    "duration": 598,
    "start_time": "2021-09-10T17:41:35.567Z"
   },
   {
    "duration": 663,
    "start_time": "2021-09-10T17:42:35.593Z"
   },
   {
    "duration": 4145,
    "start_time": "2021-09-10T17:42:56.108Z"
   },
   {
    "duration": 4312,
    "start_time": "2021-09-10T17:43:05.766Z"
   },
   {
    "duration": 4792,
    "start_time": "2021-09-10T17:43:56.040Z"
   },
   {
    "duration": 4046,
    "start_time": "2021-09-10T17:45:52.075Z"
   },
   {
    "duration": 662,
    "start_time": "2021-09-10T17:58:39.569Z"
   },
   {
    "duration": 106,
    "start_time": "2021-09-10T17:59:13.376Z"
   },
   {
    "duration": 132,
    "start_time": "2021-09-10T17:59:22.120Z"
   },
   {
    "duration": 581,
    "start_time": "2021-09-10T17:59:30.474Z"
   },
   {
    "duration": 117,
    "start_time": "2021-09-10T18:00:06.149Z"
   },
   {
    "duration": 585,
    "start_time": "2021-09-10T18:00:14.530Z"
   },
   {
    "duration": 126,
    "start_time": "2021-09-10T18:00:36.957Z"
   },
   {
    "duration": 8483,
    "start_time": "2021-09-10T18:00:54.348Z"
   },
   {
    "duration": 4,
    "start_time": "2021-09-10T18:01:28.013Z"
   },
   {
    "duration": 5,
    "start_time": "2021-09-10T18:01:51.143Z"
   },
   {
    "duration": 5,
    "start_time": "2021-09-10T18:02:13.058Z"
   },
   {
    "duration": 5,
    "start_time": "2021-09-10T18:02:33.069Z"
   },
   {
    "duration": 5,
    "start_time": "2021-09-10T18:02:37.066Z"
   },
   {
    "duration": 5,
    "start_time": "2021-09-10T18:02:45.431Z"
   },
   {
    "duration": 5,
    "start_time": "2021-09-10T18:02:52.384Z"
   },
   {
    "duration": 6,
    "start_time": "2021-09-10T18:03:03.372Z"
   },
   {
    "duration": 6,
    "start_time": "2021-09-10T18:03:06.760Z"
   },
   {
    "duration": 6,
    "start_time": "2021-09-10T18:03:10.231Z"
   },
   {
    "duration": 5,
    "start_time": "2021-09-10T18:03:14.962Z"
   },
   {
    "duration": 118,
    "start_time": "2021-09-10T18:05:51.952Z"
   },
   {
    "duration": 560,
    "start_time": "2021-09-10T18:05:58.288Z"
   },
   {
    "duration": 6,
    "start_time": "2021-09-10T18:06:15.770Z"
   },
   {
    "duration": 137,
    "start_time": "2021-09-10T18:06:44.778Z"
   },
   {
    "duration": 6,
    "start_time": "2021-09-10T18:07:04.543Z"
   },
   {
    "duration": 6,
    "start_time": "2021-09-10T18:07:55.133Z"
   },
   {
    "duration": 6,
    "start_time": "2021-09-10T18:08:01.142Z"
   },
   {
    "duration": 6,
    "start_time": "2021-09-10T18:08:16.377Z"
   },
   {
    "duration": 19,
    "start_time": "2021-09-10T18:09:05.428Z"
   },
   {
    "duration": 6,
    "start_time": "2021-09-10T18:09:24.837Z"
   },
   {
    "duration": 6,
    "start_time": "2021-09-10T18:09:30.378Z"
   },
   {
    "duration": 317,
    "start_time": "2021-09-10T18:11:39.890Z"
   },
   {
    "duration": 355,
    "start_time": "2021-09-10T18:11:48.026Z"
   },
   {
    "duration": 329,
    "start_time": "2021-09-10T18:12:47.587Z"
   },
   {
    "duration": 326,
    "start_time": "2021-09-10T18:14:06.314Z"
   },
   {
    "duration": 705,
    "start_time": "2021-09-10T18:15:50.340Z"
   },
   {
    "duration": 9,
    "start_time": "2021-09-10T18:15:51.046Z"
   },
   {
    "duration": 17,
    "start_time": "2021-09-10T18:15:51.057Z"
   },
   {
    "duration": 11,
    "start_time": "2021-09-10T18:15:51.076Z"
   },
   {
    "duration": 29,
    "start_time": "2021-09-10T18:15:51.089Z"
   },
   {
    "duration": 15,
    "start_time": "2021-09-10T18:15:51.120Z"
   },
   {
    "duration": 6,
    "start_time": "2021-09-10T18:15:51.136Z"
   },
   {
    "duration": 14,
    "start_time": "2021-09-10T18:15:51.144Z"
   },
   {
    "duration": 19,
    "start_time": "2021-09-10T18:15:51.159Z"
   },
   {
    "duration": 14,
    "start_time": "2021-09-10T18:15:51.180Z"
   },
   {
    "duration": 17,
    "start_time": "2021-09-10T18:15:51.196Z"
   },
   {
    "duration": 26,
    "start_time": "2021-09-10T18:15:51.214Z"
   },
   {
    "duration": 34,
    "start_time": "2021-09-10T18:15:51.241Z"
   },
   {
    "duration": 11,
    "start_time": "2021-09-10T18:15:51.277Z"
   },
   {
    "duration": 36,
    "start_time": "2021-09-10T18:15:51.289Z"
   },
   {
    "duration": 32,
    "start_time": "2021-09-10T18:15:51.327Z"
   },
   {
    "duration": 50,
    "start_time": "2021-09-10T18:15:51.361Z"
   },
   {
    "duration": 4437,
    "start_time": "2021-09-10T18:15:51.413Z"
   },
   {
    "duration": 342,
    "start_time": "2021-09-10T18:15:55.852Z"
   },
   {
    "duration": 8673,
    "start_time": "2021-09-10T18:24:56.505Z"
   },
   {
    "duration": 5,
    "start_time": "2021-09-10T18:25:14.254Z"
   },
   {
    "duration": 8487,
    "start_time": "2021-09-10T18:25:35.931Z"
   },
   {
    "duration": 65,
    "start_time": "2021-09-10T18:25:55.980Z"
   },
   {
    "duration": 9,
    "start_time": "2021-09-10T18:25:56.047Z"
   },
   {
    "duration": 25,
    "start_time": "2021-09-10T18:25:56.058Z"
   },
   {
    "duration": 9,
    "start_time": "2021-09-10T18:25:56.084Z"
   },
   {
    "duration": 13,
    "start_time": "2021-09-10T18:25:56.094Z"
   },
   {
    "duration": 13,
    "start_time": "2021-09-10T18:25:56.109Z"
   },
   {
    "duration": 6,
    "start_time": "2021-09-10T18:25:56.123Z"
   },
   {
    "duration": 55,
    "start_time": "2021-09-10T18:25:56.132Z"
   },
   {
    "duration": 15,
    "start_time": "2021-09-10T18:25:56.189Z"
   },
   {
    "duration": 15,
    "start_time": "2021-09-10T18:25:56.205Z"
   },
   {
    "duration": 7,
    "start_time": "2021-09-10T18:25:56.221Z"
   },
   {
    "duration": 18,
    "start_time": "2021-09-10T18:25:56.230Z"
   },
   {
    "duration": 41,
    "start_time": "2021-09-10T18:25:56.250Z"
   },
   {
    "duration": 7,
    "start_time": "2021-09-10T18:25:56.293Z"
   },
   {
    "duration": 17,
    "start_time": "2021-09-10T18:25:56.301Z"
   },
   {
    "duration": 7,
    "start_time": "2021-09-10T18:25:56.320Z"
   },
   {
    "duration": 65,
    "start_time": "2021-09-10T18:25:56.329Z"
   },
   {
    "duration": 4226,
    "start_time": "2021-09-10T18:25:56.395Z"
   },
   {
    "duration": 339,
    "start_time": "2021-09-10T18:26:00.623Z"
   },
   {
    "duration": 22,
    "start_time": "2021-09-10T18:26:00.963Z"
   },
   {
    "duration": -111,
    "start_time": "2021-09-10T18:26:45.722Z"
   },
   {
    "duration": 17,
    "start_time": "2021-09-10T18:27:01.156Z"
   },
   {
    "duration": 72,
    "start_time": "2021-09-10T18:29:58.612Z"
   },
   {
    "duration": 12,
    "start_time": "2021-09-10T18:29:58.686Z"
   },
   {
    "duration": 7,
    "start_time": "2021-09-10T18:29:58.700Z"
   },
   {
    "duration": 6,
    "start_time": "2021-09-10T18:29:58.709Z"
   },
   {
    "duration": 16,
    "start_time": "2021-09-10T18:29:58.716Z"
   },
   {
    "duration": 15,
    "start_time": "2021-09-10T18:29:58.733Z"
   },
   {
    "duration": 13,
    "start_time": "2021-09-10T18:29:58.777Z"
   },
   {
    "duration": 6,
    "start_time": "2021-09-10T18:29:58.792Z"
   },
   {
    "duration": 14,
    "start_time": "2021-09-10T18:29:58.800Z"
   },
   {
    "duration": 15,
    "start_time": "2021-09-10T18:29:58.816Z"
   },
   {
    "duration": 45,
    "start_time": "2021-09-10T18:29:58.833Z"
   },
   {
    "duration": 7,
    "start_time": "2021-09-10T18:29:58.879Z"
   },
   {
    "duration": 26,
    "start_time": "2021-09-10T18:29:58.887Z"
   },
   {
    "duration": 17,
    "start_time": "2021-09-10T18:29:58.915Z"
   },
   {
    "duration": 7,
    "start_time": "2021-09-10T18:29:58.934Z"
   },
   {
    "duration": 43,
    "start_time": "2021-09-10T18:29:58.943Z"
   },
   {
    "duration": 9,
    "start_time": "2021-09-10T18:29:58.988Z"
   },
   {
    "duration": 35,
    "start_time": "2021-09-10T18:29:58.999Z"
   },
   {
    "duration": 4513,
    "start_time": "2021-09-10T18:29:59.036Z"
   },
   {
    "duration": 331,
    "start_time": "2021-09-10T18:30:03.550Z"
   },
   {
    "duration": 9,
    "start_time": "2021-09-10T18:30:03.883Z"
   },
   {
    "duration": 21,
    "start_time": "2021-09-10T18:30:03.893Z"
   },
   {
    "duration": 15,
    "start_time": "2021-09-10T18:30:26.668Z"
   },
   {
    "duration": 719,
    "start_time": "2021-09-10T18:30:40.440Z"
   },
   {
    "duration": 10,
    "start_time": "2021-09-10T18:30:41.160Z"
   },
   {
    "duration": 9,
    "start_time": "2021-09-10T18:30:41.172Z"
   },
   {
    "duration": 15,
    "start_time": "2021-09-10T18:30:41.184Z"
   },
   {
    "duration": 14,
    "start_time": "2021-09-10T18:30:41.201Z"
   },
   {
    "duration": 15,
    "start_time": "2021-09-10T18:30:41.217Z"
   },
   {
    "duration": 12,
    "start_time": "2021-09-10T18:30:41.233Z"
   },
   {
    "duration": 34,
    "start_time": "2021-09-10T18:30:41.247Z"
   },
   {
    "duration": 14,
    "start_time": "2021-09-10T18:30:41.284Z"
   },
   {
    "duration": 18,
    "start_time": "2021-09-10T18:30:41.300Z"
   },
   {
    "duration": 15,
    "start_time": "2021-09-10T18:30:41.320Z"
   },
   {
    "duration": 7,
    "start_time": "2021-09-10T18:30:41.336Z"
   },
   {
    "duration": 45,
    "start_time": "2021-09-10T18:30:41.345Z"
   },
   {
    "duration": 17,
    "start_time": "2021-09-10T18:30:41.392Z"
   },
   {
    "duration": 7,
    "start_time": "2021-09-10T18:30:41.410Z"
   },
   {
    "duration": 21,
    "start_time": "2021-09-10T18:30:41.418Z"
   },
   {
    "duration": 36,
    "start_time": "2021-09-10T18:30:41.440Z"
   },
   {
    "duration": 35,
    "start_time": "2021-09-10T18:30:41.478Z"
   },
   {
    "duration": 4438,
    "start_time": "2021-09-10T18:30:41.514Z"
   },
   {
    "duration": 348,
    "start_time": "2021-09-10T18:30:45.953Z"
   },
   {
    "duration": 8,
    "start_time": "2021-09-10T18:30:46.303Z"
   },
   {
    "duration": 20,
    "start_time": "2021-09-10T18:30:46.313Z"
   },
   {
    "duration": 113,
    "start_time": "2021-09-10T18:34:13.955Z"
   },
   {
    "duration": 196,
    "start_time": "2021-09-10T18:35:22.958Z"
   },
   {
    "duration": 7,
    "start_time": "2021-09-10T18:36:13.235Z"
   },
   {
    "duration": 18,
    "start_time": "2021-09-10T18:36:47.852Z"
   },
   {
    "duration": 67,
    "start_time": "2021-09-10T18:41:28.705Z"
   },
   {
    "duration": 9,
    "start_time": "2021-09-10T18:41:28.773Z"
   },
   {
    "duration": 8,
    "start_time": "2021-09-10T18:41:28.784Z"
   },
   {
    "duration": 5,
    "start_time": "2021-09-10T18:41:28.794Z"
   },
   {
    "duration": 15,
    "start_time": "2021-09-10T18:41:28.801Z"
   },
   {
    "duration": 12,
    "start_time": "2021-09-10T18:41:28.818Z"
   },
   {
    "duration": 6,
    "start_time": "2021-09-10T18:41:28.831Z"
   },
   {
    "duration": 48,
    "start_time": "2021-09-10T18:41:28.840Z"
   },
   {
    "duration": 16,
    "start_time": "2021-09-10T18:41:28.890Z"
   },
   {
    "duration": 16,
    "start_time": "2021-09-10T18:41:28.907Z"
   },
   {
    "duration": 7,
    "start_time": "2021-09-10T18:41:28.924Z"
   },
   {
    "duration": 28,
    "start_time": "2021-09-10T18:41:28.932Z"
   },
   {
    "duration": 17,
    "start_time": "2021-09-10T18:41:28.977Z"
   },
   {
    "duration": 6,
    "start_time": "2021-09-10T18:41:28.996Z"
   },
   {
    "duration": 27,
    "start_time": "2021-09-10T18:41:29.004Z"
   },
   {
    "duration": 15,
    "start_time": "2021-09-10T18:41:29.033Z"
   },
   {
    "duration": 46,
    "start_time": "2021-09-10T18:41:29.049Z"
   },
   {
    "duration": 4125,
    "start_time": "2021-09-10T18:41:29.096Z"
   },
   {
    "duration": 326,
    "start_time": "2021-09-10T18:41:33.223Z"
   },
   {
    "duration": 26,
    "start_time": "2021-09-10T18:41:33.551Z"
   },
   {
    "duration": 16,
    "start_time": "2021-09-10T18:41:33.579Z"
   },
   {
    "duration": 11,
    "start_time": "2021-09-10T18:42:46.190Z"
   },
   {
    "duration": 412,
    "start_time": "2021-09-10T18:44:46.295Z"
   },
   {
    "duration": 67,
    "start_time": "2021-09-10T18:44:49.884Z"
   },
   {
    "duration": 10,
    "start_time": "2021-09-10T18:44:49.953Z"
   },
   {
    "duration": 17,
    "start_time": "2021-09-10T18:44:49.965Z"
   },
   {
    "duration": 6,
    "start_time": "2021-09-10T18:44:49.985Z"
   },
   {
    "duration": 14,
    "start_time": "2021-09-10T18:44:49.992Z"
   },
   {
    "duration": 14,
    "start_time": "2021-09-10T18:44:50.008Z"
   },
   {
    "duration": 7,
    "start_time": "2021-09-10T18:44:50.024Z"
   },
   {
    "duration": 57,
    "start_time": "2021-09-10T18:44:50.033Z"
   },
   {
    "duration": 15,
    "start_time": "2021-09-10T18:44:50.092Z"
   },
   {
    "duration": 16,
    "start_time": "2021-09-10T18:44:50.109Z"
   },
   {
    "duration": 8,
    "start_time": "2021-09-10T18:44:50.126Z"
   },
   {
    "duration": 48,
    "start_time": "2021-09-10T18:44:50.135Z"
   },
   {
    "duration": 18,
    "start_time": "2021-09-10T18:44:50.184Z"
   },
   {
    "duration": 8,
    "start_time": "2021-09-10T18:44:50.203Z"
   },
   {
    "duration": 20,
    "start_time": "2021-09-10T18:44:50.212Z"
   },
   {
    "duration": 12,
    "start_time": "2021-09-10T18:44:50.234Z"
   },
   {
    "duration": 77,
    "start_time": "2021-09-10T18:44:50.248Z"
   },
   {
    "duration": 4690,
    "start_time": "2021-09-10T18:44:50.327Z"
   },
   {
    "duration": 333,
    "start_time": "2021-09-10T18:44:55.019Z"
   },
   {
    "duration": 28,
    "start_time": "2021-09-10T18:44:55.353Z"
   },
   {
    "duration": 15,
    "start_time": "2021-09-10T18:44:55.383Z"
   },
   {
    "duration": 11,
    "start_time": "2021-09-10T18:44:55.400Z"
   },
   {
    "duration": 77,
    "start_time": "2021-09-10T18:47:58.013Z"
   },
   {
    "duration": 11,
    "start_time": "2021-09-10T18:47:58.092Z"
   },
   {
    "duration": 7,
    "start_time": "2021-09-10T18:47:58.106Z"
   },
   {
    "duration": 5,
    "start_time": "2021-09-10T18:47:58.115Z"
   },
   {
    "duration": 14,
    "start_time": "2021-09-10T18:47:58.122Z"
   },
   {
    "duration": 38,
    "start_time": "2021-09-10T18:47:58.138Z"
   },
   {
    "duration": 8,
    "start_time": "2021-09-10T18:47:58.179Z"
   },
   {
    "duration": 15,
    "start_time": "2021-09-10T18:47:58.190Z"
   },
   {
    "duration": 16,
    "start_time": "2021-09-10T18:47:58.209Z"
   },
   {
    "duration": 50,
    "start_time": "2021-09-10T18:47:58.228Z"
   },
   {
    "duration": 8,
    "start_time": "2021-09-10T18:47:58.280Z"
   },
   {
    "duration": 20,
    "start_time": "2021-09-10T18:47:58.290Z"
   },
   {
    "duration": 19,
    "start_time": "2021-09-10T18:47:58.312Z"
   },
   {
    "duration": 6,
    "start_time": "2021-09-10T18:47:58.333Z"
   },
   {
    "duration": 47,
    "start_time": "2021-09-10T18:47:58.341Z"
   },
   {
    "duration": 8,
    "start_time": "2021-09-10T18:47:58.390Z"
   },
   {
    "duration": 34,
    "start_time": "2021-09-10T18:47:58.400Z"
   },
   {
    "duration": 4729,
    "start_time": "2021-09-10T18:47:58.435Z"
   },
   {
    "duration": 346,
    "start_time": "2021-09-10T18:48:03.178Z"
   },
   {
    "duration": 17,
    "start_time": "2021-09-10T18:48:03.525Z"
   },
   {
    "duration": 1265,
    "start_time": "2021-09-10T18:48:03.543Z"
   },
   {
    "duration": -106,
    "start_time": "2021-09-10T18:48:04.916Z"
   },
   {
    "duration": 14,
    "start_time": "2021-09-10T18:48:27.815Z"
   },
   {
    "duration": 13,
    "start_time": "2021-09-10T18:48:32.231Z"
   },
   {
    "duration": 11,
    "start_time": "2021-09-10T18:48:46.032Z"
   },
   {
    "duration": 345,
    "start_time": "2021-09-10T18:49:41.397Z"
   },
   {
    "duration": 334,
    "start_time": "2021-09-10T18:49:49.068Z"
   },
   {
    "duration": 16,
    "start_time": "2021-09-10T18:50:18.359Z"
   },
   {
    "duration": 33,
    "start_time": "2021-09-10T18:51:11.352Z"
   },
   {
    "duration": 36,
    "start_time": "2021-09-10T18:51:22.962Z"
   },
   {
    "duration": 28,
    "start_time": "2021-09-10T18:51:41.490Z"
   },
   {
    "duration": 717,
    "start_time": "2021-09-10T18:53:07.459Z"
   },
   {
    "duration": 647,
    "start_time": "2021-09-10T18:53:23.218Z"
   },
   {
    "duration": 10,
    "start_time": "2021-09-10T18:53:23.868Z"
   },
   {
    "duration": 9,
    "start_time": "2021-09-10T18:53:23.881Z"
   },
   {
    "duration": 6,
    "start_time": "2021-09-10T18:53:23.892Z"
   },
   {
    "duration": 14,
    "start_time": "2021-09-10T18:53:23.900Z"
   },
   {
    "duration": 13,
    "start_time": "2021-09-10T18:53:23.915Z"
   },
   {
    "duration": 7,
    "start_time": "2021-09-10T18:53:23.930Z"
   },
   {
    "duration": 15,
    "start_time": "2021-09-10T18:53:23.976Z"
   },
   {
    "duration": 15,
    "start_time": "2021-09-10T18:53:23.995Z"
   },
   {
    "duration": 16,
    "start_time": "2021-09-10T18:53:24.012Z"
   },
   {
    "duration": 8,
    "start_time": "2021-09-10T18:53:24.029Z"
   },
   {
    "duration": 52,
    "start_time": "2021-09-10T18:53:24.039Z"
   },
   {
    "duration": 18,
    "start_time": "2021-09-10T18:53:24.093Z"
   },
   {
    "duration": 8,
    "start_time": "2021-09-10T18:53:24.113Z"
   },
   {
    "duration": 18,
    "start_time": "2021-09-10T18:53:24.123Z"
   },
   {
    "duration": 35,
    "start_time": "2021-09-10T18:53:24.143Z"
   },
   {
    "duration": 34,
    "start_time": "2021-09-10T18:53:24.180Z"
   },
   {
    "duration": 4269,
    "start_time": "2021-09-10T18:53:24.216Z"
   },
   {
    "duration": 346,
    "start_time": "2021-09-10T18:53:28.487Z"
   },
   {
    "duration": 17,
    "start_time": "2021-09-10T18:53:28.835Z"
   },
   {
    "duration": 43,
    "start_time": "2021-09-10T18:53:28.854Z"
   },
   {
    "duration": 733,
    "start_time": "2021-09-10T18:54:01.090Z"
   },
   {
    "duration": 69,
    "start_time": "2021-09-10T18:54:05.557Z"
   },
   {
    "duration": 9,
    "start_time": "2021-09-10T18:54:05.628Z"
   },
   {
    "duration": 7,
    "start_time": "2021-09-10T18:54:05.639Z"
   },
   {
    "duration": 32,
    "start_time": "2021-09-10T18:54:05.648Z"
   },
   {
    "duration": 14,
    "start_time": "2021-09-10T18:54:05.682Z"
   },
   {
    "duration": 12,
    "start_time": "2021-09-10T18:54:05.698Z"
   },
   {
    "duration": 6,
    "start_time": "2021-09-10T18:54:05.712Z"
   },
   {
    "duration": 14,
    "start_time": "2021-09-10T18:54:05.721Z"
   },
   {
    "duration": 47,
    "start_time": "2021-09-10T18:54:05.737Z"
   },
   {
    "duration": 16,
    "start_time": "2021-09-10T18:54:05.786Z"
   },
   {
    "duration": 7,
    "start_time": "2021-09-10T18:54:05.804Z"
   },
   {
    "duration": 18,
    "start_time": "2021-09-10T18:54:05.812Z"
   },
   {
    "duration": 45,
    "start_time": "2021-09-10T18:54:05.831Z"
   },
   {
    "duration": 7,
    "start_time": "2021-09-10T18:54:05.878Z"
   },
   {
    "duration": 19,
    "start_time": "2021-09-10T18:54:05.886Z"
   },
   {
    "duration": 11,
    "start_time": "2021-09-10T18:54:05.907Z"
   },
   {
    "duration": 37,
    "start_time": "2021-09-10T18:54:05.919Z"
   },
   {
    "duration": 731,
    "start_time": "2021-09-10T18:54:18.549Z"
   },
   {
    "duration": 9,
    "start_time": "2021-09-10T18:54:19.282Z"
   },
   {
    "duration": 7,
    "start_time": "2021-09-10T18:54:19.293Z"
   },
   {
    "duration": 5,
    "start_time": "2021-09-10T18:54:19.302Z"
   },
   {
    "duration": 13,
    "start_time": "2021-09-10T18:54:19.309Z"
   },
   {
    "duration": 12,
    "start_time": "2021-09-10T18:54:19.323Z"
   },
   {
    "duration": 6,
    "start_time": "2021-09-10T18:54:19.337Z"
   },
   {
    "duration": 46,
    "start_time": "2021-09-10T18:54:19.344Z"
   },
   {
    "duration": 16,
    "start_time": "2021-09-10T18:54:19.392Z"
   },
   {
    "duration": 15,
    "start_time": "2021-09-10T18:54:19.409Z"
   },
   {
    "duration": 7,
    "start_time": "2021-09-10T18:54:19.426Z"
   },
   {
    "duration": 47,
    "start_time": "2021-09-10T18:54:19.434Z"
   },
   {
    "duration": 19,
    "start_time": "2021-09-10T18:54:19.482Z"
   },
   {
    "duration": 7,
    "start_time": "2021-09-10T18:54:19.502Z"
   },
   {
    "duration": 18,
    "start_time": "2021-09-10T18:54:19.511Z"
   },
   {
    "duration": 8,
    "start_time": "2021-09-10T18:54:19.530Z"
   },
   {
    "duration": 66,
    "start_time": "2021-09-10T18:54:19.540Z"
   },
   {
    "duration": 4360,
    "start_time": "2021-09-10T18:54:19.608Z"
   },
   {
    "duration": 602,
    "start_time": "2021-09-10T18:54:23.970Z"
   },
   {
    "duration": 23,
    "start_time": "2021-09-10T18:54:24.577Z"
   },
   {
    "duration": 44,
    "start_time": "2021-09-10T18:54:24.602Z"
   },
   {
    "duration": 99,
    "start_time": "2021-09-11T08:57:39.411Z"
   },
   {
    "duration": 309,
    "start_time": "2021-09-11T08:58:03.118Z"
   },
   {
    "duration": 834,
    "start_time": "2021-09-11T08:58:26.857Z"
   },
   {
    "duration": 13,
    "start_time": "2021-09-11T08:58:27.694Z"
   },
   {
    "duration": 12,
    "start_time": "2021-09-11T08:58:27.710Z"
   },
   {
    "duration": 8,
    "start_time": "2021-09-11T08:58:27.725Z"
   },
   {
    "duration": 55,
    "start_time": "2021-09-11T08:58:27.735Z"
   },
   {
    "duration": 17,
    "start_time": "2021-09-11T08:58:27.792Z"
   },
   {
    "duration": 9,
    "start_time": "2021-09-11T08:58:27.812Z"
   },
   {
    "duration": 60,
    "start_time": "2021-09-11T08:58:27.824Z"
   },
   {
    "duration": 24,
    "start_time": "2021-09-11T08:58:27.888Z"
   },
   {
    "duration": 20,
    "start_time": "2021-09-11T08:58:27.915Z"
   },
   {
    "duration": 10,
    "start_time": "2021-09-11T08:58:27.938Z"
   },
   {
    "duration": 23,
    "start_time": "2021-09-11T08:58:27.982Z"
   },
   {
    "duration": 25,
    "start_time": "2021-09-11T08:58:28.007Z"
   },
   {
    "duration": 8,
    "start_time": "2021-09-11T08:58:28.035Z"
   },
   {
    "duration": 51,
    "start_time": "2021-09-11T08:58:28.045Z"
   },
   {
    "duration": 9,
    "start_time": "2021-09-11T08:58:28.099Z"
   },
   {
    "duration": 72,
    "start_time": "2021-09-11T08:58:28.110Z"
   },
   {
    "duration": 5143,
    "start_time": "2021-09-11T08:58:28.184Z"
   },
   {
    "duration": 533,
    "start_time": "2021-09-11T08:58:33.330Z"
   },
   {
    "duration": 32,
    "start_time": "2021-09-11T08:58:33.865Z"
   },
   {
    "duration": 41,
    "start_time": "2021-09-11T08:58:33.900Z"
   },
   {
    "duration": 17,
    "start_time": "2021-09-11T09:06:31.149Z"
   },
   {
    "duration": 345,
    "start_time": "2021-09-11T09:11:56.277Z"
   },
   {
    "duration": 289,
    "start_time": "2021-09-11T09:12:28.214Z"
   },
   {
    "duration": 290,
    "start_time": "2021-09-11T09:12:55.914Z"
   },
   {
    "duration": 21,
    "start_time": "2021-09-11T09:13:22.074Z"
   },
   {
    "duration": 32,
    "start_time": "2021-09-11T09:13:27.569Z"
   },
   {
    "duration": 33,
    "start_time": "2021-09-11T09:14:43.319Z"
   },
   {
    "duration": 28,
    "start_time": "2021-09-11T09:16:06.887Z"
   },
   {
    "duration": 32,
    "start_time": "2021-09-11T09:16:52.395Z"
   },
   {
    "duration": 10,
    "start_time": "2021-09-11T09:17:08.577Z"
   },
   {
    "duration": 10,
    "start_time": "2021-09-11T09:17:13.216Z"
   },
   {
    "duration": 11,
    "start_time": "2021-09-11T09:17:18.806Z"
   },
   {
    "duration": 8,
    "start_time": "2021-09-11T09:17:31.153Z"
   },
   {
    "duration": 8,
    "start_time": "2021-09-11T09:17:38.570Z"
   },
   {
    "duration": 7,
    "start_time": "2021-09-11T09:17:43.233Z"
   },
   {
    "duration": 7973,
    "start_time": "2021-09-11T10:17:45.322Z"
   },
   {
    "duration": 8090,
    "start_time": "2021-09-11T10:18:00.275Z"
   },
   {
    "duration": 8147,
    "start_time": "2021-09-11T10:18:13.225Z"
   },
   {
    "duration": 9355,
    "start_time": "2021-09-11T10:18:24.258Z"
   },
   {
    "duration": 26,
    "start_time": "2021-09-11T10:18:34.524Z"
   },
   {
    "duration": 74,
    "start_time": "2021-09-11T10:18:50.455Z"
   },
   {
    "duration": 8064,
    "start_time": "2021-09-11T10:18:55.843Z"
   },
   {
    "duration": -271,
    "start_time": "2021-09-11T10:19:18.862Z"
   },
   {
    "duration": 6671,
    "start_time": "2021-09-11T10:19:20.042Z"
   },
   {
    "duration": 32,
    "start_time": "2021-09-11T10:19:52.649Z"
   },
   {
    "duration": 263,
    "start_time": "2021-09-11T10:20:20.069Z"
   },
   {
    "duration": 285,
    "start_time": "2021-09-11T10:20:31.960Z"
   },
   {
    "duration": 22,
    "start_time": "2021-09-11T10:21:00.455Z"
   },
   {
    "duration": 28,
    "start_time": "2021-09-11T10:21:09.468Z"
   },
   {
    "duration": 23,
    "start_time": "2021-09-11T10:21:33.436Z"
   },
   {
    "duration": 23,
    "start_time": "2021-09-11T10:22:52.435Z"
   },
   {
    "duration": 23,
    "start_time": "2021-09-11T10:22:59.871Z"
   },
   {
    "duration": 22,
    "start_time": "2021-09-11T10:23:16.528Z"
   },
   {
    "duration": 27,
    "start_time": "2021-09-11T10:23:27.405Z"
   },
   {
    "duration": 29,
    "start_time": "2021-09-11T10:29:37.837Z"
   },
   {
    "duration": 261,
    "start_time": "2021-09-11T10:29:38.666Z"
   },
   {
    "duration": 18,
    "start_time": "2021-09-11T10:29:53.403Z"
   },
   {
    "duration": 1859,
    "start_time": "2021-09-11T10:31:05.149Z"
   },
   {
    "duration": 31,
    "start_time": "2021-09-11T10:31:18.646Z"
   },
   {
    "duration": 99,
    "start_time": "2021-09-11T10:44:57.842Z"
   },
   {
    "duration": 22,
    "start_time": "2021-09-11T10:45:13.923Z"
   },
   {
    "duration": 13,
    "start_time": "2021-09-11T10:46:22.252Z"
   },
   {
    "duration": 8,
    "start_time": "2021-09-11T10:47:01.200Z"
   },
   {
    "duration": 6,
    "start_time": "2021-09-11T10:47:35.718Z"
   },
   {
    "duration": 15,
    "start_time": "2021-09-11T10:47:44.547Z"
   },
   {
    "duration": 87,
    "start_time": "2021-09-11T10:48:21.002Z"
   },
   {
    "duration": 11,
    "start_time": "2021-09-11T10:48:21.092Z"
   },
   {
    "duration": 10,
    "start_time": "2021-09-11T10:48:21.107Z"
   },
   {
    "duration": 8,
    "start_time": "2021-09-11T10:48:21.120Z"
   },
   {
    "duration": 58,
    "start_time": "2021-09-11T10:48:21.131Z"
   },
   {
    "duration": 16,
    "start_time": "2021-09-11T10:48:21.191Z"
   },
   {
    "duration": 8,
    "start_time": "2021-09-11T10:48:21.209Z"
   },
   {
    "duration": 20,
    "start_time": "2021-09-11T10:48:21.220Z"
   },
   {
    "duration": 61,
    "start_time": "2021-09-11T10:48:21.243Z"
   },
   {
    "duration": 20,
    "start_time": "2021-09-11T10:48:21.306Z"
   },
   {
    "duration": 9,
    "start_time": "2021-09-11T10:48:21.328Z"
   },
   {
    "duration": 55,
    "start_time": "2021-09-11T10:48:21.339Z"
   },
   {
    "duration": 22,
    "start_time": "2021-09-11T10:48:21.396Z"
   },
   {
    "duration": 9,
    "start_time": "2021-09-11T10:48:21.420Z"
   },
   {
    "duration": 54,
    "start_time": "2021-09-11T10:48:21.431Z"
   },
   {
    "duration": 10,
    "start_time": "2021-09-11T10:48:21.487Z"
   },
   {
    "duration": 46,
    "start_time": "2021-09-11T10:48:21.499Z"
   },
   {
    "duration": 5215,
    "start_time": "2021-09-11T10:48:21.547Z"
   },
   {
    "duration": 529,
    "start_time": "2021-09-11T10:48:26.765Z"
   },
   {
    "duration": 21,
    "start_time": "2021-09-11T10:48:27.296Z"
   },
   {
    "duration": 37,
    "start_time": "2021-09-11T10:48:27.320Z"
   },
   {
    "duration": 37,
    "start_time": "2021-09-11T10:48:27.360Z"
   },
   {
    "duration": 7,
    "start_time": "2021-09-11T10:48:27.402Z"
   },
   {
    "duration": 28,
    "start_time": "2021-09-11T10:48:27.411Z"
   },
   {
    "duration": 44,
    "start_time": "2021-09-11T10:48:27.441Z"
   },
   {
    "duration": 18,
    "start_time": "2021-09-11T10:48:27.488Z"
   },
   {
    "duration": 91,
    "start_time": "2021-09-11T10:52:52.620Z"
   },
   {
    "duration": 78,
    "start_time": "2021-09-11T10:53:06.437Z"
   },
   {
    "duration": 73,
    "start_time": "2021-09-11T10:53:11.935Z"
   },
   {
    "duration": 23,
    "start_time": "2021-09-11T10:53:20.876Z"
   },
   {
    "duration": 91,
    "start_time": "2021-09-11T10:54:11.232Z"
   },
   {
    "duration": 13,
    "start_time": "2021-09-11T10:54:11.325Z"
   },
   {
    "duration": 10,
    "start_time": "2021-09-11T10:54:11.341Z"
   },
   {
    "duration": 34,
    "start_time": "2021-09-11T10:54:11.354Z"
   },
   {
    "duration": 17,
    "start_time": "2021-09-11T10:54:11.390Z"
   },
   {
    "duration": 17,
    "start_time": "2021-09-11T10:54:11.409Z"
   },
   {
    "duration": 8,
    "start_time": "2021-09-11T10:54:11.428Z"
   },
   {
    "duration": 63,
    "start_time": "2021-09-11T10:54:11.440Z"
   },
   {
    "duration": 24,
    "start_time": "2021-09-11T10:54:11.506Z"
   },
   {
    "duration": 49,
    "start_time": "2021-09-11T10:54:11.533Z"
   },
   {
    "duration": 9,
    "start_time": "2021-09-11T10:54:11.585Z"
   },
   {
    "duration": 23,
    "start_time": "2021-09-11T10:54:11.597Z"
   },
   {
    "duration": 22,
    "start_time": "2021-09-11T10:54:11.623Z"
   },
   {
    "duration": 40,
    "start_time": "2021-09-11T10:54:11.647Z"
   },
   {
    "duration": 23,
    "start_time": "2021-09-11T10:54:11.689Z"
   },
   {
    "duration": 10,
    "start_time": "2021-09-11T10:54:11.715Z"
   },
   {
    "duration": 81,
    "start_time": "2021-09-11T10:54:11.727Z"
   },
   {
    "duration": 5392,
    "start_time": "2021-09-11T10:54:11.810Z"
   },
   {
    "duration": 568,
    "start_time": "2021-09-11T10:54:17.205Z"
   },
   {
    "duration": 30,
    "start_time": "2021-09-11T10:54:17.775Z"
   },
   {
    "duration": 43,
    "start_time": "2021-09-11T10:54:17.809Z"
   },
   {
    "duration": 18,
    "start_time": "2021-09-11T10:54:17.883Z"
   },
   {
    "duration": 9,
    "start_time": "2021-09-11T10:54:17.907Z"
   },
   {
    "duration": 69,
    "start_time": "2021-09-11T10:54:17.919Z"
   },
   {
    "duration": 14,
    "start_time": "2021-09-11T10:54:17.991Z"
   },
   {
    "duration": 16,
    "start_time": "2021-09-11T10:54:18.008Z"
   },
   {
    "duration": 26,
    "start_time": "2021-09-11T11:06:20.056Z"
   },
   {
    "duration": 37,
    "start_time": "2021-09-11T11:06:25.260Z"
   },
   {
    "duration": 98,
    "start_time": "2021-09-11T11:07:45.707Z"
   },
   {
    "duration": 71,
    "start_time": "2021-09-11T11:08:27.142Z"
   },
   {
    "duration": 193,
    "start_time": "2021-09-11T11:08:36.464Z"
   },
   {
    "duration": 32,
    "start_time": "2021-09-11T11:10:48.610Z"
   },
   {
    "duration": 50,
    "start_time": "2021-09-11T11:13:11.154Z"
   },
   {
    "duration": 1526,
    "start_time": "2021-09-11T11:32:44.204Z"
   },
   {
    "duration": 15,
    "start_time": "2021-09-11T11:32:45.733Z"
   },
   {
    "duration": 11,
    "start_time": "2021-09-11T11:32:45.751Z"
   },
   {
    "duration": 18,
    "start_time": "2021-09-11T11:32:45.765Z"
   },
   {
    "duration": 24,
    "start_time": "2021-09-11T11:32:45.785Z"
   },
   {
    "duration": 16,
    "start_time": "2021-09-11T11:32:45.811Z"
   },
   {
    "duration": 8,
    "start_time": "2021-09-11T11:32:45.829Z"
   },
   {
    "duration": 23,
    "start_time": "2021-09-11T11:32:45.839Z"
   },
   {
    "duration": 29,
    "start_time": "2021-09-11T11:32:45.866Z"
   },
   {
    "duration": 22,
    "start_time": "2021-09-11T11:32:45.898Z"
   },
   {
    "duration": 9,
    "start_time": "2021-09-11T11:32:45.922Z"
   },
   {
    "duration": 30,
    "start_time": "2021-09-11T11:32:45.934Z"
   },
   {
    "duration": 27,
    "start_time": "2021-09-11T11:32:45.966Z"
   },
   {
    "duration": 10,
    "start_time": "2021-09-11T11:32:45.996Z"
   },
   {
    "duration": 28,
    "start_time": "2021-09-11T11:32:46.008Z"
   },
   {
    "duration": 10,
    "start_time": "2021-09-11T11:32:46.039Z"
   },
   {
    "duration": 57,
    "start_time": "2021-09-11T11:32:46.051Z"
   },
   {
    "duration": 5286,
    "start_time": "2021-09-11T11:32:46.110Z"
   },
   {
    "duration": 558,
    "start_time": "2021-09-11T11:32:51.398Z"
   },
   {
    "duration": 35,
    "start_time": "2021-09-11T11:32:51.958Z"
   },
   {
    "duration": 40,
    "start_time": "2021-09-11T11:32:51.996Z"
   },
   {
    "duration": 18,
    "start_time": "2021-09-11T11:32:52.039Z"
   },
   {
    "duration": 7,
    "start_time": "2021-09-11T11:32:52.082Z"
   },
   {
    "duration": 40,
    "start_time": "2021-09-11T11:32:52.091Z"
   },
   {
    "duration": 12,
    "start_time": "2021-09-11T11:32:52.134Z"
   },
   {
    "duration": 59,
    "start_time": "2021-09-11T11:32:52.148Z"
   },
   {
    "duration": 9767,
    "start_time": "2021-09-11T11:45:26.421Z"
   },
   {
    "duration": 23,
    "start_time": "2021-09-11T11:46:06.682Z"
   },
   {
    "duration": 22,
    "start_time": "2021-09-11T11:46:24.331Z"
   },
   {
    "duration": 23,
    "start_time": "2021-09-11T11:46:31.368Z"
   },
   {
    "duration": 235,
    "start_time": "2021-09-11T11:47:57.206Z"
   },
   {
    "duration": 106,
    "start_time": "2021-09-11T11:48:07.576Z"
   },
   {
    "duration": 17,
    "start_time": "2021-09-11T11:48:07.685Z"
   },
   {
    "duration": 14,
    "start_time": "2021-09-11T11:48:07.706Z"
   },
   {
    "duration": 11,
    "start_time": "2021-09-11T11:48:07.723Z"
   },
   {
    "duration": 64,
    "start_time": "2021-09-11T11:48:07.737Z"
   },
   {
    "duration": 22,
    "start_time": "2021-09-11T11:48:07.804Z"
   },
   {
    "duration": 10,
    "start_time": "2021-09-11T11:48:07.829Z"
   },
   {
    "duration": 53,
    "start_time": "2021-09-11T11:48:07.842Z"
   },
   {
    "duration": 28,
    "start_time": "2021-09-11T11:48:07.898Z"
   },
   {
    "duration": 20,
    "start_time": "2021-09-11T11:48:07.929Z"
   },
   {
    "duration": 35,
    "start_time": "2021-09-11T11:48:07.951Z"
   },
   {
    "duration": 23,
    "start_time": "2021-09-11T11:48:07.989Z"
   },
   {
    "duration": 22,
    "start_time": "2021-09-11T11:48:08.015Z"
   },
   {
    "duration": 9,
    "start_time": "2021-09-11T11:48:08.039Z"
   },
   {
    "duration": 22,
    "start_time": "2021-09-11T11:48:08.082Z"
   },
   {
    "duration": 9,
    "start_time": "2021-09-11T11:48:08.106Z"
   },
   {
    "duration": 68,
    "start_time": "2021-09-11T11:48:08.118Z"
   },
   {
    "duration": 5305,
    "start_time": "2021-09-11T11:48:08.188Z"
   },
   {
    "duration": 550,
    "start_time": "2021-09-11T11:48:13.495Z"
   },
   {
    "duration": 37,
    "start_time": "2021-09-11T11:48:14.048Z"
   },
   {
    "duration": 39,
    "start_time": "2021-09-11T11:48:14.087Z"
   },
   {
    "duration": 16,
    "start_time": "2021-09-11T11:48:14.128Z"
   },
   {
    "duration": 8,
    "start_time": "2021-09-11T11:48:14.147Z"
   },
   {
    "duration": 32,
    "start_time": "2021-09-11T11:48:14.183Z"
   },
   {
    "duration": 9,
    "start_time": "2021-09-11T11:48:14.218Z"
   },
   {
    "duration": 56,
    "start_time": "2021-09-11T11:48:14.229Z"
   },
   {
    "duration": 91,
    "start_time": "2021-09-11T11:48:55.240Z"
   },
   {
    "duration": 12,
    "start_time": "2021-09-11T11:48:55.333Z"
   },
   {
    "duration": 42,
    "start_time": "2021-09-11T11:48:55.348Z"
   },
   {
    "duration": 9,
    "start_time": "2021-09-11T11:48:55.392Z"
   },
   {
    "duration": 20,
    "start_time": "2021-09-11T11:48:55.403Z"
   },
   {
    "duration": 16,
    "start_time": "2021-09-11T11:48:55.425Z"
   },
   {
    "duration": 40,
    "start_time": "2021-09-11T11:48:55.444Z"
   },
   {
    "duration": 22,
    "start_time": "2021-09-11T11:48:55.487Z"
   },
   {
    "duration": 23,
    "start_time": "2021-09-11T11:48:55.513Z"
   },
   {
    "duration": 58,
    "start_time": "2021-09-11T11:48:55.538Z"
   },
   {
    "duration": 9,
    "start_time": "2021-09-11T11:48:55.598Z"
   },
   {
    "duration": 25,
    "start_time": "2021-09-11T11:48:55.609Z"
   },
   {
    "duration": 52,
    "start_time": "2021-09-11T11:48:55.637Z"
   },
   {
    "duration": 9,
    "start_time": "2021-09-11T11:48:55.692Z"
   },
   {
    "duration": 26,
    "start_time": "2021-09-11T11:48:55.704Z"
   },
   {
    "duration": 10,
    "start_time": "2021-09-11T11:48:55.732Z"
   },
   {
    "duration": 84,
    "start_time": "2021-09-11T11:48:55.744Z"
   },
   {
    "duration": 5335,
    "start_time": "2021-09-11T11:48:55.831Z"
   },
   {
    "duration": 576,
    "start_time": "2021-09-11T11:49:01.169Z"
   },
   {
    "duration": 34,
    "start_time": "2021-09-11T11:49:01.748Z"
   },
   {
    "duration": 42,
    "start_time": "2021-09-11T11:49:01.784Z"
   },
   {
    "duration": 17,
    "start_time": "2021-09-11T11:49:01.828Z"
   },
   {
    "duration": 34,
    "start_time": "2021-09-11T11:49:01.849Z"
   },
   {
    "duration": 33,
    "start_time": "2021-09-11T11:49:01.886Z"
   },
   {
    "duration": 295,
    "start_time": "2021-09-11T11:49:01.922Z"
   },
   {
    "duration": -443,
    "start_time": "2021-09-11T11:49:02.662Z"
   },
   {
    "duration": 89,
    "start_time": "2021-09-11T11:49:57.069Z"
   },
   {
    "duration": 11,
    "start_time": "2021-09-11T11:49:57.183Z"
   },
   {
    "duration": 21,
    "start_time": "2021-09-11T11:49:57.197Z"
   },
   {
    "duration": 9,
    "start_time": "2021-09-11T11:49:57.221Z"
   },
   {
    "duration": 27,
    "start_time": "2021-09-11T11:49:57.232Z"
   },
   {
    "duration": 35,
    "start_time": "2021-09-11T11:49:57.261Z"
   },
   {
    "duration": 8,
    "start_time": "2021-09-11T11:49:57.299Z"
   },
   {
    "duration": 22,
    "start_time": "2021-09-11T11:49:57.311Z"
   },
   {
    "duration": 59,
    "start_time": "2021-09-11T11:49:57.336Z"
   },
   {
    "duration": 21,
    "start_time": "2021-09-11T11:49:57.397Z"
   },
   {
    "duration": 9,
    "start_time": "2021-09-11T11:49:57.420Z"
   },
   {
    "duration": 53,
    "start_time": "2021-09-11T11:49:57.431Z"
   },
   {
    "duration": 25,
    "start_time": "2021-09-11T11:49:57.486Z"
   },
   {
    "duration": 10,
    "start_time": "2021-09-11T11:49:57.514Z"
   },
   {
    "duration": 59,
    "start_time": "2021-09-11T11:49:57.527Z"
   },
   {
    "duration": 12,
    "start_time": "2021-09-11T11:49:57.589Z"
   },
   {
    "duration": 47,
    "start_time": "2021-09-11T11:49:57.604Z"
   },
   {
    "duration": 5276,
    "start_time": "2021-09-11T11:49:57.683Z"
   },
   {
    "duration": 539,
    "start_time": "2021-09-11T11:50:02.961Z"
   },
   {
    "duration": 22,
    "start_time": "2021-09-11T11:50:03.502Z"
   },
   {
    "duration": 60,
    "start_time": "2021-09-11T11:50:03.526Z"
   },
   {
    "duration": 17,
    "start_time": "2021-09-11T11:50:03.589Z"
   },
   {
    "duration": 7,
    "start_time": "2021-09-11T11:50:03.610Z"
   },
   {
    "duration": 65,
    "start_time": "2021-09-11T11:50:03.619Z"
   },
   {
    "duration": 15,
    "start_time": "2021-09-11T11:50:03.686Z"
   },
   {
    "duration": 37,
    "start_time": "2021-09-11T11:50:03.703Z"
   },
   {
    "duration": 50,
    "start_time": "2021-09-11T11:51:10.925Z"
   },
   {
    "duration": 114,
    "start_time": "2021-09-11T11:51:17.772Z"
   },
   {
    "duration": 11,
    "start_time": "2021-09-11T11:51:17.889Z"
   },
   {
    "duration": 10,
    "start_time": "2021-09-11T11:51:17.903Z"
   },
   {
    "duration": 9,
    "start_time": "2021-09-11T11:51:17.916Z"
   },
   {
    "duration": 59,
    "start_time": "2021-09-11T11:51:17.927Z"
   },
   {
    "duration": 17,
    "start_time": "2021-09-11T11:51:17.988Z"
   },
   {
    "duration": 9,
    "start_time": "2021-09-11T11:51:18.007Z"
   },
   {
    "duration": 23,
    "start_time": "2021-09-11T11:51:18.020Z"
   },
   {
    "duration": 57,
    "start_time": "2021-09-11T11:51:18.046Z"
   },
   {
    "duration": 20,
    "start_time": "2021-09-11T11:51:18.105Z"
   },
   {
    "duration": 9,
    "start_time": "2021-09-11T11:51:18.127Z"
   },
   {
    "duration": 54,
    "start_time": "2021-09-11T11:51:18.139Z"
   },
   {
    "duration": 27,
    "start_time": "2021-09-11T11:51:18.195Z"
   },
   {
    "duration": 9,
    "start_time": "2021-09-11T11:51:18.224Z"
   },
   {
    "duration": 26,
    "start_time": "2021-09-11T11:51:18.236Z"
   },
   {
    "duration": 25,
    "start_time": "2021-09-11T11:51:18.265Z"
   },
   {
    "duration": 48,
    "start_time": "2021-09-11T11:51:18.292Z"
   },
   {
    "duration": 5223,
    "start_time": "2021-09-11T11:51:18.342Z"
   },
   {
    "duration": 549,
    "start_time": "2021-09-11T11:51:23.567Z"
   },
   {
    "duration": 24,
    "start_time": "2021-09-11T11:51:24.118Z"
   },
   {
    "duration": 61,
    "start_time": "2021-09-11T11:51:24.144Z"
   },
   {
    "duration": 18,
    "start_time": "2021-09-11T11:51:24.207Z"
   },
   {
    "duration": 8,
    "start_time": "2021-09-11T11:51:24.229Z"
   },
   {
    "duration": 70,
    "start_time": "2021-09-11T11:51:24.240Z"
   },
   {
    "duration": 14,
    "start_time": "2021-09-11T11:51:24.312Z"
   },
   {
    "duration": 58,
    "start_time": "2021-09-11T11:51:24.329Z"
   },
   {
    "duration": 37,
    "start_time": "2021-09-11T12:04:17.885Z"
   },
   {
    "duration": 13,
    "start_time": "2021-09-11T12:12:56.942Z"
   },
   {
    "duration": 441,
    "start_time": "2021-09-11T12:13:45.019Z"
   },
   {
    "duration": 413,
    "start_time": "2021-09-11T12:14:28.968Z"
   },
   {
    "duration": 17,
    "start_time": "2021-09-11T13:28:17.282Z"
   },
   {
    "duration": 471,
    "start_time": "2021-09-11T13:28:43.552Z"
   },
   {
    "duration": 469,
    "start_time": "2021-09-11T13:28:47.332Z"
   },
   {
    "duration": 520,
    "start_time": "2021-09-11T13:29:03.902Z"
   },
   {
    "duration": 31140,
    "start_time": "2021-09-11T13:41:31.879Z"
   },
   {
    "duration": 21,
    "start_time": "2021-09-11T13:42:38.379Z"
   },
   {
    "duration": 28,
    "start_time": "2021-09-11T13:43:02.326Z"
   },
   {
    "duration": 37,
    "start_time": "2021-09-11T13:45:09.876Z"
   },
   {
    "duration": 34,
    "start_time": "2021-09-11T13:45:22.726Z"
   },
   {
    "duration": 146,
    "start_time": "2021-09-11T13:45:38.477Z"
   },
   {
    "duration": 15,
    "start_time": "2021-09-11T13:45:38.627Z"
   },
   {
    "duration": 40,
    "start_time": "2021-09-11T13:45:38.645Z"
   },
   {
    "duration": 9,
    "start_time": "2021-09-11T13:45:38.688Z"
   },
   {
    "duration": 20,
    "start_time": "2021-09-11T13:45:38.700Z"
   },
   {
    "duration": 17,
    "start_time": "2021-09-11T13:45:38.723Z"
   },
   {
    "duration": 46,
    "start_time": "2021-09-11T13:45:38.743Z"
   },
   {
    "duration": 24,
    "start_time": "2021-09-11T13:45:38.792Z"
   },
   {
    "duration": 64,
    "start_time": "2021-09-11T13:45:38.820Z"
   },
   {
    "duration": 28,
    "start_time": "2021-09-11T13:45:38.887Z"
   },
   {
    "duration": 11,
    "start_time": "2021-09-11T13:45:38.917Z"
   },
   {
    "duration": 61,
    "start_time": "2021-09-11T13:45:38.931Z"
   },
   {
    "duration": 26,
    "start_time": "2021-09-11T13:45:38.994Z"
   },
   {
    "duration": 9,
    "start_time": "2021-09-11T13:45:39.022Z"
   },
   {
    "duration": 63,
    "start_time": "2021-09-11T13:45:39.033Z"
   },
   {
    "duration": 11,
    "start_time": "2021-09-11T13:45:39.099Z"
   },
   {
    "duration": 76,
    "start_time": "2021-09-11T13:45:39.112Z"
   },
   {
    "duration": 5530,
    "start_time": "2021-09-11T13:45:39.191Z"
   },
   {
    "duration": 559,
    "start_time": "2021-09-11T13:45:44.724Z"
   },
   {
    "duration": 22,
    "start_time": "2021-09-11T13:45:45.286Z"
   },
   {
    "duration": 41,
    "start_time": "2021-09-11T13:45:45.310Z"
   },
   {
    "duration": 42,
    "start_time": "2021-09-11T13:45:45.354Z"
   },
   {
    "duration": 18,
    "start_time": "2021-09-11T13:45:45.398Z"
   },
   {
    "duration": 39,
    "start_time": "2021-09-11T13:45:45.418Z"
   },
   {
    "duration": 43,
    "start_time": "2021-09-11T13:45:45.459Z"
   },
   {
    "duration": 38,
    "start_time": "2021-09-11T13:45:45.504Z"
   },
   {
    "duration": 37,
    "start_time": "2021-09-11T13:45:45.546Z"
   },
   {
    "duration": 33,
    "start_time": "2021-09-11T13:45:45.585Z"
   },
   {
    "duration": 34,
    "start_time": "2021-09-11T13:46:04.317Z"
   },
   {
    "duration": 33,
    "start_time": "2021-09-11T13:46:29.946Z"
   },
   {
    "duration": 31469,
    "start_time": "2021-09-11T13:46:48.878Z"
   },
   {
    "duration": 28,
    "start_time": "2021-09-11T13:47:22.311Z"
   },
   {
    "duration": 11,
    "start_time": "2021-09-11T13:48:12.235Z"
   },
   {
    "duration": 26755,
    "start_time": "2021-09-11T13:48:32.857Z"
   },
   {
    "duration": 10,
    "start_time": "2021-09-11T13:49:01.030Z"
   },
   {
    "duration": 28,
    "start_time": "2021-09-11T13:49:08.793Z"
   },
   {
    "duration": 19,
    "start_time": "2021-09-11T13:50:38.217Z"
   },
   {
    "duration": 19,
    "start_time": "2021-09-11T13:52:46.069Z"
   },
   {
    "duration": 18,
    "start_time": "2021-09-11T13:53:31.082Z"
   },
   {
    "duration": 23,
    "start_time": "2021-09-11T13:54:07.678Z"
   },
   {
    "duration": 10,
    "start_time": "2021-09-11T14:02:18.517Z"
   },
   {
    "duration": 27095,
    "start_time": "2021-09-11T14:02:45.644Z"
   },
   {
    "duration": 10,
    "start_time": "2021-09-11T14:04:21.140Z"
   },
   {
    "duration": 15,
    "start_time": "2021-09-11T14:04:45.612Z"
   },
   {
    "duration": 16,
    "start_time": "2021-09-11T14:04:46.060Z"
   },
   {
    "duration": 17,
    "start_time": "2021-09-11T14:04:46.508Z"
   },
   {
    "duration": 15,
    "start_time": "2021-09-11T14:04:48.065Z"
   },
   {
    "duration": 36,
    "start_time": "2021-09-11T14:05:54.106Z"
   },
   {
    "duration": 462,
    "start_time": "2021-09-11T14:20:34.389Z"
   },
   {
    "duration": 428,
    "start_time": "2021-09-11T14:21:10.652Z"
   },
   {
    "duration": 747,
    "start_time": "2021-09-11T14:25:07.361Z"
   },
   {
    "duration": 35,
    "start_time": "2021-09-11T14:26:14.514Z"
   },
   {
    "duration": 94,
    "start_time": "2021-09-11T14:26:20.117Z"
   },
   {
    "duration": 11,
    "start_time": "2021-09-11T14:26:20.213Z"
   },
   {
    "duration": 15,
    "start_time": "2021-09-11T14:26:20.227Z"
   },
   {
    "duration": 15,
    "start_time": "2021-09-11T14:26:20.245Z"
   },
   {
    "duration": 33,
    "start_time": "2021-09-11T14:26:20.262Z"
   },
   {
    "duration": 19,
    "start_time": "2021-09-11T14:26:20.297Z"
   },
   {
    "duration": 10,
    "start_time": "2021-09-11T14:26:20.319Z"
   },
   {
    "duration": 58,
    "start_time": "2021-09-11T14:26:20.331Z"
   },
   {
    "duration": 24,
    "start_time": "2021-09-11T14:26:20.395Z"
   },
   {
    "duration": 22,
    "start_time": "2021-09-11T14:26:20.423Z"
   },
   {
    "duration": 41,
    "start_time": "2021-09-11T14:26:20.447Z"
   },
   {
    "duration": 23,
    "start_time": "2021-09-11T14:26:20.491Z"
   },
   {
    "duration": 24,
    "start_time": "2021-09-11T14:26:20.517Z"
   },
   {
    "duration": 48,
    "start_time": "2021-09-11T14:26:20.544Z"
   },
   {
    "duration": 24,
    "start_time": "2021-09-11T14:26:20.595Z"
   },
   {
    "duration": 10,
    "start_time": "2021-09-11T14:26:20.621Z"
   },
   {
    "duration": 82,
    "start_time": "2021-09-11T14:26:20.633Z"
   },
   {
    "duration": 5245,
    "start_time": "2021-09-11T14:26:20.717Z"
   },
   {
    "duration": 536,
    "start_time": "2021-09-11T14:26:25.965Z"
   },
   {
    "duration": 23,
    "start_time": "2021-09-11T14:26:26.503Z"
   },
   {
    "duration": 64,
    "start_time": "2021-09-11T14:26:26.529Z"
   },
   {
    "duration": 16,
    "start_time": "2021-09-11T14:26:26.596Z"
   },
   {
    "duration": 8,
    "start_time": "2021-09-11T14:26:26.615Z"
   },
   {
    "duration": 30934,
    "start_time": "2021-09-11T14:26:26.625Z"
   },
   {
    "duration": 8,
    "start_time": "2021-09-11T14:26:57.562Z"
   },
   {
    "duration": 16,
    "start_time": "2021-09-11T14:26:57.583Z"
   },
   {
    "duration": 20,
    "start_time": "2021-09-11T14:26:57.604Z"
   },
   {
    "duration": 26,
    "start_time": "2021-09-11T14:26:57.626Z"
   },
   {
    "duration": 36,
    "start_time": "2021-09-11T14:26:57.654Z"
   },
   {
    "duration": 23,
    "start_time": "2021-09-11T14:26:57.693Z"
   },
   {
    "duration": 44,
    "start_time": "2021-09-11T14:26:57.719Z"
   },
   {
    "duration": 13,
    "start_time": "2021-09-11T14:26:57.782Z"
   },
   {
    "duration": 47,
    "start_time": "2021-09-11T14:26:57.798Z"
   },
   {
    "duration": 59,
    "start_time": "2021-09-11T14:26:57.847Z"
   },
   {
    "duration": 494,
    "start_time": "2021-09-11T14:28:37.839Z"
   },
   {
    "duration": 101,
    "start_time": "2021-09-11T14:29:02.707Z"
   },
   {
    "duration": 90,
    "start_time": "2021-09-11T14:29:15.047Z"
   },
   {
    "duration": 72,
    "start_time": "2021-09-11T14:29:56.736Z"
   },
   {
    "duration": 35,
    "start_time": "2021-09-11T14:30:05.250Z"
   },
   {
    "duration": 39,
    "start_time": "2021-09-11T14:30:39.201Z"
   },
   {
    "duration": 38,
    "start_time": "2021-09-11T14:32:16.330Z"
   },
   {
    "duration": 3370,
    "start_time": "2021-09-11T14:32:43.941Z"
   },
   {
    "duration": 45,
    "start_time": "2021-09-11T14:34:40.916Z"
   },
   {
    "duration": 39,
    "start_time": "2021-09-11T14:35:03.809Z"
   },
   {
    "duration": 980,
    "start_time": "2021-09-11T14:36:40.183Z"
   },
   {
    "duration": 17,
    "start_time": "2021-09-11T14:36:41.166Z"
   },
   {
    "duration": 16,
    "start_time": "2021-09-11T14:36:41.186Z"
   },
   {
    "duration": 9,
    "start_time": "2021-09-11T14:36:41.204Z"
   },
   {
    "duration": 16,
    "start_time": "2021-09-11T14:36:41.215Z"
   },
   {
    "duration": 49,
    "start_time": "2021-09-11T14:36:41.234Z"
   },
   {
    "duration": 9,
    "start_time": "2021-09-11T14:36:41.285Z"
   },
   {
    "duration": 20,
    "start_time": "2021-09-11T14:36:41.299Z"
   },
   {
    "duration": 22,
    "start_time": "2021-09-11T14:36:41.322Z"
   },
   {
    "duration": 52,
    "start_time": "2021-09-11T14:36:41.346Z"
   },
   {
    "duration": 9,
    "start_time": "2021-09-11T14:36:41.400Z"
   },
   {
    "duration": 23,
    "start_time": "2021-09-11T14:36:41.411Z"
   },
   {
    "duration": 58,
    "start_time": "2021-09-11T14:36:41.436Z"
   },
   {
    "duration": 11,
    "start_time": "2021-09-11T14:36:41.496Z"
   },
   {
    "duration": 23,
    "start_time": "2021-09-11T14:36:41.509Z"
   },
   {
    "duration": 10,
    "start_time": "2021-09-11T14:36:41.535Z"
   },
   {
    "duration": 72,
    "start_time": "2021-09-11T14:36:41.548Z"
   },
   {
    "duration": 5264,
    "start_time": "2021-09-11T14:36:41.623Z"
   },
   {
    "duration": 540,
    "start_time": "2021-09-11T14:36:46.890Z"
   },
   {
    "duration": 22,
    "start_time": "2021-09-11T14:36:47.432Z"
   },
   {
    "duration": 61,
    "start_time": "2021-09-11T14:36:47.456Z"
   },
   {
    "duration": 16,
    "start_time": "2021-09-11T14:36:47.519Z"
   },
   {
    "duration": 8,
    "start_time": "2021-09-11T14:36:47.538Z"
   },
   {
    "duration": 30382,
    "start_time": "2021-09-11T14:36:47.548Z"
   },
   {
    "duration": 10,
    "start_time": "2021-09-11T14:37:17.933Z"
   },
   {
    "duration": 35,
    "start_time": "2021-09-11T14:37:17.948Z"
   },
   {
    "duration": 14,
    "start_time": "2021-09-11T14:37:17.986Z"
   },
   {
    "duration": 17,
    "start_time": "2021-09-11T14:37:18.002Z"
   },
   {
    "duration": 17,
    "start_time": "2021-09-11T14:37:18.021Z"
   },
   {
    "duration": 48,
    "start_time": "2021-09-11T14:37:18.040Z"
   },
   {
    "duration": 45,
    "start_time": "2021-09-11T14:37:18.091Z"
   },
   {
    "duration": 13,
    "start_time": "2021-09-11T14:37:18.139Z"
   },
   {
    "duration": 62,
    "start_time": "2021-09-11T14:37:18.155Z"
   },
   {
    "duration": 33,
    "start_time": "2021-09-11T14:37:18.219Z"
   },
   {
    "duration": 37,
    "start_time": "2021-09-11T14:39:40.562Z"
   },
   {
    "duration": 319,
    "start_time": "2021-09-12T09:25:34.025Z"
   },
   {
    "duration": 858,
    "start_time": "2021-09-12T09:25:43.927Z"
   },
   {
    "duration": 13,
    "start_time": "2021-09-12T09:25:44.788Z"
   },
   {
    "duration": 26,
    "start_time": "2021-09-12T09:25:44.804Z"
   },
   {
    "duration": 8,
    "start_time": "2021-09-12T09:25:44.833Z"
   },
   {
    "duration": 31,
    "start_time": "2021-09-12T09:25:44.844Z"
   },
   {
    "duration": 16,
    "start_time": "2021-09-12T09:25:44.877Z"
   },
   {
    "duration": 8,
    "start_time": "2021-09-12T09:25:44.895Z"
   },
   {
    "duration": 55,
    "start_time": "2021-09-12T09:25:44.907Z"
   },
   {
    "duration": 24,
    "start_time": "2021-09-12T09:25:44.965Z"
   },
   {
    "duration": 20,
    "start_time": "2021-09-12T09:25:44.992Z"
   },
   {
    "duration": 9,
    "start_time": "2021-09-12T09:25:45.015Z"
   },
   {
    "duration": 56,
    "start_time": "2021-09-12T09:25:45.027Z"
   },
   {
    "duration": 24,
    "start_time": "2021-09-12T09:25:45.085Z"
   },
   {
    "duration": 10,
    "start_time": "2021-09-12T09:25:45.111Z"
   },
   {
    "duration": 54,
    "start_time": "2021-09-12T09:25:45.123Z"
   },
   {
    "duration": 10,
    "start_time": "2021-09-12T09:25:45.179Z"
   },
   {
    "duration": 56,
    "start_time": "2021-09-12T09:25:45.191Z"
   },
   {
    "duration": 5438,
    "start_time": "2021-09-12T09:25:45.262Z"
   },
   {
    "duration": 560,
    "start_time": "2021-09-12T09:25:50.703Z"
   },
   {
    "duration": 23,
    "start_time": "2021-09-12T09:25:51.265Z"
   },
   {
    "duration": 43,
    "start_time": "2021-09-12T09:25:51.291Z"
   },
   {
    "duration": 18,
    "start_time": "2021-09-12T09:25:51.361Z"
   },
   {
    "duration": 7,
    "start_time": "2021-09-12T09:25:51.384Z"
   },
   {
    "duration": 32587,
    "start_time": "2021-09-12T09:25:51.394Z"
   },
   {
    "duration": 9,
    "start_time": "2021-09-12T09:26:23.984Z"
   },
   {
    "duration": 23,
    "start_time": "2021-09-12T09:26:23.995Z"
   },
   {
    "duration": 20,
    "start_time": "2021-09-12T09:26:24.020Z"
   },
   {
    "duration": 38,
    "start_time": "2021-09-12T09:26:24.042Z"
   },
   {
    "duration": 17,
    "start_time": "2021-09-12T09:26:24.082Z"
   },
   {
    "duration": 15,
    "start_time": "2021-09-12T09:26:24.101Z"
   },
   {
    "duration": 73,
    "start_time": "2021-09-12T09:26:24.118Z"
   },
   {
    "duration": 13,
    "start_time": "2021-09-12T09:26:24.193Z"
   },
   {
    "duration": 62,
    "start_time": "2021-09-12T09:26:24.208Z"
   },
   {
    "duration": 37,
    "start_time": "2021-09-12T09:26:24.272Z"
   },
   {
    "duration": 64,
    "start_time": "2021-09-12T09:26:24.312Z"
   },
   {
    "duration": 11,
    "start_time": "2021-09-12T09:26:57.552Z"
   },
   {
    "duration": 11,
    "start_time": "2021-09-12T09:27:01.830Z"
   },
   {
    "duration": 11,
    "start_time": "2021-09-12T09:27:05.156Z"
   },
   {
    "duration": 21,
    "start_time": "2021-09-12T09:53:09.801Z"
   },
   {
    "duration": 12,
    "start_time": "2021-09-12T09:53:27.329Z"
   },
   {
    "duration": 3320,
    "start_time": "2021-09-12T09:53:40.996Z"
   },
   {
    "duration": 12,
    "start_time": "2021-09-12T09:53:47.482Z"
   },
   {
    "duration": 13,
    "start_time": "2021-09-12T09:54:05.881Z"
   },
   {
    "duration": 15,
    "start_time": "2021-09-12T09:54:39.481Z"
   },
   {
    "duration": 13,
    "start_time": "2021-09-12T09:54:58.891Z"
   },
   {
    "duration": 3,
    "start_time": "2021-09-12T10:46:00.569Z"
   },
   {
    "duration": 6,
    "start_time": "2021-09-12T10:46:08.524Z"
   },
   {
    "duration": 9,
    "start_time": "2021-09-12T10:46:21.271Z"
   },
   {
    "duration": 13,
    "start_time": "2021-09-12T10:48:42.539Z"
   },
   {
    "duration": 14,
    "start_time": "2021-09-12T10:48:54.906Z"
   },
   {
    "duration": 229,
    "start_time": "2021-09-12T10:55:15.432Z"
   },
   {
    "duration": 215,
    "start_time": "2021-09-12T10:55:23.818Z"
   },
   {
    "duration": 20,
    "start_time": "2021-09-12T10:55:27.358Z"
   },
   {
    "duration": 21,
    "start_time": "2021-09-12T10:55:50.062Z"
   },
   {
    "duration": 25,
    "start_time": "2021-09-12T10:57:04.783Z"
   },
   {
    "duration": 54,
    "start_time": "2021-09-12T11:00:52.725Z"
   },
   {
    "duration": 64,
    "start_time": "2021-09-12T11:01:10.169Z"
   },
   {
    "duration": 279,
    "start_time": "2021-09-12T11:01:42.188Z"
   },
   {
    "duration": 18,
    "start_time": "2021-09-12T11:02:36.927Z"
   },
   {
    "duration": 279,
    "start_time": "2021-09-12T11:05:59.183Z"
   },
   {
    "duration": 94,
    "start_time": "2021-09-12T11:06:11.719Z"
   },
   {
    "duration": 12,
    "start_time": "2021-09-12T11:06:11.816Z"
   },
   {
    "duration": 38,
    "start_time": "2021-09-12T11:06:11.831Z"
   },
   {
    "duration": 8,
    "start_time": "2021-09-12T11:06:11.872Z"
   },
   {
    "duration": 39,
    "start_time": "2021-09-12T11:06:11.883Z"
   },
   {
    "duration": 38,
    "start_time": "2021-09-12T11:06:11.925Z"
   },
   {
    "duration": 12,
    "start_time": "2021-09-12T11:06:11.967Z"
   },
   {
    "duration": 30,
    "start_time": "2021-09-12T11:06:11.983Z"
   },
   {
    "duration": 52,
    "start_time": "2021-09-12T11:06:12.016Z"
   },
   {
    "duration": 23,
    "start_time": "2021-09-12T11:06:12.071Z"
   },
   {
    "duration": 10,
    "start_time": "2021-09-12T11:06:12.096Z"
   },
   {
    "duration": 28,
    "start_time": "2021-09-12T11:06:12.108Z"
   },
   {
    "duration": 24,
    "start_time": "2021-09-12T11:06:12.163Z"
   },
   {
    "duration": 9,
    "start_time": "2021-09-12T11:06:12.189Z"
   },
   {
    "duration": 25,
    "start_time": "2021-09-12T11:06:12.200Z"
   },
   {
    "duration": 38,
    "start_time": "2021-09-12T11:06:12.227Z"
   },
   {
    "duration": 60,
    "start_time": "2021-09-12T11:06:12.267Z"
   },
   {
    "duration": 5906,
    "start_time": "2021-09-12T11:06:12.329Z"
   },
   {
    "duration": 569,
    "start_time": "2021-09-12T11:06:18.238Z"
   },
   {
    "duration": 24,
    "start_time": "2021-09-12T11:06:18.810Z"
   },
   {
    "duration": 63,
    "start_time": "2021-09-12T11:06:18.836Z"
   },
   {
    "duration": 16,
    "start_time": "2021-09-12T11:06:18.902Z"
   },
   {
    "duration": 10,
    "start_time": "2021-09-12T11:06:18.921Z"
   },
   {
    "duration": 32483,
    "start_time": "2021-09-12T11:06:18.934Z"
   },
   {
    "duration": 9,
    "start_time": "2021-09-12T11:06:51.419Z"
   },
   {
    "duration": 35,
    "start_time": "2021-09-12T11:06:51.430Z"
   },
   {
    "duration": 19,
    "start_time": "2021-09-12T11:06:51.470Z"
   },
   {
    "duration": 23,
    "start_time": "2021-09-12T11:06:51.491Z"
   },
   {
    "duration": 20,
    "start_time": "2021-09-12T11:06:51.516Z"
   },
   {
    "duration": 18,
    "start_time": "2021-09-12T11:06:51.563Z"
   },
   {
    "duration": 52,
    "start_time": "2021-09-12T11:06:51.585Z"
   },
   {
    "duration": 16,
    "start_time": "2021-09-12T11:06:51.661Z"
   },
   {
    "duration": 327,
    "start_time": "2021-09-12T11:06:51.681Z"
   },
   {
    "duration": -911,
    "start_time": "2021-09-12T11:06:52.922Z"
   },
   {
    "duration": -912,
    "start_time": "2021-09-12T11:06:52.924Z"
   },
   {
    "duration": -914,
    "start_time": "2021-09-12T11:06:52.927Z"
   },
   {
    "duration": 144,
    "start_time": "2021-09-12T11:10:39.851Z"
   },
   {
    "duration": 15,
    "start_time": "2021-09-12T11:10:39.998Z"
   },
   {
    "duration": 45,
    "start_time": "2021-09-12T11:10:40.017Z"
   },
   {
    "duration": 9,
    "start_time": "2021-09-12T11:10:40.065Z"
   },
   {
    "duration": 41,
    "start_time": "2021-09-12T11:10:40.077Z"
   },
   {
    "duration": 20,
    "start_time": "2021-09-12T11:10:40.121Z"
   },
   {
    "duration": 26,
    "start_time": "2021-09-12T11:10:40.144Z"
   },
   {
    "duration": 34,
    "start_time": "2021-09-12T11:10:40.174Z"
   },
   {
    "duration": 24,
    "start_time": "2021-09-12T11:10:40.211Z"
   },
   {
    "duration": 46,
    "start_time": "2021-09-12T11:10:40.237Z"
   },
   {
    "duration": 10,
    "start_time": "2021-09-12T11:10:40.285Z"
   },
   {
    "duration": 31,
    "start_time": "2021-09-12T11:10:40.297Z"
   },
   {
    "duration": 52,
    "start_time": "2021-09-12T11:10:40.331Z"
   },
   {
    "duration": 11,
    "start_time": "2021-09-12T11:10:40.385Z"
   },
   {
    "duration": 44,
    "start_time": "2021-09-12T11:10:40.399Z"
   },
   {
    "duration": 23,
    "start_time": "2021-09-12T11:10:40.446Z"
   },
   {
    "duration": 76,
    "start_time": "2021-09-12T11:10:40.472Z"
   },
   {
    "duration": 5613,
    "start_time": "2021-09-12T11:10:40.551Z"
   },
   {
    "duration": 594,
    "start_time": "2021-09-12T11:10:46.167Z"
   },
   {
    "duration": 21,
    "start_time": "2021-09-12T11:10:46.764Z"
   },
   {
    "duration": 46,
    "start_time": "2021-09-12T11:10:46.788Z"
   },
   {
    "duration": 42,
    "start_time": "2021-09-12T11:10:46.837Z"
   },
   {
    "duration": 10,
    "start_time": "2021-09-12T11:10:46.886Z"
   },
   {
    "duration": 32490,
    "start_time": "2021-09-12T11:10:46.899Z"
   },
   {
    "duration": 10,
    "start_time": "2021-09-12T11:11:19.391Z"
   },
   {
    "duration": 21,
    "start_time": "2021-09-12T11:11:19.403Z"
   },
   {
    "duration": 39,
    "start_time": "2021-09-12T11:11:19.426Z"
   },
   {
    "duration": 19,
    "start_time": "2021-09-12T11:11:19.468Z"
   },
   {
    "duration": 19,
    "start_time": "2021-09-12T11:11:19.489Z"
   },
   {
    "duration": 18,
    "start_time": "2021-09-12T11:11:19.511Z"
   },
   {
    "duration": 40,
    "start_time": "2021-09-12T11:11:19.562Z"
   },
   {
    "duration": 12,
    "start_time": "2021-09-12T11:11:19.605Z"
   },
   {
    "duration": 240,
    "start_time": "2021-09-12T11:11:19.619Z"
   },
   {
    "duration": -871,
    "start_time": "2021-09-12T11:11:20.733Z"
   },
   {
    "duration": -876,
    "start_time": "2021-09-12T11:11:20.739Z"
   },
   {
    "duration": -881,
    "start_time": "2021-09-12T11:11:20.746Z"
   },
   {
    "duration": 11,
    "start_time": "2021-09-12T11:11:51.405Z"
   },
   {
    "duration": 19,
    "start_time": "2021-09-12T11:11:56.657Z"
   },
   {
    "duration": 9,
    "start_time": "2021-09-12T11:11:59.305Z"
   },
   {
    "duration": 258,
    "start_time": "2021-09-12T11:13:11.421Z"
   },
   {
    "duration": 152,
    "start_time": "2021-09-12T11:13:23.541Z"
   },
   {
    "duration": 19,
    "start_time": "2021-09-12T11:13:23.696Z"
   },
   {
    "duration": 14,
    "start_time": "2021-09-12T11:13:23.720Z"
   },
   {
    "duration": 14,
    "start_time": "2021-09-12T11:13:23.764Z"
   },
   {
    "duration": 18,
    "start_time": "2021-09-12T11:13:23.780Z"
   },
   {
    "duration": 17,
    "start_time": "2021-09-12T11:13:23.801Z"
   },
   {
    "duration": 47,
    "start_time": "2021-09-12T11:13:23.821Z"
   },
   {
    "duration": 24,
    "start_time": "2021-09-12T11:13:23.870Z"
   },
   {
    "duration": 65,
    "start_time": "2021-09-12T11:13:23.898Z"
   },
   {
    "duration": 23,
    "start_time": "2021-09-12T11:13:23.966Z"
   },
   {
    "duration": 10,
    "start_time": "2021-09-12T11:13:23.991Z"
   },
   {
    "duration": 58,
    "start_time": "2021-09-12T11:13:24.003Z"
   },
   {
    "duration": 27,
    "start_time": "2021-09-12T11:13:24.064Z"
   },
   {
    "duration": 10,
    "start_time": "2021-09-12T11:13:24.094Z"
   },
   {
    "duration": 58,
    "start_time": "2021-09-12T11:13:24.106Z"
   },
   {
    "duration": 22,
    "start_time": "2021-09-12T11:13:24.167Z"
   },
   {
    "duration": 46,
    "start_time": "2021-09-12T11:13:24.192Z"
   },
   {
    "duration": 5563,
    "start_time": "2021-09-12T11:13:24.241Z"
   },
   {
    "duration": 568,
    "start_time": "2021-09-12T11:13:29.806Z"
   },
   {
    "duration": 24,
    "start_time": "2021-09-12T11:13:30.376Z"
   },
   {
    "duration": 66,
    "start_time": "2021-09-12T11:13:30.402Z"
   },
   {
    "duration": 20,
    "start_time": "2021-09-12T11:13:30.471Z"
   },
   {
    "duration": 34,
    "start_time": "2021-09-12T11:13:30.495Z"
   },
   {
    "duration": 32651,
    "start_time": "2021-09-12T11:13:30.532Z"
   },
   {
    "duration": 10,
    "start_time": "2021-09-12T11:14:03.186Z"
   },
   {
    "duration": 37,
    "start_time": "2021-09-12T11:14:03.198Z"
   },
   {
    "duration": 25,
    "start_time": "2021-09-12T11:14:03.239Z"
   },
   {
    "duration": 28,
    "start_time": "2021-09-12T11:14:03.268Z"
   },
   {
    "duration": 23,
    "start_time": "2021-09-12T11:14:03.299Z"
   },
   {
    "duration": 24,
    "start_time": "2021-09-12T11:14:03.324Z"
   },
   {
    "duration": 42,
    "start_time": "2021-09-12T11:14:03.363Z"
   },
   {
    "duration": 13,
    "start_time": "2021-09-12T11:14:03.408Z"
   },
   {
    "duration": 52,
    "start_time": "2021-09-12T11:14:03.423Z"
   },
   {
    "duration": 15,
    "start_time": "2021-09-12T11:14:03.477Z"
   },
   {
    "duration": 44,
    "start_time": "2021-09-12T11:14:03.495Z"
   },
   {
    "duration": 39,
    "start_time": "2021-09-12T11:14:03.562Z"
   },
   {
    "duration": 36,
    "start_time": "2021-09-12T11:14:03.603Z"
   },
   {
    "duration": 7,
    "start_time": "2021-09-12T11:16:52.790Z"
   },
   {
    "duration": 290,
    "start_time": "2021-09-12T11:18:12.653Z"
   },
   {
    "duration": 97,
    "start_time": "2021-09-12T11:18:40.411Z"
   },
   {
    "duration": 12,
    "start_time": "2021-09-12T11:18:40.511Z"
   },
   {
    "duration": 40,
    "start_time": "2021-09-12T11:18:40.526Z"
   },
   {
    "duration": 9,
    "start_time": "2021-09-12T11:18:40.569Z"
   },
   {
    "duration": 18,
    "start_time": "2021-09-12T11:18:40.580Z"
   },
   {
    "duration": 17,
    "start_time": "2021-09-12T11:18:40.600Z"
   },
   {
    "duration": 47,
    "start_time": "2021-09-12T11:18:40.620Z"
   },
   {
    "duration": 26,
    "start_time": "2021-09-12T11:18:40.670Z"
   },
   {
    "duration": 62,
    "start_time": "2021-09-12T11:18:40.702Z"
   },
   {
    "duration": 24,
    "start_time": "2021-09-12T11:18:40.768Z"
   },
   {
    "duration": 10,
    "start_time": "2021-09-12T11:18:40.794Z"
   },
   {
    "duration": 58,
    "start_time": "2021-09-12T11:18:40.806Z"
   },
   {
    "duration": 36,
    "start_time": "2021-09-12T11:18:40.866Z"
   },
   {
    "duration": 11,
    "start_time": "2021-09-12T11:18:40.904Z"
   },
   {
    "duration": 45,
    "start_time": "2021-09-12T11:18:40.918Z"
   },
   {
    "duration": 11,
    "start_time": "2021-09-12T11:18:40.966Z"
   },
   {
    "duration": 54,
    "start_time": "2021-09-12T11:18:40.980Z"
   },
   {
    "duration": 6235,
    "start_time": "2021-09-12T11:18:41.037Z"
   },
   {
    "duration": 581,
    "start_time": "2021-09-12T11:18:47.275Z"
   },
   {
    "duration": 23,
    "start_time": "2021-09-12T11:18:47.861Z"
   },
   {
    "duration": 45,
    "start_time": "2021-09-12T11:18:47.887Z"
   },
   {
    "duration": 39,
    "start_time": "2021-09-12T11:18:47.934Z"
   },
   {
    "duration": 12,
    "start_time": "2021-09-12T11:18:47.975Z"
   },
   {
    "duration": 33708,
    "start_time": "2021-09-12T11:18:47.990Z"
   },
   {
    "duration": 9,
    "start_time": "2021-09-12T11:19:21.700Z"
   },
   {
    "duration": 26,
    "start_time": "2021-09-12T11:19:21.712Z"
   },
   {
    "duration": 30,
    "start_time": "2021-09-12T11:19:21.743Z"
   },
   {
    "duration": 27,
    "start_time": "2021-09-12T11:19:21.776Z"
   },
   {
    "duration": 19,
    "start_time": "2021-09-12T11:19:21.806Z"
   },
   {
    "duration": 40,
    "start_time": "2021-09-12T11:19:21.828Z"
   },
   {
    "duration": 49,
    "start_time": "2021-09-12T11:19:21.870Z"
   },
   {
    "duration": 14,
    "start_time": "2021-09-12T11:19:21.921Z"
   },
   {
    "duration": 280,
    "start_time": "2021-09-12T11:19:21.938Z"
   },
   {
    "duration": -924,
    "start_time": "2021-09-12T11:19:23.145Z"
   },
   {
    "duration": -926,
    "start_time": "2021-09-12T11:19:23.149Z"
   },
   {
    "duration": -936,
    "start_time": "2021-09-12T11:19:23.160Z"
   },
   {
    "duration": 16,
    "start_time": "2021-09-12T11:19:55.309Z"
   },
   {
    "duration": 9,
    "start_time": "2021-09-12T11:20:15.991Z"
   },
   {
    "duration": 96,
    "start_time": "2021-09-12T11:20:55.803Z"
   },
   {
    "duration": 12,
    "start_time": "2021-09-12T11:20:55.902Z"
   },
   {
    "duration": 11,
    "start_time": "2021-09-12T11:20:55.917Z"
   },
   {
    "duration": 39,
    "start_time": "2021-09-12T11:20:55.930Z"
   },
   {
    "duration": 27,
    "start_time": "2021-09-12T11:20:55.972Z"
   },
   {
    "duration": 20,
    "start_time": "2021-09-12T11:20:56.002Z"
   },
   {
    "duration": 44,
    "start_time": "2021-09-12T11:20:56.024Z"
   },
   {
    "duration": 26,
    "start_time": "2021-09-12T11:20:56.071Z"
   },
   {
    "duration": 62,
    "start_time": "2021-09-12T11:20:56.103Z"
   },
   {
    "duration": 24,
    "start_time": "2021-09-12T11:20:56.168Z"
   },
   {
    "duration": 11,
    "start_time": "2021-09-12T11:20:56.194Z"
   },
   {
    "duration": 60,
    "start_time": "2021-09-12T11:20:56.209Z"
   },
   {
    "duration": 26,
    "start_time": "2021-09-12T11:20:56.271Z"
   },
   {
    "duration": 10,
    "start_time": "2021-09-12T11:20:56.299Z"
   },
   {
    "duration": 52,
    "start_time": "2021-09-12T11:20:56.311Z"
   },
   {
    "duration": 12,
    "start_time": "2021-09-12T11:20:56.366Z"
   },
   {
    "duration": 51,
    "start_time": "2021-09-12T11:20:56.380Z"
   },
   {
    "duration": 6448,
    "start_time": "2021-09-12T11:20:56.433Z"
   },
   {
    "duration": 578,
    "start_time": "2021-09-12T11:21:02.883Z"
   },
   {
    "duration": 24,
    "start_time": "2021-09-12T11:21:03.463Z"
   },
   {
    "duration": 43,
    "start_time": "2021-09-12T11:21:03.489Z"
   },
   {
    "duration": 43,
    "start_time": "2021-09-12T11:21:03.535Z"
   },
   {
    "duration": 18,
    "start_time": "2021-09-12T11:21:03.581Z"
   },
   {
    "duration": 33713,
    "start_time": "2021-09-12T11:21:03.602Z"
   },
   {
    "duration": 9,
    "start_time": "2021-09-12T11:21:37.318Z"
   },
   {
    "duration": 34,
    "start_time": "2021-09-12T11:21:37.329Z"
   },
   {
    "duration": 16,
    "start_time": "2021-09-12T11:21:37.368Z"
   },
   {
    "duration": 16,
    "start_time": "2021-09-12T11:21:37.387Z"
   },
   {
    "duration": 26,
    "start_time": "2021-09-12T11:21:37.406Z"
   },
   {
    "duration": 39,
    "start_time": "2021-09-12T11:21:37.435Z"
   },
   {
    "duration": 48,
    "start_time": "2021-09-12T11:21:37.477Z"
   },
   {
    "duration": 12,
    "start_time": "2021-09-12T11:21:37.528Z"
   },
   {
    "duration": 20,
    "start_time": "2021-09-12T11:21:37.561Z"
   },
   {
    "duration": 10,
    "start_time": "2021-09-12T11:21:37.583Z"
   },
   {
    "duration": 70,
    "start_time": "2021-09-12T11:21:37.596Z"
   },
   {
    "duration": 37,
    "start_time": "2021-09-12T11:21:37.668Z"
   },
   {
    "duration": 56,
    "start_time": "2021-09-12T11:21:37.707Z"
   },
   {
    "duration": 93,
    "start_time": "2021-09-12T11:23:49.087Z"
   },
   {
    "duration": 13,
    "start_time": "2021-09-12T11:23:49.183Z"
   },
   {
    "duration": 18,
    "start_time": "2021-09-12T11:23:49.199Z"
   },
   {
    "duration": 9,
    "start_time": "2021-09-12T11:23:49.221Z"
   },
   {
    "duration": 46,
    "start_time": "2021-09-12T11:23:49.233Z"
   },
   {
    "duration": 18,
    "start_time": "2021-09-12T11:23:49.282Z"
   },
   {
    "duration": 9,
    "start_time": "2021-09-12T11:23:49.302Z"
   },
   {
    "duration": 65,
    "start_time": "2021-09-12T11:23:49.314Z"
   },
   {
    "duration": 27,
    "start_time": "2021-09-12T11:23:49.382Z"
   },
   {
    "duration": 51,
    "start_time": "2021-09-12T11:23:49.411Z"
   },
   {
    "duration": 10,
    "start_time": "2021-09-12T11:23:49.464Z"
   },
   {
    "duration": 25,
    "start_time": "2021-09-12T11:23:49.476Z"
   },
   {
    "duration": 24,
    "start_time": "2021-09-12T11:23:49.503Z"
   },
   {
    "duration": 38,
    "start_time": "2021-09-12T11:23:49.530Z"
   },
   {
    "duration": 25,
    "start_time": "2021-09-12T11:23:49.571Z"
   },
   {
    "duration": 10,
    "start_time": "2021-09-12T11:23:49.598Z"
   },
   {
    "duration": 76,
    "start_time": "2021-09-12T11:23:49.610Z"
   },
   {
    "duration": 5523,
    "start_time": "2021-09-12T11:23:49.689Z"
   },
   {
    "duration": 566,
    "start_time": "2021-09-12T11:23:55.214Z"
   },
   {
    "duration": 23,
    "start_time": "2021-09-12T11:23:55.782Z"
   },
   {
    "duration": 63,
    "start_time": "2021-09-12T11:23:55.807Z"
   },
   {
    "duration": 19,
    "start_time": "2021-09-12T11:23:55.872Z"
   },
   {
    "duration": 10,
    "start_time": "2021-09-12T11:23:55.896Z"
   },
   {
    "duration": 94,
    "start_time": "2021-09-12T11:25:55.989Z"
   },
   {
    "duration": 13,
    "start_time": "2021-09-12T11:25:56.085Z"
   },
   {
    "duration": 18,
    "start_time": "2021-09-12T11:25:56.100Z"
   },
   {
    "duration": 8,
    "start_time": "2021-09-12T11:25:56.121Z"
   },
   {
    "duration": 16,
    "start_time": "2021-09-12T11:25:56.163Z"
   },
   {
    "duration": 21,
    "start_time": "2021-09-12T11:25:56.181Z"
   },
   {
    "duration": 9,
    "start_time": "2021-09-12T11:25:56.204Z"
   },
   {
    "duration": 57,
    "start_time": "2021-09-12T11:25:56.215Z"
   },
   {
    "duration": 25,
    "start_time": "2021-09-12T11:25:56.276Z"
   },
   {
    "duration": 22,
    "start_time": "2021-09-12T11:25:56.304Z"
   },
   {
    "duration": 39,
    "start_time": "2021-09-12T11:25:56.328Z"
   },
   {
    "duration": 30,
    "start_time": "2021-09-12T11:25:56.370Z"
   },
   {
    "duration": 43,
    "start_time": "2021-09-12T11:25:56.403Z"
   },
   {
    "duration": 17,
    "start_time": "2021-09-12T11:25:56.449Z"
   },
   {
    "duration": 37,
    "start_time": "2021-09-12T11:25:56.468Z"
   },
   {
    "duration": 16,
    "start_time": "2021-09-12T11:25:56.507Z"
   },
   {
    "duration": 64,
    "start_time": "2021-09-12T11:25:56.525Z"
   },
   {
    "duration": 5612,
    "start_time": "2021-09-12T11:25:56.592Z"
   },
   {
    "duration": 577,
    "start_time": "2021-09-12T11:26:02.207Z"
   },
   {
    "duration": 23,
    "start_time": "2021-09-12T11:26:02.786Z"
   },
   {
    "duration": 63,
    "start_time": "2021-09-12T11:26:02.812Z"
   },
   {
    "duration": 18,
    "start_time": "2021-09-12T11:26:02.877Z"
   },
   {
    "duration": 39,
    "start_time": "2021-09-12T11:26:02.897Z"
   },
   {
    "duration": 33818,
    "start_time": "2021-09-12T11:26:02.939Z"
   },
   {
    "duration": 9,
    "start_time": "2021-09-12T11:26:36.761Z"
   },
   {
    "duration": 21,
    "start_time": "2021-09-12T11:26:36.772Z"
   },
   {
    "duration": 16,
    "start_time": "2021-09-12T11:26:36.798Z"
   },
   {
    "duration": 48,
    "start_time": "2021-09-12T11:26:36.817Z"
   },
   {
    "duration": 18,
    "start_time": "2021-09-12T11:26:36.867Z"
   },
   {
    "duration": 18,
    "start_time": "2021-09-12T11:26:36.888Z"
   },
   {
    "duration": 73,
    "start_time": "2021-09-12T11:26:36.909Z"
   },
   {
    "duration": 14,
    "start_time": "2021-09-12T11:26:36.985Z"
   },
   {
    "duration": 22,
    "start_time": "2021-09-12T11:26:37.002Z"
   },
   {
    "duration": 37,
    "start_time": "2021-09-12T11:26:37.026Z"
   },
   {
    "duration": 47,
    "start_time": "2021-09-12T11:26:37.065Z"
   },
   {
    "duration": 52,
    "start_time": "2021-09-12T11:26:37.115Z"
   },
   {
    "duration": 36,
    "start_time": "2021-09-12T11:26:37.170Z"
   },
   {
    "duration": 588,
    "start_time": "2021-09-12T18:18:19.498Z"
   },
   {
    "duration": 873,
    "start_time": "2021-09-12T18:21:39.432Z"
   },
   {
    "duration": 12,
    "start_time": "2021-09-12T18:21:40.308Z"
   },
   {
    "duration": 10,
    "start_time": "2021-09-12T18:21:40.324Z"
   },
   {
    "duration": 8,
    "start_time": "2021-09-12T18:21:40.337Z"
   },
   {
    "duration": 20,
    "start_time": "2021-09-12T18:21:40.348Z"
   },
   {
    "duration": 60,
    "start_time": "2021-09-12T18:21:40.371Z"
   },
   {
    "duration": 11,
    "start_time": "2021-09-12T18:21:40.434Z"
   },
   {
    "duration": 24,
    "start_time": "2021-09-12T18:21:40.451Z"
   },
   {
    "duration": 26,
    "start_time": "2021-09-12T18:21:40.518Z"
   },
   {
    "duration": 23,
    "start_time": "2021-09-12T18:21:40.547Z"
   },
   {
    "duration": 47,
    "start_time": "2021-09-12T18:21:40.572Z"
   },
   {
    "duration": 26,
    "start_time": "2021-09-12T18:21:40.622Z"
   },
   {
    "duration": 24,
    "start_time": "2021-09-12T18:21:40.651Z"
   },
   {
    "duration": 48,
    "start_time": "2021-09-12T18:21:40.678Z"
   },
   {
    "duration": 26,
    "start_time": "2021-09-12T18:21:40.729Z"
   },
   {
    "duration": 10,
    "start_time": "2021-09-12T18:21:40.758Z"
   },
   {
    "duration": 85,
    "start_time": "2021-09-12T18:21:40.770Z"
   },
   {
    "duration": 5775,
    "start_time": "2021-09-12T18:21:40.857Z"
   },
   {
    "duration": 591,
    "start_time": "2021-09-12T18:21:46.635Z"
   },
   {
    "duration": 22,
    "start_time": "2021-09-12T18:21:47.229Z"
   },
   {
    "duration": 64,
    "start_time": "2021-09-12T18:21:47.253Z"
   },
   {
    "duration": 18,
    "start_time": "2021-09-12T18:21:47.320Z"
   },
   {
    "duration": 33356,
    "start_time": "2021-09-12T18:21:47.343Z"
   },
   {
    "duration": 16,
    "start_time": "2021-09-12T18:22:20.702Z"
   },
   {
    "duration": 22,
    "start_time": "2021-09-12T18:22:20.720Z"
   },
   {
    "duration": 22,
    "start_time": "2021-09-12T18:22:20.745Z"
   },
   {
    "duration": 48,
    "start_time": "2021-09-12T18:22:20.770Z"
   },
   {
    "duration": 21,
    "start_time": "2021-09-12T18:22:20.821Z"
   },
   {
    "duration": 49,
    "start_time": "2021-09-12T18:22:20.845Z"
   },
   {
    "duration": 15,
    "start_time": "2021-09-12T18:22:20.917Z"
   },
   {
    "duration": 24,
    "start_time": "2021-09-12T18:22:20.935Z"
   },
   {
    "duration": 68,
    "start_time": "2021-09-12T18:22:20.962Z"
   },
   {
    "duration": 37,
    "start_time": "2021-09-12T18:22:21.033Z"
   },
   {
    "duration": 65,
    "start_time": "2021-09-12T18:22:21.073Z"
   },
   {
    "duration": 502,
    "start_time": "2021-09-12T18:39:05.418Z"
   },
   {
    "duration": 1813,
    "start_time": "2021-09-12T18:39:14.297Z"
   },
   {
    "duration": 1498,
    "start_time": "2021-09-12T18:39:33.865Z"
   },
   {
    "duration": 1466,
    "start_time": "2021-09-12T18:39:40.905Z"
   },
   {
    "duration": 1546,
    "start_time": "2021-09-12T18:41:18.072Z"
   },
   {
    "duration": 885,
    "start_time": "2021-09-12T18:42:09.905Z"
   },
   {
    "duration": 24,
    "start_time": "2021-09-12T18:42:10.793Z"
   },
   {
    "duration": 12,
    "start_time": "2021-09-12T18:42:10.821Z"
   },
   {
    "duration": 9,
    "start_time": "2021-09-12T18:42:10.836Z"
   },
   {
    "duration": 20,
    "start_time": "2021-09-12T18:42:10.847Z"
   },
   {
    "duration": 54,
    "start_time": "2021-09-12T18:42:10.869Z"
   },
   {
    "duration": 10,
    "start_time": "2021-09-12T18:42:10.925Z"
   },
   {
    "duration": 24,
    "start_time": "2021-09-12T18:42:10.942Z"
   },
   {
    "duration": 57,
    "start_time": "2021-09-12T18:42:10.969Z"
   },
   {
    "duration": 22,
    "start_time": "2021-09-12T18:42:11.028Z"
   },
   {
    "duration": 10,
    "start_time": "2021-09-12T18:42:11.053Z"
   },
   {
    "duration": 51,
    "start_time": "2021-09-12T18:42:11.066Z"
   },
   {
    "duration": 25,
    "start_time": "2021-09-12T18:42:11.120Z"
   },
   {
    "duration": 9,
    "start_time": "2021-09-12T18:42:11.147Z"
   },
   {
    "duration": 40,
    "start_time": "2021-09-12T18:42:11.158Z"
   },
   {
    "duration": 12,
    "start_time": "2021-09-12T18:42:11.217Z"
   },
   {
    "duration": 57,
    "start_time": "2021-09-12T18:42:11.231Z"
   },
   {
    "duration": 5553,
    "start_time": "2021-09-12T18:42:11.290Z"
   },
   {
    "duration": 679,
    "start_time": "2021-09-12T18:42:16.846Z"
   },
   {
    "duration": 25,
    "start_time": "2021-09-12T18:42:17.527Z"
   },
   {
    "duration": 72,
    "start_time": "2021-09-12T18:42:17.554Z"
   },
   {
    "duration": 19,
    "start_time": "2021-09-12T18:42:17.628Z"
   },
   {
    "duration": 35353,
    "start_time": "2021-09-12T18:42:17.652Z"
   },
   {
    "duration": 13,
    "start_time": "2021-09-12T18:42:53.007Z"
   },
   {
    "duration": 16,
    "start_time": "2021-09-12T18:42:53.023Z"
   },
   {
    "duration": 18,
    "start_time": "2021-09-12T18:42:53.042Z"
   },
   {
    "duration": 16,
    "start_time": "2021-09-12T18:42:53.062Z"
   },
   {
    "duration": 17,
    "start_time": "2021-09-12T18:42:53.117Z"
   },
   {
    "duration": 47,
    "start_time": "2021-09-12T18:42:53.136Z"
   },
   {
    "duration": 37,
    "start_time": "2021-09-12T18:42:53.185Z"
   },
   {
    "duration": 22,
    "start_time": "2021-09-12T18:42:53.225Z"
   },
   {
    "duration": 70,
    "start_time": "2021-09-12T18:42:53.249Z"
   },
   {
    "duration": 401,
    "start_time": "2021-09-12T18:42:53.322Z"
   },
   {
    "duration": 40,
    "start_time": "2021-09-12T18:42:53.725Z"
   },
   {
    "duration": 67,
    "start_time": "2021-09-12T18:42:53.767Z"
   },
   {
    "duration": 404,
    "start_time": "2021-09-12T18:43:40.562Z"
   },
   {
    "duration": 10,
    "start_time": "2021-09-12T18:46:21.579Z"
   },
   {
    "duration": 980,
    "start_time": "2021-09-12T18:46:39.189Z"
   },
   {
    "duration": 12,
    "start_time": "2021-09-12T18:46:40.172Z"
   },
   {
    "duration": 32,
    "start_time": "2021-09-12T18:46:40.188Z"
   },
   {
    "duration": 9,
    "start_time": "2021-09-12T18:46:40.223Z"
   },
   {
    "duration": 17,
    "start_time": "2021-09-12T18:46:40.234Z"
   },
   {
    "duration": 16,
    "start_time": "2021-09-12T18:46:40.253Z"
   },
   {
    "duration": 45,
    "start_time": "2021-09-12T18:46:40.272Z"
   },
   {
    "duration": 24,
    "start_time": "2021-09-12T18:46:40.320Z"
   },
   {
    "duration": 25,
    "start_time": "2021-09-12T18:46:40.347Z"
   },
   {
    "duration": 55,
    "start_time": "2021-09-12T18:46:40.375Z"
   },
   {
    "duration": 10,
    "start_time": "2021-09-12T18:46:40.433Z"
   },
   {
    "duration": 29,
    "start_time": "2021-09-12T18:46:40.445Z"
   },
   {
    "duration": 51,
    "start_time": "2021-09-12T18:46:40.477Z"
   },
   {
    "duration": 9,
    "start_time": "2021-09-12T18:46:40.530Z"
   },
   {
    "duration": 25,
    "start_time": "2021-09-12T18:46:40.541Z"
   },
   {
    "duration": 10,
    "start_time": "2021-09-12T18:46:40.569Z"
   },
   {
    "duration": 82,
    "start_time": "2021-09-12T18:46:40.581Z"
   },
   {
    "duration": 5671,
    "start_time": "2021-09-12T18:46:40.665Z"
   },
   {
    "duration": 583,
    "start_time": "2021-09-12T18:46:46.339Z"
   },
   {
    "duration": 22,
    "start_time": "2021-09-12T18:46:46.925Z"
   },
   {
    "duration": 67,
    "start_time": "2021-09-12T18:46:46.949Z"
   },
   {
    "duration": 18,
    "start_time": "2021-09-12T18:46:47.018Z"
   },
   {
    "duration": 34207,
    "start_time": "2021-09-12T18:46:47.038Z"
   },
   {
    "duration": 9,
    "start_time": "2021-09-12T18:47:21.248Z"
   },
   {
    "duration": 24,
    "start_time": "2021-09-12T18:47:21.260Z"
   },
   {
    "duration": 42,
    "start_time": "2021-09-12T18:47:21.287Z"
   },
   {
    "duration": 17,
    "start_time": "2021-09-12T18:47:21.336Z"
   },
   {
    "duration": 22,
    "start_time": "2021-09-12T18:47:21.357Z"
   },
   {
    "duration": 81,
    "start_time": "2021-09-12T18:47:21.382Z"
   },
   {
    "duration": 16,
    "start_time": "2021-09-12T18:47:21.466Z"
   },
   {
    "duration": 50,
    "start_time": "2021-09-12T18:47:21.485Z"
   },
   {
    "duration": 43,
    "start_time": "2021-09-12T18:47:21.538Z"
   },
   {
    "duration": 51,
    "start_time": "2021-09-12T18:47:21.584Z"
   },
   {
    "duration": 407,
    "start_time": "2021-09-12T18:47:21.637Z"
   },
   {
    "duration": 9,
    "start_time": "2021-09-12T18:47:22.047Z"
   },
   {
    "duration": 61,
    "start_time": "2021-09-12T18:47:22.059Z"
   },
   {
    "duration": 39,
    "start_time": "2021-09-12T18:47:22.124Z"
   },
   {
    "duration": 496,
    "start_time": "2021-09-12T18:50:02.620Z"
   },
   {
    "duration": 37,
    "start_time": "2021-09-12T19:12:17.024Z"
   },
   {
    "duration": 35,
    "start_time": "2021-09-12T19:15:16.017Z"
   },
   {
    "duration": 472,
    "start_time": "2021-09-12T19:17:10.824Z"
   },
   {
    "duration": 14,
    "start_time": "2021-09-12T19:17:17.275Z"
   },
   {
    "duration": 485,
    "start_time": "2021-09-12T19:17:19.720Z"
   },
   {
    "duration": 465,
    "start_time": "2021-09-12T19:17:44.831Z"
   },
   {
    "duration": 17,
    "start_time": "2021-09-12T19:18:14.784Z"
   },
   {
    "duration": 17,
    "start_time": "2021-09-12T19:18:23.129Z"
   },
   {
    "duration": 31,
    "start_time": "2021-09-12T19:18:51.728Z"
   },
   {
    "duration": 385,
    "start_time": "2021-09-12T19:18:53.141Z"
   },
   {
    "duration": 30052,
    "start_time": "2021-09-12T19:36:25.750Z"
   },
   {
    "duration": 10,
    "start_time": "2021-09-12T19:37:00.276Z"
   },
   {
    "duration": 876,
    "start_time": "2021-09-12T19:40:42.858Z"
   },
   {
    "duration": 12,
    "start_time": "2021-09-12T19:40:43.737Z"
   },
   {
    "duration": 11,
    "start_time": "2021-09-12T19:40:43.752Z"
   },
   {
    "duration": 11,
    "start_time": "2021-09-12T19:40:43.765Z"
   },
   {
    "duration": 55,
    "start_time": "2021-09-12T19:40:43.778Z"
   },
   {
    "duration": 17,
    "start_time": "2021-09-12T19:40:43.835Z"
   },
   {
    "duration": 9,
    "start_time": "2021-09-12T19:40:43.854Z"
   },
   {
    "duration": 60,
    "start_time": "2021-09-12T19:40:43.866Z"
   },
   {
    "duration": 26,
    "start_time": "2021-09-12T19:40:43.930Z"
   },
   {
    "duration": 24,
    "start_time": "2021-09-12T19:40:43.959Z"
   },
   {
    "duration": 39,
    "start_time": "2021-09-12T19:40:43.985Z"
   },
   {
    "duration": 26,
    "start_time": "2021-09-12T19:40:44.026Z"
   },
   {
    "duration": 27,
    "start_time": "2021-09-12T19:40:44.054Z"
   },
   {
    "duration": 38,
    "start_time": "2021-09-12T19:40:44.084Z"
   },
   {
    "duration": 24,
    "start_time": "2021-09-12T19:40:44.125Z"
   },
   {
    "duration": 10,
    "start_time": "2021-09-12T19:40:44.151Z"
   },
   {
    "duration": 87,
    "start_time": "2021-09-12T19:40:44.163Z"
   },
   {
    "duration": 5900,
    "start_time": "2021-09-12T19:40:44.252Z"
   },
   {
    "duration": 646,
    "start_time": "2021-09-12T19:40:50.154Z"
   },
   {
    "duration": 30,
    "start_time": "2021-09-12T19:40:50.803Z"
   },
   {
    "duration": 45,
    "start_time": "2021-09-12T19:40:50.836Z"
   },
   {
    "duration": 38,
    "start_time": "2021-09-12T19:40:50.884Z"
   },
   {
    "duration": 34849,
    "start_time": "2021-09-12T19:40:50.927Z"
   },
   {
    "duration": 9,
    "start_time": "2021-09-12T19:41:25.779Z"
   },
   {
    "duration": 36,
    "start_time": "2021-09-12T19:41:25.790Z"
   },
   {
    "duration": 16,
    "start_time": "2021-09-12T19:41:25.829Z"
   },
   {
    "duration": 18,
    "start_time": "2021-09-12T19:41:25.847Z"
   },
   {
    "duration": 16,
    "start_time": "2021-09-12T19:41:25.867Z"
   },
   {
    "duration": 43,
    "start_time": "2021-09-12T19:41:25.917Z"
   },
   {
    "duration": 13,
    "start_time": "2021-09-12T19:41:25.963Z"
   },
   {
    "duration": 40,
    "start_time": "2021-09-12T19:41:25.978Z"
   },
   {
    "duration": 38,
    "start_time": "2021-09-12T19:41:26.021Z"
   },
   {
    "duration": 420,
    "start_time": "2021-09-12T19:41:26.061Z"
   },
   {
    "duration": 43,
    "start_time": "2021-09-12T19:41:26.484Z"
   },
   {
    "duration": 32,
    "start_time": "2021-09-12T19:41:26.530Z"
   },
   {
    "duration": 823,
    "start_time": "2021-09-13T21:02:59.806Z"
   },
   {
    "duration": 28,
    "start_time": "2021-09-13T21:03:00.632Z"
   },
   {
    "duration": 26,
    "start_time": "2021-09-13T21:03:00.663Z"
   },
   {
    "duration": 17,
    "start_time": "2021-09-13T21:03:00.692Z"
   },
   {
    "duration": 42,
    "start_time": "2021-09-13T21:03:00.711Z"
   },
   {
    "duration": 17,
    "start_time": "2021-09-13T21:03:00.756Z"
   },
   {
    "duration": 9,
    "start_time": "2021-09-13T21:03:00.776Z"
   },
   {
    "duration": 50,
    "start_time": "2021-09-13T21:03:00.789Z"
   },
   {
    "duration": 34,
    "start_time": "2021-09-13T21:03:00.842Z"
   },
   {
    "duration": 27,
    "start_time": "2021-09-13T21:03:00.879Z"
   },
   {
    "duration": 11,
    "start_time": "2021-09-13T21:03:00.908Z"
   },
   {
    "duration": 53,
    "start_time": "2021-09-13T21:03:00.922Z"
   },
   {
    "duration": 33,
    "start_time": "2021-09-13T21:03:00.977Z"
   },
   {
    "duration": 10,
    "start_time": "2021-09-13T21:03:01.012Z"
   },
   {
    "duration": 53,
    "start_time": "2021-09-13T21:03:01.024Z"
   },
   {
    "duration": 23,
    "start_time": "2021-09-13T21:03:01.080Z"
   },
   {
    "duration": 66,
    "start_time": "2021-09-13T21:03:01.105Z"
   },
   {
    "duration": 5509,
    "start_time": "2021-09-13T21:03:01.174Z"
   },
   {
    "duration": 594,
    "start_time": "2021-09-13T21:03:06.685Z"
   },
   {
    "duration": 23,
    "start_time": "2021-09-13T21:03:07.281Z"
   },
   {
    "duration": 68,
    "start_time": "2021-09-13T21:03:07.307Z"
   },
   {
    "duration": 18,
    "start_time": "2021-09-13T21:03:07.378Z"
   },
   {
    "duration": 32718,
    "start_time": "2021-09-13T21:03:07.401Z"
   },
   {
    "duration": 9,
    "start_time": "2021-09-13T21:03:40.122Z"
   },
   {
    "duration": 32,
    "start_time": "2021-09-13T21:03:40.133Z"
   },
   {
    "duration": 18,
    "start_time": "2021-09-13T21:03:40.168Z"
   },
   {
    "duration": 38,
    "start_time": "2021-09-13T21:03:40.188Z"
   },
   {
    "duration": 31,
    "start_time": "2021-09-13T21:03:40.229Z"
   },
   {
    "duration": 56,
    "start_time": "2021-09-13T21:03:40.262Z"
   },
   {
    "duration": 12,
    "start_time": "2021-09-13T21:03:40.321Z"
   },
   {
    "duration": 33,
    "start_time": "2021-09-13T21:03:40.336Z"
   },
   {
    "duration": 58,
    "start_time": "2021-09-13T21:03:40.371Z"
   },
   {
    "duration": 404,
    "start_time": "2021-09-13T21:03:40.431Z"
   },
   {
    "duration": 39,
    "start_time": "2021-09-13T21:03:40.837Z"
   },
   {
    "duration": 30,
    "start_time": "2021-09-13T21:03:40.879Z"
   },
   {
    "duration": 39,
    "start_time": "2021-09-13T21:04:12.290Z"
   },
   {
    "duration": 26,
    "start_time": "2021-09-13T21:04:22.118Z"
   },
   {
    "duration": 9,
    "start_time": "2021-09-13T21:04:37.679Z"
   },
   {
    "duration": 34,
    "start_time": "2021-09-13T21:06:10.225Z"
   },
   {
    "duration": 6,
    "start_time": "2021-09-13T21:06:24.215Z"
   },
   {
    "duration": 7,
    "start_time": "2021-09-13T21:06:29.081Z"
   },
   {
    "duration": 34,
    "start_time": "2021-09-13T21:13:58.284Z"
   },
   {
    "duration": 119,
    "start_time": "2021-09-13T21:16:08.125Z"
   },
   {
    "duration": 10176,
    "start_time": "2021-09-13T21:16:11.706Z"
   },
   {
    "duration": 10382,
    "start_time": "2021-09-13T21:16:23.505Z"
   },
   {
    "duration": 17,
    "start_time": "2021-09-13T21:16:35.290Z"
   },
   {
    "duration": 120,
    "start_time": "2021-09-13T21:16:50.184Z"
   },
   {
    "duration": 8,
    "start_time": "2021-09-13T21:16:52.182Z"
   },
   {
    "duration": 10,
    "start_time": "2021-09-13T21:17:00.736Z"
   },
   {
    "duration": 39,
    "start_time": "2021-09-13T21:17:03.226Z"
   },
   {
    "duration": 31,
    "start_time": "2021-09-13T21:17:43.137Z"
   },
   {
    "duration": 29,
    "start_time": "2021-09-13T21:17:52.251Z"
   },
   {
    "duration": 32,
    "start_time": "2021-09-13T21:21:27.873Z"
   },
   {
    "duration": 4,
    "start_time": "2021-09-14T16:58:37.872Z"
   },
   {
    "duration": 136,
    "start_time": "2021-09-14T16:59:43.312Z"
   },
   {
    "duration": 110,
    "start_time": "2021-09-14T16:59:45.447Z"
   },
   {
    "duration": 785,
    "start_time": "2021-09-14T17:02:32.619Z"
   },
   {
    "duration": 108,
    "start_time": "2021-09-14T17:14:09.902Z"
   },
   {
    "duration": 696,
    "start_time": "2021-09-14T17:16:03.613Z"
   },
   {
    "duration": 9,
    "start_time": "2021-09-14T17:16:04.311Z"
   },
   {
    "duration": 8,
    "start_time": "2021-09-14T17:16:04.322Z"
   },
   {
    "duration": 7,
    "start_time": "2021-09-14T17:16:04.332Z"
   },
   {
    "duration": 6,
    "start_time": "2021-09-14T17:16:04.341Z"
   },
   {
    "duration": 30,
    "start_time": "2021-09-14T17:16:04.349Z"
   },
   {
    "duration": 13,
    "start_time": "2021-09-14T17:16:04.381Z"
   },
   {
    "duration": 13,
    "start_time": "2021-09-14T17:16:04.396Z"
   },
   {
    "duration": 6,
    "start_time": "2021-09-14T17:16:04.411Z"
   },
   {
    "duration": 22,
    "start_time": "2021-09-14T17:16:04.419Z"
   },
   {
    "duration": 45,
    "start_time": "2021-09-14T17:16:04.443Z"
   },
   {
    "duration": 16,
    "start_time": "2021-09-14T17:16:04.490Z"
   },
   {
    "duration": 7,
    "start_time": "2021-09-14T17:16:04.507Z"
   },
   {
    "duration": 18,
    "start_time": "2021-09-14T17:16:04.515Z"
   },
   {
    "duration": 45,
    "start_time": "2021-09-14T17:16:04.535Z"
   },
   {
    "duration": 7,
    "start_time": "2021-09-14T17:16:04.582Z"
   },
   {
    "duration": 19,
    "start_time": "2021-09-14T17:16:04.590Z"
   },
   {
    "duration": 11,
    "start_time": "2021-09-14T17:16:04.611Z"
   },
   {
    "duration": 54,
    "start_time": "2021-09-14T17:16:04.624Z"
   },
   {
    "duration": 4190,
    "start_time": "2021-09-14T17:16:04.680Z"
   },
   {
    "duration": 360,
    "start_time": "2021-09-14T17:16:08.877Z"
   },
   {
    "duration": 18,
    "start_time": "2021-09-14T17:16:09.239Z"
   },
   {
    "duration": 46,
    "start_time": "2021-09-14T17:16:09.259Z"
   },
   {
    "duration": 12,
    "start_time": "2021-09-14T17:16:09.307Z"
   },
   {
    "duration": 23172,
    "start_time": "2021-09-14T17:16:09.321Z"
   },
   {
    "duration": 8,
    "start_time": "2021-09-14T17:16:32.495Z"
   },
   {
    "duration": 5,
    "start_time": "2021-09-14T17:16:32.508Z"
   },
   {
    "duration": 19,
    "start_time": "2021-09-14T17:16:32.515Z"
   },
   {
    "duration": 10,
    "start_time": "2021-09-14T17:16:32.536Z"
   },
   {
    "duration": 12,
    "start_time": "2021-09-14T17:16:32.577Z"
   },
   {
    "duration": 13,
    "start_time": "2021-09-14T17:16:32.591Z"
   },
   {
    "duration": 12,
    "start_time": "2021-09-14T17:16:32.606Z"
   },
   {
    "duration": 59,
    "start_time": "2021-09-14T17:16:32.619Z"
   },
   {
    "duration": 9,
    "start_time": "2021-09-14T17:16:32.680Z"
   },
   {
    "duration": 12,
    "start_time": "2021-09-14T17:16:32.691Z"
   },
   {
    "duration": 36,
    "start_time": "2021-09-14T17:16:32.705Z"
   },
   {
    "duration": 375,
    "start_time": "2021-09-14T17:16:32.743Z"
   },
   {
    "duration": 21,
    "start_time": "2021-09-14T17:16:33.120Z"
   },
   {
    "duration": 35,
    "start_time": "2021-09-14T17:16:33.142Z"
   },
   {
    "duration": 390,
    "start_time": "2021-09-14T17:18:28.250Z"
   },
   {
    "duration": 7,
    "start_time": "2021-09-14T17:18:36.411Z"
   },
   {
    "duration": 351,
    "start_time": "2021-09-14T17:21:19.299Z"
   },
   {
    "duration": 21,
    "start_time": "2021-09-14T17:21:30.800Z"
   },
   {
    "duration": 38,
    "start_time": "2021-09-14T17:22:33.004Z"
   },
   {
    "duration": 96,
    "start_time": "2021-09-14T17:22:45.889Z"
   },
   {
    "duration": 46,
    "start_time": "2021-09-14T17:23:01.975Z"
   },
   {
    "duration": 70,
    "start_time": "2021-09-14T17:23:07.449Z"
   },
   {
    "duration": 14,
    "start_time": "2021-09-14T17:23:07.521Z"
   },
   {
    "duration": 44,
    "start_time": "2021-09-14T17:23:07.538Z"
   },
   {
    "duration": 6,
    "start_time": "2021-09-14T17:23:07.584Z"
   },
   {
    "duration": 8,
    "start_time": "2021-09-14T17:23:07.592Z"
   },
   {
    "duration": 41,
    "start_time": "2021-09-14T17:23:07.602Z"
   },
   {
    "duration": 42,
    "start_time": "2021-09-14T17:23:07.646Z"
   },
   {
    "duration": 13,
    "start_time": "2021-09-14T17:23:07.691Z"
   },
   {
    "duration": 6,
    "start_time": "2021-09-14T17:23:07.706Z"
   },
   {
    "duration": 16,
    "start_time": "2021-09-14T17:23:07.714Z"
   },
   {
    "duration": 46,
    "start_time": "2021-09-14T17:23:07.732Z"
   },
   {
    "duration": 16,
    "start_time": "2021-09-14T17:23:07.779Z"
   },
   {
    "duration": 7,
    "start_time": "2021-09-14T17:23:07.797Z"
   },
   {
    "duration": 18,
    "start_time": "2021-09-14T17:23:07.805Z"
   },
   {
    "duration": 19,
    "start_time": "2021-09-14T17:23:07.824Z"
   },
   {
    "duration": 36,
    "start_time": "2021-09-14T17:23:07.844Z"
   },
   {
    "duration": 19,
    "start_time": "2021-09-14T17:23:07.882Z"
   },
   {
    "duration": 15,
    "start_time": "2021-09-14T17:23:07.902Z"
   },
   {
    "duration": 33,
    "start_time": "2021-09-14T17:23:07.919Z"
   },
   {
    "duration": 4742,
    "start_time": "2021-09-14T17:23:07.954Z"
   },
   {
    "duration": 348,
    "start_time": "2021-09-14T17:23:12.698Z"
   },
   {
    "duration": 33,
    "start_time": "2021-09-14T17:23:13.049Z"
   },
   {
    "duration": 44,
    "start_time": "2021-09-14T17:23:13.086Z"
   },
   {
    "duration": 19,
    "start_time": "2021-09-14T17:23:13.132Z"
   },
   {
    "duration": 22271,
    "start_time": "2021-09-14T17:23:13.153Z"
   },
   {
    "duration": 8,
    "start_time": "2021-09-14T17:23:35.425Z"
   },
   {
    "duration": 9,
    "start_time": "2021-09-14T17:23:35.435Z"
   },
   {
    "duration": 39,
    "start_time": "2021-09-14T17:23:35.446Z"
   },
   {
    "duration": 11,
    "start_time": "2021-09-14T17:23:35.487Z"
   },
   {
    "duration": 15,
    "start_time": "2021-09-14T17:23:35.500Z"
   },
   {
    "duration": 12,
    "start_time": "2021-09-14T17:23:35.517Z"
   },
   {
    "duration": 13,
    "start_time": "2021-09-14T17:23:35.531Z"
   },
   {
    "duration": 61,
    "start_time": "2021-09-14T17:23:35.546Z"
   },
   {
    "duration": 10,
    "start_time": "2021-09-14T17:23:35.610Z"
   },
   {
    "duration": 19,
    "start_time": "2021-09-14T17:23:35.621Z"
   },
   {
    "duration": 55,
    "start_time": "2021-09-14T17:23:35.642Z"
   },
   {
    "duration": 320,
    "start_time": "2021-09-14T17:23:35.699Z"
   },
   {
    "duration": 23,
    "start_time": "2021-09-14T17:23:36.021Z"
   },
   {
    "duration": 38,
    "start_time": "2021-09-14T17:23:36.046Z"
   },
   {
    "duration": 381,
    "start_time": "2021-09-14T17:23:50.936Z"
   },
   {
    "duration": 921,
    "start_time": "2021-09-14T17:24:23.231Z"
   },
   {
    "duration": 46,
    "start_time": "2021-09-14T17:24:31.894Z"
   },
   {
    "duration": 66,
    "start_time": "2021-09-14T17:24:53.745Z"
   },
   {
    "duration": 9,
    "start_time": "2021-09-14T17:24:53.813Z"
   },
   {
    "duration": 13,
    "start_time": "2021-09-14T17:24:53.824Z"
   },
   {
    "duration": 10,
    "start_time": "2021-09-14T17:24:53.839Z"
   },
   {
    "duration": 28,
    "start_time": "2021-09-14T17:24:53.851Z"
   },
   {
    "duration": 34,
    "start_time": "2021-09-14T17:24:53.881Z"
   },
   {
    "duration": 12,
    "start_time": "2021-09-14T17:24:53.917Z"
   },
   {
    "duration": 14,
    "start_time": "2021-09-14T17:24:53.930Z"
   },
   {
    "duration": 32,
    "start_time": "2021-09-14T17:24:53.947Z"
   },
   {
    "duration": 14,
    "start_time": "2021-09-14T17:24:53.981Z"
   },
   {
    "duration": 15,
    "start_time": "2021-09-14T17:24:53.997Z"
   },
   {
    "duration": 16,
    "start_time": "2021-09-14T17:24:54.013Z"
   },
   {
    "duration": 7,
    "start_time": "2021-09-14T17:24:54.031Z"
   },
   {
    "duration": 49,
    "start_time": "2021-09-14T17:24:54.040Z"
   },
   {
    "duration": 24,
    "start_time": "2021-09-14T17:24:54.090Z"
   },
   {
    "duration": 6,
    "start_time": "2021-09-14T17:24:54.116Z"
   },
   {
    "duration": 22,
    "start_time": "2021-09-14T17:24:54.124Z"
   },
   {
    "duration": 10,
    "start_time": "2021-09-14T17:24:54.148Z"
   },
   {
    "duration": 74,
    "start_time": "2021-09-14T17:24:54.159Z"
   },
   {
    "duration": 4409,
    "start_time": "2021-09-14T17:24:54.235Z"
   },
   {
    "duration": 358,
    "start_time": "2021-09-14T17:24:58.646Z"
   },
   {
    "duration": 15,
    "start_time": "2021-09-14T17:24:59.006Z"
   },
   {
    "duration": 29,
    "start_time": "2021-09-14T17:24:59.023Z"
   },
   {
    "duration": 29,
    "start_time": "2021-09-14T17:24:59.053Z"
   },
   {
    "duration": 21932,
    "start_time": "2021-09-14T17:24:59.083Z"
   },
   {
    "duration": 9,
    "start_time": "2021-09-14T17:25:21.016Z"
   },
   {
    "duration": 12,
    "start_time": "2021-09-14T17:25:21.029Z"
   },
   {
    "duration": 36,
    "start_time": "2021-09-14T17:25:21.042Z"
   },
   {
    "duration": 11,
    "start_time": "2021-09-14T17:25:21.079Z"
   },
   {
    "duration": 16,
    "start_time": "2021-09-14T17:25:21.092Z"
   },
   {
    "duration": 11,
    "start_time": "2021-09-14T17:25:21.110Z"
   },
   {
    "duration": 48,
    "start_time": "2021-09-14T17:25:21.123Z"
   },
   {
    "duration": 30,
    "start_time": "2021-09-14T17:25:21.173Z"
   },
   {
    "duration": 10,
    "start_time": "2021-09-14T17:25:21.205Z"
   },
   {
    "duration": 17,
    "start_time": "2021-09-14T17:25:21.217Z"
   },
   {
    "duration": 41,
    "start_time": "2021-09-14T17:25:21.236Z"
   },
   {
    "duration": 362,
    "start_time": "2021-09-14T17:25:21.279Z"
   },
   {
    "duration": 34,
    "start_time": "2021-09-14T17:25:21.643Z"
   },
   {
    "duration": 23,
    "start_time": "2021-09-14T17:25:21.678Z"
   },
   {
    "duration": 24,
    "start_time": "2021-09-14T17:26:55.744Z"
   },
   {
    "duration": 31,
    "start_time": "2021-09-14T17:27:02.369Z"
   },
   {
    "duration": 34,
    "start_time": "2021-09-14T17:28:01.680Z"
   },
   {
    "duration": 33,
    "start_time": "2021-09-14T17:28:13.853Z"
   },
   {
    "duration": 33,
    "start_time": "2021-09-14T17:28:31.290Z"
   },
   {
    "duration": 34,
    "start_time": "2021-09-14T17:28:48.089Z"
   },
   {
    "duration": 34,
    "start_time": "2021-09-14T17:28:54.381Z"
   },
   {
    "duration": 101,
    "start_time": "2021-09-14T17:30:04.605Z"
   },
   {
    "duration": 19,
    "start_time": "2021-09-14T17:30:32.283Z"
   },
   {
    "duration": 39,
    "start_time": "2021-09-14T17:30:58.969Z"
   },
   {
    "duration": 18,
    "start_time": "2021-09-14T17:31:28.622Z"
   },
   {
    "duration": -818,
    "start_time": "2021-09-14T17:32:13.192Z"
   },
   {
    "duration": 677,
    "start_time": "2021-09-14T17:32:37.607Z"
   },
   {
    "duration": 9,
    "start_time": "2021-09-14T17:32:38.286Z"
   },
   {
    "duration": 8,
    "start_time": "2021-09-14T17:32:38.297Z"
   },
   {
    "duration": 7,
    "start_time": "2021-09-14T17:32:38.307Z"
   },
   {
    "duration": 7,
    "start_time": "2021-09-14T17:32:38.315Z"
   },
   {
    "duration": 9185,
    "start_time": "2021-09-14T17:32:38.323Z"
   },
   {
    "duration": -823,
    "start_time": "2021-09-14T17:32:48.334Z"
   },
   {
    "duration": -826,
    "start_time": "2021-09-14T17:32:48.339Z"
   },
   {
    "duration": -829,
    "start_time": "2021-09-14T17:32:48.343Z"
   },
   {
    "duration": -831,
    "start_time": "2021-09-14T17:32:48.347Z"
   },
   {
    "duration": -834,
    "start_time": "2021-09-14T17:32:48.351Z"
   },
   {
    "duration": -836,
    "start_time": "2021-09-14T17:32:48.355Z"
   },
   {
    "duration": -838,
    "start_time": "2021-09-14T17:32:48.358Z"
   },
   {
    "duration": -841,
    "start_time": "2021-09-14T17:32:48.362Z"
   },
   {
    "duration": -842,
    "start_time": "2021-09-14T17:32:48.365Z"
   },
   {
    "duration": -845,
    "start_time": "2021-09-14T17:32:48.369Z"
   },
   {
    "duration": -847,
    "start_time": "2021-09-14T17:32:48.373Z"
   },
   {
    "duration": -849,
    "start_time": "2021-09-14T17:32:48.376Z"
   },
   {
    "duration": -850,
    "start_time": "2021-09-14T17:32:48.378Z"
   },
   {
    "duration": -850,
    "start_time": "2021-09-14T17:32:48.380Z"
   },
   {
    "duration": -850,
    "start_time": "2021-09-14T17:32:48.382Z"
   },
   {
    "duration": -851,
    "start_time": "2021-09-14T17:32:48.385Z"
   },
   {
    "duration": -852,
    "start_time": "2021-09-14T17:32:48.387Z"
   },
   {
    "duration": -854,
    "start_time": "2021-09-14T17:32:48.390Z"
   },
   {
    "duration": -854,
    "start_time": "2021-09-14T17:32:48.392Z"
   },
   {
    "duration": -855,
    "start_time": "2021-09-14T17:32:48.394Z"
   },
   {
    "duration": -859,
    "start_time": "2021-09-14T17:32:48.399Z"
   },
   {
    "duration": -859,
    "start_time": "2021-09-14T17:32:48.401Z"
   },
   {
    "duration": -860,
    "start_time": "2021-09-14T17:32:48.403Z"
   },
   {
    "duration": -860,
    "start_time": "2021-09-14T17:32:48.405Z"
   },
   {
    "duration": -861,
    "start_time": "2021-09-14T17:32:48.407Z"
   },
   {
    "duration": -862,
    "start_time": "2021-09-14T17:32:48.410Z"
   },
   {
    "duration": -836,
    "start_time": "2021-09-14T17:32:48.412Z"
   },
   {
    "duration": -836,
    "start_time": "2021-09-14T17:32:48.414Z"
   },
   {
    "duration": -837,
    "start_time": "2021-09-14T17:32:48.416Z"
   },
   {
    "duration": -837,
    "start_time": "2021-09-14T17:32:48.418Z"
   },
   {
    "duration": -838,
    "start_time": "2021-09-14T17:32:48.420Z"
   },
   {
    "duration": -839,
    "start_time": "2021-09-14T17:32:48.422Z"
   },
   {
    "duration": -839,
    "start_time": "2021-09-14T17:32:48.424Z"
   },
   {
    "duration": 705,
    "start_time": "2021-09-14T17:33:19.572Z"
   },
   {
    "duration": 9,
    "start_time": "2021-09-14T17:33:20.279Z"
   },
   {
    "duration": 9,
    "start_time": "2021-09-14T17:33:20.290Z"
   },
   {
    "duration": 7,
    "start_time": "2021-09-14T17:33:20.301Z"
   },
   {
    "duration": 7,
    "start_time": "2021-09-14T17:33:20.310Z"
   },
   {
    "duration": 19,
    "start_time": "2021-09-14T17:33:20.319Z"
   },
   {
    "duration": 41,
    "start_time": "2021-09-14T17:33:20.340Z"
   },
   {
    "duration": 13,
    "start_time": "2021-09-14T17:33:20.383Z"
   },
   {
    "duration": 6,
    "start_time": "2021-09-14T17:33:20.398Z"
   },
   {
    "duration": 19,
    "start_time": "2021-09-14T17:33:20.405Z"
   },
   {
    "duration": 15,
    "start_time": "2021-09-14T17:33:20.426Z"
   },
   {
    "duration": 45,
    "start_time": "2021-09-14T17:33:20.443Z"
   },
   {
    "duration": 7,
    "start_time": "2021-09-14T17:33:20.490Z"
   },
   {
    "duration": 19,
    "start_time": "2021-09-14T17:33:20.498Z"
   },
   {
    "duration": 24,
    "start_time": "2021-09-14T17:33:20.518Z"
   },
   {
    "duration": 7,
    "start_time": "2021-09-14T17:33:20.544Z"
   },
   {
    "duration": 40,
    "start_time": "2021-09-14T17:33:20.552Z"
   },
   {
    "duration": 17,
    "start_time": "2021-09-14T17:33:20.593Z"
   },
   {
    "duration": 37,
    "start_time": "2021-09-14T17:33:20.612Z"
   },
   {
    "duration": 4704,
    "start_time": "2021-09-14T17:33:20.651Z"
   },
   {
    "duration": 355,
    "start_time": "2021-09-14T17:33:25.357Z"
   },
   {
    "duration": 15,
    "start_time": "2021-09-14T17:33:25.714Z"
   },
   {
    "duration": 44,
    "start_time": "2021-09-14T17:33:25.732Z"
   },
   {
    "duration": 11,
    "start_time": "2021-09-14T17:33:25.778Z"
   },
   {
    "duration": 21497,
    "start_time": "2021-09-14T17:33:25.790Z"
   },
   {
    "duration": 7,
    "start_time": "2021-09-14T17:33:47.288Z"
   },
   {
    "duration": 9,
    "start_time": "2021-09-14T17:33:47.296Z"
   },
   {
    "duration": 19,
    "start_time": "2021-09-14T17:33:47.307Z"
   },
   {
    "duration": 10,
    "start_time": "2021-09-14T17:33:47.329Z"
   },
   {
    "duration": 42,
    "start_time": "2021-09-14T17:33:47.341Z"
   },
   {
    "duration": 14,
    "start_time": "2021-09-14T17:33:47.385Z"
   },
   {
    "duration": 12,
    "start_time": "2021-09-14T17:33:47.400Z"
   },
   {
    "duration": 33,
    "start_time": "2021-09-14T17:33:47.414Z"
   },
   {
    "duration": 28,
    "start_time": "2021-09-14T17:33:47.449Z"
   },
   {
    "duration": 32,
    "start_time": "2021-09-14T17:33:47.479Z"
   },
   {
    "duration": 26,
    "start_time": "2021-09-14T17:33:47.513Z"
   },
   {
    "duration": 249,
    "start_time": "2021-09-14T17:33:47.541Z"
   },
   {
    "duration": 21,
    "start_time": "2021-09-14T17:33:47.791Z"
   },
   {
    "duration": 21,
    "start_time": "2021-09-14T17:33:47.814Z"
   },
   {
    "duration": 374,
    "start_time": "2021-09-14T17:34:02.334Z"
   },
   {
    "duration": 732,
    "start_time": "2021-09-14T17:34:13.163Z"
   },
   {
    "duration": 10,
    "start_time": "2021-09-14T17:34:17.367Z"
   },
   {
    "duration": 8,
    "start_time": "2021-09-14T17:34:18.781Z"
   },
   {
    "duration": 8,
    "start_time": "2021-09-14T17:34:21.934Z"
   },
   {
    "duration": 7,
    "start_time": "2021-09-14T17:34:26.882Z"
   },
   {
    "duration": 17,
    "start_time": "2021-09-14T17:34:29.446Z"
   },
   {
    "duration": 16,
    "start_time": "2021-09-14T17:34:41.419Z"
   },
   {
    "duration": 756,
    "start_time": "2021-09-14T17:36:30.826Z"
   },
   {
    "duration": 5,
    "start_time": "2021-09-14T17:36:37.633Z"
   },
   {
    "duration": 14,
    "start_time": "2021-09-14T17:37:23.117Z"
   },
   {
    "duration": 946,
    "start_time": "2021-09-14T18:38:03.195Z"
   },
   {
    "duration": 670,
    "start_time": "2021-09-14T18:38:09.225Z"
   },
   {
    "duration": 10,
    "start_time": "2021-09-14T18:38:10.932Z"
   },
   {
    "duration": 9,
    "start_time": "2021-09-14T18:38:11.338Z"
   },
   {
    "duration": 9,
    "start_time": "2021-09-14T18:38:12.539Z"
   },
   {
    "duration": 23,
    "start_time": "2021-09-14T18:38:14.498Z"
   },
   {
    "duration": 688,
    "start_time": "2021-09-15T16:17:55.954Z"
   },
   {
    "duration": 9,
    "start_time": "2021-09-15T16:17:56.646Z"
   },
   {
    "duration": 10,
    "start_time": "2021-09-15T16:17:56.657Z"
   },
   {
    "duration": 6,
    "start_time": "2021-09-15T16:17:56.669Z"
   },
   {
    "duration": 6,
    "start_time": "2021-09-15T16:17:56.676Z"
   },
   {
    "duration": 7,
    "start_time": "2021-09-15T16:17:56.684Z"
   },
   {
    "duration": 12,
    "start_time": "2021-09-15T16:17:56.694Z"
   },
   {
    "duration": 44,
    "start_time": "2021-09-15T16:17:56.708Z"
   },
   {
    "duration": 6,
    "start_time": "2021-09-15T16:17:56.753Z"
   },
   {
    "duration": 13,
    "start_time": "2021-09-15T16:17:56.761Z"
   },
   {
    "duration": 13,
    "start_time": "2021-09-15T16:17:56.775Z"
   },
   {
    "duration": 13,
    "start_time": "2021-09-15T16:17:56.790Z"
   },
   {
    "duration": 5,
    "start_time": "2021-09-15T16:17:56.805Z"
   },
   {
    "duration": 45,
    "start_time": "2021-09-15T16:17:56.812Z"
   },
   {
    "duration": 18,
    "start_time": "2021-09-15T16:17:56.859Z"
   },
   {
    "duration": 7,
    "start_time": "2021-09-15T16:17:56.879Z"
   },
   {
    "duration": 24,
    "start_time": "2021-09-15T16:17:56.887Z"
   },
   {
    "duration": 11,
    "start_time": "2021-09-15T16:17:56.913Z"
   },
   {
    "duration": 56,
    "start_time": "2021-09-15T16:17:56.925Z"
   },
   {
    "duration": 3958,
    "start_time": "2021-09-15T16:17:56.983Z"
   },
   {
    "duration": 106,
    "start_time": "2021-09-15T16:18:00.948Z"
   },
   {
    "duration": -342,
    "start_time": "2021-09-15T16:18:01.399Z"
   },
   {
    "duration": -344,
    "start_time": "2021-09-15T16:18:01.402Z"
   },
   {
    "duration": -348,
    "start_time": "2021-09-15T16:18:01.408Z"
   },
   {
    "duration": -357,
    "start_time": "2021-09-15T16:18:01.418Z"
   },
   {
    "duration": -359,
    "start_time": "2021-09-15T16:18:01.421Z"
   },
   {
    "duration": -365,
    "start_time": "2021-09-15T16:18:01.429Z"
   },
   {
    "duration": -368,
    "start_time": "2021-09-15T16:18:01.433Z"
   },
   {
    "duration": -371,
    "start_time": "2021-09-15T16:18:01.438Z"
   },
   {
    "duration": -374,
    "start_time": "2021-09-15T16:18:01.442Z"
   },
   {
    "duration": -376,
    "start_time": "2021-09-15T16:18:01.446Z"
   },
   {
    "duration": -380,
    "start_time": "2021-09-15T16:18:01.451Z"
   },
   {
    "duration": -387,
    "start_time": "2021-09-15T16:18:01.459Z"
   },
   {
    "duration": -388,
    "start_time": "2021-09-15T16:18:01.462Z"
   },
   {
    "duration": -392,
    "start_time": "2021-09-15T16:18:01.467Z"
   },
   {
    "duration": -394,
    "start_time": "2021-09-15T16:18:01.471Z"
   },
   {
    "duration": -398,
    "start_time": "2021-09-15T16:18:01.476Z"
   },
   {
    "duration": -401,
    "start_time": "2021-09-15T16:18:01.480Z"
   },
   {
    "duration": -402,
    "start_time": "2021-09-15T16:18:01.483Z"
   },
   {
    "duration": -404,
    "start_time": "2021-09-15T16:18:01.487Z"
   },
   {
    "duration": 4,
    "start_time": "2021-09-15T16:18:36.320Z"
   },
   {
    "duration": 8,
    "start_time": "2021-09-15T16:18:40.581Z"
   },
   {
    "duration": 2,
    "start_time": "2021-09-15T16:18:46.896Z"
   },
   {
    "duration": 5,
    "start_time": "2021-09-15T16:18:49.532Z"
   },
   {
    "duration": 362,
    "start_time": "2021-09-15T16:19:08.052Z"
   },
   {
    "duration": 7,
    "start_time": "2021-09-15T16:19:15.770Z"
   },
   {
    "duration": 5,
    "start_time": "2021-09-15T16:19:16.729Z"
   },
   {
    "duration": 4,
    "start_time": "2021-09-15T16:19:27.838Z"
   },
   {
    "duration": 3,
    "start_time": "2021-09-15T16:19:32.704Z"
   },
   {
    "duration": 5,
    "start_time": "2021-09-15T16:19:35.500Z"
   },
   {
    "duration": 7,
    "start_time": "2021-09-15T16:19:39.998Z"
   },
   {
    "duration": 3,
    "start_time": "2021-09-15T16:19:55.625Z"
   },
   {
    "duration": 7,
    "start_time": "2021-09-15T16:19:59.436Z"
   },
   {
    "duration": 9,
    "start_time": "2021-09-15T16:20:26.050Z"
   },
   {
    "duration": 6,
    "start_time": "2021-09-15T16:20:40.131Z"
   },
   {
    "duration": 8,
    "start_time": "2021-09-15T16:20:44.440Z"
   },
   {
    "duration": 9,
    "start_time": "2021-09-15T16:20:54.307Z"
   },
   {
    "duration": 8,
    "start_time": "2021-09-15T16:20:54.479Z"
   },
   {
    "duration": 6,
    "start_time": "2021-09-15T16:21:01.699Z"
   },
   {
    "duration": 7,
    "start_time": "2021-09-15T16:21:47.730Z"
   },
   {
    "duration": 4,
    "start_time": "2021-09-15T16:22:05.077Z"
   },
   {
    "duration": 4,
    "start_time": "2021-09-15T16:22:10.307Z"
   },
   {
    "duration": 3,
    "start_time": "2021-09-15T16:22:28.617Z"
   },
   {
    "duration": 6,
    "start_time": "2021-09-15T16:22:32.699Z"
   },
   {
    "duration": 6,
    "start_time": "2021-09-15T16:22:36.492Z"
   },
   {
    "duration": 8,
    "start_time": "2021-09-15T16:23:26.022Z"
   },
   {
    "duration": 7,
    "start_time": "2021-09-15T16:23:53.047Z"
   },
   {
    "duration": 8,
    "start_time": "2021-09-15T16:24:30.077Z"
   },
   {
    "duration": 6,
    "start_time": "2021-09-15T16:24:36.326Z"
   },
   {
    "duration": 839,
    "start_time": "2021-09-15T16:26:26.998Z"
   },
   {
    "duration": 8,
    "start_time": "2021-09-15T16:26:27.839Z"
   },
   {
    "duration": 18,
    "start_time": "2021-09-15T16:26:27.849Z"
   },
   {
    "duration": 7,
    "start_time": "2021-09-15T16:26:27.869Z"
   },
   {
    "duration": 7,
    "start_time": "2021-09-15T16:26:27.878Z"
   },
   {
    "duration": 7,
    "start_time": "2021-09-15T16:26:27.887Z"
   },
   {
    "duration": 12,
    "start_time": "2021-09-15T16:26:27.895Z"
   },
   {
    "duration": 12,
    "start_time": "2021-09-15T16:26:27.910Z"
   },
   {
    "duration": 27,
    "start_time": "2021-09-15T16:26:27.923Z"
   },
   {
    "duration": 14,
    "start_time": "2021-09-15T16:26:27.952Z"
   },
   {
    "duration": 14,
    "start_time": "2021-09-15T16:26:27.968Z"
   },
   {
    "duration": 14,
    "start_time": "2021-09-15T16:26:27.984Z"
   },
   {
    "duration": 6,
    "start_time": "2021-09-15T16:26:28.000Z"
   },
   {
    "duration": 50,
    "start_time": "2021-09-15T16:26:28.007Z"
   },
   {
    "duration": 17,
    "start_time": "2021-09-15T16:26:28.059Z"
   },
   {
    "duration": 7,
    "start_time": "2021-09-15T16:26:28.077Z"
   },
   {
    "duration": 19,
    "start_time": "2021-09-15T16:26:28.085Z"
   },
   {
    "duration": 10,
    "start_time": "2021-09-15T16:26:28.106Z"
   },
   {
    "duration": 61,
    "start_time": "2021-09-15T16:26:28.118Z"
   },
   {
    "duration": 3972,
    "start_time": "2021-09-15T16:26:28.181Z"
   },
   {
    "duration": 8,
    "start_time": "2021-09-15T16:26:32.155Z"
   },
   {
    "duration": 10,
    "start_time": "2021-09-15T16:26:32.165Z"
   },
   {
    "duration": 5,
    "start_time": "2021-09-15T16:26:32.178Z"
   },
   {
    "duration": 10,
    "start_time": "2021-09-15T16:26:32.185Z"
   },
   {
    "duration": 8,
    "start_time": "2021-09-15T16:26:32.197Z"
   },
   {
    "duration": 11,
    "start_time": "2021-09-15T16:26:32.207Z"
   },
   {
    "duration": 33,
    "start_time": "2021-09-15T16:26:32.220Z"
   },
   {
    "duration": 334,
    "start_time": "2021-09-15T16:26:32.254Z"
   },
   {
    "duration": 17,
    "start_time": "2021-09-15T16:26:32.590Z"
   },
   {
    "duration": 46,
    "start_time": "2021-09-15T16:26:32.609Z"
   },
   {
    "duration": 11,
    "start_time": "2021-09-15T16:26:32.657Z"
   },
   {
    "duration": 20231,
    "start_time": "2021-09-15T16:26:32.669Z"
   },
   {
    "duration": 6,
    "start_time": "2021-09-15T16:26:52.902Z"
   },
   {
    "duration": 14,
    "start_time": "2021-09-15T16:26:52.909Z"
   },
   {
    "duration": 27,
    "start_time": "2021-09-15T16:26:52.924Z"
   },
   {
    "duration": 9,
    "start_time": "2021-09-15T16:26:52.953Z"
   },
   {
    "duration": 11,
    "start_time": "2021-09-15T16:26:52.963Z"
   },
   {
    "duration": 16,
    "start_time": "2021-09-15T16:26:52.975Z"
   },
   {
    "duration": 11,
    "start_time": "2021-09-15T16:26:52.992Z"
   },
   {
    "duration": 50,
    "start_time": "2021-09-15T16:26:53.005Z"
   },
   {
    "duration": 7,
    "start_time": "2021-09-15T16:26:53.057Z"
   },
   {
    "duration": 10,
    "start_time": "2021-09-15T16:26:53.066Z"
   },
   {
    "duration": 24,
    "start_time": "2021-09-15T16:26:53.078Z"
   },
   {
    "duration": 250,
    "start_time": "2021-09-15T16:26:53.103Z"
   },
   {
    "duration": 20,
    "start_time": "2021-09-15T16:26:53.354Z"
   },
   {
    "duration": 19,
    "start_time": "2021-09-15T16:26:53.376Z"
   },
   {
    "duration": 24,
    "start_time": "2021-09-15T16:36:17.011Z"
   },
   {
    "duration": 29,
    "start_time": "2021-09-15T16:36:24.481Z"
   },
   {
    "duration": 9,
    "start_time": "2021-09-15T16:36:28.464Z"
   },
   {
    "duration": 8,
    "start_time": "2021-09-15T16:36:31.780Z"
   }
  ],
  "kernelspec": {
   "display_name": "Python 3",
   "language": "python",
   "name": "python3"
  },
  "language_info": {
   "codemirror_mode": {
    "name": "ipython",
    "version": 3
   },
   "file_extension": ".py",
   "mimetype": "text/x-python",
   "name": "python",
   "nbconvert_exporter": "python",
   "pygments_lexer": "ipython3",
   "version": "3.8.8"
  },
  "toc": {
   "base_numbering": 1,
   "nav_menu": {},
   "number_sections": true,
   "sideBar": true,
   "skip_h1_title": true,
   "title_cell": "Содержание",
   "title_sidebar": "Contents",
   "toc_cell": true,
   "toc_position": {},
   "toc_section_display": true,
   "toc_window_display": false
  }
 },
 "nbformat": 4,
 "nbformat_minor": 2
}
