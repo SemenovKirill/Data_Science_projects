{
 "cells": [
  {
   "cell_type": "markdown",
   "metadata": {},
   "source": [
    "# Выбор локации для скважины"
   ]
  },
  {
   "cell_type": "markdown",
   "metadata": {
    "toc": true
   },
   "source": [
    "<h1>Содержание<span class=\"tocSkip\"></span></h1>\n",
    "<div class=\"toc\"><ul class=\"toc-item\"><li><span><a href=\"#Первый-взгляд\" data-toc-modified-id=\"Первый-взгляд-1\"><span class=\"toc-item-num\">1&nbsp;&nbsp;</span>Первый взгляд</a></span><ul class=\"toc-item\"><li><span><a href=\"#Вывод\" data-toc-modified-id=\"Вывод-1.1\"><span class=\"toc-item-num\">1.1&nbsp;&nbsp;</span>Вывод</a></span></li></ul></li><li><span><a href=\"#Подготовка-данных\" data-toc-modified-id=\"Подготовка-данных-2\"><span class=\"toc-item-num\">2&nbsp;&nbsp;</span>Подготовка данных</a></span><ul class=\"toc-item\"><li><span><a href=\"#Вывод\" data-toc-modified-id=\"Вывод-2.1\"><span class=\"toc-item-num\">2.1&nbsp;&nbsp;</span>Вывод</a></span></li></ul></li><li><span><a href=\"#Обучение-моделей\" data-toc-modified-id=\"Обучение-моделей-3\"><span class=\"toc-item-num\">3&nbsp;&nbsp;</span>Обучение моделей</a></span><ul class=\"toc-item\"><li><span><a href=\"#Вывод\" data-toc-modified-id=\"Вывод-3.1\"><span class=\"toc-item-num\">3.1&nbsp;&nbsp;</span>Вывод</a></span></li></ul></li><li><span><a href=\"#Расчёт-прибыли\" data-toc-modified-id=\"Расчёт-прибыли-4\"><span class=\"toc-item-num\">4&nbsp;&nbsp;</span>Расчёт прибыли</a></span><ul class=\"toc-item\"><li><span><a href=\"#Вывод\" data-toc-modified-id=\"Вывод-4.1\"><span class=\"toc-item-num\">4.1&nbsp;&nbsp;</span>Вывод</a></span></li></ul></li><li><span><a href=\"#Общий-вывод\" data-toc-modified-id=\"Общий-вывод-5\"><span class=\"toc-item-num\">5&nbsp;&nbsp;</span>Общий вывод</a></span></li></ul></div>"
   ]
  },
  {
   "cell_type": "markdown",
   "metadata": {},
   "source": [
    "## Первый взгляд"
   ]
  },
  {
   "cell_type": "code",
   "execution_count": 1,
   "metadata": {},
   "outputs": [],
   "source": [
    "import pandas as pd\n",
    "import numpy as np\n",
    "import matplotlib.pyplot as plt\n",
    "from numpy.random import RandomState\n",
    "from scipy import stats as st\n",
    "from sklearn.model_selection import train_test_split\n",
    "from sklearn.linear_model import LinearRegression\n",
    "from sklearn.metrics import mean_squared_error"
   ]
  },
  {
   "cell_type": "code",
   "execution_count": 2,
   "metadata": {},
   "outputs": [
    {
     "name": "stdout",
     "output_type": "stream",
     "text": [
      "<class 'pandas.core.frame.DataFrame'>\n",
      "RangeIndex: 100000 entries, 0 to 99999\n",
      "Data columns (total 5 columns):\n",
      "id         100000 non-null object\n",
      "f0         100000 non-null float64\n",
      "f1         100000 non-null float64\n",
      "f2         100000 non-null float64\n",
      "product    100000 non-null float64\n",
      "dtypes: float64(4), object(1)\n",
      "memory usage: 3.8+ MB\n"
     ]
    },
    {
     "data": {
      "text/html": [
       "<div>\n",
       "<style scoped>\n",
       "    .dataframe tbody tr th:only-of-type {\n",
       "        vertical-align: middle;\n",
       "    }\n",
       "\n",
       "    .dataframe tbody tr th {\n",
       "        vertical-align: top;\n",
       "    }\n",
       "\n",
       "    .dataframe thead th {\n",
       "        text-align: right;\n",
       "    }\n",
       "</style>\n",
       "<table border=\"1\" class=\"dataframe\">\n",
       "  <thead>\n",
       "    <tr style=\"text-align: right;\">\n",
       "      <th></th>\n",
       "      <th>id</th>\n",
       "      <th>f0</th>\n",
       "      <th>f1</th>\n",
       "      <th>f2</th>\n",
       "      <th>product</th>\n",
       "    </tr>\n",
       "  </thead>\n",
       "  <tbody>\n",
       "    <tr>\n",
       "      <td>0</td>\n",
       "      <td>txEyH</td>\n",
       "      <td>0.705745</td>\n",
       "      <td>-0.497823</td>\n",
       "      <td>1.221170</td>\n",
       "      <td>105.280062</td>\n",
       "    </tr>\n",
       "    <tr>\n",
       "      <td>1</td>\n",
       "      <td>2acmU</td>\n",
       "      <td>1.334711</td>\n",
       "      <td>-0.340164</td>\n",
       "      <td>4.365080</td>\n",
       "      <td>73.037750</td>\n",
       "    </tr>\n",
       "    <tr>\n",
       "      <td>2</td>\n",
       "      <td>409Wp</td>\n",
       "      <td>1.022732</td>\n",
       "      <td>0.151990</td>\n",
       "      <td>1.419926</td>\n",
       "      <td>85.265647</td>\n",
       "    </tr>\n",
       "    <tr>\n",
       "      <td>3</td>\n",
       "      <td>iJLyR</td>\n",
       "      <td>-0.032172</td>\n",
       "      <td>0.139033</td>\n",
       "      <td>2.978566</td>\n",
       "      <td>168.620776</td>\n",
       "    </tr>\n",
       "    <tr>\n",
       "      <td>4</td>\n",
       "      <td>Xdl7t</td>\n",
       "      <td>1.988431</td>\n",
       "      <td>0.155413</td>\n",
       "      <td>4.751769</td>\n",
       "      <td>154.036647</td>\n",
       "    </tr>\n",
       "  </tbody>\n",
       "</table>\n",
       "</div>"
      ],
      "text/plain": [
       "      id        f0        f1        f2     product\n",
       "0  txEyH  0.705745 -0.497823  1.221170  105.280062\n",
       "1  2acmU  1.334711 -0.340164  4.365080   73.037750\n",
       "2  409Wp  1.022732  0.151990  1.419926   85.265647\n",
       "3  iJLyR -0.032172  0.139033  2.978566  168.620776\n",
       "4  Xdl7t  1.988431  0.155413  4.751769  154.036647"
      ]
     },
     "execution_count": 2,
     "metadata": {},
     "output_type": "execute_result"
    }
   ],
   "source": [
    "df_0 = pd.read_csv('/datasets/geo_data_0.csv')\n",
    "df_1 = pd.read_csv('/datasets/geo_data_1.csv')\n",
    "df_2 = pd.read_csv('/datasets/geo_data_2.csv')\n",
    "df_0.info()\n",
    "df_0.head()"
   ]
  },
  {
   "cell_type": "code",
   "execution_count": 3,
   "metadata": {},
   "outputs": [
    {
     "name": "stdout",
     "output_type": "stream",
     "text": [
      "<class 'pandas.core.frame.DataFrame'>\n",
      "RangeIndex: 100000 entries, 0 to 99999\n",
      "Data columns (total 5 columns):\n",
      "id         100000 non-null object\n",
      "f0         100000 non-null float64\n",
      "f1         100000 non-null float64\n",
      "f2         100000 non-null float64\n",
      "product    100000 non-null float64\n",
      "dtypes: float64(4), object(1)\n",
      "memory usage: 3.8+ MB\n"
     ]
    },
    {
     "data": {
      "text/html": [
       "<div>\n",
       "<style scoped>\n",
       "    .dataframe tbody tr th:only-of-type {\n",
       "        vertical-align: middle;\n",
       "    }\n",
       "\n",
       "    .dataframe tbody tr th {\n",
       "        vertical-align: top;\n",
       "    }\n",
       "\n",
       "    .dataframe thead th {\n",
       "        text-align: right;\n",
       "    }\n",
       "</style>\n",
       "<table border=\"1\" class=\"dataframe\">\n",
       "  <thead>\n",
       "    <tr style=\"text-align: right;\">\n",
       "      <th></th>\n",
       "      <th>id</th>\n",
       "      <th>f0</th>\n",
       "      <th>f1</th>\n",
       "      <th>f2</th>\n",
       "      <th>product</th>\n",
       "    </tr>\n",
       "  </thead>\n",
       "  <tbody>\n",
       "    <tr>\n",
       "      <td>0</td>\n",
       "      <td>kBEdx</td>\n",
       "      <td>-15.001348</td>\n",
       "      <td>-8.276000</td>\n",
       "      <td>-0.005876</td>\n",
       "      <td>3.179103</td>\n",
       "    </tr>\n",
       "    <tr>\n",
       "      <td>1</td>\n",
       "      <td>62mP7</td>\n",
       "      <td>14.272088</td>\n",
       "      <td>-3.475083</td>\n",
       "      <td>0.999183</td>\n",
       "      <td>26.953261</td>\n",
       "    </tr>\n",
       "    <tr>\n",
       "      <td>2</td>\n",
       "      <td>vyE1P</td>\n",
       "      <td>6.263187</td>\n",
       "      <td>-5.948386</td>\n",
       "      <td>5.001160</td>\n",
       "      <td>134.766305</td>\n",
       "    </tr>\n",
       "    <tr>\n",
       "      <td>3</td>\n",
       "      <td>KcrkZ</td>\n",
       "      <td>-13.081196</td>\n",
       "      <td>-11.506057</td>\n",
       "      <td>4.999415</td>\n",
       "      <td>137.945408</td>\n",
       "    </tr>\n",
       "    <tr>\n",
       "      <td>4</td>\n",
       "      <td>AHL4O</td>\n",
       "      <td>12.702195</td>\n",
       "      <td>-8.147433</td>\n",
       "      <td>5.004363</td>\n",
       "      <td>134.766305</td>\n",
       "    </tr>\n",
       "  </tbody>\n",
       "</table>\n",
       "</div>"
      ],
      "text/plain": [
       "      id         f0         f1        f2     product\n",
       "0  kBEdx -15.001348  -8.276000 -0.005876    3.179103\n",
       "1  62mP7  14.272088  -3.475083  0.999183   26.953261\n",
       "2  vyE1P   6.263187  -5.948386  5.001160  134.766305\n",
       "3  KcrkZ -13.081196 -11.506057  4.999415  137.945408\n",
       "4  AHL4O  12.702195  -8.147433  5.004363  134.766305"
      ]
     },
     "execution_count": 3,
     "metadata": {},
     "output_type": "execute_result"
    }
   ],
   "source": [
    "df_1.info()\n",
    "df_1.head()"
   ]
  },
  {
   "cell_type": "code",
   "execution_count": 4,
   "metadata": {},
   "outputs": [
    {
     "name": "stdout",
     "output_type": "stream",
     "text": [
      "<class 'pandas.core.frame.DataFrame'>\n",
      "RangeIndex: 100000 entries, 0 to 99999\n",
      "Data columns (total 5 columns):\n",
      "id         100000 non-null object\n",
      "f0         100000 non-null float64\n",
      "f1         100000 non-null float64\n",
      "f2         100000 non-null float64\n",
      "product    100000 non-null float64\n",
      "dtypes: float64(4), object(1)\n",
      "memory usage: 3.8+ MB\n"
     ]
    },
    {
     "data": {
      "text/html": [
       "<div>\n",
       "<style scoped>\n",
       "    .dataframe tbody tr th:only-of-type {\n",
       "        vertical-align: middle;\n",
       "    }\n",
       "\n",
       "    .dataframe tbody tr th {\n",
       "        vertical-align: top;\n",
       "    }\n",
       "\n",
       "    .dataframe thead th {\n",
       "        text-align: right;\n",
       "    }\n",
       "</style>\n",
       "<table border=\"1\" class=\"dataframe\">\n",
       "  <thead>\n",
       "    <tr style=\"text-align: right;\">\n",
       "      <th></th>\n",
       "      <th>id</th>\n",
       "      <th>f0</th>\n",
       "      <th>f1</th>\n",
       "      <th>f2</th>\n",
       "      <th>product</th>\n",
       "    </tr>\n",
       "  </thead>\n",
       "  <tbody>\n",
       "    <tr>\n",
       "      <td>0</td>\n",
       "      <td>fwXo0</td>\n",
       "      <td>-1.146987</td>\n",
       "      <td>0.963328</td>\n",
       "      <td>-0.828965</td>\n",
       "      <td>27.758673</td>\n",
       "    </tr>\n",
       "    <tr>\n",
       "      <td>1</td>\n",
       "      <td>WJtFt</td>\n",
       "      <td>0.262778</td>\n",
       "      <td>0.269839</td>\n",
       "      <td>-2.530187</td>\n",
       "      <td>56.069697</td>\n",
       "    </tr>\n",
       "    <tr>\n",
       "      <td>2</td>\n",
       "      <td>ovLUW</td>\n",
       "      <td>0.194587</td>\n",
       "      <td>0.289035</td>\n",
       "      <td>-5.586433</td>\n",
       "      <td>62.871910</td>\n",
       "    </tr>\n",
       "    <tr>\n",
       "      <td>3</td>\n",
       "      <td>q6cA6</td>\n",
       "      <td>2.236060</td>\n",
       "      <td>-0.553760</td>\n",
       "      <td>0.930038</td>\n",
       "      <td>114.572842</td>\n",
       "    </tr>\n",
       "    <tr>\n",
       "      <td>4</td>\n",
       "      <td>WPMUX</td>\n",
       "      <td>-0.515993</td>\n",
       "      <td>1.716266</td>\n",
       "      <td>5.899011</td>\n",
       "      <td>149.600746</td>\n",
       "    </tr>\n",
       "  </tbody>\n",
       "</table>\n",
       "</div>"
      ],
      "text/plain": [
       "      id        f0        f1        f2     product\n",
       "0  fwXo0 -1.146987  0.963328 -0.828965   27.758673\n",
       "1  WJtFt  0.262778  0.269839 -2.530187   56.069697\n",
       "2  ovLUW  0.194587  0.289035 -5.586433   62.871910\n",
       "3  q6cA6  2.236060 -0.553760  0.930038  114.572842\n",
       "4  WPMUX -0.515993  1.716266  5.899011  149.600746"
      ]
     },
     "execution_count": 4,
     "metadata": {},
     "output_type": "execute_result"
    }
   ],
   "source": [
    "df_2.info()\n",
    "df_2.head()"
   ]
  },
  {
   "cell_type": "code",
   "execution_count": 5,
   "metadata": {},
   "outputs": [
    {
     "name": "stdout",
     "output_type": "stream",
     "text": [
      "Распределения для таблицы df_0:\n"
     ]
    },
    {
     "data": {
      "image/png": "[encoded data removed]",
      "text/plain": [
       "<Figure size 1152x216 with 4 Axes>"
      ]
     },
     "metadata": {
      "needs_background": "light"
     },
     "output_type": "display_data"
    },
    {
     "name": "stdout",
     "output_type": "stream",
     "text": [
      "Распределения для таблицы df_1:\n"
     ]
    },
    {
     "data": {
      "image/png": "[encoded data removed]",
      "text/plain": [
       "<Figure size 1152x216 with 4 Axes>"
      ]
     },
     "metadata": {
      "needs_background": "light"
     },
     "output_type": "display_data"
    },
    {
     "name": "stdout",
     "output_type": "stream",
     "text": [
      "Распределения для таблицы df_2:\n"
     ]
    },
    {
     "data": {
      "image/png": "[encoded data removed]",
      "text/plain": [
       "<Figure size 1152x216 with 4 Axes>"
      ]
     },
     "metadata": {
      "needs_background": "light"
     },
     "output_type": "display_data"
    }
   ],
   "source": [
    "columns = ['f0', 'f1', 'f2', 'product']\n",
    "df_datas = [df_0, df_1, df_2]\n",
    "for i in range(3):\n",
    "    print('Распределения для таблицы df_' + str(i) + ':')\n",
    "    fig, ax = plt.subplots(1, 4, figsize=(16, 3))\n",
    "    for y in range(4):\n",
    "        ax[y].hist(df_datas[i][columns[y]], bins=40)\n",
    "        ax[y].set_xlabel(columns[y])\n",
    "    plt.show()"
   ]
  },
  {
   "cell_type": "markdown",
   "metadata": {},
   "source": [
    "### Вывод "
   ]
  },
  {
   "cell_type": "markdown",
   "metadata": {},
   "source": [
    "Исходные данные - три таблицы, по одной на каждый регион, в каждой из них по 5 столбцов и 10000 строк. Названия стобцов корректны, типы данных указаны верно, пропусков нет. Исходя из условий задачи, предобработка данных не требуется, однако некоторые распределения выглядят довольно необычно. Полагаю, это объясняется синтетической природой данных. "
   ]
  },
  {
   "cell_type": "markdown",
   "metadata": {},
   "source": [
    "## Подготовка данных "
   ]
  },
  {
   "cell_type": "code",
   "execution_count": 7,
   "metadata": {},
   "outputs": [],
   "source": [
    "def split (data):\n",
    "    X = data.drop(['id', 'product'], axis=1)\n",
    "    y = data['product']\n",
    "    X_train, X_valid, y_train, y_valid = train_test_split(X, y, test_size=.25, random_state=123)\n",
    "    return X_train, X_valid, y_train, y_valid"
   ]
  },
  {
   "cell_type": "code",
   "execution_count": 8,
   "metadata": {
    "scrolled": true
   },
   "outputs": [],
   "source": [
    "X_train_0, X_valid_0, y_train_0, y_valid_0 = split(df_0)\n",
    "X_train_1, X_valid_1, y_train_1, y_valid_1 = split(df_1)\n",
    "X_train_2, X_valid_2, y_train_2, y_valid_2 = split(df_2)"
   ]
  },
  {
   "cell_type": "code",
   "execution_count": 9,
   "metadata": {},
   "outputs": [
    {
     "name": "stdout",
     "output_type": "stream",
     "text": [
      "\n",
      "Размер выборок для региона 1:\n",
      "X_train_0 shape: (75000, 3)\n",
      "X_valid_0 shape: (25000, 3)\n",
      "y_train_0 shape: (75000,)\n",
      "y_valid_0 shape: (25000,)\n",
      "\n",
      "Размер выборок для региона 2:\n",
      "X_train_1 shape: (75000, 3)\n",
      "X_valid_1 shape: (25000, 3)\n",
      "y_train_1 shape: (75000,)\n",
      "y_valid_1 shape: (25000,)\n",
      "\n",
      "Размер выборок для региона 3:\n",
      "X_train_2 shape: (75000, 3)\n",
      "X_valid_2 shape: (25000, 3)\n",
      "y_train_2 shape: (75000,)\n",
      "y_valid_2 shape: (25000,)\n"
     ]
    }
   ],
   "source": [
    "sample_names = ['X_train_', 'X_valid_', 'y_train_', 'y_valid_']\n",
    "\n",
    "for i in range(3):\n",
    "    print('\\nРазмер выборок для региона {}:'.format(i + 1))\n",
    "    for name in sample_names:\n",
    "        print(name + str(i), 'shape:', locals()[name + str(i)].shape)    "
   ]
  },
  {
   "cell_type": "markdown",
   "metadata": {},
   "source": [
    "### Вывод "
   ]
  },
  {
   "cell_type": "markdown",
   "metadata": {},
   "source": [
    "Данные были разделены на обучающие и валидационные выборки, в соотношении 75:25."
   ]
  },
  {
   "cell_type": "markdown",
   "metadata": {},
   "source": [
    "## Обучение моделей "
   ]
  },
  {
   "cell_type": "code",
   "execution_count": 10,
   "metadata": {},
   "outputs": [],
   "source": [
    "def linear_model (X_train, X_valid, y_train, y_valid):    \n",
    "    model = LinearRegression()\n",
    "    model.fit(X_train, y_train)\n",
    "    predictions = model.predict(X_valid)\n",
    "    RMSE = mean_squared_error(y_valid, predictions) ** .5\n",
    "    print('Средний запас предсказанного сырья: {:.2f} тыс. баррелей'.format(np.mean(predictions)), \n",
    "          '\\nRMSE модели: {:.2f}\\n'.format(RMSE))\n",
    "    return predictions"
   ]
  },
  {
   "cell_type": "markdown",
   "metadata": {},
   "source": [
    "Поскольку у нас несколько регионов, и требуется несколько раз обучать модель, оценивать её и делать предсказания, все эти операции были упакованы в функцию `linear_model`. На вход она принимает 4 выборки, которые использует для обучения модели линейной регрессии и предсказания значений. В процессе работы функции на экран выводится среднее предсказанное значение, а так же значение метрики RMSE. Функция возвращает весь список предсказаний, полученных от модели."
   ]
  },
  {
   "cell_type": "code",
   "execution_count": 11,
   "metadata": {},
   "outputs": [
    {
     "name": "stdout",
     "output_type": "stream",
     "text": [
      "Регион 1:\n",
      "Средний запас предсказанного сырья: 92.55 тыс. баррелей \n",
      "RMSE модели: 37.65\n",
      "\n",
      "Регион 2:\n",
      "Средний запас предсказанного сырья: 69.28 тыс. баррелей \n",
      "RMSE модели: 0.90\n",
      "\n",
      "Регион 3:\n",
      "Средний запас предсказанного сырья: 95.10 тыс. баррелей \n",
      "RMSE модели: 40.13\n",
      "\n"
     ]
    }
   ],
   "source": [
    "print('Регион 1:')\n",
    "predictions_0 = pd.Series(linear_model (X_train_0, X_valid_0, y_train_0, y_valid_0))\n",
    "print('Регион 2:')\n",
    "predictions_1 = pd.Series(linear_model (X_train_1, X_valid_1, y_train_1, y_valid_1))\n",
    "print('Регион 3:')\n",
    "predictions_2 = pd.Series(linear_model (X_train_2, X_valid_2, y_train_2, y_valid_2))"
   ]
  },
  {
   "cell_type": "markdown",
   "metadata": {},
   "source": [
    "### Вывод "
   ]
  },
  {
   "cell_type": "markdown",
   "metadata": {},
   "source": [
    "Значения, полученные от модели на данных 1 и 3 региона практически совпадают. Модели оценивают средний запас сырья в 92 и 95 тысяч баррелей соответственно, но, при этом, значение RMSE достаточно высокое - 37.6 для первого региона и 40.1 для третьего. Получается, что модель сильно переоценила объём запасов нефти, практически на 40 тысяч баррелей. В то же время регион №2 имеет предсказание в 69 тысяч баррелей, но RMSE = 0.9, что прибавляет уверенности в предсказании. Таким образом, второй регион на данном этапе выглядит куда более перспективным, на фоне двух других."
   ]
  },
  {
   "cell_type": "markdown",
   "metadata": {},
   "source": [
    "## Расчёт прибыли"
   ]
  },
  {
   "cell_type": "code",
   "execution_count": 12,
   "metadata": {},
   "outputs": [],
   "source": [
    "COST_PRICE = (1 * (10**10)) / 200\n",
    "WELLS_COUNT = 200\n",
    "BARREL_PROFIT = 450000"
   ]
  },
  {
   "cell_type": "markdown",
   "metadata": {},
   "source": [
    "Сохраним для дальнейших вычислений нужные нам значения:  \n",
    "- `COST_PRICE` - себестоимость разработки одной скважины;  \n",
    "- `WELLS_COUNT` - количество планируемых скважин в регионе;  \n",
    "- `BARREL_PROFIT` - выручка с 1 тысячи баррелей нефти."
   ]
  },
  {
   "cell_type": "code",
   "execution_count": 13,
   "metadata": {},
   "outputs": [
    {
     "data": {
      "text/plain": [
       "111.11111111111111"
      ]
     },
     "execution_count": 13,
     "metadata": {},
     "output_type": "execute_result"
    }
   ],
   "source": [
    "need_barrels = COST_PRICE / BARREL_PROFIT\n",
    "need_barrels"
   ]
  },
  {
   "cell_type": "markdown",
   "metadata": {},
   "source": [
    "Путём нехитрых вычислений мы определили, что для окупаемости в каждой скважине запас сырья должен быть более 111 тысяч баррелей. На данный момент это выглядит неутешительно, потому что модель прогнозировала средний запас сырья на сильно меньшем уровне. Ситуация может измениться, покольку нас интересуют не все скважины подряд, а только 200 лучших. Посмотрим, какую суммарную прибыль с региона удастся получить в таком случае."
   ]
  },
  {
   "cell_type": "code",
   "execution_count": 14,
   "metadata": {},
   "outputs": [],
   "source": [
    "def profit_calc (predictions_500, y_valid):\n",
    "    \n",
    "    target = y_valid.reset_index(drop=True)\n",
    "    top_wells = predictions_500.sort_values(ascending=False)[:200]\n",
    "    product = target[top_wells.index].sum()\n",
    "    region_profit = (product * BARREL_PROFIT) - (200 * COST_PRICE)\n",
    "    return region_profit"
   ]
  },
  {
   "cell_type": "code",
   "execution_count": 15,
   "metadata": {},
   "outputs": [],
   "source": [
    "def bootstrap (predictions, y_valid):\n",
    "    \n",
    "    profit_values = []\n",
    "    state = RandomState(12345)\n",
    "    \n",
    "    for i in range(1000):\n",
    "        bootstrap_sample = predictions.sample(frac=.02, random_state=state)\n",
    "        profit_values.append(profit_calc(bootstrap_sample, y_valid))\n",
    "        \n",
    "    return profit_values"
   ]
  },
  {
   "cell_type": "code",
   "execution_count": 16,
   "metadata": {},
   "outputs": [],
   "source": [
    "def show_profit (predictions, y_valid, region_name):\n",
    "    \n",
    "    profit_values = bootstrap(predictions, y_valid)\n",
    "    \n",
    "    print('Распределение прибыли для региона {}:'.format(region_name))\n",
    "    profit_values = pd.Series(profit_values)\n",
    "    profit_values.hist(bins=40)\n",
    "    plt.show()\n",
    "    confidence_interval = (profit_values.quantile(0.025), profit_values.quantile(0.975)) \n",
    "    risk = (profit_values < 0).mean()\n",
    "    print('Средняя прибыль:', profit_values.mean())\n",
    "    print('95% доверительный интервал:', confidence_interval)\n",
    "    print('Вероятность убытков:', risk)\n",
    "    print('\\n\\n')"
   ]
  },
  {
   "cell_type": "markdown",
   "metadata": {},
   "source": [
    "В функции `profit_calc` производится расчёт прибыли для одного региона. В качестве параметров ей необходимо передать 500 случайных предсказаний и весь список правильных ответов. Функция выберет из этих 500 лучшие 200, затем по индексам найдёт соответствующие значения целевого признака, просуммирует их, домножит на прибыль с одного барреля, и из этого результата вычтет себестоимость. Результатом будет значение прибыли, которое функция вернёт обратно.  \n",
    "\n",
    "Функция `bootstrap` отвечает за отбор тысячи выборок по 500 значений из списка предсказаний методом бутстрепа. На вход она принимает полный список предсказаний и полный список правильных ответов. В процессе работы вызывается функция `profit_calc`, а в конце `bootstrap` возвращает список из 1000 значений общего количества сырья, добытого на 200 выбранных скважинах.  \n",
    "\n",
    "В функции `show_profit` производится рассчёт оставшихся значений - риска убытков и доверительного интервала. Также, эта функция строит график распределения прибыли и выводит все данные на экран. В качетсве параметров она принимает все предсказания, полученные от модели, целевой признак и номер (или название) региона. "
   ]
  },
  {
   "cell_type": "code",
   "execution_count": 17,
   "metadata": {},
   "outputs": [
    {
     "name": "stdout",
     "output_type": "stream",
     "text": [
      "Распределение прибыли для региона 1:\n"
     ]
    },
    {
     "data": {
      "image/png": "[encoded data removed]",
      "text/plain": [
       "<Figure size 432x288 with 1 Axes>"
      ]
     },
     "metadata": {
      "needs_background": "light"
     },
     "output_type": "display_data"
    },
    {
     "name": "stdout",
     "output_type": "stream",
     "text": [
      "Средняя прибыль: 489535789.67665374\n",
      "95% доверительный интервал: (5488073.137087633, 975341333.8473293)\n",
      "Вероятность убытков: 0.023\n",
      "\n",
      "\n",
      "\n",
      "Распределение прибыли для региона 2:\n"
     ]
    },
    {
     "data": {
      "image/png": "[encoded data removed]",
      "text/plain": [
       "<Figure size 432x288 with 1 Axes>"
      ]
     },
     "metadata": {
      "needs_background": "light"
     },
     "output_type": "display_data"
    },
    {
     "name": "stdout",
     "output_type": "stream",
     "text": [
      "Средняя прибыль: 480266280.61365503\n",
      "95% доверительный интервал: (56016519.85845819, 883184110.9914954)\n",
      "Вероятность убытков: 0.014\n",
      "\n",
      "\n",
      "\n",
      "Распределение прибыли для региона 3:\n"
     ]
    },
    {
     "data": {
      "image/png": "[encoded data removed]",
      "text/plain": [
       "<Figure size 432x288 with 1 Axes>"
      ]
     },
     "metadata": {
      "needs_background": "light"
     },
     "output_type": "display_data"
    },
    {
     "name": "stdout",
     "output_type": "stream",
     "text": [
      "Средняя прибыль: 343633351.97811216\n",
      "95% доверительный интервал: (-174144636.06687534, 856751050.5026959)\n",
      "Вероятность убытков: 0.091\n",
      "\n",
      "\n",
      "\n"
     ]
    }
   ],
   "source": [
    "show_profit(predictions_0, y_valid_0, 1)\n",
    "show_profit(predictions_1, y_valid_1, 2)\n",
    "show_profit(predictions_2, y_valid_2, 3)"
   ]
  },
  {
   "cell_type": "markdown",
   "metadata": {},
   "source": [
    "### Вывод"
   ]
  },
  {
   "cell_type": "markdown",
   "metadata": {},
   "source": [
    "В результате работы функции мы получили три графика с нормальным распределением, как и ожидалось. Самое большое значение прогнозируемой средней прибыли получилось у региона №1 - 489 млн, с риском убытков в 2.3%, что на грани фола по условию задачи. Сразу за ним идёт регион №2 с прогонозируемой прибылью в 480 млн, но здесь уже веротяность убытка 1.4%, что гораздо приятнее. Последний, третий регион, показал худшие значения: прибыль 343 млн, при вероятности убытков в 9.1%, при этом отрицательная прибыль даже попала в границы 95% доверительного интервала."
   ]
  },
  {
   "cell_type": "markdown",
   "metadata": {},
   "source": [
    "## Общий вывод "
   ]
  },
  {
   "cell_type": "markdown",
   "metadata": {},
   "source": [
    "Исходя из условий задачи, мы не можем рассматривать регионы с риском убытков более 2.4%, поэтому регион №3 сразу нам не подходит. Остаются регионы 1 и 2, у которых прибыль примерно на одном уровне (489 млн и 480 млн соответственно), но у них разный риск провала. Так, в регионе №1 потенциально можно получить немного бóльшую прибыль, однако и риск убытка там больше в 1.6 раза. Также стоит вспомнить, что модель, которая строила предсказания по объёму запаса сырья, меньше всего ошибалась именно в регионе №2. Строго говоря, она в нём почти не ошибалась, в то время как значения для первого региона она завысила на 40.6%. Исходя из всего этого, наиболее перспективным для разработки кажется именно регион №2."
   ]
  }
 ],
 "metadata": {
  "ExecuteTimeLog": [
   {
    "duration": 1051,
    "start_time": "2022-01-29T17:00:49.417Z"
   },
   {
    "duration": 353,
    "start_time": "2022-01-29T17:00:50.470Z"
   },
   {
    "duration": 14,
    "start_time": "2022-01-29T17:00:50.825Z"
   },
   {
    "duration": 13,
    "start_time": "2022-01-29T17:00:50.841Z"
   },
   {
    "duration": 2105,
    "start_time": "2022-01-29T17:00:50.872Z"
   },
   {
    "duration": 3,
    "start_time": "2022-01-29T17:00:52.978Z"
   },
   {
    "duration": 38,
    "start_time": "2022-01-29T17:00:52.983Z"
   },
   {
    "duration": 7,
    "start_time": "2022-01-29T17:00:53.022Z"
   },
   {
    "duration": 5,
    "start_time": "2022-01-29T17:00:53.031Z"
   },
   {
    "duration": 334,
    "start_time": "2022-01-29T17:00:53.038Z"
   },
   {
    "duration": 3,
    "start_time": "2022-01-29T17:00:53.375Z"
   },
   {
    "duration": 4,
    "start_time": "2022-01-29T17:00:53.380Z"
   },
   {
    "duration": 5,
    "start_time": "2022-01-29T17:00:53.385Z"
   },
   {
    "duration": 1386,
    "start_time": "2022-01-29T17:00:53.392Z"
   },
   {
    "duration": 1332,
    "start_time": "2022-01-29T17:00:54.780Z"
   },
   {
    "duration": 1315,
    "start_time": "2022-01-29T17:00:56.114Z"
   },
   {
    "duration": 1077,
    "start_time": "2022-01-30T11:16:35.016Z"
   },
   {
    "duration": 354,
    "start_time": "2022-01-30T11:16:36.095Z"
   },
   {
    "duration": 13,
    "start_time": "2022-01-30T11:16:36.451Z"
   },
   {
    "duration": 21,
    "start_time": "2022-01-30T11:16:36.465Z"
   },
   {
    "duration": 2034,
    "start_time": "2022-01-30T11:16:36.487Z"
   },
   {
    "duration": 3,
    "start_time": "2022-01-30T11:16:38.523Z"
   },
   {
    "duration": 48,
    "start_time": "2022-01-30T11:16:38.527Z"
   },
   {
    "duration": 7,
    "start_time": "2022-01-30T11:16:38.576Z"
   },
   {
    "duration": 4,
    "start_time": "2022-01-30T11:16:38.585Z"
   },
   {
    "duration": 185,
    "start_time": "2022-01-30T11:16:38.590Z"
   },
   {
    "duration": 3,
    "start_time": "2022-01-30T11:16:38.776Z"
   },
   {
    "duration": 95,
    "start_time": "2022-01-30T11:16:38.781Z"
   },
   {
    "duration": 6,
    "start_time": "2022-01-30T11:16:38.878Z"
   },
   {
    "duration": 4068,
    "start_time": "2022-01-30T11:16:38.886Z"
   },
   {
    "duration": 3879,
    "start_time": "2022-01-30T12:20:08.552Z"
   },
   {
    "duration": 39,
    "start_time": "2022-01-30T12:27:29.810Z"
   },
   {
    "duration": 29,
    "start_time": "2022-01-30T12:28:20.100Z"
   },
   {
    "duration": 3,
    "start_time": "2022-01-30T12:41:40.229Z"
   },
   {
    "duration": 338,
    "start_time": "2022-01-30T12:41:40.234Z"
   },
   {
    "duration": 13,
    "start_time": "2022-01-30T12:41:40.574Z"
   },
   {
    "duration": 13,
    "start_time": "2022-01-30T12:41:40.589Z"
   },
   {
    "duration": 2061,
    "start_time": "2022-01-30T12:41:40.603Z"
   },
   {
    "duration": 40,
    "start_time": "2022-01-30T12:41:42.666Z"
   },
   {
    "duration": 3,
    "start_time": "2022-01-30T12:41:42.708Z"
   },
   {
    "duration": 66,
    "start_time": "2022-01-30T12:41:42.713Z"
   },
   {
    "duration": 9,
    "start_time": "2022-01-30T12:41:42.783Z"
   },
   {
    "duration": 3,
    "start_time": "2022-01-30T12:41:42.794Z"
   },
   {
    "duration": 174,
    "start_time": "2022-01-30T12:41:42.799Z"
   },
   {
    "duration": 7,
    "start_time": "2022-01-30T12:41:42.975Z"
   },
   {
    "duration": 93,
    "start_time": "2022-01-30T12:41:42.983Z"
   },
   {
    "duration": 6,
    "start_time": "2022-01-30T12:41:43.077Z"
   },
   {
    "duration": 4015,
    "start_time": "2022-01-30T12:41:43.084Z"
   },
   {
    "duration": 9,
    "start_time": "2022-01-31T08:41:24.529Z"
   },
   {
    "duration": 1478,
    "start_time": "2022-01-31T08:41:30.402Z"
   },
   {
    "duration": 468,
    "start_time": "2022-01-31T08:41:31.883Z"
   },
   {
    "duration": 22,
    "start_time": "2022-01-31T08:41:32.354Z"
   },
   {
    "duration": 22,
    "start_time": "2022-01-31T08:41:32.379Z"
   },
   {
    "duration": 3780,
    "start_time": "2022-01-31T08:41:32.403Z"
   },
   {
    "duration": 64,
    "start_time": "2022-01-31T08:41:36.186Z"
   },
   {
    "duration": 5,
    "start_time": "2022-01-31T08:41:36.252Z"
   },
   {
    "duration": 59,
    "start_time": "2022-01-31T08:41:36.259Z"
   },
   {
    "duration": 20,
    "start_time": "2022-01-31T08:41:36.321Z"
   },
   {
    "duration": 5,
    "start_time": "2022-01-31T08:41:36.343Z"
   },
   {
    "duration": 288,
    "start_time": "2022-01-31T08:41:36.350Z"
   },
   {
    "duration": 92,
    "start_time": "2022-01-31T08:41:36.642Z"
   },
   {
    "duration": 101,
    "start_time": "2022-01-31T08:41:36.737Z"
   },
   {
    "duration": 11,
    "start_time": "2022-01-31T08:41:36.841Z"
   },
   {
    "duration": 7049,
    "start_time": "2022-01-31T08:41:36.854Z"
   },
   {
    "duration": 464,
    "start_time": "2022-01-31T11:07:21.697Z"
   },
   {
    "duration": 260,
    "start_time": "2022-01-31T11:07:37.781Z"
   },
   {
    "duration": 265,
    "start_time": "2022-01-31T11:07:56.313Z"
   },
   {
    "duration": 13,
    "start_time": "2022-01-31T11:08:03.123Z"
   },
   {
    "duration": 15,
    "start_time": "2022-01-31T11:08:16.203Z"
   },
   {
    "duration": 7,
    "start_time": "2022-01-31T11:08:30.929Z"
   },
   {
    "duration": 264,
    "start_time": "2022-01-31T11:08:38.210Z"
   },
   {
    "duration": 5,
    "start_time": "2022-01-31T11:08:40.463Z"
   },
   {
    "duration": 8,
    "start_time": "2022-01-31T11:09:26.044Z"
   },
   {
    "duration": 248,
    "start_time": "2022-01-31T11:10:17.010Z"
   },
   {
    "duration": 12,
    "start_time": "2022-01-31T11:10:23.249Z"
   },
   {
    "duration": 26,
    "start_time": "2022-01-31T11:11:36.906Z"
   },
   {
    "duration": 10,
    "start_time": "2022-01-31T11:12:01.301Z"
   },
   {
    "duration": 5,
    "start_time": "2022-01-31T11:15:03.114Z"
   },
   {
    "duration": 459,
    "start_time": "2022-01-31T11:15:03.122Z"
   },
   {
    "duration": 23,
    "start_time": "2022-01-31T11:15:03.584Z"
   },
   {
    "duration": 23,
    "start_time": "2022-01-31T11:15:03.633Z"
   },
   {
    "duration": 3889,
    "start_time": "2022-01-31T11:15:03.658Z"
   },
   {
    "duration": 49,
    "start_time": "2022-01-31T11:15:07.550Z"
   },
   {
    "duration": 5,
    "start_time": "2022-01-31T11:15:07.601Z"
   },
   {
    "duration": 67,
    "start_time": "2022-01-31T11:15:07.608Z"
   },
   {
    "duration": 11,
    "start_time": "2022-01-31T11:15:07.679Z"
   },
   {
    "duration": 6,
    "start_time": "2022-01-31T11:15:07.693Z"
   },
   {
    "duration": 210,
    "start_time": "2022-01-31T11:15:07.732Z"
   },
   {
    "duration": 91,
    "start_time": "2022-01-31T11:15:07.945Z"
   },
   {
    "duration": 95,
    "start_time": "2022-01-31T11:15:08.040Z"
   },
   {
    "duration": 20,
    "start_time": "2022-01-31T11:15:08.138Z"
   },
   {
    "duration": 255,
    "start_time": "2022-01-31T11:16:02.598Z"
   },
   {
    "duration": 9,
    "start_time": "2022-01-31T11:16:18.358Z"
   },
   {
    "duration": 10,
    "start_time": "2022-01-31T11:16:28.953Z"
   },
   {
    "duration": 11,
    "start_time": "2022-01-31T11:16:58.411Z"
   },
   {
    "duration": 11,
    "start_time": "2022-01-31T11:17:09.773Z"
   },
   {
    "duration": 6,
    "start_time": "2022-01-31T11:24:29.487Z"
   },
   {
    "duration": 6,
    "start_time": "2022-01-31T11:24:47.659Z"
   },
   {
    "duration": 17,
    "start_time": "2022-01-31T11:30:59.042Z"
   },
   {
    "duration": 5,
    "start_time": "2022-01-31T11:38:28.489Z"
   },
   {
    "duration": 8,
    "start_time": "2022-01-31T11:38:33.977Z"
   },
   {
    "duration": 11456,
    "start_time": "2022-01-31T11:39:17.224Z"
   },
   {
    "duration": 7,
    "start_time": "2022-01-31T11:44:30.323Z"
   },
   {
    "duration": 4325,
    "start_time": "2022-01-31T11:44:32.659Z"
   },
   {
    "duration": 7,
    "start_time": "2022-01-31T11:50:29.777Z"
   },
   {
    "duration": 11589,
    "start_time": "2022-01-31T11:50:33.895Z"
   },
   {
    "duration": 6,
    "start_time": "2022-01-31T12:03:39.068Z"
   },
   {
    "duration": 6,
    "start_time": "2022-01-31T12:03:43.809Z"
   },
   {
    "duration": 10863,
    "start_time": "2022-01-31T12:04:10.754Z"
   },
   {
    "duration": 5,
    "start_time": "2022-01-31T12:31:37.617Z"
   },
   {
    "duration": 4,
    "start_time": "2022-01-31T12:31:37.901Z"
   },
   {
    "duration": 6,
    "start_time": "2022-01-31T12:31:38.102Z"
   },
   {
    "duration": 11900,
    "start_time": "2022-01-31T12:31:43.045Z"
   },
   {
    "duration": 1584,
    "start_time": "2022-01-31T12:47:35.441Z"
   },
   {
    "duration": 530,
    "start_time": "2022-01-31T12:47:37.028Z"
   },
   {
    "duration": 31,
    "start_time": "2022-01-31T12:47:37.562Z"
   },
   {
    "duration": 59,
    "start_time": "2022-01-31T12:47:37.596Z"
   },
   {
    "duration": 4203,
    "start_time": "2022-01-31T12:47:37.657Z"
   },
   {
    "duration": 51,
    "start_time": "2022-01-31T12:47:41.863Z"
   },
   {
    "duration": 23,
    "start_time": "2022-01-31T12:47:41.916Z"
   },
   {
    "duration": 71,
    "start_time": "2022-01-31T12:47:41.941Z"
   },
   {
    "duration": 20,
    "start_time": "2022-01-31T12:47:42.014Z"
   },
   {
    "duration": 5,
    "start_time": "2022-01-31T12:47:42.053Z"
   },
   {
    "duration": 196,
    "start_time": "2022-01-31T12:47:42.061Z"
   },
   {
    "duration": 73,
    "start_time": "2022-01-31T12:47:42.260Z"
   },
   {
    "duration": 117,
    "start_time": "2022-01-31T12:47:42.336Z"
   },
   {
    "duration": 17,
    "start_time": "2022-01-31T12:47:42.455Z"
   },
   {
    "duration": 34,
    "start_time": "2022-01-31T12:47:42.475Z"
   },
   {
    "duration": 21,
    "start_time": "2022-01-31T12:47:42.511Z"
   },
   {
    "duration": 13358,
    "start_time": "2022-01-31T12:47:42.534Z"
   }
  ],
  "kernelspec": {
   "display_name": "Python 3",
   "language": "python",
   "name": "python3"
  },
  "language_info": {
   "codemirror_mode": {
    "name": "ipython",
    "version": 3
   },
   "file_extension": ".py",
   "mimetype": "text/x-python",
   "name": "python",
   "nbconvert_exporter": "python",
   "pygments_lexer": "ipython3",
   "version": "3.8.8"
  },
  "toc": {
   "base_numbering": 1,
   "nav_menu": {},
   "number_sections": true,
   "sideBar": true,
   "skip_h1_title": true,
   "title_cell": "Содержание",
   "title_sidebar": "Содержание",
   "toc_cell": true,
   "toc_position": {},
   "toc_section_display": true,
   "toc_window_display": true
  }
 },
 "nbformat": 4,
 "nbformat_minor": 2
}
